{
 "cells": [
  {
   "cell_type": "code",
   "execution_count": 3,
   "metadata": {},
   "outputs": [],
   "source": [
    "import plotly.express as px\n",
    "from plotly.subplots import make_subplots\n",
    "import plotly.graph_objects as go\n",
    "import pandas as pd"
   ]
  },
  {
   "cell_type": "code",
   "execution_count": 4,
   "metadata": {},
   "outputs": [],
   "source": [
    "model_result_root_dir = '../HetGNN/model_save_clean_mean'\n",
    "data_root_dir = '../HetGNN/ProcessedData_clean'\n",
    "model_eval_freq = 2\n",
    "num_eval = 100"
   ]
  },
  {
   "cell_type": "code",
   "execution_count": 12,
   "metadata": {},
   "outputs": [
    {
     "ename": "NameError",
     "evalue": "name 'model' is not defined",
     "output_type": "error",
     "traceback": [
      "\u001b[0;31m---------------------------------------------------------------------------\u001b[0m",
      "\u001b[0;31mNameError\u001b[0m                                 Traceback (most recent call last)",
      "\u001b[0;32m~/Documents/study/code_repo/DeepTraLog/notebooks/processing_init.py\u001b[0m in \u001b[0;36m<module>\u001b[0;34m\u001b[0m\n\u001b[1;32m     56\u001b[0m     \u001b[0m_score\u001b[0m \u001b[0;34m=\u001b[0m \u001b[0mmodel\u001b[0m\u001b[0;34m.\u001b[0m\u001b[0mpredict_score\u001b[0m\u001b[0;34m(\u001b[0m\u001b[0mgraph_node_feature\u001b[0m\u001b[0;34m,\u001b[0m \u001b[0mgraph_het_feature\u001b[0m\u001b[0;34m,\u001b[0m \u001b[0mgraph_node_types\u001b[0m\u001b[0;34m)\u001b[0m\u001b[0;34m.\u001b[0m\u001b[0mcpu\u001b[0m\u001b[0;34m(\u001b[0m\u001b[0;34m)\u001b[0m\u001b[0;34m.\u001b[0m\u001b[0mdetach\u001b[0m\u001b[0;34m(\u001b[0m\u001b[0;34m)\u001b[0m\u001b[0;34m.\u001b[0m\u001b[0mnumpy\u001b[0m\u001b[0;34m(\u001b[0m\u001b[0;34m)\u001b[0m\u001b[0;34m\u001b[0m\u001b[0;34m\u001b[0m\u001b[0m\n\u001b[1;32m     57\u001b[0m     \u001b[0;32mreturn\u001b[0m \u001b[0m_out\u001b[0m\u001b[0;34m,\u001b[0m \u001b[0m_score\u001b[0m\u001b[0;34m\u001b[0m\u001b[0;34m\u001b[0m\u001b[0m\n\u001b[0;32m---> 58\u001b[0;31m \u001b[0mmodel_output\u001b[0m\u001b[0;34m(\u001b[0m\u001b[0mmodel\u001b[0m\u001b[0;34m,\u001b[0m \u001b[0mdataset\u001b[0m\u001b[0;34m[\u001b[0m\u001b[0;36m0\u001b[0m\u001b[0;34m]\u001b[0m\u001b[0;34m)\u001b[0m\u001b[0;34m\u001b[0m\u001b[0;34m\u001b[0m\u001b[0m\n\u001b[0m",
      "\u001b[0;31mNameError\u001b[0m: name 'model' is not defined"
     ]
    }
   ],
   "source": [
    "%run processing_init.py"
   ]
  },
  {
   "cell_type": "code",
   "execution_count": 7,
   "metadata": {},
   "outputs": [
    {
     "data": {
      "application/vnd.plotly.v1+json": {
       "config": {
        "plotlyServerURL": "https://plot.ly"
       },
       "data": [
        {
         "mode": "lines",
         "name": "AUC",
         "type": "scatter",
         "x": [
          0,
          2,
          4,
          6
         ],
         "xaxis": "x",
         "y": [
          0.5171875,
          0.5140625,
          0.5196875,
          0.5140625
         ],
         "yaxis": "y"
        },
        {
         "mode": "lines",
         "name": "AP",
         "type": "scatter",
         "x": [
          0,
          2,
          4,
          6
         ],
         "xaxis": "x",
         "y": [
          0.2121261883936568,
          0.2176561461996017,
          0.2239679725086392,
          0.2127897124499594
         ],
         "yaxis": "y"
        },
        {
         "mode": "lines",
         "name": "avg_metric",
         "type": "scatter",
         "x": [
          0,
          2,
          4,
          6
         ],
         "xaxis": "x",
         "y": [
          0.3646568441968284,
          0.36585932309980085,
          0.3718277362543196,
          0.3634261062249797
         ],
         "yaxis": "y"
        },
        {
         "mode": "lines",
         "name": "loss",
         "type": "scatter",
         "x": [
          0,
          1,
          2,
          3,
          4,
          5,
          6
         ],
         "xaxis": "x",
         "y": [
          0.1016785353422164,
          0.1016064435243606,
          0.1015345975756645,
          0.1014629676938057,
          0.1013915687799453,
          0.1013203486800193,
          0.1012493073940277
         ],
         "yaxis": "y2"
        }
       ],
       "layout": {
        "template": {
         "data": {
          "bar": [
           {
            "error_x": {
             "color": "#2a3f5f"
            },
            "error_y": {
             "color": "#2a3f5f"
            },
            "marker": {
             "line": {
              "color": "#E5ECF6",
              "width": 0.5
             },
             "pattern": {
              "fillmode": "overlay",
              "size": 10,
              "solidity": 0.2
             }
            },
            "type": "bar"
           }
          ],
          "barpolar": [
           {
            "marker": {
             "line": {
              "color": "#E5ECF6",
              "width": 0.5
             },
             "pattern": {
              "fillmode": "overlay",
              "size": 10,
              "solidity": 0.2
             }
            },
            "type": "barpolar"
           }
          ],
          "carpet": [
           {
            "aaxis": {
             "endlinecolor": "#2a3f5f",
             "gridcolor": "white",
             "linecolor": "white",
             "minorgridcolor": "white",
             "startlinecolor": "#2a3f5f"
            },
            "baxis": {
             "endlinecolor": "#2a3f5f",
             "gridcolor": "white",
             "linecolor": "white",
             "minorgridcolor": "white",
             "startlinecolor": "#2a3f5f"
            },
            "type": "carpet"
           }
          ],
          "choropleth": [
           {
            "colorbar": {
             "outlinewidth": 0,
             "ticks": ""
            },
            "type": "choropleth"
           }
          ],
          "contour": [
           {
            "colorbar": {
             "outlinewidth": 0,
             "ticks": ""
            },
            "colorscale": [
             [
              0,
              "#0d0887"
             ],
             [
              0.1111111111111111,
              "#46039f"
             ],
             [
              0.2222222222222222,
              "#7201a8"
             ],
             [
              0.3333333333333333,
              "#9c179e"
             ],
             [
              0.4444444444444444,
              "#bd3786"
             ],
             [
              0.5555555555555556,
              "#d8576b"
             ],
             [
              0.6666666666666666,
              "#ed7953"
             ],
             [
              0.7777777777777778,
              "#fb9f3a"
             ],
             [
              0.8888888888888888,
              "#fdca26"
             ],
             [
              1,
              "#f0f921"
             ]
            ],
            "type": "contour"
           }
          ],
          "contourcarpet": [
           {
            "colorbar": {
             "outlinewidth": 0,
             "ticks": ""
            },
            "type": "contourcarpet"
           }
          ],
          "heatmap": [
           {
            "colorbar": {
             "outlinewidth": 0,
             "ticks": ""
            },
            "colorscale": [
             [
              0,
              "#0d0887"
             ],
             [
              0.1111111111111111,
              "#46039f"
             ],
             [
              0.2222222222222222,
              "#7201a8"
             ],
             [
              0.3333333333333333,
              "#9c179e"
             ],
             [
              0.4444444444444444,
              "#bd3786"
             ],
             [
              0.5555555555555556,
              "#d8576b"
             ],
             [
              0.6666666666666666,
              "#ed7953"
             ],
             [
              0.7777777777777778,
              "#fb9f3a"
             ],
             [
              0.8888888888888888,
              "#fdca26"
             ],
             [
              1,
              "#f0f921"
             ]
            ],
            "type": "heatmap"
           }
          ],
          "heatmapgl": [
           {
            "colorbar": {
             "outlinewidth": 0,
             "ticks": ""
            },
            "colorscale": [
             [
              0,
              "#0d0887"
             ],
             [
              0.1111111111111111,
              "#46039f"
             ],
             [
              0.2222222222222222,
              "#7201a8"
             ],
             [
              0.3333333333333333,
              "#9c179e"
             ],
             [
              0.4444444444444444,
              "#bd3786"
             ],
             [
              0.5555555555555556,
              "#d8576b"
             ],
             [
              0.6666666666666666,
              "#ed7953"
             ],
             [
              0.7777777777777778,
              "#fb9f3a"
             ],
             [
              0.8888888888888888,
              "#fdca26"
             ],
             [
              1,
              "#f0f921"
             ]
            ],
            "type": "heatmapgl"
           }
          ],
          "histogram": [
           {
            "marker": {
             "pattern": {
              "fillmode": "overlay",
              "size": 10,
              "solidity": 0.2
             }
            },
            "type": "histogram"
           }
          ],
          "histogram2d": [
           {
            "colorbar": {
             "outlinewidth": 0,
             "ticks": ""
            },
            "colorscale": [
             [
              0,
              "#0d0887"
             ],
             [
              0.1111111111111111,
              "#46039f"
             ],
             [
              0.2222222222222222,
              "#7201a8"
             ],
             [
              0.3333333333333333,
              "#9c179e"
             ],
             [
              0.4444444444444444,
              "#bd3786"
             ],
             [
              0.5555555555555556,
              "#d8576b"
             ],
             [
              0.6666666666666666,
              "#ed7953"
             ],
             [
              0.7777777777777778,
              "#fb9f3a"
             ],
             [
              0.8888888888888888,
              "#fdca26"
             ],
             [
              1,
              "#f0f921"
             ]
            ],
            "type": "histogram2d"
           }
          ],
          "histogram2dcontour": [
           {
            "colorbar": {
             "outlinewidth": 0,
             "ticks": ""
            },
            "colorscale": [
             [
              0,
              "#0d0887"
             ],
             [
              0.1111111111111111,
              "#46039f"
             ],
             [
              0.2222222222222222,
              "#7201a8"
             ],
             [
              0.3333333333333333,
              "#9c179e"
             ],
             [
              0.4444444444444444,
              "#bd3786"
             ],
             [
              0.5555555555555556,
              "#d8576b"
             ],
             [
              0.6666666666666666,
              "#ed7953"
             ],
             [
              0.7777777777777778,
              "#fb9f3a"
             ],
             [
              0.8888888888888888,
              "#fdca26"
             ],
             [
              1,
              "#f0f921"
             ]
            ],
            "type": "histogram2dcontour"
           }
          ],
          "mesh3d": [
           {
            "colorbar": {
             "outlinewidth": 0,
             "ticks": ""
            },
            "type": "mesh3d"
           }
          ],
          "parcoords": [
           {
            "line": {
             "colorbar": {
              "outlinewidth": 0,
              "ticks": ""
             }
            },
            "type": "parcoords"
           }
          ],
          "pie": [
           {
            "automargin": true,
            "type": "pie"
           }
          ],
          "scatter": [
           {
            "fillpattern": {
             "fillmode": "overlay",
             "size": 10,
             "solidity": 0.2
            },
            "type": "scatter"
           }
          ],
          "scatter3d": [
           {
            "line": {
             "colorbar": {
              "outlinewidth": 0,
              "ticks": ""
             }
            },
            "marker": {
             "colorbar": {
              "outlinewidth": 0,
              "ticks": ""
             }
            },
            "type": "scatter3d"
           }
          ],
          "scattercarpet": [
           {
            "marker": {
             "colorbar": {
              "outlinewidth": 0,
              "ticks": ""
             }
            },
            "type": "scattercarpet"
           }
          ],
          "scattergeo": [
           {
            "marker": {
             "colorbar": {
              "outlinewidth": 0,
              "ticks": ""
             }
            },
            "type": "scattergeo"
           }
          ],
          "scattergl": [
           {
            "marker": {
             "colorbar": {
              "outlinewidth": 0,
              "ticks": ""
             }
            },
            "type": "scattergl"
           }
          ],
          "scattermapbox": [
           {
            "marker": {
             "colorbar": {
              "outlinewidth": 0,
              "ticks": ""
             }
            },
            "type": "scattermapbox"
           }
          ],
          "scatterpolar": [
           {
            "marker": {
             "colorbar": {
              "outlinewidth": 0,
              "ticks": ""
             }
            },
            "type": "scatterpolar"
           }
          ],
          "scatterpolargl": [
           {
            "marker": {
             "colorbar": {
              "outlinewidth": 0,
              "ticks": ""
             }
            },
            "type": "scatterpolargl"
           }
          ],
          "scatterternary": [
           {
            "marker": {
             "colorbar": {
              "outlinewidth": 0,
              "ticks": ""
             }
            },
            "type": "scatterternary"
           }
          ],
          "surface": [
           {
            "colorbar": {
             "outlinewidth": 0,
             "ticks": ""
            },
            "colorscale": [
             [
              0,
              "#0d0887"
             ],
             [
              0.1111111111111111,
              "#46039f"
             ],
             [
              0.2222222222222222,
              "#7201a8"
             ],
             [
              0.3333333333333333,
              "#9c179e"
             ],
             [
              0.4444444444444444,
              "#bd3786"
             ],
             [
              0.5555555555555556,
              "#d8576b"
             ],
             [
              0.6666666666666666,
              "#ed7953"
             ],
             [
              0.7777777777777778,
              "#fb9f3a"
             ],
             [
              0.8888888888888888,
              "#fdca26"
             ],
             [
              1,
              "#f0f921"
             ]
            ],
            "type": "surface"
           }
          ],
          "table": [
           {
            "cells": {
             "fill": {
              "color": "#EBF0F8"
             },
             "line": {
              "color": "white"
             }
            },
            "header": {
             "fill": {
              "color": "#C8D4E3"
             },
             "line": {
              "color": "white"
             }
            },
            "type": "table"
           }
          ]
         },
         "layout": {
          "annotationdefaults": {
           "arrowcolor": "#2a3f5f",
           "arrowhead": 0,
           "arrowwidth": 1
          },
          "autotypenumbers": "strict",
          "coloraxis": {
           "colorbar": {
            "outlinewidth": 0,
            "ticks": ""
           }
          },
          "colorscale": {
           "diverging": [
            [
             0,
             "#8e0152"
            ],
            [
             0.1,
             "#c51b7d"
            ],
            [
             0.2,
             "#de77ae"
            ],
            [
             0.3,
             "#f1b6da"
            ],
            [
             0.4,
             "#fde0ef"
            ],
            [
             0.5,
             "#f7f7f7"
            ],
            [
             0.6,
             "#e6f5d0"
            ],
            [
             0.7,
             "#b8e186"
            ],
            [
             0.8,
             "#7fbc41"
            ],
            [
             0.9,
             "#4d9221"
            ],
            [
             1,
             "#276419"
            ]
           ],
           "sequential": [
            [
             0,
             "#0d0887"
            ],
            [
             0.1111111111111111,
             "#46039f"
            ],
            [
             0.2222222222222222,
             "#7201a8"
            ],
            [
             0.3333333333333333,
             "#9c179e"
            ],
            [
             0.4444444444444444,
             "#bd3786"
            ],
            [
             0.5555555555555556,
             "#d8576b"
            ],
            [
             0.6666666666666666,
             "#ed7953"
            ],
            [
             0.7777777777777778,
             "#fb9f3a"
            ],
            [
             0.8888888888888888,
             "#fdca26"
            ],
            [
             1,
             "#f0f921"
            ]
           ],
           "sequentialminus": [
            [
             0,
             "#0d0887"
            ],
            [
             0.1111111111111111,
             "#46039f"
            ],
            [
             0.2222222222222222,
             "#7201a8"
            ],
            [
             0.3333333333333333,
             "#9c179e"
            ],
            [
             0.4444444444444444,
             "#bd3786"
            ],
            [
             0.5555555555555556,
             "#d8576b"
            ],
            [
             0.6666666666666666,
             "#ed7953"
            ],
            [
             0.7777777777777778,
             "#fb9f3a"
            ],
            [
             0.8888888888888888,
             "#fdca26"
            ],
            [
             1,
             "#f0f921"
            ]
           ]
          },
          "colorway": [
           "#636efa",
           "#EF553B",
           "#00cc96",
           "#ab63fa",
           "#FFA15A",
           "#19d3f3",
           "#FF6692",
           "#B6E880",
           "#FF97FF",
           "#FECB52"
          ],
          "font": {
           "color": "#2a3f5f"
          },
          "geo": {
           "bgcolor": "white",
           "lakecolor": "white",
           "landcolor": "#E5ECF6",
           "showlakes": true,
           "showland": true,
           "subunitcolor": "white"
          },
          "hoverlabel": {
           "align": "left"
          },
          "hovermode": "closest",
          "mapbox": {
           "style": "light"
          },
          "paper_bgcolor": "white",
          "plot_bgcolor": "#E5ECF6",
          "polar": {
           "angularaxis": {
            "gridcolor": "white",
            "linecolor": "white",
            "ticks": ""
           },
           "bgcolor": "#E5ECF6",
           "radialaxis": {
            "gridcolor": "white",
            "linecolor": "white",
            "ticks": ""
           }
          },
          "scene": {
           "xaxis": {
            "backgroundcolor": "#E5ECF6",
            "gridcolor": "white",
            "gridwidth": 2,
            "linecolor": "white",
            "showbackground": true,
            "ticks": "",
            "zerolinecolor": "white"
           },
           "yaxis": {
            "backgroundcolor": "#E5ECF6",
            "gridcolor": "white",
            "gridwidth": 2,
            "linecolor": "white",
            "showbackground": true,
            "ticks": "",
            "zerolinecolor": "white"
           },
           "zaxis": {
            "backgroundcolor": "#E5ECF6",
            "gridcolor": "white",
            "gridwidth": 2,
            "linecolor": "white",
            "showbackground": true,
            "ticks": "",
            "zerolinecolor": "white"
           }
          },
          "shapedefaults": {
           "line": {
            "color": "#2a3f5f"
           }
          },
          "ternary": {
           "aaxis": {
            "gridcolor": "white",
            "linecolor": "white",
            "ticks": ""
           },
           "baxis": {
            "gridcolor": "white",
            "linecolor": "white",
            "ticks": ""
           },
           "bgcolor": "#E5ECF6",
           "caxis": {
            "gridcolor": "white",
            "linecolor": "white",
            "ticks": ""
           }
          },
          "title": {
           "x": 0.05
          },
          "xaxis": {
           "automargin": true,
           "gridcolor": "white",
           "linecolor": "white",
           "ticks": "",
           "title": {
            "standoff": 15
           },
           "zerolinecolor": "white",
           "zerolinewidth": 2
          },
          "yaxis": {
           "automargin": true,
           "gridcolor": "white",
           "linecolor": "white",
           "ticks": "",
           "title": {
            "standoff": 15
           },
           "zerolinecolor": "white",
           "zerolinewidth": 2
          }
         }
        },
        "xaxis": {
         "anchor": "y",
         "domain": [
          0,
          0.94
         ]
        },
        "yaxis": {
         "anchor": "x",
         "domain": [
          0,
          1
         ]
        },
        "yaxis2": {
         "anchor": "x",
         "overlaying": "y",
         "side": "right"
        }
       }
      }
     },
     "metadata": {},
     "output_type": "display_data"
    }
   ],
   "source": [
    "train_loss, eval_result = loss_and_eval_results(model_result_root_dir, model_eval_freq)"
   ]
  },
  {
   "cell_type": "markdown",
   "metadata": {},
   "source": [
    "## Graph Embedding"
   ]
  },
  {
   "cell_type": "code",
   "execution_count": 9,
   "metadata": {},
   "outputs": [],
   "source": [
    "%load_ext autoreload\n",
    "%autoreload 2"
   ]
  },
  {
   "cell_type": "code",
   "execution_count": 10,
   "metadata": {},
   "outputs": [],
   "source": [
    "train_gids, eval_gids, test_gids = get_train_eval_test_gids(model_result_root_dir)"
   ]
  },
  {
   "cell_type": "code",
   "execution_count": 53,
   "metadata": {},
   "outputs": [],
   "source": [
    "import sys\n",
    "sys.path.append(\"../HetGNN/code_gcn/\")\n",
    "\n",
    "from data_loader import EventGraphDataset\n",
    "from GCN import HetGCN"
   ]
  },
  {
   "cell_type": "code",
   "execution_count": 40,
   "metadata": {},
   "outputs": [
    {
     "name": "stdout",
     "output_type": "stream",
     "text": [
      "reading node features..\n",
      "done\n"
     ]
    }
   ],
   "source": [
    "dataset = EventGraphDataset(\n",
    "    f'{data_root_dir}/node_feature_norm.csv',\n",
    "    f'{data_root_dir}/graph_het_neigh_list',\n",
    "    f'{data_root_dir}/node_types.csv',\n",
    "    unzip=False\n",
    ")"
   ]
  },
  {
   "cell_type": "code",
   "execution_count": 56,
   "metadata": {},
   "outputs": [
    {
     "data": {
      "text/plain": [
       "HetGCN(\n",
       "  (fc_node_content_layers): ModuleList(\n",
       "    (0): Linear(in_features=7, out_features=7, bias=True)\n",
       "    (1): Linear(in_features=7, out_features=7, bias=True)\n",
       "    (2): Linear(in_features=7, out_features=7, bias=True)\n",
       "    (3): Linear(in_features=7, out_features=7, bias=True)\n",
       "    (4): Linear(in_features=7, out_features=7, bias=True)\n",
       "    (5): Linear(in_features=7, out_features=7, bias=True)\n",
       "    (6): Linear(in_features=7, out_features=7, bias=True)\n",
       "    (7): Linear(in_features=7, out_features=7, bias=True)\n",
       "  )\n",
       "  (fc_het_neigh_agg): Linear(in_features=63, out_features=7, bias=True)\n",
       "  (relu): LeakyReLU(negative_slope=0.01)\n",
       "  (sigmoid): Sigmoid()\n",
       ")"
      ]
     },
     "execution_count": 56,
     "metadata": {},
     "output_type": "execute_result"
    }
   ],
   "source": [
    "model = HetGCN(model_path=model_result_root_dir)\n",
    "model.load_checkpoint(30)\n",
    "model.load_svdd_center()\n",
    "\n",
    "model"
   ]
  },
  {
   "cell_type": "code",
   "execution_count": 13,
   "metadata": {},
   "outputs": [
    {
     "ename": "NameError",
     "evalue": "name 'model' is not defined",
     "output_type": "error",
     "traceback": [
      "\u001b[0;31m---------------------------------------------------------------------------\u001b[0m",
      "\u001b[0;31mNameError\u001b[0m                                 Traceback (most recent call last)",
      "\u001b[0;32m<ipython-input-13-62fb382ad1e2>\u001b[0m in \u001b[0;36m<module>\u001b[0;34m\u001b[0m\n\u001b[0;32m----> 1\u001b[0;31m \u001b[0mmodel_output\u001b[0m\u001b[0;34m(\u001b[0m\u001b[0mmodel\u001b[0m\u001b[0;34m,\u001b[0m \u001b[0mdataset\u001b[0m\u001b[0;34m[\u001b[0m\u001b[0;36m0\u001b[0m\u001b[0;34m]\u001b[0m\u001b[0;34m)\u001b[0m\u001b[0;34m\u001b[0m\u001b[0;34m\u001b[0m\u001b[0m\n\u001b[0m",
      "\u001b[0;31mNameError\u001b[0m: name 'model' is not defined"
     ]
    }
   ],
   "source": [
    "model_output(model, dataset[0])"
   ]
  },
  {
   "cell_type": "code",
   "execution_count": 58,
   "metadata": {},
   "outputs": [
    {
     "data": {
      "text/html": [
       "<div>\n",
       "<style scoped>\n",
       "    .dataframe tbody tr th:only-of-type {\n",
       "        vertical-align: middle;\n",
       "    }\n",
       "\n",
       "    .dataframe tbody tr th {\n",
       "        vertical-align: top;\n",
       "    }\n",
       "\n",
       "    .dataframe thead th {\n",
       "        text-align: right;\n",
       "    }\n",
       "</style>\n",
       "<table border=\"1\" class=\"dataframe\">\n",
       "  <thead>\n",
       "    <tr style=\"text-align: right;\">\n",
       "      <th></th>\n",
       "      <th>trace_id</th>\n",
       "      <th>trace_bool</th>\n",
       "      <th>error_trace_type</th>\n",
       "      <th>process_idx</th>\n",
       "    </tr>\n",
       "  </thead>\n",
       "  <tbody>\n",
       "    <tr>\n",
       "      <th>0</th>\n",
       "      <td>0</td>\n",
       "      <td>True</td>\n",
       "      <td>normal</td>\n",
       "      <td>0</td>\n",
       "    </tr>\n",
       "    <tr>\n",
       "      <th>1</th>\n",
       "      <td>1</td>\n",
       "      <td>True</td>\n",
       "      <td>normal</td>\n",
       "      <td>0</td>\n",
       "    </tr>\n",
       "    <tr>\n",
       "      <th>2</th>\n",
       "      <td>2</td>\n",
       "      <td>True</td>\n",
       "      <td>normal</td>\n",
       "      <td>0</td>\n",
       "    </tr>\n",
       "    <tr>\n",
       "      <th>3</th>\n",
       "      <td>3</td>\n",
       "      <td>True</td>\n",
       "      <td>normal</td>\n",
       "      <td>0</td>\n",
       "    </tr>\n",
       "    <tr>\n",
       "      <th>4</th>\n",
       "      <td>4</td>\n",
       "      <td>True</td>\n",
       "      <td>normal</td>\n",
       "      <td>0</td>\n",
       "    </tr>\n",
       "    <tr>\n",
       "      <th>...</th>\n",
       "      <td>...</td>\n",
       "      <td>...</td>\n",
       "      <td>...</td>\n",
       "      <td>...</td>\n",
       "    </tr>\n",
       "    <tr>\n",
       "      <th>132480</th>\n",
       "      <td>132480</td>\n",
       "      <td>False</td>\n",
       "      <td>F04-02</td>\n",
       "      <td>8</td>\n",
       "    </tr>\n",
       "    <tr>\n",
       "      <th>132481</th>\n",
       "      <td>132481</td>\n",
       "      <td>False</td>\n",
       "      <td>F04-02</td>\n",
       "      <td>8</td>\n",
       "    </tr>\n",
       "    <tr>\n",
       "      <th>132482</th>\n",
       "      <td>132482</td>\n",
       "      <td>False</td>\n",
       "      <td>F04-02</td>\n",
       "      <td>8</td>\n",
       "    </tr>\n",
       "    <tr>\n",
       "      <th>132483</th>\n",
       "      <td>132483</td>\n",
       "      <td>False</td>\n",
       "      <td>F04-02</td>\n",
       "      <td>8</td>\n",
       "    </tr>\n",
       "    <tr>\n",
       "      <th>132484</th>\n",
       "      <td>132484</td>\n",
       "      <td>False</td>\n",
       "      <td>F04-02</td>\n",
       "      <td>8</td>\n",
       "    </tr>\n",
       "  </tbody>\n",
       "</table>\n",
       "<p>132485 rows × 4 columns</p>\n",
       "</div>"
      ],
      "text/plain": [
       "        trace_id  trace_bool error_trace_type  process_idx\n",
       "0              0        True           normal            0\n",
       "1              1        True           normal            0\n",
       "2              2        True           normal            0\n",
       "3              3        True           normal            0\n",
       "4              4        True           normal            0\n",
       "...          ...         ...              ...          ...\n",
       "132480    132480       False           F04-02            8\n",
       "132481    132481       False           F04-02            8\n",
       "132482    132482       False           F04-02            8\n",
       "132483    132483       False           F04-02            8\n",
       "132484    132484       False           F04-02            8\n",
       "\n",
       "[132485 rows x 4 columns]"
      ]
     },
     "execution_count": 58,
     "metadata": {},
     "output_type": "execute_result"
    }
   ],
   "source": [
    "trace_info_df = load_trace_info(data_root_dir)\n",
    "trace_info_df"
   ]
  },
  {
   "cell_type": "code",
   "execution_count": 59,
   "metadata": {},
   "outputs": [],
   "source": [
    "def get_graph_results(model, gid_list, name='train', num_feature=7):\n",
    "    g_embeddings = []\n",
    "    g_scores = []\n",
    "    for gid in tqdm(gid_list):\n",
    "        _embedding, _score = model_output(model, dataset[gid])\n",
    "        g_embeddings.append(_embedding)\n",
    "        g_scores.append(_score)\n",
    "    g_embeddings = np.array(g_embeddings)\n",
    "    \n",
    "    resultdf = pd.DataFrame(g_embeddings, columns=[f'e{i}' for i in range(num_feature)])\n",
    "    resultdf['scores'] = g_scores\n",
    "    resultdf['trace_id'] = gid_list\n",
    "    resultdf['dataset'] = name\n",
    "    \n",
    "    resultdf = resultdf.merge(trace_info_df, on='trace_id', how='inner')\n",
    "    \n",
    "    resultdf = add_tsne_embedding(resultdf, name=name)\n",
    "    \n",
    "    return resultdf"
   ]
  },
  {
   "cell_type": "code",
   "execution_count": 60,
   "metadata": {},
   "outputs": [],
   "source": [
    "def add_tsne_embedding(resultdf, name='train', num_feature=7):\n",
    "    tsne_ = TSNE(n_components=2, init='random')\n",
    "    embeddings = resultdf[[f'e{i}' for i in range(num_feature)]]\n",
    "    tsne_embeddings = tsne_.fit_transform(embeddings)\n",
    "    \n",
    "    resultdf['tsne_x'] = tsne_embeddings[:,0]\n",
    "    resultdf['tsne_y'] = tsne_embeddings[:,1]\n",
    "    \n",
    "    fig = px.scatter(resultdf, x='tsne_x', y='tsne_y', color='trace_bool', title=f'{name} Graph Embeddings')\n",
    "    fig.show()\n",
    "    \n",
    "    return resultdf\n",
    "    "
   ]
  },
  {
   "cell_type": "code",
   "execution_count": 61,
   "metadata": {},
   "outputs": [
    {
     "name": "stderr",
     "output_type": "stream",
     "text": [
      "100%|██████████| 200/200 [00:37<00:00,  5.30it/s]\n"
     ]
    },
    {
     "data": {
      "application/vnd.plotly.v1+json": {
       "config": {
        "plotlyServerURL": "https://plot.ly"
       },
       "data": [
        {
         "hovertemplate": "trace_bool=True<br>tsne_x=%{x}<br>tsne_y=%{y}<extra></extra>",
         "legendgroup": "True",
         "marker": {
          "color": "#636efa",
          "symbol": "circle"
         },
         "mode": "markers",
         "name": "True",
         "orientation": "v",
         "showlegend": true,
         "type": "scatter",
         "x": [
          -1.2635573148727417,
          -4.407765865325928,
          4.0469865798950195,
          -3.7383503913879395,
          -5.157614231109619,
          27.366344451904297,
          27.505857467651367,
          -15.30249309539795,
          4.746582984924316,
          -7.219982147216797,
          -17.441181182861328,
          -13.563291549682617,
          -14.90966796875,
          27.70210838317871,
          0.25078609585762024,
          25.904052734375,
          25.904052734375,
          -15.824440002441406,
          25.49937629699707,
          -0.3649832010269165,
          -8.692422866821289,
          3.8762969970703125,
          -8.860603332519531,
          -17.539413452148438,
          -6.237196922302246,
          25.465274810791016,
          28.894298553466797,
          25.90541648864746,
          4.730874061584473,
          -15.126131057739258,
          25.55813980102539,
          -4.911660194396973,
          4.002223014831543,
          -8.438316345214844,
          -0.34114354848861694,
          0.37929752469062805,
          -4.4075608253479,
          -0.3422684967517853,
          28.163360595703125,
          -16.71689224243164,
          -17.407129287719727,
          -15.628562927246094,
          -11.189599990844727,
          25.84256935119629,
          0.41685962677001953,
          0.40356510877609253,
          25.90541648864746,
          26.015565872192383,
          -4.911660194396973,
          -4.6738505363464355,
          -1.446313500404358,
          -16.615947723388672,
          25.231260299682617,
          -8.45428466796875,
          -16.682466506958008,
          0.8423449397087097,
          -2.6442739963531494,
          -3.762354612350464,
          -1.3978861570358276,
          1.145877718925476,
          -15.046091079711914,
          1.0077425241470337,
          -17.33847999572754,
          2.0610146522521973,
          -13.599404335021973,
          -4.911660194396973,
          0.15558427572250366,
          -13.510065078735352,
          -15.270608901977539,
          26.015565872192383,
          -6.234176158905029,
          -15.40859603881836,
          -15.165556907653809,
          -6.2403178215026855,
          -5.157614231109619,
          25.249788284301758,
          -15.214516639709473,
          -3.739476442337036,
          -15.02797794342041,
          3.740668296813965,
          -15.533299446105957,
          -13.57636547088623,
          -4.680121421813965,
          0.7069029808044434,
          3.8415656089782715,
          -2.644265651702881,
          27.64544105529785,
          -11.142472267150879,
          -0.36163991689682007,
          -8.805885314941406,
          -4.409313678741455,
          -15.264708518981934,
          25.90541648864746,
          -11.160327911376953,
          -17.424245834350586,
          0.49861273169517517,
          27.366344451904297,
          -11.119942665100098,
          -15.128644943237305,
          4.296194076538086,
          -2.6442739963531494,
          4.684708595275879,
          -15.327929496765137,
          3.6881039142608643,
          0.2918533384799957,
          27.64544105529785,
          -8.762737274169922,
          -8.462282180786133,
          28.16335105895996,
          0.4248717427253723,
          27.33698272705078,
          -13.516188621520996,
          4.2862443923950195,
          -6.233631134033203,
          -16.760238647460938,
          0.8225997686386108,
          -17.339420318603516,
          28.00845718383789,
          1.9336159229278564,
          3.688316583633423,
          28.441299438476562,
          -17.030630111694336,
          -16.709524154663086,
          28.432851791381836,
          27.434860229492188,
          28.056211471557617,
          28.045080184936523,
          0.1981780230998993,
          -6.243061065673828,
          -1.2635575532913208,
          -4.772212028503418,
          1.5860084295272827,
          0.7811815738677979,
          -8.45218563079834,
          25.465274810791016,
          -4.673676013946533,
          25.249788284301758,
          -13.58273983001709,
          -2.6436750888824463,
          -2.647984504699707,
          0.7336980104446411,
          -16.70077133178711,
          -15.225142478942871,
          -4.82101583480835,
          25.70243263244629,
          -4.68013334274292,
          -5.159817218780518,
          -3.7635605335235596,
          -5.162950038909912,
          -7.246904373168945,
          -15.705190658569336,
          -15.66269302368164,
          -4.4077653884887695,
          -16.701148986816406,
          4.539046764373779,
          -11.695185661315918,
          4.727214336395264,
          4.513598918914795,
          1.0224547386169434,
          0.08631431311368942,
          27.70537567138672,
          -2.6465208530426025,
          25.231260299682617,
          3.8959574699401855,
          1.1248656511306763,
          -8.622668266296387,
          27.366344451904297,
          -8.83005142211914,
          -5.157615661621094,
          -2.718564748764038,
          1.2080894708633423,
          -17.32356071472168,
          0.44880354404449463,
          4.74771785736084,
          -17.04375457763672,
          25.4597225189209,
          -0.25757208466529846,
          0.8894639611244202,
          4.034613132476807,
          -16.71836280822754,
          0.28392425179481506,
          -15.213926315307617,
          -15.180676460266113,
          -7.294215679168701,
          4.726201057434082,
          28.499801635742188,
          -16.633529663085938,
          -15.648632049560547,
          -8.61902904510498,
          -15.60898208618164,
          -16.6965389251709,
          -8.633334159851074,
          25.231260299682617,
          27.698604583740234,
          0.19063018262386322,
          -16.760587692260742,
          0.15695273876190186,
          28.008453369140625,
          -15.174057960510254,
          27.702123641967773
         ],
         "xaxis": "x",
         "y": [
          -3.4059150218963623,
          -11.03353500366211,
          -6.796407222747803,
          -4.0540547370910645,
          -10.50617504119873,
          15.280576705932617,
          14.978191375732422,
          2.1639270782470703,
          -7.316155433654785,
          -5.49998140335083,
          -0.44828158617019653,
          -0.00004578731022775173,
          1.859744906425476,
          14.966129302978516,
          -3.182905435562134,
          16.252145767211914,
          16.252145767211914,
          -0.4541783034801483,
          16.896215438842773,
          -2.450871229171753,
          -4.433609485626221,
          -6.574958324432373,
          -4.22593355178833,
          -0.42686155438423157,
          -7.431972026824951,
          15.843172073364258,
          16.406261444091797,
          16.772397994995117,
          -7.366054058074951,
          2.094398021697998,
          15.828817367553711,
          -10.226370811462402,
          -7.278930187225342,
          -4.386554718017578,
          -2.4897267818450928,
          -4.4333672523498535,
          -11.033092498779297,
          -2.49143648147583,
          15.600217819213867,
          3.3371121883392334,
          -0.27935776114463806,
          1.8234317302703857,
          -1.350009799003601,
          15.97449016571045,
          -5.982086181640625,
          -5.117732048034668,
          16.772397994995117,
          16.530317306518555,
          -10.226370811462402,
          -11.203370094299316,
          -3.4193437099456787,
          0.11851301044225693,
          16.23812484741211,
          -4.2206573486328125,
          3.32955265045166,
          -4.96711540222168,
          -3.570899486541748,
          -4.065250873565674,
          -3.4328300952911377,
          -3.5320184230804443,
          -1.8117506504058838,
          -3.5029401779174805,
          -0.2958470582962036,
          -2.264153480529785,
          0.02842079848051071,
          -10.226370811462402,
          -4.792097091674805,
          -0.024904893711209297,
          1.664756178855896,
          16.530317306518555,
          -7.4296698570251465,
          1.6889866590499878,
          2.141209363937378,
          -7.422014236450195,
          -10.50617504119873,
          16.597684860229492,
          -1.5782135725021362,
          -4.054901123046875,
          1.9398021697998047,
          -7.187445640563965,
          2.1240501403808594,
          0.026275884360074997,
          -11.206769943237305,
          -4.707648277282715,
          -6.89661169052124,
          -3.570957899093628,
          15.787796020507812,
          -1.3749468326568604,
          -2.4550607204437256,
          -4.147383213043213,
          -11.033535957336426,
          1.6562811136245728,
          16.772397994995117,
          -1.3644604682922363,
          -0.4110517203807831,
          -4.5464677810668945,
          15.280576705932617,
          -1.3839930295944214,
          -1.7269026041030884,
          -7.524087429046631,
          -3.570899486541748,
          -6.797114372253418,
          3.444916248321533,
          -7.0354719161987305,
          -5.027726650238037,
          15.787796020507812,
          -4.39434814453125,
          -4.37748384475708,
          15.600226402282715,
          -5.954526901245117,
          15.000526428222656,
          -0.0027275856118649244,
          -7.551174640655518,
          -7.437861919403076,
          3.356699228286743,
          -5.075732707977295,
          -0.4979293644428253,
          15.156786918640137,
          -2.284205675125122,
          -6.841919422149658,
          17.636587142944336,
          -0.4157944321632385,
          3.350560188293457,
          17.640687942504883,
          15.697656631469727,
          15.206007957458496,
          15.76468276977539,
          -4.91384220123291,
          -7.41954231262207,
          -3.405914783477783,
          -10.308955192565918,
          -3.9177026748657227,
          -4.7670578956604,
          -4.334288597106934,
          15.843172073364258,
          -11.203496932983398,
          16.597684860229492,
          0.021478917449712753,
          -3.5715296268463135,
          -3.5699875354766846,
          -4.86068058013916,
          3.3291594982147217,
          1.671678900718689,
          -10.272608757019043,
          15.855814933776855,
          -11.206757545471191,
          -10.50932788848877,
          -4.065683841705322,
          -10.50493335723877,
          -5.473047256469727,
          1.988759994506836,
          2.0383095741271973,
          -11.03353500366211,
          0.5291081070899963,
          -7.495190143585205,
          -1.0723872184753418,
          -6.811280250549316,
          -7.543903350830078,
          -3.5002946853637695,
          -4.718881607055664,
          15.863588333129883,
          -3.5710206031799316,
          16.23812484741211,
          -7.148090839385986,
          -5.357449531555176,
          -4.097729682922363,
          15.280576705932617,
          -4.163240432739258,
          -10.506175994873047,
          -3.596489667892456,
          -3.5969176292419434,
          -0.39196541905403137,
          -5.985393524169922,
          -7.273824691772461,
          -0.42226845026016235,
          16.8800106048584,
          -2.415357828140259,
          -4.808958530426025,
          -6.600998401641846,
          3.3383991718292236,
          -4.5908403396606445,
          -1.6071131229400635,
          -1.6594862937927246,
          -5.391890048980713,
          -6.810891628265381,
          17.55020523071289,
          0.05479218810796738,
          -0.8088879585266113,
          -4.0963335037231445,
          1.8319884538650513,
          0.08213932067155838,
          -4.4681291580200195,
          16.23812484741211,
          15.821227073669434,
          -3.433321952819824,
          0.5268126130104065,
          -4.676549911499023,
          15.156784057617188,
          2.141134262084961,
          14.966130256652832
         ],
         "yaxis": "y"
        }
       ],
       "layout": {
        "legend": {
         "title": {
          "text": "trace_bool"
         },
         "tracegroupgap": 0
        },
        "template": {
         "data": {
          "bar": [
           {
            "error_x": {
             "color": "#2a3f5f"
            },
            "error_y": {
             "color": "#2a3f5f"
            },
            "marker": {
             "line": {
              "color": "#E5ECF6",
              "width": 0.5
             },
             "pattern": {
              "fillmode": "overlay",
              "size": 10,
              "solidity": 0.2
             }
            },
            "type": "bar"
           }
          ],
          "barpolar": [
           {
            "marker": {
             "line": {
              "color": "#E5ECF6",
              "width": 0.5
             },
             "pattern": {
              "fillmode": "overlay",
              "size": 10,
              "solidity": 0.2
             }
            },
            "type": "barpolar"
           }
          ],
          "carpet": [
           {
            "aaxis": {
             "endlinecolor": "#2a3f5f",
             "gridcolor": "white",
             "linecolor": "white",
             "minorgridcolor": "white",
             "startlinecolor": "#2a3f5f"
            },
            "baxis": {
             "endlinecolor": "#2a3f5f",
             "gridcolor": "white",
             "linecolor": "white",
             "minorgridcolor": "white",
             "startlinecolor": "#2a3f5f"
            },
            "type": "carpet"
           }
          ],
          "choropleth": [
           {
            "colorbar": {
             "outlinewidth": 0,
             "ticks": ""
            },
            "type": "choropleth"
           }
          ],
          "contour": [
           {
            "colorbar": {
             "outlinewidth": 0,
             "ticks": ""
            },
            "colorscale": [
             [
              0,
              "#0d0887"
             ],
             [
              0.1111111111111111,
              "#46039f"
             ],
             [
              0.2222222222222222,
              "#7201a8"
             ],
             [
              0.3333333333333333,
              "#9c179e"
             ],
             [
              0.4444444444444444,
              "#bd3786"
             ],
             [
              0.5555555555555556,
              "#d8576b"
             ],
             [
              0.6666666666666666,
              "#ed7953"
             ],
             [
              0.7777777777777778,
              "#fb9f3a"
             ],
             [
              0.8888888888888888,
              "#fdca26"
             ],
             [
              1,
              "#f0f921"
             ]
            ],
            "type": "contour"
           }
          ],
          "contourcarpet": [
           {
            "colorbar": {
             "outlinewidth": 0,
             "ticks": ""
            },
            "type": "contourcarpet"
           }
          ],
          "heatmap": [
           {
            "colorbar": {
             "outlinewidth": 0,
             "ticks": ""
            },
            "colorscale": [
             [
              0,
              "#0d0887"
             ],
             [
              0.1111111111111111,
              "#46039f"
             ],
             [
              0.2222222222222222,
              "#7201a8"
             ],
             [
              0.3333333333333333,
              "#9c179e"
             ],
             [
              0.4444444444444444,
              "#bd3786"
             ],
             [
              0.5555555555555556,
              "#d8576b"
             ],
             [
              0.6666666666666666,
              "#ed7953"
             ],
             [
              0.7777777777777778,
              "#fb9f3a"
             ],
             [
              0.8888888888888888,
              "#fdca26"
             ],
             [
              1,
              "#f0f921"
             ]
            ],
            "type": "heatmap"
           }
          ],
          "heatmapgl": [
           {
            "colorbar": {
             "outlinewidth": 0,
             "ticks": ""
            },
            "colorscale": [
             [
              0,
              "#0d0887"
             ],
             [
              0.1111111111111111,
              "#46039f"
             ],
             [
              0.2222222222222222,
              "#7201a8"
             ],
             [
              0.3333333333333333,
              "#9c179e"
             ],
             [
              0.4444444444444444,
              "#bd3786"
             ],
             [
              0.5555555555555556,
              "#d8576b"
             ],
             [
              0.6666666666666666,
              "#ed7953"
             ],
             [
              0.7777777777777778,
              "#fb9f3a"
             ],
             [
              0.8888888888888888,
              "#fdca26"
             ],
             [
              1,
              "#f0f921"
             ]
            ],
            "type": "heatmapgl"
           }
          ],
          "histogram": [
           {
            "marker": {
             "pattern": {
              "fillmode": "overlay",
              "size": 10,
              "solidity": 0.2
             }
            },
            "type": "histogram"
           }
          ],
          "histogram2d": [
           {
            "colorbar": {
             "outlinewidth": 0,
             "ticks": ""
            },
            "colorscale": [
             [
              0,
              "#0d0887"
             ],
             [
              0.1111111111111111,
              "#46039f"
             ],
             [
              0.2222222222222222,
              "#7201a8"
             ],
             [
              0.3333333333333333,
              "#9c179e"
             ],
             [
              0.4444444444444444,
              "#bd3786"
             ],
             [
              0.5555555555555556,
              "#d8576b"
             ],
             [
              0.6666666666666666,
              "#ed7953"
             ],
             [
              0.7777777777777778,
              "#fb9f3a"
             ],
             [
              0.8888888888888888,
              "#fdca26"
             ],
             [
              1,
              "#f0f921"
             ]
            ],
            "type": "histogram2d"
           }
          ],
          "histogram2dcontour": [
           {
            "colorbar": {
             "outlinewidth": 0,
             "ticks": ""
            },
            "colorscale": [
             [
              0,
              "#0d0887"
             ],
             [
              0.1111111111111111,
              "#46039f"
             ],
             [
              0.2222222222222222,
              "#7201a8"
             ],
             [
              0.3333333333333333,
              "#9c179e"
             ],
             [
              0.4444444444444444,
              "#bd3786"
             ],
             [
              0.5555555555555556,
              "#d8576b"
             ],
             [
              0.6666666666666666,
              "#ed7953"
             ],
             [
              0.7777777777777778,
              "#fb9f3a"
             ],
             [
              0.8888888888888888,
              "#fdca26"
             ],
             [
              1,
              "#f0f921"
             ]
            ],
            "type": "histogram2dcontour"
           }
          ],
          "mesh3d": [
           {
            "colorbar": {
             "outlinewidth": 0,
             "ticks": ""
            },
            "type": "mesh3d"
           }
          ],
          "parcoords": [
           {
            "line": {
             "colorbar": {
              "outlinewidth": 0,
              "ticks": ""
             }
            },
            "type": "parcoords"
           }
          ],
          "pie": [
           {
            "automargin": true,
            "type": "pie"
           }
          ],
          "scatter": [
           {
            "marker": {
             "colorbar": {
              "outlinewidth": 0,
              "ticks": ""
             }
            },
            "type": "scatter"
           }
          ],
          "scatter3d": [
           {
            "line": {
             "colorbar": {
              "outlinewidth": 0,
              "ticks": ""
             }
            },
            "marker": {
             "colorbar": {
              "outlinewidth": 0,
              "ticks": ""
             }
            },
            "type": "scatter3d"
           }
          ],
          "scattercarpet": [
           {
            "marker": {
             "colorbar": {
              "outlinewidth": 0,
              "ticks": ""
             }
            },
            "type": "scattercarpet"
           }
          ],
          "scattergeo": [
           {
            "marker": {
             "colorbar": {
              "outlinewidth": 0,
              "ticks": ""
             }
            },
            "type": "scattergeo"
           }
          ],
          "scattergl": [
           {
            "marker": {
             "colorbar": {
              "outlinewidth": 0,
              "ticks": ""
             }
            },
            "type": "scattergl"
           }
          ],
          "scattermapbox": [
           {
            "marker": {
             "colorbar": {
              "outlinewidth": 0,
              "ticks": ""
             }
            },
            "type": "scattermapbox"
           }
          ],
          "scatterpolar": [
           {
            "marker": {
             "colorbar": {
              "outlinewidth": 0,
              "ticks": ""
             }
            },
            "type": "scatterpolar"
           }
          ],
          "scatterpolargl": [
           {
            "marker": {
             "colorbar": {
              "outlinewidth": 0,
              "ticks": ""
             }
            },
            "type": "scatterpolargl"
           }
          ],
          "scatterternary": [
           {
            "marker": {
             "colorbar": {
              "outlinewidth": 0,
              "ticks": ""
             }
            },
            "type": "scatterternary"
           }
          ],
          "surface": [
           {
            "colorbar": {
             "outlinewidth": 0,
             "ticks": ""
            },
            "colorscale": [
             [
              0,
              "#0d0887"
             ],
             [
              0.1111111111111111,
              "#46039f"
             ],
             [
              0.2222222222222222,
              "#7201a8"
             ],
             [
              0.3333333333333333,
              "#9c179e"
             ],
             [
              0.4444444444444444,
              "#bd3786"
             ],
             [
              0.5555555555555556,
              "#d8576b"
             ],
             [
              0.6666666666666666,
              "#ed7953"
             ],
             [
              0.7777777777777778,
              "#fb9f3a"
             ],
             [
              0.8888888888888888,
              "#fdca26"
             ],
             [
              1,
              "#f0f921"
             ]
            ],
            "type": "surface"
           }
          ],
          "table": [
           {
            "cells": {
             "fill": {
              "color": "#EBF0F8"
             },
             "line": {
              "color": "white"
             }
            },
            "header": {
             "fill": {
              "color": "#C8D4E3"
             },
             "line": {
              "color": "white"
             }
            },
            "type": "table"
           }
          ]
         },
         "layout": {
          "annotationdefaults": {
           "arrowcolor": "#2a3f5f",
           "arrowhead": 0,
           "arrowwidth": 1
          },
          "autotypenumbers": "strict",
          "coloraxis": {
           "colorbar": {
            "outlinewidth": 0,
            "ticks": ""
           }
          },
          "colorscale": {
           "diverging": [
            [
             0,
             "#8e0152"
            ],
            [
             0.1,
             "#c51b7d"
            ],
            [
             0.2,
             "#de77ae"
            ],
            [
             0.3,
             "#f1b6da"
            ],
            [
             0.4,
             "#fde0ef"
            ],
            [
             0.5,
             "#f7f7f7"
            ],
            [
             0.6,
             "#e6f5d0"
            ],
            [
             0.7,
             "#b8e186"
            ],
            [
             0.8,
             "#7fbc41"
            ],
            [
             0.9,
             "#4d9221"
            ],
            [
             1,
             "#276419"
            ]
           ],
           "sequential": [
            [
             0,
             "#0d0887"
            ],
            [
             0.1111111111111111,
             "#46039f"
            ],
            [
             0.2222222222222222,
             "#7201a8"
            ],
            [
             0.3333333333333333,
             "#9c179e"
            ],
            [
             0.4444444444444444,
             "#bd3786"
            ],
            [
             0.5555555555555556,
             "#d8576b"
            ],
            [
             0.6666666666666666,
             "#ed7953"
            ],
            [
             0.7777777777777778,
             "#fb9f3a"
            ],
            [
             0.8888888888888888,
             "#fdca26"
            ],
            [
             1,
             "#f0f921"
            ]
           ],
           "sequentialminus": [
            [
             0,
             "#0d0887"
            ],
            [
             0.1111111111111111,
             "#46039f"
            ],
            [
             0.2222222222222222,
             "#7201a8"
            ],
            [
             0.3333333333333333,
             "#9c179e"
            ],
            [
             0.4444444444444444,
             "#bd3786"
            ],
            [
             0.5555555555555556,
             "#d8576b"
            ],
            [
             0.6666666666666666,
             "#ed7953"
            ],
            [
             0.7777777777777778,
             "#fb9f3a"
            ],
            [
             0.8888888888888888,
             "#fdca26"
            ],
            [
             1,
             "#f0f921"
            ]
           ]
          },
          "colorway": [
           "#636efa",
           "#EF553B",
           "#00cc96",
           "#ab63fa",
           "#FFA15A",
           "#19d3f3",
           "#FF6692",
           "#B6E880",
           "#FF97FF",
           "#FECB52"
          ],
          "font": {
           "color": "#2a3f5f"
          },
          "geo": {
           "bgcolor": "white",
           "lakecolor": "white",
           "landcolor": "#E5ECF6",
           "showlakes": true,
           "showland": true,
           "subunitcolor": "white"
          },
          "hoverlabel": {
           "align": "left"
          },
          "hovermode": "closest",
          "mapbox": {
           "style": "light"
          },
          "paper_bgcolor": "white",
          "plot_bgcolor": "#E5ECF6",
          "polar": {
           "angularaxis": {
            "gridcolor": "white",
            "linecolor": "white",
            "ticks": ""
           },
           "bgcolor": "#E5ECF6",
           "radialaxis": {
            "gridcolor": "white",
            "linecolor": "white",
            "ticks": ""
           }
          },
          "scene": {
           "xaxis": {
            "backgroundcolor": "#E5ECF6",
            "gridcolor": "white",
            "gridwidth": 2,
            "linecolor": "white",
            "showbackground": true,
            "ticks": "",
            "zerolinecolor": "white"
           },
           "yaxis": {
            "backgroundcolor": "#E5ECF6",
            "gridcolor": "white",
            "gridwidth": 2,
            "linecolor": "white",
            "showbackground": true,
            "ticks": "",
            "zerolinecolor": "white"
           },
           "zaxis": {
            "backgroundcolor": "#E5ECF6",
            "gridcolor": "white",
            "gridwidth": 2,
            "linecolor": "white",
            "showbackground": true,
            "ticks": "",
            "zerolinecolor": "white"
           }
          },
          "shapedefaults": {
           "line": {
            "color": "#2a3f5f"
           }
          },
          "ternary": {
           "aaxis": {
            "gridcolor": "white",
            "linecolor": "white",
            "ticks": ""
           },
           "baxis": {
            "gridcolor": "white",
            "linecolor": "white",
            "ticks": ""
           },
           "bgcolor": "#E5ECF6",
           "caxis": {
            "gridcolor": "white",
            "linecolor": "white",
            "ticks": ""
           }
          },
          "title": {
           "x": 0.05
          },
          "xaxis": {
           "automargin": true,
           "gridcolor": "white",
           "linecolor": "white",
           "ticks": "",
           "title": {
            "standoff": 15
           },
           "zerolinecolor": "white",
           "zerolinewidth": 2
          },
          "yaxis": {
           "automargin": true,
           "gridcolor": "white",
           "linecolor": "white",
           "ticks": "",
           "title": {
            "standoff": 15
           },
           "zerolinecolor": "white",
           "zerolinewidth": 2
          }
         }
        },
        "title": {
         "text": "train Graph Embeddings"
        },
        "xaxis": {
         "anchor": "y",
         "domain": [
          0,
          1
         ],
         "title": {
          "text": "tsne_x"
         }
        },
        "yaxis": {
         "anchor": "x",
         "domain": [
          0,
          1
         ],
         "title": {
          "text": "tsne_y"
         }
        }
       }
      },
      "text/html": [
       "<div>                            <div id=\"ed44345e-cd40-449c-a672-92d24d172f6d\" class=\"plotly-graph-div\" style=\"height:525px; width:100%;\"></div>            <script type=\"text/javascript\">                require([\"plotly\"], function(Plotly) {                    window.PLOTLYENV=window.PLOTLYENV || {};                                    if (document.getElementById(\"ed44345e-cd40-449c-a672-92d24d172f6d\")) {                    Plotly.newPlot(                        \"ed44345e-cd40-449c-a672-92d24d172f6d\",                        [{\"hovertemplate\":\"trace_bool=True<br>tsne_x=%{x}<br>tsne_y=%{y}<extra></extra>\",\"legendgroup\":\"True\",\"marker\":{\"color\":\"#636efa\",\"symbol\":\"circle\"},\"mode\":\"markers\",\"name\":\"True\",\"orientation\":\"v\",\"showlegend\":true,\"x\":[-1.2635573148727417,-4.407765865325928,4.0469865798950195,-3.7383503913879395,-5.157614231109619,27.366344451904297,27.505857467651367,-15.30249309539795,4.746582984924316,-7.219982147216797,-17.441181182861328,-13.563291549682617,-14.90966796875,27.70210838317871,0.25078609585762024,25.904052734375,25.904052734375,-15.824440002441406,25.49937629699707,-0.3649832010269165,-8.692422866821289,3.8762969970703125,-8.860603332519531,-17.539413452148438,-6.237196922302246,25.465274810791016,28.894298553466797,25.90541648864746,4.730874061584473,-15.126131057739258,25.55813980102539,-4.911660194396973,4.002223014831543,-8.438316345214844,-0.34114354848861694,0.37929752469062805,-4.4075608253479,-0.3422684967517853,28.163360595703125,-16.71689224243164,-17.407129287719727,-15.628562927246094,-11.189599990844727,25.84256935119629,0.41685962677001953,0.40356510877609253,25.90541648864746,26.015565872192383,-4.911660194396973,-4.6738505363464355,-1.446313500404358,-16.615947723388672,25.231260299682617,-8.45428466796875,-16.682466506958008,0.8423449397087097,-2.6442739963531494,-3.762354612350464,-1.3978861570358276,1.145877718925476,-15.046091079711914,1.0077425241470337,-17.33847999572754,2.0610146522521973,-13.599404335021973,-4.911660194396973,0.15558427572250366,-13.510065078735352,-15.270608901977539,26.015565872192383,-6.234176158905029,-15.40859603881836,-15.165556907653809,-6.2403178215026855,-5.157614231109619,25.249788284301758,-15.214516639709473,-3.739476442337036,-15.02797794342041,3.740668296813965,-15.533299446105957,-13.57636547088623,-4.680121421813965,0.7069029808044434,3.8415656089782715,-2.644265651702881,27.64544105529785,-11.142472267150879,-0.36163991689682007,-8.805885314941406,-4.409313678741455,-15.264708518981934,25.90541648864746,-11.160327911376953,-17.424245834350586,0.49861273169517517,27.366344451904297,-11.119942665100098,-15.128644943237305,4.296194076538086,-2.6442739963531494,4.684708595275879,-15.327929496765137,3.6881039142608643,0.2918533384799957,27.64544105529785,-8.762737274169922,-8.462282180786133,28.16335105895996,0.4248717427253723,27.33698272705078,-13.516188621520996,4.2862443923950195,-6.233631134033203,-16.760238647460938,0.8225997686386108,-17.339420318603516,28.00845718383789,1.9336159229278564,3.688316583633423,28.441299438476562,-17.030630111694336,-16.709524154663086,28.432851791381836,27.434860229492188,28.056211471557617,28.045080184936523,0.1981780230998993,-6.243061065673828,-1.2635575532913208,-4.772212028503418,1.5860084295272827,0.7811815738677979,-8.45218563079834,25.465274810791016,-4.673676013946533,25.249788284301758,-13.58273983001709,-2.6436750888824463,-2.647984504699707,0.7336980104446411,-16.70077133178711,-15.225142478942871,-4.82101583480835,25.70243263244629,-4.68013334274292,-5.159817218780518,-3.7635605335235596,-5.162950038909912,-7.246904373168945,-15.705190658569336,-15.66269302368164,-4.4077653884887695,-16.701148986816406,4.539046764373779,-11.695185661315918,4.727214336395264,4.513598918914795,1.0224547386169434,0.08631431311368942,27.70537567138672,-2.6465208530426025,25.231260299682617,3.8959574699401855,1.1248656511306763,-8.622668266296387,27.366344451904297,-8.83005142211914,-5.157615661621094,-2.718564748764038,1.2080894708633423,-17.32356071472168,0.44880354404449463,4.74771785736084,-17.04375457763672,25.4597225189209,-0.25757208466529846,0.8894639611244202,4.034613132476807,-16.71836280822754,0.28392425179481506,-15.213926315307617,-15.180676460266113,-7.294215679168701,4.726201057434082,28.499801635742188,-16.633529663085938,-15.648632049560547,-8.61902904510498,-15.60898208618164,-16.6965389251709,-8.633334159851074,25.231260299682617,27.698604583740234,0.19063018262386322,-16.760587692260742,0.15695273876190186,28.008453369140625,-15.174057960510254,27.702123641967773],\"xaxis\":\"x\",\"y\":[-3.4059150218963623,-11.03353500366211,-6.796407222747803,-4.0540547370910645,-10.50617504119873,15.280576705932617,14.978191375732422,2.1639270782470703,-7.316155433654785,-5.49998140335083,-0.44828158617019653,-4.578731022775173e-05,1.859744906425476,14.966129302978516,-3.182905435562134,16.252145767211914,16.252145767211914,-0.4541783034801483,16.896215438842773,-2.450871229171753,-4.433609485626221,-6.574958324432373,-4.22593355178833,-0.42686155438423157,-7.431972026824951,15.843172073364258,16.406261444091797,16.772397994995117,-7.366054058074951,2.094398021697998,15.828817367553711,-10.226370811462402,-7.278930187225342,-4.386554718017578,-2.4897267818450928,-4.4333672523498535,-11.033092498779297,-2.49143648147583,15.600217819213867,3.3371121883392334,-0.27935776114463806,1.8234317302703857,-1.350009799003601,15.97449016571045,-5.982086181640625,-5.117732048034668,16.772397994995117,16.530317306518555,-10.226370811462402,-11.203370094299316,-3.4193437099456787,0.11851301044225693,16.23812484741211,-4.2206573486328125,3.32955265045166,-4.96711540222168,-3.570899486541748,-4.065250873565674,-3.4328300952911377,-3.5320184230804443,-1.8117506504058838,-3.5029401779174805,-0.2958470582962036,-2.264153480529785,0.02842079848051071,-10.226370811462402,-4.792097091674805,-0.024904893711209297,1.664756178855896,16.530317306518555,-7.4296698570251465,1.6889866590499878,2.141209363937378,-7.422014236450195,-10.50617504119873,16.597684860229492,-1.5782135725021362,-4.054901123046875,1.9398021697998047,-7.187445640563965,2.1240501403808594,0.026275884360074997,-11.206769943237305,-4.707648277282715,-6.89661169052124,-3.570957899093628,15.787796020507812,-1.3749468326568604,-2.4550607204437256,-4.147383213043213,-11.033535957336426,1.6562811136245728,16.772397994995117,-1.3644604682922363,-0.4110517203807831,-4.5464677810668945,15.280576705932617,-1.3839930295944214,-1.7269026041030884,-7.524087429046631,-3.570899486541748,-6.797114372253418,3.444916248321533,-7.0354719161987305,-5.027726650238037,15.787796020507812,-4.39434814453125,-4.37748384475708,15.600226402282715,-5.954526901245117,15.000526428222656,-0.0027275856118649244,-7.551174640655518,-7.437861919403076,3.356699228286743,-5.075732707977295,-0.4979293644428253,15.156786918640137,-2.284205675125122,-6.841919422149658,17.636587142944336,-0.4157944321632385,3.350560188293457,17.640687942504883,15.697656631469727,15.206007957458496,15.76468276977539,-4.91384220123291,-7.41954231262207,-3.405914783477783,-10.308955192565918,-3.9177026748657227,-4.7670578956604,-4.334288597106934,15.843172073364258,-11.203496932983398,16.597684860229492,0.021478917449712753,-3.5715296268463135,-3.5699875354766846,-4.86068058013916,3.3291594982147217,1.671678900718689,-10.272608757019043,15.855814933776855,-11.206757545471191,-10.50932788848877,-4.065683841705322,-10.50493335723877,-5.473047256469727,1.988759994506836,2.0383095741271973,-11.03353500366211,0.5291081070899963,-7.495190143585205,-1.0723872184753418,-6.811280250549316,-7.543903350830078,-3.5002946853637695,-4.718881607055664,15.863588333129883,-3.5710206031799316,16.23812484741211,-7.148090839385986,-5.357449531555176,-4.097729682922363,15.280576705932617,-4.163240432739258,-10.506175994873047,-3.596489667892456,-3.5969176292419434,-0.39196541905403137,-5.985393524169922,-7.273824691772461,-0.42226845026016235,16.8800106048584,-2.415357828140259,-4.808958530426025,-6.600998401641846,3.3383991718292236,-4.5908403396606445,-1.6071131229400635,-1.6594862937927246,-5.391890048980713,-6.810891628265381,17.55020523071289,0.05479218810796738,-0.8088879585266113,-4.0963335037231445,1.8319884538650513,0.08213932067155838,-4.4681291580200195,16.23812484741211,15.821227073669434,-3.433321952819824,0.5268126130104065,-4.676549911499023,15.156784057617188,2.141134262084961,14.966130256652832],\"yaxis\":\"y\",\"type\":\"scatter\"}],                        {\"template\":{\"data\":{\"bar\":[{\"error_x\":{\"color\":\"#2a3f5f\"},\"error_y\":{\"color\":\"#2a3f5f\"},\"marker\":{\"line\":{\"color\":\"#E5ECF6\",\"width\":0.5},\"pattern\":{\"fillmode\":\"overlay\",\"size\":10,\"solidity\":0.2}},\"type\":\"bar\"}],\"barpolar\":[{\"marker\":{\"line\":{\"color\":\"#E5ECF6\",\"width\":0.5},\"pattern\":{\"fillmode\":\"overlay\",\"size\":10,\"solidity\":0.2}},\"type\":\"barpolar\"}],\"carpet\":[{\"aaxis\":{\"endlinecolor\":\"#2a3f5f\",\"gridcolor\":\"white\",\"linecolor\":\"white\",\"minorgridcolor\":\"white\",\"startlinecolor\":\"#2a3f5f\"},\"baxis\":{\"endlinecolor\":\"#2a3f5f\",\"gridcolor\":\"white\",\"linecolor\":\"white\",\"minorgridcolor\":\"white\",\"startlinecolor\":\"#2a3f5f\"},\"type\":\"carpet\"}],\"choropleth\":[{\"colorbar\":{\"outlinewidth\":0,\"ticks\":\"\"},\"type\":\"choropleth\"}],\"contour\":[{\"colorbar\":{\"outlinewidth\":0,\"ticks\":\"\"},\"colorscale\":[[0.0,\"#0d0887\"],[0.1111111111111111,\"#46039f\"],[0.2222222222222222,\"#7201a8\"],[0.3333333333333333,\"#9c179e\"],[0.4444444444444444,\"#bd3786\"],[0.5555555555555556,\"#d8576b\"],[0.6666666666666666,\"#ed7953\"],[0.7777777777777778,\"#fb9f3a\"],[0.8888888888888888,\"#fdca26\"],[1.0,\"#f0f921\"]],\"type\":\"contour\"}],\"contourcarpet\":[{\"colorbar\":{\"outlinewidth\":0,\"ticks\":\"\"},\"type\":\"contourcarpet\"}],\"heatmap\":[{\"colorbar\":{\"outlinewidth\":0,\"ticks\":\"\"},\"colorscale\":[[0.0,\"#0d0887\"],[0.1111111111111111,\"#46039f\"],[0.2222222222222222,\"#7201a8\"],[0.3333333333333333,\"#9c179e\"],[0.4444444444444444,\"#bd3786\"],[0.5555555555555556,\"#d8576b\"],[0.6666666666666666,\"#ed7953\"],[0.7777777777777778,\"#fb9f3a\"],[0.8888888888888888,\"#fdca26\"],[1.0,\"#f0f921\"]],\"type\":\"heatmap\"}],\"heatmapgl\":[{\"colorbar\":{\"outlinewidth\":0,\"ticks\":\"\"},\"colorscale\":[[0.0,\"#0d0887\"],[0.1111111111111111,\"#46039f\"],[0.2222222222222222,\"#7201a8\"],[0.3333333333333333,\"#9c179e\"],[0.4444444444444444,\"#bd3786\"],[0.5555555555555556,\"#d8576b\"],[0.6666666666666666,\"#ed7953\"],[0.7777777777777778,\"#fb9f3a\"],[0.8888888888888888,\"#fdca26\"],[1.0,\"#f0f921\"]],\"type\":\"heatmapgl\"}],\"histogram\":[{\"marker\":{\"pattern\":{\"fillmode\":\"overlay\",\"size\":10,\"solidity\":0.2}},\"type\":\"histogram\"}],\"histogram2d\":[{\"colorbar\":{\"outlinewidth\":0,\"ticks\":\"\"},\"colorscale\":[[0.0,\"#0d0887\"],[0.1111111111111111,\"#46039f\"],[0.2222222222222222,\"#7201a8\"],[0.3333333333333333,\"#9c179e\"],[0.4444444444444444,\"#bd3786\"],[0.5555555555555556,\"#d8576b\"],[0.6666666666666666,\"#ed7953\"],[0.7777777777777778,\"#fb9f3a\"],[0.8888888888888888,\"#fdca26\"],[1.0,\"#f0f921\"]],\"type\":\"histogram2d\"}],\"histogram2dcontour\":[{\"colorbar\":{\"outlinewidth\":0,\"ticks\":\"\"},\"colorscale\":[[0.0,\"#0d0887\"],[0.1111111111111111,\"#46039f\"],[0.2222222222222222,\"#7201a8\"],[0.3333333333333333,\"#9c179e\"],[0.4444444444444444,\"#bd3786\"],[0.5555555555555556,\"#d8576b\"],[0.6666666666666666,\"#ed7953\"],[0.7777777777777778,\"#fb9f3a\"],[0.8888888888888888,\"#fdca26\"],[1.0,\"#f0f921\"]],\"type\":\"histogram2dcontour\"}],\"mesh3d\":[{\"colorbar\":{\"outlinewidth\":0,\"ticks\":\"\"},\"type\":\"mesh3d\"}],\"parcoords\":[{\"line\":{\"colorbar\":{\"outlinewidth\":0,\"ticks\":\"\"}},\"type\":\"parcoords\"}],\"pie\":[{\"automargin\":true,\"type\":\"pie\"}],\"scatter\":[{\"marker\":{\"colorbar\":{\"outlinewidth\":0,\"ticks\":\"\"}},\"type\":\"scatter\"}],\"scatter3d\":[{\"line\":{\"colorbar\":{\"outlinewidth\":0,\"ticks\":\"\"}},\"marker\":{\"colorbar\":{\"outlinewidth\":0,\"ticks\":\"\"}},\"type\":\"scatter3d\"}],\"scattercarpet\":[{\"marker\":{\"colorbar\":{\"outlinewidth\":0,\"ticks\":\"\"}},\"type\":\"scattercarpet\"}],\"scattergeo\":[{\"marker\":{\"colorbar\":{\"outlinewidth\":0,\"ticks\":\"\"}},\"type\":\"scattergeo\"}],\"scattergl\":[{\"marker\":{\"colorbar\":{\"outlinewidth\":0,\"ticks\":\"\"}},\"type\":\"scattergl\"}],\"scattermapbox\":[{\"marker\":{\"colorbar\":{\"outlinewidth\":0,\"ticks\":\"\"}},\"type\":\"scattermapbox\"}],\"scatterpolar\":[{\"marker\":{\"colorbar\":{\"outlinewidth\":0,\"ticks\":\"\"}},\"type\":\"scatterpolar\"}],\"scatterpolargl\":[{\"marker\":{\"colorbar\":{\"outlinewidth\":0,\"ticks\":\"\"}},\"type\":\"scatterpolargl\"}],\"scatterternary\":[{\"marker\":{\"colorbar\":{\"outlinewidth\":0,\"ticks\":\"\"}},\"type\":\"scatterternary\"}],\"surface\":[{\"colorbar\":{\"outlinewidth\":0,\"ticks\":\"\"},\"colorscale\":[[0.0,\"#0d0887\"],[0.1111111111111111,\"#46039f\"],[0.2222222222222222,\"#7201a8\"],[0.3333333333333333,\"#9c179e\"],[0.4444444444444444,\"#bd3786\"],[0.5555555555555556,\"#d8576b\"],[0.6666666666666666,\"#ed7953\"],[0.7777777777777778,\"#fb9f3a\"],[0.8888888888888888,\"#fdca26\"],[1.0,\"#f0f921\"]],\"type\":\"surface\"}],\"table\":[{\"cells\":{\"fill\":{\"color\":\"#EBF0F8\"},\"line\":{\"color\":\"white\"}},\"header\":{\"fill\":{\"color\":\"#C8D4E3\"},\"line\":{\"color\":\"white\"}},\"type\":\"table\"}]},\"layout\":{\"annotationdefaults\":{\"arrowcolor\":\"#2a3f5f\",\"arrowhead\":0,\"arrowwidth\":1},\"autotypenumbers\":\"strict\",\"coloraxis\":{\"colorbar\":{\"outlinewidth\":0,\"ticks\":\"\"}},\"colorscale\":{\"diverging\":[[0,\"#8e0152\"],[0.1,\"#c51b7d\"],[0.2,\"#de77ae\"],[0.3,\"#f1b6da\"],[0.4,\"#fde0ef\"],[0.5,\"#f7f7f7\"],[0.6,\"#e6f5d0\"],[0.7,\"#b8e186\"],[0.8,\"#7fbc41\"],[0.9,\"#4d9221\"],[1,\"#276419\"]],\"sequential\":[[0.0,\"#0d0887\"],[0.1111111111111111,\"#46039f\"],[0.2222222222222222,\"#7201a8\"],[0.3333333333333333,\"#9c179e\"],[0.4444444444444444,\"#bd3786\"],[0.5555555555555556,\"#d8576b\"],[0.6666666666666666,\"#ed7953\"],[0.7777777777777778,\"#fb9f3a\"],[0.8888888888888888,\"#fdca26\"],[1.0,\"#f0f921\"]],\"sequentialminus\":[[0.0,\"#0d0887\"],[0.1111111111111111,\"#46039f\"],[0.2222222222222222,\"#7201a8\"],[0.3333333333333333,\"#9c179e\"],[0.4444444444444444,\"#bd3786\"],[0.5555555555555556,\"#d8576b\"],[0.6666666666666666,\"#ed7953\"],[0.7777777777777778,\"#fb9f3a\"],[0.8888888888888888,\"#fdca26\"],[1.0,\"#f0f921\"]]},\"colorway\":[\"#636efa\",\"#EF553B\",\"#00cc96\",\"#ab63fa\",\"#FFA15A\",\"#19d3f3\",\"#FF6692\",\"#B6E880\",\"#FF97FF\",\"#FECB52\"],\"font\":{\"color\":\"#2a3f5f\"},\"geo\":{\"bgcolor\":\"white\",\"lakecolor\":\"white\",\"landcolor\":\"#E5ECF6\",\"showlakes\":true,\"showland\":true,\"subunitcolor\":\"white\"},\"hoverlabel\":{\"align\":\"left\"},\"hovermode\":\"closest\",\"mapbox\":{\"style\":\"light\"},\"paper_bgcolor\":\"white\",\"plot_bgcolor\":\"#E5ECF6\",\"polar\":{\"angularaxis\":{\"gridcolor\":\"white\",\"linecolor\":\"white\",\"ticks\":\"\"},\"bgcolor\":\"#E5ECF6\",\"radialaxis\":{\"gridcolor\":\"white\",\"linecolor\":\"white\",\"ticks\":\"\"}},\"scene\":{\"xaxis\":{\"backgroundcolor\":\"#E5ECF6\",\"gridcolor\":\"white\",\"gridwidth\":2,\"linecolor\":\"white\",\"showbackground\":true,\"ticks\":\"\",\"zerolinecolor\":\"white\"},\"yaxis\":{\"backgroundcolor\":\"#E5ECF6\",\"gridcolor\":\"white\",\"gridwidth\":2,\"linecolor\":\"white\",\"showbackground\":true,\"ticks\":\"\",\"zerolinecolor\":\"white\"},\"zaxis\":{\"backgroundcolor\":\"#E5ECF6\",\"gridcolor\":\"white\",\"gridwidth\":2,\"linecolor\":\"white\",\"showbackground\":true,\"ticks\":\"\",\"zerolinecolor\":\"white\"}},\"shapedefaults\":{\"line\":{\"color\":\"#2a3f5f\"}},\"ternary\":{\"aaxis\":{\"gridcolor\":\"white\",\"linecolor\":\"white\",\"ticks\":\"\"},\"baxis\":{\"gridcolor\":\"white\",\"linecolor\":\"white\",\"ticks\":\"\"},\"bgcolor\":\"#E5ECF6\",\"caxis\":{\"gridcolor\":\"white\",\"linecolor\":\"white\",\"ticks\":\"\"}},\"title\":{\"x\":0.05},\"xaxis\":{\"automargin\":true,\"gridcolor\":\"white\",\"linecolor\":\"white\",\"ticks\":\"\",\"title\":{\"standoff\":15},\"zerolinecolor\":\"white\",\"zerolinewidth\":2},\"yaxis\":{\"automargin\":true,\"gridcolor\":\"white\",\"linecolor\":\"white\",\"ticks\":\"\",\"title\":{\"standoff\":15},\"zerolinecolor\":\"white\",\"zerolinewidth\":2}}},\"xaxis\":{\"anchor\":\"y\",\"domain\":[0.0,1.0],\"title\":{\"text\":\"tsne_x\"}},\"yaxis\":{\"anchor\":\"x\",\"domain\":[0.0,1.0],\"title\":{\"text\":\"tsne_y\"}},\"legend\":{\"title\":{\"text\":\"trace_bool\"},\"tracegroupgap\":0},\"title\":{\"text\":\"train Graph Embeddings\"}},                        {\"responsive\": true}                    ).then(function(){\n",
       "                            \n",
       "var gd = document.getElementById('ed44345e-cd40-449c-a672-92d24d172f6d');\n",
       "var x = new MutationObserver(function (mutations, observer) {{\n",
       "        var display = window.getComputedStyle(gd).display;\n",
       "        if (!display || display === 'none') {{\n",
       "            console.log([gd, 'removed!']);\n",
       "            Plotly.purge(gd);\n",
       "            observer.disconnect();\n",
       "        }}\n",
       "}});\n",
       "\n",
       "// Listen for the removal of the full notebook cells\n",
       "var notebookContainer = gd.closest('#notebook-container');\n",
       "if (notebookContainer) {{\n",
       "    x.observe(notebookContainer, {childList: true});\n",
       "}}\n",
       "\n",
       "// Listen for the clearing of the current output cell\n",
       "var outputEl = gd.closest('.output');\n",
       "if (outputEl) {{\n",
       "    x.observe(outputEl, {childList: true});\n",
       "}}\n",
       "\n",
       "                        })                };                });            </script>        </div>"
      ]
     },
     "metadata": {},
     "output_type": "display_data"
    },
    {
     "data": {
      "text/html": [
       "<div>\n",
       "<style scoped>\n",
       "    .dataframe tbody tr th:only-of-type {\n",
       "        vertical-align: middle;\n",
       "    }\n",
       "\n",
       "    .dataframe tbody tr th {\n",
       "        vertical-align: top;\n",
       "    }\n",
       "\n",
       "    .dataframe thead th {\n",
       "        text-align: right;\n",
       "    }\n",
       "</style>\n",
       "<table border=\"1\" class=\"dataframe\">\n",
       "  <thead>\n",
       "    <tr style=\"text-align: right;\">\n",
       "      <th></th>\n",
       "      <th>e0</th>\n",
       "      <th>e1</th>\n",
       "      <th>e2</th>\n",
       "      <th>e3</th>\n",
       "      <th>e4</th>\n",
       "      <th>e5</th>\n",
       "      <th>e6</th>\n",
       "      <th>scores</th>\n",
       "      <th>trace_id</th>\n",
       "      <th>dataset</th>\n",
       "      <th>trace_bool</th>\n",
       "      <th>error_trace_type</th>\n",
       "      <th>process_idx</th>\n",
       "      <th>tsne_x</th>\n",
       "      <th>tsne_y</th>\n",
       "    </tr>\n",
       "  </thead>\n",
       "  <tbody>\n",
       "    <tr>\n",
       "      <th>0</th>\n",
       "      <td>0.520535</td>\n",
       "      <td>0.515478</td>\n",
       "      <td>0.456913</td>\n",
       "      <td>0.509961</td>\n",
       "      <td>0.498815</td>\n",
       "      <td>0.568031</td>\n",
       "      <td>0.530657</td>\n",
       "      <td>2.1193752e-07</td>\n",
       "      <td>20897</td>\n",
       "      <td>train</td>\n",
       "      <td>True</td>\n",
       "      <td>normal</td>\n",
       "      <td>1</td>\n",
       "      <td>-1.263557</td>\n",
       "      <td>-3.405915</td>\n",
       "    </tr>\n",
       "    <tr>\n",
       "      <th>1</th>\n",
       "      <td>0.520501</td>\n",
       "      <td>0.515456</td>\n",
       "      <td>0.456903</td>\n",
       "      <td>0.509966</td>\n",
       "      <td>0.498823</td>\n",
       "      <td>0.568028</td>\n",
       "      <td>0.530672</td>\n",
       "      <td>2.095012e-07</td>\n",
       "      <td>49689</td>\n",
       "      <td>train</td>\n",
       "      <td>True</td>\n",
       "      <td>normal</td>\n",
       "      <td>3</td>\n",
       "      <td>-4.407766</td>\n",
       "      <td>-11.033535</td>\n",
       "    </tr>\n",
       "    <tr>\n",
       "      <th>2</th>\n",
       "      <td>0.520529</td>\n",
       "      <td>0.515480</td>\n",
       "      <td>0.456926</td>\n",
       "      <td>0.509963</td>\n",
       "      <td>0.498822</td>\n",
       "      <td>0.568048</td>\n",
       "      <td>0.530674</td>\n",
       "      <td>2.1283313e-07</td>\n",
       "      <td>72616</td>\n",
       "      <td>train</td>\n",
       "      <td>True</td>\n",
       "      <td>normal</td>\n",
       "      <td>4</td>\n",
       "      <td>4.046987</td>\n",
       "      <td>-6.796407</td>\n",
       "    </tr>\n",
       "    <tr>\n",
       "      <th>3</th>\n",
       "      <td>0.520535</td>\n",
       "      <td>0.515466</td>\n",
       "      <td>0.456904</td>\n",
       "      <td>0.509957</td>\n",
       "      <td>0.498799</td>\n",
       "      <td>0.568042</td>\n",
       "      <td>0.530646</td>\n",
       "      <td>2.0852288e-07</td>\n",
       "      <td>50897</td>\n",
       "      <td>train</td>\n",
       "      <td>True</td>\n",
       "      <td>normal</td>\n",
       "      <td>3</td>\n",
       "      <td>-3.738350</td>\n",
       "      <td>-4.054055</td>\n",
       "    </tr>\n",
       "    <tr>\n",
       "      <th>4</th>\n",
       "      <td>0.520511</td>\n",
       "      <td>0.515449</td>\n",
       "      <td>0.456905</td>\n",
       "      <td>0.509963</td>\n",
       "      <td>0.498816</td>\n",
       "      <td>0.568034</td>\n",
       "      <td>0.530678</td>\n",
       "      <td>2.0855681e-07</td>\n",
       "      <td>68786</td>\n",
       "      <td>train</td>\n",
       "      <td>True</td>\n",
       "      <td>normal</td>\n",
       "      <td>4</td>\n",
       "      <td>-5.157614</td>\n",
       "      <td>-10.506175</td>\n",
       "    </tr>\n",
       "    <tr>\n",
       "      <th>...</th>\n",
       "      <td>...</td>\n",
       "      <td>...</td>\n",
       "      <td>...</td>\n",
       "      <td>...</td>\n",
       "      <td>...</td>\n",
       "      <td>...</td>\n",
       "      <td>...</td>\n",
       "      <td>...</td>\n",
       "      <td>...</td>\n",
       "      <td>...</td>\n",
       "      <td>...</td>\n",
       "      <td>...</td>\n",
       "      <td>...</td>\n",
       "      <td>...</td>\n",
       "      <td>...</td>\n",
       "    </tr>\n",
       "    <tr>\n",
       "      <th>195</th>\n",
       "      <td>0.520514</td>\n",
       "      <td>0.515459</td>\n",
       "      <td>0.456931</td>\n",
       "      <td>0.509911</td>\n",
       "      <td>0.498786</td>\n",
       "      <td>0.568107</td>\n",
       "      <td>0.530660</td>\n",
       "      <td>2.0979348e-07</td>\n",
       "      <td>24275</td>\n",
       "      <td>train</td>\n",
       "      <td>True</td>\n",
       "      <td>normal</td>\n",
       "      <td>1</td>\n",
       "      <td>-16.760588</td>\n",
       "      <td>0.526813</td>\n",
       "    </tr>\n",
       "    <tr>\n",
       "      <th>196</th>\n",
       "      <td>0.520533</td>\n",
       "      <td>0.515484</td>\n",
       "      <td>0.456918</td>\n",
       "      <td>0.509962</td>\n",
       "      <td>0.498813</td>\n",
       "      <td>0.568040</td>\n",
       "      <td>0.530661</td>\n",
       "      <td>2.1158912e-07</td>\n",
       "      <td>128167</td>\n",
       "      <td>train</td>\n",
       "      <td>True</td>\n",
       "      <td>normal</td>\n",
       "      <td>8</td>\n",
       "      <td>0.156953</td>\n",
       "      <td>-4.676550</td>\n",
       "    </tr>\n",
       "    <tr>\n",
       "      <th>197</th>\n",
       "      <td>0.520468</td>\n",
       "      <td>0.515438</td>\n",
       "      <td>0.456940</td>\n",
       "      <td>0.509974</td>\n",
       "      <td>0.498858</td>\n",
       "      <td>0.568086</td>\n",
       "      <td>0.530736</td>\n",
       "      <td>2.133975e-07</td>\n",
       "      <td>4886</td>\n",
       "      <td>train</td>\n",
       "      <td>True</td>\n",
       "      <td>normal</td>\n",
       "      <td>0</td>\n",
       "      <td>28.008453</td>\n",
       "      <td>15.156784</td>\n",
       "    </tr>\n",
       "    <tr>\n",
       "      <th>198</th>\n",
       "      <td>0.520504</td>\n",
       "      <td>0.515476</td>\n",
       "      <td>0.456937</td>\n",
       "      <td>0.509930</td>\n",
       "      <td>0.498798</td>\n",
       "      <td>0.568097</td>\n",
       "      <td>0.530667</td>\n",
       "      <td>2.1156735e-07</td>\n",
       "      <td>61839</td>\n",
       "      <td>train</td>\n",
       "      <td>True</td>\n",
       "      <td>normal</td>\n",
       "      <td>4</td>\n",
       "      <td>-15.174058</td>\n",
       "      <td>2.141134</td>\n",
       "    </tr>\n",
       "    <tr>\n",
       "      <th>199</th>\n",
       "      <td>0.520468</td>\n",
       "      <td>0.515438</td>\n",
       "      <td>0.456940</td>\n",
       "      <td>0.509974</td>\n",
       "      <td>0.498858</td>\n",
       "      <td>0.568086</td>\n",
       "      <td>0.530736</td>\n",
       "      <td>2.1339498e-07</td>\n",
       "      <td>97529</td>\n",
       "      <td>train</td>\n",
       "      <td>True</td>\n",
       "      <td>normal</td>\n",
       "      <td>6</td>\n",
       "      <td>27.702124</td>\n",
       "      <td>14.966130</td>\n",
       "    </tr>\n",
       "  </tbody>\n",
       "</table>\n",
       "<p>200 rows × 15 columns</p>\n",
       "</div>"
      ],
      "text/plain": [
       "           e0        e1        e2        e3        e4        e5        e6  \\\n",
       "0    0.520535  0.515478  0.456913  0.509961  0.498815  0.568031  0.530657   \n",
       "1    0.520501  0.515456  0.456903  0.509966  0.498823  0.568028  0.530672   \n",
       "2    0.520529  0.515480  0.456926  0.509963  0.498822  0.568048  0.530674   \n",
       "3    0.520535  0.515466  0.456904  0.509957  0.498799  0.568042  0.530646   \n",
       "4    0.520511  0.515449  0.456905  0.509963  0.498816  0.568034  0.530678   \n",
       "..        ...       ...       ...       ...       ...       ...       ...   \n",
       "195  0.520514  0.515459  0.456931  0.509911  0.498786  0.568107  0.530660   \n",
       "196  0.520533  0.515484  0.456918  0.509962  0.498813  0.568040  0.530661   \n",
       "197  0.520468  0.515438  0.456940  0.509974  0.498858  0.568086  0.530736   \n",
       "198  0.520504  0.515476  0.456937  0.509930  0.498798  0.568097  0.530667   \n",
       "199  0.520468  0.515438  0.456940  0.509974  0.498858  0.568086  0.530736   \n",
       "\n",
       "            scores  trace_id dataset  trace_bool error_trace_type  \\\n",
       "0    2.1193752e-07     20897   train        True           normal   \n",
       "1     2.095012e-07     49689   train        True           normal   \n",
       "2    2.1283313e-07     72616   train        True           normal   \n",
       "3    2.0852288e-07     50897   train        True           normal   \n",
       "4    2.0855681e-07     68786   train        True           normal   \n",
       "..             ...       ...     ...         ...              ...   \n",
       "195  2.0979348e-07     24275   train        True           normal   \n",
       "196  2.1158912e-07    128167   train        True           normal   \n",
       "197   2.133975e-07      4886   train        True           normal   \n",
       "198  2.1156735e-07     61839   train        True           normal   \n",
       "199  2.1339498e-07     97529   train        True           normal   \n",
       "\n",
       "     process_idx     tsne_x     tsne_y  \n",
       "0              1  -1.263557  -3.405915  \n",
       "1              3  -4.407766 -11.033535  \n",
       "2              4   4.046987  -6.796407  \n",
       "3              3  -3.738350  -4.054055  \n",
       "4              4  -5.157614 -10.506175  \n",
       "..           ...        ...        ...  \n",
       "195            1 -16.760588   0.526813  \n",
       "196            8   0.156953  -4.676550  \n",
       "197            0  28.008453  15.156784  \n",
       "198            4 -15.174058   2.141134  \n",
       "199            6  27.702124  14.966130  \n",
       "\n",
       "[200 rows x 15 columns]"
      ]
     },
     "execution_count": 61,
     "metadata": {},
     "output_type": "execute_result"
    }
   ],
   "source": [
    "train_result_df = get_graph_results(model, train_gids, name='train')\n",
    "train_result_df"
   ]
  },
  {
   "cell_type": "code",
   "execution_count": 62,
   "metadata": {},
   "outputs": [
    {
     "name": "stderr",
     "output_type": "stream",
     "text": [
      "100%|██████████| 100/100 [00:18<00:00,  5.29it/s]\n"
     ]
    },
    {
     "data": {
      "application/vnd.plotly.v1+json": {
       "config": {
        "plotlyServerURL": "https://plot.ly"
       },
       "data": [
        {
         "hovertemplate": "trace_bool=True<br>tsne_x=%{x}<br>tsne_y=%{y}<extra></extra>",
         "legendgroup": "True",
         "marker": {
          "color": "#636efa",
          "symbol": "circle"
         },
         "mode": "markers",
         "name": "True",
         "orientation": "v",
         "showlegend": true,
         "type": "scatter",
         "x": [
          -4.028482913970947,
          -1.4998860359191895,
          -2.307248830795288,
          -8.752745628356934,
          -8.530957221984863,
          -6.532730579376221,
          -1.5198596715927124,
          -6.855478763580322,
          -2.263706684112549,
          -6.528895378112793,
          -2.038858413696289,
          -2.49064040184021,
          -6.767026901245117,
          -6.447000980377197,
          -1.499942660331726,
          -1.4937007427215576,
          -4.048892974853516,
          -7.317041397094727,
          -4.079493522644043,
          -2.0183534622192383,
          -7.375026226043701,
          -6.6224284172058105,
          -2.509345293045044,
          -2.495311737060547,
          -2.4729225635528564,
          -4.048892974853516,
          -4.389156341552734,
          -6.8982744216918945,
          -4.358315467834473,
          -2.289490222930908,
          -6.778076648712158,
          -7.696186065673828,
          -8.219143867492676,
          -4.354050159454346,
          -8.531168937683105,
          -1.8737519979476929,
          -1.8684800863265991,
          -3.007289171218872,
          -8.750449180603027,
          -4.40383243560791,
          -2.2925775051116943,
          -2.4903831481933594,
          -1.5043493509292603,
          -7.878380298614502,
          -2.2719011306762695,
          -7.868741989135742,
          -1.8874154090881348,
          -4.048893928527832,
          -4.074657440185547,
          -5.981996536254883,
          -4.048876762390137,
          -3.1534388065338135,
          -7.133693695068359,
          -7.858425617218018,
          -7.611796855926514,
          -3.947841167449951,
          -2.4518983364105225,
          -1.014296531677246,
          -6.451299667358398,
          -2.02496600151062,
          -6.56152868270874,
          -8.749567031860352,
          -3.0443224906921387,
          -2.0040457248687744,
          -3.0160648822784424,
          -4.354920387268066,
          -2.789992570877075,
          -3.947908401489258,
          -7.734772205352783,
          -3.9478414058685303,
          -4.048893451690674,
          -3.380169630050659,
          -2.768630027770996,
          -8.126239776611328,
          -2.275270938873291,
          -7.740536212921143,
          -8.531454086303711,
          -7.767336368560791,
          -2.496448040008545,
          -4.372311592102051
         ],
         "xaxis": "x",
         "y": [
          0.17034363746643066,
          8.115198135375977,
          -4.9817633628845215,
          0.8826434016227722,
          1.9354918003082275,
          -0.32016274333000183,
          8.13371753692627,
          -0.3641127347946167,
          -4.374367713928223,
          -0.24666139483451843,
          -4.964122772216797,
          -4.777055263519287,
          -0.3363683819770813,
          0.1814500242471695,
          8.131558418273926,
          8.093278884887695,
          0.11950258165597916,
          1.4492319822311401,
          2.2224600315093994,
          -4.9551897048950195,
          1.3501981496810913,
          -0.3308494985103607,
          7.233668327331543,
          7.250231742858887,
          -4.828346252441406,
          0.119502492249012,
          4.277210712432861,
          0.21884730458259583,
          3.3621602058410645,
          9.04141616821289,
          -0.3634445071220398,
          0.8696175217628479,
          0.3018091320991516,
          3.3354759216308594,
          1.9340142011642456,
          -4.602026462554932,
          -4.645384311676025,
          8.838932991027832,
          0.8815534114837646,
          4.214616298675537,
          -4.382293224334717,
          7.2706451416015625,
          8.113093376159668,
          0.6838849782943726,
          -4.993434429168701,
          0.9183839559555054,
          -4.80419921875,
          0.1195024698972702,
          2.2155489921569824,
          2.508021831512451,
          0.11810462176799774,
          9.184409141540527,
          -0.11163502186536789,
          0.7794419527053833,
          1.3839008808135986,
          -0.2823861837387085,
          -4.507458209991455,
          8.731674194335938,
          0.18033844232559204,
          -4.40199613571167,
          0.2433294802904129,
          0.8835545182228088,
          9.147841453552246,
          -4.414307117462158,
          9.256814002990723,
          3.3547606468200684,
          8.375513076782227,
          -0.2826664447784424,
          0.9293574094772339,
          -0.2823866009712219,
          0.11950258910655975,
          9.083931922912598,
          8.426139831542969,
          0.9159688949584961,
          8.917939186096191,
          0.7957555055618286,
          1.9330391883850098,
          0.9345514178276062,
          -4.614780426025391,
          3.4181480407714844
         ],
         "yaxis": "y"
        },
        {
         "hovertemplate": "trace_bool=False<br>tsne_x=%{x}<br>tsne_y=%{y}<extra></extra>",
         "legendgroup": "False",
         "marker": {
          "color": "#EF553B",
          "symbol": "circle"
         },
         "mode": "markers",
         "name": "False",
         "orientation": "v",
         "showlegend": true,
         "type": "scatter",
         "x": [
          -1.5234647989273071,
          -3.1498258113861084,
          -2.3162589073181152,
          -3.5448622703552246,
          -5.233036994934082,
          -3.362539291381836,
          -7.988382816314697,
          -1.514727234840393,
          -2.6472678184509277,
          -2.3802084922790527,
          -9.610549926757812,
          -1.5848321914672852,
          -2.5515296459198,
          -5.235969543457031,
          -9.359334945678711,
          -5.237527847290039,
          -9.628454208374023,
          -4.4310102462768555,
          -9.509634971618652,
          -4.449540615081787
         ],
         "xaxis": "x",
         "y": [
          7.781437873840332,
          8.722601890563965,
          8.575228691101074,
          9.100468635559082,
          -0.966586172580719,
          8.996711730957031,
          0.1884816735982895,
          7.773293972015381,
          7.85330057144165,
          7.5258941650390625,
          1.8822144269943237,
          6.604300022125244,
          7.12523078918457,
          -0.9680113196372986,
          2.1197049617767334,
          -0.9682126641273499,
          1.8510892391204834,
          4.234912395477295,
          1.5163190364837646,
          3.587320327758789
         ],
         "yaxis": "y"
        }
       ],
       "layout": {
        "legend": {
         "title": {
          "text": "trace_bool"
         },
         "tracegroupgap": 0
        },
        "template": {
         "data": {
          "bar": [
           {
            "error_x": {
             "color": "#2a3f5f"
            },
            "error_y": {
             "color": "#2a3f5f"
            },
            "marker": {
             "line": {
              "color": "#E5ECF6",
              "width": 0.5
             },
             "pattern": {
              "fillmode": "overlay",
              "size": 10,
              "solidity": 0.2
             }
            },
            "type": "bar"
           }
          ],
          "barpolar": [
           {
            "marker": {
             "line": {
              "color": "#E5ECF6",
              "width": 0.5
             },
             "pattern": {
              "fillmode": "overlay",
              "size": 10,
              "solidity": 0.2
             }
            },
            "type": "barpolar"
           }
          ],
          "carpet": [
           {
            "aaxis": {
             "endlinecolor": "#2a3f5f",
             "gridcolor": "white",
             "linecolor": "white",
             "minorgridcolor": "white",
             "startlinecolor": "#2a3f5f"
            },
            "baxis": {
             "endlinecolor": "#2a3f5f",
             "gridcolor": "white",
             "linecolor": "white",
             "minorgridcolor": "white",
             "startlinecolor": "#2a3f5f"
            },
            "type": "carpet"
           }
          ],
          "choropleth": [
           {
            "colorbar": {
             "outlinewidth": 0,
             "ticks": ""
            },
            "type": "choropleth"
           }
          ],
          "contour": [
           {
            "colorbar": {
             "outlinewidth": 0,
             "ticks": ""
            },
            "colorscale": [
             [
              0,
              "#0d0887"
             ],
             [
              0.1111111111111111,
              "#46039f"
             ],
             [
              0.2222222222222222,
              "#7201a8"
             ],
             [
              0.3333333333333333,
              "#9c179e"
             ],
             [
              0.4444444444444444,
              "#bd3786"
             ],
             [
              0.5555555555555556,
              "#d8576b"
             ],
             [
              0.6666666666666666,
              "#ed7953"
             ],
             [
              0.7777777777777778,
              "#fb9f3a"
             ],
             [
              0.8888888888888888,
              "#fdca26"
             ],
             [
              1,
              "#f0f921"
             ]
            ],
            "type": "contour"
           }
          ],
          "contourcarpet": [
           {
            "colorbar": {
             "outlinewidth": 0,
             "ticks": ""
            },
            "type": "contourcarpet"
           }
          ],
          "heatmap": [
           {
            "colorbar": {
             "outlinewidth": 0,
             "ticks": ""
            },
            "colorscale": [
             [
              0,
              "#0d0887"
             ],
             [
              0.1111111111111111,
              "#46039f"
             ],
             [
              0.2222222222222222,
              "#7201a8"
             ],
             [
              0.3333333333333333,
              "#9c179e"
             ],
             [
              0.4444444444444444,
              "#bd3786"
             ],
             [
              0.5555555555555556,
              "#d8576b"
             ],
             [
              0.6666666666666666,
              "#ed7953"
             ],
             [
              0.7777777777777778,
              "#fb9f3a"
             ],
             [
              0.8888888888888888,
              "#fdca26"
             ],
             [
              1,
              "#f0f921"
             ]
            ],
            "type": "heatmap"
           }
          ],
          "heatmapgl": [
           {
            "colorbar": {
             "outlinewidth": 0,
             "ticks": ""
            },
            "colorscale": [
             [
              0,
              "#0d0887"
             ],
             [
              0.1111111111111111,
              "#46039f"
             ],
             [
              0.2222222222222222,
              "#7201a8"
             ],
             [
              0.3333333333333333,
              "#9c179e"
             ],
             [
              0.4444444444444444,
              "#bd3786"
             ],
             [
              0.5555555555555556,
              "#d8576b"
             ],
             [
              0.6666666666666666,
              "#ed7953"
             ],
             [
              0.7777777777777778,
              "#fb9f3a"
             ],
             [
              0.8888888888888888,
              "#fdca26"
             ],
             [
              1,
              "#f0f921"
             ]
            ],
            "type": "heatmapgl"
           }
          ],
          "histogram": [
           {
            "marker": {
             "pattern": {
              "fillmode": "overlay",
              "size": 10,
              "solidity": 0.2
             }
            },
            "type": "histogram"
           }
          ],
          "histogram2d": [
           {
            "colorbar": {
             "outlinewidth": 0,
             "ticks": ""
            },
            "colorscale": [
             [
              0,
              "#0d0887"
             ],
             [
              0.1111111111111111,
              "#46039f"
             ],
             [
              0.2222222222222222,
              "#7201a8"
             ],
             [
              0.3333333333333333,
              "#9c179e"
             ],
             [
              0.4444444444444444,
              "#bd3786"
             ],
             [
              0.5555555555555556,
              "#d8576b"
             ],
             [
              0.6666666666666666,
              "#ed7953"
             ],
             [
              0.7777777777777778,
              "#fb9f3a"
             ],
             [
              0.8888888888888888,
              "#fdca26"
             ],
             [
              1,
              "#f0f921"
             ]
            ],
            "type": "histogram2d"
           }
          ],
          "histogram2dcontour": [
           {
            "colorbar": {
             "outlinewidth": 0,
             "ticks": ""
            },
            "colorscale": [
             [
              0,
              "#0d0887"
             ],
             [
              0.1111111111111111,
              "#46039f"
             ],
             [
              0.2222222222222222,
              "#7201a8"
             ],
             [
              0.3333333333333333,
              "#9c179e"
             ],
             [
              0.4444444444444444,
              "#bd3786"
             ],
             [
              0.5555555555555556,
              "#d8576b"
             ],
             [
              0.6666666666666666,
              "#ed7953"
             ],
             [
              0.7777777777777778,
              "#fb9f3a"
             ],
             [
              0.8888888888888888,
              "#fdca26"
             ],
             [
              1,
              "#f0f921"
             ]
            ],
            "type": "histogram2dcontour"
           }
          ],
          "mesh3d": [
           {
            "colorbar": {
             "outlinewidth": 0,
             "ticks": ""
            },
            "type": "mesh3d"
           }
          ],
          "parcoords": [
           {
            "line": {
             "colorbar": {
              "outlinewidth": 0,
              "ticks": ""
             }
            },
            "type": "parcoords"
           }
          ],
          "pie": [
           {
            "automargin": true,
            "type": "pie"
           }
          ],
          "scatter": [
           {
            "marker": {
             "colorbar": {
              "outlinewidth": 0,
              "ticks": ""
             }
            },
            "type": "scatter"
           }
          ],
          "scatter3d": [
           {
            "line": {
             "colorbar": {
              "outlinewidth": 0,
              "ticks": ""
             }
            },
            "marker": {
             "colorbar": {
              "outlinewidth": 0,
              "ticks": ""
             }
            },
            "type": "scatter3d"
           }
          ],
          "scattercarpet": [
           {
            "marker": {
             "colorbar": {
              "outlinewidth": 0,
              "ticks": ""
             }
            },
            "type": "scattercarpet"
           }
          ],
          "scattergeo": [
           {
            "marker": {
             "colorbar": {
              "outlinewidth": 0,
              "ticks": ""
             }
            },
            "type": "scattergeo"
           }
          ],
          "scattergl": [
           {
            "marker": {
             "colorbar": {
              "outlinewidth": 0,
              "ticks": ""
             }
            },
            "type": "scattergl"
           }
          ],
          "scattermapbox": [
           {
            "marker": {
             "colorbar": {
              "outlinewidth": 0,
              "ticks": ""
             }
            },
            "type": "scattermapbox"
           }
          ],
          "scatterpolar": [
           {
            "marker": {
             "colorbar": {
              "outlinewidth": 0,
              "ticks": ""
             }
            },
            "type": "scatterpolar"
           }
          ],
          "scatterpolargl": [
           {
            "marker": {
             "colorbar": {
              "outlinewidth": 0,
              "ticks": ""
             }
            },
            "type": "scatterpolargl"
           }
          ],
          "scatterternary": [
           {
            "marker": {
             "colorbar": {
              "outlinewidth": 0,
              "ticks": ""
             }
            },
            "type": "scatterternary"
           }
          ],
          "surface": [
           {
            "colorbar": {
             "outlinewidth": 0,
             "ticks": ""
            },
            "colorscale": [
             [
              0,
              "#0d0887"
             ],
             [
              0.1111111111111111,
              "#46039f"
             ],
             [
              0.2222222222222222,
              "#7201a8"
             ],
             [
              0.3333333333333333,
              "#9c179e"
             ],
             [
              0.4444444444444444,
              "#bd3786"
             ],
             [
              0.5555555555555556,
              "#d8576b"
             ],
             [
              0.6666666666666666,
              "#ed7953"
             ],
             [
              0.7777777777777778,
              "#fb9f3a"
             ],
             [
              0.8888888888888888,
              "#fdca26"
             ],
             [
              1,
              "#f0f921"
             ]
            ],
            "type": "surface"
           }
          ],
          "table": [
           {
            "cells": {
             "fill": {
              "color": "#EBF0F8"
             },
             "line": {
              "color": "white"
             }
            },
            "header": {
             "fill": {
              "color": "#C8D4E3"
             },
             "line": {
              "color": "white"
             }
            },
            "type": "table"
           }
          ]
         },
         "layout": {
          "annotationdefaults": {
           "arrowcolor": "#2a3f5f",
           "arrowhead": 0,
           "arrowwidth": 1
          },
          "autotypenumbers": "strict",
          "coloraxis": {
           "colorbar": {
            "outlinewidth": 0,
            "ticks": ""
           }
          },
          "colorscale": {
           "diverging": [
            [
             0,
             "#8e0152"
            ],
            [
             0.1,
             "#c51b7d"
            ],
            [
             0.2,
             "#de77ae"
            ],
            [
             0.3,
             "#f1b6da"
            ],
            [
             0.4,
             "#fde0ef"
            ],
            [
             0.5,
             "#f7f7f7"
            ],
            [
             0.6,
             "#e6f5d0"
            ],
            [
             0.7,
             "#b8e186"
            ],
            [
             0.8,
             "#7fbc41"
            ],
            [
             0.9,
             "#4d9221"
            ],
            [
             1,
             "#276419"
            ]
           ],
           "sequential": [
            [
             0,
             "#0d0887"
            ],
            [
             0.1111111111111111,
             "#46039f"
            ],
            [
             0.2222222222222222,
             "#7201a8"
            ],
            [
             0.3333333333333333,
             "#9c179e"
            ],
            [
             0.4444444444444444,
             "#bd3786"
            ],
            [
             0.5555555555555556,
             "#d8576b"
            ],
            [
             0.6666666666666666,
             "#ed7953"
            ],
            [
             0.7777777777777778,
             "#fb9f3a"
            ],
            [
             0.8888888888888888,
             "#fdca26"
            ],
            [
             1,
             "#f0f921"
            ]
           ],
           "sequentialminus": [
            [
             0,
             "#0d0887"
            ],
            [
             0.1111111111111111,
             "#46039f"
            ],
            [
             0.2222222222222222,
             "#7201a8"
            ],
            [
             0.3333333333333333,
             "#9c179e"
            ],
            [
             0.4444444444444444,
             "#bd3786"
            ],
            [
             0.5555555555555556,
             "#d8576b"
            ],
            [
             0.6666666666666666,
             "#ed7953"
            ],
            [
             0.7777777777777778,
             "#fb9f3a"
            ],
            [
             0.8888888888888888,
             "#fdca26"
            ],
            [
             1,
             "#f0f921"
            ]
           ]
          },
          "colorway": [
           "#636efa",
           "#EF553B",
           "#00cc96",
           "#ab63fa",
           "#FFA15A",
           "#19d3f3",
           "#FF6692",
           "#B6E880",
           "#FF97FF",
           "#FECB52"
          ],
          "font": {
           "color": "#2a3f5f"
          },
          "geo": {
           "bgcolor": "white",
           "lakecolor": "white",
           "landcolor": "#E5ECF6",
           "showlakes": true,
           "showland": true,
           "subunitcolor": "white"
          },
          "hoverlabel": {
           "align": "left"
          },
          "hovermode": "closest",
          "mapbox": {
           "style": "light"
          },
          "paper_bgcolor": "white",
          "plot_bgcolor": "#E5ECF6",
          "polar": {
           "angularaxis": {
            "gridcolor": "white",
            "linecolor": "white",
            "ticks": ""
           },
           "bgcolor": "#E5ECF6",
           "radialaxis": {
            "gridcolor": "white",
            "linecolor": "white",
            "ticks": ""
           }
          },
          "scene": {
           "xaxis": {
            "backgroundcolor": "#E5ECF6",
            "gridcolor": "white",
            "gridwidth": 2,
            "linecolor": "white",
            "showbackground": true,
            "ticks": "",
            "zerolinecolor": "white"
           },
           "yaxis": {
            "backgroundcolor": "#E5ECF6",
            "gridcolor": "white",
            "gridwidth": 2,
            "linecolor": "white",
            "showbackground": true,
            "ticks": "",
            "zerolinecolor": "white"
           },
           "zaxis": {
            "backgroundcolor": "#E5ECF6",
            "gridcolor": "white",
            "gridwidth": 2,
            "linecolor": "white",
            "showbackground": true,
            "ticks": "",
            "zerolinecolor": "white"
           }
          },
          "shapedefaults": {
           "line": {
            "color": "#2a3f5f"
           }
          },
          "ternary": {
           "aaxis": {
            "gridcolor": "white",
            "linecolor": "white",
            "ticks": ""
           },
           "baxis": {
            "gridcolor": "white",
            "linecolor": "white",
            "ticks": ""
           },
           "bgcolor": "#E5ECF6",
           "caxis": {
            "gridcolor": "white",
            "linecolor": "white",
            "ticks": ""
           }
          },
          "title": {
           "x": 0.05
          },
          "xaxis": {
           "automargin": true,
           "gridcolor": "white",
           "linecolor": "white",
           "ticks": "",
           "title": {
            "standoff": 15
           },
           "zerolinecolor": "white",
           "zerolinewidth": 2
          },
          "yaxis": {
           "automargin": true,
           "gridcolor": "white",
           "linecolor": "white",
           "ticks": "",
           "title": {
            "standoff": 15
           },
           "zerolinecolor": "white",
           "zerolinewidth": 2
          }
         }
        },
        "title": {
         "text": "eval Graph Embeddings"
        },
        "xaxis": {
         "anchor": "y",
         "domain": [
          0,
          1
         ],
         "title": {
          "text": "tsne_x"
         }
        },
        "yaxis": {
         "anchor": "x",
         "domain": [
          0,
          1
         ],
         "title": {
          "text": "tsne_y"
         }
        }
       }
      },
      "text/html": [
       "<div>                            <div id=\"ae2c892c-c0cd-40b9-ae2c-5e5748540aa5\" class=\"plotly-graph-div\" style=\"height:525px; width:100%;\"></div>            <script type=\"text/javascript\">                require([\"plotly\"], function(Plotly) {                    window.PLOTLYENV=window.PLOTLYENV || {};                                    if (document.getElementById(\"ae2c892c-c0cd-40b9-ae2c-5e5748540aa5\")) {                    Plotly.newPlot(                        \"ae2c892c-c0cd-40b9-ae2c-5e5748540aa5\",                        [{\"hovertemplate\":\"trace_bool=True<br>tsne_x=%{x}<br>tsne_y=%{y}<extra></extra>\",\"legendgroup\":\"True\",\"marker\":{\"color\":\"#636efa\",\"symbol\":\"circle\"},\"mode\":\"markers\",\"name\":\"True\",\"orientation\":\"v\",\"showlegend\":true,\"x\":[-4.028482913970947,-1.4998860359191895,-2.307248830795288,-8.752745628356934,-8.530957221984863,-6.532730579376221,-1.5198596715927124,-6.855478763580322,-2.263706684112549,-6.528895378112793,-2.038858413696289,-2.49064040184021,-6.767026901245117,-6.447000980377197,-1.499942660331726,-1.4937007427215576,-4.048892974853516,-7.317041397094727,-4.079493522644043,-2.0183534622192383,-7.375026226043701,-6.6224284172058105,-2.509345293045044,-2.495311737060547,-2.4729225635528564,-4.048892974853516,-4.389156341552734,-6.8982744216918945,-4.358315467834473,-2.289490222930908,-6.778076648712158,-7.696186065673828,-8.219143867492676,-4.354050159454346,-8.531168937683105,-1.8737519979476929,-1.8684800863265991,-3.007289171218872,-8.750449180603027,-4.40383243560791,-2.2925775051116943,-2.4903831481933594,-1.5043493509292603,-7.878380298614502,-2.2719011306762695,-7.868741989135742,-1.8874154090881348,-4.048893928527832,-4.074657440185547,-5.981996536254883,-4.048876762390137,-3.1534388065338135,-7.133693695068359,-7.858425617218018,-7.611796855926514,-3.947841167449951,-2.4518983364105225,-1.014296531677246,-6.451299667358398,-2.02496600151062,-6.56152868270874,-8.749567031860352,-3.0443224906921387,-2.0040457248687744,-3.0160648822784424,-4.354920387268066,-2.789992570877075,-3.947908401489258,-7.734772205352783,-3.9478414058685303,-4.048893451690674,-3.380169630050659,-2.768630027770996,-8.126239776611328,-2.275270938873291,-7.740536212921143,-8.531454086303711,-7.767336368560791,-2.496448040008545,-4.372311592102051],\"xaxis\":\"x\",\"y\":[0.17034363746643066,8.115198135375977,-4.9817633628845215,0.8826434016227722,1.9354918003082275,-0.32016274333000183,8.13371753692627,-0.3641127347946167,-4.374367713928223,-0.24666139483451843,-4.964122772216797,-4.777055263519287,-0.3363683819770813,0.1814500242471695,8.131558418273926,8.093278884887695,0.11950258165597916,1.4492319822311401,2.2224600315093994,-4.9551897048950195,1.3501981496810913,-0.3308494985103607,7.233668327331543,7.250231742858887,-4.828346252441406,0.119502492249012,4.277210712432861,0.21884730458259583,3.3621602058410645,9.04141616821289,-0.3634445071220398,0.8696175217628479,0.3018091320991516,3.3354759216308594,1.9340142011642456,-4.602026462554932,-4.645384311676025,8.838932991027832,0.8815534114837646,4.214616298675537,-4.382293224334717,7.2706451416015625,8.113093376159668,0.6838849782943726,-4.993434429168701,0.9183839559555054,-4.80419921875,0.1195024698972702,2.2155489921569824,2.508021831512451,0.11810462176799774,9.184409141540527,-0.11163502186536789,0.7794419527053833,1.3839008808135986,-0.2823861837387085,-4.507458209991455,8.731674194335938,0.18033844232559204,-4.40199613571167,0.2433294802904129,0.8835545182228088,9.147841453552246,-4.414307117462158,9.256814002990723,3.3547606468200684,8.375513076782227,-0.2826664447784424,0.9293574094772339,-0.2823866009712219,0.11950258910655975,9.083931922912598,8.426139831542969,0.9159688949584961,8.917939186096191,0.7957555055618286,1.9330391883850098,0.9345514178276062,-4.614780426025391,3.4181480407714844],\"yaxis\":\"y\",\"type\":\"scatter\"},{\"hovertemplate\":\"trace_bool=False<br>tsne_x=%{x}<br>tsne_y=%{y}<extra></extra>\",\"legendgroup\":\"False\",\"marker\":{\"color\":\"#EF553B\",\"symbol\":\"circle\"},\"mode\":\"markers\",\"name\":\"False\",\"orientation\":\"v\",\"showlegend\":true,\"x\":[-1.5234647989273071,-3.1498258113861084,-2.3162589073181152,-3.5448622703552246,-5.233036994934082,-3.362539291381836,-7.988382816314697,-1.514727234840393,-2.6472678184509277,-2.3802084922790527,-9.610549926757812,-1.5848321914672852,-2.5515296459198,-5.235969543457031,-9.359334945678711,-5.237527847290039,-9.628454208374023,-4.4310102462768555,-9.509634971618652,-4.449540615081787],\"xaxis\":\"x\",\"y\":[7.781437873840332,8.722601890563965,8.575228691101074,9.100468635559082,-0.966586172580719,8.996711730957031,0.1884816735982895,7.773293972015381,7.85330057144165,7.5258941650390625,1.8822144269943237,6.604300022125244,7.12523078918457,-0.9680113196372986,2.1197049617767334,-0.9682126641273499,1.8510892391204834,4.234912395477295,1.5163190364837646,3.587320327758789],\"yaxis\":\"y\",\"type\":\"scatter\"}],                        {\"template\":{\"data\":{\"bar\":[{\"error_x\":{\"color\":\"#2a3f5f\"},\"error_y\":{\"color\":\"#2a3f5f\"},\"marker\":{\"line\":{\"color\":\"#E5ECF6\",\"width\":0.5},\"pattern\":{\"fillmode\":\"overlay\",\"size\":10,\"solidity\":0.2}},\"type\":\"bar\"}],\"barpolar\":[{\"marker\":{\"line\":{\"color\":\"#E5ECF6\",\"width\":0.5},\"pattern\":{\"fillmode\":\"overlay\",\"size\":10,\"solidity\":0.2}},\"type\":\"barpolar\"}],\"carpet\":[{\"aaxis\":{\"endlinecolor\":\"#2a3f5f\",\"gridcolor\":\"white\",\"linecolor\":\"white\",\"minorgridcolor\":\"white\",\"startlinecolor\":\"#2a3f5f\"},\"baxis\":{\"endlinecolor\":\"#2a3f5f\",\"gridcolor\":\"white\",\"linecolor\":\"white\",\"minorgridcolor\":\"white\",\"startlinecolor\":\"#2a3f5f\"},\"type\":\"carpet\"}],\"choropleth\":[{\"colorbar\":{\"outlinewidth\":0,\"ticks\":\"\"},\"type\":\"choropleth\"}],\"contour\":[{\"colorbar\":{\"outlinewidth\":0,\"ticks\":\"\"},\"colorscale\":[[0.0,\"#0d0887\"],[0.1111111111111111,\"#46039f\"],[0.2222222222222222,\"#7201a8\"],[0.3333333333333333,\"#9c179e\"],[0.4444444444444444,\"#bd3786\"],[0.5555555555555556,\"#d8576b\"],[0.6666666666666666,\"#ed7953\"],[0.7777777777777778,\"#fb9f3a\"],[0.8888888888888888,\"#fdca26\"],[1.0,\"#f0f921\"]],\"type\":\"contour\"}],\"contourcarpet\":[{\"colorbar\":{\"outlinewidth\":0,\"ticks\":\"\"},\"type\":\"contourcarpet\"}],\"heatmap\":[{\"colorbar\":{\"outlinewidth\":0,\"ticks\":\"\"},\"colorscale\":[[0.0,\"#0d0887\"],[0.1111111111111111,\"#46039f\"],[0.2222222222222222,\"#7201a8\"],[0.3333333333333333,\"#9c179e\"],[0.4444444444444444,\"#bd3786\"],[0.5555555555555556,\"#d8576b\"],[0.6666666666666666,\"#ed7953\"],[0.7777777777777778,\"#fb9f3a\"],[0.8888888888888888,\"#fdca26\"],[1.0,\"#f0f921\"]],\"type\":\"heatmap\"}],\"heatmapgl\":[{\"colorbar\":{\"outlinewidth\":0,\"ticks\":\"\"},\"colorscale\":[[0.0,\"#0d0887\"],[0.1111111111111111,\"#46039f\"],[0.2222222222222222,\"#7201a8\"],[0.3333333333333333,\"#9c179e\"],[0.4444444444444444,\"#bd3786\"],[0.5555555555555556,\"#d8576b\"],[0.6666666666666666,\"#ed7953\"],[0.7777777777777778,\"#fb9f3a\"],[0.8888888888888888,\"#fdca26\"],[1.0,\"#f0f921\"]],\"type\":\"heatmapgl\"}],\"histogram\":[{\"marker\":{\"pattern\":{\"fillmode\":\"overlay\",\"size\":10,\"solidity\":0.2}},\"type\":\"histogram\"}],\"histogram2d\":[{\"colorbar\":{\"outlinewidth\":0,\"ticks\":\"\"},\"colorscale\":[[0.0,\"#0d0887\"],[0.1111111111111111,\"#46039f\"],[0.2222222222222222,\"#7201a8\"],[0.3333333333333333,\"#9c179e\"],[0.4444444444444444,\"#bd3786\"],[0.5555555555555556,\"#d8576b\"],[0.6666666666666666,\"#ed7953\"],[0.7777777777777778,\"#fb9f3a\"],[0.8888888888888888,\"#fdca26\"],[1.0,\"#f0f921\"]],\"type\":\"histogram2d\"}],\"histogram2dcontour\":[{\"colorbar\":{\"outlinewidth\":0,\"ticks\":\"\"},\"colorscale\":[[0.0,\"#0d0887\"],[0.1111111111111111,\"#46039f\"],[0.2222222222222222,\"#7201a8\"],[0.3333333333333333,\"#9c179e\"],[0.4444444444444444,\"#bd3786\"],[0.5555555555555556,\"#d8576b\"],[0.6666666666666666,\"#ed7953\"],[0.7777777777777778,\"#fb9f3a\"],[0.8888888888888888,\"#fdca26\"],[1.0,\"#f0f921\"]],\"type\":\"histogram2dcontour\"}],\"mesh3d\":[{\"colorbar\":{\"outlinewidth\":0,\"ticks\":\"\"},\"type\":\"mesh3d\"}],\"parcoords\":[{\"line\":{\"colorbar\":{\"outlinewidth\":0,\"ticks\":\"\"}},\"type\":\"parcoords\"}],\"pie\":[{\"automargin\":true,\"type\":\"pie\"}],\"scatter\":[{\"marker\":{\"colorbar\":{\"outlinewidth\":0,\"ticks\":\"\"}},\"type\":\"scatter\"}],\"scatter3d\":[{\"line\":{\"colorbar\":{\"outlinewidth\":0,\"ticks\":\"\"}},\"marker\":{\"colorbar\":{\"outlinewidth\":0,\"ticks\":\"\"}},\"type\":\"scatter3d\"}],\"scattercarpet\":[{\"marker\":{\"colorbar\":{\"outlinewidth\":0,\"ticks\":\"\"}},\"type\":\"scattercarpet\"}],\"scattergeo\":[{\"marker\":{\"colorbar\":{\"outlinewidth\":0,\"ticks\":\"\"}},\"type\":\"scattergeo\"}],\"scattergl\":[{\"marker\":{\"colorbar\":{\"outlinewidth\":0,\"ticks\":\"\"}},\"type\":\"scattergl\"}],\"scattermapbox\":[{\"marker\":{\"colorbar\":{\"outlinewidth\":0,\"ticks\":\"\"}},\"type\":\"scattermapbox\"}],\"scatterpolar\":[{\"marker\":{\"colorbar\":{\"outlinewidth\":0,\"ticks\":\"\"}},\"type\":\"scatterpolar\"}],\"scatterpolargl\":[{\"marker\":{\"colorbar\":{\"outlinewidth\":0,\"ticks\":\"\"}},\"type\":\"scatterpolargl\"}],\"scatterternary\":[{\"marker\":{\"colorbar\":{\"outlinewidth\":0,\"ticks\":\"\"}},\"type\":\"scatterternary\"}],\"surface\":[{\"colorbar\":{\"outlinewidth\":0,\"ticks\":\"\"},\"colorscale\":[[0.0,\"#0d0887\"],[0.1111111111111111,\"#46039f\"],[0.2222222222222222,\"#7201a8\"],[0.3333333333333333,\"#9c179e\"],[0.4444444444444444,\"#bd3786\"],[0.5555555555555556,\"#d8576b\"],[0.6666666666666666,\"#ed7953\"],[0.7777777777777778,\"#fb9f3a\"],[0.8888888888888888,\"#fdca26\"],[1.0,\"#f0f921\"]],\"type\":\"surface\"}],\"table\":[{\"cells\":{\"fill\":{\"color\":\"#EBF0F8\"},\"line\":{\"color\":\"white\"}},\"header\":{\"fill\":{\"color\":\"#C8D4E3\"},\"line\":{\"color\":\"white\"}},\"type\":\"table\"}]},\"layout\":{\"annotationdefaults\":{\"arrowcolor\":\"#2a3f5f\",\"arrowhead\":0,\"arrowwidth\":1},\"autotypenumbers\":\"strict\",\"coloraxis\":{\"colorbar\":{\"outlinewidth\":0,\"ticks\":\"\"}},\"colorscale\":{\"diverging\":[[0,\"#8e0152\"],[0.1,\"#c51b7d\"],[0.2,\"#de77ae\"],[0.3,\"#f1b6da\"],[0.4,\"#fde0ef\"],[0.5,\"#f7f7f7\"],[0.6,\"#e6f5d0\"],[0.7,\"#b8e186\"],[0.8,\"#7fbc41\"],[0.9,\"#4d9221\"],[1,\"#276419\"]],\"sequential\":[[0.0,\"#0d0887\"],[0.1111111111111111,\"#46039f\"],[0.2222222222222222,\"#7201a8\"],[0.3333333333333333,\"#9c179e\"],[0.4444444444444444,\"#bd3786\"],[0.5555555555555556,\"#d8576b\"],[0.6666666666666666,\"#ed7953\"],[0.7777777777777778,\"#fb9f3a\"],[0.8888888888888888,\"#fdca26\"],[1.0,\"#f0f921\"]],\"sequentialminus\":[[0.0,\"#0d0887\"],[0.1111111111111111,\"#46039f\"],[0.2222222222222222,\"#7201a8\"],[0.3333333333333333,\"#9c179e\"],[0.4444444444444444,\"#bd3786\"],[0.5555555555555556,\"#d8576b\"],[0.6666666666666666,\"#ed7953\"],[0.7777777777777778,\"#fb9f3a\"],[0.8888888888888888,\"#fdca26\"],[1.0,\"#f0f921\"]]},\"colorway\":[\"#636efa\",\"#EF553B\",\"#00cc96\",\"#ab63fa\",\"#FFA15A\",\"#19d3f3\",\"#FF6692\",\"#B6E880\",\"#FF97FF\",\"#FECB52\"],\"font\":{\"color\":\"#2a3f5f\"},\"geo\":{\"bgcolor\":\"white\",\"lakecolor\":\"white\",\"landcolor\":\"#E5ECF6\",\"showlakes\":true,\"showland\":true,\"subunitcolor\":\"white\"},\"hoverlabel\":{\"align\":\"left\"},\"hovermode\":\"closest\",\"mapbox\":{\"style\":\"light\"},\"paper_bgcolor\":\"white\",\"plot_bgcolor\":\"#E5ECF6\",\"polar\":{\"angularaxis\":{\"gridcolor\":\"white\",\"linecolor\":\"white\",\"ticks\":\"\"},\"bgcolor\":\"#E5ECF6\",\"radialaxis\":{\"gridcolor\":\"white\",\"linecolor\":\"white\",\"ticks\":\"\"}},\"scene\":{\"xaxis\":{\"backgroundcolor\":\"#E5ECF6\",\"gridcolor\":\"white\",\"gridwidth\":2,\"linecolor\":\"white\",\"showbackground\":true,\"ticks\":\"\",\"zerolinecolor\":\"white\"},\"yaxis\":{\"backgroundcolor\":\"#E5ECF6\",\"gridcolor\":\"white\",\"gridwidth\":2,\"linecolor\":\"white\",\"showbackground\":true,\"ticks\":\"\",\"zerolinecolor\":\"white\"},\"zaxis\":{\"backgroundcolor\":\"#E5ECF6\",\"gridcolor\":\"white\",\"gridwidth\":2,\"linecolor\":\"white\",\"showbackground\":true,\"ticks\":\"\",\"zerolinecolor\":\"white\"}},\"shapedefaults\":{\"line\":{\"color\":\"#2a3f5f\"}},\"ternary\":{\"aaxis\":{\"gridcolor\":\"white\",\"linecolor\":\"white\",\"ticks\":\"\"},\"baxis\":{\"gridcolor\":\"white\",\"linecolor\":\"white\",\"ticks\":\"\"},\"bgcolor\":\"#E5ECF6\",\"caxis\":{\"gridcolor\":\"white\",\"linecolor\":\"white\",\"ticks\":\"\"}},\"title\":{\"x\":0.05},\"xaxis\":{\"automargin\":true,\"gridcolor\":\"white\",\"linecolor\":\"white\",\"ticks\":\"\",\"title\":{\"standoff\":15},\"zerolinecolor\":\"white\",\"zerolinewidth\":2},\"yaxis\":{\"automargin\":true,\"gridcolor\":\"white\",\"linecolor\":\"white\",\"ticks\":\"\",\"title\":{\"standoff\":15},\"zerolinecolor\":\"white\",\"zerolinewidth\":2}}},\"xaxis\":{\"anchor\":\"y\",\"domain\":[0.0,1.0],\"title\":{\"text\":\"tsne_x\"}},\"yaxis\":{\"anchor\":\"x\",\"domain\":[0.0,1.0],\"title\":{\"text\":\"tsne_y\"}},\"legend\":{\"title\":{\"text\":\"trace_bool\"},\"tracegroupgap\":0},\"title\":{\"text\":\"eval Graph Embeddings\"}},                        {\"responsive\": true}                    ).then(function(){\n",
       "                            \n",
       "var gd = document.getElementById('ae2c892c-c0cd-40b9-ae2c-5e5748540aa5');\n",
       "var x = new MutationObserver(function (mutations, observer) {{\n",
       "        var display = window.getComputedStyle(gd).display;\n",
       "        if (!display || display === 'none') {{\n",
       "            console.log([gd, 'removed!']);\n",
       "            Plotly.purge(gd);\n",
       "            observer.disconnect();\n",
       "        }}\n",
       "}});\n",
       "\n",
       "// Listen for the removal of the full notebook cells\n",
       "var notebookContainer = gd.closest('#notebook-container');\n",
       "if (notebookContainer) {{\n",
       "    x.observe(notebookContainer, {childList: true});\n",
       "}}\n",
       "\n",
       "// Listen for the clearing of the current output cell\n",
       "var outputEl = gd.closest('.output');\n",
       "if (outputEl) {{\n",
       "    x.observe(outputEl, {childList: true});\n",
       "}}\n",
       "\n",
       "                        })                };                });            </script>        </div>"
      ]
     },
     "metadata": {},
     "output_type": "display_data"
    },
    {
     "data": {
      "text/html": [
       "<div>\n",
       "<style scoped>\n",
       "    .dataframe tbody tr th:only-of-type {\n",
       "        vertical-align: middle;\n",
       "    }\n",
       "\n",
       "    .dataframe tbody tr th {\n",
       "        vertical-align: top;\n",
       "    }\n",
       "\n",
       "    .dataframe thead th {\n",
       "        text-align: right;\n",
       "    }\n",
       "</style>\n",
       "<table border=\"1\" class=\"dataframe\">\n",
       "  <thead>\n",
       "    <tr style=\"text-align: right;\">\n",
       "      <th></th>\n",
       "      <th>e0</th>\n",
       "      <th>e1</th>\n",
       "      <th>e2</th>\n",
       "      <th>e3</th>\n",
       "      <th>e4</th>\n",
       "      <th>e5</th>\n",
       "      <th>e6</th>\n",
       "      <th>scores</th>\n",
       "      <th>trace_id</th>\n",
       "      <th>dataset</th>\n",
       "      <th>trace_bool</th>\n",
       "      <th>error_trace_type</th>\n",
       "      <th>process_idx</th>\n",
       "      <th>tsne_x</th>\n",
       "      <th>tsne_y</th>\n",
       "    </tr>\n",
       "  </thead>\n",
       "  <tbody>\n",
       "    <tr>\n",
       "      <th>0</th>\n",
       "      <td>0.520511</td>\n",
       "      <td>0.515449</td>\n",
       "      <td>0.456904</td>\n",
       "      <td>0.509963</td>\n",
       "      <td>0.498816</td>\n",
       "      <td>0.568034</td>\n",
       "      <td>0.530677</td>\n",
       "      <td>2.0839352e-07</td>\n",
       "      <td>85659</td>\n",
       "      <td>eval</td>\n",
       "      <td>True</td>\n",
       "      <td>normal</td>\n",
       "      <td>5</td>\n",
       "      <td>-4.028483</td>\n",
       "      <td>0.170344</td>\n",
       "    </tr>\n",
       "    <tr>\n",
       "      <th>1</th>\n",
       "      <td>0.520504</td>\n",
       "      <td>0.515476</td>\n",
       "      <td>0.456937</td>\n",
       "      <td>0.509930</td>\n",
       "      <td>0.498798</td>\n",
       "      <td>0.568098</td>\n",
       "      <td>0.530667</td>\n",
       "      <td>2.1163416e-07</td>\n",
       "      <td>66442</td>\n",
       "      <td>eval</td>\n",
       "      <td>True</td>\n",
       "      <td>normal</td>\n",
       "      <td>4</td>\n",
       "      <td>-1.499886</td>\n",
       "      <td>8.115198</td>\n",
       "    </tr>\n",
       "    <tr>\n",
       "      <th>2</th>\n",
       "      <td>0.520467</td>\n",
       "      <td>0.515438</td>\n",
       "      <td>0.456941</td>\n",
       "      <td>0.509973</td>\n",
       "      <td>0.498859</td>\n",
       "      <td>0.568085</td>\n",
       "      <td>0.530737</td>\n",
       "      <td>2.1366614e-07</td>\n",
       "      <td>114647</td>\n",
       "      <td>eval</td>\n",
       "      <td>True</td>\n",
       "      <td>normal</td>\n",
       "      <td>7</td>\n",
       "      <td>-2.307249</td>\n",
       "      <td>-4.981763</td>\n",
       "    </tr>\n",
       "    <tr>\n",
       "      <th>3</th>\n",
       "      <td>0.520536</td>\n",
       "      <td>0.515484</td>\n",
       "      <td>0.456918</td>\n",
       "      <td>0.509966</td>\n",
       "      <td>0.498819</td>\n",
       "      <td>0.568026</td>\n",
       "      <td>0.530658</td>\n",
       "      <td>2.1386404e-07</td>\n",
       "      <td>20554</td>\n",
       "      <td>eval</td>\n",
       "      <td>True</td>\n",
       "      <td>normal</td>\n",
       "      <td>1</td>\n",
       "      <td>-8.752746</td>\n",
       "      <td>0.882643</td>\n",
       "    </tr>\n",
       "    <tr>\n",
       "      <th>4</th>\n",
       "      <td>0.520535</td>\n",
       "      <td>0.515473</td>\n",
       "      <td>0.456908</td>\n",
       "      <td>0.509958</td>\n",
       "      <td>0.498809</td>\n",
       "      <td>0.568030</td>\n",
       "      <td>0.530648</td>\n",
       "      <td>2.1132443e-07</td>\n",
       "      <td>117421</td>\n",
       "      <td>eval</td>\n",
       "      <td>True</td>\n",
       "      <td>normal</td>\n",
       "      <td>7</td>\n",
       "      <td>-8.530957</td>\n",
       "      <td>1.935492</td>\n",
       "    </tr>\n",
       "    <tr>\n",
       "      <th>...</th>\n",
       "      <td>...</td>\n",
       "      <td>...</td>\n",
       "      <td>...</td>\n",
       "      <td>...</td>\n",
       "      <td>...</td>\n",
       "      <td>...</td>\n",
       "      <td>...</td>\n",
       "      <td>...</td>\n",
       "      <td>...</td>\n",
       "      <td>...</td>\n",
       "      <td>...</td>\n",
       "      <td>...</td>\n",
       "      <td>...</td>\n",
       "      <td>...</td>\n",
       "      <td>...</td>\n",
       "    </tr>\n",
       "    <tr>\n",
       "      <th>95</th>\n",
       "      <td>0.520535</td>\n",
       "      <td>0.515473</td>\n",
       "      <td>0.456908</td>\n",
       "      <td>0.509958</td>\n",
       "      <td>0.498809</td>\n",
       "      <td>0.568030</td>\n",
       "      <td>0.530648</td>\n",
       "      <td>2.1132443e-07</td>\n",
       "      <td>73182</td>\n",
       "      <td>eval</td>\n",
       "      <td>True</td>\n",
       "      <td>normal</td>\n",
       "      <td>4</td>\n",
       "      <td>-8.531454</td>\n",
       "      <td>1.933039</td>\n",
       "    </tr>\n",
       "    <tr>\n",
       "      <th>96</th>\n",
       "      <td>0.520533</td>\n",
       "      <td>0.515484</td>\n",
       "      <td>0.456918</td>\n",
       "      <td>0.509961</td>\n",
       "      <td>0.498814</td>\n",
       "      <td>0.568042</td>\n",
       "      <td>0.530661</td>\n",
       "      <td>2.1160663e-07</td>\n",
       "      <td>128335</td>\n",
       "      <td>eval</td>\n",
       "      <td>True</td>\n",
       "      <td>normal</td>\n",
       "      <td>8</td>\n",
       "      <td>-7.767336</td>\n",
       "      <td>0.934551</td>\n",
       "    </tr>\n",
       "    <tr>\n",
       "      <th>97</th>\n",
       "      <td>0.520468</td>\n",
       "      <td>0.515438</td>\n",
       "      <td>0.456940</td>\n",
       "      <td>0.509974</td>\n",
       "      <td>0.498858</td>\n",
       "      <td>0.568086</td>\n",
       "      <td>0.530736</td>\n",
       "      <td>2.1341027e-07</td>\n",
       "      <td>53583</td>\n",
       "      <td>eval</td>\n",
       "      <td>True</td>\n",
       "      <td>normal</td>\n",
       "      <td>3</td>\n",
       "      <td>-2.496448</td>\n",
       "      <td>-4.614780</td>\n",
       "    </tr>\n",
       "    <tr>\n",
       "      <th>98</th>\n",
       "      <td>0.520543</td>\n",
       "      <td>0.515442</td>\n",
       "      <td>0.456892</td>\n",
       "      <td>0.509946</td>\n",
       "      <td>0.498784</td>\n",
       "      <td>0.568053</td>\n",
       "      <td>0.530630</td>\n",
       "      <td>2.0555704e-07</td>\n",
       "      <td>40488</td>\n",
       "      <td>eval</td>\n",
       "      <td>False</td>\n",
       "      <td>F03-04</td>\n",
       "      <td>2</td>\n",
       "      <td>-4.449541</td>\n",
       "      <td>3.587320</td>\n",
       "    </tr>\n",
       "    <tr>\n",
       "      <th>99</th>\n",
       "      <td>0.520544</td>\n",
       "      <td>0.515440</td>\n",
       "      <td>0.456900</td>\n",
       "      <td>0.509947</td>\n",
       "      <td>0.498793</td>\n",
       "      <td>0.568057</td>\n",
       "      <td>0.530645</td>\n",
       "      <td>2.0640746e-07</td>\n",
       "      <td>75493</td>\n",
       "      <td>eval</td>\n",
       "      <td>True</td>\n",
       "      <td>normal</td>\n",
       "      <td>5</td>\n",
       "      <td>-4.372312</td>\n",
       "      <td>3.418148</td>\n",
       "    </tr>\n",
       "  </tbody>\n",
       "</table>\n",
       "<p>100 rows × 15 columns</p>\n",
       "</div>"
      ],
      "text/plain": [
       "          e0        e1        e2        e3        e4        e5        e6  \\\n",
       "0   0.520511  0.515449  0.456904  0.509963  0.498816  0.568034  0.530677   \n",
       "1   0.520504  0.515476  0.456937  0.509930  0.498798  0.568098  0.530667   \n",
       "2   0.520467  0.515438  0.456941  0.509973  0.498859  0.568085  0.530737   \n",
       "3   0.520536  0.515484  0.456918  0.509966  0.498819  0.568026  0.530658   \n",
       "4   0.520535  0.515473  0.456908  0.509958  0.498809  0.568030  0.530648   \n",
       "..       ...       ...       ...       ...       ...       ...       ...   \n",
       "95  0.520535  0.515473  0.456908  0.509958  0.498809  0.568030  0.530648   \n",
       "96  0.520533  0.515484  0.456918  0.509961  0.498814  0.568042  0.530661   \n",
       "97  0.520468  0.515438  0.456940  0.509974  0.498858  0.568086  0.530736   \n",
       "98  0.520543  0.515442  0.456892  0.509946  0.498784  0.568053  0.530630   \n",
       "99  0.520544  0.515440  0.456900  0.509947  0.498793  0.568057  0.530645   \n",
       "\n",
       "           scores  trace_id dataset  trace_bool error_trace_type  process_idx  \\\n",
       "0   2.0839352e-07     85659    eval        True           normal            5   \n",
       "1   2.1163416e-07     66442    eval        True           normal            4   \n",
       "2   2.1366614e-07    114647    eval        True           normal            7   \n",
       "3   2.1386404e-07     20554    eval        True           normal            1   \n",
       "4   2.1132443e-07    117421    eval        True           normal            7   \n",
       "..            ...       ...     ...         ...              ...          ...   \n",
       "95  2.1132443e-07     73182    eval        True           normal            4   \n",
       "96  2.1160663e-07    128335    eval        True           normal            8   \n",
       "97  2.1341027e-07     53583    eval        True           normal            3   \n",
       "98  2.0555704e-07     40488    eval       False           F03-04            2   \n",
       "99  2.0640746e-07     75493    eval        True           normal            5   \n",
       "\n",
       "      tsne_x    tsne_y  \n",
       "0  -4.028483  0.170344  \n",
       "1  -1.499886  8.115198  \n",
       "2  -2.307249 -4.981763  \n",
       "3  -8.752746  0.882643  \n",
       "4  -8.530957  1.935492  \n",
       "..       ...       ...  \n",
       "95 -8.531454  1.933039  \n",
       "96 -7.767336  0.934551  \n",
       "97 -2.496448 -4.614780  \n",
       "98 -4.449541  3.587320  \n",
       "99 -4.372312  3.418148  \n",
       "\n",
       "[100 rows x 15 columns]"
      ]
     },
     "execution_count": 62,
     "metadata": {},
     "output_type": "execute_result"
    }
   ],
   "source": [
    "eval_result_df = get_graph_results(model, eval_gids[:100], name='eval')\n",
    "eval_result_df"
   ]
  },
  {
   "cell_type": "code",
   "execution_count": 65,
   "metadata": {},
   "outputs": [
    {
     "data": {
      "application/vnd.plotly.v1+json": {
       "config": {
        "plotlyServerURL": "https://plot.ly"
       },
       "data": [
        {
         "hovertemplate": "error_trace_type=normal<br>tsne_x=%{x}<br>tsne_y=%{y}<extra></extra>",
         "legendgroup": "normal",
         "marker": {
          "color": "#636efa",
          "symbol": "circle"
         },
         "mode": "markers",
         "name": "normal",
         "orientation": "v",
         "showlegend": true,
         "type": "scatter",
         "x": [
          -4.028482913970947,
          -1.4998860359191895,
          -2.307248830795288,
          -8.752745628356934,
          -8.530957221984863,
          -6.532730579376221,
          -1.5198596715927124,
          -6.855478763580322,
          -2.263706684112549,
          -6.528895378112793,
          -2.038858413696289,
          -2.49064040184021,
          -6.767026901245117,
          -6.447000980377197,
          -1.499942660331726,
          -1.4937007427215576,
          -4.048892974853516,
          -7.317041397094727,
          -4.079493522644043,
          -2.0183534622192383,
          -7.375026226043701,
          -6.6224284172058105,
          -2.509345293045044,
          -2.495311737060547,
          -2.4729225635528564,
          -4.048892974853516,
          -4.389156341552734,
          -6.8982744216918945,
          -4.358315467834473,
          -2.289490222930908,
          -6.778076648712158,
          -7.696186065673828,
          -8.219143867492676,
          -4.354050159454346,
          -8.531168937683105,
          -1.8737519979476929,
          -1.8684800863265991,
          -3.007289171218872,
          -8.750449180603027,
          -4.40383243560791,
          -2.2925775051116943,
          -2.4903831481933594,
          -1.5043493509292603,
          -7.878380298614502,
          -2.2719011306762695,
          -7.868741989135742,
          -1.8874154090881348,
          -4.048893928527832,
          -4.074657440185547,
          -5.981996536254883,
          -4.048876762390137,
          -3.1534388065338135,
          -7.133693695068359,
          -7.858425617218018,
          -7.611796855926514,
          -3.947841167449951,
          -2.4518983364105225,
          -1.014296531677246,
          -6.451299667358398,
          -2.02496600151062,
          -6.56152868270874,
          -8.749567031860352,
          -3.0443224906921387,
          -2.0040457248687744,
          -3.0160648822784424,
          -4.354920387268066,
          -2.789992570877075,
          -3.947908401489258,
          -7.734772205352783,
          -3.9478414058685303,
          -4.048893451690674,
          -3.380169630050659,
          -2.768630027770996,
          -8.126239776611328,
          -2.275270938873291,
          -7.740536212921143,
          -8.531454086303711,
          -7.767336368560791,
          -2.496448040008545,
          -4.372311592102051
         ],
         "xaxis": "x",
         "y": [
          0.17034363746643066,
          8.115198135375977,
          -4.9817633628845215,
          0.8826434016227722,
          1.9354918003082275,
          -0.32016274333000183,
          8.13371753692627,
          -0.3641127347946167,
          -4.374367713928223,
          -0.24666139483451843,
          -4.964122772216797,
          -4.777055263519287,
          -0.3363683819770813,
          0.1814500242471695,
          8.131558418273926,
          8.093278884887695,
          0.11950258165597916,
          1.4492319822311401,
          2.2224600315093994,
          -4.9551897048950195,
          1.3501981496810913,
          -0.3308494985103607,
          7.233668327331543,
          7.250231742858887,
          -4.828346252441406,
          0.119502492249012,
          4.277210712432861,
          0.21884730458259583,
          3.3621602058410645,
          9.04141616821289,
          -0.3634445071220398,
          0.8696175217628479,
          0.3018091320991516,
          3.3354759216308594,
          1.9340142011642456,
          -4.602026462554932,
          -4.645384311676025,
          8.838932991027832,
          0.8815534114837646,
          4.214616298675537,
          -4.382293224334717,
          7.2706451416015625,
          8.113093376159668,
          0.6838849782943726,
          -4.993434429168701,
          0.9183839559555054,
          -4.80419921875,
          0.1195024698972702,
          2.2155489921569824,
          2.508021831512451,
          0.11810462176799774,
          9.184409141540527,
          -0.11163502186536789,
          0.7794419527053833,
          1.3839008808135986,
          -0.2823861837387085,
          -4.507458209991455,
          8.731674194335938,
          0.18033844232559204,
          -4.40199613571167,
          0.2433294802904129,
          0.8835545182228088,
          9.147841453552246,
          -4.414307117462158,
          9.256814002990723,
          3.3547606468200684,
          8.375513076782227,
          -0.2826664447784424,
          0.9293574094772339,
          -0.2823866009712219,
          0.11950258910655975,
          9.083931922912598,
          8.426139831542969,
          0.9159688949584961,
          8.917939186096191,
          0.7957555055618286,
          1.9330391883850098,
          0.9345514178276062,
          -4.614780426025391,
          3.4181480407714844
         ],
         "yaxis": "y"
        },
        {
         "hovertemplate": "error_trace_type=F14-01<br>tsne_x=%{x}<br>tsne_y=%{y}<extra></extra>",
         "legendgroup": "F14-01",
         "marker": {
          "color": "#EF553B",
          "symbol": "circle"
         },
         "mode": "markers",
         "name": "F14-01",
         "orientation": "v",
         "showlegend": true,
         "type": "scatter",
         "x": [
          -1.5234647989273071,
          -1.514727234840393
         ],
         "xaxis": "x",
         "y": [
          7.781437873840332,
          7.773293972015381
         ],
         "yaxis": "y"
        },
        {
         "hovertemplate": "error_trace_type=F10-01<br>tsne_x=%{x}<br>tsne_y=%{y}<extra></extra>",
         "legendgroup": "F10-01",
         "marker": {
          "color": "#00cc96",
          "symbol": "circle"
         },
         "mode": "markers",
         "name": "F10-01",
         "orientation": "v",
         "showlegend": true,
         "type": "scatter",
         "x": [
          -3.1498258113861084
         ],
         "xaxis": "x",
         "y": [
          8.722601890563965
         ],
         "yaxis": "y"
        },
        {
         "hovertemplate": "error_trace_type=F10-02<br>tsne_x=%{x}<br>tsne_y=%{y}<extra></extra>",
         "legendgroup": "F10-02",
         "marker": {
          "color": "#ab63fa",
          "symbol": "circle"
         },
         "mode": "markers",
         "name": "F10-02",
         "orientation": "v",
         "showlegend": true,
         "type": "scatter",
         "x": [
          -2.3162589073181152
         ],
         "xaxis": "x",
         "y": [
          8.575228691101074
         ],
         "yaxis": "y"
        },
        {
         "hovertemplate": "error_trace_type=F03-03<br>tsne_x=%{x}<br>tsne_y=%{y}<extra></extra>",
         "legendgroup": "F03-03",
         "marker": {
          "color": "#FFA15A",
          "symbol": "circle"
         },
         "mode": "markers",
         "name": "F03-03",
         "orientation": "v",
         "showlegend": true,
         "type": "scatter",
         "x": [
          -3.5448622703552246,
          -3.362539291381836
         ],
         "xaxis": "x",
         "y": [
          9.100468635559082,
          8.996711730957031
         ],
         "yaxis": "y"
        },
        {
         "hovertemplate": "error_trace_type=F07-01<br>tsne_x=%{x}<br>tsne_y=%{y}<extra></extra>",
         "legendgroup": "F07-01",
         "marker": {
          "color": "#19d3f3",
          "symbol": "circle"
         },
         "mode": "markers",
         "name": "F07-01",
         "orientation": "v",
         "showlegend": true,
         "type": "scatter",
         "x": [
          -5.233036994934082,
          -5.235969543457031,
          -5.237527847290039
         ],
         "xaxis": "x",
         "y": [
          -0.966586172580719,
          -0.9680113196372986,
          -0.9682126641273499
         ],
         "yaxis": "y"
        },
        {
         "hovertemplate": "error_trace_type=F13-03<br>tsne_x=%{x}<br>tsne_y=%{y}<extra></extra>",
         "legendgroup": "F13-03",
         "marker": {
          "color": "#FF6692",
          "symbol": "circle"
         },
         "mode": "markers",
         "name": "F13-03",
         "orientation": "v",
         "showlegend": true,
         "type": "scatter",
         "x": [
          -7.988382816314697
         ],
         "xaxis": "x",
         "y": [
          0.1884816735982895
         ],
         "yaxis": "y"
        },
        {
         "hovertemplate": "error_trace_type=F07-02<br>tsne_x=%{x}<br>tsne_y=%{y}<extra></extra>",
         "legendgroup": "F07-02",
         "marker": {
          "color": "#B6E880",
          "symbol": "circle"
         },
         "mode": "markers",
         "name": "F07-02",
         "orientation": "v",
         "showlegend": true,
         "type": "scatter",
         "x": [
          -2.6472678184509277
         ],
         "xaxis": "x",
         "y": [
          7.85330057144165
         ],
         "yaxis": "y"
        },
        {
         "hovertemplate": "error_trace_type=F01-05<br>tsne_x=%{x}<br>tsne_y=%{y}<extra></extra>",
         "legendgroup": "F01-05",
         "marker": {
          "color": "#FF97FF",
          "symbol": "circle"
         },
         "mode": "markers",
         "name": "F01-05",
         "orientation": "v",
         "showlegend": true,
         "type": "scatter",
         "x": [
          -2.3802084922790527
         ],
         "xaxis": "x",
         "y": [
          7.5258941650390625
         ],
         "yaxis": "y"
        },
        {
         "hovertemplate": "error_trace_type=F07-04<br>tsne_x=%{x}<br>tsne_y=%{y}<extra></extra>",
         "legendgroup": "F07-04",
         "marker": {
          "color": "#FECB52",
          "symbol": "circle"
         },
         "mode": "markers",
         "name": "F07-04",
         "orientation": "v",
         "showlegend": true,
         "type": "scatter",
         "x": [
          -9.610549926757812,
          -9.628454208374023
         ],
         "xaxis": "x",
         "y": [
          1.8822144269943237,
          1.8510892391204834
         ],
         "yaxis": "y"
        },
        {
         "hovertemplate": "error_trace_type=F04-01<br>tsne_x=%{x}<br>tsne_y=%{y}<extra></extra>",
         "legendgroup": "F04-01",
         "marker": {
          "color": "#636efa",
          "symbol": "circle"
         },
         "mode": "markers",
         "name": "F04-01",
         "orientation": "v",
         "showlegend": true,
         "type": "scatter",
         "x": [
          -1.5848321914672852
         ],
         "xaxis": "x",
         "y": [
          6.604300022125244
         ],
         "yaxis": "y"
        },
        {
         "hovertemplate": "error_trace_type=F13-01<br>tsne_x=%{x}<br>tsne_y=%{y}<extra></extra>",
         "legendgroup": "F13-01",
         "marker": {
          "color": "#EF553B",
          "symbol": "circle"
         },
         "mode": "markers",
         "name": "F13-01",
         "orientation": "v",
         "showlegend": true,
         "type": "scatter",
         "x": [
          -2.5515296459198
         ],
         "xaxis": "x",
         "y": [
          7.12523078918457
         ],
         "yaxis": "y"
        },
        {
         "hovertemplate": "error_trace_type=F03-08<br>tsne_x=%{x}<br>tsne_y=%{y}<extra></extra>",
         "legendgroup": "F03-08",
         "marker": {
          "color": "#00cc96",
          "symbol": "circle"
         },
         "mode": "markers",
         "name": "F03-08",
         "orientation": "v",
         "showlegend": true,
         "type": "scatter",
         "x": [
          -9.359334945678711
         ],
         "xaxis": "x",
         "y": [
          2.1197049617767334
         ],
         "yaxis": "y"
        },
        {
         "hovertemplate": "error_trace_type=F11-01<br>tsne_x=%{x}<br>tsne_y=%{y}<extra></extra>",
         "legendgroup": "F11-01",
         "marker": {
          "color": "#ab63fa",
          "symbol": "circle"
         },
         "mode": "markers",
         "name": "F11-01",
         "orientation": "v",
         "showlegend": true,
         "type": "scatter",
         "x": [
          -4.4310102462768555
         ],
         "xaxis": "x",
         "y": [
          4.234912395477295
         ],
         "yaxis": "y"
        },
        {
         "hovertemplate": "error_trace_type=F05-01<br>tsne_x=%{x}<br>tsne_y=%{y}<extra></extra>",
         "legendgroup": "F05-01",
         "marker": {
          "color": "#FFA15A",
          "symbol": "circle"
         },
         "mode": "markers",
         "name": "F05-01",
         "orientation": "v",
         "showlegend": true,
         "type": "scatter",
         "x": [
          -9.509634971618652
         ],
         "xaxis": "x",
         "y": [
          1.5163190364837646
         ],
         "yaxis": "y"
        },
        {
         "hovertemplate": "error_trace_type=F03-04<br>tsne_x=%{x}<br>tsne_y=%{y}<extra></extra>",
         "legendgroup": "F03-04",
         "marker": {
          "color": "#19d3f3",
          "symbol": "circle"
         },
         "mode": "markers",
         "name": "F03-04",
         "orientation": "v",
         "showlegend": true,
         "type": "scatter",
         "x": [
          -4.449540615081787
         ],
         "xaxis": "x",
         "y": [
          3.587320327758789
         ],
         "yaxis": "y"
        }
       ],
       "layout": {
        "legend": {
         "title": {
          "text": "error_trace_type"
         },
         "tracegroupgap": 0
        },
        "template": {
         "data": {
          "bar": [
           {
            "error_x": {
             "color": "#2a3f5f"
            },
            "error_y": {
             "color": "#2a3f5f"
            },
            "marker": {
             "line": {
              "color": "#E5ECF6",
              "width": 0.5
             },
             "pattern": {
              "fillmode": "overlay",
              "size": 10,
              "solidity": 0.2
             }
            },
            "type": "bar"
           }
          ],
          "barpolar": [
           {
            "marker": {
             "line": {
              "color": "#E5ECF6",
              "width": 0.5
             },
             "pattern": {
              "fillmode": "overlay",
              "size": 10,
              "solidity": 0.2
             }
            },
            "type": "barpolar"
           }
          ],
          "carpet": [
           {
            "aaxis": {
             "endlinecolor": "#2a3f5f",
             "gridcolor": "white",
             "linecolor": "white",
             "minorgridcolor": "white",
             "startlinecolor": "#2a3f5f"
            },
            "baxis": {
             "endlinecolor": "#2a3f5f",
             "gridcolor": "white",
             "linecolor": "white",
             "minorgridcolor": "white",
             "startlinecolor": "#2a3f5f"
            },
            "type": "carpet"
           }
          ],
          "choropleth": [
           {
            "colorbar": {
             "outlinewidth": 0,
             "ticks": ""
            },
            "type": "choropleth"
           }
          ],
          "contour": [
           {
            "colorbar": {
             "outlinewidth": 0,
             "ticks": ""
            },
            "colorscale": [
             [
              0,
              "#0d0887"
             ],
             [
              0.1111111111111111,
              "#46039f"
             ],
             [
              0.2222222222222222,
              "#7201a8"
             ],
             [
              0.3333333333333333,
              "#9c179e"
             ],
             [
              0.4444444444444444,
              "#bd3786"
             ],
             [
              0.5555555555555556,
              "#d8576b"
             ],
             [
              0.6666666666666666,
              "#ed7953"
             ],
             [
              0.7777777777777778,
              "#fb9f3a"
             ],
             [
              0.8888888888888888,
              "#fdca26"
             ],
             [
              1,
              "#f0f921"
             ]
            ],
            "type": "contour"
           }
          ],
          "contourcarpet": [
           {
            "colorbar": {
             "outlinewidth": 0,
             "ticks": ""
            },
            "type": "contourcarpet"
           }
          ],
          "heatmap": [
           {
            "colorbar": {
             "outlinewidth": 0,
             "ticks": ""
            },
            "colorscale": [
             [
              0,
              "#0d0887"
             ],
             [
              0.1111111111111111,
              "#46039f"
             ],
             [
              0.2222222222222222,
              "#7201a8"
             ],
             [
              0.3333333333333333,
              "#9c179e"
             ],
             [
              0.4444444444444444,
              "#bd3786"
             ],
             [
              0.5555555555555556,
              "#d8576b"
             ],
             [
              0.6666666666666666,
              "#ed7953"
             ],
             [
              0.7777777777777778,
              "#fb9f3a"
             ],
             [
              0.8888888888888888,
              "#fdca26"
             ],
             [
              1,
              "#f0f921"
             ]
            ],
            "type": "heatmap"
           }
          ],
          "heatmapgl": [
           {
            "colorbar": {
             "outlinewidth": 0,
             "ticks": ""
            },
            "colorscale": [
             [
              0,
              "#0d0887"
             ],
             [
              0.1111111111111111,
              "#46039f"
             ],
             [
              0.2222222222222222,
              "#7201a8"
             ],
             [
              0.3333333333333333,
              "#9c179e"
             ],
             [
              0.4444444444444444,
              "#bd3786"
             ],
             [
              0.5555555555555556,
              "#d8576b"
             ],
             [
              0.6666666666666666,
              "#ed7953"
             ],
             [
              0.7777777777777778,
              "#fb9f3a"
             ],
             [
              0.8888888888888888,
              "#fdca26"
             ],
             [
              1,
              "#f0f921"
             ]
            ],
            "type": "heatmapgl"
           }
          ],
          "histogram": [
           {
            "marker": {
             "pattern": {
              "fillmode": "overlay",
              "size": 10,
              "solidity": 0.2
             }
            },
            "type": "histogram"
           }
          ],
          "histogram2d": [
           {
            "colorbar": {
             "outlinewidth": 0,
             "ticks": ""
            },
            "colorscale": [
             [
              0,
              "#0d0887"
             ],
             [
              0.1111111111111111,
              "#46039f"
             ],
             [
              0.2222222222222222,
              "#7201a8"
             ],
             [
              0.3333333333333333,
              "#9c179e"
             ],
             [
              0.4444444444444444,
              "#bd3786"
             ],
             [
              0.5555555555555556,
              "#d8576b"
             ],
             [
              0.6666666666666666,
              "#ed7953"
             ],
             [
              0.7777777777777778,
              "#fb9f3a"
             ],
             [
              0.8888888888888888,
              "#fdca26"
             ],
             [
              1,
              "#f0f921"
             ]
            ],
            "type": "histogram2d"
           }
          ],
          "histogram2dcontour": [
           {
            "colorbar": {
             "outlinewidth": 0,
             "ticks": ""
            },
            "colorscale": [
             [
              0,
              "#0d0887"
             ],
             [
              0.1111111111111111,
              "#46039f"
             ],
             [
              0.2222222222222222,
              "#7201a8"
             ],
             [
              0.3333333333333333,
              "#9c179e"
             ],
             [
              0.4444444444444444,
              "#bd3786"
             ],
             [
              0.5555555555555556,
              "#d8576b"
             ],
             [
              0.6666666666666666,
              "#ed7953"
             ],
             [
              0.7777777777777778,
              "#fb9f3a"
             ],
             [
              0.8888888888888888,
              "#fdca26"
             ],
             [
              1,
              "#f0f921"
             ]
            ],
            "type": "histogram2dcontour"
           }
          ],
          "mesh3d": [
           {
            "colorbar": {
             "outlinewidth": 0,
             "ticks": ""
            },
            "type": "mesh3d"
           }
          ],
          "parcoords": [
           {
            "line": {
             "colorbar": {
              "outlinewidth": 0,
              "ticks": ""
             }
            },
            "type": "parcoords"
           }
          ],
          "pie": [
           {
            "automargin": true,
            "type": "pie"
           }
          ],
          "scatter": [
           {
            "marker": {
             "colorbar": {
              "outlinewidth": 0,
              "ticks": ""
             }
            },
            "type": "scatter"
           }
          ],
          "scatter3d": [
           {
            "line": {
             "colorbar": {
              "outlinewidth": 0,
              "ticks": ""
             }
            },
            "marker": {
             "colorbar": {
              "outlinewidth": 0,
              "ticks": ""
             }
            },
            "type": "scatter3d"
           }
          ],
          "scattercarpet": [
           {
            "marker": {
             "colorbar": {
              "outlinewidth": 0,
              "ticks": ""
             }
            },
            "type": "scattercarpet"
           }
          ],
          "scattergeo": [
           {
            "marker": {
             "colorbar": {
              "outlinewidth": 0,
              "ticks": ""
             }
            },
            "type": "scattergeo"
           }
          ],
          "scattergl": [
           {
            "marker": {
             "colorbar": {
              "outlinewidth": 0,
              "ticks": ""
             }
            },
            "type": "scattergl"
           }
          ],
          "scattermapbox": [
           {
            "marker": {
             "colorbar": {
              "outlinewidth": 0,
              "ticks": ""
             }
            },
            "type": "scattermapbox"
           }
          ],
          "scatterpolar": [
           {
            "marker": {
             "colorbar": {
              "outlinewidth": 0,
              "ticks": ""
             }
            },
            "type": "scatterpolar"
           }
          ],
          "scatterpolargl": [
           {
            "marker": {
             "colorbar": {
              "outlinewidth": 0,
              "ticks": ""
             }
            },
            "type": "scatterpolargl"
           }
          ],
          "scatterternary": [
           {
            "marker": {
             "colorbar": {
              "outlinewidth": 0,
              "ticks": ""
             }
            },
            "type": "scatterternary"
           }
          ],
          "surface": [
           {
            "colorbar": {
             "outlinewidth": 0,
             "ticks": ""
            },
            "colorscale": [
             [
              0,
              "#0d0887"
             ],
             [
              0.1111111111111111,
              "#46039f"
             ],
             [
              0.2222222222222222,
              "#7201a8"
             ],
             [
              0.3333333333333333,
              "#9c179e"
             ],
             [
              0.4444444444444444,
              "#bd3786"
             ],
             [
              0.5555555555555556,
              "#d8576b"
             ],
             [
              0.6666666666666666,
              "#ed7953"
             ],
             [
              0.7777777777777778,
              "#fb9f3a"
             ],
             [
              0.8888888888888888,
              "#fdca26"
             ],
             [
              1,
              "#f0f921"
             ]
            ],
            "type": "surface"
           }
          ],
          "table": [
           {
            "cells": {
             "fill": {
              "color": "#EBF0F8"
             },
             "line": {
              "color": "white"
             }
            },
            "header": {
             "fill": {
              "color": "#C8D4E3"
             },
             "line": {
              "color": "white"
             }
            },
            "type": "table"
           }
          ]
         },
         "layout": {
          "annotationdefaults": {
           "arrowcolor": "#2a3f5f",
           "arrowhead": 0,
           "arrowwidth": 1
          },
          "autotypenumbers": "strict",
          "coloraxis": {
           "colorbar": {
            "outlinewidth": 0,
            "ticks": ""
           }
          },
          "colorscale": {
           "diverging": [
            [
             0,
             "#8e0152"
            ],
            [
             0.1,
             "#c51b7d"
            ],
            [
             0.2,
             "#de77ae"
            ],
            [
             0.3,
             "#f1b6da"
            ],
            [
             0.4,
             "#fde0ef"
            ],
            [
             0.5,
             "#f7f7f7"
            ],
            [
             0.6,
             "#e6f5d0"
            ],
            [
             0.7,
             "#b8e186"
            ],
            [
             0.8,
             "#7fbc41"
            ],
            [
             0.9,
             "#4d9221"
            ],
            [
             1,
             "#276419"
            ]
           ],
           "sequential": [
            [
             0,
             "#0d0887"
            ],
            [
             0.1111111111111111,
             "#46039f"
            ],
            [
             0.2222222222222222,
             "#7201a8"
            ],
            [
             0.3333333333333333,
             "#9c179e"
            ],
            [
             0.4444444444444444,
             "#bd3786"
            ],
            [
             0.5555555555555556,
             "#d8576b"
            ],
            [
             0.6666666666666666,
             "#ed7953"
            ],
            [
             0.7777777777777778,
             "#fb9f3a"
            ],
            [
             0.8888888888888888,
             "#fdca26"
            ],
            [
             1,
             "#f0f921"
            ]
           ],
           "sequentialminus": [
            [
             0,
             "#0d0887"
            ],
            [
             0.1111111111111111,
             "#46039f"
            ],
            [
             0.2222222222222222,
             "#7201a8"
            ],
            [
             0.3333333333333333,
             "#9c179e"
            ],
            [
             0.4444444444444444,
             "#bd3786"
            ],
            [
             0.5555555555555556,
             "#d8576b"
            ],
            [
             0.6666666666666666,
             "#ed7953"
            ],
            [
             0.7777777777777778,
             "#fb9f3a"
            ],
            [
             0.8888888888888888,
             "#fdca26"
            ],
            [
             1,
             "#f0f921"
            ]
           ]
          },
          "colorway": [
           "#636efa",
           "#EF553B",
           "#00cc96",
           "#ab63fa",
           "#FFA15A",
           "#19d3f3",
           "#FF6692",
           "#B6E880",
           "#FF97FF",
           "#FECB52"
          ],
          "font": {
           "color": "#2a3f5f"
          },
          "geo": {
           "bgcolor": "white",
           "lakecolor": "white",
           "landcolor": "#E5ECF6",
           "showlakes": true,
           "showland": true,
           "subunitcolor": "white"
          },
          "hoverlabel": {
           "align": "left"
          },
          "hovermode": "closest",
          "mapbox": {
           "style": "light"
          },
          "paper_bgcolor": "white",
          "plot_bgcolor": "#E5ECF6",
          "polar": {
           "angularaxis": {
            "gridcolor": "white",
            "linecolor": "white",
            "ticks": ""
           },
           "bgcolor": "#E5ECF6",
           "radialaxis": {
            "gridcolor": "white",
            "linecolor": "white",
            "ticks": ""
           }
          },
          "scene": {
           "xaxis": {
            "backgroundcolor": "#E5ECF6",
            "gridcolor": "white",
            "gridwidth": 2,
            "linecolor": "white",
            "showbackground": true,
            "ticks": "",
            "zerolinecolor": "white"
           },
           "yaxis": {
            "backgroundcolor": "#E5ECF6",
            "gridcolor": "white",
            "gridwidth": 2,
            "linecolor": "white",
            "showbackground": true,
            "ticks": "",
            "zerolinecolor": "white"
           },
           "zaxis": {
            "backgroundcolor": "#E5ECF6",
            "gridcolor": "white",
            "gridwidth": 2,
            "linecolor": "white",
            "showbackground": true,
            "ticks": "",
            "zerolinecolor": "white"
           }
          },
          "shapedefaults": {
           "line": {
            "color": "#2a3f5f"
           }
          },
          "ternary": {
           "aaxis": {
            "gridcolor": "white",
            "linecolor": "white",
            "ticks": ""
           },
           "baxis": {
            "gridcolor": "white",
            "linecolor": "white",
            "ticks": ""
           },
           "bgcolor": "#E5ECF6",
           "caxis": {
            "gridcolor": "white",
            "linecolor": "white",
            "ticks": ""
           }
          },
          "title": {
           "x": 0.05
          },
          "xaxis": {
           "automargin": true,
           "gridcolor": "white",
           "linecolor": "white",
           "ticks": "",
           "title": {
            "standoff": 15
           },
           "zerolinecolor": "white",
           "zerolinewidth": 2
          },
          "yaxis": {
           "automargin": true,
           "gridcolor": "white",
           "linecolor": "white",
           "ticks": "",
           "title": {
            "standoff": 15
           },
           "zerolinecolor": "white",
           "zerolinewidth": 2
          }
         }
        },
        "title": {
         "text": "Eval Graph Embeddings"
        },
        "xaxis": {
         "anchor": "y",
         "domain": [
          0,
          1
         ],
         "title": {
          "text": "tsne_x"
         }
        },
        "yaxis": {
         "anchor": "x",
         "domain": [
          0,
          1
         ],
         "title": {
          "text": "tsne_y"
         }
        }
       }
      },
      "text/html": [
       "<div>                            <div id=\"55c7f845-9049-46b9-bb54-c6255faefe20\" class=\"plotly-graph-div\" style=\"height:525px; width:100%;\"></div>            <script type=\"text/javascript\">                require([\"plotly\"], function(Plotly) {                    window.PLOTLYENV=window.PLOTLYENV || {};                                    if (document.getElementById(\"55c7f845-9049-46b9-bb54-c6255faefe20\")) {                    Plotly.newPlot(                        \"55c7f845-9049-46b9-bb54-c6255faefe20\",                        [{\"hovertemplate\":\"error_trace_type=normal<br>tsne_x=%{x}<br>tsne_y=%{y}<extra></extra>\",\"legendgroup\":\"normal\",\"marker\":{\"color\":\"#636efa\",\"symbol\":\"circle\"},\"mode\":\"markers\",\"name\":\"normal\",\"orientation\":\"v\",\"showlegend\":true,\"x\":[-4.028482913970947,-1.4998860359191895,-2.307248830795288,-8.752745628356934,-8.530957221984863,-6.532730579376221,-1.5198596715927124,-6.855478763580322,-2.263706684112549,-6.528895378112793,-2.038858413696289,-2.49064040184021,-6.767026901245117,-6.447000980377197,-1.499942660331726,-1.4937007427215576,-4.048892974853516,-7.317041397094727,-4.079493522644043,-2.0183534622192383,-7.375026226043701,-6.6224284172058105,-2.509345293045044,-2.495311737060547,-2.4729225635528564,-4.048892974853516,-4.389156341552734,-6.8982744216918945,-4.358315467834473,-2.289490222930908,-6.778076648712158,-7.696186065673828,-8.219143867492676,-4.354050159454346,-8.531168937683105,-1.8737519979476929,-1.8684800863265991,-3.007289171218872,-8.750449180603027,-4.40383243560791,-2.2925775051116943,-2.4903831481933594,-1.5043493509292603,-7.878380298614502,-2.2719011306762695,-7.868741989135742,-1.8874154090881348,-4.048893928527832,-4.074657440185547,-5.981996536254883,-4.048876762390137,-3.1534388065338135,-7.133693695068359,-7.858425617218018,-7.611796855926514,-3.947841167449951,-2.4518983364105225,-1.014296531677246,-6.451299667358398,-2.02496600151062,-6.56152868270874,-8.749567031860352,-3.0443224906921387,-2.0040457248687744,-3.0160648822784424,-4.354920387268066,-2.789992570877075,-3.947908401489258,-7.734772205352783,-3.9478414058685303,-4.048893451690674,-3.380169630050659,-2.768630027770996,-8.126239776611328,-2.275270938873291,-7.740536212921143,-8.531454086303711,-7.767336368560791,-2.496448040008545,-4.372311592102051],\"xaxis\":\"x\",\"y\":[0.17034363746643066,8.115198135375977,-4.9817633628845215,0.8826434016227722,1.9354918003082275,-0.32016274333000183,8.13371753692627,-0.3641127347946167,-4.374367713928223,-0.24666139483451843,-4.964122772216797,-4.777055263519287,-0.3363683819770813,0.1814500242471695,8.131558418273926,8.093278884887695,0.11950258165597916,1.4492319822311401,2.2224600315093994,-4.9551897048950195,1.3501981496810913,-0.3308494985103607,7.233668327331543,7.250231742858887,-4.828346252441406,0.119502492249012,4.277210712432861,0.21884730458259583,3.3621602058410645,9.04141616821289,-0.3634445071220398,0.8696175217628479,0.3018091320991516,3.3354759216308594,1.9340142011642456,-4.602026462554932,-4.645384311676025,8.838932991027832,0.8815534114837646,4.214616298675537,-4.382293224334717,7.2706451416015625,8.113093376159668,0.6838849782943726,-4.993434429168701,0.9183839559555054,-4.80419921875,0.1195024698972702,2.2155489921569824,2.508021831512451,0.11810462176799774,9.184409141540527,-0.11163502186536789,0.7794419527053833,1.3839008808135986,-0.2823861837387085,-4.507458209991455,8.731674194335938,0.18033844232559204,-4.40199613571167,0.2433294802904129,0.8835545182228088,9.147841453552246,-4.414307117462158,9.256814002990723,3.3547606468200684,8.375513076782227,-0.2826664447784424,0.9293574094772339,-0.2823866009712219,0.11950258910655975,9.083931922912598,8.426139831542969,0.9159688949584961,8.917939186096191,0.7957555055618286,1.9330391883850098,0.9345514178276062,-4.614780426025391,3.4181480407714844],\"yaxis\":\"y\",\"type\":\"scatter\"},{\"hovertemplate\":\"error_trace_type=F14-01<br>tsne_x=%{x}<br>tsne_y=%{y}<extra></extra>\",\"legendgroup\":\"F14-01\",\"marker\":{\"color\":\"#EF553B\",\"symbol\":\"circle\"},\"mode\":\"markers\",\"name\":\"F14-01\",\"orientation\":\"v\",\"showlegend\":true,\"x\":[-1.5234647989273071,-1.514727234840393],\"xaxis\":\"x\",\"y\":[7.781437873840332,7.773293972015381],\"yaxis\":\"y\",\"type\":\"scatter\"},{\"hovertemplate\":\"error_trace_type=F10-01<br>tsne_x=%{x}<br>tsne_y=%{y}<extra></extra>\",\"legendgroup\":\"F10-01\",\"marker\":{\"color\":\"#00cc96\",\"symbol\":\"circle\"},\"mode\":\"markers\",\"name\":\"F10-01\",\"orientation\":\"v\",\"showlegend\":true,\"x\":[-3.1498258113861084],\"xaxis\":\"x\",\"y\":[8.722601890563965],\"yaxis\":\"y\",\"type\":\"scatter\"},{\"hovertemplate\":\"error_trace_type=F10-02<br>tsne_x=%{x}<br>tsne_y=%{y}<extra></extra>\",\"legendgroup\":\"F10-02\",\"marker\":{\"color\":\"#ab63fa\",\"symbol\":\"circle\"},\"mode\":\"markers\",\"name\":\"F10-02\",\"orientation\":\"v\",\"showlegend\":true,\"x\":[-2.3162589073181152],\"xaxis\":\"x\",\"y\":[8.575228691101074],\"yaxis\":\"y\",\"type\":\"scatter\"},{\"hovertemplate\":\"error_trace_type=F03-03<br>tsne_x=%{x}<br>tsne_y=%{y}<extra></extra>\",\"legendgroup\":\"F03-03\",\"marker\":{\"color\":\"#FFA15A\",\"symbol\":\"circle\"},\"mode\":\"markers\",\"name\":\"F03-03\",\"orientation\":\"v\",\"showlegend\":true,\"x\":[-3.5448622703552246,-3.362539291381836],\"xaxis\":\"x\",\"y\":[9.100468635559082,8.996711730957031],\"yaxis\":\"y\",\"type\":\"scatter\"},{\"hovertemplate\":\"error_trace_type=F07-01<br>tsne_x=%{x}<br>tsne_y=%{y}<extra></extra>\",\"legendgroup\":\"F07-01\",\"marker\":{\"color\":\"#19d3f3\",\"symbol\":\"circle\"},\"mode\":\"markers\",\"name\":\"F07-01\",\"orientation\":\"v\",\"showlegend\":true,\"x\":[-5.233036994934082,-5.235969543457031,-5.237527847290039],\"xaxis\":\"x\",\"y\":[-0.966586172580719,-0.9680113196372986,-0.9682126641273499],\"yaxis\":\"y\",\"type\":\"scatter\"},{\"hovertemplate\":\"error_trace_type=F13-03<br>tsne_x=%{x}<br>tsne_y=%{y}<extra></extra>\",\"legendgroup\":\"F13-03\",\"marker\":{\"color\":\"#FF6692\",\"symbol\":\"circle\"},\"mode\":\"markers\",\"name\":\"F13-03\",\"orientation\":\"v\",\"showlegend\":true,\"x\":[-7.988382816314697],\"xaxis\":\"x\",\"y\":[0.1884816735982895],\"yaxis\":\"y\",\"type\":\"scatter\"},{\"hovertemplate\":\"error_trace_type=F07-02<br>tsne_x=%{x}<br>tsne_y=%{y}<extra></extra>\",\"legendgroup\":\"F07-02\",\"marker\":{\"color\":\"#B6E880\",\"symbol\":\"circle\"},\"mode\":\"markers\",\"name\":\"F07-02\",\"orientation\":\"v\",\"showlegend\":true,\"x\":[-2.6472678184509277],\"xaxis\":\"x\",\"y\":[7.85330057144165],\"yaxis\":\"y\",\"type\":\"scatter\"},{\"hovertemplate\":\"error_trace_type=F01-05<br>tsne_x=%{x}<br>tsne_y=%{y}<extra></extra>\",\"legendgroup\":\"F01-05\",\"marker\":{\"color\":\"#FF97FF\",\"symbol\":\"circle\"},\"mode\":\"markers\",\"name\":\"F01-05\",\"orientation\":\"v\",\"showlegend\":true,\"x\":[-2.3802084922790527],\"xaxis\":\"x\",\"y\":[7.5258941650390625],\"yaxis\":\"y\",\"type\":\"scatter\"},{\"hovertemplate\":\"error_trace_type=F07-04<br>tsne_x=%{x}<br>tsne_y=%{y}<extra></extra>\",\"legendgroup\":\"F07-04\",\"marker\":{\"color\":\"#FECB52\",\"symbol\":\"circle\"},\"mode\":\"markers\",\"name\":\"F07-04\",\"orientation\":\"v\",\"showlegend\":true,\"x\":[-9.610549926757812,-9.628454208374023],\"xaxis\":\"x\",\"y\":[1.8822144269943237,1.8510892391204834],\"yaxis\":\"y\",\"type\":\"scatter\"},{\"hovertemplate\":\"error_trace_type=F04-01<br>tsne_x=%{x}<br>tsne_y=%{y}<extra></extra>\",\"legendgroup\":\"F04-01\",\"marker\":{\"color\":\"#636efa\",\"symbol\":\"circle\"},\"mode\":\"markers\",\"name\":\"F04-01\",\"orientation\":\"v\",\"showlegend\":true,\"x\":[-1.5848321914672852],\"xaxis\":\"x\",\"y\":[6.604300022125244],\"yaxis\":\"y\",\"type\":\"scatter\"},{\"hovertemplate\":\"error_trace_type=F13-01<br>tsne_x=%{x}<br>tsne_y=%{y}<extra></extra>\",\"legendgroup\":\"F13-01\",\"marker\":{\"color\":\"#EF553B\",\"symbol\":\"circle\"},\"mode\":\"markers\",\"name\":\"F13-01\",\"orientation\":\"v\",\"showlegend\":true,\"x\":[-2.5515296459198],\"xaxis\":\"x\",\"y\":[7.12523078918457],\"yaxis\":\"y\",\"type\":\"scatter\"},{\"hovertemplate\":\"error_trace_type=F03-08<br>tsne_x=%{x}<br>tsne_y=%{y}<extra></extra>\",\"legendgroup\":\"F03-08\",\"marker\":{\"color\":\"#00cc96\",\"symbol\":\"circle\"},\"mode\":\"markers\",\"name\":\"F03-08\",\"orientation\":\"v\",\"showlegend\":true,\"x\":[-9.359334945678711],\"xaxis\":\"x\",\"y\":[2.1197049617767334],\"yaxis\":\"y\",\"type\":\"scatter\"},{\"hovertemplate\":\"error_trace_type=F11-01<br>tsne_x=%{x}<br>tsne_y=%{y}<extra></extra>\",\"legendgroup\":\"F11-01\",\"marker\":{\"color\":\"#ab63fa\",\"symbol\":\"circle\"},\"mode\":\"markers\",\"name\":\"F11-01\",\"orientation\":\"v\",\"showlegend\":true,\"x\":[-4.4310102462768555],\"xaxis\":\"x\",\"y\":[4.234912395477295],\"yaxis\":\"y\",\"type\":\"scatter\"},{\"hovertemplate\":\"error_trace_type=F05-01<br>tsne_x=%{x}<br>tsne_y=%{y}<extra></extra>\",\"legendgroup\":\"F05-01\",\"marker\":{\"color\":\"#FFA15A\",\"symbol\":\"circle\"},\"mode\":\"markers\",\"name\":\"F05-01\",\"orientation\":\"v\",\"showlegend\":true,\"x\":[-9.509634971618652],\"xaxis\":\"x\",\"y\":[1.5163190364837646],\"yaxis\":\"y\",\"type\":\"scatter\"},{\"hovertemplate\":\"error_trace_type=F03-04<br>tsne_x=%{x}<br>tsne_y=%{y}<extra></extra>\",\"legendgroup\":\"F03-04\",\"marker\":{\"color\":\"#19d3f3\",\"symbol\":\"circle\"},\"mode\":\"markers\",\"name\":\"F03-04\",\"orientation\":\"v\",\"showlegend\":true,\"x\":[-4.449540615081787],\"xaxis\":\"x\",\"y\":[3.587320327758789],\"yaxis\":\"y\",\"type\":\"scatter\"}],                        {\"template\":{\"data\":{\"bar\":[{\"error_x\":{\"color\":\"#2a3f5f\"},\"error_y\":{\"color\":\"#2a3f5f\"},\"marker\":{\"line\":{\"color\":\"#E5ECF6\",\"width\":0.5},\"pattern\":{\"fillmode\":\"overlay\",\"size\":10,\"solidity\":0.2}},\"type\":\"bar\"}],\"barpolar\":[{\"marker\":{\"line\":{\"color\":\"#E5ECF6\",\"width\":0.5},\"pattern\":{\"fillmode\":\"overlay\",\"size\":10,\"solidity\":0.2}},\"type\":\"barpolar\"}],\"carpet\":[{\"aaxis\":{\"endlinecolor\":\"#2a3f5f\",\"gridcolor\":\"white\",\"linecolor\":\"white\",\"minorgridcolor\":\"white\",\"startlinecolor\":\"#2a3f5f\"},\"baxis\":{\"endlinecolor\":\"#2a3f5f\",\"gridcolor\":\"white\",\"linecolor\":\"white\",\"minorgridcolor\":\"white\",\"startlinecolor\":\"#2a3f5f\"},\"type\":\"carpet\"}],\"choropleth\":[{\"colorbar\":{\"outlinewidth\":0,\"ticks\":\"\"},\"type\":\"choropleth\"}],\"contour\":[{\"colorbar\":{\"outlinewidth\":0,\"ticks\":\"\"},\"colorscale\":[[0.0,\"#0d0887\"],[0.1111111111111111,\"#46039f\"],[0.2222222222222222,\"#7201a8\"],[0.3333333333333333,\"#9c179e\"],[0.4444444444444444,\"#bd3786\"],[0.5555555555555556,\"#d8576b\"],[0.6666666666666666,\"#ed7953\"],[0.7777777777777778,\"#fb9f3a\"],[0.8888888888888888,\"#fdca26\"],[1.0,\"#f0f921\"]],\"type\":\"contour\"}],\"contourcarpet\":[{\"colorbar\":{\"outlinewidth\":0,\"ticks\":\"\"},\"type\":\"contourcarpet\"}],\"heatmap\":[{\"colorbar\":{\"outlinewidth\":0,\"ticks\":\"\"},\"colorscale\":[[0.0,\"#0d0887\"],[0.1111111111111111,\"#46039f\"],[0.2222222222222222,\"#7201a8\"],[0.3333333333333333,\"#9c179e\"],[0.4444444444444444,\"#bd3786\"],[0.5555555555555556,\"#d8576b\"],[0.6666666666666666,\"#ed7953\"],[0.7777777777777778,\"#fb9f3a\"],[0.8888888888888888,\"#fdca26\"],[1.0,\"#f0f921\"]],\"type\":\"heatmap\"}],\"heatmapgl\":[{\"colorbar\":{\"outlinewidth\":0,\"ticks\":\"\"},\"colorscale\":[[0.0,\"#0d0887\"],[0.1111111111111111,\"#46039f\"],[0.2222222222222222,\"#7201a8\"],[0.3333333333333333,\"#9c179e\"],[0.4444444444444444,\"#bd3786\"],[0.5555555555555556,\"#d8576b\"],[0.6666666666666666,\"#ed7953\"],[0.7777777777777778,\"#fb9f3a\"],[0.8888888888888888,\"#fdca26\"],[1.0,\"#f0f921\"]],\"type\":\"heatmapgl\"}],\"histogram\":[{\"marker\":{\"pattern\":{\"fillmode\":\"overlay\",\"size\":10,\"solidity\":0.2}},\"type\":\"histogram\"}],\"histogram2d\":[{\"colorbar\":{\"outlinewidth\":0,\"ticks\":\"\"},\"colorscale\":[[0.0,\"#0d0887\"],[0.1111111111111111,\"#46039f\"],[0.2222222222222222,\"#7201a8\"],[0.3333333333333333,\"#9c179e\"],[0.4444444444444444,\"#bd3786\"],[0.5555555555555556,\"#d8576b\"],[0.6666666666666666,\"#ed7953\"],[0.7777777777777778,\"#fb9f3a\"],[0.8888888888888888,\"#fdca26\"],[1.0,\"#f0f921\"]],\"type\":\"histogram2d\"}],\"histogram2dcontour\":[{\"colorbar\":{\"outlinewidth\":0,\"ticks\":\"\"},\"colorscale\":[[0.0,\"#0d0887\"],[0.1111111111111111,\"#46039f\"],[0.2222222222222222,\"#7201a8\"],[0.3333333333333333,\"#9c179e\"],[0.4444444444444444,\"#bd3786\"],[0.5555555555555556,\"#d8576b\"],[0.6666666666666666,\"#ed7953\"],[0.7777777777777778,\"#fb9f3a\"],[0.8888888888888888,\"#fdca26\"],[1.0,\"#f0f921\"]],\"type\":\"histogram2dcontour\"}],\"mesh3d\":[{\"colorbar\":{\"outlinewidth\":0,\"ticks\":\"\"},\"type\":\"mesh3d\"}],\"parcoords\":[{\"line\":{\"colorbar\":{\"outlinewidth\":0,\"ticks\":\"\"}},\"type\":\"parcoords\"}],\"pie\":[{\"automargin\":true,\"type\":\"pie\"}],\"scatter\":[{\"marker\":{\"colorbar\":{\"outlinewidth\":0,\"ticks\":\"\"}},\"type\":\"scatter\"}],\"scatter3d\":[{\"line\":{\"colorbar\":{\"outlinewidth\":0,\"ticks\":\"\"}},\"marker\":{\"colorbar\":{\"outlinewidth\":0,\"ticks\":\"\"}},\"type\":\"scatter3d\"}],\"scattercarpet\":[{\"marker\":{\"colorbar\":{\"outlinewidth\":0,\"ticks\":\"\"}},\"type\":\"scattercarpet\"}],\"scattergeo\":[{\"marker\":{\"colorbar\":{\"outlinewidth\":0,\"ticks\":\"\"}},\"type\":\"scattergeo\"}],\"scattergl\":[{\"marker\":{\"colorbar\":{\"outlinewidth\":0,\"ticks\":\"\"}},\"type\":\"scattergl\"}],\"scattermapbox\":[{\"marker\":{\"colorbar\":{\"outlinewidth\":0,\"ticks\":\"\"}},\"type\":\"scattermapbox\"}],\"scatterpolar\":[{\"marker\":{\"colorbar\":{\"outlinewidth\":0,\"ticks\":\"\"}},\"type\":\"scatterpolar\"}],\"scatterpolargl\":[{\"marker\":{\"colorbar\":{\"outlinewidth\":0,\"ticks\":\"\"}},\"type\":\"scatterpolargl\"}],\"scatterternary\":[{\"marker\":{\"colorbar\":{\"outlinewidth\":0,\"ticks\":\"\"}},\"type\":\"scatterternary\"}],\"surface\":[{\"colorbar\":{\"outlinewidth\":0,\"ticks\":\"\"},\"colorscale\":[[0.0,\"#0d0887\"],[0.1111111111111111,\"#46039f\"],[0.2222222222222222,\"#7201a8\"],[0.3333333333333333,\"#9c179e\"],[0.4444444444444444,\"#bd3786\"],[0.5555555555555556,\"#d8576b\"],[0.6666666666666666,\"#ed7953\"],[0.7777777777777778,\"#fb9f3a\"],[0.8888888888888888,\"#fdca26\"],[1.0,\"#f0f921\"]],\"type\":\"surface\"}],\"table\":[{\"cells\":{\"fill\":{\"color\":\"#EBF0F8\"},\"line\":{\"color\":\"white\"}},\"header\":{\"fill\":{\"color\":\"#C8D4E3\"},\"line\":{\"color\":\"white\"}},\"type\":\"table\"}]},\"layout\":{\"annotationdefaults\":{\"arrowcolor\":\"#2a3f5f\",\"arrowhead\":0,\"arrowwidth\":1},\"autotypenumbers\":\"strict\",\"coloraxis\":{\"colorbar\":{\"outlinewidth\":0,\"ticks\":\"\"}},\"colorscale\":{\"diverging\":[[0,\"#8e0152\"],[0.1,\"#c51b7d\"],[0.2,\"#de77ae\"],[0.3,\"#f1b6da\"],[0.4,\"#fde0ef\"],[0.5,\"#f7f7f7\"],[0.6,\"#e6f5d0\"],[0.7,\"#b8e186\"],[0.8,\"#7fbc41\"],[0.9,\"#4d9221\"],[1,\"#276419\"]],\"sequential\":[[0.0,\"#0d0887\"],[0.1111111111111111,\"#46039f\"],[0.2222222222222222,\"#7201a8\"],[0.3333333333333333,\"#9c179e\"],[0.4444444444444444,\"#bd3786\"],[0.5555555555555556,\"#d8576b\"],[0.6666666666666666,\"#ed7953\"],[0.7777777777777778,\"#fb9f3a\"],[0.8888888888888888,\"#fdca26\"],[1.0,\"#f0f921\"]],\"sequentialminus\":[[0.0,\"#0d0887\"],[0.1111111111111111,\"#46039f\"],[0.2222222222222222,\"#7201a8\"],[0.3333333333333333,\"#9c179e\"],[0.4444444444444444,\"#bd3786\"],[0.5555555555555556,\"#d8576b\"],[0.6666666666666666,\"#ed7953\"],[0.7777777777777778,\"#fb9f3a\"],[0.8888888888888888,\"#fdca26\"],[1.0,\"#f0f921\"]]},\"colorway\":[\"#636efa\",\"#EF553B\",\"#00cc96\",\"#ab63fa\",\"#FFA15A\",\"#19d3f3\",\"#FF6692\",\"#B6E880\",\"#FF97FF\",\"#FECB52\"],\"font\":{\"color\":\"#2a3f5f\"},\"geo\":{\"bgcolor\":\"white\",\"lakecolor\":\"white\",\"landcolor\":\"#E5ECF6\",\"showlakes\":true,\"showland\":true,\"subunitcolor\":\"white\"},\"hoverlabel\":{\"align\":\"left\"},\"hovermode\":\"closest\",\"mapbox\":{\"style\":\"light\"},\"paper_bgcolor\":\"white\",\"plot_bgcolor\":\"#E5ECF6\",\"polar\":{\"angularaxis\":{\"gridcolor\":\"white\",\"linecolor\":\"white\",\"ticks\":\"\"},\"bgcolor\":\"#E5ECF6\",\"radialaxis\":{\"gridcolor\":\"white\",\"linecolor\":\"white\",\"ticks\":\"\"}},\"scene\":{\"xaxis\":{\"backgroundcolor\":\"#E5ECF6\",\"gridcolor\":\"white\",\"gridwidth\":2,\"linecolor\":\"white\",\"showbackground\":true,\"ticks\":\"\",\"zerolinecolor\":\"white\"},\"yaxis\":{\"backgroundcolor\":\"#E5ECF6\",\"gridcolor\":\"white\",\"gridwidth\":2,\"linecolor\":\"white\",\"showbackground\":true,\"ticks\":\"\",\"zerolinecolor\":\"white\"},\"zaxis\":{\"backgroundcolor\":\"#E5ECF6\",\"gridcolor\":\"white\",\"gridwidth\":2,\"linecolor\":\"white\",\"showbackground\":true,\"ticks\":\"\",\"zerolinecolor\":\"white\"}},\"shapedefaults\":{\"line\":{\"color\":\"#2a3f5f\"}},\"ternary\":{\"aaxis\":{\"gridcolor\":\"white\",\"linecolor\":\"white\",\"ticks\":\"\"},\"baxis\":{\"gridcolor\":\"white\",\"linecolor\":\"white\",\"ticks\":\"\"},\"bgcolor\":\"#E5ECF6\",\"caxis\":{\"gridcolor\":\"white\",\"linecolor\":\"white\",\"ticks\":\"\"}},\"title\":{\"x\":0.05},\"xaxis\":{\"automargin\":true,\"gridcolor\":\"white\",\"linecolor\":\"white\",\"ticks\":\"\",\"title\":{\"standoff\":15},\"zerolinecolor\":\"white\",\"zerolinewidth\":2},\"yaxis\":{\"automargin\":true,\"gridcolor\":\"white\",\"linecolor\":\"white\",\"ticks\":\"\",\"title\":{\"standoff\":15},\"zerolinecolor\":\"white\",\"zerolinewidth\":2}}},\"xaxis\":{\"anchor\":\"y\",\"domain\":[0.0,1.0],\"title\":{\"text\":\"tsne_x\"}},\"yaxis\":{\"anchor\":\"x\",\"domain\":[0.0,1.0],\"title\":{\"text\":\"tsne_y\"}},\"legend\":{\"title\":{\"text\":\"error_trace_type\"},\"tracegroupgap\":0},\"title\":{\"text\":\"Eval Graph Embeddings\"}},                        {\"responsive\": true}                    ).then(function(){\n",
       "                            \n",
       "var gd = document.getElementById('55c7f845-9049-46b9-bb54-c6255faefe20');\n",
       "var x = new MutationObserver(function (mutations, observer) {{\n",
       "        var display = window.getComputedStyle(gd).display;\n",
       "        if (!display || display === 'none') {{\n",
       "            console.log([gd, 'removed!']);\n",
       "            Plotly.purge(gd);\n",
       "            observer.disconnect();\n",
       "        }}\n",
       "}});\n",
       "\n",
       "// Listen for the removal of the full notebook cells\n",
       "var notebookContainer = gd.closest('#notebook-container');\n",
       "if (notebookContainer) {{\n",
       "    x.observe(notebookContainer, {childList: true});\n",
       "}}\n",
       "\n",
       "// Listen for the clearing of the current output cell\n",
       "var outputEl = gd.closest('.output');\n",
       "if (outputEl) {{\n",
       "    x.observe(outputEl, {childList: true});\n",
       "}}\n",
       "\n",
       "                        })                };                });            </script>        </div>"
      ]
     },
     "metadata": {},
     "output_type": "display_data"
    }
   ],
   "source": [
    "px.scatter(eval_result_df, x='tsne_x', y='tsne_y', color='error_trace_type', title='Eval Graph Embeddings')"
   ]
  },
  {
   "cell_type": "code",
   "execution_count": 64,
   "metadata": {},
   "outputs": [
    {
     "data": {
      "application/vnd.plotly.v1+json": {
       "config": {
        "plotlyServerURL": "https://plot.ly"
       },
       "data": [
        {
         "alignmentgroup": "True",
         "bingroup": "x",
         "hovertemplate": "error_trace_type=normal<br>scores=%{x}<br>count=%{y}<extra></extra>",
         "legendgroup": "normal",
         "marker": {
          "color": "#636efa",
          "pattern": {
           "shape": ""
          }
         },
         "name": "normal",
         "offsetgroup": "normal",
         "orientation": "v",
         "showlegend": true,
         "type": "histogram",
         "x": [
          2.119375182019212e-7,
          2.0950119505869225e-7,
          2.1283312889863737e-7,
          2.085228771875336e-7,
          2.085568127085935e-7,
          2.133989056574137e-7,
          2.1338007627491606e-7,
          2.1161216068321664e-7,
          2.1316749609923136e-7,
          2.0682786328052316e-7,
          2.0645835263621848e-7,
          2.0787000210020778e-7,
          2.1156122897991736e-7,
          2.133949834615123e-7,
          2.126199376561999e-7,
          2.1367769420521654e-7,
          2.1367769420521654e-7,
          2.0981549653242837e-7,
          2.1368620650719095e-7,
          2.1386151161095768e-7,
          2.041935260876926e-7,
          2.1305334030330414e-7,
          2.0441777337509848e-7,
          2.0453649085538927e-7,
          2.0874243489288347e-7,
          2.1366462021887855e-7,
          2.1354823331876105e-7,
          2.1367769420521654e-7,
          2.1320376220046455e-7,
          2.115942550062755e-7,
          2.1368498437368544e-7,
          2.0818170298753103e-7,
          2.128505371956635e-7,
          2.044206013351868e-7,
          2.1386726700711733e-7,
          2.1163695862469467e-7,
          2.0950119505869225e-7,
          2.1386404114309698e-7,
          2.133941308102294e-7,
          2.093310200734777e-7,
          2.069853195507676e-7,
          2.1150579243567336e-7,
          2.0903316055864707e-7,
          2.1365981694998482e-7,
          2.122699385154192e-7,
          2.1156971286018234e-7,
          2.1367769420521654e-7,
          2.1367137037486827e-7,
          2.0818170298753103e-7,
          2.0950119505869225e-7,
          2.117479454000204e-7,
          2.0641174103275262e-7,
          2.1367769420521654e-7,
          2.0440954529021838e-7,
          2.0906547604226944e-7,
          2.1168308705910022e-7,
          2.1131947391950234e-7,
          2.0847963355663524e-7,
          2.1177139331030048e-7,
          2.1222520274477574e-7,
          2.0953848434146494e-7,
          2.121150544098782e-7,
          2.0686330515218287e-7,
          2.1749993095454556e-7,
          2.07941994290195e-7,
          2.0818170298753103e-7,
          2.1156495222385274e-7,
          2.0770468722730584e-7,
          2.1157231344659522e-7,
          2.1367137037486827e-7,
          2.1052252918707381e-7,
          2.1155010188067536e-7,
          2.1156681384582043e-7,
          2.0927279820170952e-7,
          2.085568127085935e-7,
          2.1369795888404042e-7,
          2.0852267823556758e-7,
          2.0851472015692707e-7,
          2.1162205143809842e-7,
          2.1274824746342347e-7,
          2.116485831038517e-7,
          2.0781156706561887e-7,
          2.0950119505869225e-7,
          2.116014741204708e-7,
          2.127814724417476e-7,
          2.1131947391950234e-7,
          2.133974987827969e-7,
          2.0894403007787332e-7,
          2.1384964554727048e-7,
          2.042227862375512e-7,
          2.0950119505869225e-7,
          2.1155581464427087e-7,
          2.1367769420521654e-7,
          2.088853108261901e-7,
          2.0660141331063642e-7,
          2.1162634311622242e-7,
          2.133989056574137e-7,
          2.088268757916012e-7,
          2.0869421746283479e-7,
          2.131661460680334e-7,
          2.1131947391950234e-7,
          2.1330875199510047e-7,
          2.1338840383577917e-7,
          2.12780904007559e-7,
          2.1159073071430612e-7,
          2.133974987827969e-7,
          2.040754765175734e-7,
          2.0423115643097844e-7,
          2.133941308102294e-7,
          2.1232133917692408e-7,
          2.1340864009289362e-7,
          2.0784922583061416e-7,
          2.1305073971689126e-7,
          2.0867913974598196e-7,
          2.0929392974267103e-7,
          2.1159787877422787e-7,
          2.0658252708471991e-7,
          2.133974987827969e-7,
          2.1810231487506826e-7,
          2.1272862227306177e-7,
          2.128482066154902e-7,
          2.076361340641597e-7,
          2.0932407096552197e-7,
          2.1282573925418546e-7,
          2.134209609039317e-7,
          2.1339359079775022e-7,
          2.1339803879527608e-7,
          2.1160727214919461e-7,
          2.088307979875026e-7,
          2.119375182019212e-7,
          2.085568127085935e-7,
          2.1229853075510619e-7,
          2.1161369545552589e-7,
          2.0431465941328497e-7,
          2.1366462021887855e-7,
          2.0950119505869225e-7,
          2.1369795888404042e-7,
          2.0785653020993777e-7,
          2.1131947391950234e-7,
          2.1132443350779795e-7,
          2.1158562901746336e-7,
          2.093726152452291e-7,
          2.1153525153749797e-7,
          2.0836918679378869e-7,
          2.1366614078033308e-7,
          2.0950119505869225e-7,
          2.085568127085935e-7,
          2.0847653559030732e-7,
          2.0854575666362507e-7,
          2.0678832868270547e-7,
          2.1154944818135846e-7,
          2.1160228413918958e-7,
          2.0950119505869225e-7,
          2.084970702753708e-7,
          2.1313006470791152e-7,
          2.0930347943703964e-7,
          2.133099172851871e-7,
          2.131724841092364e-7,
          2.121438456015312e-7,
          2.11566785424111e-7,
          2.1340621003673732e-7,
          2.1132443350779795e-7,
          2.1367769420521654e-7,
          2.1283291573581664e-7,
          2.1167856800730078e-7,
          2.0423506441602512e-7,
          2.133989056574137e-7,
          2.0453073545922962e-7,
          2.085568127085935e-7,
          2.1120185067502462e-7,
          2.1220391488441237e-7,
          2.069991467124055e-7,
          2.1233232416761894e-7,
          2.1312693831987417e-7,
          2.0775235043402063e-7,
          2.1369562830386712e-7,
          2.1408014561075106e-7,
          2.1164724728350848e-7,
          2.1306793485109665e-7,
          2.0937694955591724e-7,
          2.1161153540560917e-7,
          2.0890205121304461e-7,
          2.0815119228245749e-7,
          2.0681707724179432e-7,
          2.1330059496449394e-7,
          2.1336344957489928e-7,
          2.0628557706459105e-7,
          2.0936199973675684e-7,
          2.0430663028037088e-7,
          2.1152085594167147e-7,
          2.0616955964669614e-7,
          2.0413132517660415e-7,
          2.1367769420521654e-7,
          2.134044194690432e-7,
          2.1109033809807443e-7,
          2.0979348391847452e-7,
          2.115891248877233e-7,
          2.133974987827969e-7,
          2.115673538582996e-7,
          2.133949834615123e-7
         ],
         "xaxis": "x",
         "yaxis": "y"
        }
       ],
       "layout": {
        "barmode": "relative",
        "legend": {
         "title": {
          "text": "error_trace_type"
         },
         "tracegroupgap": 0
        },
        "template": {
         "data": {
          "bar": [
           {
            "error_x": {
             "color": "#2a3f5f"
            },
            "error_y": {
             "color": "#2a3f5f"
            },
            "marker": {
             "line": {
              "color": "#E5ECF6",
              "width": 0.5
             },
             "pattern": {
              "fillmode": "overlay",
              "size": 10,
              "solidity": 0.2
             }
            },
            "type": "bar"
           }
          ],
          "barpolar": [
           {
            "marker": {
             "line": {
              "color": "#E5ECF6",
              "width": 0.5
             },
             "pattern": {
              "fillmode": "overlay",
              "size": 10,
              "solidity": 0.2
             }
            },
            "type": "barpolar"
           }
          ],
          "carpet": [
           {
            "aaxis": {
             "endlinecolor": "#2a3f5f",
             "gridcolor": "white",
             "linecolor": "white",
             "minorgridcolor": "white",
             "startlinecolor": "#2a3f5f"
            },
            "baxis": {
             "endlinecolor": "#2a3f5f",
             "gridcolor": "white",
             "linecolor": "white",
             "minorgridcolor": "white",
             "startlinecolor": "#2a3f5f"
            },
            "type": "carpet"
           }
          ],
          "choropleth": [
           {
            "colorbar": {
             "outlinewidth": 0,
             "ticks": ""
            },
            "type": "choropleth"
           }
          ],
          "contour": [
           {
            "colorbar": {
             "outlinewidth": 0,
             "ticks": ""
            },
            "colorscale": [
             [
              0,
              "#0d0887"
             ],
             [
              0.1111111111111111,
              "#46039f"
             ],
             [
              0.2222222222222222,
              "#7201a8"
             ],
             [
              0.3333333333333333,
              "#9c179e"
             ],
             [
              0.4444444444444444,
              "#bd3786"
             ],
             [
              0.5555555555555556,
              "#d8576b"
             ],
             [
              0.6666666666666666,
              "#ed7953"
             ],
             [
              0.7777777777777778,
              "#fb9f3a"
             ],
             [
              0.8888888888888888,
              "#fdca26"
             ],
             [
              1,
              "#f0f921"
             ]
            ],
            "type": "contour"
           }
          ],
          "contourcarpet": [
           {
            "colorbar": {
             "outlinewidth": 0,
             "ticks": ""
            },
            "type": "contourcarpet"
           }
          ],
          "heatmap": [
           {
            "colorbar": {
             "outlinewidth": 0,
             "ticks": ""
            },
            "colorscale": [
             [
              0,
              "#0d0887"
             ],
             [
              0.1111111111111111,
              "#46039f"
             ],
             [
              0.2222222222222222,
              "#7201a8"
             ],
             [
              0.3333333333333333,
              "#9c179e"
             ],
             [
              0.4444444444444444,
              "#bd3786"
             ],
             [
              0.5555555555555556,
              "#d8576b"
             ],
             [
              0.6666666666666666,
              "#ed7953"
             ],
             [
              0.7777777777777778,
              "#fb9f3a"
             ],
             [
              0.8888888888888888,
              "#fdca26"
             ],
             [
              1,
              "#f0f921"
             ]
            ],
            "type": "heatmap"
           }
          ],
          "heatmapgl": [
           {
            "colorbar": {
             "outlinewidth": 0,
             "ticks": ""
            },
            "colorscale": [
             [
              0,
              "#0d0887"
             ],
             [
              0.1111111111111111,
              "#46039f"
             ],
             [
              0.2222222222222222,
              "#7201a8"
             ],
             [
              0.3333333333333333,
              "#9c179e"
             ],
             [
              0.4444444444444444,
              "#bd3786"
             ],
             [
              0.5555555555555556,
              "#d8576b"
             ],
             [
              0.6666666666666666,
              "#ed7953"
             ],
             [
              0.7777777777777778,
              "#fb9f3a"
             ],
             [
              0.8888888888888888,
              "#fdca26"
             ],
             [
              1,
              "#f0f921"
             ]
            ],
            "type": "heatmapgl"
           }
          ],
          "histogram": [
           {
            "marker": {
             "pattern": {
              "fillmode": "overlay",
              "size": 10,
              "solidity": 0.2
             }
            },
            "type": "histogram"
           }
          ],
          "histogram2d": [
           {
            "colorbar": {
             "outlinewidth": 0,
             "ticks": ""
            },
            "colorscale": [
             [
              0,
              "#0d0887"
             ],
             [
              0.1111111111111111,
              "#46039f"
             ],
             [
              0.2222222222222222,
              "#7201a8"
             ],
             [
              0.3333333333333333,
              "#9c179e"
             ],
             [
              0.4444444444444444,
              "#bd3786"
             ],
             [
              0.5555555555555556,
              "#d8576b"
             ],
             [
              0.6666666666666666,
              "#ed7953"
             ],
             [
              0.7777777777777778,
              "#fb9f3a"
             ],
             [
              0.8888888888888888,
              "#fdca26"
             ],
             [
              1,
              "#f0f921"
             ]
            ],
            "type": "histogram2d"
           }
          ],
          "histogram2dcontour": [
           {
            "colorbar": {
             "outlinewidth": 0,
             "ticks": ""
            },
            "colorscale": [
             [
              0,
              "#0d0887"
             ],
             [
              0.1111111111111111,
              "#46039f"
             ],
             [
              0.2222222222222222,
              "#7201a8"
             ],
             [
              0.3333333333333333,
              "#9c179e"
             ],
             [
              0.4444444444444444,
              "#bd3786"
             ],
             [
              0.5555555555555556,
              "#d8576b"
             ],
             [
              0.6666666666666666,
              "#ed7953"
             ],
             [
              0.7777777777777778,
              "#fb9f3a"
             ],
             [
              0.8888888888888888,
              "#fdca26"
             ],
             [
              1,
              "#f0f921"
             ]
            ],
            "type": "histogram2dcontour"
           }
          ],
          "mesh3d": [
           {
            "colorbar": {
             "outlinewidth": 0,
             "ticks": ""
            },
            "type": "mesh3d"
           }
          ],
          "parcoords": [
           {
            "line": {
             "colorbar": {
              "outlinewidth": 0,
              "ticks": ""
             }
            },
            "type": "parcoords"
           }
          ],
          "pie": [
           {
            "automargin": true,
            "type": "pie"
           }
          ],
          "scatter": [
           {
            "marker": {
             "colorbar": {
              "outlinewidth": 0,
              "ticks": ""
             }
            },
            "type": "scatter"
           }
          ],
          "scatter3d": [
           {
            "line": {
             "colorbar": {
              "outlinewidth": 0,
              "ticks": ""
             }
            },
            "marker": {
             "colorbar": {
              "outlinewidth": 0,
              "ticks": ""
             }
            },
            "type": "scatter3d"
           }
          ],
          "scattercarpet": [
           {
            "marker": {
             "colorbar": {
              "outlinewidth": 0,
              "ticks": ""
             }
            },
            "type": "scattercarpet"
           }
          ],
          "scattergeo": [
           {
            "marker": {
             "colorbar": {
              "outlinewidth": 0,
              "ticks": ""
             }
            },
            "type": "scattergeo"
           }
          ],
          "scattergl": [
           {
            "marker": {
             "colorbar": {
              "outlinewidth": 0,
              "ticks": ""
             }
            },
            "type": "scattergl"
           }
          ],
          "scattermapbox": [
           {
            "marker": {
             "colorbar": {
              "outlinewidth": 0,
              "ticks": ""
             }
            },
            "type": "scattermapbox"
           }
          ],
          "scatterpolar": [
           {
            "marker": {
             "colorbar": {
              "outlinewidth": 0,
              "ticks": ""
             }
            },
            "type": "scatterpolar"
           }
          ],
          "scatterpolargl": [
           {
            "marker": {
             "colorbar": {
              "outlinewidth": 0,
              "ticks": ""
             }
            },
            "type": "scatterpolargl"
           }
          ],
          "scatterternary": [
           {
            "marker": {
             "colorbar": {
              "outlinewidth": 0,
              "ticks": ""
             }
            },
            "type": "scatterternary"
           }
          ],
          "surface": [
           {
            "colorbar": {
             "outlinewidth": 0,
             "ticks": ""
            },
            "colorscale": [
             [
              0,
              "#0d0887"
             ],
             [
              0.1111111111111111,
              "#46039f"
             ],
             [
              0.2222222222222222,
              "#7201a8"
             ],
             [
              0.3333333333333333,
              "#9c179e"
             ],
             [
              0.4444444444444444,
              "#bd3786"
             ],
             [
              0.5555555555555556,
              "#d8576b"
             ],
             [
              0.6666666666666666,
              "#ed7953"
             ],
             [
              0.7777777777777778,
              "#fb9f3a"
             ],
             [
              0.8888888888888888,
              "#fdca26"
             ],
             [
              1,
              "#f0f921"
             ]
            ],
            "type": "surface"
           }
          ],
          "table": [
           {
            "cells": {
             "fill": {
              "color": "#EBF0F8"
             },
             "line": {
              "color": "white"
             }
            },
            "header": {
             "fill": {
              "color": "#C8D4E3"
             },
             "line": {
              "color": "white"
             }
            },
            "type": "table"
           }
          ]
         },
         "layout": {
          "annotationdefaults": {
           "arrowcolor": "#2a3f5f",
           "arrowhead": 0,
           "arrowwidth": 1
          },
          "autotypenumbers": "strict",
          "coloraxis": {
           "colorbar": {
            "outlinewidth": 0,
            "ticks": ""
           }
          },
          "colorscale": {
           "diverging": [
            [
             0,
             "#8e0152"
            ],
            [
             0.1,
             "#c51b7d"
            ],
            [
             0.2,
             "#de77ae"
            ],
            [
             0.3,
             "#f1b6da"
            ],
            [
             0.4,
             "#fde0ef"
            ],
            [
             0.5,
             "#f7f7f7"
            ],
            [
             0.6,
             "#e6f5d0"
            ],
            [
             0.7,
             "#b8e186"
            ],
            [
             0.8,
             "#7fbc41"
            ],
            [
             0.9,
             "#4d9221"
            ],
            [
             1,
             "#276419"
            ]
           ],
           "sequential": [
            [
             0,
             "#0d0887"
            ],
            [
             0.1111111111111111,
             "#46039f"
            ],
            [
             0.2222222222222222,
             "#7201a8"
            ],
            [
             0.3333333333333333,
             "#9c179e"
            ],
            [
             0.4444444444444444,
             "#bd3786"
            ],
            [
             0.5555555555555556,
             "#d8576b"
            ],
            [
             0.6666666666666666,
             "#ed7953"
            ],
            [
             0.7777777777777778,
             "#fb9f3a"
            ],
            [
             0.8888888888888888,
             "#fdca26"
            ],
            [
             1,
             "#f0f921"
            ]
           ],
           "sequentialminus": [
            [
             0,
             "#0d0887"
            ],
            [
             0.1111111111111111,
             "#46039f"
            ],
            [
             0.2222222222222222,
             "#7201a8"
            ],
            [
             0.3333333333333333,
             "#9c179e"
            ],
            [
             0.4444444444444444,
             "#bd3786"
            ],
            [
             0.5555555555555556,
             "#d8576b"
            ],
            [
             0.6666666666666666,
             "#ed7953"
            ],
            [
             0.7777777777777778,
             "#fb9f3a"
            ],
            [
             0.8888888888888888,
             "#fdca26"
            ],
            [
             1,
             "#f0f921"
            ]
           ]
          },
          "colorway": [
           "#636efa",
           "#EF553B",
           "#00cc96",
           "#ab63fa",
           "#FFA15A",
           "#19d3f3",
           "#FF6692",
           "#B6E880",
           "#FF97FF",
           "#FECB52"
          ],
          "font": {
           "color": "#2a3f5f"
          },
          "geo": {
           "bgcolor": "white",
           "lakecolor": "white",
           "landcolor": "#E5ECF6",
           "showlakes": true,
           "showland": true,
           "subunitcolor": "white"
          },
          "hoverlabel": {
           "align": "left"
          },
          "hovermode": "closest",
          "mapbox": {
           "style": "light"
          },
          "paper_bgcolor": "white",
          "plot_bgcolor": "#E5ECF6",
          "polar": {
           "angularaxis": {
            "gridcolor": "white",
            "linecolor": "white",
            "ticks": ""
           },
           "bgcolor": "#E5ECF6",
           "radialaxis": {
            "gridcolor": "white",
            "linecolor": "white",
            "ticks": ""
           }
          },
          "scene": {
           "xaxis": {
            "backgroundcolor": "#E5ECF6",
            "gridcolor": "white",
            "gridwidth": 2,
            "linecolor": "white",
            "showbackground": true,
            "ticks": "",
            "zerolinecolor": "white"
           },
           "yaxis": {
            "backgroundcolor": "#E5ECF6",
            "gridcolor": "white",
            "gridwidth": 2,
            "linecolor": "white",
            "showbackground": true,
            "ticks": "",
            "zerolinecolor": "white"
           },
           "zaxis": {
            "backgroundcolor": "#E5ECF6",
            "gridcolor": "white",
            "gridwidth": 2,
            "linecolor": "white",
            "showbackground": true,
            "ticks": "",
            "zerolinecolor": "white"
           }
          },
          "shapedefaults": {
           "line": {
            "color": "#2a3f5f"
           }
          },
          "ternary": {
           "aaxis": {
            "gridcolor": "white",
            "linecolor": "white",
            "ticks": ""
           },
           "baxis": {
            "gridcolor": "white",
            "linecolor": "white",
            "ticks": ""
           },
           "bgcolor": "#E5ECF6",
           "caxis": {
            "gridcolor": "white",
            "linecolor": "white",
            "ticks": ""
           }
          },
          "title": {
           "x": 0.05
          },
          "xaxis": {
           "automargin": true,
           "gridcolor": "white",
           "linecolor": "white",
           "ticks": "",
           "title": {
            "standoff": 15
           },
           "zerolinecolor": "white",
           "zerolinewidth": 2
          },
          "yaxis": {
           "automargin": true,
           "gridcolor": "white",
           "linecolor": "white",
           "ticks": "",
           "title": {
            "standoff": 15
           },
           "zerolinecolor": "white",
           "zerolinewidth": 2
          }
         }
        },
        "title": {
         "text": "Train Scores"
        },
        "xaxis": {
         "anchor": "y",
         "domain": [
          0,
          1
         ],
         "title": {
          "text": "scores"
         }
        },
        "yaxis": {
         "anchor": "x",
         "domain": [
          0,
          1
         ],
         "title": {
          "text": "count"
         }
        }
       }
      },
      "text/html": [
       "<div>                            <div id=\"47ac6a60-ff8e-4977-8ffb-ac47e84c725b\" class=\"plotly-graph-div\" style=\"height:525px; width:100%;\"></div>            <script type=\"text/javascript\">                require([\"plotly\"], function(Plotly) {                    window.PLOTLYENV=window.PLOTLYENV || {};                                    if (document.getElementById(\"47ac6a60-ff8e-4977-8ffb-ac47e84c725b\")) {                    Plotly.newPlot(                        \"47ac6a60-ff8e-4977-8ffb-ac47e84c725b\",                        [{\"alignmentgroup\":\"True\",\"bingroup\":\"x\",\"hovertemplate\":\"error_trace_type=normal<br>scores=%{x}<br>count=%{y}<extra></extra>\",\"legendgroup\":\"normal\",\"marker\":{\"color\":\"#636efa\",\"pattern\":{\"shape\":\"\"}},\"name\":\"normal\",\"offsetgroup\":\"normal\",\"orientation\":\"v\",\"showlegend\":true,\"x\":[2.119375182019212e-07,2.0950119505869225e-07,2.1283312889863737e-07,2.085228771875336e-07,2.085568127085935e-07,2.133989056574137e-07,2.1338007627491606e-07,2.1161216068321664e-07,2.1316749609923136e-07,2.0682786328052316e-07,2.0645835263621848e-07,2.0787000210020778e-07,2.1156122897991736e-07,2.133949834615123e-07,2.126199376561999e-07,2.1367769420521654e-07,2.1367769420521654e-07,2.0981549653242837e-07,2.1368620650719095e-07,2.1386151161095768e-07,2.041935260876926e-07,2.1305334030330414e-07,2.0441777337509848e-07,2.0453649085538927e-07,2.0874243489288347e-07,2.1366462021887855e-07,2.1354823331876105e-07,2.1367769420521654e-07,2.1320376220046455e-07,2.115942550062755e-07,2.1368498437368544e-07,2.0818170298753103e-07,2.128505371956635e-07,2.044206013351868e-07,2.1386726700711733e-07,2.1163695862469467e-07,2.0950119505869225e-07,2.1386404114309698e-07,2.133941308102294e-07,2.093310200734777e-07,2.069853195507676e-07,2.1150579243567336e-07,2.0903316055864707e-07,2.1365981694998482e-07,2.122699385154192e-07,2.1156971286018234e-07,2.1367769420521654e-07,2.1367137037486827e-07,2.0818170298753103e-07,2.0950119505869225e-07,2.117479454000204e-07,2.0641174103275262e-07,2.1367769420521654e-07,2.0440954529021838e-07,2.0906547604226944e-07,2.1168308705910022e-07,2.1131947391950234e-07,2.0847963355663524e-07,2.1177139331030048e-07,2.1222520274477574e-07,2.0953848434146494e-07,2.121150544098782e-07,2.0686330515218287e-07,2.1749993095454556e-07,2.07941994290195e-07,2.0818170298753103e-07,2.1156495222385274e-07,2.0770468722730584e-07,2.1157231344659522e-07,2.1367137037486827e-07,2.1052252918707381e-07,2.1155010188067536e-07,2.1156681384582043e-07,2.0927279820170952e-07,2.085568127085935e-07,2.1369795888404042e-07,2.0852267823556758e-07,2.0851472015692707e-07,2.1162205143809842e-07,2.1274824746342347e-07,2.116485831038517e-07,2.0781156706561887e-07,2.0950119505869225e-07,2.116014741204708e-07,2.127814724417476e-07,2.1131947391950234e-07,2.133974987827969e-07,2.0894403007787332e-07,2.1384964554727048e-07,2.042227862375512e-07,2.0950119505869225e-07,2.1155581464427087e-07,2.1367769420521654e-07,2.088853108261901e-07,2.0660141331063642e-07,2.1162634311622242e-07,2.133989056574137e-07,2.088268757916012e-07,2.0869421746283479e-07,2.131661460680334e-07,2.1131947391950234e-07,2.1330875199510047e-07,2.1338840383577917e-07,2.12780904007559e-07,2.1159073071430612e-07,2.133974987827969e-07,2.040754765175734e-07,2.0423115643097844e-07,2.133941308102294e-07,2.1232133917692408e-07,2.1340864009289362e-07,2.0784922583061416e-07,2.1305073971689126e-07,2.0867913974598196e-07,2.0929392974267103e-07,2.1159787877422787e-07,2.0658252708471991e-07,2.133974987827969e-07,2.1810231487506826e-07,2.1272862227306177e-07,2.128482066154902e-07,2.076361340641597e-07,2.0932407096552197e-07,2.1282573925418546e-07,2.134209609039317e-07,2.1339359079775022e-07,2.1339803879527608e-07,2.1160727214919461e-07,2.088307979875026e-07,2.119375182019212e-07,2.085568127085935e-07,2.1229853075510619e-07,2.1161369545552589e-07,2.0431465941328497e-07,2.1366462021887855e-07,2.0950119505869225e-07,2.1369795888404042e-07,2.0785653020993777e-07,2.1131947391950234e-07,2.1132443350779795e-07,2.1158562901746336e-07,2.093726152452291e-07,2.1153525153749797e-07,2.0836918679378869e-07,2.1366614078033308e-07,2.0950119505869225e-07,2.085568127085935e-07,2.0847653559030732e-07,2.0854575666362507e-07,2.0678832868270547e-07,2.1154944818135846e-07,2.1160228413918958e-07,2.0950119505869225e-07,2.084970702753708e-07,2.1313006470791152e-07,2.0930347943703964e-07,2.133099172851871e-07,2.131724841092364e-07,2.121438456015312e-07,2.11566785424111e-07,2.1340621003673732e-07,2.1132443350779795e-07,2.1367769420521654e-07,2.1283291573581664e-07,2.1167856800730078e-07,2.0423506441602512e-07,2.133989056574137e-07,2.0453073545922962e-07,2.085568127085935e-07,2.1120185067502462e-07,2.1220391488441237e-07,2.069991467124055e-07,2.1233232416761894e-07,2.1312693831987417e-07,2.0775235043402063e-07,2.1369562830386712e-07,2.1408014561075106e-07,2.1164724728350848e-07,2.1306793485109665e-07,2.0937694955591724e-07,2.1161153540560917e-07,2.0890205121304461e-07,2.0815119228245749e-07,2.0681707724179432e-07,2.1330059496449394e-07,2.1336344957489928e-07,2.0628557706459105e-07,2.0936199973675684e-07,2.0430663028037088e-07,2.1152085594167147e-07,2.0616955964669614e-07,2.0413132517660415e-07,2.1367769420521654e-07,2.134044194690432e-07,2.1109033809807443e-07,2.0979348391847452e-07,2.115891248877233e-07,2.133974987827969e-07,2.115673538582996e-07,2.133949834615123e-07],\"xaxis\":\"x\",\"yaxis\":\"y\",\"type\":\"histogram\"}],                        {\"template\":{\"data\":{\"bar\":[{\"error_x\":{\"color\":\"#2a3f5f\"},\"error_y\":{\"color\":\"#2a3f5f\"},\"marker\":{\"line\":{\"color\":\"#E5ECF6\",\"width\":0.5},\"pattern\":{\"fillmode\":\"overlay\",\"size\":10,\"solidity\":0.2}},\"type\":\"bar\"}],\"barpolar\":[{\"marker\":{\"line\":{\"color\":\"#E5ECF6\",\"width\":0.5},\"pattern\":{\"fillmode\":\"overlay\",\"size\":10,\"solidity\":0.2}},\"type\":\"barpolar\"}],\"carpet\":[{\"aaxis\":{\"endlinecolor\":\"#2a3f5f\",\"gridcolor\":\"white\",\"linecolor\":\"white\",\"minorgridcolor\":\"white\",\"startlinecolor\":\"#2a3f5f\"},\"baxis\":{\"endlinecolor\":\"#2a3f5f\",\"gridcolor\":\"white\",\"linecolor\":\"white\",\"minorgridcolor\":\"white\",\"startlinecolor\":\"#2a3f5f\"},\"type\":\"carpet\"}],\"choropleth\":[{\"colorbar\":{\"outlinewidth\":0,\"ticks\":\"\"},\"type\":\"choropleth\"}],\"contour\":[{\"colorbar\":{\"outlinewidth\":0,\"ticks\":\"\"},\"colorscale\":[[0.0,\"#0d0887\"],[0.1111111111111111,\"#46039f\"],[0.2222222222222222,\"#7201a8\"],[0.3333333333333333,\"#9c179e\"],[0.4444444444444444,\"#bd3786\"],[0.5555555555555556,\"#d8576b\"],[0.6666666666666666,\"#ed7953\"],[0.7777777777777778,\"#fb9f3a\"],[0.8888888888888888,\"#fdca26\"],[1.0,\"#f0f921\"]],\"type\":\"contour\"}],\"contourcarpet\":[{\"colorbar\":{\"outlinewidth\":0,\"ticks\":\"\"},\"type\":\"contourcarpet\"}],\"heatmap\":[{\"colorbar\":{\"outlinewidth\":0,\"ticks\":\"\"},\"colorscale\":[[0.0,\"#0d0887\"],[0.1111111111111111,\"#46039f\"],[0.2222222222222222,\"#7201a8\"],[0.3333333333333333,\"#9c179e\"],[0.4444444444444444,\"#bd3786\"],[0.5555555555555556,\"#d8576b\"],[0.6666666666666666,\"#ed7953\"],[0.7777777777777778,\"#fb9f3a\"],[0.8888888888888888,\"#fdca26\"],[1.0,\"#f0f921\"]],\"type\":\"heatmap\"}],\"heatmapgl\":[{\"colorbar\":{\"outlinewidth\":0,\"ticks\":\"\"},\"colorscale\":[[0.0,\"#0d0887\"],[0.1111111111111111,\"#46039f\"],[0.2222222222222222,\"#7201a8\"],[0.3333333333333333,\"#9c179e\"],[0.4444444444444444,\"#bd3786\"],[0.5555555555555556,\"#d8576b\"],[0.6666666666666666,\"#ed7953\"],[0.7777777777777778,\"#fb9f3a\"],[0.8888888888888888,\"#fdca26\"],[1.0,\"#f0f921\"]],\"type\":\"heatmapgl\"}],\"histogram\":[{\"marker\":{\"pattern\":{\"fillmode\":\"overlay\",\"size\":10,\"solidity\":0.2}},\"type\":\"histogram\"}],\"histogram2d\":[{\"colorbar\":{\"outlinewidth\":0,\"ticks\":\"\"},\"colorscale\":[[0.0,\"#0d0887\"],[0.1111111111111111,\"#46039f\"],[0.2222222222222222,\"#7201a8\"],[0.3333333333333333,\"#9c179e\"],[0.4444444444444444,\"#bd3786\"],[0.5555555555555556,\"#d8576b\"],[0.6666666666666666,\"#ed7953\"],[0.7777777777777778,\"#fb9f3a\"],[0.8888888888888888,\"#fdca26\"],[1.0,\"#f0f921\"]],\"type\":\"histogram2d\"}],\"histogram2dcontour\":[{\"colorbar\":{\"outlinewidth\":0,\"ticks\":\"\"},\"colorscale\":[[0.0,\"#0d0887\"],[0.1111111111111111,\"#46039f\"],[0.2222222222222222,\"#7201a8\"],[0.3333333333333333,\"#9c179e\"],[0.4444444444444444,\"#bd3786\"],[0.5555555555555556,\"#d8576b\"],[0.6666666666666666,\"#ed7953\"],[0.7777777777777778,\"#fb9f3a\"],[0.8888888888888888,\"#fdca26\"],[1.0,\"#f0f921\"]],\"type\":\"histogram2dcontour\"}],\"mesh3d\":[{\"colorbar\":{\"outlinewidth\":0,\"ticks\":\"\"},\"type\":\"mesh3d\"}],\"parcoords\":[{\"line\":{\"colorbar\":{\"outlinewidth\":0,\"ticks\":\"\"}},\"type\":\"parcoords\"}],\"pie\":[{\"automargin\":true,\"type\":\"pie\"}],\"scatter\":[{\"marker\":{\"colorbar\":{\"outlinewidth\":0,\"ticks\":\"\"}},\"type\":\"scatter\"}],\"scatter3d\":[{\"line\":{\"colorbar\":{\"outlinewidth\":0,\"ticks\":\"\"}},\"marker\":{\"colorbar\":{\"outlinewidth\":0,\"ticks\":\"\"}},\"type\":\"scatter3d\"}],\"scattercarpet\":[{\"marker\":{\"colorbar\":{\"outlinewidth\":0,\"ticks\":\"\"}},\"type\":\"scattercarpet\"}],\"scattergeo\":[{\"marker\":{\"colorbar\":{\"outlinewidth\":0,\"ticks\":\"\"}},\"type\":\"scattergeo\"}],\"scattergl\":[{\"marker\":{\"colorbar\":{\"outlinewidth\":0,\"ticks\":\"\"}},\"type\":\"scattergl\"}],\"scattermapbox\":[{\"marker\":{\"colorbar\":{\"outlinewidth\":0,\"ticks\":\"\"}},\"type\":\"scattermapbox\"}],\"scatterpolar\":[{\"marker\":{\"colorbar\":{\"outlinewidth\":0,\"ticks\":\"\"}},\"type\":\"scatterpolar\"}],\"scatterpolargl\":[{\"marker\":{\"colorbar\":{\"outlinewidth\":0,\"ticks\":\"\"}},\"type\":\"scatterpolargl\"}],\"scatterternary\":[{\"marker\":{\"colorbar\":{\"outlinewidth\":0,\"ticks\":\"\"}},\"type\":\"scatterternary\"}],\"surface\":[{\"colorbar\":{\"outlinewidth\":0,\"ticks\":\"\"},\"colorscale\":[[0.0,\"#0d0887\"],[0.1111111111111111,\"#46039f\"],[0.2222222222222222,\"#7201a8\"],[0.3333333333333333,\"#9c179e\"],[0.4444444444444444,\"#bd3786\"],[0.5555555555555556,\"#d8576b\"],[0.6666666666666666,\"#ed7953\"],[0.7777777777777778,\"#fb9f3a\"],[0.8888888888888888,\"#fdca26\"],[1.0,\"#f0f921\"]],\"type\":\"surface\"}],\"table\":[{\"cells\":{\"fill\":{\"color\":\"#EBF0F8\"},\"line\":{\"color\":\"white\"}},\"header\":{\"fill\":{\"color\":\"#C8D4E3\"},\"line\":{\"color\":\"white\"}},\"type\":\"table\"}]},\"layout\":{\"annotationdefaults\":{\"arrowcolor\":\"#2a3f5f\",\"arrowhead\":0,\"arrowwidth\":1},\"autotypenumbers\":\"strict\",\"coloraxis\":{\"colorbar\":{\"outlinewidth\":0,\"ticks\":\"\"}},\"colorscale\":{\"diverging\":[[0,\"#8e0152\"],[0.1,\"#c51b7d\"],[0.2,\"#de77ae\"],[0.3,\"#f1b6da\"],[0.4,\"#fde0ef\"],[0.5,\"#f7f7f7\"],[0.6,\"#e6f5d0\"],[0.7,\"#b8e186\"],[0.8,\"#7fbc41\"],[0.9,\"#4d9221\"],[1,\"#276419\"]],\"sequential\":[[0.0,\"#0d0887\"],[0.1111111111111111,\"#46039f\"],[0.2222222222222222,\"#7201a8\"],[0.3333333333333333,\"#9c179e\"],[0.4444444444444444,\"#bd3786\"],[0.5555555555555556,\"#d8576b\"],[0.6666666666666666,\"#ed7953\"],[0.7777777777777778,\"#fb9f3a\"],[0.8888888888888888,\"#fdca26\"],[1.0,\"#f0f921\"]],\"sequentialminus\":[[0.0,\"#0d0887\"],[0.1111111111111111,\"#46039f\"],[0.2222222222222222,\"#7201a8\"],[0.3333333333333333,\"#9c179e\"],[0.4444444444444444,\"#bd3786\"],[0.5555555555555556,\"#d8576b\"],[0.6666666666666666,\"#ed7953\"],[0.7777777777777778,\"#fb9f3a\"],[0.8888888888888888,\"#fdca26\"],[1.0,\"#f0f921\"]]},\"colorway\":[\"#636efa\",\"#EF553B\",\"#00cc96\",\"#ab63fa\",\"#FFA15A\",\"#19d3f3\",\"#FF6692\",\"#B6E880\",\"#FF97FF\",\"#FECB52\"],\"font\":{\"color\":\"#2a3f5f\"},\"geo\":{\"bgcolor\":\"white\",\"lakecolor\":\"white\",\"landcolor\":\"#E5ECF6\",\"showlakes\":true,\"showland\":true,\"subunitcolor\":\"white\"},\"hoverlabel\":{\"align\":\"left\"},\"hovermode\":\"closest\",\"mapbox\":{\"style\":\"light\"},\"paper_bgcolor\":\"white\",\"plot_bgcolor\":\"#E5ECF6\",\"polar\":{\"angularaxis\":{\"gridcolor\":\"white\",\"linecolor\":\"white\",\"ticks\":\"\"},\"bgcolor\":\"#E5ECF6\",\"radialaxis\":{\"gridcolor\":\"white\",\"linecolor\":\"white\",\"ticks\":\"\"}},\"scene\":{\"xaxis\":{\"backgroundcolor\":\"#E5ECF6\",\"gridcolor\":\"white\",\"gridwidth\":2,\"linecolor\":\"white\",\"showbackground\":true,\"ticks\":\"\",\"zerolinecolor\":\"white\"},\"yaxis\":{\"backgroundcolor\":\"#E5ECF6\",\"gridcolor\":\"white\",\"gridwidth\":2,\"linecolor\":\"white\",\"showbackground\":true,\"ticks\":\"\",\"zerolinecolor\":\"white\"},\"zaxis\":{\"backgroundcolor\":\"#E5ECF6\",\"gridcolor\":\"white\",\"gridwidth\":2,\"linecolor\":\"white\",\"showbackground\":true,\"ticks\":\"\",\"zerolinecolor\":\"white\"}},\"shapedefaults\":{\"line\":{\"color\":\"#2a3f5f\"}},\"ternary\":{\"aaxis\":{\"gridcolor\":\"white\",\"linecolor\":\"white\",\"ticks\":\"\"},\"baxis\":{\"gridcolor\":\"white\",\"linecolor\":\"white\",\"ticks\":\"\"},\"bgcolor\":\"#E5ECF6\",\"caxis\":{\"gridcolor\":\"white\",\"linecolor\":\"white\",\"ticks\":\"\"}},\"title\":{\"x\":0.05},\"xaxis\":{\"automargin\":true,\"gridcolor\":\"white\",\"linecolor\":\"white\",\"ticks\":\"\",\"title\":{\"standoff\":15},\"zerolinecolor\":\"white\",\"zerolinewidth\":2},\"yaxis\":{\"automargin\":true,\"gridcolor\":\"white\",\"linecolor\":\"white\",\"ticks\":\"\",\"title\":{\"standoff\":15},\"zerolinecolor\":\"white\",\"zerolinewidth\":2}}},\"xaxis\":{\"anchor\":\"y\",\"domain\":[0.0,1.0],\"title\":{\"text\":\"scores\"}},\"yaxis\":{\"anchor\":\"x\",\"domain\":[0.0,1.0],\"title\":{\"text\":\"count\"}},\"legend\":{\"title\":{\"text\":\"error_trace_type\"},\"tracegroupgap\":0},\"title\":{\"text\":\"Train Scores\"},\"barmode\":\"relative\"},                        {\"responsive\": true}                    ).then(function(){\n",
       "                            \n",
       "var gd = document.getElementById('47ac6a60-ff8e-4977-8ffb-ac47e84c725b');\n",
       "var x = new MutationObserver(function (mutations, observer) {{\n",
       "        var display = window.getComputedStyle(gd).display;\n",
       "        if (!display || display === 'none') {{\n",
       "            console.log([gd, 'removed!']);\n",
       "            Plotly.purge(gd);\n",
       "            observer.disconnect();\n",
       "        }}\n",
       "}});\n",
       "\n",
       "// Listen for the removal of the full notebook cells\n",
       "var notebookContainer = gd.closest('#notebook-container');\n",
       "if (notebookContainer) {{\n",
       "    x.observe(notebookContainer, {childList: true});\n",
       "}}\n",
       "\n",
       "// Listen for the clearing of the current output cell\n",
       "var outputEl = gd.closest('.output');\n",
       "if (outputEl) {{\n",
       "    x.observe(outputEl, {childList: true});\n",
       "}}\n",
       "\n",
       "                        })                };                });            </script>        </div>"
      ]
     },
     "metadata": {},
     "output_type": "display_data"
    },
    {
     "data": {
      "application/vnd.plotly.v1+json": {
       "config": {
        "plotlyServerURL": "https://plot.ly"
       },
       "data": [
        {
         "alignmentgroup": "True",
         "bingroup": "x",
         "hovertemplate": "error_trace_type=normal<br>scores=%{x}<br>count=%{y}<extra></extra>",
         "legendgroup": "normal",
         "marker": {
          "color": "#636efa",
          "pattern": {
           "shape": ""
          }
         },
         "name": "normal",
         "offsetgroup": "normal",
         "orientation": "v",
         "showlegend": true,
         "type": "histogram",
         "x": [
          2.083935157770611e-7,
          2.1163415908631578e-7,
          2.1366614078033308e-7,
          2.1386404114309698e-7,
          2.1132443350779795e-7,
          2.1314919251835818e-7,
          2.1151151941012358e-7,
          2.1306701114554016e-7,
          2.1339359079775022e-7,
          2.1311646491994907e-7,
          2.1369656622027833e-7,
          2.133974987827969e-7,
          2.1299102570537798e-7,
          2.1331035782168328e-7,
          2.115296666715949e-7,
          2.1151454632217792e-7,
          2.085568127085935e-7,
          2.12069707572482e-7,
          2.091606887688613e-7,
          2.1367769420521654e-7,
          2.1236796499124466e-7,
          2.1307235442691308e-7,
          2.0780927911800973e-7,
          2.0783386389666703e-7,
          2.134209609039317e-7,
          2.085568127085935e-7,
          2.0436247893940163e-7,
          2.1306307473878405e-7,
          2.0687619439740956e-7,
          2.0916301934903458e-7,
          2.1305575614860572e-7,
          2.115967845384148e-7,
          2.1214817991221935e-7,
          2.068159261625624e-7,
          2.1132443350779795e-7,
          2.134030125944264e-7,
          2.134044052581885e-7,
          2.0716363735573395e-7,
          2.1386404114309698e-7,
          2.0435210501545953e-7,
          2.1339803879527608e-7,
          2.0781793352853128e-7,
          2.115177011319247e-7,
          2.1162178143185884e-7,
          2.1369656622027833e-7,
          2.1158039942292817e-7,
          2.1340831324323517e-7,
          2.085568127085935e-7,
          2.0958596280706843e-7,
          2.0885383378299593e-7,
          2.0854575666362507e-7,
          2.060989316987616e-7,
          2.1274739481214056e-7,
          2.1160170149414625e-7,
          2.123911855278493e-7,
          2.0950119505869225e-7,
          2.1338148314953287e-7,
          2.0919718224376993e-7,
          2.1333984534521733e-7,
          2.1337476141525258e-7,
          2.1320104792721395e-7,
          2.1386404114309698e-7,
          2.0667546607455733e-7,
          2.1339359079775022e-7,
          2.065853124122441e-7,
          2.0678832868270547e-7,
          2.0611112461210723e-7,
          2.0950119505869225e-7,
          2.115893096288346e-7,
          2.0950119505869225e-7,
          2.085568127085935e-7,
          2.0457720495414833e-7,
          2.0625114416361612e-7,
          2.1164626673453313e-7,
          2.0981283910259663e-7,
          2.1163918972888496e-7,
          2.1132443350779795e-7,
          2.1160663266073243e-7,
          2.1341027434118587e-7,
          2.0640746356548334e-7
         ],
         "xaxis": "x",
         "yaxis": "y"
        },
        {
         "alignmentgroup": "True",
         "bingroup": "x",
         "hovertemplate": "error_trace_type=F14-01<br>scores=%{x}<br>count=%{y}<extra></extra>",
         "legendgroup": "F14-01",
         "marker": {
          "color": "#EF553B",
          "pattern": {
           "shape": ""
          }
         },
         "name": "F14-01",
         "offsetgroup": "F14-01",
         "orientation": "v",
         "showlegend": true,
         "type": "histogram",
         "x": [
          2.1274354367051274e-7,
          2.129210230350509e-7
         ],
         "xaxis": "x",
         "yaxis": "y"
        },
        {
         "alignmentgroup": "True",
         "bingroup": "x",
         "hovertemplate": "error_trace_type=F10-01<br>scores=%{x}<br>count=%{y}<extra></extra>",
         "legendgroup": "F10-01",
         "marker": {
          "color": "#00cc96",
          "pattern": {
           "shape": ""
          }
         },
         "name": "F10-01",
         "offsetgroup": "F10-01",
         "orientation": "v",
         "showlegend": true,
         "type": "histogram",
         "x": [
          2.038357962419468e-7
         ],
         "xaxis": "x",
         "yaxis": "y"
        },
        {
         "alignmentgroup": "True",
         "bingroup": "x",
         "hovertemplate": "error_trace_type=F10-02<br>scores=%{x}<br>count=%{y}<extra></extra>",
         "legendgroup": "F10-02",
         "marker": {
          "color": "#ab63fa",
          "pattern": {
           "shape": ""
          }
         },
         "name": "F10-02",
         "offsetgroup": "F10-02",
         "orientation": "v",
         "showlegend": true,
         "type": "histogram",
         "x": [
          2.065335280576619e-7
         ],
         "xaxis": "x",
         "yaxis": "y"
        },
        {
         "alignmentgroup": "True",
         "bingroup": "x",
         "hovertemplate": "error_trace_type=F03-03<br>scores=%{x}<br>count=%{y}<extra></extra>",
         "legendgroup": "F03-03",
         "marker": {
          "color": "#FFA15A",
          "pattern": {
           "shape": ""
          }
         },
         "name": "F03-03",
         "offsetgroup": "F03-03",
         "orientation": "v",
         "showlegend": true,
         "type": "histogram",
         "x": [
          2.014670883454528e-7,
          2.04129136704978e-7
         ],
         "xaxis": "x",
         "yaxis": "y"
        },
        {
         "alignmentgroup": "True",
         "bingroup": "x",
         "hovertemplate": "error_trace_type=F07-01<br>scores=%{x}<br>count=%{y}<extra></extra>",
         "legendgroup": "F07-01",
         "marker": {
          "color": "#19d3f3",
          "pattern": {
           "shape": ""
          }
         },
         "name": "F07-01",
         "offsetgroup": "F07-01",
         "orientation": "v",
         "showlegend": true,
         "type": "histogram",
         "x": [
          2.1065363853267627e-7,
          2.106794596556938e-7,
          2.107140488760706e-7
         ],
         "xaxis": "x",
         "yaxis": "y"
        },
        {
         "alignmentgroup": "True",
         "bingroup": "x",
         "hovertemplate": "error_trace_type=F13-03<br>scores=%{x}<br>count=%{y}<extra></extra>",
         "legendgroup": "F13-03",
         "marker": {
          "color": "#FF6692",
          "pattern": {
           "shape": ""
          }
         },
         "name": "F13-03",
         "offsetgroup": "F13-03",
         "orientation": "v",
         "showlegend": true,
         "type": "histogram",
         "x": [
          2.122061886211668e-7
         ],
         "xaxis": "x",
         "yaxis": "y"
        },
        {
         "alignmentgroup": "True",
         "bingroup": "x",
         "hovertemplate": "error_trace_type=F07-02<br>scores=%{x}<br>count=%{y}<extra></extra>",
         "legendgroup": "F07-02",
         "marker": {
          "color": "#B6E880",
          "pattern": {
           "shape": ""
          }
         },
         "name": "F07-02",
         "offsetgroup": "F07-02",
         "orientation": "v",
         "showlegend": true,
         "type": "histogram",
         "x": [
          2.0731590666400734e-7
         ],
         "xaxis": "x",
         "yaxis": "y"
        },
        {
         "alignmentgroup": "True",
         "bingroup": "x",
         "hovertemplate": "error_trace_type=F01-05<br>scores=%{x}<br>count=%{y}<extra></extra>",
         "legendgroup": "F01-05",
         "marker": {
          "color": "#FF97FF",
          "pattern": {
           "shape": ""
          }
         },
         "name": "F01-05",
         "offsetgroup": "F01-05",
         "orientation": "v",
         "showlegend": true,
         "type": "histogram",
         "x": [
          2.0523258115190401e-7
         ],
         "xaxis": "x",
         "yaxis": "y"
        },
        {
         "alignmentgroup": "True",
         "bingroup": "x",
         "hovertemplate": "error_trace_type=F07-04<br>scores=%{x}<br>count=%{y}<extra></extra>",
         "legendgroup": "F07-04",
         "marker": {
          "color": "#FECB52",
          "pattern": {
           "shape": ""
          }
         },
         "name": "F07-04",
         "offsetgroup": "F07-04",
         "orientation": "v",
         "showlegend": true,
         "type": "histogram",
         "x": [
          2.1562853191881004e-7,
          2.1593889698579005e-7
         ],
         "xaxis": "x",
         "yaxis": "y"
        },
        {
         "alignmentgroup": "True",
         "bingroup": "x",
         "hovertemplate": "error_trace_type=F04-01<br>scores=%{x}<br>count=%{y}<extra></extra>",
         "legendgroup": "F04-01",
         "marker": {
          "color": "#636efa",
          "pattern": {
           "shape": ""
          }
         },
         "name": "F04-01",
         "offsetgroup": "F04-01",
         "orientation": "v",
         "showlegend": true,
         "type": "histogram",
         "x": [
          2.1262447091885406e-7
         ],
         "xaxis": "x",
         "yaxis": "y"
        },
        {
         "alignmentgroup": "True",
         "bingroup": "x",
         "hovertemplate": "error_trace_type=F13-01<br>scores=%{x}<br>count=%{y}<extra></extra>",
         "legendgroup": "F13-01",
         "marker": {
          "color": "#EF553B",
          "pattern": {
           "shape": ""
          }
         },
         "name": "F13-01",
         "offsetgroup": "F13-01",
         "orientation": "v",
         "showlegend": true,
         "type": "histogram",
         "x": [
          2.0775694054009364e-7
         ],
         "xaxis": "x",
         "yaxis": "y"
        },
        {
         "alignmentgroup": "True",
         "bingroup": "x",
         "hovertemplate": "error_trace_type=F03-08<br>scores=%{x}<br>count=%{y}<extra></extra>",
         "legendgroup": "F03-08",
         "marker": {
          "color": "#00cc96",
          "pattern": {
           "shape": ""
          }
         },
         "name": "F03-08",
         "offsetgroup": "F03-08",
         "orientation": "v",
         "showlegend": true,
         "type": "histogram",
         "x": [
          2.132137240096199e-7
         ],
         "xaxis": "x",
         "yaxis": "y"
        },
        {
         "alignmentgroup": "True",
         "bingroup": "x",
         "hovertemplate": "error_trace_type=F11-01<br>scores=%{x}<br>count=%{y}<extra></extra>",
         "legendgroup": "F11-01",
         "marker": {
          "color": "#ab63fa",
          "pattern": {
           "shape": ""
          }
         },
         "name": "F11-01",
         "offsetgroup": "F11-01",
         "orientation": "v",
         "showlegend": true,
         "type": "histogram",
         "x": [
          2.054782441973657e-7
         ],
         "xaxis": "x",
         "yaxis": "y"
        },
        {
         "alignmentgroup": "True",
         "bingroup": "x",
         "hovertemplate": "error_trace_type=F05-01<br>scores=%{x}<br>count=%{y}<extra></extra>",
         "legendgroup": "F05-01",
         "marker": {
          "color": "#FFA15A",
          "pattern": {
           "shape": ""
          }
         },
         "name": "F05-01",
         "offsetgroup": "F05-01",
         "orientation": "v",
         "showlegend": true,
         "type": "histogram",
         "x": [
          2.1564571284216072e-7
         ],
         "xaxis": "x",
         "yaxis": "y"
        },
        {
         "alignmentgroup": "True",
         "bingroup": "x",
         "hovertemplate": "error_trace_type=F03-04<br>scores=%{x}<br>count=%{y}<extra></extra>",
         "legendgroup": "F03-04",
         "marker": {
          "color": "#19d3f3",
          "pattern": {
           "shape": ""
          }
         },
         "name": "F03-04",
         "offsetgroup": "F03-04",
         "orientation": "v",
         "showlegend": true,
         "type": "histogram",
         "x": [
          2.055570433867615e-7
         ],
         "xaxis": "x",
         "yaxis": "y"
        }
       ],
       "layout": {
        "barmode": "relative",
        "legend": {
         "title": {
          "text": "error_trace_type"
         },
         "tracegroupgap": 0
        },
        "template": {
         "data": {
          "bar": [
           {
            "error_x": {
             "color": "#2a3f5f"
            },
            "error_y": {
             "color": "#2a3f5f"
            },
            "marker": {
             "line": {
              "color": "#E5ECF6",
              "width": 0.5
             },
             "pattern": {
              "fillmode": "overlay",
              "size": 10,
              "solidity": 0.2
             }
            },
            "type": "bar"
           }
          ],
          "barpolar": [
           {
            "marker": {
             "line": {
              "color": "#E5ECF6",
              "width": 0.5
             },
             "pattern": {
              "fillmode": "overlay",
              "size": 10,
              "solidity": 0.2
             }
            },
            "type": "barpolar"
           }
          ],
          "carpet": [
           {
            "aaxis": {
             "endlinecolor": "#2a3f5f",
             "gridcolor": "white",
             "linecolor": "white",
             "minorgridcolor": "white",
             "startlinecolor": "#2a3f5f"
            },
            "baxis": {
             "endlinecolor": "#2a3f5f",
             "gridcolor": "white",
             "linecolor": "white",
             "minorgridcolor": "white",
             "startlinecolor": "#2a3f5f"
            },
            "type": "carpet"
           }
          ],
          "choropleth": [
           {
            "colorbar": {
             "outlinewidth": 0,
             "ticks": ""
            },
            "type": "choropleth"
           }
          ],
          "contour": [
           {
            "colorbar": {
             "outlinewidth": 0,
             "ticks": ""
            },
            "colorscale": [
             [
              0,
              "#0d0887"
             ],
             [
              0.1111111111111111,
              "#46039f"
             ],
             [
              0.2222222222222222,
              "#7201a8"
             ],
             [
              0.3333333333333333,
              "#9c179e"
             ],
             [
              0.4444444444444444,
              "#bd3786"
             ],
             [
              0.5555555555555556,
              "#d8576b"
             ],
             [
              0.6666666666666666,
              "#ed7953"
             ],
             [
              0.7777777777777778,
              "#fb9f3a"
             ],
             [
              0.8888888888888888,
              "#fdca26"
             ],
             [
              1,
              "#f0f921"
             ]
            ],
            "type": "contour"
           }
          ],
          "contourcarpet": [
           {
            "colorbar": {
             "outlinewidth": 0,
             "ticks": ""
            },
            "type": "contourcarpet"
           }
          ],
          "heatmap": [
           {
            "colorbar": {
             "outlinewidth": 0,
             "ticks": ""
            },
            "colorscale": [
             [
              0,
              "#0d0887"
             ],
             [
              0.1111111111111111,
              "#46039f"
             ],
             [
              0.2222222222222222,
              "#7201a8"
             ],
             [
              0.3333333333333333,
              "#9c179e"
             ],
             [
              0.4444444444444444,
              "#bd3786"
             ],
             [
              0.5555555555555556,
              "#d8576b"
             ],
             [
              0.6666666666666666,
              "#ed7953"
             ],
             [
              0.7777777777777778,
              "#fb9f3a"
             ],
             [
              0.8888888888888888,
              "#fdca26"
             ],
             [
              1,
              "#f0f921"
             ]
            ],
            "type": "heatmap"
           }
          ],
          "heatmapgl": [
           {
            "colorbar": {
             "outlinewidth": 0,
             "ticks": ""
            },
            "colorscale": [
             [
              0,
              "#0d0887"
             ],
             [
              0.1111111111111111,
              "#46039f"
             ],
             [
              0.2222222222222222,
              "#7201a8"
             ],
             [
              0.3333333333333333,
              "#9c179e"
             ],
             [
              0.4444444444444444,
              "#bd3786"
             ],
             [
              0.5555555555555556,
              "#d8576b"
             ],
             [
              0.6666666666666666,
              "#ed7953"
             ],
             [
              0.7777777777777778,
              "#fb9f3a"
             ],
             [
              0.8888888888888888,
              "#fdca26"
             ],
             [
              1,
              "#f0f921"
             ]
            ],
            "type": "heatmapgl"
           }
          ],
          "histogram": [
           {
            "marker": {
             "pattern": {
              "fillmode": "overlay",
              "size": 10,
              "solidity": 0.2
             }
            },
            "type": "histogram"
           }
          ],
          "histogram2d": [
           {
            "colorbar": {
             "outlinewidth": 0,
             "ticks": ""
            },
            "colorscale": [
             [
              0,
              "#0d0887"
             ],
             [
              0.1111111111111111,
              "#46039f"
             ],
             [
              0.2222222222222222,
              "#7201a8"
             ],
             [
              0.3333333333333333,
              "#9c179e"
             ],
             [
              0.4444444444444444,
              "#bd3786"
             ],
             [
              0.5555555555555556,
              "#d8576b"
             ],
             [
              0.6666666666666666,
              "#ed7953"
             ],
             [
              0.7777777777777778,
              "#fb9f3a"
             ],
             [
              0.8888888888888888,
              "#fdca26"
             ],
             [
              1,
              "#f0f921"
             ]
            ],
            "type": "histogram2d"
           }
          ],
          "histogram2dcontour": [
           {
            "colorbar": {
             "outlinewidth": 0,
             "ticks": ""
            },
            "colorscale": [
             [
              0,
              "#0d0887"
             ],
             [
              0.1111111111111111,
              "#46039f"
             ],
             [
              0.2222222222222222,
              "#7201a8"
             ],
             [
              0.3333333333333333,
              "#9c179e"
             ],
             [
              0.4444444444444444,
              "#bd3786"
             ],
             [
              0.5555555555555556,
              "#d8576b"
             ],
             [
              0.6666666666666666,
              "#ed7953"
             ],
             [
              0.7777777777777778,
              "#fb9f3a"
             ],
             [
              0.8888888888888888,
              "#fdca26"
             ],
             [
              1,
              "#f0f921"
             ]
            ],
            "type": "histogram2dcontour"
           }
          ],
          "mesh3d": [
           {
            "colorbar": {
             "outlinewidth": 0,
             "ticks": ""
            },
            "type": "mesh3d"
           }
          ],
          "parcoords": [
           {
            "line": {
             "colorbar": {
              "outlinewidth": 0,
              "ticks": ""
             }
            },
            "type": "parcoords"
           }
          ],
          "pie": [
           {
            "automargin": true,
            "type": "pie"
           }
          ],
          "scatter": [
           {
            "marker": {
             "colorbar": {
              "outlinewidth": 0,
              "ticks": ""
             }
            },
            "type": "scatter"
           }
          ],
          "scatter3d": [
           {
            "line": {
             "colorbar": {
              "outlinewidth": 0,
              "ticks": ""
             }
            },
            "marker": {
             "colorbar": {
              "outlinewidth": 0,
              "ticks": ""
             }
            },
            "type": "scatter3d"
           }
          ],
          "scattercarpet": [
           {
            "marker": {
             "colorbar": {
              "outlinewidth": 0,
              "ticks": ""
             }
            },
            "type": "scattercarpet"
           }
          ],
          "scattergeo": [
           {
            "marker": {
             "colorbar": {
              "outlinewidth": 0,
              "ticks": ""
             }
            },
            "type": "scattergeo"
           }
          ],
          "scattergl": [
           {
            "marker": {
             "colorbar": {
              "outlinewidth": 0,
              "ticks": ""
             }
            },
            "type": "scattergl"
           }
          ],
          "scattermapbox": [
           {
            "marker": {
             "colorbar": {
              "outlinewidth": 0,
              "ticks": ""
             }
            },
            "type": "scattermapbox"
           }
          ],
          "scatterpolar": [
           {
            "marker": {
             "colorbar": {
              "outlinewidth": 0,
              "ticks": ""
             }
            },
            "type": "scatterpolar"
           }
          ],
          "scatterpolargl": [
           {
            "marker": {
             "colorbar": {
              "outlinewidth": 0,
              "ticks": ""
             }
            },
            "type": "scatterpolargl"
           }
          ],
          "scatterternary": [
           {
            "marker": {
             "colorbar": {
              "outlinewidth": 0,
              "ticks": ""
             }
            },
            "type": "scatterternary"
           }
          ],
          "surface": [
           {
            "colorbar": {
             "outlinewidth": 0,
             "ticks": ""
            },
            "colorscale": [
             [
              0,
              "#0d0887"
             ],
             [
              0.1111111111111111,
              "#46039f"
             ],
             [
              0.2222222222222222,
              "#7201a8"
             ],
             [
              0.3333333333333333,
              "#9c179e"
             ],
             [
              0.4444444444444444,
              "#bd3786"
             ],
             [
              0.5555555555555556,
              "#d8576b"
             ],
             [
              0.6666666666666666,
              "#ed7953"
             ],
             [
              0.7777777777777778,
              "#fb9f3a"
             ],
             [
              0.8888888888888888,
              "#fdca26"
             ],
             [
              1,
              "#f0f921"
             ]
            ],
            "type": "surface"
           }
          ],
          "table": [
           {
            "cells": {
             "fill": {
              "color": "#EBF0F8"
             },
             "line": {
              "color": "white"
             }
            },
            "header": {
             "fill": {
              "color": "#C8D4E3"
             },
             "line": {
              "color": "white"
             }
            },
            "type": "table"
           }
          ]
         },
         "layout": {
          "annotationdefaults": {
           "arrowcolor": "#2a3f5f",
           "arrowhead": 0,
           "arrowwidth": 1
          },
          "autotypenumbers": "strict",
          "coloraxis": {
           "colorbar": {
            "outlinewidth": 0,
            "ticks": ""
           }
          },
          "colorscale": {
           "diverging": [
            [
             0,
             "#8e0152"
            ],
            [
             0.1,
             "#c51b7d"
            ],
            [
             0.2,
             "#de77ae"
            ],
            [
             0.3,
             "#f1b6da"
            ],
            [
             0.4,
             "#fde0ef"
            ],
            [
             0.5,
             "#f7f7f7"
            ],
            [
             0.6,
             "#e6f5d0"
            ],
            [
             0.7,
             "#b8e186"
            ],
            [
             0.8,
             "#7fbc41"
            ],
            [
             0.9,
             "#4d9221"
            ],
            [
             1,
             "#276419"
            ]
           ],
           "sequential": [
            [
             0,
             "#0d0887"
            ],
            [
             0.1111111111111111,
             "#46039f"
            ],
            [
             0.2222222222222222,
             "#7201a8"
            ],
            [
             0.3333333333333333,
             "#9c179e"
            ],
            [
             0.4444444444444444,
             "#bd3786"
            ],
            [
             0.5555555555555556,
             "#d8576b"
            ],
            [
             0.6666666666666666,
             "#ed7953"
            ],
            [
             0.7777777777777778,
             "#fb9f3a"
            ],
            [
             0.8888888888888888,
             "#fdca26"
            ],
            [
             1,
             "#f0f921"
            ]
           ],
           "sequentialminus": [
            [
             0,
             "#0d0887"
            ],
            [
             0.1111111111111111,
             "#46039f"
            ],
            [
             0.2222222222222222,
             "#7201a8"
            ],
            [
             0.3333333333333333,
             "#9c179e"
            ],
            [
             0.4444444444444444,
             "#bd3786"
            ],
            [
             0.5555555555555556,
             "#d8576b"
            ],
            [
             0.6666666666666666,
             "#ed7953"
            ],
            [
             0.7777777777777778,
             "#fb9f3a"
            ],
            [
             0.8888888888888888,
             "#fdca26"
            ],
            [
             1,
             "#f0f921"
            ]
           ]
          },
          "colorway": [
           "#636efa",
           "#EF553B",
           "#00cc96",
           "#ab63fa",
           "#FFA15A",
           "#19d3f3",
           "#FF6692",
           "#B6E880",
           "#FF97FF",
           "#FECB52"
          ],
          "font": {
           "color": "#2a3f5f"
          },
          "geo": {
           "bgcolor": "white",
           "lakecolor": "white",
           "landcolor": "#E5ECF6",
           "showlakes": true,
           "showland": true,
           "subunitcolor": "white"
          },
          "hoverlabel": {
           "align": "left"
          },
          "hovermode": "closest",
          "mapbox": {
           "style": "light"
          },
          "paper_bgcolor": "white",
          "plot_bgcolor": "#E5ECF6",
          "polar": {
           "angularaxis": {
            "gridcolor": "white",
            "linecolor": "white",
            "ticks": ""
           },
           "bgcolor": "#E5ECF6",
           "radialaxis": {
            "gridcolor": "white",
            "linecolor": "white",
            "ticks": ""
           }
          },
          "scene": {
           "xaxis": {
            "backgroundcolor": "#E5ECF6",
            "gridcolor": "white",
            "gridwidth": 2,
            "linecolor": "white",
            "showbackground": true,
            "ticks": "",
            "zerolinecolor": "white"
           },
           "yaxis": {
            "backgroundcolor": "#E5ECF6",
            "gridcolor": "white",
            "gridwidth": 2,
            "linecolor": "white",
            "showbackground": true,
            "ticks": "",
            "zerolinecolor": "white"
           },
           "zaxis": {
            "backgroundcolor": "#E5ECF6",
            "gridcolor": "white",
            "gridwidth": 2,
            "linecolor": "white",
            "showbackground": true,
            "ticks": "",
            "zerolinecolor": "white"
           }
          },
          "shapedefaults": {
           "line": {
            "color": "#2a3f5f"
           }
          },
          "ternary": {
           "aaxis": {
            "gridcolor": "white",
            "linecolor": "white",
            "ticks": ""
           },
           "baxis": {
            "gridcolor": "white",
            "linecolor": "white",
            "ticks": ""
           },
           "bgcolor": "#E5ECF6",
           "caxis": {
            "gridcolor": "white",
            "linecolor": "white",
            "ticks": ""
           }
          },
          "title": {
           "x": 0.05
          },
          "xaxis": {
           "automargin": true,
           "gridcolor": "white",
           "linecolor": "white",
           "ticks": "",
           "title": {
            "standoff": 15
           },
           "zerolinecolor": "white",
           "zerolinewidth": 2
          },
          "yaxis": {
           "automargin": true,
           "gridcolor": "white",
           "linecolor": "white",
           "ticks": "",
           "title": {
            "standoff": 15
           },
           "zerolinecolor": "white",
           "zerolinewidth": 2
          }
         }
        },
        "title": {
         "text": "Eval Scores"
        },
        "xaxis": {
         "anchor": "y",
         "domain": [
          0,
          1
         ],
         "title": {
          "text": "scores"
         }
        },
        "yaxis": {
         "anchor": "x",
         "domain": [
          0,
          1
         ],
         "title": {
          "text": "count"
         }
        }
       }
      },
      "text/html": [
       "<div>                            <div id=\"68883a01-a3e0-4425-8954-82fba525d682\" class=\"plotly-graph-div\" style=\"height:525px; width:100%;\"></div>            <script type=\"text/javascript\">                require([\"plotly\"], function(Plotly) {                    window.PLOTLYENV=window.PLOTLYENV || {};                                    if (document.getElementById(\"68883a01-a3e0-4425-8954-82fba525d682\")) {                    Plotly.newPlot(                        \"68883a01-a3e0-4425-8954-82fba525d682\",                        [{\"alignmentgroup\":\"True\",\"bingroup\":\"x\",\"hovertemplate\":\"error_trace_type=normal<br>scores=%{x}<br>count=%{y}<extra></extra>\",\"legendgroup\":\"normal\",\"marker\":{\"color\":\"#636efa\",\"pattern\":{\"shape\":\"\"}},\"name\":\"normal\",\"offsetgroup\":\"normal\",\"orientation\":\"v\",\"showlegend\":true,\"x\":[2.083935157770611e-07,2.1163415908631578e-07,2.1366614078033308e-07,2.1386404114309698e-07,2.1132443350779795e-07,2.1314919251835818e-07,2.1151151941012358e-07,2.1306701114554016e-07,2.1339359079775022e-07,2.1311646491994907e-07,2.1369656622027833e-07,2.133974987827969e-07,2.1299102570537798e-07,2.1331035782168328e-07,2.115296666715949e-07,2.1151454632217792e-07,2.085568127085935e-07,2.12069707572482e-07,2.091606887688613e-07,2.1367769420521654e-07,2.1236796499124466e-07,2.1307235442691308e-07,2.0780927911800973e-07,2.0783386389666703e-07,2.134209609039317e-07,2.085568127085935e-07,2.0436247893940163e-07,2.1306307473878405e-07,2.0687619439740956e-07,2.0916301934903458e-07,2.1305575614860572e-07,2.115967845384148e-07,2.1214817991221935e-07,2.068159261625624e-07,2.1132443350779795e-07,2.134030125944264e-07,2.134044052581885e-07,2.0716363735573395e-07,2.1386404114309698e-07,2.0435210501545953e-07,2.1339803879527608e-07,2.0781793352853128e-07,2.115177011319247e-07,2.1162178143185884e-07,2.1369656622027833e-07,2.1158039942292817e-07,2.1340831324323517e-07,2.085568127085935e-07,2.0958596280706843e-07,2.0885383378299593e-07,2.0854575666362507e-07,2.060989316987616e-07,2.1274739481214056e-07,2.1160170149414625e-07,2.123911855278493e-07,2.0950119505869225e-07,2.1338148314953287e-07,2.0919718224376993e-07,2.1333984534521733e-07,2.1337476141525258e-07,2.1320104792721395e-07,2.1386404114309698e-07,2.0667546607455733e-07,2.1339359079775022e-07,2.065853124122441e-07,2.0678832868270547e-07,2.0611112461210723e-07,2.0950119505869225e-07,2.115893096288346e-07,2.0950119505869225e-07,2.085568127085935e-07,2.0457720495414833e-07,2.0625114416361612e-07,2.1164626673453313e-07,2.0981283910259663e-07,2.1163918972888496e-07,2.1132443350779795e-07,2.1160663266073243e-07,2.1341027434118587e-07,2.0640746356548334e-07],\"xaxis\":\"x\",\"yaxis\":\"y\",\"type\":\"histogram\"},{\"alignmentgroup\":\"True\",\"bingroup\":\"x\",\"hovertemplate\":\"error_trace_type=F14-01<br>scores=%{x}<br>count=%{y}<extra></extra>\",\"legendgroup\":\"F14-01\",\"marker\":{\"color\":\"#EF553B\",\"pattern\":{\"shape\":\"\"}},\"name\":\"F14-01\",\"offsetgroup\":\"F14-01\",\"orientation\":\"v\",\"showlegend\":true,\"x\":[2.1274354367051274e-07,2.129210230350509e-07],\"xaxis\":\"x\",\"yaxis\":\"y\",\"type\":\"histogram\"},{\"alignmentgroup\":\"True\",\"bingroup\":\"x\",\"hovertemplate\":\"error_trace_type=F10-01<br>scores=%{x}<br>count=%{y}<extra></extra>\",\"legendgroup\":\"F10-01\",\"marker\":{\"color\":\"#00cc96\",\"pattern\":{\"shape\":\"\"}},\"name\":\"F10-01\",\"offsetgroup\":\"F10-01\",\"orientation\":\"v\",\"showlegend\":true,\"x\":[2.038357962419468e-07],\"xaxis\":\"x\",\"yaxis\":\"y\",\"type\":\"histogram\"},{\"alignmentgroup\":\"True\",\"bingroup\":\"x\",\"hovertemplate\":\"error_trace_type=F10-02<br>scores=%{x}<br>count=%{y}<extra></extra>\",\"legendgroup\":\"F10-02\",\"marker\":{\"color\":\"#ab63fa\",\"pattern\":{\"shape\":\"\"}},\"name\":\"F10-02\",\"offsetgroup\":\"F10-02\",\"orientation\":\"v\",\"showlegend\":true,\"x\":[2.065335280576619e-07],\"xaxis\":\"x\",\"yaxis\":\"y\",\"type\":\"histogram\"},{\"alignmentgroup\":\"True\",\"bingroup\":\"x\",\"hovertemplate\":\"error_trace_type=F03-03<br>scores=%{x}<br>count=%{y}<extra></extra>\",\"legendgroup\":\"F03-03\",\"marker\":{\"color\":\"#FFA15A\",\"pattern\":{\"shape\":\"\"}},\"name\":\"F03-03\",\"offsetgroup\":\"F03-03\",\"orientation\":\"v\",\"showlegend\":true,\"x\":[2.014670883454528e-07,2.04129136704978e-07],\"xaxis\":\"x\",\"yaxis\":\"y\",\"type\":\"histogram\"},{\"alignmentgroup\":\"True\",\"bingroup\":\"x\",\"hovertemplate\":\"error_trace_type=F07-01<br>scores=%{x}<br>count=%{y}<extra></extra>\",\"legendgroup\":\"F07-01\",\"marker\":{\"color\":\"#19d3f3\",\"pattern\":{\"shape\":\"\"}},\"name\":\"F07-01\",\"offsetgroup\":\"F07-01\",\"orientation\":\"v\",\"showlegend\":true,\"x\":[2.1065363853267627e-07,2.106794596556938e-07,2.107140488760706e-07],\"xaxis\":\"x\",\"yaxis\":\"y\",\"type\":\"histogram\"},{\"alignmentgroup\":\"True\",\"bingroup\":\"x\",\"hovertemplate\":\"error_trace_type=F13-03<br>scores=%{x}<br>count=%{y}<extra></extra>\",\"legendgroup\":\"F13-03\",\"marker\":{\"color\":\"#FF6692\",\"pattern\":{\"shape\":\"\"}},\"name\":\"F13-03\",\"offsetgroup\":\"F13-03\",\"orientation\":\"v\",\"showlegend\":true,\"x\":[2.122061886211668e-07],\"xaxis\":\"x\",\"yaxis\":\"y\",\"type\":\"histogram\"},{\"alignmentgroup\":\"True\",\"bingroup\":\"x\",\"hovertemplate\":\"error_trace_type=F07-02<br>scores=%{x}<br>count=%{y}<extra></extra>\",\"legendgroup\":\"F07-02\",\"marker\":{\"color\":\"#B6E880\",\"pattern\":{\"shape\":\"\"}},\"name\":\"F07-02\",\"offsetgroup\":\"F07-02\",\"orientation\":\"v\",\"showlegend\":true,\"x\":[2.0731590666400734e-07],\"xaxis\":\"x\",\"yaxis\":\"y\",\"type\":\"histogram\"},{\"alignmentgroup\":\"True\",\"bingroup\":\"x\",\"hovertemplate\":\"error_trace_type=F01-05<br>scores=%{x}<br>count=%{y}<extra></extra>\",\"legendgroup\":\"F01-05\",\"marker\":{\"color\":\"#FF97FF\",\"pattern\":{\"shape\":\"\"}},\"name\":\"F01-05\",\"offsetgroup\":\"F01-05\",\"orientation\":\"v\",\"showlegend\":true,\"x\":[2.0523258115190401e-07],\"xaxis\":\"x\",\"yaxis\":\"y\",\"type\":\"histogram\"},{\"alignmentgroup\":\"True\",\"bingroup\":\"x\",\"hovertemplate\":\"error_trace_type=F07-04<br>scores=%{x}<br>count=%{y}<extra></extra>\",\"legendgroup\":\"F07-04\",\"marker\":{\"color\":\"#FECB52\",\"pattern\":{\"shape\":\"\"}},\"name\":\"F07-04\",\"offsetgroup\":\"F07-04\",\"orientation\":\"v\",\"showlegend\":true,\"x\":[2.1562853191881004e-07,2.1593889698579005e-07],\"xaxis\":\"x\",\"yaxis\":\"y\",\"type\":\"histogram\"},{\"alignmentgroup\":\"True\",\"bingroup\":\"x\",\"hovertemplate\":\"error_trace_type=F04-01<br>scores=%{x}<br>count=%{y}<extra></extra>\",\"legendgroup\":\"F04-01\",\"marker\":{\"color\":\"#636efa\",\"pattern\":{\"shape\":\"\"}},\"name\":\"F04-01\",\"offsetgroup\":\"F04-01\",\"orientation\":\"v\",\"showlegend\":true,\"x\":[2.1262447091885406e-07],\"xaxis\":\"x\",\"yaxis\":\"y\",\"type\":\"histogram\"},{\"alignmentgroup\":\"True\",\"bingroup\":\"x\",\"hovertemplate\":\"error_trace_type=F13-01<br>scores=%{x}<br>count=%{y}<extra></extra>\",\"legendgroup\":\"F13-01\",\"marker\":{\"color\":\"#EF553B\",\"pattern\":{\"shape\":\"\"}},\"name\":\"F13-01\",\"offsetgroup\":\"F13-01\",\"orientation\":\"v\",\"showlegend\":true,\"x\":[2.0775694054009364e-07],\"xaxis\":\"x\",\"yaxis\":\"y\",\"type\":\"histogram\"},{\"alignmentgroup\":\"True\",\"bingroup\":\"x\",\"hovertemplate\":\"error_trace_type=F03-08<br>scores=%{x}<br>count=%{y}<extra></extra>\",\"legendgroup\":\"F03-08\",\"marker\":{\"color\":\"#00cc96\",\"pattern\":{\"shape\":\"\"}},\"name\":\"F03-08\",\"offsetgroup\":\"F03-08\",\"orientation\":\"v\",\"showlegend\":true,\"x\":[2.132137240096199e-07],\"xaxis\":\"x\",\"yaxis\":\"y\",\"type\":\"histogram\"},{\"alignmentgroup\":\"True\",\"bingroup\":\"x\",\"hovertemplate\":\"error_trace_type=F11-01<br>scores=%{x}<br>count=%{y}<extra></extra>\",\"legendgroup\":\"F11-01\",\"marker\":{\"color\":\"#ab63fa\",\"pattern\":{\"shape\":\"\"}},\"name\":\"F11-01\",\"offsetgroup\":\"F11-01\",\"orientation\":\"v\",\"showlegend\":true,\"x\":[2.054782441973657e-07],\"xaxis\":\"x\",\"yaxis\":\"y\",\"type\":\"histogram\"},{\"alignmentgroup\":\"True\",\"bingroup\":\"x\",\"hovertemplate\":\"error_trace_type=F05-01<br>scores=%{x}<br>count=%{y}<extra></extra>\",\"legendgroup\":\"F05-01\",\"marker\":{\"color\":\"#FFA15A\",\"pattern\":{\"shape\":\"\"}},\"name\":\"F05-01\",\"offsetgroup\":\"F05-01\",\"orientation\":\"v\",\"showlegend\":true,\"x\":[2.1564571284216072e-07],\"xaxis\":\"x\",\"yaxis\":\"y\",\"type\":\"histogram\"},{\"alignmentgroup\":\"True\",\"bingroup\":\"x\",\"hovertemplate\":\"error_trace_type=F03-04<br>scores=%{x}<br>count=%{y}<extra></extra>\",\"legendgroup\":\"F03-04\",\"marker\":{\"color\":\"#19d3f3\",\"pattern\":{\"shape\":\"\"}},\"name\":\"F03-04\",\"offsetgroup\":\"F03-04\",\"orientation\":\"v\",\"showlegend\":true,\"x\":[2.055570433867615e-07],\"xaxis\":\"x\",\"yaxis\":\"y\",\"type\":\"histogram\"}],                        {\"template\":{\"data\":{\"bar\":[{\"error_x\":{\"color\":\"#2a3f5f\"},\"error_y\":{\"color\":\"#2a3f5f\"},\"marker\":{\"line\":{\"color\":\"#E5ECF6\",\"width\":0.5},\"pattern\":{\"fillmode\":\"overlay\",\"size\":10,\"solidity\":0.2}},\"type\":\"bar\"}],\"barpolar\":[{\"marker\":{\"line\":{\"color\":\"#E5ECF6\",\"width\":0.5},\"pattern\":{\"fillmode\":\"overlay\",\"size\":10,\"solidity\":0.2}},\"type\":\"barpolar\"}],\"carpet\":[{\"aaxis\":{\"endlinecolor\":\"#2a3f5f\",\"gridcolor\":\"white\",\"linecolor\":\"white\",\"minorgridcolor\":\"white\",\"startlinecolor\":\"#2a3f5f\"},\"baxis\":{\"endlinecolor\":\"#2a3f5f\",\"gridcolor\":\"white\",\"linecolor\":\"white\",\"minorgridcolor\":\"white\",\"startlinecolor\":\"#2a3f5f\"},\"type\":\"carpet\"}],\"choropleth\":[{\"colorbar\":{\"outlinewidth\":0,\"ticks\":\"\"},\"type\":\"choropleth\"}],\"contour\":[{\"colorbar\":{\"outlinewidth\":0,\"ticks\":\"\"},\"colorscale\":[[0.0,\"#0d0887\"],[0.1111111111111111,\"#46039f\"],[0.2222222222222222,\"#7201a8\"],[0.3333333333333333,\"#9c179e\"],[0.4444444444444444,\"#bd3786\"],[0.5555555555555556,\"#d8576b\"],[0.6666666666666666,\"#ed7953\"],[0.7777777777777778,\"#fb9f3a\"],[0.8888888888888888,\"#fdca26\"],[1.0,\"#f0f921\"]],\"type\":\"contour\"}],\"contourcarpet\":[{\"colorbar\":{\"outlinewidth\":0,\"ticks\":\"\"},\"type\":\"contourcarpet\"}],\"heatmap\":[{\"colorbar\":{\"outlinewidth\":0,\"ticks\":\"\"},\"colorscale\":[[0.0,\"#0d0887\"],[0.1111111111111111,\"#46039f\"],[0.2222222222222222,\"#7201a8\"],[0.3333333333333333,\"#9c179e\"],[0.4444444444444444,\"#bd3786\"],[0.5555555555555556,\"#d8576b\"],[0.6666666666666666,\"#ed7953\"],[0.7777777777777778,\"#fb9f3a\"],[0.8888888888888888,\"#fdca26\"],[1.0,\"#f0f921\"]],\"type\":\"heatmap\"}],\"heatmapgl\":[{\"colorbar\":{\"outlinewidth\":0,\"ticks\":\"\"},\"colorscale\":[[0.0,\"#0d0887\"],[0.1111111111111111,\"#46039f\"],[0.2222222222222222,\"#7201a8\"],[0.3333333333333333,\"#9c179e\"],[0.4444444444444444,\"#bd3786\"],[0.5555555555555556,\"#d8576b\"],[0.6666666666666666,\"#ed7953\"],[0.7777777777777778,\"#fb9f3a\"],[0.8888888888888888,\"#fdca26\"],[1.0,\"#f0f921\"]],\"type\":\"heatmapgl\"}],\"histogram\":[{\"marker\":{\"pattern\":{\"fillmode\":\"overlay\",\"size\":10,\"solidity\":0.2}},\"type\":\"histogram\"}],\"histogram2d\":[{\"colorbar\":{\"outlinewidth\":0,\"ticks\":\"\"},\"colorscale\":[[0.0,\"#0d0887\"],[0.1111111111111111,\"#46039f\"],[0.2222222222222222,\"#7201a8\"],[0.3333333333333333,\"#9c179e\"],[0.4444444444444444,\"#bd3786\"],[0.5555555555555556,\"#d8576b\"],[0.6666666666666666,\"#ed7953\"],[0.7777777777777778,\"#fb9f3a\"],[0.8888888888888888,\"#fdca26\"],[1.0,\"#f0f921\"]],\"type\":\"histogram2d\"}],\"histogram2dcontour\":[{\"colorbar\":{\"outlinewidth\":0,\"ticks\":\"\"},\"colorscale\":[[0.0,\"#0d0887\"],[0.1111111111111111,\"#46039f\"],[0.2222222222222222,\"#7201a8\"],[0.3333333333333333,\"#9c179e\"],[0.4444444444444444,\"#bd3786\"],[0.5555555555555556,\"#d8576b\"],[0.6666666666666666,\"#ed7953\"],[0.7777777777777778,\"#fb9f3a\"],[0.8888888888888888,\"#fdca26\"],[1.0,\"#f0f921\"]],\"type\":\"histogram2dcontour\"}],\"mesh3d\":[{\"colorbar\":{\"outlinewidth\":0,\"ticks\":\"\"},\"type\":\"mesh3d\"}],\"parcoords\":[{\"line\":{\"colorbar\":{\"outlinewidth\":0,\"ticks\":\"\"}},\"type\":\"parcoords\"}],\"pie\":[{\"automargin\":true,\"type\":\"pie\"}],\"scatter\":[{\"marker\":{\"colorbar\":{\"outlinewidth\":0,\"ticks\":\"\"}},\"type\":\"scatter\"}],\"scatter3d\":[{\"line\":{\"colorbar\":{\"outlinewidth\":0,\"ticks\":\"\"}},\"marker\":{\"colorbar\":{\"outlinewidth\":0,\"ticks\":\"\"}},\"type\":\"scatter3d\"}],\"scattercarpet\":[{\"marker\":{\"colorbar\":{\"outlinewidth\":0,\"ticks\":\"\"}},\"type\":\"scattercarpet\"}],\"scattergeo\":[{\"marker\":{\"colorbar\":{\"outlinewidth\":0,\"ticks\":\"\"}},\"type\":\"scattergeo\"}],\"scattergl\":[{\"marker\":{\"colorbar\":{\"outlinewidth\":0,\"ticks\":\"\"}},\"type\":\"scattergl\"}],\"scattermapbox\":[{\"marker\":{\"colorbar\":{\"outlinewidth\":0,\"ticks\":\"\"}},\"type\":\"scattermapbox\"}],\"scatterpolar\":[{\"marker\":{\"colorbar\":{\"outlinewidth\":0,\"ticks\":\"\"}},\"type\":\"scatterpolar\"}],\"scatterpolargl\":[{\"marker\":{\"colorbar\":{\"outlinewidth\":0,\"ticks\":\"\"}},\"type\":\"scatterpolargl\"}],\"scatterternary\":[{\"marker\":{\"colorbar\":{\"outlinewidth\":0,\"ticks\":\"\"}},\"type\":\"scatterternary\"}],\"surface\":[{\"colorbar\":{\"outlinewidth\":0,\"ticks\":\"\"},\"colorscale\":[[0.0,\"#0d0887\"],[0.1111111111111111,\"#46039f\"],[0.2222222222222222,\"#7201a8\"],[0.3333333333333333,\"#9c179e\"],[0.4444444444444444,\"#bd3786\"],[0.5555555555555556,\"#d8576b\"],[0.6666666666666666,\"#ed7953\"],[0.7777777777777778,\"#fb9f3a\"],[0.8888888888888888,\"#fdca26\"],[1.0,\"#f0f921\"]],\"type\":\"surface\"}],\"table\":[{\"cells\":{\"fill\":{\"color\":\"#EBF0F8\"},\"line\":{\"color\":\"white\"}},\"header\":{\"fill\":{\"color\":\"#C8D4E3\"},\"line\":{\"color\":\"white\"}},\"type\":\"table\"}]},\"layout\":{\"annotationdefaults\":{\"arrowcolor\":\"#2a3f5f\",\"arrowhead\":0,\"arrowwidth\":1},\"autotypenumbers\":\"strict\",\"coloraxis\":{\"colorbar\":{\"outlinewidth\":0,\"ticks\":\"\"}},\"colorscale\":{\"diverging\":[[0,\"#8e0152\"],[0.1,\"#c51b7d\"],[0.2,\"#de77ae\"],[0.3,\"#f1b6da\"],[0.4,\"#fde0ef\"],[0.5,\"#f7f7f7\"],[0.6,\"#e6f5d0\"],[0.7,\"#b8e186\"],[0.8,\"#7fbc41\"],[0.9,\"#4d9221\"],[1,\"#276419\"]],\"sequential\":[[0.0,\"#0d0887\"],[0.1111111111111111,\"#46039f\"],[0.2222222222222222,\"#7201a8\"],[0.3333333333333333,\"#9c179e\"],[0.4444444444444444,\"#bd3786\"],[0.5555555555555556,\"#d8576b\"],[0.6666666666666666,\"#ed7953\"],[0.7777777777777778,\"#fb9f3a\"],[0.8888888888888888,\"#fdca26\"],[1.0,\"#f0f921\"]],\"sequentialminus\":[[0.0,\"#0d0887\"],[0.1111111111111111,\"#46039f\"],[0.2222222222222222,\"#7201a8\"],[0.3333333333333333,\"#9c179e\"],[0.4444444444444444,\"#bd3786\"],[0.5555555555555556,\"#d8576b\"],[0.6666666666666666,\"#ed7953\"],[0.7777777777777778,\"#fb9f3a\"],[0.8888888888888888,\"#fdca26\"],[1.0,\"#f0f921\"]]},\"colorway\":[\"#636efa\",\"#EF553B\",\"#00cc96\",\"#ab63fa\",\"#FFA15A\",\"#19d3f3\",\"#FF6692\",\"#B6E880\",\"#FF97FF\",\"#FECB52\"],\"font\":{\"color\":\"#2a3f5f\"},\"geo\":{\"bgcolor\":\"white\",\"lakecolor\":\"white\",\"landcolor\":\"#E5ECF6\",\"showlakes\":true,\"showland\":true,\"subunitcolor\":\"white\"},\"hoverlabel\":{\"align\":\"left\"},\"hovermode\":\"closest\",\"mapbox\":{\"style\":\"light\"},\"paper_bgcolor\":\"white\",\"plot_bgcolor\":\"#E5ECF6\",\"polar\":{\"angularaxis\":{\"gridcolor\":\"white\",\"linecolor\":\"white\",\"ticks\":\"\"},\"bgcolor\":\"#E5ECF6\",\"radialaxis\":{\"gridcolor\":\"white\",\"linecolor\":\"white\",\"ticks\":\"\"}},\"scene\":{\"xaxis\":{\"backgroundcolor\":\"#E5ECF6\",\"gridcolor\":\"white\",\"gridwidth\":2,\"linecolor\":\"white\",\"showbackground\":true,\"ticks\":\"\",\"zerolinecolor\":\"white\"},\"yaxis\":{\"backgroundcolor\":\"#E5ECF6\",\"gridcolor\":\"white\",\"gridwidth\":2,\"linecolor\":\"white\",\"showbackground\":true,\"ticks\":\"\",\"zerolinecolor\":\"white\"},\"zaxis\":{\"backgroundcolor\":\"#E5ECF6\",\"gridcolor\":\"white\",\"gridwidth\":2,\"linecolor\":\"white\",\"showbackground\":true,\"ticks\":\"\",\"zerolinecolor\":\"white\"}},\"shapedefaults\":{\"line\":{\"color\":\"#2a3f5f\"}},\"ternary\":{\"aaxis\":{\"gridcolor\":\"white\",\"linecolor\":\"white\",\"ticks\":\"\"},\"baxis\":{\"gridcolor\":\"white\",\"linecolor\":\"white\",\"ticks\":\"\"},\"bgcolor\":\"#E5ECF6\",\"caxis\":{\"gridcolor\":\"white\",\"linecolor\":\"white\",\"ticks\":\"\"}},\"title\":{\"x\":0.05},\"xaxis\":{\"automargin\":true,\"gridcolor\":\"white\",\"linecolor\":\"white\",\"ticks\":\"\",\"title\":{\"standoff\":15},\"zerolinecolor\":\"white\",\"zerolinewidth\":2},\"yaxis\":{\"automargin\":true,\"gridcolor\":\"white\",\"linecolor\":\"white\",\"ticks\":\"\",\"title\":{\"standoff\":15},\"zerolinecolor\":\"white\",\"zerolinewidth\":2}}},\"xaxis\":{\"anchor\":\"y\",\"domain\":[0.0,1.0],\"title\":{\"text\":\"scores\"}},\"yaxis\":{\"anchor\":\"x\",\"domain\":[0.0,1.0],\"title\":{\"text\":\"count\"}},\"legend\":{\"title\":{\"text\":\"error_trace_type\"},\"tracegroupgap\":0},\"title\":{\"text\":\"Eval Scores\"},\"barmode\":\"relative\"},                        {\"responsive\": true}                    ).then(function(){\n",
       "                            \n",
       "var gd = document.getElementById('68883a01-a3e0-4425-8954-82fba525d682');\n",
       "var x = new MutationObserver(function (mutations, observer) {{\n",
       "        var display = window.getComputedStyle(gd).display;\n",
       "        if (!display || display === 'none') {{\n",
       "            console.log([gd, 'removed!']);\n",
       "            Plotly.purge(gd);\n",
       "            observer.disconnect();\n",
       "        }}\n",
       "}});\n",
       "\n",
       "// Listen for the removal of the full notebook cells\n",
       "var notebookContainer = gd.closest('#notebook-container');\n",
       "if (notebookContainer) {{\n",
       "    x.observe(notebookContainer, {childList: true});\n",
       "}}\n",
       "\n",
       "// Listen for the clearing of the current output cell\n",
       "var outputEl = gd.closest('.output');\n",
       "if (outputEl) {{\n",
       "    x.observe(outputEl, {childList: true});\n",
       "}}\n",
       "\n",
       "                        })                };                });            </script>        </div>"
      ]
     },
     "metadata": {},
     "output_type": "display_data"
    }
   ],
   "source": [
    "px.histogram(train_result_df, x='scores', color='error_trace_type', title='Train Scores').show()\n",
    "px.histogram(eval_result_df, x='scores', color='error_trace_type', title='Eval Scores')"
   ]
  },
  {
   "cell_type": "code",
   "execution_count": null,
   "metadata": {},
   "outputs": [],
   "source": []
  },
  {
   "cell_type": "code",
   "execution_count": 72,
   "metadata": {},
   "outputs": [
    {
     "data": {
      "text/plain": [
       "tensor([[[[ 2.2004e-04,  6.1784e-05,  2.3899e-04,  ...,  0.0000e+00,\n",
       "            5.2851e-05,  2.1643e-04],\n",
       "          [ 2.2068e-04,  1.0297e-04,  2.3899e-04,  ...,  0.0000e+00,\n",
       "            7.0469e-05,  2.1848e-04],\n",
       "          [ 2.2004e-04,  6.1784e-05,  2.3899e-04,  ...,  0.0000e+00,\n",
       "            2.0994e-04,  2.1643e-04],\n",
       "          ...,\n",
       "          [ 2.2101e-04,  6.1784e-05,  2.3899e-04,  ...,  0.0000e+00,\n",
       "            8.8086e-05,  2.1927e-04],\n",
       "          [ 2.2068e-04,  1.0297e-04,  2.3899e-04,  ...,  0.0000e+00,\n",
       "            8.2213e-05,  2.1848e-04],\n",
       "          [ 2.2101e-04,  6.1784e-05,  2.3899e-04,  ...,  0.0000e+00,\n",
       "            1.4681e-04,  2.1927e-04]],\n",
       "\n",
       "         [[ 0.0000e+00,  0.0000e+00,  0.0000e+00,  ...,  0.0000e+00,\n",
       "            0.0000e+00,  0.0000e+00],\n",
       "          [ 0.0000e+00,  0.0000e+00,  0.0000e+00,  ...,  0.0000e+00,\n",
       "            0.0000e+00,  0.0000e+00],\n",
       "          [ 0.0000e+00,  0.0000e+00,  0.0000e+00,  ...,  0.0000e+00,\n",
       "            0.0000e+00,  0.0000e+00],\n",
       "          ...,\n",
       "          [ 0.0000e+00,  0.0000e+00,  0.0000e+00,  ...,  0.0000e+00,\n",
       "            0.0000e+00,  0.0000e+00],\n",
       "          [ 0.0000e+00,  0.0000e+00,  0.0000e+00,  ...,  0.0000e+00,\n",
       "            0.0000e+00,  0.0000e+00],\n",
       "          [ 0.0000e+00,  0.0000e+00,  0.0000e+00,  ...,  0.0000e+00,\n",
       "            0.0000e+00,  0.0000e+00]],\n",
       "\n",
       "         [[ 2.2004e-04,  6.1784e-05,  2.3899e-04,  ...,  0.0000e+00,\n",
       "            5.2851e-05,  2.1643e-04],\n",
       "          [ 2.2230e-04,  1.8535e-04,  2.3899e-04,  ...,  0.0000e+00,\n",
       "            4.2428e-04,  2.2289e-04],\n",
       "          [ 2.2375e-04,  2.6773e-04,  1.6546e-04,  ...,  0.0000e+00,\n",
       "            4.3456e-04,  2.2762e-04],\n",
       "          ...,\n",
       "          [ 2.2020e-04,  8.2378e-05,  5.5152e-05,  ...,  0.0000e+00,\n",
       "            2.4517e-04,  2.1706e-04],\n",
       "          [ 2.2294e-04,  2.0595e-04,  1.6546e-04,  ...,  0.0000e+00,\n",
       "            4.8007e-04,  2.2542e-04],\n",
       "          [ 2.2714e-04,  0.0000e+00,  2.3899e-04,  ...,  0.0000e+00,\n",
       "            1.9526e-04,  2.3708e-04]],\n",
       "\n",
       "         ...,\n",
       "\n",
       "         [[ 0.0000e+00,  0.0000e+00,  0.0000e+00,  ...,  0.0000e+00,\n",
       "            0.0000e+00,  0.0000e+00],\n",
       "          [ 0.0000e+00,  0.0000e+00,  0.0000e+00,  ...,  0.0000e+00,\n",
       "            0.0000e+00,  0.0000e+00],\n",
       "          [ 0.0000e+00,  0.0000e+00,  0.0000e+00,  ...,  0.0000e+00,\n",
       "            0.0000e+00,  0.0000e+00],\n",
       "          ...,\n",
       "          [ 0.0000e+00,  0.0000e+00,  0.0000e+00,  ...,  0.0000e+00,\n",
       "            0.0000e+00,  0.0000e+00],\n",
       "          [ 0.0000e+00,  0.0000e+00,  0.0000e+00,  ...,  0.0000e+00,\n",
       "            0.0000e+00,  0.0000e+00],\n",
       "          [ 0.0000e+00,  0.0000e+00,  0.0000e+00,  ...,  0.0000e+00,\n",
       "            0.0000e+00,  0.0000e+00]],\n",
       "\n",
       "         [[ 0.0000e+00,  0.0000e+00,  0.0000e+00,  ...,  0.0000e+00,\n",
       "            0.0000e+00,  0.0000e+00],\n",
       "          [ 0.0000e+00,  0.0000e+00,  0.0000e+00,  ...,  0.0000e+00,\n",
       "            0.0000e+00,  0.0000e+00],\n",
       "          [ 0.0000e+00,  0.0000e+00,  0.0000e+00,  ...,  0.0000e+00,\n",
       "            0.0000e+00,  0.0000e+00],\n",
       "          ...,\n",
       "          [ 0.0000e+00,  0.0000e+00,  0.0000e+00,  ...,  0.0000e+00,\n",
       "            0.0000e+00,  0.0000e+00],\n",
       "          [ 0.0000e+00,  0.0000e+00,  0.0000e+00,  ...,  0.0000e+00,\n",
       "            0.0000e+00,  0.0000e+00],\n",
       "          [ 0.0000e+00,  0.0000e+00,  0.0000e+00,  ...,  0.0000e+00,\n",
       "            0.0000e+00,  0.0000e+00]],\n",
       "\n",
       "         [[ 0.0000e+00,  0.0000e+00,  0.0000e+00,  ...,  0.0000e+00,\n",
       "            0.0000e+00,  0.0000e+00],\n",
       "          [ 0.0000e+00,  0.0000e+00,  0.0000e+00,  ...,  0.0000e+00,\n",
       "            0.0000e+00,  0.0000e+00],\n",
       "          [ 0.0000e+00,  0.0000e+00,  0.0000e+00,  ...,  0.0000e+00,\n",
       "            0.0000e+00,  0.0000e+00],\n",
       "          ...,\n",
       "          [ 0.0000e+00,  0.0000e+00,  0.0000e+00,  ...,  0.0000e+00,\n",
       "            0.0000e+00,  0.0000e+00],\n",
       "          [ 0.0000e+00,  0.0000e+00,  0.0000e+00,  ...,  0.0000e+00,\n",
       "            0.0000e+00,  0.0000e+00],\n",
       "          [ 0.0000e+00,  0.0000e+00,  0.0000e+00,  ...,  0.0000e+00,\n",
       "            0.0000e+00,  0.0000e+00]]],\n",
       "\n",
       "\n",
       "        [[[ 2.2004e-04,  2.6773e-04,  2.3899e-04,  ...,  5.1565e-05,\n",
       "            1.4681e-06,  2.1675e-04],\n",
       "          [ 2.2068e-04,  2.6773e-04,  2.3899e-04,  ...,  5.1565e-05,\n",
       "            5.8724e-06,  2.1880e-04],\n",
       "          [ 2.2020e-04,  6.1784e-05,  5.5152e-05,  ...,  5.1565e-05,\n",
       "            5.4319e-05,  2.1738e-04],\n",
       "          ...,\n",
       "          [ 2.2004e-04,  2.6773e-04,  2.3899e-04,  ...,  5.1565e-05,\n",
       "            2.3490e-05,  2.1675e-04],\n",
       "          [ 2.2020e-04,  6.1784e-05,  5.5152e-05,  ...,  5.1565e-05,\n",
       "            2.1141e-04,  2.1738e-04],\n",
       "          [ 2.2004e-04,  2.6773e-04,  2.3899e-04,  ...,  5.1565e-05,\n",
       "            2.9362e-05,  2.1675e-04]],\n",
       "\n",
       "         [[ 0.0000e+00,  0.0000e+00,  0.0000e+00,  ...,  0.0000e+00,\n",
       "            0.0000e+00,  0.0000e+00],\n",
       "          [ 0.0000e+00,  0.0000e+00,  0.0000e+00,  ...,  0.0000e+00,\n",
       "            0.0000e+00,  0.0000e+00],\n",
       "          [ 0.0000e+00,  0.0000e+00,  0.0000e+00,  ...,  0.0000e+00,\n",
       "            0.0000e+00,  0.0000e+00],\n",
       "          ...,\n",
       "          [ 0.0000e+00,  0.0000e+00,  0.0000e+00,  ...,  0.0000e+00,\n",
       "            0.0000e+00,  0.0000e+00],\n",
       "          [ 0.0000e+00,  0.0000e+00,  0.0000e+00,  ...,  0.0000e+00,\n",
       "            0.0000e+00,  0.0000e+00],\n",
       "          [ 0.0000e+00,  0.0000e+00,  0.0000e+00,  ...,  0.0000e+00,\n",
       "            0.0000e+00,  0.0000e+00]],\n",
       "\n",
       "         [[ 2.2004e-04,  2.6773e-04,  2.3899e-04,  ...,  5.1565e-05,\n",
       "            1.4681e-06,  2.1675e-04],\n",
       "          [ 2.2068e-04,  2.6773e-04,  2.3899e-04,  ...,  5.1565e-05,\n",
       "            5.8724e-06,  2.1880e-04],\n",
       "          [ 2.2714e-04,  2.6773e-04,  2.3899e-04,  ...,  5.1565e-05,\n",
       "            1.7617e-05,  2.3740e-04],\n",
       "          ...,\n",
       "          [ 2.2004e-04,  2.6773e-04,  2.3899e-04,  ...,  5.1565e-05,\n",
       "            2.6426e-05,  2.1675e-04],\n",
       "          [ 2.2004e-04,  2.6773e-04,  2.3899e-04,  ...,  5.1565e-05,\n",
       "            2.7894e-05,  2.1675e-04],\n",
       "          [ 2.2230e-04,  2.6773e-04,  2.3899e-04,  ...,  5.1565e-05,\n",
       "            4.6979e-05,  2.2321e-04]],\n",
       "\n",
       "         ...,\n",
       "\n",
       "         [[ 0.0000e+00,  0.0000e+00,  0.0000e+00,  ...,  0.0000e+00,\n",
       "            0.0000e+00,  0.0000e+00],\n",
       "          [ 0.0000e+00,  0.0000e+00,  0.0000e+00,  ...,  0.0000e+00,\n",
       "            0.0000e+00,  0.0000e+00],\n",
       "          [ 0.0000e+00,  0.0000e+00,  0.0000e+00,  ...,  0.0000e+00,\n",
       "            0.0000e+00,  0.0000e+00],\n",
       "          ...,\n",
       "          [ 0.0000e+00,  0.0000e+00,  0.0000e+00,  ...,  0.0000e+00,\n",
       "            0.0000e+00,  0.0000e+00],\n",
       "          [ 0.0000e+00,  0.0000e+00,  0.0000e+00,  ...,  0.0000e+00,\n",
       "            0.0000e+00,  0.0000e+00],\n",
       "          [ 0.0000e+00,  0.0000e+00,  0.0000e+00,  ...,  0.0000e+00,\n",
       "            0.0000e+00,  0.0000e+00]],\n",
       "\n",
       "         [[ 0.0000e+00,  0.0000e+00,  0.0000e+00,  ...,  0.0000e+00,\n",
       "            0.0000e+00,  0.0000e+00],\n",
       "          [ 0.0000e+00,  0.0000e+00,  0.0000e+00,  ...,  0.0000e+00,\n",
       "            0.0000e+00,  0.0000e+00],\n",
       "          [ 0.0000e+00,  0.0000e+00,  0.0000e+00,  ...,  0.0000e+00,\n",
       "            0.0000e+00,  0.0000e+00],\n",
       "          ...,\n",
       "          [ 0.0000e+00,  0.0000e+00,  0.0000e+00,  ...,  0.0000e+00,\n",
       "            0.0000e+00,  0.0000e+00],\n",
       "          [ 0.0000e+00,  0.0000e+00,  0.0000e+00,  ...,  0.0000e+00,\n",
       "            0.0000e+00,  0.0000e+00],\n",
       "          [ 0.0000e+00,  0.0000e+00,  0.0000e+00,  ...,  0.0000e+00,\n",
       "            0.0000e+00,  0.0000e+00]],\n",
       "\n",
       "         [[ 0.0000e+00,  0.0000e+00,  0.0000e+00,  ...,  0.0000e+00,\n",
       "            0.0000e+00,  0.0000e+00],\n",
       "          [ 0.0000e+00,  0.0000e+00,  0.0000e+00,  ...,  0.0000e+00,\n",
       "            0.0000e+00,  0.0000e+00],\n",
       "          [ 0.0000e+00,  0.0000e+00,  0.0000e+00,  ...,  0.0000e+00,\n",
       "            0.0000e+00,  0.0000e+00],\n",
       "          ...,\n",
       "          [ 0.0000e+00,  0.0000e+00,  0.0000e+00,  ...,  0.0000e+00,\n",
       "            0.0000e+00,  0.0000e+00],\n",
       "          [ 0.0000e+00,  0.0000e+00,  0.0000e+00,  ...,  0.0000e+00,\n",
       "            0.0000e+00,  0.0000e+00],\n",
       "          [ 0.0000e+00,  0.0000e+00,  0.0000e+00,  ...,  0.0000e+00,\n",
       "            0.0000e+00,  0.0000e+00]]],\n",
       "\n",
       "\n",
       "        [[[ 2.2004e-04,  6.1784e-05,  2.3899e-04,  ...,  1.0313e-04,\n",
       "            5.2851e-05,  2.1659e-04],\n",
       "          [ 2.2068e-04,  1.0297e-04,  2.3899e-04,  ...,  1.0313e-04,\n",
       "            7.0469e-05,  2.1864e-04],\n",
       "          [ 2.2004e-04,  6.1784e-05,  2.3899e-04,  ...,  1.0313e-04,\n",
       "            2.0994e-04,  2.1659e-04],\n",
       "          ...,\n",
       "          [ 2.2101e-04,  6.1784e-05,  2.3899e-04,  ...,  1.0313e-04,\n",
       "            8.8086e-05,  2.1943e-04],\n",
       "          [ 2.2068e-04,  1.0297e-04,  2.3899e-04,  ...,  1.0313e-04,\n",
       "            8.2213e-05,  2.1864e-04],\n",
       "          [ 2.2101e-04,  6.1784e-05,  2.3899e-04,  ...,  1.0313e-04,\n",
       "            1.4681e-04,  2.1943e-04]],\n",
       "\n",
       "         [[ 0.0000e+00,  0.0000e+00,  0.0000e+00,  ...,  0.0000e+00,\n",
       "            0.0000e+00,  0.0000e+00],\n",
       "          [ 0.0000e+00,  0.0000e+00,  0.0000e+00,  ...,  0.0000e+00,\n",
       "            0.0000e+00,  0.0000e+00],\n",
       "          [ 0.0000e+00,  0.0000e+00,  0.0000e+00,  ...,  0.0000e+00,\n",
       "            0.0000e+00,  0.0000e+00],\n",
       "          ...,\n",
       "          [ 0.0000e+00,  0.0000e+00,  0.0000e+00,  ...,  0.0000e+00,\n",
       "            0.0000e+00,  0.0000e+00],\n",
       "          [ 0.0000e+00,  0.0000e+00,  0.0000e+00,  ...,  0.0000e+00,\n",
       "            0.0000e+00,  0.0000e+00],\n",
       "          [ 0.0000e+00,  0.0000e+00,  0.0000e+00,  ...,  0.0000e+00,\n",
       "            0.0000e+00,  0.0000e+00]],\n",
       "\n",
       "         [[ 2.2004e-04,  6.1784e-05,  2.3899e-04,  ...,  1.0313e-04,\n",
       "            5.2851e-05,  2.1659e-04],\n",
       "          [ 2.2020e-04,  8.2378e-05,  5.5152e-05,  ...,  1.0313e-04,\n",
       "            5.5788e-05,  2.1722e-04],\n",
       "          [ 2.2068e-04,  1.0297e-04,  2.3899e-04,  ...,  1.0313e-04,\n",
       "            7.0469e-05,  2.1864e-04],\n",
       "          ...,\n",
       "          [ 2.2294e-04,  2.0595e-04,  1.6546e-04,  ...,  1.0313e-04,\n",
       "            4.8007e-04,  2.2557e-04],\n",
       "          [ 2.2230e-04,  1.8535e-04,  2.3899e-04,  ...,  1.0313e-04,\n",
       "            4.2428e-04,  2.2305e-04],\n",
       "          [ 2.2714e-04,  0.0000e+00,  2.3899e-04,  ...,  1.0313e-04,\n",
       "            1.9526e-04,  2.3724e-04]],\n",
       "\n",
       "         ...,\n",
       "\n",
       "         [[ 2.2133e-04,  1.2357e-04,  2.3899e-04,  ...,  1.0313e-04,\n",
       "            4.9475e-04,  2.2069e-04],\n",
       "          [ 2.3552e-04,  2.6773e-04, -1.8384e-05,  ...,  1.0313e-04,\n",
       "            0.0000e+00,  2.6278e-04],\n",
       "          [ 0.0000e+00,  0.0000e+00,  0.0000e+00,  ...,  0.0000e+00,\n",
       "            0.0000e+00,  0.0000e+00],\n",
       "          ...,\n",
       "          [ 0.0000e+00,  0.0000e+00,  0.0000e+00,  ...,  0.0000e+00,\n",
       "            0.0000e+00,  0.0000e+00],\n",
       "          [ 0.0000e+00,  0.0000e+00,  0.0000e+00,  ...,  0.0000e+00,\n",
       "            0.0000e+00,  0.0000e+00],\n",
       "          [ 0.0000e+00,  0.0000e+00,  0.0000e+00,  ...,  0.0000e+00,\n",
       "            0.0000e+00,  0.0000e+00]],\n",
       "\n",
       "         [[ 2.2133e-04,  1.2357e-04,  2.3899e-04,  ...,  1.0313e-04,\n",
       "            4.9475e-04,  2.2069e-04],\n",
       "          [ 2.3552e-04,  2.6773e-04, -1.8384e-05,  ...,  1.0313e-04,\n",
       "            0.0000e+00,  2.6278e-04],\n",
       "          [ 0.0000e+00,  0.0000e+00,  0.0000e+00,  ...,  0.0000e+00,\n",
       "            0.0000e+00,  0.0000e+00],\n",
       "          ...,\n",
       "          [ 0.0000e+00,  0.0000e+00,  0.0000e+00,  ...,  0.0000e+00,\n",
       "            0.0000e+00,  0.0000e+00],\n",
       "          [ 0.0000e+00,  0.0000e+00,  0.0000e+00,  ...,  0.0000e+00,\n",
       "            0.0000e+00,  0.0000e+00],\n",
       "          [ 0.0000e+00,  0.0000e+00,  0.0000e+00,  ...,  0.0000e+00,\n",
       "            0.0000e+00,  0.0000e+00]],\n",
       "\n",
       "         [[ 2.2133e-04,  1.2357e-04,  2.3899e-04,  ...,  1.0313e-04,\n",
       "            4.9475e-04,  2.2069e-04],\n",
       "          [ 2.3552e-04,  2.6773e-04, -1.8384e-05,  ...,  1.0313e-04,\n",
       "            0.0000e+00,  2.6278e-04],\n",
       "          [ 0.0000e+00,  0.0000e+00,  0.0000e+00,  ...,  0.0000e+00,\n",
       "            0.0000e+00,  0.0000e+00],\n",
       "          ...,\n",
       "          [ 0.0000e+00,  0.0000e+00,  0.0000e+00,  ...,  0.0000e+00,\n",
       "            0.0000e+00,  0.0000e+00],\n",
       "          [ 0.0000e+00,  0.0000e+00,  0.0000e+00,  ...,  0.0000e+00,\n",
       "            0.0000e+00,  0.0000e+00],\n",
       "          [ 0.0000e+00,  0.0000e+00,  0.0000e+00,  ...,  0.0000e+00,\n",
       "            0.0000e+00,  0.0000e+00]]],\n",
       "\n",
       "\n",
       "        ...,\n",
       "\n",
       "\n",
       "        [[[ 2.2391e-04,  2.6773e-04,  2.3899e-04,  ...,  2.5782e-04,\n",
       "            4.4043e-06,  2.2825e-04],\n",
       "          [ 2.2084e-04,  1.0297e-04,  9.1920e-05,  ...,  2.5782e-04,\n",
       "            7.1937e-05,  2.1911e-04],\n",
       "          [ 2.1939e-04,  0.0000e+00,  0.0000e+00,  ...,  2.5782e-04,\n",
       "            1.9966e-04,  2.1486e-04],\n",
       "          ...,\n",
       "          [ 2.2149e-04,  1.2357e-04,  1.1030e-04,  ...,  2.5782e-04,\n",
       "            4.6098e-04,  2.2116e-04],\n",
       "          [ 2.2149e-04,  1.2357e-04,  1.1030e-04,  ...,  2.5782e-04,\n",
       "            4.6245e-04,  2.2116e-04],\n",
       "          [ 2.2084e-04,  1.0297e-04,  9.1920e-05,  ...,  2.5782e-04,\n",
       "            8.0745e-05,  2.1911e-04]],\n",
       "\n",
       "         [[ 0.0000e+00,  0.0000e+00,  0.0000e+00,  ...,  0.0000e+00,\n",
       "            0.0000e+00,  0.0000e+00],\n",
       "          [ 0.0000e+00,  0.0000e+00,  0.0000e+00,  ...,  0.0000e+00,\n",
       "            0.0000e+00,  0.0000e+00],\n",
       "          [ 0.0000e+00,  0.0000e+00,  0.0000e+00,  ...,  0.0000e+00,\n",
       "            0.0000e+00,  0.0000e+00],\n",
       "          ...,\n",
       "          [ 0.0000e+00,  0.0000e+00,  0.0000e+00,  ...,  0.0000e+00,\n",
       "            0.0000e+00,  0.0000e+00],\n",
       "          [ 0.0000e+00,  0.0000e+00,  0.0000e+00,  ...,  0.0000e+00,\n",
       "            0.0000e+00,  0.0000e+00],\n",
       "          [ 0.0000e+00,  0.0000e+00,  0.0000e+00,  ...,  0.0000e+00,\n",
       "            0.0000e+00,  0.0000e+00]],\n",
       "\n",
       "         [[ 2.2391e-04,  2.6773e-04,  2.3899e-04,  ...,  2.5782e-04,\n",
       "            4.4043e-06,  2.2825e-04],\n",
       "          [ 2.2391e-04,  2.6773e-04,  2.3899e-04,  ...,  2.5782e-04,\n",
       "            4.3602e-04,  2.2825e-04],\n",
       "          [ 2.2084e-04,  1.0297e-04,  9.1920e-05,  ...,  2.5782e-04,\n",
       "            7.1937e-05,  2.1911e-04],\n",
       "          ...,\n",
       "          [ 2.2084e-04,  1.0297e-04,  9.1920e-05,  ...,  2.5782e-04,\n",
       "            8.3681e-05,  2.1911e-04],\n",
       "          [ 2.2084e-04,  1.0297e-04,  9.1920e-05,  ...,  2.5782e-04,\n",
       "            7.4873e-05,  2.1911e-04],\n",
       "          [ 2.1939e-04,  0.0000e+00,  0.0000e+00,  ...,  2.5782e-04,\n",
       "            1.9966e-04,  2.1486e-04]],\n",
       "\n",
       "         ...,\n",
       "\n",
       "         [[ 2.2149e-04,  1.2357e-04,  1.1030e-04,  ...,  2.5782e-04,\n",
       "            4.9622e-04,  2.2116e-04],\n",
       "          [ 2.2149e-04,  1.2357e-04,  1.1030e-04,  ...,  2.5782e-04,\n",
       "            4.9768e-04,  2.2116e-04],\n",
       "          [ 0.0000e+00,  0.0000e+00,  0.0000e+00,  ...,  0.0000e+00,\n",
       "            0.0000e+00,  0.0000e+00],\n",
       "          ...,\n",
       "          [ 0.0000e+00,  0.0000e+00,  0.0000e+00,  ...,  0.0000e+00,\n",
       "            0.0000e+00,  0.0000e+00],\n",
       "          [ 0.0000e+00,  0.0000e+00,  0.0000e+00,  ...,  0.0000e+00,\n",
       "            0.0000e+00,  0.0000e+00],\n",
       "          [ 0.0000e+00,  0.0000e+00,  0.0000e+00,  ...,  0.0000e+00,\n",
       "            0.0000e+00,  0.0000e+00]],\n",
       "\n",
       "         [[ 2.2149e-04,  1.2357e-04,  1.1030e-04,  ...,  2.5782e-04,\n",
       "            4.9768e-04,  2.2116e-04],\n",
       "          [ 0.0000e+00,  0.0000e+00,  0.0000e+00,  ...,  0.0000e+00,\n",
       "            0.0000e+00,  0.0000e+00],\n",
       "          [ 0.0000e+00,  0.0000e+00,  0.0000e+00,  ...,  0.0000e+00,\n",
       "            0.0000e+00,  0.0000e+00],\n",
       "          ...,\n",
       "          [ 0.0000e+00,  0.0000e+00,  0.0000e+00,  ...,  0.0000e+00,\n",
       "            0.0000e+00,  0.0000e+00],\n",
       "          [ 0.0000e+00,  0.0000e+00,  0.0000e+00,  ...,  0.0000e+00,\n",
       "            0.0000e+00,  0.0000e+00],\n",
       "          [ 0.0000e+00,  0.0000e+00,  0.0000e+00,  ...,  0.0000e+00,\n",
       "            0.0000e+00,  0.0000e+00]],\n",
       "\n",
       "         [[ 0.0000e+00,  0.0000e+00,  0.0000e+00,  ...,  0.0000e+00,\n",
       "            0.0000e+00,  0.0000e+00],\n",
       "          [ 0.0000e+00,  0.0000e+00,  0.0000e+00,  ...,  0.0000e+00,\n",
       "            0.0000e+00,  0.0000e+00],\n",
       "          [ 0.0000e+00,  0.0000e+00,  0.0000e+00,  ...,  0.0000e+00,\n",
       "            0.0000e+00,  0.0000e+00],\n",
       "          ...,\n",
       "          [ 0.0000e+00,  0.0000e+00,  0.0000e+00,  ...,  0.0000e+00,\n",
       "            0.0000e+00,  0.0000e+00],\n",
       "          [ 0.0000e+00,  0.0000e+00,  0.0000e+00,  ...,  0.0000e+00,\n",
       "            0.0000e+00,  0.0000e+00],\n",
       "          [ 0.0000e+00,  0.0000e+00,  0.0000e+00,  ...,  0.0000e+00,\n",
       "            0.0000e+00,  0.0000e+00]]],\n",
       "\n",
       "\n",
       "        [[[ 0.0000e+00,  0.0000e+00,  0.0000e+00,  ...,  0.0000e+00,\n",
       "            0.0000e+00,  0.0000e+00],\n",
       "          [ 0.0000e+00,  0.0000e+00,  0.0000e+00,  ...,  0.0000e+00,\n",
       "            0.0000e+00,  0.0000e+00],\n",
       "          [ 0.0000e+00,  0.0000e+00,  0.0000e+00,  ...,  0.0000e+00,\n",
       "            0.0000e+00,  0.0000e+00],\n",
       "          ...,\n",
       "          [ 0.0000e+00,  0.0000e+00,  0.0000e+00,  ...,  0.0000e+00,\n",
       "            0.0000e+00,  0.0000e+00],\n",
       "          [ 0.0000e+00,  0.0000e+00,  0.0000e+00,  ...,  0.0000e+00,\n",
       "            0.0000e+00,  0.0000e+00],\n",
       "          [ 0.0000e+00,  0.0000e+00,  0.0000e+00,  ...,  0.0000e+00,\n",
       "            0.0000e+00,  0.0000e+00]],\n",
       "\n",
       "         [[ 0.0000e+00,  0.0000e+00,  0.0000e+00,  ...,  0.0000e+00,\n",
       "            0.0000e+00,  0.0000e+00],\n",
       "          [ 0.0000e+00,  0.0000e+00,  0.0000e+00,  ...,  0.0000e+00,\n",
       "            0.0000e+00,  0.0000e+00],\n",
       "          [ 0.0000e+00,  0.0000e+00,  0.0000e+00,  ...,  0.0000e+00,\n",
       "            0.0000e+00,  0.0000e+00],\n",
       "          ...,\n",
       "          [ 0.0000e+00,  0.0000e+00,  0.0000e+00,  ...,  0.0000e+00,\n",
       "            0.0000e+00,  0.0000e+00],\n",
       "          [ 0.0000e+00,  0.0000e+00,  0.0000e+00,  ...,  0.0000e+00,\n",
       "            0.0000e+00,  0.0000e+00],\n",
       "          [ 0.0000e+00,  0.0000e+00,  0.0000e+00,  ...,  0.0000e+00,\n",
       "            0.0000e+00,  0.0000e+00]],\n",
       "\n",
       "         [[ 0.0000e+00,  0.0000e+00,  0.0000e+00,  ...,  0.0000e+00,\n",
       "            0.0000e+00,  0.0000e+00],\n",
       "          [ 0.0000e+00,  0.0000e+00,  0.0000e+00,  ...,  0.0000e+00,\n",
       "            0.0000e+00,  0.0000e+00],\n",
       "          [ 0.0000e+00,  0.0000e+00,  0.0000e+00,  ...,  0.0000e+00,\n",
       "            0.0000e+00,  0.0000e+00],\n",
       "          ...,\n",
       "          [ 0.0000e+00,  0.0000e+00,  0.0000e+00,  ...,  0.0000e+00,\n",
       "            0.0000e+00,  0.0000e+00],\n",
       "          [ 0.0000e+00,  0.0000e+00,  0.0000e+00,  ...,  0.0000e+00,\n",
       "            0.0000e+00,  0.0000e+00],\n",
       "          [ 0.0000e+00,  0.0000e+00,  0.0000e+00,  ...,  0.0000e+00,\n",
       "            0.0000e+00,  0.0000e+00]],\n",
       "\n",
       "         ...,\n",
       "\n",
       "         [[ 0.0000e+00,  0.0000e+00,  0.0000e+00,  ...,  0.0000e+00,\n",
       "            0.0000e+00,  0.0000e+00],\n",
       "          [ 0.0000e+00,  0.0000e+00,  0.0000e+00,  ...,  0.0000e+00,\n",
       "            0.0000e+00,  0.0000e+00],\n",
       "          [ 0.0000e+00,  0.0000e+00,  0.0000e+00,  ...,  0.0000e+00,\n",
       "            0.0000e+00,  0.0000e+00],\n",
       "          ...,\n",
       "          [ 0.0000e+00,  0.0000e+00,  0.0000e+00,  ...,  0.0000e+00,\n",
       "            0.0000e+00,  0.0000e+00],\n",
       "          [ 0.0000e+00,  0.0000e+00,  0.0000e+00,  ...,  0.0000e+00,\n",
       "            0.0000e+00,  0.0000e+00],\n",
       "          [ 0.0000e+00,  0.0000e+00,  0.0000e+00,  ...,  0.0000e+00,\n",
       "            0.0000e+00,  0.0000e+00]],\n",
       "\n",
       "         [[ 0.0000e+00,  0.0000e+00,  0.0000e+00,  ...,  0.0000e+00,\n",
       "            0.0000e+00,  0.0000e+00],\n",
       "          [ 0.0000e+00,  0.0000e+00,  0.0000e+00,  ...,  0.0000e+00,\n",
       "            0.0000e+00,  0.0000e+00],\n",
       "          [ 0.0000e+00,  0.0000e+00,  0.0000e+00,  ...,  0.0000e+00,\n",
       "            0.0000e+00,  0.0000e+00],\n",
       "          ...,\n",
       "          [ 0.0000e+00,  0.0000e+00,  0.0000e+00,  ...,  0.0000e+00,\n",
       "            0.0000e+00,  0.0000e+00],\n",
       "          [ 0.0000e+00,  0.0000e+00,  0.0000e+00,  ...,  0.0000e+00,\n",
       "            0.0000e+00,  0.0000e+00],\n",
       "          [ 0.0000e+00,  0.0000e+00,  0.0000e+00,  ...,  0.0000e+00,\n",
       "            0.0000e+00,  0.0000e+00]],\n",
       "\n",
       "         [[ 0.0000e+00,  0.0000e+00,  0.0000e+00,  ...,  0.0000e+00,\n",
       "            0.0000e+00,  0.0000e+00],\n",
       "          [ 0.0000e+00,  0.0000e+00,  0.0000e+00,  ...,  0.0000e+00,\n",
       "            0.0000e+00,  0.0000e+00],\n",
       "          [ 0.0000e+00,  0.0000e+00,  0.0000e+00,  ...,  0.0000e+00,\n",
       "            0.0000e+00,  0.0000e+00],\n",
       "          ...,\n",
       "          [ 0.0000e+00,  0.0000e+00,  0.0000e+00,  ...,  0.0000e+00,\n",
       "            0.0000e+00,  0.0000e+00],\n",
       "          [ 0.0000e+00,  0.0000e+00,  0.0000e+00,  ...,  0.0000e+00,\n",
       "            0.0000e+00,  0.0000e+00],\n",
       "          [ 0.0000e+00,  0.0000e+00,  0.0000e+00,  ...,  0.0000e+00,\n",
       "            0.0000e+00,  0.0000e+00]]],\n",
       "\n",
       "\n",
       "        [[[ 0.0000e+00,  0.0000e+00,  0.0000e+00,  ...,  0.0000e+00,\n",
       "            0.0000e+00,  0.0000e+00],\n",
       "          [ 0.0000e+00,  0.0000e+00,  0.0000e+00,  ...,  0.0000e+00,\n",
       "            0.0000e+00,  0.0000e+00],\n",
       "          [ 0.0000e+00,  0.0000e+00,  0.0000e+00,  ...,  0.0000e+00,\n",
       "            0.0000e+00,  0.0000e+00],\n",
       "          ...,\n",
       "          [ 0.0000e+00,  0.0000e+00,  0.0000e+00,  ...,  0.0000e+00,\n",
       "            0.0000e+00,  0.0000e+00],\n",
       "          [ 0.0000e+00,  0.0000e+00,  0.0000e+00,  ...,  0.0000e+00,\n",
       "            0.0000e+00,  0.0000e+00],\n",
       "          [ 0.0000e+00,  0.0000e+00,  0.0000e+00,  ...,  0.0000e+00,\n",
       "            0.0000e+00,  0.0000e+00]],\n",
       "\n",
       "         [[ 0.0000e+00,  0.0000e+00,  0.0000e+00,  ...,  0.0000e+00,\n",
       "            0.0000e+00,  0.0000e+00],\n",
       "          [ 0.0000e+00,  0.0000e+00,  0.0000e+00,  ...,  0.0000e+00,\n",
       "            0.0000e+00,  0.0000e+00],\n",
       "          [ 0.0000e+00,  0.0000e+00,  0.0000e+00,  ...,  0.0000e+00,\n",
       "            0.0000e+00,  0.0000e+00],\n",
       "          ...,\n",
       "          [ 0.0000e+00,  0.0000e+00,  0.0000e+00,  ...,  0.0000e+00,\n",
       "            0.0000e+00,  0.0000e+00],\n",
       "          [ 0.0000e+00,  0.0000e+00,  0.0000e+00,  ...,  0.0000e+00,\n",
       "            0.0000e+00,  0.0000e+00],\n",
       "          [ 0.0000e+00,  0.0000e+00,  0.0000e+00,  ...,  0.0000e+00,\n",
       "            0.0000e+00,  0.0000e+00]],\n",
       "\n",
       "         [[ 0.0000e+00,  0.0000e+00,  0.0000e+00,  ...,  0.0000e+00,\n",
       "            0.0000e+00,  0.0000e+00],\n",
       "          [ 0.0000e+00,  0.0000e+00,  0.0000e+00,  ...,  0.0000e+00,\n",
       "            0.0000e+00,  0.0000e+00],\n",
       "          [ 0.0000e+00,  0.0000e+00,  0.0000e+00,  ...,  0.0000e+00,\n",
       "            0.0000e+00,  0.0000e+00],\n",
       "          ...,\n",
       "          [ 0.0000e+00,  0.0000e+00,  0.0000e+00,  ...,  0.0000e+00,\n",
       "            0.0000e+00,  0.0000e+00],\n",
       "          [ 0.0000e+00,  0.0000e+00,  0.0000e+00,  ...,  0.0000e+00,\n",
       "            0.0000e+00,  0.0000e+00],\n",
       "          [ 0.0000e+00,  0.0000e+00,  0.0000e+00,  ...,  0.0000e+00,\n",
       "            0.0000e+00,  0.0000e+00]],\n",
       "\n",
       "         ...,\n",
       "\n",
       "         [[ 0.0000e+00,  0.0000e+00,  0.0000e+00,  ...,  0.0000e+00,\n",
       "            0.0000e+00,  0.0000e+00],\n",
       "          [ 0.0000e+00,  0.0000e+00,  0.0000e+00,  ...,  0.0000e+00,\n",
       "            0.0000e+00,  0.0000e+00],\n",
       "          [ 0.0000e+00,  0.0000e+00,  0.0000e+00,  ...,  0.0000e+00,\n",
       "            0.0000e+00,  0.0000e+00],\n",
       "          ...,\n",
       "          [ 0.0000e+00,  0.0000e+00,  0.0000e+00,  ...,  0.0000e+00,\n",
       "            0.0000e+00,  0.0000e+00],\n",
       "          [ 0.0000e+00,  0.0000e+00,  0.0000e+00,  ...,  0.0000e+00,\n",
       "            0.0000e+00,  0.0000e+00],\n",
       "          [ 0.0000e+00,  0.0000e+00,  0.0000e+00,  ...,  0.0000e+00,\n",
       "            0.0000e+00,  0.0000e+00]],\n",
       "\n",
       "         [[ 0.0000e+00,  0.0000e+00,  0.0000e+00,  ...,  0.0000e+00,\n",
       "            0.0000e+00,  0.0000e+00],\n",
       "          [ 0.0000e+00,  0.0000e+00,  0.0000e+00,  ...,  0.0000e+00,\n",
       "            0.0000e+00,  0.0000e+00],\n",
       "          [ 0.0000e+00,  0.0000e+00,  0.0000e+00,  ...,  0.0000e+00,\n",
       "            0.0000e+00,  0.0000e+00],\n",
       "          ...,\n",
       "          [ 0.0000e+00,  0.0000e+00,  0.0000e+00,  ...,  0.0000e+00,\n",
       "            0.0000e+00,  0.0000e+00],\n",
       "          [ 0.0000e+00,  0.0000e+00,  0.0000e+00,  ...,  0.0000e+00,\n",
       "            0.0000e+00,  0.0000e+00],\n",
       "          [ 0.0000e+00,  0.0000e+00,  0.0000e+00,  ...,  0.0000e+00,\n",
       "            0.0000e+00,  0.0000e+00]],\n",
       "\n",
       "         [[ 0.0000e+00,  0.0000e+00,  0.0000e+00,  ...,  0.0000e+00,\n",
       "            0.0000e+00,  0.0000e+00],\n",
       "          [ 0.0000e+00,  0.0000e+00,  0.0000e+00,  ...,  0.0000e+00,\n",
       "            0.0000e+00,  0.0000e+00],\n",
       "          [ 0.0000e+00,  0.0000e+00,  0.0000e+00,  ...,  0.0000e+00,\n",
       "            0.0000e+00,  0.0000e+00],\n",
       "          ...,\n",
       "          [ 0.0000e+00,  0.0000e+00,  0.0000e+00,  ...,  0.0000e+00,\n",
       "            0.0000e+00,  0.0000e+00],\n",
       "          [ 0.0000e+00,  0.0000e+00,  0.0000e+00,  ...,  0.0000e+00,\n",
       "            0.0000e+00,  0.0000e+00],\n",
       "          [ 0.0000e+00,  0.0000e+00,  0.0000e+00,  ...,  0.0000e+00,\n",
       "            0.0000e+00,  0.0000e+00]]]])"
      ]
     },
     "execution_count": 72,
     "metadata": {},
     "output_type": "execute_result"
    }
   ],
   "source": [
    "dataset[0][1]"
   ]
  },
  {
   "cell_type": "code",
   "execution_count": 69,
   "metadata": {},
   "outputs": [
    {
     "data": {
      "text/plain": [
       "[ModuleList(\n",
       "   (0): Linear(in_features=7, out_features=7, bias=True)\n",
       "   (1): Linear(in_features=7, out_features=7, bias=True)\n",
       "   (2): Linear(in_features=7, out_features=7, bias=True)\n",
       "   (3): Linear(in_features=7, out_features=7, bias=True)\n",
       "   (4): Linear(in_features=7, out_features=7, bias=True)\n",
       "   (5): Linear(in_features=7, out_features=7, bias=True)\n",
       "   (6): Linear(in_features=7, out_features=7, bias=True)\n",
       "   (7): Linear(in_features=7, out_features=7, bias=True)\n",
       " ),\n",
       " Linear(in_features=63, out_features=7, bias=True),\n",
       " LeakyReLU(negative_slope=0.01),\n",
       " Sigmoid()]"
      ]
     },
     "execution_count": 69,
     "metadata": {},
     "output_type": "execute_result"
    }
   ],
   "source": [
    "model_children = list(model.children())\n",
    "model_children"
   ]
  },
  {
   "cell_type": "code",
   "execution_count": 78,
   "metadata": {},
   "outputs": [],
   "source": [
    "graph_node_feature, graph_het_feature, graph_node_types = dataset[0]"
   ]
  },
  {
   "cell_type": "code",
   "execution_count": 85,
   "metadata": {},
   "outputs": [
    {
     "data": {
      "text/plain": [
       "tensor([[2.2004e-04, 6.1784e-05, 2.3899e-04,  ..., 0.0000e+00, 5.2851e-05,\n",
       "         2.1643e-04],\n",
       "        [2.2068e-04, 1.0297e-04, 2.3899e-04,  ..., 0.0000e+00, 7.0469e-05,\n",
       "         2.1848e-04],\n",
       "        [2.2004e-04, 6.1784e-05, 2.3899e-04,  ..., 0.0000e+00, 2.0994e-04,\n",
       "         2.1643e-04],\n",
       "        ...,\n",
       "        [0.0000e+00, 0.0000e+00, 0.0000e+00,  ..., 0.0000e+00, 0.0000e+00,\n",
       "         0.0000e+00],\n",
       "        [0.0000e+00, 0.0000e+00, 0.0000e+00,  ..., 0.0000e+00, 0.0000e+00,\n",
       "         0.0000e+00],\n",
       "        [0.0000e+00, 0.0000e+00, 0.0000e+00,  ..., 0.0000e+00, 0.0000e+00,\n",
       "         0.0000e+00]])"
      ]
     },
     "execution_count": 85,
     "metadata": {},
     "output_type": "execute_result"
    }
   ],
   "source": [
    "sp = graph_het_feature[0].shape\n",
    "graph_het_feature[0].reshape(sp[0]*sp[1], sp[2])"
   ]
  },
  {
   "cell_type": "code",
   "execution_count": 89,
   "metadata": {
    "scrolled": true
   },
   "outputs": [
    {
     "data": {
      "text/plain": [
       "tensor([[0.0974, 0.0971, 0.0974, 0.0970, 0.0969, 0.0976, 0.0971],\n",
       "        [0.0974, 0.0971, 0.0974, 0.0970, 0.0969, 0.0976, 0.0971],\n",
       "        [0.0974, 0.0971, 0.0974, 0.0971, 0.0969, 0.0977, 0.0970],\n",
       "        [0.0974, 0.0971, 0.0974, 0.0971, 0.0969, 0.0977, 0.0970],\n",
       "        [0.0975, 0.0972, 0.0974, 0.0971, 0.0968, 0.0977, 0.0971],\n",
       "        [0.0974, 0.0971, 0.0974, 0.0972, 0.0969, 0.0977, 0.0970],\n",
       "        [0.0975, 0.0972, 0.0973, 0.0973, 0.0969, 0.0978, 0.0970],\n",
       "        [0.0974, 0.0971, 0.0974, 0.0970, 0.0969, 0.0977, 0.0971],\n",
       "        [0.0974, 0.0971, 0.0974, 0.0970, 0.0969, 0.0977, 0.0971],\n",
       "        [0.0974, 0.0971, 0.0974, 0.0971, 0.0969, 0.0977, 0.0970]],\n",
       "       grad_fn=<SelectBackward0>)"
      ]
     },
     "execution_count": 89,
     "metadata": {},
     "output_type": "execute_result"
    }
   ],
   "source": [
    "model_children[0][0](graph_het_feature[0].reshape(sp[0]*sp[1], sp[2])).reshape(sp)[0]"
   ]
  },
  {
   "cell_type": "code",
   "execution_count": 88,
   "metadata": {},
   "outputs": [],
   "source": [
    "import matplotlib.pyplot as plt"
   ]
  },
  {
   "cell_type": "code",
   "execution_count": 96,
   "metadata": {},
   "outputs": [
    {
     "data": {
      "image/png": "[encoded data removed]",
      "text/plain": [
       "<Figure size 432x288 with 1 Axes>"
      ]
     },
     "metadata": {
      "needs_background": "light"
     },
     "output_type": "display_data"
    },
    {
     "data": {
      "text/plain": [
       "<matplotlib.image.AxesImage at 0x7f5e354f6160>"
      ]
     },
     "execution_count": 96,
     "metadata": {},
     "output_type": "execute_result"
    },
    {
     "data": {
      "image/png": "[encoded data removed]",
      "text/plain": [
       "<Figure size 432x288 with 1 Axes>"
      ]
     },
     "metadata": {
      "needs_background": "light"
     },
     "output_type": "display_data"
    }
   ],
   "source": [
    "nodeid = 0\n",
    "plt.imshow(graph_het_feature[0][nodeid])\n",
    "plt.show()\n",
    "plt.imshow(model_children[0][0](graph_het_feature[0].reshape(sp[0]*sp[1], sp[2])).reshape(sp)[nodeid].detach().numpy())"
   ]
  },
  {
   "cell_type": "code",
   "execution_count": null,
   "metadata": {},
   "outputs": [],
   "source": []
  }
 ],
 "metadata": {
  "interpreter": {
   "hash": "dd65f12e531413a9916e885ddcda4713ce1e92a965375bff78a972ca39458109"
  },
  "kernelspec": {
   "display_name": "Python 3.7.10 ('pytorch')",
   "language": "python",
   "name": "python3"
  },
  "language_info": {
   "codemirror_mode": {
    "name": "ipython",
    "version": 3
   },
   "file_extension": ".py",
   "mimetype": "text/x-python",
   "name": "python",
   "nbconvert_exporter": "python",
   "pygments_lexer": "ipython3",
   "version": "3.7.10"
  }
 },
 "nbformat": 4,
 "nbformat_minor": 4
}
