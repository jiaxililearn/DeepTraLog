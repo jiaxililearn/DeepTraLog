{
 "cells": [
  {
   "cell_type": "code",
   "execution_count": 1,
   "metadata": {},
   "outputs": [],
   "source": [
    "import sys\n",
    "sys.path.append(\"../HetGNN/code_gcn/\")\n",
    "\n",
    "graph_data_path_root = '../GraphData'\n",
    "output_root_dir = '../HetGNN/ProcessedData_clean'"
   ]
  },
  {
   "cell_type": "code",
   "execution_count": 2,
   "metadata": {},
   "outputs": [],
   "source": [
    "import json\n",
    "from collections import defaultdict\n",
    "from tqdm import tqdm\n",
    "import pandas as pd\n",
    "import numpy as np"
   ]
  },
  {
   "cell_type": "markdown",
   "metadata": {},
   "source": [
    "## Edge Index CSV"
   ]
  },
  {
   "cell_type": "code",
   "execution_count": 5,
   "metadata": {},
   "outputs": [
    {
     "name": "stderr",
     "output_type": "stream",
     "text": [
      "100%|██████████| 14721/14721 [00:07<00:00, 1881.37it/s]\n",
      "100%|██████████| 14721/14721 [00:09<00:00, 1576.59it/s]\n",
      "100%|██████████| 14721/14721 [00:10<00:00, 1394.12it/s]\n",
      "100%|██████████| 14721/14721 [00:11<00:00, 1315.37it/s]\n",
      "100%|██████████| 14721/14721 [00:12<00:00, 1153.44it/s]\n",
      "100%|██████████| 14721/14721 [00:14<00:00, 1019.04it/s]\n",
      "100%|██████████| 14720/14720 [00:15<00:00, 959.88it/s] \n",
      "100%|██████████| 14720/14720 [00:17<00:00, 848.60it/s] \n",
      "100%|██████████| 14719/14719 [00:18<00:00, 793.59it/s] \n"
     ]
    },
    {
     "data": {
      "text/html": [
       "<div>\n",
       "<style scoped>\n",
       "    .dataframe tbody tr th:only-of-type {\n",
       "        vertical-align: middle;\n",
       "    }\n",
       "\n",
       "    .dataframe tbody tr th {\n",
       "        vertical-align: top;\n",
       "    }\n",
       "\n",
       "    .dataframe thead th {\n",
       "        text-align: right;\n",
       "    }\n",
       "</style>\n",
       "<table border=\"1\" class=\"dataframe\">\n",
       "  <thead>\n",
       "    <tr style=\"text-align: right;\">\n",
       "      <th></th>\n",
       "      <th>src_id</th>\n",
       "      <th>dst_id</th>\n",
       "      <th>edge_type</th>\n",
       "      <th>trace_id</th>\n",
       "    </tr>\n",
       "  </thead>\n",
       "  <tbody>\n",
       "    <tr>\n",
       "      <th>0</th>\n",
       "      <td>0</td>\n",
       "      <td>2</td>\n",
       "      <td>0</td>\n",
       "      <td>007efb9578bc4f1ab3eab03cb5188af5.38.1629255886...</td>\n",
       "    </tr>\n",
       "    <tr>\n",
       "      <th>1</th>\n",
       "      <td>2</td>\n",
       "      <td>3</td>\n",
       "      <td>0</td>\n",
       "      <td>007efb9578bc4f1ab3eab03cb5188af5.38.1629255886...</td>\n",
       "    </tr>\n",
       "    <tr>\n",
       "      <th>2</th>\n",
       "      <td>3</td>\n",
       "      <td>4</td>\n",
       "      <td>0</td>\n",
       "      <td>007efb9578bc4f1ab3eab03cb5188af5.38.1629255886...</td>\n",
       "    </tr>\n",
       "    <tr>\n",
       "      <th>3</th>\n",
       "      <td>4</td>\n",
       "      <td>5</td>\n",
       "      <td>0</td>\n",
       "      <td>007efb9578bc4f1ab3eab03cb5188af5.38.1629255886...</td>\n",
       "    </tr>\n",
       "    <tr>\n",
       "      <th>4</th>\n",
       "      <td>5</td>\n",
       "      <td>6</td>\n",
       "      <td>0</td>\n",
       "      <td>007efb9578bc4f1ab3eab03cb5188af5.38.1629255886...</td>\n",
       "    </tr>\n",
       "    <tr>\n",
       "      <th>...</th>\n",
       "      <td>...</td>\n",
       "      <td>...</td>\n",
       "      <td>...</td>\n",
       "      <td>...</td>\n",
       "    </tr>\n",
       "    <tr>\n",
       "      <th>29677741</th>\n",
       "      <td>14</td>\n",
       "      <td>15</td>\n",
       "      <td>0</td>\n",
       "      <td>ffc3e79734424b65942466e0d8d432e2.47.1628705868...</td>\n",
       "    </tr>\n",
       "    <tr>\n",
       "      <th>29677742</th>\n",
       "      <td>15</td>\n",
       "      <td>16</td>\n",
       "      <td>0</td>\n",
       "      <td>ffc3e79734424b65942466e0d8d432e2.47.1628705868...</td>\n",
       "    </tr>\n",
       "    <tr>\n",
       "      <th>29677743</th>\n",
       "      <td>16</td>\n",
       "      <td>17</td>\n",
       "      <td>0</td>\n",
       "      <td>ffc3e79734424b65942466e0d8d432e2.47.1628705868...</td>\n",
       "    </tr>\n",
       "    <tr>\n",
       "      <th>29677744</th>\n",
       "      <td>17</td>\n",
       "      <td>18</td>\n",
       "      <td>0</td>\n",
       "      <td>ffc3e79734424b65942466e0d8d432e2.47.1628705868...</td>\n",
       "    </tr>\n",
       "    <tr>\n",
       "      <th>29677745</th>\n",
       "      <td>18</td>\n",
       "      <td>1</td>\n",
       "      <td>0</td>\n",
       "      <td>ffc3e79734424b65942466e0d8d432e2.47.1628705868...</td>\n",
       "    </tr>\n",
       "  </tbody>\n",
       "</table>\n",
       "<p>29677746 rows × 4 columns</p>\n",
       "</div>"
      ],
      "text/plain": [
       "          src_id  dst_id  edge_type  \\\n",
       "0              0       2          0   \n",
       "1              2       3          0   \n",
       "2              3       4          0   \n",
       "3              4       5          0   \n",
       "4              5       6          0   \n",
       "...          ...     ...        ...   \n",
       "29677741      14      15          0   \n",
       "29677742      15      16          0   \n",
       "29677743      16      17          0   \n",
       "29677744      17      18          0   \n",
       "29677745      18       1          0   \n",
       "\n",
       "                                                   trace_id  \n",
       "0         007efb9578bc4f1ab3eab03cb5188af5.38.1629255886...  \n",
       "1         007efb9578bc4f1ab3eab03cb5188af5.38.1629255886...  \n",
       "2         007efb9578bc4f1ab3eab03cb5188af5.38.1629255886...  \n",
       "3         007efb9578bc4f1ab3eab03cb5188af5.38.1629255886...  \n",
       "4         007efb9578bc4f1ab3eab03cb5188af5.38.1629255886...  \n",
       "...                                                     ...  \n",
       "29677741  ffc3e79734424b65942466e0d8d432e2.47.1628705868...  \n",
       "29677742  ffc3e79734424b65942466e0d8d432e2.47.1628705868...  \n",
       "29677743  ffc3e79734424b65942466e0d8d432e2.47.1628705868...  \n",
       "29677744  ffc3e79734424b65942466e0d8d432e2.47.1628705868...  \n",
       "29677745  ffc3e79734424b65942466e0d8d432e2.47.1628705868...  \n",
       "\n",
       "[29677746 rows x 4 columns]"
      ]
     },
     "execution_count": 5,
     "metadata": {},
     "output_type": "execute_result"
    }
   ],
   "source": [
    "edge_details = defaultdict(list)\n",
    "for idx in range(0, 9):\n",
    "    with open(f'{graph_data_path_root}/process{idx}.jsons', 'r') as fin:\n",
    "        for line in tqdm(fin.readlines()):\n",
    "            trace = json.loads(line)\n",
    "            node_info = trace['node_info']\n",
    "            for (src_id, dst_id), edge_type in zip(trace['edge_index'], trace['edge_attr']):\n",
    "                edge_details['src_id'].append(int(src_id))\n",
    "                edge_details['dst_id'].append(int(dst_id))\n",
    "                edge_details['edge_type'].append(edge_type)\n",
    "                edge_details['trace_id'].append(trace['trace_id'])\n",
    "edge_details_df = pd.DataFrame(edge_details)\n",
    "edge_details_df"
   ]
  },
  {
   "cell_type": "code",
   "execution_count": 7,
   "metadata": {},
   "outputs": [],
   "source": [
    "with open(f'{output_root_dir}/trace_id_to_idx.json', 'r') as fin:\n",
    "    trace_id_to_idx = json.load(fin)"
   ]
  },
  {
   "cell_type": "code",
   "execution_count": 9,
   "metadata": {},
   "outputs": [
    {
     "data": {
      "text/html": [
       "<div>\n",
       "<style scoped>\n",
       "    .dataframe tbody tr th:only-of-type {\n",
       "        vertical-align: middle;\n",
       "    }\n",
       "\n",
       "    .dataframe tbody tr th {\n",
       "        vertical-align: top;\n",
       "    }\n",
       "\n",
       "    .dataframe thead th {\n",
       "        text-align: right;\n",
       "    }\n",
       "</style>\n",
       "<table border=\"1\" class=\"dataframe\">\n",
       "  <thead>\n",
       "    <tr style=\"text-align: right;\">\n",
       "      <th></th>\n",
       "      <th>src_id</th>\n",
       "      <th>dst_id</th>\n",
       "      <th>edge_type</th>\n",
       "      <th>trace_id</th>\n",
       "    </tr>\n",
       "  </thead>\n",
       "  <tbody>\n",
       "    <tr>\n",
       "      <th>0</th>\n",
       "      <td>0</td>\n",
       "      <td>2</td>\n",
       "      <td>0</td>\n",
       "      <td>0</td>\n",
       "    </tr>\n",
       "    <tr>\n",
       "      <th>1</th>\n",
       "      <td>2</td>\n",
       "      <td>3</td>\n",
       "      <td>0</td>\n",
       "      <td>0</td>\n",
       "    </tr>\n",
       "    <tr>\n",
       "      <th>2</th>\n",
       "      <td>3</td>\n",
       "      <td>4</td>\n",
       "      <td>0</td>\n",
       "      <td>0</td>\n",
       "    </tr>\n",
       "    <tr>\n",
       "      <th>3</th>\n",
       "      <td>4</td>\n",
       "      <td>5</td>\n",
       "      <td>0</td>\n",
       "      <td>0</td>\n",
       "    </tr>\n",
       "    <tr>\n",
       "      <th>4</th>\n",
       "      <td>5</td>\n",
       "      <td>6</td>\n",
       "      <td>0</td>\n",
       "      <td>0</td>\n",
       "    </tr>\n",
       "    <tr>\n",
       "      <th>...</th>\n",
       "      <td>...</td>\n",
       "      <td>...</td>\n",
       "      <td>...</td>\n",
       "      <td>...</td>\n",
       "    </tr>\n",
       "    <tr>\n",
       "      <th>29677741</th>\n",
       "      <td>14</td>\n",
       "      <td>15</td>\n",
       "      <td>0</td>\n",
       "      <td>132484</td>\n",
       "    </tr>\n",
       "    <tr>\n",
       "      <th>29677742</th>\n",
       "      <td>15</td>\n",
       "      <td>16</td>\n",
       "      <td>0</td>\n",
       "      <td>132484</td>\n",
       "    </tr>\n",
       "    <tr>\n",
       "      <th>29677743</th>\n",
       "      <td>16</td>\n",
       "      <td>17</td>\n",
       "      <td>0</td>\n",
       "      <td>132484</td>\n",
       "    </tr>\n",
       "    <tr>\n",
       "      <th>29677744</th>\n",
       "      <td>17</td>\n",
       "      <td>18</td>\n",
       "      <td>0</td>\n",
       "      <td>132484</td>\n",
       "    </tr>\n",
       "    <tr>\n",
       "      <th>29677745</th>\n",
       "      <td>18</td>\n",
       "      <td>1</td>\n",
       "      <td>0</td>\n",
       "      <td>132484</td>\n",
       "    </tr>\n",
       "  </tbody>\n",
       "</table>\n",
       "<p>29677746 rows × 4 columns</p>\n",
       "</div>"
      ],
      "text/plain": [
       "          src_id  dst_id  edge_type  trace_id\n",
       "0              0       2          0         0\n",
       "1              2       3          0         0\n",
       "2              3       4          0         0\n",
       "3              4       5          0         0\n",
       "4              5       6          0         0\n",
       "...          ...     ...        ...       ...\n",
       "29677741      14      15          0    132484\n",
       "29677742      15      16          0    132484\n",
       "29677743      16      17          0    132484\n",
       "29677744      17      18          0    132484\n",
       "29677745      18       1          0    132484\n",
       "\n",
       "[29677746 rows x 4 columns]"
      ]
     },
     "execution_count": 9,
     "metadata": {},
     "output_type": "execute_result"
    }
   ],
   "source": [
    "edge_details_df['trace_id'] = edge_details_df['trace_id'].apply(lambda x: trace_id_to_idx[x])\n",
    "edge_details_df"
   ]
  },
  {
   "cell_type": "code",
   "execution_count": 10,
   "metadata": {},
   "outputs": [],
   "source": [
    "edge_details_df.to_csv(f'{output_root_dir}/edge_index.csv')"
   ]
  },
  {
   "cell_type": "code",
   "execution_count": 22,
   "metadata": {},
   "outputs": [
    {
     "data": {
      "text/plain": [
       "array([[  0,   2],\n",
       "       [  2,   3],\n",
       "       [  3,   4],\n",
       "       ...,\n",
       "       [827, 761],\n",
       "       [832,  72],\n",
       "       [837,  73]])"
      ]
     },
     "execution_count": 22,
     "metadata": {},
     "output_type": "execute_result"
    }
   ],
   "source": [
    "edge_details_df[edge_details_df.trace_id == 1][['src_id', 'dst_id']].values"
   ]
  },
  {
   "cell_type": "markdown",
   "metadata": {},
   "source": [
    "## GCN Model"
   ]
  },
  {
   "cell_type": "code",
   "execution_count": 3,
   "metadata": {},
   "outputs": [],
   "source": [
    "%load_ext autoreload\n",
    "%autoreload 2"
   ]
  },
  {
   "cell_type": "code",
   "execution_count": 4,
   "metadata": {},
   "outputs": [],
   "source": [
    "import torch_geometric\n",
    "from data_loader import EventGraphDataset\n",
    "from GCN_2 import HetGCN_2"
   ]
  },
  {
   "cell_type": "code",
   "execution_count": 5,
   "metadata": {},
   "outputs": [],
   "source": [
    "model = HetGCN_2()"
   ]
  },
  {
   "cell_type": "code",
   "execution_count": 6,
   "metadata": {},
   "outputs": [
    {
     "name": "stdout",
     "output_type": "stream",
     "text": [
      "reading node features..\n",
      "reading edge index..\n",
      "done\n"
     ]
    }
   ],
   "source": [
    "dataset = EventGraphDataset(\n",
    "    node_feature_csv=f'{output_root_dir}/node_feature_norm.csv',\n",
    "    edge_index_csv=f'{output_root_dir}/edge_index.csv',\n",
    "    het_types=False,\n",
    "    unzip=False\n",
    ")"
   ]
  },
  {
   "cell_type": "code",
   "execution_count": 7,
   "metadata": {},
   "outputs": [
    {
     "data": {
      "text/plain": [
       "(tensor([[ 2.3552e-04,  2.6773e-04, -1.8384e-05,  ...,  0.0000e+00,\n",
       "           0.0000e+00,  2.6262e-04],\n",
       "         [ 2.3552e-04,  2.6773e-04, -1.8384e-05,  ...,  1.0313e-04,\n",
       "           0.0000e+00,  2.6278e-04],\n",
       "         [ 8.0982e-05,  2.6773e-04, -1.8384e-05,  ...,  2.0626e-04,\n",
       "           0.0000e+00,  7.9132e-05],\n",
       "         ...,\n",
       "         [ 3.8716e-06,  1.2357e-04,  2.3899e-04,  ...,  2.0626e-04,\n",
       "           4.9475e-04,  3.7832e-06],\n",
       "         [ 2.2149e-04,  1.2357e-04,  1.1030e-04,  ...,  2.5782e-04,\n",
       "           4.9622e-04,  2.2116e-04],\n",
       "         [ 2.2149e-04,  1.2357e-04,  1.1030e-04,  ...,  2.5782e-04,\n",
       "           4.9768e-04,  2.2116e-04]], device='cuda:0'),\n",
       " tensor([[  0,   2,   2,  ..., 557, 557, 558],\n",
       "         [558, 559, 559,  ..., 700, 837,  73]], device='cuda:0'))"
      ]
     },
     "execution_count": 7,
     "metadata": {},
     "output_type": "execute_result"
    }
   ],
   "source": [
    "dataset[0]"
   ]
  },
  {
   "cell_type": "code",
   "execution_count": 8,
   "metadata": {},
   "outputs": [
    {
     "data": {
      "text/plain": [
       "(torch.Size([2, 962]), torch.Size([841, 7]))"
      ]
     },
     "execution_count": 8,
     "metadata": {},
     "output_type": "execute_result"
    }
   ],
   "source": [
    "dataset[0][1].shape, dataset[0][0].shape"
   ]
  },
  {
   "cell_type": "code",
   "execution_count": 10,
   "metadata": {},
   "outputs": [],
   "source": [
    "model = model.to(model.device)"
   ]
  },
  {
   "cell_type": "code",
   "execution_count": 11,
   "metadata": {},
   "outputs": [
    {
     "data": {
      "text/plain": [
       "tensor([[-1.1074e-04,  3.4899e-05, -1.9909e-04,  ..., -6.8256e-05,\n",
       "         -3.5533e-05,  1.4146e-04],\n",
       "        [-1.3763e-04,  4.7052e-05, -2.0909e-04,  ..., -7.1569e-05,\n",
       "         -4.3488e-05,  1.2540e-04],\n",
       "        [-4.8396e-05,  6.4910e-05, -1.5033e-04,  ..., -6.2435e-05,\n",
       "          1.8504e-05,  2.3289e-07],\n",
       "        ...,\n",
       "        [-1.4363e-04,  1.0350e-04, -1.3349e-04,  ..., -7.3318e-05,\n",
       "         -7.2670e-07, -1.0341e-04],\n",
       "        [-2.7034e-04,  6.4225e-05, -2.0524e-04,  ..., -9.4051e-05,\n",
       "         -9.2819e-05,  7.3371e-05],\n",
       "        [-2.1153e-04,  9.0652e-05, -1.7076e-04,  ..., -8.8840e-05,\n",
       "         -2.5935e-05, -7.7717e-05]], device='cuda:0', grad_fn=<AddBackward0>)"
      ]
     },
     "execution_count": 11,
     "metadata": {},
     "output_type": "execute_result"
    }
   ],
   "source": [
    "model(dataset[0][0], dataset[0][1])"
   ]
  },
  {
   "cell_type": "code",
   "execution_count": null,
   "metadata": {},
   "outputs": [],
   "source": []
  },
  {
   "cell_type": "code",
   "execution_count": null,
   "metadata": {},
   "outputs": [],
   "source": []
  }
 ],
 "metadata": {
  "interpreter": {
   "hash": "dd65f12e531413a9916e885ddcda4713ce1e92a965375bff78a972ca39458109"
  },
  "kernelspec": {
   "display_name": "conda_python3",
   "language": "python",
   "name": "conda_python3"
  },
  "language_info": {
   "codemirror_mode": {
    "name": "ipython",
    "version": 3
   },
   "file_extension": ".py",
   "mimetype": "text/x-python",
   "name": "python",
   "nbconvert_exporter": "python",
   "pygments_lexer": "ipython3",
   "version": "3.6.13"
  }
 },
 "nbformat": 4,
 "nbformat_minor": 4
}
