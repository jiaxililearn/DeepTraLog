{
 "cells": [
  {
   "cell_type": "code",
   "execution_count": 10,
   "metadata": {},
   "outputs": [],
   "source": [
    "import plotly.express as px\n",
    "from plotly.subplots import make_subplots\n",
    "import plotly.graph_objects as go\n",
    "import pandas as pd"
   ]
  },
  {
   "cell_type": "code",
   "execution_count": 2,
   "metadata": {},
   "outputs": [],
   "source": [
    "loss = [\n",
    "    5.958363008499146,\n",
    "5.849833154678345,\n",
    "5.745797204971313,\n",
    "5.64349217414856,\n",
    "5.543002367019653,\n",
    "5.444393968582153,\n",
    "5.347752094268799,\n",
    "5.253118467330933,\n",
    "5.160498523712159,\n",
    "5.069881296157837,\n",
    "4.981241893768311,\n",
    "4.894545173645019,\n",
    "4.8097516059875485,\n",
    "4.726816129684448,\n",
    "4.645690488815307,\n",
    "4.566326570510864,\n",
    "4.4886730194091795,\n",
    "4.41268310546875,\n",
    "4.338305807113647,\n",
    "4.2654932022094725,\n",
    "4.194197654724121,\n",
    "4.1243737697601315,\n",
    "4.055975914001465,\n",
    "3.98896164894104,\n",
    "3.9232882976531984,\n",
    "3.858916449546814,\n",
    "3.7958057641983034,\n",
    "3.733920526504517,\n",
    "3.6732239723205566,\n",
    "3.613681364059448,\n",
    "3.555260157585144,\n",
    "3.4979292869567873,\n",
    "3.441657543182373,\n",
    "3.3864156007766724,\n",
    "3.332177233695984,\n",
    "3.2789136171340942,\n",
    "3.2266008138656614,\n",
    "3.1752141952514648,\n",
    "3.124730634689331,\n",
    "3.0751269817352296,\n",
    "3.0263821840286256,\n",
    "2.9784759283065796,\n",
    "2.9313873767852785,\n",
    "2.885099196434021,\n",
    "2.8395916223526,\n",
    "2.7948477029800416,\n",
    "2.7508511304855348,\n",
    "2.7075848817825316,\n",
    "2.665034222602844,\n",
    "2.62318332195282,\n",
    "2.5820182085037233,\n",
    "2.541524362564087,\n",
    "2.5016881465911864,\n",
    "2.462497520446777,\n",
    "2.423938846588135,\n",
    "2.3860006809234617,\n",
    "2.348670721054077,\n",
    "2.3119372129440308,\n",
    "2.275789260864258,\n",
    "2.240216088294983,\n",
    "2.2052072525024413,\n",
    "2.1707522869110107,\n",
    "2.1368412256240843,\n",
    "2.103464722633362,\n",
    "2.0706132650375366\n",
    "]"
   ]
  },
  {
   "cell_type": "code",
   "execution_count": 3,
   "metadata": {},
   "outputs": [],
   "source": [
    "step_time = [\n",
    "    646933.8536262512,\n",
    "650135.9536647797,\n",
    "657640.7971382141,\n",
    "665030.49659729,\n",
    "663323.7574100494,\n",
    "661190.5391216278,\n",
    "667406.2581062317,\n",
    "667332.7586650848,\n",
    "666179.7528266907,\n",
    "668072.2165107727,\n",
    "663506.5879821777,\n",
    "663401.4086723328,\n",
    "681264.547586441,\n",
    "667879.9383640289,\n",
    "676237.918138504,\n",
    "675627.4049282074,\n",
    "676155.3356647491,\n",
    "673391.6783332825,\n",
    "667570.2357292175,\n",
    "669844.4817066193,\n",
    "674930.9275150299,\n",
    "670796.0278987885,\n",
    "674321.3002681732,\n",
    "669621.7114925385,\n",
    "673197.539806366,\n",
    "670289.7703647614,\n",
    "682828.5851478577,\n",
    "674516.4008140564,\n",
    "677540.1437282562,\n",
    "671563.3869171143,\n",
    "666766.4604187012,\n",
    "683001.3689994812,\n",
    "678273.1478214264,\n",
    "675819.7166919708,\n",
    "668367.2578334808,\n",
    "672932.5830936432,\n",
    "683061.7945194244,\n",
    "673012.3145580292,\n",
    "679326.4067173004,\n",
    "676135.8585357666,\n",
    "676774.1541862488,\n",
    "677144.140958786,\n",
    "671872.3673820496,\n",
    "674339.6096229553,\n",
    "674069.1316127777,\n",
    "687086.9228839874,\n",
    "676899.3501663208,\n",
    "671197.7393627167,\n",
    "674268.0222988129,\n",
    "675746.1726665497,\n",
    "672406.8059921265,\n",
    "674755.7706832886,\n",
    "675440.5817985535,\n",
    "673281.2168598175,\n",
    "672011.6510391235,\n",
    "673944.144487381,\n",
    "669224.4544029236,\n",
    "671440.6011104584,\n",
    "667857.4161529541,\n",
    "674686.2165927887,\n",
    "676247.8301525116,\n",
    "666733.2344055176,\n",
    "676899.3709087372,\n",
    "674005.5327415466,\n",
    "674956.371307373,\n",
    "]"
   ]
  },
  {
   "cell_type": "code",
   "execution_count": 4,
   "metadata": {},
   "outputs": [],
   "source": [
    "auc = [\n",
    "    0.4949891430040774,\n",
    "0.4962481333186398,\n",
    "0.49544836253658053,\n",
    "0.49623304999448997,\n",
    "0.4961662496173579,\n",
    "0.4965102038717262,\n",
    "0.4969562051696482,\n",
    "0.4972172510989482,\n",
    "0.4972808032423563,\n",
    "0.4972220294114046,\n",
    "0.49671096156436345,\n",
    "0.4966663796544588,\n",
    "0.49631029839963753\n",
    "]"
   ]
  },
  {
   "cell_type": "code",
   "execution_count": 5,
   "metadata": {},
   "outputs": [],
   "source": [
    "ap = [\n",
    "    0.34450101943290407,\n",
    "0.3459338908937945,\n",
    "0.3454228347662682,\n",
    "0.3458049988897707,\n",
    "0.3457122846034151,\n",
    "0.34550350698907734,\n",
    "0.3457095004187576,\n",
    "0.3458724999365576,\n",
    "0.3459968756576771,\n",
    "0.34608074951270257,\n",
    "0.3457103572438601,\n",
    "0.3455440551577097,\n",
    "0.34492660806165415\n",
    "]"
   ]
  },
  {
   "cell_type": "code",
   "execution_count": 7,
   "metadata": {},
   "outputs": [
    {
     "data": {
      "text/html": [
       "<div>\n",
       "<style scoped>\n",
       "    .dataframe tbody tr th:only-of-type {\n",
       "        vertical-align: middle;\n",
       "    }\n",
       "\n",
       "    .dataframe tbody tr th {\n",
       "        vertical-align: top;\n",
       "    }\n",
       "\n",
       "    .dataframe thead th {\n",
       "        text-align: right;\n",
       "    }\n",
       "</style>\n",
       "<table border=\"1\" class=\"dataframe\">\n",
       "  <thead>\n",
       "    <tr style=\"text-align: right;\">\n",
       "      <th></th>\n",
       "      <th>index</th>\n",
       "      <th>loss</th>\n",
       "      <th>step_time</th>\n",
       "    </tr>\n",
       "  </thead>\n",
       "  <tbody>\n",
       "    <tr>\n",
       "      <th>0</th>\n",
       "      <td>0</td>\n",
       "      <td>5.958363</td>\n",
       "      <td>646933.853626</td>\n",
       "    </tr>\n",
       "    <tr>\n",
       "      <th>1</th>\n",
       "      <td>1</td>\n",
       "      <td>5.849833</td>\n",
       "      <td>650135.953665</td>\n",
       "    </tr>\n",
       "    <tr>\n",
       "      <th>2</th>\n",
       "      <td>2</td>\n",
       "      <td>5.745797</td>\n",
       "      <td>657640.797138</td>\n",
       "    </tr>\n",
       "    <tr>\n",
       "      <th>3</th>\n",
       "      <td>3</td>\n",
       "      <td>5.643492</td>\n",
       "      <td>665030.496597</td>\n",
       "    </tr>\n",
       "    <tr>\n",
       "      <th>4</th>\n",
       "      <td>4</td>\n",
       "      <td>5.543002</td>\n",
       "      <td>663323.757410</td>\n",
       "    </tr>\n",
       "    <tr>\n",
       "      <th>...</th>\n",
       "      <td>...</td>\n",
       "      <td>...</td>\n",
       "      <td>...</td>\n",
       "    </tr>\n",
       "    <tr>\n",
       "      <th>60</th>\n",
       "      <td>60</td>\n",
       "      <td>2.205207</td>\n",
       "      <td>676247.830153</td>\n",
       "    </tr>\n",
       "    <tr>\n",
       "      <th>61</th>\n",
       "      <td>61</td>\n",
       "      <td>2.170752</td>\n",
       "      <td>666733.234406</td>\n",
       "    </tr>\n",
       "    <tr>\n",
       "      <th>62</th>\n",
       "      <td>62</td>\n",
       "      <td>2.136841</td>\n",
       "      <td>676899.370909</td>\n",
       "    </tr>\n",
       "    <tr>\n",
       "      <th>63</th>\n",
       "      <td>63</td>\n",
       "      <td>2.103465</td>\n",
       "      <td>674005.532742</td>\n",
       "    </tr>\n",
       "    <tr>\n",
       "      <th>64</th>\n",
       "      <td>64</td>\n",
       "      <td>2.070613</td>\n",
       "      <td>674956.371307</td>\n",
       "    </tr>\n",
       "  </tbody>\n",
       "</table>\n",
       "<p>65 rows × 3 columns</p>\n",
       "</div>"
      ],
      "text/plain": [
       "    index      loss      step_time\n",
       "0       0  5.958363  646933.853626\n",
       "1       1  5.849833  650135.953665\n",
       "2       2  5.745797  657640.797138\n",
       "3       3  5.643492  665030.496597\n",
       "4       4  5.543002  663323.757410\n",
       "..    ...       ...            ...\n",
       "60     60  2.205207  676247.830153\n",
       "61     61  2.170752  666733.234406\n",
       "62     62  2.136841  676899.370909\n",
       "63     63  2.103465  674005.532742\n",
       "64     64  2.070613  674956.371307\n",
       "\n",
       "[65 rows x 3 columns]"
      ]
     },
     "execution_count": 7,
     "metadata": {},
     "output_type": "execute_result"
    }
   ],
   "source": [
    "loss_df = pd.DataFrame()\n",
    "loss_df['loss'] = loss \n",
    "loss_df['step_time'] = step_time\n",
    "loss_df = loss_df.reset_index()\n",
    "\n",
    "loss_df"
   ]
  },
  {
   "cell_type": "code",
   "execution_count": 11,
   "metadata": {},
   "outputs": [
    {
     "data": {
      "text/html": [
       "<div>\n",
       "<style scoped>\n",
       "    .dataframe tbody tr th:only-of-type {\n",
       "        vertical-align: middle;\n",
       "    }\n",
       "\n",
       "    .dataframe tbody tr th {\n",
       "        vertical-align: top;\n",
       "    }\n",
       "\n",
       "    .dataframe thead th {\n",
       "        text-align: right;\n",
       "    }\n",
       "</style>\n",
       "<table border=\"1\" class=\"dataframe\">\n",
       "  <thead>\n",
       "    <tr style=\"text-align: right;\">\n",
       "      <th></th>\n",
       "      <th>index</th>\n",
       "      <th>auc</th>\n",
       "      <th>ap</th>\n",
       "    </tr>\n",
       "  </thead>\n",
       "  <tbody>\n",
       "    <tr>\n",
       "      <th>0</th>\n",
       "      <td>0</td>\n",
       "      <td>0.494989</td>\n",
       "      <td>0.344501</td>\n",
       "    </tr>\n",
       "    <tr>\n",
       "      <th>1</th>\n",
       "      <td>5</td>\n",
       "      <td>0.496248</td>\n",
       "      <td>0.345934</td>\n",
       "    </tr>\n",
       "    <tr>\n",
       "      <th>2</th>\n",
       "      <td>10</td>\n",
       "      <td>0.495448</td>\n",
       "      <td>0.345423</td>\n",
       "    </tr>\n",
       "    <tr>\n",
       "      <th>3</th>\n",
       "      <td>15</td>\n",
       "      <td>0.496233</td>\n",
       "      <td>0.345805</td>\n",
       "    </tr>\n",
       "    <tr>\n",
       "      <th>4</th>\n",
       "      <td>20</td>\n",
       "      <td>0.496166</td>\n",
       "      <td>0.345712</td>\n",
       "    </tr>\n",
       "    <tr>\n",
       "      <th>5</th>\n",
       "      <td>25</td>\n",
       "      <td>0.496510</td>\n",
       "      <td>0.345504</td>\n",
       "    </tr>\n",
       "    <tr>\n",
       "      <th>6</th>\n",
       "      <td>30</td>\n",
       "      <td>0.496956</td>\n",
       "      <td>0.345710</td>\n",
       "    </tr>\n",
       "    <tr>\n",
       "      <th>7</th>\n",
       "      <td>35</td>\n",
       "      <td>0.497217</td>\n",
       "      <td>0.345872</td>\n",
       "    </tr>\n",
       "    <tr>\n",
       "      <th>8</th>\n",
       "      <td>40</td>\n",
       "      <td>0.497281</td>\n",
       "      <td>0.345997</td>\n",
       "    </tr>\n",
       "    <tr>\n",
       "      <th>9</th>\n",
       "      <td>45</td>\n",
       "      <td>0.497222</td>\n",
       "      <td>0.346081</td>\n",
       "    </tr>\n",
       "    <tr>\n",
       "      <th>10</th>\n",
       "      <td>50</td>\n",
       "      <td>0.496711</td>\n",
       "      <td>0.345710</td>\n",
       "    </tr>\n",
       "    <tr>\n",
       "      <th>11</th>\n",
       "      <td>55</td>\n",
       "      <td>0.496666</td>\n",
       "      <td>0.345544</td>\n",
       "    </tr>\n",
       "    <tr>\n",
       "      <th>12</th>\n",
       "      <td>60</td>\n",
       "      <td>0.496310</td>\n",
       "      <td>0.344927</td>\n",
       "    </tr>\n",
       "  </tbody>\n",
       "</table>\n",
       "</div>"
      ],
      "text/plain": [
       "    index       auc        ap\n",
       "0       0  0.494989  0.344501\n",
       "1       5  0.496248  0.345934\n",
       "2      10  0.495448  0.345423\n",
       "3      15  0.496233  0.345805\n",
       "4      20  0.496166  0.345712\n",
       "5      25  0.496510  0.345504\n",
       "6      30  0.496956  0.345710\n",
       "7      35  0.497217  0.345872\n",
       "8      40  0.497281  0.345997\n",
       "9      45  0.497222  0.346081\n",
       "10     50  0.496711  0.345710\n",
       "11     55  0.496666  0.345544\n",
       "12     60  0.496310  0.344927"
      ]
     },
     "execution_count": 11,
     "metadata": {},
     "output_type": "execute_result"
    }
   ],
   "source": [
    "eval_df = pd.DataFrame()\n",
    "eval_df['auc'] = auc\n",
    "eval_df['ap'] = ap\n",
    "eval_df = eval_df.reset_index()\n",
    "eval_df['index'] = eval_df['index'] * 5\n",
    "\n",
    "eval_df"
   ]
  },
  {
   "cell_type": "code",
   "execution_count": 12,
   "metadata": {},
   "outputs": [
    {
     "data": {
      "application/vnd.plotly.v1+json": {
       "config": {
        "plotlyServerURL": "https://plot.ly"
       },
       "data": [
        {
         "mode": "lines",
         "name": "auc",
         "type": "scatter",
         "x": [
          0,
          5,
          10,
          15,
          20,
          25,
          30,
          35,
          40,
          45,
          50,
          55,
          60
         ],
         "xaxis": "x",
         "y": [
          0.4949891430040774,
          0.4962481333186398,
          0.49544836253658053,
          0.49623304999448997,
          0.4961662496173579,
          0.4965102038717262,
          0.4969562051696482,
          0.4972172510989482,
          0.4972808032423563,
          0.4972220294114046,
          0.49671096156436345,
          0.4966663796544588,
          0.49631029839963753
         ],
         "yaxis": "y"
        },
        {
         "mode": "lines",
         "name": "ap",
         "type": "scatter",
         "x": [
          0,
          5,
          10,
          15,
          20,
          25,
          30,
          35,
          40,
          45,
          50,
          55,
          60
         ],
         "xaxis": "x",
         "y": [
          0.34450101943290407,
          0.3459338908937945,
          0.3454228347662682,
          0.3458049988897707,
          0.3457122846034151,
          0.34550350698907734,
          0.3457095004187576,
          0.3458724999365576,
          0.3459968756576771,
          0.34608074951270257,
          0.3457103572438601,
          0.3455440551577097,
          0.34492660806165415
         ],
         "yaxis": "y"
        },
        {
         "mode": "lines",
         "name": "loss",
         "type": "scatter",
         "x": [
          0,
          1,
          2,
          3,
          4,
          5,
          6,
          7,
          8,
          9,
          10,
          11,
          12,
          13,
          14,
          15,
          16,
          17,
          18,
          19,
          20,
          21,
          22,
          23,
          24,
          25,
          26,
          27,
          28,
          29,
          30,
          31,
          32,
          33,
          34,
          35,
          36,
          37,
          38,
          39,
          40,
          41,
          42,
          43,
          44,
          45,
          46,
          47,
          48,
          49,
          50,
          51,
          52,
          53,
          54,
          55,
          56,
          57,
          58,
          59,
          60,
          61,
          62,
          63,
          64
         ],
         "xaxis": "x",
         "y": [
          5.958363008499146,
          5.849833154678345,
          5.745797204971313,
          5.64349217414856,
          5.543002367019653,
          5.444393968582153,
          5.347752094268799,
          5.253118467330933,
          5.160498523712159,
          5.069881296157837,
          4.981241893768311,
          4.894545173645019,
          4.8097516059875485,
          4.726816129684448,
          4.645690488815307,
          4.566326570510864,
          4.4886730194091795,
          4.41268310546875,
          4.338305807113647,
          4.2654932022094725,
          4.194197654724121,
          4.1243737697601315,
          4.055975914001465,
          3.98896164894104,
          3.9232882976531984,
          3.858916449546814,
          3.7958057641983034,
          3.733920526504517,
          3.6732239723205566,
          3.613681364059448,
          3.555260157585144,
          3.4979292869567873,
          3.441657543182373,
          3.3864156007766724,
          3.332177233695984,
          3.2789136171340942,
          3.2266008138656614,
          3.1752141952514648,
          3.124730634689331,
          3.0751269817352296,
          3.0263821840286256,
          2.9784759283065796,
          2.9313873767852785,
          2.885099196434021,
          2.8395916223526,
          2.7948477029800416,
          2.7508511304855348,
          2.7075848817825316,
          2.665034222602844,
          2.62318332195282,
          2.5820182085037233,
          2.541524362564087,
          2.5016881465911864,
          2.462497520446777,
          2.423938846588135,
          2.3860006809234617,
          2.348670721054077,
          2.3119372129440308,
          2.275789260864258,
          2.240216088294983,
          2.2052072525024413,
          2.1707522869110107,
          2.1368412256240843,
          2.103464722633362,
          2.0706132650375366
         ],
         "yaxis": "y2"
        }
       ],
       "layout": {
        "template": {
         "data": {
          "bar": [
           {
            "error_x": {
             "color": "#2a3f5f"
            },
            "error_y": {
             "color": "#2a3f5f"
            },
            "marker": {
             "line": {
              "color": "#E5ECF6",
              "width": 0.5
             }
            },
            "type": "bar"
           }
          ],
          "barpolar": [
           {
            "marker": {
             "line": {
              "color": "#E5ECF6",
              "width": 0.5
             }
            },
            "type": "barpolar"
           }
          ],
          "carpet": [
           {
            "aaxis": {
             "endlinecolor": "#2a3f5f",
             "gridcolor": "white",
             "linecolor": "white",
             "minorgridcolor": "white",
             "startlinecolor": "#2a3f5f"
            },
            "baxis": {
             "endlinecolor": "#2a3f5f",
             "gridcolor": "white",
             "linecolor": "white",
             "minorgridcolor": "white",
             "startlinecolor": "#2a3f5f"
            },
            "type": "carpet"
           }
          ],
          "choropleth": [
           {
            "colorbar": {
             "outlinewidth": 0,
             "ticks": ""
            },
            "type": "choropleth"
           }
          ],
          "contour": [
           {
            "colorbar": {
             "outlinewidth": 0,
             "ticks": ""
            },
            "colorscale": [
             [
              0,
              "#0d0887"
             ],
             [
              0.1111111111111111,
              "#46039f"
             ],
             [
              0.2222222222222222,
              "#7201a8"
             ],
             [
              0.3333333333333333,
              "#9c179e"
             ],
             [
              0.4444444444444444,
              "#bd3786"
             ],
             [
              0.5555555555555556,
              "#d8576b"
             ],
             [
              0.6666666666666666,
              "#ed7953"
             ],
             [
              0.7777777777777778,
              "#fb9f3a"
             ],
             [
              0.8888888888888888,
              "#fdca26"
             ],
             [
              1,
              "#f0f921"
             ]
            ],
            "type": "contour"
           }
          ],
          "contourcarpet": [
           {
            "colorbar": {
             "outlinewidth": 0,
             "ticks": ""
            },
            "type": "contourcarpet"
           }
          ],
          "heatmap": [
           {
            "colorbar": {
             "outlinewidth": 0,
             "ticks": ""
            },
            "colorscale": [
             [
              0,
              "#0d0887"
             ],
             [
              0.1111111111111111,
              "#46039f"
             ],
             [
              0.2222222222222222,
              "#7201a8"
             ],
             [
              0.3333333333333333,
              "#9c179e"
             ],
             [
              0.4444444444444444,
              "#bd3786"
             ],
             [
              0.5555555555555556,
              "#d8576b"
             ],
             [
              0.6666666666666666,
              "#ed7953"
             ],
             [
              0.7777777777777778,
              "#fb9f3a"
             ],
             [
              0.8888888888888888,
              "#fdca26"
             ],
             [
              1,
              "#f0f921"
             ]
            ],
            "type": "heatmap"
           }
          ],
          "heatmapgl": [
           {
            "colorbar": {
             "outlinewidth": 0,
             "ticks": ""
            },
            "colorscale": [
             [
              0,
              "#0d0887"
             ],
             [
              0.1111111111111111,
              "#46039f"
             ],
             [
              0.2222222222222222,
              "#7201a8"
             ],
             [
              0.3333333333333333,
              "#9c179e"
             ],
             [
              0.4444444444444444,
              "#bd3786"
             ],
             [
              0.5555555555555556,
              "#d8576b"
             ],
             [
              0.6666666666666666,
              "#ed7953"
             ],
             [
              0.7777777777777778,
              "#fb9f3a"
             ],
             [
              0.8888888888888888,
              "#fdca26"
             ],
             [
              1,
              "#f0f921"
             ]
            ],
            "type": "heatmapgl"
           }
          ],
          "histogram": [
           {
            "marker": {
             "colorbar": {
              "outlinewidth": 0,
              "ticks": ""
             }
            },
            "type": "histogram"
           }
          ],
          "histogram2d": [
           {
            "colorbar": {
             "outlinewidth": 0,
             "ticks": ""
            },
            "colorscale": [
             [
              0,
              "#0d0887"
             ],
             [
              0.1111111111111111,
              "#46039f"
             ],
             [
              0.2222222222222222,
              "#7201a8"
             ],
             [
              0.3333333333333333,
              "#9c179e"
             ],
             [
              0.4444444444444444,
              "#bd3786"
             ],
             [
              0.5555555555555556,
              "#d8576b"
             ],
             [
              0.6666666666666666,
              "#ed7953"
             ],
             [
              0.7777777777777778,
              "#fb9f3a"
             ],
             [
              0.8888888888888888,
              "#fdca26"
             ],
             [
              1,
              "#f0f921"
             ]
            ],
            "type": "histogram2d"
           }
          ],
          "histogram2dcontour": [
           {
            "colorbar": {
             "outlinewidth": 0,
             "ticks": ""
            },
            "colorscale": [
             [
              0,
              "#0d0887"
             ],
             [
              0.1111111111111111,
              "#46039f"
             ],
             [
              0.2222222222222222,
              "#7201a8"
             ],
             [
              0.3333333333333333,
              "#9c179e"
             ],
             [
              0.4444444444444444,
              "#bd3786"
             ],
             [
              0.5555555555555556,
              "#d8576b"
             ],
             [
              0.6666666666666666,
              "#ed7953"
             ],
             [
              0.7777777777777778,
              "#fb9f3a"
             ],
             [
              0.8888888888888888,
              "#fdca26"
             ],
             [
              1,
              "#f0f921"
             ]
            ],
            "type": "histogram2dcontour"
           }
          ],
          "mesh3d": [
           {
            "colorbar": {
             "outlinewidth": 0,
             "ticks": ""
            },
            "type": "mesh3d"
           }
          ],
          "parcoords": [
           {
            "line": {
             "colorbar": {
              "outlinewidth": 0,
              "ticks": ""
             }
            },
            "type": "parcoords"
           }
          ],
          "pie": [
           {
            "automargin": true,
            "type": "pie"
           }
          ],
          "scatter": [
           {
            "marker": {
             "colorbar": {
              "outlinewidth": 0,
              "ticks": ""
             }
            },
            "type": "scatter"
           }
          ],
          "scatter3d": [
           {
            "line": {
             "colorbar": {
              "outlinewidth": 0,
              "ticks": ""
             }
            },
            "marker": {
             "colorbar": {
              "outlinewidth": 0,
              "ticks": ""
             }
            },
            "type": "scatter3d"
           }
          ],
          "scattercarpet": [
           {
            "marker": {
             "colorbar": {
              "outlinewidth": 0,
              "ticks": ""
             }
            },
            "type": "scattercarpet"
           }
          ],
          "scattergeo": [
           {
            "marker": {
             "colorbar": {
              "outlinewidth": 0,
              "ticks": ""
             }
            },
            "type": "scattergeo"
           }
          ],
          "scattergl": [
           {
            "marker": {
             "colorbar": {
              "outlinewidth": 0,
              "ticks": ""
             }
            },
            "type": "scattergl"
           }
          ],
          "scattermapbox": [
           {
            "marker": {
             "colorbar": {
              "outlinewidth": 0,
              "ticks": ""
             }
            },
            "type": "scattermapbox"
           }
          ],
          "scatterpolar": [
           {
            "marker": {
             "colorbar": {
              "outlinewidth": 0,
              "ticks": ""
             }
            },
            "type": "scatterpolar"
           }
          ],
          "scatterpolargl": [
           {
            "marker": {
             "colorbar": {
              "outlinewidth": 0,
              "ticks": ""
             }
            },
            "type": "scatterpolargl"
           }
          ],
          "scatterternary": [
           {
            "marker": {
             "colorbar": {
              "outlinewidth": 0,
              "ticks": ""
             }
            },
            "type": "scatterternary"
           }
          ],
          "surface": [
           {
            "colorbar": {
             "outlinewidth": 0,
             "ticks": ""
            },
            "colorscale": [
             [
              0,
              "#0d0887"
             ],
             [
              0.1111111111111111,
              "#46039f"
             ],
             [
              0.2222222222222222,
              "#7201a8"
             ],
             [
              0.3333333333333333,
              "#9c179e"
             ],
             [
              0.4444444444444444,
              "#bd3786"
             ],
             [
              0.5555555555555556,
              "#d8576b"
             ],
             [
              0.6666666666666666,
              "#ed7953"
             ],
             [
              0.7777777777777778,
              "#fb9f3a"
             ],
             [
              0.8888888888888888,
              "#fdca26"
             ],
             [
              1,
              "#f0f921"
             ]
            ],
            "type": "surface"
           }
          ],
          "table": [
           {
            "cells": {
             "fill": {
              "color": "#EBF0F8"
             },
             "line": {
              "color": "white"
             }
            },
            "header": {
             "fill": {
              "color": "#C8D4E3"
             },
             "line": {
              "color": "white"
             }
            },
            "type": "table"
           }
          ]
         },
         "layout": {
          "annotationdefaults": {
           "arrowcolor": "#2a3f5f",
           "arrowhead": 0,
           "arrowwidth": 1
          },
          "autotypenumbers": "strict",
          "coloraxis": {
           "colorbar": {
            "outlinewidth": 0,
            "ticks": ""
           }
          },
          "colorscale": {
           "diverging": [
            [
             0,
             "#8e0152"
            ],
            [
             0.1,
             "#c51b7d"
            ],
            [
             0.2,
             "#de77ae"
            ],
            [
             0.3,
             "#f1b6da"
            ],
            [
             0.4,
             "#fde0ef"
            ],
            [
             0.5,
             "#f7f7f7"
            ],
            [
             0.6,
             "#e6f5d0"
            ],
            [
             0.7,
             "#b8e186"
            ],
            [
             0.8,
             "#7fbc41"
            ],
            [
             0.9,
             "#4d9221"
            ],
            [
             1,
             "#276419"
            ]
           ],
           "sequential": [
            [
             0,
             "#0d0887"
            ],
            [
             0.1111111111111111,
             "#46039f"
            ],
            [
             0.2222222222222222,
             "#7201a8"
            ],
            [
             0.3333333333333333,
             "#9c179e"
            ],
            [
             0.4444444444444444,
             "#bd3786"
            ],
            [
             0.5555555555555556,
             "#d8576b"
            ],
            [
             0.6666666666666666,
             "#ed7953"
            ],
            [
             0.7777777777777778,
             "#fb9f3a"
            ],
            [
             0.8888888888888888,
             "#fdca26"
            ],
            [
             1,
             "#f0f921"
            ]
           ],
           "sequentialminus": [
            [
             0,
             "#0d0887"
            ],
            [
             0.1111111111111111,
             "#46039f"
            ],
            [
             0.2222222222222222,
             "#7201a8"
            ],
            [
             0.3333333333333333,
             "#9c179e"
            ],
            [
             0.4444444444444444,
             "#bd3786"
            ],
            [
             0.5555555555555556,
             "#d8576b"
            ],
            [
             0.6666666666666666,
             "#ed7953"
            ],
            [
             0.7777777777777778,
             "#fb9f3a"
            ],
            [
             0.8888888888888888,
             "#fdca26"
            ],
            [
             1,
             "#f0f921"
            ]
           ]
          },
          "colorway": [
           "#636efa",
           "#EF553B",
           "#00cc96",
           "#ab63fa",
           "#FFA15A",
           "#19d3f3",
           "#FF6692",
           "#B6E880",
           "#FF97FF",
           "#FECB52"
          ],
          "font": {
           "color": "#2a3f5f"
          },
          "geo": {
           "bgcolor": "white",
           "lakecolor": "white",
           "landcolor": "#E5ECF6",
           "showlakes": true,
           "showland": true,
           "subunitcolor": "white"
          },
          "hoverlabel": {
           "align": "left"
          },
          "hovermode": "closest",
          "mapbox": {
           "style": "light"
          },
          "paper_bgcolor": "white",
          "plot_bgcolor": "#E5ECF6",
          "polar": {
           "angularaxis": {
            "gridcolor": "white",
            "linecolor": "white",
            "ticks": ""
           },
           "bgcolor": "#E5ECF6",
           "radialaxis": {
            "gridcolor": "white",
            "linecolor": "white",
            "ticks": ""
           }
          },
          "scene": {
           "xaxis": {
            "backgroundcolor": "#E5ECF6",
            "gridcolor": "white",
            "gridwidth": 2,
            "linecolor": "white",
            "showbackground": true,
            "ticks": "",
            "zerolinecolor": "white"
           },
           "yaxis": {
            "backgroundcolor": "#E5ECF6",
            "gridcolor": "white",
            "gridwidth": 2,
            "linecolor": "white",
            "showbackground": true,
            "ticks": "",
            "zerolinecolor": "white"
           },
           "zaxis": {
            "backgroundcolor": "#E5ECF6",
            "gridcolor": "white",
            "gridwidth": 2,
            "linecolor": "white",
            "showbackground": true,
            "ticks": "",
            "zerolinecolor": "white"
           }
          },
          "shapedefaults": {
           "line": {
            "color": "#2a3f5f"
           }
          },
          "ternary": {
           "aaxis": {
            "gridcolor": "white",
            "linecolor": "white",
            "ticks": ""
           },
           "baxis": {
            "gridcolor": "white",
            "linecolor": "white",
            "ticks": ""
           },
           "bgcolor": "#E5ECF6",
           "caxis": {
            "gridcolor": "white",
            "linecolor": "white",
            "ticks": ""
           }
          },
          "title": {
           "x": 0.05
          },
          "xaxis": {
           "automargin": true,
           "gridcolor": "white",
           "linecolor": "white",
           "ticks": "",
           "title": {
            "standoff": 15
           },
           "zerolinecolor": "white",
           "zerolinewidth": 2
          },
          "yaxis": {
           "automargin": true,
           "gridcolor": "white",
           "linecolor": "white",
           "ticks": "",
           "title": {
            "standoff": 15
           },
           "zerolinecolor": "white",
           "zerolinewidth": 2
          }
         }
        },
        "xaxis": {
         "anchor": "y",
         "domain": [
          0,
          0.94
         ]
        },
        "yaxis": {
         "anchor": "x",
         "domain": [
          0,
          1
         ]
        },
        "yaxis2": {
         "anchor": "x",
         "overlaying": "y",
         "side": "right"
        }
       }
      }
     },
     "metadata": {},
     "output_type": "display_data"
    }
   ],
   "source": [
    "fig = make_subplots(specs=[[{\"secondary_y\": True}]])\n",
    "\n",
    "for metric in eval_df.columns[1:]:\n",
    "    fig.add_trace(\n",
    "        go.Scatter(x=eval_df['index'], y=eval_df[metric],\n",
    "                   mode='lines',\n",
    "                   name=metric),\n",
    "        secondary_y=False\n",
    "    )\n",
    "\n",
    "fig.add_trace(\n",
    "    go.Scatter(x=loss_df['index'], y=loss_df['loss'],\n",
    "                mode='lines',\n",
    "                name='loss'),\n",
    "    secondary_y=True,\n",
    ")"
   ]
  },
  {
   "cell_type": "code",
   "execution_count": null,
   "metadata": {},
   "outputs": [],
   "source": []
  }
 ],
 "metadata": {
  "interpreter": {
   "hash": "71ece4cc9c4aede854b5983a138a0d4c9cc415fe9dd0477bef89310f7b90319c"
  },
  "kernelspec": {
   "display_name": "Python 3.7.7 ('python37')",
   "language": "python",
   "name": "python3"
  },
  "language_info": {
   "codemirror_mode": {
    "name": "ipython",
    "version": 3
   },
   "file_extension": ".py",
   "mimetype": "text/x-python",
   "name": "python",
   "nbconvert_exporter": "python",
   "pygments_lexer": "ipython3",
   "version": "3.7.7"
  },
  "orig_nbformat": 4
 },
 "nbformat": 4,
 "nbformat_minor": 2
}
