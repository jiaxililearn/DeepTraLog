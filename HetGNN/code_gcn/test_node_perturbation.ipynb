{
 "cells": [
  {
   "cell_type": "code",
   "execution_count": 22,
   "metadata": {},
   "outputs": [],
   "source": [
    "import random\n",
    "import torch\n",
    "from torch_geometric.utils import (\n",
    "    dense_to_sparse,\n",
    "    to_dense_adj,\n",
    "    remove_isolated_nodes,\n",
    "    contains_isolated_nodes,\n",
    "    subgraph, k_hop_subgraph\n",
    ")\n",
    "from data_loader import HetGCNEventGraphDataset"
   ]
  },
  {
   "cell_type": "code",
   "execution_count": 3,
   "metadata": {},
   "outputs": [
    {
     "name": "stdout",
     "output_type": "stream",
     "text": [
      "reading node features..\n",
      "reading edge index..\n",
      "Ignore Edge Weights.\n",
      "read node types ..\n",
      "node types txt: 132485\n",
      "reading edge ratio ...\n",
      "done\n"
     ]
    }
   ],
   "source": [
    "data_root_dir = '../ProcessedData_HetGCN'\n",
    "dataset = HetGCNEventGraphDataset(\n",
    "    node_feature_csv=f'{data_root_dir}/node_feature_norm.csv',\n",
    "    edge_index_csv=f'{data_root_dir}/edge_index.csv',\n",
    "    node_type_txt=f'{data_root_dir}/node_types.txt',\n",
    "    edge_ratio_csv=f'{data_root_dir}/edge_ratio.csv',\n",
    "    ignore_weight=True,\n",
    "    include_edge_type=True,\n",
    "    edge_ratio_percentile=0.75\n",
    ")"
   ]
  },
  {
   "cell_type": "code",
   "execution_count": 5,
   "metadata": {},
   "outputs": [],
   "source": [
    "# take a sample graph\n",
    "node_feature, edge_index, (edge_weight, edge_type), node_types = dataset[0]"
   ]
  },
  {
   "cell_type": "code",
   "execution_count": 8,
   "metadata": {},
   "outputs": [
    {
     "data": {
      "text/plain": [
       "(torch.Size([841, 7]), torch.Size([2, 962]), (None, torch.Size([962])), 8)"
      ]
     },
     "execution_count": 8,
     "metadata": {},
     "output_type": "execute_result"
    }
   ],
   "source": [
    "node_feature.shape, edge_index.shape, (edge_weight, edge_type.shape), len(node_types)"
   ]
  },
  {
   "cell_type": "code",
   "execution_count": 12,
   "metadata": {},
   "outputs": [
    {
     "data": {
      "text/plain": [
       "False"
      ]
     },
     "execution_count": 12,
     "metadata": {},
     "output_type": "execute_result"
    }
   ],
   "source": [
    "contains_isolated_nodes(edge_index)"
   ]
  },
  {
   "cell_type": "code",
   "execution_count": 67,
   "metadata": {},
   "outputs": [
    {
     "data": {
      "text/plain": [
       "8"
      ]
     },
     "execution_count": 67,
     "metadata": {},
     "output_type": "execute_result"
    }
   ],
   "source": [
    "sample_node_ratio = 0.01\n",
    "sampled_nodes = random.sample(\n",
    "    range(node_feature.shape[0]),\n",
    "    int(node_feature.shape[0] * sample_node_ratio)\n",
    ")\n",
    "len(sampled_nodes)"
   ]
  },
  {
   "cell_type": "code",
   "execution_count": 76,
   "metadata": {},
   "outputs": [],
   "source": [
    "# subgraph(\n",
    "#     subset=sampled_nodes,\n",
    "#     edge_index=edge_index\n",
    "# )"
   ]
  },
  {
   "cell_type": "code",
   "execution_count": 69,
   "metadata": {},
   "outputs": [
    {
     "data": {
      "text/plain": [
       "(tensor([274]), tensor([108]))"
      ]
     },
     "execution_count": 69,
     "metadata": {},
     "output_type": "execute_result"
    }
   ],
   "source": [
    "\n",
    "row, col = edge_index\n",
    "cond = col == 108\n",
    "row[cond],col[cond]"
   ]
  },
  {
   "cell_type": "code",
   "execution_count": 102,
   "metadata": {},
   "outputs": [
    {
     "data": {
      "text/plain": [
       "tensor([[138, 138, 179, 179, 181, 181, 245, 245, 482, 482],\n",
       "        [705, 705, 747, 750, 753, 753, 812, 816, 394, 425]])"
      ]
     },
     "execution_count": 102,
     "metadata": {},
     "output_type": "execute_result"
    }
   ],
   "source": [
    "device = edge_index.device\n",
    "sub_nodes, sub_edge_index, _, sub_edge_mask  = k_hop_subgraph(\n",
    "    node_idx=sampled_nodes,\n",
    "    num_hops=1,\n",
    "    edge_index=edge_index,\n",
    "    flow='target_to_source'\n",
    ")\n",
    "sub_edge_index"
   ]
  },
  {
   "cell_type": "code",
   "execution_count": 98,
   "metadata": {},
   "outputs": [
    {
     "data": {
      "text/plain": [
       "[482, 825, 179, 559, 181, 731, 245, 138]"
      ]
     },
     "execution_count": 98,
     "metadata": {},
     "output_type": "execute_result"
    }
   ],
   "source": [
    "sampled_nodes"
   ]
  },
  {
   "cell_type": "code",
   "execution_count": 90,
   "metadata": {},
   "outputs": [
    {
     "data": {
      "text/plain": [
       "tensor([[  2,   2, 160, 160, 252, 252, 294, 300, 347, 445],\n",
       "        [888, 888, 888, 888, 888, 888, 888, 888, 888, 888]])"
      ]
     },
     "execution_count": 90,
     "metadata": {},
     "output_type": "execute_result"
    }
   ],
   "source": [
    "sub_edge_index.index_fill(0, torch.tensor([1], device=device), 888)"
   ]
  },
  {
   "cell_type": "code",
   "execution_count": 97,
   "metadata": {},
   "outputs": [
    {
     "data": {
      "text/plain": [
       "tensor([[  0,   3,   3,  ..., 300, 347, 445],\n",
       "        [558, 556, 560,  ..., 888, 888, 888]])"
      ]
     },
     "execution_count": 97,
     "metadata": {},
     "output_type": "execute_result"
    }
   ],
   "source": [
    "row, col == edge_index\n",
    "\n",
    "torch.cat(\n",
    "    [torch.stack([row[~sub_edge_mask], col[~sub_edge_mask]]), sub_edge_index.index_fill(0, torch.tensor([1], device=device), 888)],\n",
    "    dim=1\n",
    ")"
   ]
  },
  {
   "cell_type": "code",
   "execution_count": 103,
   "metadata": {},
   "outputs": [
    {
     "data": {
      "text/plain": [
       "tensor([[138, 138, 179, 179, 181, 181, 245, 245, 482, 482],\n",
       "        [705, 705, 747, 750, 753, 753, 812, 816, 394, 425]])"
      ]
     },
     "execution_count": 103,
     "metadata": {},
     "output_type": "execute_result"
    }
   ],
   "source": [
    "sub_edge_index"
   ]
  },
  {
   "cell_type": "code",
   "execution_count": 130,
   "metadata": {},
   "outputs": [
    {
     "name": "stdout",
     "output_type": "stream",
     "text": [
      "skip node type 6\n",
      "skip node type 7\n"
     ]
    }
   ],
   "source": [
    "new_node_list = []\n",
    "last_node_id = node_feature.shape[0] - 1\n",
    "for ntype, ntype_list in enumerate(node_types):\n",
    "    if len(ntype_list) == 0:\n",
    "        print(f'skip node type {ntype}')\n",
    "        continue \n",
    "    _mask = sum(sub_edge_index[1] == i for i in ntype_list).bool()\n",
    "\n",
    "    # skip if no node matched\n",
    "    if _mask.sum() == 0:\n",
    "        print('skip mask')\n",
    "        continue\n",
    "\n",
    "    new_node_id = last_node_id + 1\n",
    "    new_node_list.append((new_node_id, ntype))\n",
    "    sub_edge_index[1] = sub_edge_index[1].masked_fill_(_mask, new_node_id)\n",
    "\n",
    "    last_node_id = new_node_id"
   ]
  },
  {
   "cell_type": "code",
   "execution_count": 129,
   "metadata": {},
   "outputs": [
    {
     "data": {
      "text/plain": [
       "[]"
      ]
     },
     "execution_count": 129,
     "metadata": {},
     "output_type": "execute_result"
    }
   ],
   "source": [
    "new_node_list"
   ]
  },
  {
   "cell_type": "code",
   "execution_count": 120,
   "metadata": {},
   "outputs": [
    {
     "data": {
      "text/plain": [
       "tensor([False, False, False,  True, False, False, False,  True, False, False])"
      ]
     },
     "execution_count": 120,
     "metadata": {},
     "output_type": "execute_result"
    }
   ],
   "source": [
    "sub_edge_index[1] == node_types[7]"
   ]
  },
  {
   "cell_type": "code",
   "execution_count": 126,
   "metadata": {},
   "outputs": [
    {
     "data": {
      "text/plain": [
       "tensor(2)"
      ]
     },
     "execution_count": 126,
     "metadata": {},
     "output_type": "execute_result"
    }
   ],
   "source": [
    "_mask.sum()"
   ]
  },
  {
   "cell_type": "code",
   "execution_count": 125,
   "metadata": {},
   "outputs": [
    {
     "data": {
      "text/plain": [
       "tensor([705, 705, 747,   1, 753, 753, 812,   1, 394, 425])"
      ]
     },
     "execution_count": 125,
     "metadata": {},
     "output_type": "execute_result"
    }
   ],
   "source": [
    "sub_edge_index[1].masked_fill_(_mask, 1)"
   ]
  },
  {
   "cell_type": "code",
   "execution_count": null,
   "metadata": {},
   "outputs": [],
   "source": []
  },
  {
   "cell_type": "code",
   "execution_count": null,
   "metadata": {},
   "outputs": [],
   "source": []
  }
 ],
 "metadata": {
  "interpreter": {
   "hash": "dd65f12e531413a9916e885ddcda4713ce1e92a965375bff78a972ca39458109"
  },
  "kernelspec": {
   "display_name": "Python 3.7.10 ('pytorch')",
   "language": "python",
   "name": "python3"
  },
  "language_info": {
   "codemirror_mode": {
    "name": "ipython",
    "version": 3
   },
   "file_extension": ".py",
   "mimetype": "text/x-python",
   "name": "python",
   "nbconvert_exporter": "python",
   "pygments_lexer": "ipython3",
   "version": "3.7.10"
  },
  "orig_nbformat": 4
 },
 "nbformat": 4,
 "nbformat_minor": 2
}
