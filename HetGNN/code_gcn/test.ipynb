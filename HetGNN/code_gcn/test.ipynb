{
 "cells": [
  {
   "cell_type": "code",
   "execution_count": 1,
   "metadata": {},
   "outputs": [],
   "source": [
    "%load_ext autoreload\n",
    "%autoreload 2\n"
   ]
  },
  {
   "cell_type": "markdown",
   "metadata": {},
   "source": [
    "# Dataset"
   ]
  },
  {
   "cell_type": "code",
   "execution_count": 1,
   "metadata": {},
   "outputs": [
    {
     "name": "stdout",
     "output_type": "stream",
     "text": [
      "Reading Relation Type File: a_a_list.txt\n"
     ]
    },
    {
     "ename": "KeyboardInterrupt",
     "evalue": "",
     "output_type": "error",
     "traceback": [
      "\u001b[0;31m---------------------------------------------------------------------------\u001b[0m",
      "\u001b[0;31mKeyboardInterrupt\u001b[0m                         Traceback (most recent call last)",
      "\u001b[0;32m<ipython-input-1-0a067a5bffb8>\u001b[0m in \u001b[0;36m<module>\u001b[0;34m\u001b[0m\n\u001b[1;32m      1\u001b[0m \u001b[0;32mfrom\u001b[0m \u001b[0mdata_loader_cmu\u001b[0m \u001b[0;32mimport\u001b[0m \u001b[0mCMUGraphDataset\u001b[0m\u001b[0;34m\u001b[0m\u001b[0;34m\u001b[0m\u001b[0m\n\u001b[0;32m----> 2\u001b[0;31m \u001b[0mdataset\u001b[0m \u001b[0;34m=\u001b[0m \u001b[0mCMUGraphDataset\u001b[0m\u001b[0;34m(\u001b[0m\u001b[0;34m)\u001b[0m\u001b[0;34m\u001b[0m\u001b[0;34m\u001b[0m\u001b[0m\n\u001b[0m",
      "\u001b[0;32m~/Documents/study/code_repo/DeepTraLog/HetGNN/code_gcn/data_loader_cmu.py\u001b[0m in \u001b[0;36m__init__\u001b[0;34m(self, data_root_path, transform, **kwargs)\u001b[0m\n\u001b[1;32m     79\u001b[0m \u001b[0;34m\u001b[0m\u001b[0m\n\u001b[1;32m     80\u001b[0m                     \u001b[0;32mfor\u001b[0m \u001b[0mdst_id\u001b[0m \u001b[0;32min\u001b[0m \u001b[0mneigh_list\u001b[0m\u001b[0;34m:\u001b[0m\u001b[0;34m\u001b[0m\u001b[0;34m\u001b[0m\u001b[0m\n\u001b[0;32m---> 81\u001b[0;31m                         \u001b[0mcond\u001b[0m \u001b[0;34m=\u001b[0m \u001b[0;34m(\u001b[0m\u001b[0mself\u001b[0m\u001b[0;34m.\u001b[0m\u001b[0mnode_features\u001b[0m\u001b[0;34m[\u001b[0m\u001b[0;34m'destination-id'\u001b[0m\u001b[0;34m]\u001b[0m \u001b[0;34m==\u001b[0m \u001b[0mdst_id\u001b[0m\u001b[0;34m)\u001b[0m \u001b[0;34m&\u001b[0m \u001b[0;34m(\u001b[0m\u001b[0mself\u001b[0m\u001b[0;34m.\u001b[0m\u001b[0mnode_features\u001b[0m\u001b[0;34m[\u001b[0m\u001b[0;34m'graph-id'\u001b[0m\u001b[0;34m]\u001b[0m \u001b[0;34m==\u001b[0m \u001b[0mgid\u001b[0m\u001b[0;34m)\u001b[0m\u001b[0;34m\u001b[0m\u001b[0;34m\u001b[0m\u001b[0m\n\u001b[0m\u001b[1;32m     82\u001b[0m                         \u001b[0mself\u001b[0m\u001b[0;34m.\u001b[0m\u001b[0mgraph_edge_embedding\u001b[0m\u001b[0;34m[\u001b[0m\u001b[0mrelation_id\u001b[0m\u001b[0;34m]\u001b[0m\u001b[0;34m[\u001b[0m\u001b[0mgid\u001b[0m\u001b[0;34m]\u001b[0m\u001b[0;34m[\u001b[0m\u001b[0mi\u001b[0m\u001b[0;34m]\u001b[0m \u001b[0;34m+=\u001b[0m \u001b[0mself\u001b[0m\u001b[0;34m.\u001b[0m\u001b[0mnode_features\u001b[0m\u001b[0;34m[\u001b[0m\u001b[0mcond\u001b[0m\u001b[0;34m]\u001b[0m\u001b[0;34m.\u001b[0m\u001b[0mvalues\u001b[0m\u001b[0;34m[\u001b[0m\u001b[0;34m:\u001b[0m\u001b[0;34m,\u001b[0m \u001b[0;36m2\u001b[0m\u001b[0;34m:\u001b[0m\u001b[0;34m]\u001b[0m\u001b[0;34m[\u001b[0m\u001b[0;36m0\u001b[0m\u001b[0;34m]\u001b[0m\u001b[0;34m\u001b[0m\u001b[0;34m\u001b[0m\u001b[0m\n\u001b[1;32m     83\u001b[0m \u001b[0;34m\u001b[0m\u001b[0m\n",
      "\u001b[0;32m~/anaconda3/envs/pytorch/lib/python3.7/site-packages/pandas/core/ops/common.py\u001b[0m in \u001b[0;36mnew_method\u001b[0;34m(self, other)\u001b[0m\n\u001b[1;32m     63\u001b[0m         \u001b[0mother\u001b[0m \u001b[0;34m=\u001b[0m \u001b[0mitem_from_zerodim\u001b[0m\u001b[0;34m(\u001b[0m\u001b[0mother\u001b[0m\u001b[0;34m)\u001b[0m\u001b[0;34m\u001b[0m\u001b[0;34m\u001b[0m\u001b[0m\n\u001b[1;32m     64\u001b[0m \u001b[0;34m\u001b[0m\u001b[0m\n\u001b[0;32m---> 65\u001b[0;31m         \u001b[0;32mreturn\u001b[0m \u001b[0mmethod\u001b[0m\u001b[0;34m(\u001b[0m\u001b[0mself\u001b[0m\u001b[0;34m,\u001b[0m \u001b[0mother\u001b[0m\u001b[0;34m)\u001b[0m\u001b[0;34m\u001b[0m\u001b[0;34m\u001b[0m\u001b[0m\n\u001b[0m\u001b[1;32m     66\u001b[0m \u001b[0;34m\u001b[0m\u001b[0m\n\u001b[1;32m     67\u001b[0m     \u001b[0;32mreturn\u001b[0m \u001b[0mnew_method\u001b[0m\u001b[0;34m\u001b[0m\u001b[0;34m\u001b[0m\u001b[0m\n",
      "\u001b[0;32m~/anaconda3/envs/pytorch/lib/python3.7/site-packages/pandas/core/arraylike.py\u001b[0m in \u001b[0;36m__and__\u001b[0;34m(self, other)\u001b[0m\n\u001b[1;32m     57\u001b[0m     \u001b[0;34m@\u001b[0m\u001b[0munpack_zerodim_and_defer\u001b[0m\u001b[0;34m(\u001b[0m\u001b[0;34m\"__and__\"\u001b[0m\u001b[0;34m)\u001b[0m\u001b[0;34m\u001b[0m\u001b[0;34m\u001b[0m\u001b[0m\n\u001b[1;32m     58\u001b[0m     \u001b[0;32mdef\u001b[0m \u001b[0m__and__\u001b[0m\u001b[0;34m(\u001b[0m\u001b[0mself\u001b[0m\u001b[0;34m,\u001b[0m \u001b[0mother\u001b[0m\u001b[0;34m)\u001b[0m\u001b[0;34m:\u001b[0m\u001b[0;34m\u001b[0m\u001b[0;34m\u001b[0m\u001b[0m\n\u001b[0;32m---> 59\u001b[0;31m         \u001b[0;32mreturn\u001b[0m \u001b[0mself\u001b[0m\u001b[0;34m.\u001b[0m\u001b[0m_logical_method\u001b[0m\u001b[0;34m(\u001b[0m\u001b[0mother\u001b[0m\u001b[0;34m,\u001b[0m \u001b[0moperator\u001b[0m\u001b[0;34m.\u001b[0m\u001b[0mand_\u001b[0m\u001b[0;34m)\u001b[0m\u001b[0;34m\u001b[0m\u001b[0;34m\u001b[0m\u001b[0m\n\u001b[0m\u001b[1;32m     60\u001b[0m \u001b[0;34m\u001b[0m\u001b[0m\n\u001b[1;32m     61\u001b[0m     \u001b[0;34m@\u001b[0m\u001b[0munpack_zerodim_and_defer\u001b[0m\u001b[0;34m(\u001b[0m\u001b[0;34m\"__rand__\"\u001b[0m\u001b[0;34m)\u001b[0m\u001b[0;34m\u001b[0m\u001b[0;34m\u001b[0m\u001b[0m\n",
      "\u001b[0;32m~/anaconda3/envs/pytorch/lib/python3.7/site-packages/pandas/core/series.py\u001b[0m in \u001b[0;36m_logical_method\u001b[0;34m(self, other, op)\u001b[0m\n\u001b[1;32m   4987\u001b[0m         \u001b[0mrvalues\u001b[0m \u001b[0;34m=\u001b[0m \u001b[0mextract_array\u001b[0m\u001b[0;34m(\u001b[0m\u001b[0mother\u001b[0m\u001b[0;34m,\u001b[0m \u001b[0mextract_numpy\u001b[0m\u001b[0;34m=\u001b[0m\u001b[0;32mTrue\u001b[0m\u001b[0;34m)\u001b[0m\u001b[0;34m\u001b[0m\u001b[0;34m\u001b[0m\u001b[0m\n\u001b[1;32m   4988\u001b[0m \u001b[0;34m\u001b[0m\u001b[0m\n\u001b[0;32m-> 4989\u001b[0;31m         \u001b[0mres_values\u001b[0m \u001b[0;34m=\u001b[0m \u001b[0mops\u001b[0m\u001b[0;34m.\u001b[0m\u001b[0mlogical_op\u001b[0m\u001b[0;34m(\u001b[0m\u001b[0mlvalues\u001b[0m\u001b[0;34m,\u001b[0m \u001b[0mrvalues\u001b[0m\u001b[0;34m,\u001b[0m \u001b[0mop\u001b[0m\u001b[0;34m)\u001b[0m\u001b[0;34m\u001b[0m\u001b[0;34m\u001b[0m\u001b[0m\n\u001b[0m\u001b[1;32m   4990\u001b[0m         \u001b[0;32mreturn\u001b[0m \u001b[0mself\u001b[0m\u001b[0;34m.\u001b[0m\u001b[0m_construct_result\u001b[0m\u001b[0;34m(\u001b[0m\u001b[0mres_values\u001b[0m\u001b[0;34m,\u001b[0m \u001b[0mname\u001b[0m\u001b[0;34m=\u001b[0m\u001b[0mres_name\u001b[0m\u001b[0;34m)\u001b[0m\u001b[0;34m\u001b[0m\u001b[0;34m\u001b[0m\u001b[0m\n\u001b[1;32m   4991\u001b[0m \u001b[0;34m\u001b[0m\u001b[0m\n",
      "\u001b[0;32m~/anaconda3/envs/pytorch/lib/python3.7/site-packages/pandas/core/ops/array_ops.py\u001b[0m in \u001b[0;36mlogical_op\u001b[0;34m(left, right, op)\u001b[0m\n\u001b[1;32m    353\u001b[0m         \u001b[0mfiller\u001b[0m \u001b[0;34m=\u001b[0m \u001b[0mfill_int\u001b[0m \u001b[0;32mif\u001b[0m \u001b[0mis_self_int_dtype\u001b[0m \u001b[0;32mand\u001b[0m \u001b[0mis_other_int_dtype\u001b[0m \u001b[0;32melse\u001b[0m \u001b[0mfill_bool\u001b[0m\u001b[0;34m\u001b[0m\u001b[0;34m\u001b[0m\u001b[0m\n\u001b[1;32m    354\u001b[0m \u001b[0;34m\u001b[0m\u001b[0m\n\u001b[0;32m--> 355\u001b[0;31m         \u001b[0mres_values\u001b[0m \u001b[0;34m=\u001b[0m \u001b[0mna_logical_op\u001b[0m\u001b[0;34m(\u001b[0m\u001b[0mlvalues\u001b[0m\u001b[0;34m,\u001b[0m \u001b[0mrvalues\u001b[0m\u001b[0;34m,\u001b[0m \u001b[0mop\u001b[0m\u001b[0;34m)\u001b[0m\u001b[0;34m\u001b[0m\u001b[0;34m\u001b[0m\u001b[0m\n\u001b[0m\u001b[1;32m    356\u001b[0m         \u001b[0;31m# error: Cannot call function of unknown type\u001b[0m\u001b[0;34m\u001b[0m\u001b[0;34m\u001b[0m\u001b[0;34m\u001b[0m\u001b[0m\n\u001b[1;32m    357\u001b[0m         \u001b[0mres_values\u001b[0m \u001b[0;34m=\u001b[0m \u001b[0mfiller\u001b[0m\u001b[0;34m(\u001b[0m\u001b[0mres_values\u001b[0m\u001b[0;34m)\u001b[0m  \u001b[0;31m# type: ignore[operator]\u001b[0m\u001b[0;34m\u001b[0m\u001b[0;34m\u001b[0m\u001b[0m\n",
      "\u001b[0;32m~/anaconda3/envs/pytorch/lib/python3.7/site-packages/pandas/core/ops/array_ops.py\u001b[0m in \u001b[0;36mna_logical_op\u001b[0;34m(x, y, op)\u001b[0m\n\u001b[1;32m    263\u001b[0m         \u001b[0;31m# Then Cases where this goes through without raising include:\u001b[0m\u001b[0;34m\u001b[0m\u001b[0;34m\u001b[0m\u001b[0;34m\u001b[0m\u001b[0m\n\u001b[1;32m    264\u001b[0m         \u001b[0;31m#  (xint or xbool) and (yint or bool)\u001b[0m\u001b[0;34m\u001b[0m\u001b[0;34m\u001b[0m\u001b[0;34m\u001b[0m\u001b[0m\n\u001b[0;32m--> 265\u001b[0;31m         \u001b[0mresult\u001b[0m \u001b[0;34m=\u001b[0m \u001b[0mop\u001b[0m\u001b[0;34m(\u001b[0m\u001b[0mx\u001b[0m\u001b[0;34m,\u001b[0m \u001b[0my\u001b[0m\u001b[0;34m)\u001b[0m\u001b[0;34m\u001b[0m\u001b[0;34m\u001b[0m\u001b[0m\n\u001b[0m\u001b[1;32m    266\u001b[0m     \u001b[0;32mexcept\u001b[0m \u001b[0mTypeError\u001b[0m\u001b[0;34m:\u001b[0m\u001b[0;34m\u001b[0m\u001b[0;34m\u001b[0m\u001b[0m\n\u001b[1;32m    267\u001b[0m         \u001b[0;32mif\u001b[0m \u001b[0misinstance\u001b[0m\u001b[0;34m(\u001b[0m\u001b[0my\u001b[0m\u001b[0;34m,\u001b[0m \u001b[0mnp\u001b[0m\u001b[0;34m.\u001b[0m\u001b[0mndarray\u001b[0m\u001b[0;34m)\u001b[0m\u001b[0;34m:\u001b[0m\u001b[0;34m\u001b[0m\u001b[0;34m\u001b[0m\u001b[0m\n",
      "\u001b[0;31mKeyboardInterrupt\u001b[0m: "
     ]
    }
   ],
   "source": [
    "from data_loader_cmu import CMUGraphDataset\n",
    "dataset = CMUGraphDataset()"
   ]
  },
  {
   "cell_type": "code",
   "execution_count": 39,
   "metadata": {},
   "outputs": [
    {
     "data": {
      "text/plain": [
       "array([[0., 0., 0., 0., 0., 0., 0., 0., 0., 0., 2., 3., 0., 0., 0., 0.,\n",
       "        0., 0., 0., 0., 0., 0., 0., 0., 0., 0.],\n",
       "       [0., 0., 0., 0., 0., 0., 0., 0., 0., 0., 1., 0., 0., 0., 0., 0.,\n",
       "        0., 0., 0., 0., 0., 0., 0., 0., 0., 0.],\n",
       "       [0., 0., 0., 0., 0., 0., 0., 0., 0., 0., 2., 2., 0., 0., 0., 0.,\n",
       "        0., 0., 0., 0., 0., 0., 0., 0., 0., 0.],\n",
       "       [0., 0., 0., 0., 0., 0., 0., 0., 0., 0., 1., 1., 0., 0., 0., 0.,\n",
       "        0., 0., 0., 0., 0., 0., 0., 0., 0., 0.],\n",
       "       [0., 0., 0., 0., 0., 0., 0., 0., 0., 0., 2., 0., 0., 0., 0., 0.,\n",
       "        0., 0., 0., 0., 0., 0., 0., 0., 0., 0.],\n",
       "       [0., 0., 0., 0., 0., 0., 0., 0., 0., 0., 0., 0., 0., 0., 0., 0.,\n",
       "        0., 0., 0., 0., 0., 0., 0., 0., 0., 0.],\n",
       "       [0., 0., 0., 0., 0., 0., 0., 0., 0., 0., 0., 0., 0., 0., 0., 0.,\n",
       "        0., 0., 0., 0., 0., 0., 0., 0., 0., 0.],\n",
       "       [0., 0., 0., 0., 0., 0., 0., 0., 0., 0., 0., 0., 0., 0., 0., 0.,\n",
       "        0., 0., 0., 0., 0., 0., 0., 0., 0., 0.],\n",
       "       [0., 0., 0., 0., 0., 0., 0., 0., 0., 0., 0., 0., 0., 0., 0., 0.,\n",
       "        0., 0., 0., 0., 0., 0., 0., 0., 0., 0.],\n",
       "       [0., 0., 0., 0., 0., 0., 0., 0., 0., 0., 0., 0., 0., 0., 0., 0.,\n",
       "        0., 0., 0., 0., 0., 0., 0., 0., 0., 0.],\n",
       "       [0., 0., 0., 0., 0., 0., 0., 0., 0., 0., 0., 0., 0., 0., 0., 0.,\n",
       "        0., 0., 0., 0., 0., 0., 0., 0., 0., 0.],\n",
       "       [0., 0., 0., 0., 0., 0., 0., 0., 0., 0., 0., 0., 0., 0., 0., 0.,\n",
       "        0., 0., 0., 0., 0., 0., 0., 0., 0., 0.]])"
      ]
     },
     "execution_count": 39,
     "metadata": {},
     "output_type": "execute_result"
    }
   ],
   "source": [
    "dataset.graph_edge_embedding[0][0]"
   ]
  },
  {
   "cell_type": "code",
   "execution_count": 17,
   "metadata": {},
   "outputs": [],
   "source": [
    "import pandas as pd\n",
    "node_features = pd.read_csv(f'{dataset.data_root_path}/incoming_edge_embedding.csv')"
   ]
  },
  {
   "cell_type": "code",
   "execution_count": 18,
   "metadata": {},
   "outputs": [
    {
     "data": {
      "text/html": [
       "<div>\n",
       "<style scoped>\n",
       "    .dataframe tbody tr th:only-of-type {\n",
       "        vertical-align: middle;\n",
       "    }\n",
       "\n",
       "    .dataframe tbody tr th {\n",
       "        vertical-align: top;\n",
       "    }\n",
       "\n",
       "    .dataframe thead th {\n",
       "        text-align: right;\n",
       "    }\n",
       "</style>\n",
       "<table border=\"1\" class=\"dataframe\">\n",
       "  <thead>\n",
       "    <tr style=\"text-align: right;\">\n",
       "      <th></th>\n",
       "      <th>graph-id</th>\n",
       "      <th>destination-id</th>\n",
       "      <th>e_p</th>\n",
       "      <th>e_j</th>\n",
       "      <th>e_t</th>\n",
       "      <th>e_u</th>\n",
       "      <th>e_q</th>\n",
       "      <th>e_n</th>\n",
       "      <th>e_v</th>\n",
       "      <th>e_C</th>\n",
       "      <th>...</th>\n",
       "      <th>e_H</th>\n",
       "      <th>e_w</th>\n",
       "      <th>e_r</th>\n",
       "      <th>e_A</th>\n",
       "      <th>e_z</th>\n",
       "      <th>e_y</th>\n",
       "      <th>e_i</th>\n",
       "      <th>e_B</th>\n",
       "      <th>e_x</th>\n",
       "      <th>e_D</th>\n",
       "    </tr>\n",
       "  </thead>\n",
       "  <tbody>\n",
       "    <tr>\n",
       "      <th>0</th>\n",
       "      <td>0</td>\n",
       "      <td>0</td>\n",
       "      <td>0.0</td>\n",
       "      <td>0.0</td>\n",
       "      <td>1240.0</td>\n",
       "      <td>0.0</td>\n",
       "      <td>0.0</td>\n",
       "      <td>1.0</td>\n",
       "      <td>0.0</td>\n",
       "      <td>0.0</td>\n",
       "      <td>...</td>\n",
       "      <td>0.0</td>\n",
       "      <td>0.0</td>\n",
       "      <td>0.0</td>\n",
       "      <td>0.0</td>\n",
       "      <td>0.0</td>\n",
       "      <td>0.0</td>\n",
       "      <td>0.0</td>\n",
       "      <td>0.0</td>\n",
       "      <td>0.0</td>\n",
       "      <td>0.0</td>\n",
       "    </tr>\n",
       "    <tr>\n",
       "      <th>1</th>\n",
       "      <td>0</td>\n",
       "      <td>5533</td>\n",
       "      <td>0.0</td>\n",
       "      <td>0.0</td>\n",
       "      <td>0.0</td>\n",
       "      <td>0.0</td>\n",
       "      <td>0.0</td>\n",
       "      <td>1.0</td>\n",
       "      <td>0.0</td>\n",
       "      <td>0.0</td>\n",
       "      <td>...</td>\n",
       "      <td>0.0</td>\n",
       "      <td>0.0</td>\n",
       "      <td>0.0</td>\n",
       "      <td>0.0</td>\n",
       "      <td>0.0</td>\n",
       "      <td>0.0</td>\n",
       "      <td>0.0</td>\n",
       "      <td>0.0</td>\n",
       "      <td>0.0</td>\n",
       "      <td>0.0</td>\n",
       "    </tr>\n",
       "    <tr>\n",
       "      <th>2</th>\n",
       "      <td>0</td>\n",
       "      <td>5532</td>\n",
       "      <td>0.0</td>\n",
       "      <td>0.0</td>\n",
       "      <td>0.0</td>\n",
       "      <td>0.0</td>\n",
       "      <td>0.0</td>\n",
       "      <td>1.0</td>\n",
       "      <td>0.0</td>\n",
       "      <td>0.0</td>\n",
       "      <td>...</td>\n",
       "      <td>0.0</td>\n",
       "      <td>0.0</td>\n",
       "      <td>0.0</td>\n",
       "      <td>0.0</td>\n",
       "      <td>0.0</td>\n",
       "      <td>0.0</td>\n",
       "      <td>0.0</td>\n",
       "      <td>0.0</td>\n",
       "      <td>0.0</td>\n",
       "      <td>0.0</td>\n",
       "    </tr>\n",
       "    <tr>\n",
       "      <th>3</th>\n",
       "      <td>0</td>\n",
       "      <td>5531</td>\n",
       "      <td>0.0</td>\n",
       "      <td>0.0</td>\n",
       "      <td>0.0</td>\n",
       "      <td>0.0</td>\n",
       "      <td>0.0</td>\n",
       "      <td>1.0</td>\n",
       "      <td>0.0</td>\n",
       "      <td>0.0</td>\n",
       "      <td>...</td>\n",
       "      <td>0.0</td>\n",
       "      <td>0.0</td>\n",
       "      <td>0.0</td>\n",
       "      <td>0.0</td>\n",
       "      <td>0.0</td>\n",
       "      <td>0.0</td>\n",
       "      <td>0.0</td>\n",
       "      <td>0.0</td>\n",
       "      <td>0.0</td>\n",
       "      <td>0.0</td>\n",
       "    </tr>\n",
       "    <tr>\n",
       "      <th>4</th>\n",
       "      <td>0</td>\n",
       "      <td>5530</td>\n",
       "      <td>0.0</td>\n",
       "      <td>0.0</td>\n",
       "      <td>0.0</td>\n",
       "      <td>0.0</td>\n",
       "      <td>0.0</td>\n",
       "      <td>1.0</td>\n",
       "      <td>0.0</td>\n",
       "      <td>0.0</td>\n",
       "      <td>...</td>\n",
       "      <td>0.0</td>\n",
       "      <td>0.0</td>\n",
       "      <td>0.0</td>\n",
       "      <td>0.0</td>\n",
       "      <td>0.0</td>\n",
       "      <td>0.0</td>\n",
       "      <td>0.0</td>\n",
       "      <td>0.0</td>\n",
       "      <td>0.0</td>\n",
       "      <td>0.0</td>\n",
       "    </tr>\n",
       "    <tr>\n",
       "      <th>...</th>\n",
       "      <td>...</td>\n",
       "      <td>...</td>\n",
       "      <td>...</td>\n",
       "      <td>...</td>\n",
       "      <td>...</td>\n",
       "      <td>...</td>\n",
       "      <td>...</td>\n",
       "      <td>...</td>\n",
       "      <td>...</td>\n",
       "      <td>...</td>\n",
       "      <td>...</td>\n",
       "      <td>...</td>\n",
       "      <td>...</td>\n",
       "      <td>...</td>\n",
       "      <td>...</td>\n",
       "      <td>...</td>\n",
       "      <td>...</td>\n",
       "      <td>...</td>\n",
       "      <td>...</td>\n",
       "      <td>...</td>\n",
       "      <td>...</td>\n",
       "    </tr>\n",
       "    <tr>\n",
       "      <th>5046273</th>\n",
       "      <td>599</td>\n",
       "      <td>5038503</td>\n",
       "      <td>0.0</td>\n",
       "      <td>0.0</td>\n",
       "      <td>0.0</td>\n",
       "      <td>3.0</td>\n",
       "      <td>0.0</td>\n",
       "      <td>0.0</td>\n",
       "      <td>0.0</td>\n",
       "      <td>0.0</td>\n",
       "      <td>...</td>\n",
       "      <td>0.0</td>\n",
       "      <td>0.0</td>\n",
       "      <td>0.0</td>\n",
       "      <td>0.0</td>\n",
       "      <td>0.0</td>\n",
       "      <td>0.0</td>\n",
       "      <td>0.0</td>\n",
       "      <td>0.0</td>\n",
       "      <td>0.0</td>\n",
       "      <td>0.0</td>\n",
       "    </tr>\n",
       "    <tr>\n",
       "      <th>5046274</th>\n",
       "      <td>599</td>\n",
       "      <td>5038504</td>\n",
       "      <td>0.0</td>\n",
       "      <td>0.0</td>\n",
       "      <td>0.0</td>\n",
       "      <td>3.0</td>\n",
       "      <td>0.0</td>\n",
       "      <td>0.0</td>\n",
       "      <td>0.0</td>\n",
       "      <td>0.0</td>\n",
       "      <td>...</td>\n",
       "      <td>0.0</td>\n",
       "      <td>0.0</td>\n",
       "      <td>0.0</td>\n",
       "      <td>0.0</td>\n",
       "      <td>0.0</td>\n",
       "      <td>0.0</td>\n",
       "      <td>0.0</td>\n",
       "      <td>0.0</td>\n",
       "      <td>0.0</td>\n",
       "      <td>0.0</td>\n",
       "    </tr>\n",
       "    <tr>\n",
       "      <th>5046275</th>\n",
       "      <td>599</td>\n",
       "      <td>5038505</td>\n",
       "      <td>0.0</td>\n",
       "      <td>0.0</td>\n",
       "      <td>0.0</td>\n",
       "      <td>3.0</td>\n",
       "      <td>0.0</td>\n",
       "      <td>0.0</td>\n",
       "      <td>0.0</td>\n",
       "      <td>0.0</td>\n",
       "      <td>...</td>\n",
       "      <td>0.0</td>\n",
       "      <td>0.0</td>\n",
       "      <td>0.0</td>\n",
       "      <td>0.0</td>\n",
       "      <td>0.0</td>\n",
       "      <td>0.0</td>\n",
       "      <td>0.0</td>\n",
       "      <td>0.0</td>\n",
       "      <td>0.0</td>\n",
       "      <td>0.0</td>\n",
       "    </tr>\n",
       "    <tr>\n",
       "      <th>5046276</th>\n",
       "      <td>599</td>\n",
       "      <td>5038499</td>\n",
       "      <td>0.0</td>\n",
       "      <td>0.0</td>\n",
       "      <td>0.0</td>\n",
       "      <td>3.0</td>\n",
       "      <td>0.0</td>\n",
       "      <td>0.0</td>\n",
       "      <td>0.0</td>\n",
       "      <td>0.0</td>\n",
       "      <td>...</td>\n",
       "      <td>0.0</td>\n",
       "      <td>0.0</td>\n",
       "      <td>0.0</td>\n",
       "      <td>0.0</td>\n",
       "      <td>0.0</td>\n",
       "      <td>0.0</td>\n",
       "      <td>0.0</td>\n",
       "      <td>0.0</td>\n",
       "      <td>0.0</td>\n",
       "      <td>0.0</td>\n",
       "    </tr>\n",
       "    <tr>\n",
       "      <th>5046277</th>\n",
       "      <td>599</td>\n",
       "      <td>5037745</td>\n",
       "      <td>0.0</td>\n",
       "      <td>0.0</td>\n",
       "      <td>0.0</td>\n",
       "      <td>1.0</td>\n",
       "      <td>0.0</td>\n",
       "      <td>0.0</td>\n",
       "      <td>0.0</td>\n",
       "      <td>0.0</td>\n",
       "      <td>...</td>\n",
       "      <td>0.0</td>\n",
       "      <td>0.0</td>\n",
       "      <td>0.0</td>\n",
       "      <td>0.0</td>\n",
       "      <td>0.0</td>\n",
       "      <td>0.0</td>\n",
       "      <td>0.0</td>\n",
       "      <td>0.0</td>\n",
       "      <td>0.0</td>\n",
       "      <td>0.0</td>\n",
       "    </tr>\n",
       "  </tbody>\n",
       "</table>\n",
       "<p>5046278 rows × 28 columns</p>\n",
       "</div>"
      ],
      "text/plain": [
       "         graph-id  destination-id  e_p  e_j     e_t  e_u  e_q  e_n  e_v  e_C  \\\n",
       "0               0               0  0.0  0.0  1240.0  0.0  0.0  1.0  0.0  0.0   \n",
       "1               0            5533  0.0  0.0     0.0  0.0  0.0  1.0  0.0  0.0   \n",
       "2               0            5532  0.0  0.0     0.0  0.0  0.0  1.0  0.0  0.0   \n",
       "3               0            5531  0.0  0.0     0.0  0.0  0.0  1.0  0.0  0.0   \n",
       "4               0            5530  0.0  0.0     0.0  0.0  0.0  1.0  0.0  0.0   \n",
       "...           ...             ...  ...  ...     ...  ...  ...  ...  ...  ...   \n",
       "5046273       599         5038503  0.0  0.0     0.0  3.0  0.0  0.0  0.0  0.0   \n",
       "5046274       599         5038504  0.0  0.0     0.0  3.0  0.0  0.0  0.0  0.0   \n",
       "5046275       599         5038505  0.0  0.0     0.0  3.0  0.0  0.0  0.0  0.0   \n",
       "5046276       599         5038499  0.0  0.0     0.0  3.0  0.0  0.0  0.0  0.0   \n",
       "5046277       599         5037745  0.0  0.0     0.0  1.0  0.0  0.0  0.0  0.0   \n",
       "\n",
       "         ...  e_H  e_w  e_r  e_A  e_z  e_y  e_i  e_B  e_x  e_D  \n",
       "0        ...  0.0  0.0  0.0  0.0  0.0  0.0  0.0  0.0  0.0  0.0  \n",
       "1        ...  0.0  0.0  0.0  0.0  0.0  0.0  0.0  0.0  0.0  0.0  \n",
       "2        ...  0.0  0.0  0.0  0.0  0.0  0.0  0.0  0.0  0.0  0.0  \n",
       "3        ...  0.0  0.0  0.0  0.0  0.0  0.0  0.0  0.0  0.0  0.0  \n",
       "4        ...  0.0  0.0  0.0  0.0  0.0  0.0  0.0  0.0  0.0  0.0  \n",
       "...      ...  ...  ...  ...  ...  ...  ...  ...  ...  ...  ...  \n",
       "5046273  ...  0.0  0.0  0.0  0.0  0.0  0.0  0.0  0.0  0.0  0.0  \n",
       "5046274  ...  0.0  0.0  0.0  0.0  0.0  0.0  0.0  0.0  0.0  0.0  \n",
       "5046275  ...  0.0  0.0  0.0  0.0  0.0  0.0  0.0  0.0  0.0  0.0  \n",
       "5046276  ...  0.0  0.0  0.0  0.0  0.0  0.0  0.0  0.0  0.0  0.0  \n",
       "5046277  ...  0.0  0.0  0.0  0.0  0.0  0.0  0.0  0.0  0.0  0.0  \n",
       "\n",
       "[5046278 rows x 28 columns]"
      ]
     },
     "execution_count": 18,
     "metadata": {},
     "output_type": "execute_result"
    }
   ],
   "source": [
    "node_features"
   ]
  },
  {
   "cell_type": "code",
   "execution_count": 44,
   "metadata": {},
   "outputs": [
    {
     "data": {
      "text/plain": [
       "array([0., 0., 0., 0., 0., 0., 0., 0., 0., 0., 1., 0., 0., 0., 0., 0., 0.,\n",
       "       0., 0., 0., 0., 0., 0., 0., 0., 0.])"
      ]
     },
     "execution_count": 44,
     "metadata": {},
     "output_type": "execute_result"
    }
   ],
   "source": [
    "cond = (node_features['destination-id'] == 6830) & (node_features['graph-id'] == 0)\n",
    "node_features[cond].values[:,2:][0]"
   ]
  },
  {
   "cell_type": "code",
   "execution_count": null,
   "metadata": {},
   "outputs": [],
   "source": [
    "\n",
    "with open(f'{dataset.data_root_path}/a_a_list.txt', 'r') as fin:\n",
    "    cnt = 0\n",
    "    line = fin.readline()\n",
    "    while line:\n",
    "        part_ = line.strip().split(':')\n",
    "        gid = int(part_[0])\n",
    "        src_id = int(part_[1])\n",
    "        neigh_list = [int(i) for i in part_[2].split(',')]\n",
    "        line = fin.readline()\n",
    "        cnt += 1\n",
    "        break"
   ]
  },
  {
   "cell_type": "code",
   "execution_count": 28,
   "metadata": {},
   "outputs": [
    {
     "data": {
      "text/plain": [
       "(600, 12, 26)"
      ]
     },
     "execution_count": 28,
     "metadata": {},
     "output_type": "execute_result"
    }
   ],
   "source": [
    "dataset.graph_edge_embedding.shape"
   ]
  },
  {
   "cell_type": "markdown",
   "metadata": {},
   "source": [
    "# PPR"
   ]
  },
  {
   "cell_type": "code",
   "execution_count": 2,
   "metadata": {},
   "outputs": [],
   "source": [
    "import torch\n",
    "from torch_geometric.data import Data, Batch\n",
    "from subgraph import Subgraph\n",
    "from ppr import PPR\n",
    "from data_loader import HetGCNEventGraphDataset"
   ]
  },
  {
   "cell_type": "code",
   "execution_count": 3,
   "metadata": {},
   "outputs": [],
   "source": [
    "data_root_dir = '../ProcessedData_HetGCN'\n",
    "ppr_path = f'../ProcessedData_HetGCN/ppr_neighbours/ppr'"
   ]
  },
  {
   "cell_type": "code",
   "execution_count": 4,
   "metadata": {},
   "outputs": [
    {
     "name": "stdout",
     "output_type": "stream",
     "text": [
      "reading node features..\n",
      "reading edge index..\n",
      "Ignore Edge Weights.\n",
      "read node types ..\n",
      "node types txt: 132485\n",
      "done\n"
     ]
    }
   ],
   "source": [
    "dataset = HetGCNEventGraphDataset(\n",
    "                    node_feature_csv=f'{data_root_dir}/node_feature_norm.csv',\n",
    "                    edge_index_csv=f'{data_root_dir}/edge_index.csv',\n",
    "                    node_type_txt=f'{data_root_dir}/node_types.txt',\n",
    "                    ignore_weight=True,\n",
    "                    include_edge_type=True\n",
    "                )"
   ]
  },
  {
   "cell_type": "code",
   "execution_count": 5,
   "metadata": {},
   "outputs": [],
   "source": [
    "node_feature, edge_index, (_, edge_type), node_types = dataset[101237]"
   ]
  },
  {
   "cell_type": "code",
   "execution_count": 6,
   "metadata": {},
   "outputs": [
    {
     "data": {
      "text/plain": [
       "torch.Size([580, 7])"
      ]
     },
     "execution_count": 6,
     "metadata": {},
     "output_type": "execute_result"
    }
   ],
   "source": [
    "node_feature.shape"
   ]
  },
  {
   "cell_type": "code",
   "execution_count": 39,
   "metadata": {},
   "outputs": [],
   "source": [
    "ppr = PPR(101237, node_feature, edge_index, n_order=10)"
   ]
  },
  {
   "cell_type": "code",
   "execution_count": 8,
   "metadata": {},
   "outputs": [],
   "source": [
    "# ppr.adj_mat.toarray()[306, 456]"
   ]
  },
  {
   "cell_type": "code",
   "execution_count": 40,
   "metadata": {
    "scrolled": true
   },
   "outputs": [
    {
     "name": "stdout",
     "output_type": "stream",
     "text": [
      "Exists neighbor file\n"
     ]
    },
    {
     "data": {
      "text/plain": [
       "{0: array([0], dtype=int32),\n",
       " 1: array([1], dtype=int32),\n",
       " 2: array([  2, 192, 309], dtype=int32),\n",
       " 3: array([3], dtype=int32),\n",
       " 4: array([4], dtype=int32),\n",
       " 5: array([5], dtype=int32),\n",
       " 6: array([6], dtype=int32),\n",
       " 7: array([  7, 195], dtype=int32),\n",
       " 8: array([  8, 287, 325], dtype=int32),\n",
       " 9: array([9], dtype=int32),\n",
       " 10: array([10], dtype=int32),\n",
       " 11: array([11], dtype=int32),\n",
       " 12: array([12], dtype=int32),\n",
       " 13: array([ 13, 291], dtype=int32),\n",
       " 14: array([ 14, 196, 211], dtype=int32),\n",
       " 15: array([15], dtype=int32),\n",
       " 16: array([16], dtype=int32),\n",
       " 17: array([17], dtype=int32),\n",
       " 18: array([18], dtype=int32),\n",
       " 19: array([ 19, 261], dtype=int32),\n",
       " 20: array([ 20, 323, 219, 289, 240, 217], dtype=int32),\n",
       " 21: array([21], dtype=int32),\n",
       " 22: array([22], dtype=int32),\n",
       " 23: array([23], dtype=int32),\n",
       " 24: array([24], dtype=int32),\n",
       " 25: array([25], dtype=int32),\n",
       " 26: array([ 26, 262, 229], dtype=int32),\n",
       " 27: array([ 27, 352], dtype=int32),\n",
       " 28: array([28], dtype=int32),\n",
       " 29: array([ 29, 264, 229], dtype=int32),\n",
       " 30: array([ 30, 353], dtype=int32),\n",
       " 31: array([ 31, 275], dtype=int32),\n",
       " 32: array([ 32, 354, 337], dtype=int32),\n",
       " 33: array([33], dtype=int32),\n",
       " 34: array([ 34, 282, 234, 222], dtype=int32),\n",
       " 35: array([ 35, 366, 250], dtype=int32),\n",
       " 36: array([36], dtype=int32),\n",
       " 37: array([37], dtype=int32),\n",
       " 38: array([ 38, 284, 234, 222], dtype=int32),\n",
       " 39: array([ 39, 373], dtype=int32),\n",
       " 40: array([40], dtype=int32),\n",
       " 41: array([41], dtype=int32),\n",
       " 42: array([42], dtype=int32),\n",
       " 43: array([ 43, 285], dtype=int32),\n",
       " 44: array([ 44, 339, 239, 371, 312], dtype=int32),\n",
       " 45: array([45], dtype=int32),\n",
       " 46: array([46], dtype=int32),\n",
       " 47: array([47], dtype=int32),\n",
       " 48: array([ 48, 191], dtype=int32),\n",
       " 49: array([ 49, 376, 252,   0, 226], dtype=int32),\n",
       " 50: array([50], dtype=int32),\n",
       " 51: array([51], dtype=int32),\n",
       " 52: array([ 52, 193], dtype=int32),\n",
       " 53: array([ 53, 286], dtype=int32),\n",
       " 54: array([ 54, 193], dtype=int32),\n",
       " 55: array([55], dtype=int32),\n",
       " 56: array([56], dtype=int32),\n",
       " 57: array([57], dtype=int32),\n",
       " 58: array([ 58, 194], dtype=int32),\n",
       " 59: array([ 59, 283, 322], dtype=int32),\n",
       " 60: array([60], dtype=int32),\n",
       " 61: array([61], dtype=int32),\n",
       " 62: array([ 62, 290], dtype=int32),\n",
       " 63: array([63], dtype=int32),\n",
       " 64: array([64], dtype=int32),\n",
       " 65: array([65], dtype=int32),\n",
       " 66: array([66], dtype=int32),\n",
       " 67: array([67], dtype=int32),\n",
       " 68: array([ 68, 194], dtype=int32),\n",
       " 69: array([ 69, 287, 325], dtype=int32),\n",
       " 70: array([70], dtype=int32),\n",
       " 71: array([71], dtype=int32),\n",
       " 72: array([ 72, 195], dtype=int32),\n",
       " 73: array([ 73, 288, 235], dtype=int32),\n",
       " 74: array([74], dtype=int32),\n",
       " 75: array([75], dtype=int32),\n",
       " 76: array([ 76, 168, 219, 301, 240, 217], dtype=int32),\n",
       " 77: array([ 77, 290], dtype=int32),\n",
       " 78: array([78], dtype=int32),\n",
       " 79: array([79], dtype=int32),\n",
       " 80: array([80], dtype=int32),\n",
       " 81: array([81], dtype=int32),\n",
       " 82: array([ 82, 198], dtype=int32),\n",
       " 83: array([ 83, 291], dtype=int32),\n",
       " 84: array([84], dtype=int32),\n",
       " 85: array([ 85, 198], dtype=int32),\n",
       " 86: array([86], dtype=int32),\n",
       " 87: array([87], dtype=int32),\n",
       " 88: array([ 88, 202], dtype=int32),\n",
       " 89: array([ 89, 294, 236], dtype=int32),\n",
       " 90: array([ 90, 206], dtype=int32),\n",
       " 91: array([ 91, 297], dtype=int32),\n",
       " 92: array([92], dtype=int32),\n",
       " 93: array([93], dtype=int32),\n",
       " 94: array([ 94, 207], dtype=int32),\n",
       " 95: array([ 95, 300], dtype=int32),\n",
       " 96: array([96], dtype=int32),\n",
       " 97: array([ 97, 218], dtype=int32),\n",
       " 98: array([ 98, 219, 301, 240, 217], dtype=int32),\n",
       " 99: array([99], dtype=int32),\n",
       " 100: array([100, 293, 325], dtype=int32),\n",
       " 101: array([101], dtype=int32),\n",
       " 102: array([102, 221], dtype=int32),\n",
       " 103: array([103, 223, 218], dtype=int32),\n",
       " 104: array([104, 313], dtype=int32),\n",
       " 105: array([105, 214, 227, 306], dtype=int32),\n",
       " 106: array([106, 315], dtype=int32),\n",
       " 107: array([107, 231], dtype=int32),\n",
       " 108: array([108, 318], dtype=int32),\n",
       " 109: array([109, 235], dtype=int32),\n",
       " 110: array([110, 322], dtype=int32),\n",
       " 111: array([111], dtype=int32),\n",
       " 112: array([112, 220, 243, 307], dtype=int32),\n",
       " 113: array([113, 326], dtype=int32),\n",
       " 114: array([114], dtype=int32),\n",
       " 115: array([115, 247, 225], dtype=int32),\n",
       " 116: array([116, 329, 330, 241], dtype=int32),\n",
       " 117: array([117, 328, 324, 251, 316, 241], dtype=int32),\n",
       " 118: array([118, 338], dtype=int32),\n",
       " 119: array([119], dtype=int32),\n",
       " 120: array([120, 260], dtype=int32),\n",
       " 121: array([121, 342], dtype=int32),\n",
       " 122: array([122], dtype=int32),\n",
       " 123: array([123], dtype=int32),\n",
       " 124: array([124], dtype=int32),\n",
       " 125: array([125, 351, 246], dtype=int32),\n",
       " 126: array([126], dtype=int32),\n",
       " 127: array([127], dtype=int32),\n",
       " 128: array([128, 199], dtype=int32),\n",
       " 129: array([129, 292, 236], dtype=int32),\n",
       " 130: array([130, 199], dtype=int32),\n",
       " 131: array([131], dtype=int32),\n",
       " 132: array([132, 295], dtype=int32),\n",
       " 133: array([133, 197, 302, 330, 241], dtype=int32),\n",
       " 134: array([134, 294, 236], dtype=int32),\n",
       " 135: array([135, 200, 212], dtype=int32),\n",
       " 136: array([136], dtype=int32),\n",
       " 137: array([137], dtype=int32),\n",
       " 138: array([138, 296], dtype=int32),\n",
       " 139: array([139, 202], dtype=int32),\n",
       " 140: array([140, 295], dtype=int32),\n",
       " 141: array([141], dtype=int32),\n",
       " 142: array([142], dtype=int32),\n",
       " 143: array([143, 203], dtype=int32),\n",
       " 144: array([144, 296], dtype=int32),\n",
       " 145: array([145, 203], dtype=int32),\n",
       " 146: array([146], dtype=int32),\n",
       " 147: array([147, 238, 298, 222], dtype=int32),\n",
       " 148: array([148, 201, 303], dtype=int32),\n",
       " 149: array([149, 297], dtype=int32),\n",
       " 150: array([150], dtype=int32),\n",
       " 151: array([151, 210, 204, 305, 331], dtype=int32),\n",
       " 152: array([152], dtype=int32),\n",
       " 153: array([153, 299, 327], dtype=int32),\n",
       " 154: array([154, 206], dtype=int32),\n",
       " 155: array([155, 238, 298, 222], dtype=int32),\n",
       " 156: array([156], dtype=int32),\n",
       " 157: array([157], dtype=int32),\n",
       " 158: array([158, 207], dtype=int32),\n",
       " 159: array([159, 299, 327], dtype=int32),\n",
       " 160: array([160], dtype=int32),\n",
       " 161: array([161], dtype=int32),\n",
       " 162: array([162, 208], dtype=int32),\n",
       " 163: array([163, 300], dtype=int32),\n",
       " 164: array([164, 208], dtype=int32),\n",
       " 165: array([165], dtype=int32),\n",
       " 166: array([166, 302, 330, 241], dtype=int32),\n",
       " 167: array([167, 205, 304, 242, 312], dtype=int32),\n",
       " 168: array([168, 219, 301, 240, 217], dtype=int32),\n",
       " 169: array([169, 209, 215], dtype=int32),\n",
       " 170: array([170], dtype=int32),\n",
       " 171: array([171], dtype=int32),\n",
       " 172: array([172, 211], dtype=int32),\n",
       " 173: array([173, 303], dtype=int32),\n",
       " 174: array([174], dtype=int32),\n",
       " 175: array([175, 304, 242, 312], dtype=int32),\n",
       " 176: array([176], dtype=int32),\n",
       " 177: array([177, 212], dtype=int32),\n",
       " 178: array([178, 213, 216], dtype=int32),\n",
       " 179: array([179, 305, 331], dtype=int32),\n",
       " 180: array([180], dtype=int32),\n",
       " 181: array([181, 306], dtype=int32),\n",
       " 182: array([182], dtype=int32),\n",
       " 183: array([183, 215], dtype=int32),\n",
       " 184: array([184], dtype=int32),\n",
       " 185: array([185, 216], dtype=int32),\n",
       " 186: array([186, 307], dtype=int32),\n",
       " 187: array([187], dtype=int32),\n",
       " 188: array([188], dtype=int32),\n",
       " 189: array([189, 217], dtype=int32),\n",
       " 190: array([190, 308, 333, 332], dtype=int32),\n",
       " 191: array([191], dtype=int32),\n",
       " 192: array([192, 309], dtype=int32),\n",
       " 193: array([193], dtype=int32),\n",
       " 194: array([194], dtype=int32),\n",
       " 195: array([195], dtype=int32),\n",
       " 196: array([196, 211], dtype=int32),\n",
       " 197: array([197, 302, 330, 241], dtype=int32),\n",
       " 198: array([198], dtype=int32),\n",
       " 199: array([199], dtype=int32),\n",
       " 200: array([200, 212], dtype=int32),\n",
       " 201: array([201, 303], dtype=int32),\n",
       " 202: array([202], dtype=int32),\n",
       " 203: array([203], dtype=int32),\n",
       " 204: array([204, 210, 305, 331], dtype=int32),\n",
       " 205: array([205, 304, 242, 312], dtype=int32),\n",
       " 206: array([206], dtype=int32),\n",
       " 207: array([207], dtype=int32),\n",
       " 208: array([208], dtype=int32),\n",
       " 209: array([209, 215], dtype=int32),\n",
       " 210: array([210, 305, 331], dtype=int32),\n",
       " 211: array([211], dtype=int32),\n",
       " 212: array([212], dtype=int32),\n",
       " 213: array([213, 216], dtype=int32),\n",
       " 214: array([214, 306], dtype=int32),\n",
       " 215: array([215], dtype=int32),\n",
       " 216: array([216], dtype=int32),\n",
       " 217: array([217], dtype=int32),\n",
       " 218: array([218], dtype=int32),\n",
       " 219: array([219, 217], dtype=int32),\n",
       " 220: array([220, 307], dtype=int32),\n",
       " 221: array([221], dtype=int32),\n",
       " 222: array([222], dtype=int32),\n",
       " 223: array([223, 218], dtype=int32),\n",
       " 224: array([224, 308, 333, 332], dtype=int32),\n",
       " 225: array([225], dtype=int32),\n",
       " 226: array([226], dtype=int32),\n",
       " 227: array([227, 214, 306], dtype=int32),\n",
       " 228: array([228, 309], dtype=int32),\n",
       " 229: array([229], dtype=int32),\n",
       " 230: array([230], dtype=int32),\n",
       " 231: array([231], dtype=int32),\n",
       " 232: array([232, 221], dtype=int32),\n",
       " 233: array([233, 237, 310, 314], dtype=int32),\n",
       " 234: array([234, 222], dtype=int32),\n",
       " 235: array([235], dtype=int32),\n",
       " 236: array([236], dtype=int32),\n",
       " 237: array([237, 314], dtype=int32),\n",
       " 238: array([238, 222], dtype=int32),\n",
       " 239: array([239, 312], dtype=int32),\n",
       " 240: array([240, 219, 217], dtype=int32),\n",
       " 241: array([241], dtype=int32),\n",
       " 242: array([242, 312], dtype=int32),\n",
       " 243: array([243, 220, 307], dtype=int32),\n",
       " 244: array([244, 313], dtype=int32),\n",
       " 245: array([245], dtype=int32),\n",
       " 246: array([246], dtype=int32),\n",
       " 247: array([247, 225], dtype=int32),\n",
       " 248: array([248, 314, 237], dtype=int32),\n",
       " 249: array([249, 225], dtype=int32),\n",
       " 250: array([250], dtype=int32),\n",
       " 251: array([251, 328, 324, 316, 241], dtype=int32),\n",
       " 252: array([252, 226], dtype=int32),\n",
       " 253: array([253, 315], dtype=int32),\n",
       " 254: array([254, 226], dtype=int32),\n",
       " 255: array([255], dtype=int32),\n",
       " 256: array([256], dtype=int32),\n",
       " 257: array([257, 317], dtype=int32),\n",
       " 258: array([258, 224, 308, 333, 332], dtype=int32),\n",
       " 259: array([259, 324, 328, 316, 241], dtype=int32),\n",
       " 260: array([260], dtype=int32),\n",
       " 261: array([261], dtype=int32),\n",
       " 262: array([262, 229], dtype=int32),\n",
       " 263: array([263, 317], dtype=int32),\n",
       " 264: array([264, 229], dtype=int32),\n",
       " 265: array([265], dtype=int32),\n",
       " 266: array([266, 311, 326], dtype=int32),\n",
       " 267: array([267, 230], dtype=int32),\n",
       " 268: array([268, 318], dtype=int32),\n",
       " 269: array([269, 230], dtype=int32),\n",
       " 270: array([270], dtype=int32),\n",
       " 271: array([271], dtype=int32),\n",
       " 272: array([272, 321], dtype=int32),\n",
       " 273: array([273, 231], dtype=int32),\n",
       " 274: array([274, 237, 319, 233, 310, 314], dtype=int32),\n",
       " 275: array([275], dtype=int32),\n",
       " 276: array([276], dtype=int32),\n",
       " 277: array([277, 228, 309], dtype=int32),\n",
       " 278: array([278, 321], dtype=int32),\n",
       " 279: array([279, 232, 221], dtype=int32),\n",
       " 280: array([280], dtype=int32),\n",
       " 281: array([281, 320, 327], dtype=int32),\n",
       " 282: array([282, 234, 222], dtype=int32),\n",
       " 283: array([283, 322], dtype=int32),\n",
       " 284: array([284, 234, 222], dtype=int32),\n",
       " 285: array([285], dtype=int32),\n",
       " 286: array([286], dtype=int32),\n",
       " 287: array([287, 325], dtype=int32),\n",
       " 288: array([288, 235], dtype=int32),\n",
       " 289: array([289, 323, 219, 240, 217], dtype=int32),\n",
       " 290: array([290], dtype=int32),\n",
       " 291: array([291], dtype=int32),\n",
       " 292: array([292, 236], dtype=int32),\n",
       " 293: array([293, 325], dtype=int32),\n",
       " 294: array([294, 236], dtype=int32),\n",
       " 295: array([295], dtype=int32),\n",
       " 296: array([296], dtype=int32),\n",
       " 297: array([297], dtype=int32),\n",
       " 298: array([298, 238, 222], dtype=int32),\n",
       " 299: array([299, 327], dtype=int32),\n",
       " 300: array([300], dtype=int32),\n",
       " 301: array([301, 219, 240, 217], dtype=int32),\n",
       " 302: array([302, 330, 241], dtype=int32),\n",
       " 303: array([303], dtype=int32),\n",
       " 304: array([304, 242, 312], dtype=int32),\n",
       " 305: array([305, 331], dtype=int32),\n",
       " 306: array([306], dtype=int32),\n",
       " 307: array([307], dtype=int32),\n",
       " 308: array([308, 333, 332], dtype=int32),\n",
       " 309: array([309], dtype=int32),\n",
       " 310: array([310, 237, 314], dtype=int32),\n",
       " 311: array([311, 326], dtype=int32),\n",
       " 312: array([312], dtype=int32),\n",
       " 313: array([313], dtype=int32),\n",
       " 314: array([314, 237], dtype=int32),\n",
       " 315: array([315], dtype=int32),\n",
       " 316: array([316, 328, 324, 241], dtype=int32),\n",
       " 317: array([317], dtype=int32),\n",
       " 318: array([318], dtype=int32),\n",
       " 319: array([319, 314, 233, 237, 310], dtype=int32),\n",
       " 320: array([320, 327], dtype=int32),\n",
       " 321: array([321], dtype=int32),\n",
       " 322: array([322], dtype=int32),\n",
       " 323: array([323, 219, 240, 217], dtype=int32),\n",
       " 324: array([324, 328, 241], dtype=int32),\n",
       " 325: array([325], dtype=int32),\n",
       " 326: array([326], dtype=int32),\n",
       " 327: array([327], dtype=int32),\n",
       " 328: array([328, 241], dtype=int32),\n",
       " 329: array([329, 330, 241], dtype=int32),\n",
       " 330: array([330, 241], dtype=int32),\n",
       " 331: array([331], dtype=int32),\n",
       " 332: array([332], dtype=int32),\n",
       " 333: array([333, 332], dtype=int32),\n",
       " 334: array([334, 242, 312], dtype=int32),\n",
       " 335: array([335, 331], dtype=int32),\n",
       " 336: array([336], dtype=int32),\n",
       " 337: array([337], dtype=int32),\n",
       " 338: array([338], dtype=int32),\n",
       " 339: array([339, 239, 312], dtype=int32),\n",
       " 340: array([340, 332], dtype=int32),\n",
       " 341: array([341], dtype=int32),\n",
       " 342: array([342], dtype=int32),\n",
       " 343: array([343], dtype=int32),\n",
       " 344: array([344, 245], dtype=int32),\n",
       " 345: array([345, 333, 332], dtype=int32),\n",
       " 346: array([346, 245], dtype=int32),\n",
       " 347: array([347], dtype=int32),\n",
       " 348: array([348, 336], dtype=int32),\n",
       " 349: array([349, 246], dtype=int32),\n",
       " 350: array([350, 334, 242, 312], dtype=int32),\n",
       " 351: array([351, 246], dtype=int32),\n",
       " 352: array([352], dtype=int32),\n",
       " 353: array([353], dtype=int32),\n",
       " 354: array([354, 337], dtype=int32),\n",
       " 355: array([355, 244, 313], dtype=int32),\n",
       " 356: array([356, 336], dtype=int32),\n",
       " 357: array([357], dtype=int32),\n",
       " 358: array([358], dtype=int32),\n",
       " 359: array([359, 249, 225], dtype=int32),\n",
       " 360: array([360, 337], dtype=int32),\n",
       " 361: array([361, 249, 225], dtype=int32),\n",
       " 362: array([362], dtype=int32),\n",
       " 363: array([363, 335, 331], dtype=int32),\n",
       " 364: array([364, 250], dtype=int32),\n",
       " 365: array([365, 338], dtype=int32),\n",
       " 366: array([366, 250], dtype=int32),\n",
       " 367: array([367], dtype=int32),\n",
       " 368: array([368], dtype=int32),\n",
       " 369: array([369, 341], dtype=int32),\n",
       " 370: array([370, 324, 328, 251, 316, 241], dtype=int32),\n",
       " 371: array([371, 339, 239, 312], dtype=int32),\n",
       " 372: array([372], dtype=int32),\n",
       " 373: array([373], dtype=int32),\n",
       " 374: array([374, 314, 248, 237], dtype=int32),\n",
       " 375: array([375, 341,  17], dtype=int32),\n",
       " 376: array([376, 252,   0, 226], dtype=int32),\n",
       " 377: array([377,   2, 192, 309], dtype=int32),\n",
       " 378: array([378,   3], dtype=int32),\n",
       " 379: array([379,   4], dtype=int32),\n",
       " 380: array([380,   5, 255], dtype=int32),\n",
       " 381: array([381,   6, 343], dtype=int32),\n",
       " 382: array([382,   7, 195], dtype=int32),\n",
       " 383: array([383,   8, 287, 325, 256], dtype=int32),\n",
       " 384: array([384,   9, 346, 245], dtype=int32),\n",
       " 385: array([385,  10], dtype=int32),\n",
       " 386: array([386,  11, 258, 224, 308, 333, 332], dtype=int32),\n",
       " 387: array([387,  12, 347], dtype=int32),\n",
       " 388: array([388,  13, 291], dtype=int32),\n",
       " 389: array([389, 196,  14, 211], dtype=int32),\n",
       " 390: array([390,  15, 345, 333, 332], dtype=int32),\n",
       " 391: array([391,  16], dtype=int32),\n",
       " 392: array([392, 254,  17, 226], dtype=int32),\n",
       " 393: array([393, 342,  25], dtype=int32),\n",
       " 394: array([394,  18], dtype=int32),\n",
       " 395: array([395,  19, 261], dtype=int32),\n",
       " 396: array([396, 289, 323, 219,  20, 240, 217], dtype=int32),\n",
       " 397: array([397,  21, 254, 226], dtype=int32),\n",
       " 398: array([398,  22, 340, 332], dtype=int32),\n",
       " 399: array([399,  23], dtype=int32),\n",
       " 400: array([400,  24], dtype=int32),\n",
       " 401: array([401, 255,  25], dtype=int32),\n",
       " 402: array([402, 343,  28], dtype=int32),\n",
       " 403: array([403, 262,  26, 229], dtype=int32),\n",
       " 404: array([404,  27, 352], dtype=int32),\n",
       " 405: array([405, 256,  28], dtype=int32),\n",
       " 406: array([406, 344,  32, 245, 354, 337], dtype=int32),\n",
       " 407: array([407,  29, 264, 229], dtype=int32),\n",
       " 408: array([408,  30, 353], dtype=int32),\n",
       " 409: array([409,  31, 275], dtype=int32),\n",
       " 410: array([410, 257,  32, 317, 354, 337], dtype=int32),\n",
       " 411: array([411, 346,  37, 245], dtype=int32),\n",
       " 412: array([412,  33], dtype=int32),\n",
       " 413: array([413, 282,  34, 234, 222], dtype=int32),\n",
       " 414: array([414,  35, 366, 250, 257, 317], dtype=int32),\n",
       " 415: array([415,  36, 348, 336], dtype=int32),\n",
       " 416: array([416, 253,  37, 315], dtype=int32),\n",
       " 417: array([417, 347,  41], dtype=int32),\n",
       " 418: array([418,  38, 284, 234, 222], dtype=int32),\n",
       " 419: array([419,  39, 373], dtype=int32),\n",
       " 420: array([420,  40], dtype=int32),\n",
       " 421: array([421, 260,  41], dtype=int32),\n",
       " 422: array([422, 348,  45, 336], dtype=int32),\n",
       " 423: array([423,  42], dtype=int32),\n",
       " 424: array([424,  43, 285], dtype=int32),\n",
       " 425: array([425, 371, 339, 239,  44, 312], dtype=int32),\n",
       " 426: array([426, 261,  45], dtype=int32),\n",
       " 427: array([427, 349, 376,  49, 246, 252,   0, 226], dtype=int32),\n",
       " 428: array([428,  46], dtype=int32),\n",
       " 429: array([429,  47], dtype=int32),\n",
       " 430: array([430,  48, 191], dtype=int32),\n",
       " 431: array([431, 259, 376, 324, 328,  49, 316, 252,   0, 241, 226], dtype=int32),\n",
       " 432: array([432,   1, 351, 246], dtype=int32),\n",
       " 433: array([433,  50], dtype=int32),\n",
       " 434: array([434,  51], dtype=int32),\n",
       " 435: array([435,  52, 264, 229, 193], dtype=int32),\n",
       " 436: array([436, 352,  56], dtype=int32),\n",
       " 437: array([437,  54, 193], dtype=int32),\n",
       " 438: array([438,  55], dtype=int32),\n",
       " 439: array([439, 265,  56], dtype=int32),\n",
       " 440: array([440, 353,  60], dtype=int32),\n",
       " 441: array([441,  57, 265], dtype=int32),\n",
       " 442: array([442,  58, 194], dtype=int32),\n",
       " 443: array([443, 283,  59, 350, 334, 322, 242, 312], dtype=int32),\n",
       " 444: array([444, 311, 266,  60, 326], dtype=int32),\n",
       " 445: array([445, 354,  92, 337], dtype=int32),\n",
       " 446: array([446,  61, 311, 266, 326], dtype=int32),\n",
       " 447: array([447,  62, 290], dtype=int32),\n",
       " 448: array([448,  63], dtype=int32),\n",
       " 449: array([449,  64, 267, 230], dtype=int32),\n",
       " 450: array([450,  65, 357], dtype=int32),\n",
       " 451: array([451,  66], dtype=int32),\n",
       " 452: array([452,  67, 269, 230], dtype=int32),\n",
       " 453: array([453,  68,  53, 358, 194, 286], dtype=int32),\n",
       " 454: array([454,  70], dtype=int32),\n",
       " 455: array([455,  71, 356, 336], dtype=int32),\n",
       " 456: array([456,  72,  69, 270, 195, 287, 325], dtype=int32),\n",
       " 457: array([457,  74], dtype=int32),\n",
       " 458: array([458,  75, 271], dtype=int32),\n",
       " 459: array([459,  76,  73, 168, 288, 219, 361, 249, 225, 301, 235, 240, 217],\n",
       "       dtype=int32),\n",
       " 460: array([460,  78], dtype=int32),\n",
       " 461: array([461,  79], dtype=int32),\n",
       " 462: array([462,  80, 362], dtype=int32),\n",
       " 463: array([463,  81], dtype=int32),\n",
       " 464: array([464,  82,  77, 198, 290], dtype=int32),\n",
       " 465: array([465,  84, 272, 321], dtype=int32),\n",
       " 466: array([466,  85, 273, 198, 231], dtype=int32),\n",
       " 467: array([467,  86, 335, 363, 331], dtype=int32),\n",
       " 468: array([468,  87], dtype=int32),\n",
       " 469: array([469,  88, 360, 202, 337], dtype=int32),\n",
       " 470: array([470,  89, 294, 236], dtype=int32),\n",
       " 471: array([471,  90, 206], dtype=int32),\n",
       " 472: array([472,  91, 297], dtype=int32),\n",
       " 473: array([473, 263,  92, 317], dtype=int32),\n",
       " 474: array([474, 355, 244,  95, 300, 313], dtype=int32),\n",
       " 475: array([475,  93], dtype=int32),\n",
       " 476: array([476,  94, 207], dtype=int32),\n",
       " 477: array([477, 269,  95, 230, 300], dtype=int32),\n",
       " 478: array([478, 219, 357,  98, 301, 240, 217], dtype=int32),\n",
       " 479: array([479,  96], dtype=int32),\n",
       " 480: array([480,  97, 218], dtype=int32),\n",
       " 481: array([481, 219, 270,  98, 301, 240, 217], dtype=int32),\n",
       " 482: array([482, 358, 102, 221], dtype=int32),\n",
       " 483: array([483,  99], dtype=int32),\n",
       " 484: array([484, 293, 100, 325], dtype=int32),\n",
       " 485: array([485, 101], dtype=int32),\n",
       " 486: array([486, 271, 102, 221], dtype=int32),\n",
       " 487: array([487, 359, 227, 214, 105, 249, 225, 306], dtype=int32),\n",
       " 488: array([488, 223, 103, 218], dtype=int32),\n",
       " 489: array([489, 104, 313], dtype=int32),\n",
       " 490: array([490, 227, 214, 272, 105, 321, 306], dtype=int32),\n",
       " 491: array([491, 361, 110, 249, 322, 225], dtype=int32),\n",
       " 492: array([492, 106, 315], dtype=int32),\n",
       " 493: array([493, 107, 231], dtype=int32),\n",
       " 494: array([494, 108, 318], dtype=int32),\n",
       " 495: array([495, 109, 235], dtype=int32),\n",
       " 496: array([496, 268, 110, 318, 322], dtype=int32),\n",
       " 497: array([497, 362, 113, 326], dtype=int32),\n",
       " 498: array([498, 111], dtype=int32),\n",
       " 499: array([499, 243, 220, 112, 307], dtype=int32),\n",
       " 500: array([500, 275, 113, 326], dtype=int32),\n",
       " 501: array([501, 335, 329, 363, 116, 331, 330, 241], dtype=int32),\n",
       " 502: array([502, 114], dtype=int32),\n",
       " 503: array([503, 247, 115, 225], dtype=int32),\n",
       " 504: array([504, 329, 276, 116, 330, 241], dtype=int32),\n",
       " 505: array([505, 364, 130, 250, 199], dtype=int32),\n",
       " 506: array([506, 324, 328, 117, 251, 316, 241], dtype=int32),\n",
       " 507: array([507, 118, 338], dtype=int32),\n",
       " 508: array([508, 119, 276], dtype=int32),\n",
       " 509: array([509, 120, 260, 367], dtype=int32),\n",
       " 510: array([510, 121, 342], dtype=int32),\n",
       " 511: array([511, 122, 232, 279, 221], dtype=int32),\n",
       " 512: array([512, 123, 369, 341], dtype=int32),\n",
       " 513: array([513, 124, 280], dtype=int32),\n",
       " 514: array([514, 125, 365, 351, 246, 338], dtype=int32),\n",
       " 515: array([515, 126], dtype=int32),\n",
       " 516: array([516, 127], dtype=int32),\n",
       " 517: array([517, 128,  83, 199, 291], dtype=int32),\n",
       " 518: array([518, 314, 274, 319, 233, 310, 237, 130, 199], dtype=int32),\n",
       " 519: array([519, 134, 366, 250, 294, 236], dtype=int32),\n",
       " 520: array([520, 131], dtype=int32),\n",
       " 521: array([521, 132, 295], dtype=int32),\n",
       " 522: array([522, 277, 133, 129, 228, 197, 292, 309, 302, 236, 330, 241],\n",
       "       dtype=int32),\n",
       " 523: array([523, 200, 135, 212], dtype=int32),\n",
       " 524: array([524, 136, 368], dtype=int32),\n",
       " 525: array([525, 137], dtype=int32),\n",
       " 526: array([526, 138, 296], dtype=int32),\n",
       " 527: array([527, 139, 232, 279, 202, 221], dtype=int32),\n",
       " 528: array([528, 140, 367, 295], dtype=int32),\n",
       " 529: array([529, 141], dtype=int32),\n",
       " 530: array([530, 142], dtype=int32),\n",
       " 531: array([531, 143, 280, 203], dtype=int32),\n",
       " 532: array([532, 144, 368, 296], dtype=int32),\n",
       " 533: array([533, 145, 203], dtype=int32),\n",
       " 534: array([534, 146], dtype=int32),\n",
       " 535: array([535, 238, 147, 298, 222], dtype=int32),\n",
       " 536: array([536, 148, 320, 201, 281, 327, 303], dtype=int32),\n",
       " 537: array([537, 149, 369, 341, 297], dtype=int32),\n",
       " 538: array([538, 150], dtype=int32),\n",
       " 539: array([539, 204, 210, 151, 320, 305, 331, 281, 327], dtype=int32),\n",
       " 540: array([540, 152], dtype=int32),\n",
       " 541: array([541, 153, 299, 327, 372], dtype=int32),\n",
       " 542: array([542, 278, 154, 321, 206], dtype=int32),\n",
       " 543: array([543, 370, 324, 328, 160, 251, 316, 241], dtype=int32),\n",
       " 544: array([544, 156], dtype=int32),\n",
       " 545: array([545, 157], dtype=int32),\n",
       " 546: array([546, 158, 155, 238, 207, 298, 222], dtype=int32),\n",
       " 547: array([547, 284, 160, 234, 222], dtype=int32),\n",
       " 548: array([548, 372, 170], dtype=int32),\n",
       " 549: array([549, 161], dtype=int32),\n",
       " 550: array([550, 162, 159, 208, 299, 327], dtype=int32),\n",
       " 551: array([551, 164, 208], dtype=int32),\n",
       " 552: array([552, 165], dtype=int32),\n",
       " 553: array([553, 166, 302, 330, 241], dtype=int32),\n",
       " 554: array([554, 167, 163, 205, 300, 304, 242, 312], dtype=int32),\n",
       " 555: array([555, 209, 169, 215], dtype=int32),\n",
       " 556: array([556, 285, 170], dtype=int32),\n",
       " 557: array([557, 213, 373, 178, 216], dtype=int32),\n",
       " 558: array([558, 171], dtype=int32),\n",
       " 559: array([559, 172, 211], dtype=int32),\n",
       " 560: array([560, 173, 303], dtype=int32),\n",
       " 561: array([561, 174], dtype=int32),\n",
       " 562: array([562, 175, 304, 242, 312], dtype=int32),\n",
       " 563: array([563, 176], dtype=int32),\n",
       " 564: array([564, 177, 212, 190, 308, 333, 332], dtype=int32),\n",
       " 565: array([565, 213, 191, 178, 216], dtype=int32),\n",
       " 566: array([566, 182], dtype=int32),\n",
       " 567: array([567, 179, 305, 331], dtype=int32),\n",
       " 568: array([568, 180], dtype=int32),\n",
       " 569: array([569, 181, 306], dtype=int32),\n",
       " 570: array([570, 286, 182], dtype=int32),\n",
       " 571: array([571, 237, 374, 314, 248, 185, 216], dtype=int32),\n",
       " 572: array([572, 183, 215], dtype=int32),\n",
       " 573: array([573, 184], dtype=int32),\n",
       " 574: array([574, 192, 185, 309, 216], dtype=int32),\n",
       " 575: array([575, 190, 308, 333, 332], dtype=int32),\n",
       " 576: array([576, 186, 307], dtype=int32),\n",
       " 577: array([577, 187], dtype=int32),\n",
       " 578: array([578, 188], dtype=int32),\n",
       " 579: array([579, 189, 217], dtype=int32)}"
      ]
     },
     "execution_count": 40,
     "metadata": {},
     "output_type": "execute_result"
    }
   ],
   "source": [
    "ppr.search_all(580, ppr_path)"
   ]
  },
  {
   "cell_type": "code",
   "execution_count": 70,
   "metadata": {
    "scrolled": true
   },
   "outputs": [
    {
     "data": {
      "text/plain": [
       "array([237, 314], dtype=int32)"
      ]
     },
     "execution_count": 70,
     "metadata": {},
     "output_type": "execute_result"
    }
   ],
   "source": [
    "ppr.search(237)"
   ]
  },
  {
   "cell_type": "code",
   "execution_count": 11,
   "metadata": {},
   "outputs": [],
   "source": [
    "# ppr.P.toarray()[456,306]"
   ]
  },
  {
   "cell_type": "code",
   "execution_count": 12,
   "metadata": {},
   "outputs": [],
   "source": [
    "# ppr.search(840)"
   ]
  },
  {
   "cell_type": "code",
   "execution_count": 13,
   "metadata": {},
   "outputs": [],
   "source": [
    "# edge_index[0][edge_index[0] == 0], edge_index[1][edge_index[0] == 0]"
   ]
  },
  {
   "cell_type": "code",
   "execution_count": 14,
   "metadata": {
    "scrolled": true
   },
   "outputs": [],
   "source": [
    "# ppr.search_all(841, path=)\n"
   ]
  },
  {
   "cell_type": "code",
   "execution_count": 55,
   "metadata": {},
   "outputs": [
    {
     "data": {
      "text/plain": [
       "(tensor([306], device='cuda:0'), tensor([311], device='cuda:0'))"
      ]
     },
     "execution_count": 55,
     "metadata": {},
     "output_type": "execute_result"
    }
   ],
   "source": [
    "cond = (edge_index[0] == 306) & (\n",
    "                    sum(edge_index[1] == k for k in [456]).bool()\n",
    ")\n",
    "# edge_index[0][sum(edge_index[0] == k for k in [265]).bool()], edge_index[1][sum(edge_index[0] == k for k in [265]).bool()]\n",
    "\n",
    "\n",
    "\n",
    "edge_index[0][edge_index[0] == 306], edge_index[1][edge_index[0] == 306]\n",
    "# edge_index[0][edge_index[0] == 3], edge_index[1][edge_index[1] == 306]"
   ]
  },
  {
   "cell_type": "code",
   "execution_count": null,
   "metadata": {},
   "outputs": [],
   "source": [
    "# TODO: regen 103245"
   ]
  },
  {
   "cell_type": "code",
   "execution_count": 80,
   "metadata": {},
   "outputs": [
    {
     "name": "stdout",
     "output_type": "stream",
     "text": [
      "../ProcessedData_HetGCN/ppr_neighbours/ppr_neighbor101237.pt\n",
      "ls: cannot access ../ProcessedData_HetGCN/ppr_subgraphs/ppr_subgraph101237.pt: No such file or directory\n",
      "rm: cannot remove ‘../ProcessedData_HetGCN/ppr_subgraphs/ppr_subgraph101237.pt’: No such file or directory\n"
     ]
    }
   ],
   "source": [
    "!ls ../ProcessedData_HetGCN/ppr_neighbours/ppr_neighbor103245.pt\n",
    "!ls ../ProcessedData_HetGCN/ppr_subgraphs/ppr_subgraph103245.pt\n",
    "\n",
    "!rm ../ProcessedData_HetGCN/ppr_neighbours/ppr_neighbor103245.pt\n",
    "!rm ../ProcessedData_HetGCN/ppr_subgraphs/ppr_subgraph103245.pt"
   ]
  },
  {
   "cell_type": "code",
   "execution_count": 124,
   "metadata": {},
   "outputs": [],
   "source": [
    "subgraph = Subgraph(103245, None, None, subgraph_path=\"../ProcessedData_HetGCN/ppr_subgraphs/ppr\")\n",
    "subgraph.build()"
   ]
  },
  {
   "cell_type": "code",
   "execution_count": 125,
   "metadata": {},
   "outputs": [
    {
     "data": {
      "text/plain": [
       "(DataDataBatch(x=[12, 7], edge_index=[2, 12], edge_attr=[12], pos=[12], batch=[12], ptr=[7]),\n",
       " tensor([ 0,  3,  4,  7,  9, 10]))"
      ]
     },
     "execution_count": 125,
     "metadata": {},
     "output_type": "execute_result"
    }
   ],
   "source": [
    "subgraph.search([0,3,4,9,5,11])"
   ]
  },
  {
   "cell_type": "code",
   "execution_count": 134,
   "metadata": {},
   "outputs": [
    {
     "data": {
      "text/plain": [
       "(90000, 105000)"
      ]
     },
     "execution_count": 134,
     "metadata": {},
     "output_type": "execute_result"
    }
   ],
   "source": [
    "15000 * 6, 15000 * 7"
   ]
  },
  {
   "cell_type": "code",
   "execution_count": 126,
   "metadata": {},
   "outputs": [],
   "source": [
    "# subgraph = Subgraph(103245, dataset[103245], ppr_path, 100, 10, subgraph_path=\"../ProcessedData_HetGCN/ppr_subgraphs/ppr\")\n"
   ]
  },
  {
   "cell_type": "code",
   "execution_count": 127,
   "metadata": {
    "scrolled": true
   },
   "outputs": [],
   "source": [
    "# subgraph.build()"
   ]
  },
  {
   "cell_type": "code",
   "execution_count": 128,
   "metadata": {},
   "outputs": [],
   "source": [
    "# row, col = edge_index\n",
    "# row[(row == 309) & (col == 192)], col[(row == 309) & (col == 192)]"
   ]
  },
  {
   "cell_type": "code",
   "execution_count": 129,
   "metadata": {},
   "outputs": [],
   "source": [
    "# torch.cuda.empty_cache()\n",
    "sample_idx = [266, 20, 24, 569, 299, 228, 782, 717, 338, 520, 741, 208, 216, 41, 585, 435, 534, 697, 693, 450, 591, 571, 445, 329, 611, 507, 533, 421, 462, 451, 312, 455, 688, 500, 426, 777, 704, 560, 196, 726, 505, 794, 618, 510, 822, 824, 460, 422, 601, 414, 690, 121, 700, 324, 600, 562, 151, 398, 2, 805, 580, 607, 809, 606, 657, 177, 759, 236, 75, 829, 96, 734, 366, 798, 515, 466, 468, 684, 164, 306, 71, 199, 801, 279, 542, 590, 52, 803, 360, 141, 707, 355, 667, 493, 168, 558, 557, 200, 16, 723]\n",
    "\n"
   ]
  },
  {
   "cell_type": "code",
   "execution_count": 130,
   "metadata": {},
   "outputs": [
    {
     "data": {
      "text/plain": [
       "DataDataBatch(x=[295, 7], edge_index=[2, 438], edge_attr=[438], pos=[295], batch=[295], ptr=[101])"
      ]
     },
     "execution_count": 130,
     "metadata": {},
     "output_type": "execute_result"
    }
   ],
   "source": [
    "x_, index_ = subgraph.search(sample_idx)\n",
    "x_"
   ]
  },
  {
   "cell_type": "code",
   "execution_count": 104,
   "metadata": {},
   "outputs": [
    {
     "data": {
      "text/plain": [
       "tensor([0, 0, 0, 0, 0, 0, 0, 0, 0, 0, 0, 0, 1, 1, 1, 0, 0, 1, 0, 1, 0, 1, 0, 1,\n",
       "        0, 1, 0, 0, 1, 0, 1, 0, 1, 1, 1, 1, 2, 2, 0, 0, 0, 0, 0, 0, 1, 0, 0, 0,\n",
       "        1, 1, 1, 2, 2, 0, 1, 1, 1, 1, 1, 0, 1, 0, 2, 2, 0, 0, 0, 0, 0, 0, 0, 1,\n",
       "        0, 1, 1, 1, 0, 0, 0, 0, 2, 0, 2, 0, 1, 2, 2, 1, 0, 0, 0, 0, 0, 2, 2, 0,\n",
       "        0, 0, 0, 0, 0, 0, 0, 0, 3, 3, 2, 2, 0, 0, 0, 0, 1, 0, 1, 0, 0, 0, 0, 0,\n",
       "        0, 0, 1, 1, 0, 0, 0, 0, 0, 0, 0, 0, 0, 0, 0, 0, 1, 1, 2, 2, 2, 2, 0, 0,\n",
       "        0, 0, 0, 0, 1, 1, 1, 1, 0, 0, 0, 0, 0, 0, 0, 0, 0, 0, 0, 0, 0, 0, 1, 1,\n",
       "        0, 2, 2, 0, 0, 0, 0, 0, 0, 0, 0, 0, 0, 0, 0, 0, 2, 2, 1, 1, 0, 0, 0, 0,\n",
       "        0, 0, 0, 0, 0, 0, 1, 0, 0, 1, 1, 1, 0, 2, 0, 1, 2, 1, 0, 0, 1, 0, 1, 1,\n",
       "        1, 0, 0, 0, 0, 0, 0, 0, 0, 2, 0, 2, 1, 1, 0, 1, 0, 0, 1, 1, 1, 0, 0, 2,\n",
       "        2, 2, 0, 2, 0, 2, 0, 1, 0, 2, 0, 0, 1, 0, 0, 0, 0, 0, 1, 0, 1, 1, 0, 1,\n",
       "        2, 2, 0, 2, 2, 0, 0, 0, 0, 0, 0, 0, 0, 0, 2, 0, 2, 0, 1, 1, 0, 0, 0, 0,\n",
       "        0, 0, 0, 0, 1, 1, 0, 0, 0, 0, 0, 1, 0, 1, 2, 2, 2, 2, 0, 0, 0, 0, 0, 0,\n",
       "        0, 0, 0, 0, 0, 0, 0, 0, 1, 0, 0, 0, 1, 0, 0, 0, 0, 0, 1, 1, 0, 2, 0, 2,\n",
       "        0, 1, 0, 1, 1, 1, 0, 0, 2, 0, 0, 2, 2, 2, 1, 1, 0, 0, 0, 0, 2, 2, 0, 0,\n",
       "        0, 1, 0, 1, 1, 1, 0, 0, 0, 0, 0, 0, 0, 0, 2, 0, 0, 2, 2, 2, 0, 2, 0, 2,\n",
       "        0, 0, 0, 0, 2, 2, 0, 0, 0, 0, 1, 0, 1, 0, 1, 1, 0, 0])"
      ]
     },
     "execution_count": 104,
     "metadata": {},
     "output_type": "execute_result"
    }
   ],
   "source": [
    "x_.edge_attr"
   ]
  },
  {
   "cell_type": "code",
   "execution_count": 114,
   "metadata": {},
   "outputs": [
    {
     "data": {
      "text/plain": [
       "tensor([[1, 2, 4, 5, 6, 7, 8, 9],\n",
       "        [2, 1, 5, 4, 7, 6, 9, 8]])"
      ]
     },
     "execution_count": 114,
     "metadata": {},
     "output_type": "execute_result"
    }
   ],
   "source": [
    "x_.edge_index"
   ]
  },
  {
   "cell_type": "code",
   "execution_count": 116,
   "metadata": {},
   "outputs": [
    {
     "data": {
      "text/plain": [
       "tensor([0, 1, 1, 2, 3, 3, 4, 4, 5, 5])"
      ]
     },
     "execution_count": 116,
     "metadata": {},
     "output_type": "execute_result"
    }
   ],
   "source": [
    "x_.batch"
   ]
  },
  {
   "cell_type": "code",
   "execution_count": 102,
   "metadata": {},
   "outputs": [
    {
     "data": {
      "text/plain": [
       "tensor([0, 5, 4, 2, 3, 4])"
      ]
     },
     "execution_count": 102,
     "metadata": {},
     "output_type": "execute_result"
    }
   ],
   "source": [
    "x_.pos"
   ]
  },
  {
   "cell_type": "code",
   "execution_count": 58,
   "metadata": {},
   "outputs": [
    {
     "data": {
      "text/plain": [
       "tensor([[ 2.3552e-04,  2.6773e-04, -1.8384e-05,  0.0000e+00,  0.0000e+00,\n",
       "          0.0000e+00,  2.6262e-04],\n",
       "        [ 2.2004e-04,  2.6773e-04,  2.3899e-04,  3.1070e-08,  5.1565e-05,\n",
       "          1.4681e-06,  2.1675e-04],\n",
       "        [ 2.2165e-04,  1.4416e-04,  7.3536e-05,  2.1438e-06,  1.0313e-04,\n",
       "          1.8645e-04,  2.2148e-04],\n",
       "        [ 2.2036e-04,  2.0595e-05,  7.3536e-05,  2.9206e-06,  0.0000e+00,\n",
       "          1.8938e-04,  2.1769e-04],\n",
       "        [ 2.2036e-04,  8.2378e-05,  7.3536e-05,  2.9724e-06,  5.1565e-05,\n",
       "          1.6002e-04,  2.1801e-04],\n",
       "        [ 4.6782e-06,  1.8535e-04,  2.3899e-04,  6.3486e-06,  2.0626e-04,\n",
       "          2.6426e-04,  4.5714e-06],\n",
       "        [ 2.2149e-04,  1.2357e-04,  1.1030e-04,  6.2761e-06,  2.5782e-04,\n",
       "          3.2885e-04,  2.2116e-04],\n",
       "        [ 2.3552e-04,  2.6773e-04, -1.8384e-05,  0.0000e+00,  0.0000e+00,\n",
       "          0.0000e+00,  2.6262e-04],\n",
       "        [ 2.3552e-04,  2.6773e-04, -1.8384e-05,  9.5488e-06,  1.0313e-04,\n",
       "          0.0000e+00,  2.6278e-04],\n",
       "        [ 2.2101e-04,  2.6773e-04,  2.3899e-04,  2.0713e-06,  1.5469e-04,\n",
       "          1.1745e-05,  2.1974e-04],\n",
       "        [ 6.9367e-06,  1.8535e-04,  2.3899e-04,  5.2197e-06,  2.0626e-04,\n",
       "          2.5692e-04,  6.7783e-06]], device='cuda:0')"
      ]
     },
     "execution_count": 58,
     "metadata": {},
     "output_type": "execute_result"
    }
   ],
   "source": [
    "x_.x"
   ]
  },
  {
   "cell_type": "code",
   "execution_count": 45,
   "metadata": {},
   "outputs": [
    {
     "data": {
      "text/plain": [
       "tensor([[0, 1, 1, 2, 2, 3, 3, 4],\n",
       "        [3, 4, 2, 3, 1, 0, 2, 1]])"
      ]
     },
     "execution_count": 45,
     "metadata": {},
     "output_type": "execute_result"
    }
   ],
   "source": [
    "Batch().from_data_list([subgraph.subgraph[3], subgraph.subgraph[0]]).edge_index"
   ]
  },
  {
   "cell_type": "code",
   "execution_count": 63,
   "metadata": {},
   "outputs": [
    {
     "data": {
      "text/plain": [
       "array([     0,      1,      2, ..., 132482, 132483, 132484])"
      ]
     },
     "execution_count": 63,
     "metadata": {},
     "output_type": "execute_result"
    }
   ],
   "source": [
    "dataset.node_feature_df['trace_id'].unique()"
   ]
  },
  {
   "cell_type": "code",
   "execution_count": 12,
   "metadata": {},
   "outputs": [
    {
     "ename": "RuntimeError",
     "evalue": "Cannot re-initialize CUDA in forked subprocess. To use CUDA with multiprocessing, you must use the 'spawn' start method",
     "output_type": "error",
     "traceback": [
      "\u001b[0;31m---------------------------------------------------------------------------\u001b[0m",
      "\u001b[0;31mRemoteTraceback\u001b[0m                           Traceback (most recent call last)",
      "\u001b[0;31mRemoteTraceback\u001b[0m: \n\"\"\"\nTraceback (most recent call last):\n  File \"/home/ec2-user/anaconda3/envs/python3/lib/python3.6/multiprocessing/pool.py\", line 119, in worker\n    result = (True, func(*args, **kwds))\n  File \"/home/ec2-user/anaconda3/envs/python3/lib/python3.6/multiprocessing/pool.py\", line 44, in mapstar\n    return list(map(*args))\n  File \"<ipython-input-11-5a0b859f573c>\", line 2, in process_ppr\n    x, edge_index, (_, edge_type), node_types = dataset[gid]\n  File \"/home/ec2-user/SageMaker/repo/DeepTraLog/HetGNN/code_gcn/data_loader.py\", line 76, in __getitem__\n    self.node_feature_df[self.node_feature_df.trace_id == gid].iloc[:, 2:].values).float().to(self.device)\n  File \"/home/ec2-user/anaconda3/envs/python3/lib/python3.6/site-packages/torch/cuda/__init__.py\", line 163, in _lazy_init\n    \"Cannot re-initialize CUDA in forked subprocess. To use CUDA with \"\nRuntimeError: Cannot re-initialize CUDA in forked subprocess. To use CUDA with multiprocessing, you must use the 'spawn' start method\n\"\"\"",
      "\nThe above exception was the direct cause of the following exception:\n",
      "\u001b[0;31mRuntimeError\u001b[0m                              Traceback (most recent call last)",
      "\u001b[0;32m<ipython-input-12-d4ec39f8410e>\u001b[0m in \u001b[0;36m<module>\u001b[0;34m\u001b[0m\n\u001b[1;32m      4\u001b[0m     list(\n\u001b[1;32m      5\u001b[0m         pool.imap_unordered(\n\u001b[0;32m----> 6\u001b[0;31m             \u001b[0mprocess_ppr\u001b[0m\u001b[0;34m,\u001b[0m \u001b[0mlist\u001b[0m\u001b[0;34m(\u001b[0m\u001b[0mrange\u001b[0m\u001b[0;34m(\u001b[0m\u001b[0;36m1000\u001b[0m\u001b[0;34m)\u001b[0m\u001b[0;34m)\u001b[0m\u001b[0;34m,\u001b[0m \u001b[0mchunksize\u001b[0m\u001b[0;34m=\u001b[0m\u001b[0;36m1000\u001b[0m\u001b[0;34m\u001b[0m\u001b[0;34m\u001b[0m\u001b[0m\n\u001b[0m\u001b[1;32m      7\u001b[0m         )\n\u001b[1;32m      8\u001b[0m     )\n",
      "\u001b[0;32m~/anaconda3/envs/python3/lib/python3.6/multiprocessing/pool.py\u001b[0m in \u001b[0;36m<genexpr>\u001b[0;34m(.0)\u001b[0m\n\u001b[1;32m    345\u001b[0m                     \u001b[0mresult\u001b[0m\u001b[0;34m.\u001b[0m\u001b[0m_set_length\u001b[0m\u001b[0;34m\u001b[0m\u001b[0;34m\u001b[0m\u001b[0m\n\u001b[1;32m    346\u001b[0m                 ))\n\u001b[0;32m--> 347\u001b[0;31m             \u001b[0;32mreturn\u001b[0m \u001b[0;34m(\u001b[0m\u001b[0mitem\u001b[0m \u001b[0;32mfor\u001b[0m \u001b[0mchunk\u001b[0m \u001b[0;32min\u001b[0m \u001b[0mresult\u001b[0m \u001b[0;32mfor\u001b[0m \u001b[0mitem\u001b[0m \u001b[0;32min\u001b[0m \u001b[0mchunk\u001b[0m\u001b[0;34m)\u001b[0m\u001b[0;34m\u001b[0m\u001b[0;34m\u001b[0m\u001b[0m\n\u001b[0m\u001b[1;32m    348\u001b[0m \u001b[0;34m\u001b[0m\u001b[0m\n\u001b[1;32m    349\u001b[0m     def apply_async(self, func, args=(), kwds={}, callback=None,\n",
      "\u001b[0;32m~/anaconda3/envs/python3/lib/python3.6/multiprocessing/pool.py\u001b[0m in \u001b[0;36mnext\u001b[0;34m(self, timeout)\u001b[0m\n\u001b[1;32m    733\u001b[0m         \u001b[0;32mif\u001b[0m \u001b[0msuccess\u001b[0m\u001b[0;34m:\u001b[0m\u001b[0;34m\u001b[0m\u001b[0;34m\u001b[0m\u001b[0m\n\u001b[1;32m    734\u001b[0m             \u001b[0;32mreturn\u001b[0m \u001b[0mvalue\u001b[0m\u001b[0;34m\u001b[0m\u001b[0;34m\u001b[0m\u001b[0m\n\u001b[0;32m--> 735\u001b[0;31m         \u001b[0;32mraise\u001b[0m \u001b[0mvalue\u001b[0m\u001b[0;34m\u001b[0m\u001b[0;34m\u001b[0m\u001b[0m\n\u001b[0m\u001b[1;32m    736\u001b[0m \u001b[0;34m\u001b[0m\u001b[0m\n\u001b[1;32m    737\u001b[0m     \u001b[0m__next__\u001b[0m \u001b[0;34m=\u001b[0m \u001b[0mnext\u001b[0m                    \u001b[0;31m# XXX\u001b[0m\u001b[0;34m\u001b[0m\u001b[0;34m\u001b[0m\u001b[0m\n",
      "\u001b[0;31mRuntimeError\u001b[0m: Cannot re-initialize CUDA in forked subprocess. To use CUDA with multiprocessing, you must use the 'spawn' start method"
     ]
    }
   ],
   "source": [
    "import multiprocessing as mp\n",
    "\n",
    "with mp.Pool() as pool:\n",
    "    list(\n",
    "        pool.imap_unordered(\n",
    "            process_ppr(dataset), list(range(1000)), chunksize=1000\n",
    "        )\n",
    "    )"
   ]
  },
  {
   "cell_type": "code",
   "execution_count": 11,
   "metadata": {},
   "outputs": [],
   "source": [
    "def process_ppr(dataset, gid):\n",
    "    x, edge_index, (_, edge_type), node_types = dataset[gid]\n",
    "    ppr = PPR(gid, x, edge_index, n_order=10)\n",
    "    ppr.search_all(x.shape[0], ppr_path)"
   ]
  },
  {
   "cell_type": "code",
   "execution_count": 127,
   "metadata": {},
   "outputs": [
    {
     "name": "stderr",
     "output_type": "stream",
     "text": [
      "  0%|          | 28/132472 [01:37<128:12:00,  3.48s/it]\n"
     ]
    },
    {
     "ename": "KeyboardInterrupt",
     "evalue": "",
     "output_type": "error",
     "traceback": [
      "\u001b[0;31m---------------------------------------------------------------------------\u001b[0m",
      "\u001b[0;31mKeyboardInterrupt\u001b[0m                         Traceback (most recent call last)",
      "\u001b[0;32m<ipython-input-127-7e8c28317fc3>\u001b[0m in \u001b[0;36m<module>\u001b[0;34m\u001b[0m\n\u001b[1;32m      6\u001b[0m \u001b[0;31m#     subgraph = Subgraph(gid, dataset[gid], ppr_path, 100, 10)\u001b[0m\u001b[0;34m\u001b[0m\u001b[0;34m\u001b[0m\u001b[0;34m\u001b[0m\u001b[0m\n\u001b[1;32m      7\u001b[0m \u001b[0;31m#     subgraph.build()\u001b[0m\u001b[0;34m\u001b[0m\u001b[0;34m\u001b[0m\u001b[0;34m\u001b[0m\u001b[0m\n\u001b[0;32m----> 8\u001b[0;31m     \u001b[0mx\u001b[0m\u001b[0;34m,\u001b[0m \u001b[0medge_index\u001b[0m\u001b[0;34m,\u001b[0m \u001b[0;34m(\u001b[0m\u001b[0m_\u001b[0m\u001b[0;34m,\u001b[0m \u001b[0medge_type\u001b[0m\u001b[0;34m)\u001b[0m\u001b[0;34m,\u001b[0m \u001b[0mnode_types\u001b[0m \u001b[0;34m=\u001b[0m \u001b[0mdataset\u001b[0m\u001b[0;34m[\u001b[0m\u001b[0mgid\u001b[0m\u001b[0;34m]\u001b[0m\u001b[0;34m\u001b[0m\u001b[0;34m\u001b[0m\u001b[0m\n\u001b[0m\u001b[1;32m      9\u001b[0m     \u001b[0mppr\u001b[0m \u001b[0;34m=\u001b[0m \u001b[0mPPR\u001b[0m\u001b[0;34m(\u001b[0m\u001b[0mgid\u001b[0m\u001b[0;34m,\u001b[0m \u001b[0mx\u001b[0m\u001b[0;34m,\u001b[0m \u001b[0medge_index\u001b[0m\u001b[0;34m,\u001b[0m \u001b[0mn_order\u001b[0m\u001b[0;34m=\u001b[0m\u001b[0;36m10\u001b[0m\u001b[0;34m)\u001b[0m\u001b[0;34m\u001b[0m\u001b[0;34m\u001b[0m\u001b[0m\n\u001b[1;32m     10\u001b[0m     \u001b[0mppr\u001b[0m\u001b[0;34m.\u001b[0m\u001b[0msearch_all\u001b[0m\u001b[0;34m(\u001b[0m\u001b[0mx\u001b[0m\u001b[0;34m.\u001b[0m\u001b[0mshape\u001b[0m\u001b[0;34m[\u001b[0m\u001b[0;36m0\u001b[0m\u001b[0;34m]\u001b[0m\u001b[0;34m,\u001b[0m \u001b[0mppr_path\u001b[0m\u001b[0;34m)\u001b[0m\u001b[0;34m\u001b[0m\u001b[0;34m\u001b[0m\u001b[0m\n",
      "\u001b[0;32m~/SageMaker/repo/DeepTraLog/HetGNN/code_gcn/data_loader.py\u001b[0m in \u001b[0;36m__getitem__\u001b[0;34m(self, gid)\u001b[0m\n\u001b[1;32m     74\u001b[0m         \"\"\"\n\u001b[1;32m     75\u001b[0m         graph_node_feature = torch.from_numpy(\n\u001b[0;32m---> 76\u001b[0;31m             self.node_feature_df[self.node_feature_df.trace_id == gid].iloc[:, 2:].values).float().to(self.device)\n\u001b[0m\u001b[1;32m     77\u001b[0m \u001b[0;34m\u001b[0m\u001b[0m\n\u001b[1;32m     78\u001b[0m         edge_index = torch.from_numpy(\n",
      "\u001b[0;32m~/anaconda3/envs/python3/lib/python3.6/site-packages/pandas/core/frame.py\u001b[0m in \u001b[0;36m__getitem__\u001b[0;34m(self, key)\u001b[0m\n\u001b[1;32m   2895\u001b[0m         \u001b[0;31m# Do we have a (boolean) 1d indexer?\u001b[0m\u001b[0;34m\u001b[0m\u001b[0;34m\u001b[0m\u001b[0;34m\u001b[0m\u001b[0m\n\u001b[1;32m   2896\u001b[0m         \u001b[0;32mif\u001b[0m \u001b[0mcom\u001b[0m\u001b[0;34m.\u001b[0m\u001b[0mis_bool_indexer\u001b[0m\u001b[0;34m(\u001b[0m\u001b[0mkey\u001b[0m\u001b[0;34m)\u001b[0m\u001b[0;34m:\u001b[0m\u001b[0;34m\u001b[0m\u001b[0;34m\u001b[0m\u001b[0m\n\u001b[0;32m-> 2897\u001b[0;31m             \u001b[0;32mreturn\u001b[0m \u001b[0mself\u001b[0m\u001b[0;34m.\u001b[0m\u001b[0m_getitem_bool_array\u001b[0m\u001b[0;34m(\u001b[0m\u001b[0mkey\u001b[0m\u001b[0;34m)\u001b[0m\u001b[0;34m\u001b[0m\u001b[0;34m\u001b[0m\u001b[0m\n\u001b[0m\u001b[1;32m   2898\u001b[0m \u001b[0;34m\u001b[0m\u001b[0m\n\u001b[1;32m   2899\u001b[0m         \u001b[0;31m# We are left with two options: a single key, and a collection of keys,\u001b[0m\u001b[0;34m\u001b[0m\u001b[0;34m\u001b[0m\u001b[0;34m\u001b[0m\u001b[0m\n",
      "\u001b[0;32m~/anaconda3/envs/python3/lib/python3.6/site-packages/pandas/core/frame.py\u001b[0m in \u001b[0;36m_getitem_bool_array\u001b[0;34m(self, key)\u001b[0m\n\u001b[1;32m   2948\u001b[0m         \u001b[0;31m# be reindexed to match DataFrame rows\u001b[0m\u001b[0;34m\u001b[0m\u001b[0;34m\u001b[0m\u001b[0;34m\u001b[0m\u001b[0m\n\u001b[1;32m   2949\u001b[0m         \u001b[0mkey\u001b[0m \u001b[0;34m=\u001b[0m \u001b[0mcheck_bool_indexer\u001b[0m\u001b[0;34m(\u001b[0m\u001b[0mself\u001b[0m\u001b[0;34m.\u001b[0m\u001b[0mindex\u001b[0m\u001b[0;34m,\u001b[0m \u001b[0mkey\u001b[0m\u001b[0;34m)\u001b[0m\u001b[0;34m\u001b[0m\u001b[0;34m\u001b[0m\u001b[0m\n\u001b[0;32m-> 2950\u001b[0;31m         \u001b[0mindexer\u001b[0m \u001b[0;34m=\u001b[0m \u001b[0mkey\u001b[0m\u001b[0;34m.\u001b[0m\u001b[0mnonzero\u001b[0m\u001b[0;34m(\u001b[0m\u001b[0;34m)\u001b[0m\u001b[0;34m[\u001b[0m\u001b[0;36m0\u001b[0m\u001b[0;34m]\u001b[0m\u001b[0;34m\u001b[0m\u001b[0;34m\u001b[0m\u001b[0m\n\u001b[0m\u001b[1;32m   2951\u001b[0m         \u001b[0;32mreturn\u001b[0m \u001b[0mself\u001b[0m\u001b[0;34m.\u001b[0m\u001b[0m_take_with_is_copy\u001b[0m\u001b[0;34m(\u001b[0m\u001b[0mindexer\u001b[0m\u001b[0;34m,\u001b[0m \u001b[0maxis\u001b[0m\u001b[0;34m=\u001b[0m\u001b[0;36m0\u001b[0m\u001b[0;34m)\u001b[0m\u001b[0;34m\u001b[0m\u001b[0;34m\u001b[0m\u001b[0m\n\u001b[1;32m   2952\u001b[0m \u001b[0;34m\u001b[0m\u001b[0m\n",
      "\u001b[0;31mKeyboardInterrupt\u001b[0m: "
     ]
    }
   ],
   "source": [
    "from tqdm import tqdm\n",
    "\n",
    "ppr_path = f'../ProcessedData_HetGCN/ppr_neighbours/ppr'\n",
    "\n",
    "for gid in tqdm(range(13, 132485)):\n",
    "#     subgraph = Subgraph(gid, dataset[gid], ppr_path, 100, 10)\n",
    "#     subgraph.build()\n",
    "    x, edge_index, (_, edge_type), node_types = dataset[gid]\n",
    "    ppr = PPR(gid, x, edge_index, n_order=10)\n",
    "    ppr.search_all(x.shape[0], ppr_path)"
   ]
  },
  {
   "cell_type": "code",
   "execution_count": null,
   "metadata": {},
   "outputs": [],
   "source": []
  }
 ],
 "metadata": {
  "interpreter": {
   "hash": "dd65f12e531413a9916e885ddcda4713ce1e92a965375bff78a972ca39458109"
  },
  "kernelspec": {
   "display_name": "conda_python3",
   "language": "python",
   "name": "conda_python3"
  },
  "language_info": {
   "codemirror_mode": {
    "name": "ipython",
    "version": 3
   },
   "file_extension": ".py",
   "mimetype": "text/x-python",
   "name": "python",
   "nbconvert_exporter": "python",
   "pygments_lexer": "ipython3",
   "version": "3.6.13"
  }
 },
 "nbformat": 4,
 "nbformat_minor": 4
}
