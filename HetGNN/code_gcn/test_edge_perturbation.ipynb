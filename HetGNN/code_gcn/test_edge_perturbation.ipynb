{
 "cells": [
  {
   "cell_type": "code",
   "execution_count": 1,
   "metadata": {},
   "outputs": [],
   "source": [
    "%load_ext autoreload\n",
    "%autoreload 2\n"
   ]
  },
  {
   "cell_type": "code",
   "execution_count": 256,
   "metadata": {},
   "outputs": [],
   "source": [
    "import torch\n",
    "from torch_geometric.utils import dense_to_sparse, from_scipy_sparse_matrix, to_dense_adj\n",
    "from data_loader import HetGCNEventGraphDataset"
   ]
  },
  {
   "cell_type": "code",
   "execution_count": 3,
   "metadata": {},
   "outputs": [],
   "source": [
    "data_root_dir = '../ProcessedData_HetGCN'"
   ]
  },
  {
   "cell_type": "code",
   "execution_count": 4,
   "metadata": {},
   "outputs": [
    {
     "name": "stdout",
     "output_type": "stream",
     "text": [
      "reading node features..\n",
      "reading edge index..\n",
      "Ignore Edge Weights.\n",
      "read node types ..\n",
      "node types txt: 132485\n",
      "done\n"
     ]
    }
   ],
   "source": [
    "dataset = HetGCNEventGraphDataset(\n",
    "    node_feature_csv=f'{data_root_dir}/node_feature_norm.csv',\n",
    "    edge_index_csv=f'{data_root_dir}/edge_index.csv',\n",
    "    node_type_txt=f'{data_root_dir}/node_types.txt',\n",
    "    ignore_weight=True,\n",
    "    include_edge_type=True\n",
    ")"
   ]
  },
  {
   "cell_type": "code",
   "execution_count": null,
   "metadata": {},
   "outputs": [],
   "source": []
  },
  {
   "cell_type": "code",
   "execution_count": 182,
   "metadata": {},
   "outputs": [],
   "source": [
    "node_feature, edge_index, (edge_weight, edge_type), node_types = dataset[0]\n",
    "num_edge_types = 1\n",
    "num_node_types = 8\n",
    "\n",
    "m = torch.distributions.Bernoulli(torch.tensor([0.01]))\n",
    "num_nodes = node_feature.size()[0]\n",
    "for etype in range(num_edge_types):\n",
    "    for src_type in range(num_node_types):\n",
    "        for dst_type in range(num_node_types):\n",
    "            src_node_list = node_types[src_type]\n",
    "            dst_node_list = node_types[dst_type]\n",
    "\n",
    "            random_het_adj_mat = m.sample((num_nodes, num_nodes)).view((num_nodes, num_nodes)).to(node_feature.device)\n",
    "            break\n",
    "        break"
   ]
  },
  {
   "cell_type": "code",
   "execution_count": 171,
   "metadata": {},
   "outputs": [
    {
     "data": {
      "text/plain": [
       "tensor([[0., 1., 0.,  ..., 0., 0., 0.],\n",
       "        [0., 0., 0.,  ..., 0., 0., 0.],\n",
       "        [0., 0., 0.,  ..., 0., 0., 0.],\n",
       "        ...,\n",
       "        [0., 0., 0.,  ..., 0., 0., 0.],\n",
       "        [0., 0., 0.,  ..., 0., 0., 0.],\n",
       "        [0., 0., 0.,  ..., 0., 0., 0.]])"
      ]
     },
     "execution_count": 171,
     "metadata": {},
     "output_type": "execute_result"
    }
   ],
   "source": [
    "random_het_adj_mat\n",
    "# dense_to_sparse(random_het_adj_mat)"
   ]
  },
  {
   "cell_type": "code",
   "execution_count": 172,
   "metadata": {},
   "outputs": [
    {
     "data": {
      "text/plain": [
       "(123, 123)"
      ]
     },
     "execution_count": 172,
     "metadata": {},
     "output_type": "execute_result"
    }
   ],
   "source": [
    "len(src_node_list), len(dst_node_list)"
   ]
  },
  {
   "cell_type": "code",
   "execution_count": 183,
   "metadata": {},
   "outputs": [
    {
     "data": {
      "text/plain": [
       "tensor([[False,  True,  True,  ...,  True,  True,  True],\n",
       "        [ True,  True,  True,  ...,  True,  True,  True],\n",
       "        [ True,  True,  True,  ...,  True,  True,  True],\n",
       "        ...,\n",
       "        [ True,  True,  True,  ...,  True,  True,  True],\n",
       "        [ True,  True,  True,  ...,  True,  True,  True],\n",
       "        [ True,  True,  True,  ...,  True,  True,  True]])"
      ]
     },
     "execution_count": 183,
     "metadata": {},
     "output_type": "execute_result"
    }
   ],
   "source": [
    "src_bool = torch.Tensor([True if i in src_node_list else False for i in range(0, num_nodes)])\n",
    "dst_bool = torch.Tensor([True if i in dst_node_list else False for i in range(0, num_nodes)])\n",
    "bool_mat = torch.matmul(src_bool.view(-1,1), dst_bool.view(1,-1)).bool()\n",
    "~bool_mat"
   ]
  },
  {
   "cell_type": "code",
   "execution_count": 174,
   "metadata": {},
   "outputs": [
    {
     "data": {
      "text/plain": [
       "tensor(7041.)"
      ]
     },
     "execution_count": 174,
     "metadata": {},
     "output_type": "execute_result"
    }
   ],
   "source": [
    "random_het_adj_mat.sum()"
   ]
  },
  {
   "cell_type": "code",
   "execution_count": 175,
   "metadata": {},
   "outputs": [
    {
     "data": {
      "text/plain": [
       "torch.Size([83, 1])"
      ]
     },
     "execution_count": 175,
     "metadata": {},
     "output_type": "execute_result"
    }
   ],
   "source": [
    "s = random_het_adj_mat.masked_fill(~bool_mat, 0).sum(dim=1)\n",
    "\n",
    "s.argwhere().shape"
   ]
  },
  {
   "cell_type": "code",
   "execution_count": 184,
   "metadata": {},
   "outputs": [
    {
     "data": {
      "text/plain": [
       "tensor(152.)"
      ]
     },
     "execution_count": 184,
     "metadata": {},
     "output_type": "execute_result"
    }
   ],
   "source": [
    "masked_adj_mat = random_het_adj_mat.masked_fill(~bool_mat, 0)\n",
    "masked_adj_mat.sum()"
   ]
  },
  {
   "cell_type": "code",
   "execution_count": 155,
   "metadata": {},
   "outputs": [
    {
     "data": {
      "text/plain": [
       "(tensor([[  0,   0,   0,  ..., 836, 836, 836],\n",
       "         [  0,  74,  79,  ..., 826, 831, 836]]),\n",
       " tensor([2., 2., 2.,  ..., 2., 2., 2.]))"
      ]
     },
     "execution_count": 155,
     "metadata": {},
     "output_type": "execute_result"
    }
   ],
   "source": [
    "dense_to_sparse(masked_adj_mat.masked_fill(bool_mat, 2))"
   ]
  },
  {
   "cell_type": "code",
   "execution_count": 177,
   "metadata": {},
   "outputs": [],
   "source": [
    "# masked_edge_index = masked_adj_mat.nonzero().t().contiguous()\n",
    "# masked_edge_index"
   ]
  },
  {
   "cell_type": "code",
   "execution_count": 178,
   "metadata": {},
   "outputs": [],
   "source": [
    "# masked_edge_index.shape[1]"
   ]
  },
  {
   "cell_type": "code",
   "execution_count": null,
   "metadata": {},
   "outputs": [],
   "source": []
  },
  {
   "cell_type": "code",
   "execution_count": 71,
   "metadata": {},
   "outputs": [
    {
     "data": {
      "text/plain": [
       "123"
      ]
     },
     "execution_count": 71,
     "metadata": {},
     "output_type": "execute_result"
    }
   ],
   "source": [
    "len(src_node_list)"
   ]
  },
  {
   "cell_type": "code",
   "execution_count": 206,
   "metadata": {},
   "outputs": [],
   "source": [
    "def get_het_edge_index(edge_index, edge_weight, node_types, ntype, source_types=None,\n",
    "                           edge_type_list=None, edge_type=None, num_node_types=8):\n",
    "        \"\"\"\n",
    "        get het edge index by given type\n",
    "        \"\"\"\n",
    "        row, col = edge_index\n",
    "\n",
    "        if source_types is not None:\n",
    "            try:\n",
    "                num_src_types = len(source_types)\n",
    "                src_type_idx = int(ntype / num_node_types)\n",
    "                dst_type = ntype - num_node_types * src_type_idx\n",
    "                src_type = source_types[src_type_idx]\n",
    "\n",
    "                if len(node_types[dst_type]) == 0 or len(node_types[src_type]) == 0:\n",
    "                    return ntype, None, None\n",
    "                \n",
    "                # TODO: handle edge type\n",
    "                \n",
    "\n",
    "                src_het_mask = sum(row == i for i in node_types[src_type]).bool()\n",
    "                dst_het_mask = sum(col == i for i in node_types[dst_type]).bool()\n",
    "\n",
    "                if edge_type is not None and edge_type_list is not None:\n",
    "                    edge_mask = edge_type_list == edge_type\n",
    "                    cmask = src_het_mask & dst_het_mask & edge_mask\n",
    "                else:\n",
    "                    cmask = src_het_mask & dst_het_mask\n",
    "            except Exception as e:\n",
    "                print(f'{src_type_idx} - {dst_type}')\n",
    "                print(f'row: {row}')\n",
    "                print(f'node_types[src_type]: {node_types[src_type]}')\n",
    "                raise Exception(e)\n",
    "            return ntype, torch.stack([row[cmask], col[cmask]]), edge_weight[cmask]\n",
    "        else:\n",
    "\n",
    "            if len(node_types[ntype]) == 0:\n",
    "                return ntype, None, None\n",
    "\n",
    "            het_mask = sum(col == i for i in node_types[ntype]).bool()\n",
    "            return ntype, torch.stack([row[het_mask], col[het_mask]]), edge_weight[het_mask]"
   ]
  },
  {
   "cell_type": "code",
   "execution_count": 248,
   "metadata": {},
   "outputs": [],
   "source": [
    "edge_weight = torch.ones((edge_index.size(1), ), device=edge_index.device)\n",
    "_, e_idx, e_weight = get_het_edge_index(edge_index, edge_weight, node_types, 0)"
   ]
  },
  {
   "cell_type": "code",
   "execution_count": 278,
   "metadata": {},
   "outputs": [
    {
     "data": {
      "text/plain": [
       "(torch.Size([287]), torch.Size([2, 168]))"
      ]
     },
     "execution_count": 278,
     "metadata": {},
     "output_type": "execute_result"
    }
   ],
   "source": [
    "e_idx.unique().shape, e_idx.shape"
   ]
  },
  {
   "cell_type": "code",
   "execution_count": 322,
   "metadata": {},
   "outputs": [],
   "source": [
    "perturbation_prob = 0.01\n",
    "m = torch.distributions.Bernoulli(torch.tensor([perturbation_prob]))\n",
    "# TODO: edge perturbation based on edge_index and edge_type\n",
    "node_feature, edge_index, (edge_weight, edge_type), node_types = dataset[0]\n",
    "num_nodes = node_feature.size()[0]\n",
    "new_adj_mat = torch.zeros(num_nodes, num_nodes)\n",
    "\n",
    "for etype in range(num_edge_types):\n",
    "    for src_type in range(num_node_types):\n",
    "        for dst_type in range(num_node_types):\n",
    "            src_node_list = node_types[src_type]\n",
    "            dst_node_list = node_types[dst_type]\n",
    "\n",
    "            random_het_adj_mat = m.sample((num_nodes, num_nodes)).view((num_nodes, num_nodes)).to(node_feature.device)\n",
    "            src_bool = torch.Tensor([True if i in src_node_list else False for i in range(0, num_nodes)])\n",
    "            dst_bool = torch.Tensor([True if i in dst_node_list else False for i in range(0, num_nodes)])\n",
    "            bool_mat = torch.matmul(src_bool.view(-1, 1), dst_bool.view(1, -1)).bool()\n",
    "            # TODO: continue to reset non-het node type matrix\n",
    "            random_het_adj_mat += etype\n",
    "            masked_adj_mat = random_het_adj_mat.masked_fill(~bool_mat, 0)\n",
    "            # print(masked_adj_mat.sum())\n",
    "\n",
    "            new_adj_mat += masked_adj_mat"
   ]
  },
  {
   "cell_type": "code",
   "execution_count": 315,
   "metadata": {},
   "outputs": [
    {
     "data": {
      "text/plain": [
       "(torch.Size([841, 841]), tensor(7008.), tensor(136.), torch.Size([114]))"
      ]
     },
     "execution_count": 315,
     "metadata": {},
     "output_type": "execute_result"
    }
   ],
   "source": [
    "random_het_adj_mat.shape, random_het_adj_mat.sum(), masked_adj_mat.sum(), dense_to_sparse(masked_adj_mat)[0].unique().shape"
   ]
  },
  {
   "cell_type": "code",
   "execution_count": 324,
   "metadata": {},
   "outputs": [
    {
     "data": {
      "text/plain": [
       "(torch.Size([2, 962]), tensor(148.))"
      ]
     },
     "execution_count": 324,
     "metadata": {},
     "output_type": "execute_result"
    }
   ],
   "source": [
    "edge_index.shape, new_adj_mat.sum()"
   ]
  },
  {
   "cell_type": "code",
   "execution_count": 323,
   "metadata": {},
   "outputs": [
    {
     "data": {
      "text/plain": [
       "tensor(944)"
      ]
     },
     "execution_count": 323,
     "metadata": {},
     "output_type": "execute_result"
    }
   ],
   "source": [
    "torch.logical_xor(\n",
    "    to_dense_adj(edge_index).view(num_nodes, num_nodes),\n",
    "    new_adj_mat\n",
    ").int().sum()"
   ]
  },
  {
   "cell_type": "code",
   "execution_count": 246,
   "metadata": {},
   "outputs": [
    {
     "data": {
      "text/plain": [
       "(tensor([1.]),\n",
       " (tensor([[  0,   0,   0,  ..., 840, 840, 840],\n",
       "          [ 32,  43, 308,  ..., 101, 212, 384]]),\n",
       "  tensor([1., 1., 1.,  ..., 1., 1., 1.])))"
      ]
     },
     "execution_count": 246,
     "metadata": {},
     "output_type": "execute_result"
    }
   ],
   "source": [
    "dense_to_sparse(new_adj_mat)[1].unique(), dense_to_sparse(new_adj_mat)"
   ]
  },
  {
   "cell_type": "code",
   "execution_count": null,
   "metadata": {},
   "outputs": [],
   "source": []
  },
  {
   "cell_type": "code",
   "execution_count": null,
   "metadata": {},
   "outputs": [],
   "source": []
  }
 ],
 "metadata": {
  "interpreter": {
   "hash": "dd65f12e531413a9916e885ddcda4713ce1e92a965375bff78a972ca39458109"
  },
  "kernelspec": {
   "display_name": "Python 3.7.10 ('pytorch')",
   "language": "python",
   "name": "python3"
  },
  "language_info": {
   "codemirror_mode": {
    "name": "ipython",
    "version": 3
   },
   "file_extension": ".py",
   "mimetype": "text/x-python",
   "name": "python",
   "nbconvert_exporter": "python",
   "pygments_lexer": "ipython3",
   "version": "3.7.10"
  },
  "orig_nbformat": 4
 },
 "nbformat": 4,
 "nbformat_minor": 2
}
