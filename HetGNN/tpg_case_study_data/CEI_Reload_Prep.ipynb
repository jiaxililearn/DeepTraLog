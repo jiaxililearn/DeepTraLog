{
 "cells": [
  {
   "cell_type": "code",
   "execution_count": 1,
   "id": "5ee8af2f",
   "metadata": {},
   "outputs": [
    {
     "data": {
      "text/html": [
       "Current session configs: <tt>{'numExecutors': 12, 'driverMemory': '20g', 'proxyUser': 'jovyan', 'kind': 'pyspark'}</tt><br>"
      ],
      "text/plain": [
       "<IPython.core.display.HTML object>"
      ]
     },
     "metadata": {},
     "output_type": "display_data"
    },
    {
     "data": {
      "text/html": [
       "No active sessions."
      ],
      "text/plain": [
       "<IPython.core.display.HTML object>"
      ]
     },
     "metadata": {},
     "output_type": "display_data"
    }
   ],
   "source": [
    "%%configure -f\n",
    "{\n",
    "    \"numExecutors\": 12,\n",
    "    \"driverMemory\": \"20g\"\n",
    "}"
   ]
  },
  {
   "cell_type": "code",
   "execution_count": 2,
   "id": "c9e22a19",
   "metadata": {},
   "outputs": [
    {
     "name": "stdout",
     "output_type": "stream",
     "text": [
      "Starting Spark application\n"
     ]
    },
    {
     "data": {
      "text/html": [
       "<table>\n",
       "<tr><th>ID</th><th>YARN Application ID</th><th>Kind</th><th>State</th><th>Spark UI</th><th>Driver log</th><th>User</th><th>Current session?</th></tr><tr><td>0</td><td>application_1673908281065_0001</td><td>pyspark</td><td>idle</td><td><a target=\"_blank\" href=\"http://ip-10-48-113-152.prod.tpgt-bi-kl.aws.vodafone.com.au:20888/proxy/application_1673908281065_0001/\">Link</a></td><td><a target=\"_blank\" href=\"http://ip-10-48-113-9.prod.tpgt-bi-kl.aws.vodafone.com.au:8042/node/containerlogs/container_1673908281065_0001_01_000001/livy\">Link</a></td><td>None</td><td>✔</td></tr></table>"
      ],
      "text/plain": [
       "<IPython.core.display.HTML object>"
      ]
     },
     "metadata": {},
     "output_type": "display_data"
    },
    {
     "data": {
      "application/vnd.jupyter.widget-view+json": {
       "model_id": "",
       "version_major": 2,
       "version_minor": 0
      },
      "text/plain": [
       "FloatProgress(value=0.0, bar_style='info', description='Progress:', layout=Layout(height='25px', width='50%'),…"
      ]
     },
     "metadata": {},
     "output_type": "display_data"
    },
    {
     "name": "stdout",
     "output_type": "stream",
     "text": [
      "SparkSession available as 'spark'.\n"
     ]
    },
    {
     "data": {
      "application/vnd.jupyter.widget-view+json": {
       "model_id": "",
       "version_major": 2,
       "version_minor": 0
      },
      "text/plain": [
       "FloatProgress(value=0.0, bar_style='info', description='Progress:', layout=Layout(height='25px', width='50%'),…"
      ]
     },
     "metadata": {},
     "output_type": "display_data"
    }
   ],
   "source": [
    "import pyspark.sql.functions as f\n",
    "from pyspark.sql.types import *\n",
    "from pyspark.sql.window import Window\n",
    "from pyspark.ml.feature import OneHotEncoder, Normalizer, MinMaxScaler\n",
    "from pyspark.ml.linalg import SparseVector, DenseVector, Vectors, VectorUDT\n",
    "import numpy as np\n",
    "\n"
   ]
  },
  {
   "cell_type": "code",
   "execution_count": 78,
   "id": "cc48a2e4",
   "metadata": {},
   "outputs": [
    {
     "data": {
      "application/vnd.jupyter.widget-view+json": {
       "model_id": "",
       "version_major": 2,
       "version_minor": 0
      },
      "text/plain": [
       "FloatProgress(value=0.0, bar_style='info', description='Progress:', layout=Layout(height='25px', width='50%'),…"
      ]
     },
     "metadata": {},
     "output_type": "display_data"
    }
   ],
   "source": [
    "@f.udf(returnType=StringType())\n",
    "def resolve_sector_name(cell_name):\n",
    "    \"\"\"\n",
    "    resolve cell name to match with EDS event data\n",
    "    \"\"\"\n",
    "    try:\n",
    "        split_parts = cell_name.split(\"_\")\n",
    "        m2000id = split_parts[0]\n",
    "        site_name = split_parts[1]\n",
    "        cell_number = split_parts[3]\n",
    "        return f\"{m2000id}_{site_name}_{cell_number}\"\n",
    "    except Exception as _:\n",
    "        return cell_name\n",
    "@f.udf(returnType=VectorUDT())\n",
    "def sparse_vector_sum(vectors):\n",
    "    res = None\n",
    "    for vec in vectors:\n",
    "        if res is None:\n",
    "            res = vec\n",
    "        else:\n",
    "            res = np.add(vec, res)\n",
    "    return SparseVector(len(res), {k: v for k, v in enumerate(res) if v != 0})\n",
    "\n",
    "@f.udf(returnType=ArrayType(FloatType()))\n",
    "def to_dense(sparse_vector):\n",
    "    v = DenseVector(sparse_vector)\n",
    "    feature = [float(x) for x in v]\n",
    "    feature.append(0.0)  # adding util placeholder\n",
    "    return feature\n",
    "\n",
    "@f.udf(returnType=ArrayType(FloatType()))\n",
    "def to_dense_flat(sparse_vector):\n",
    "    v = DenseVector(sparse_vector)\n",
    "    feature = [float(x) for x in v]\n",
    "    return feature\n",
    "\n",
    "@f.udf(returnType=ArrayType(ArrayType(StringType())))\n",
    "def construct_nodes(edge_input):\n",
    "    \"\"\"\n",
    "    node types:\n",
    "    0 - user\n",
    "    1 - cell\n",
    "    2 - sector\n",
    "    \"\"\"\n",
    "    node_list = []\n",
    "    for a in edge_input:\n",
    "        if [a[0], 0] not in node_list:\n",
    "            node_list.append([a[0], 0])\n",
    "        if [a[1], 1] not in node_list:\n",
    "            node_list.append([a[1], 1])\n",
    "        if [a[2], 2] not in node_list:\n",
    "            node_list.append([a[2], 2])\n",
    "    return node_list\n",
    "\n",
    "@f.udf(returnType=VectorUDT())\n",
    "def add_sparse31(v1, val):\n",
    "    v1d = dict(zip(v1.indices, v1.values))\n",
    "    new_idx = v1.size\n",
    "    v1d[new_idx] = val\n",
    "    return SparseVector(new_idx+1, {k: v for k, v in v1d.items() if v != 0.0})\n",
    "\n",
    "@f.udf(returnType=ArrayType(ArrayType(StringType())))\n",
    "def construct_edge_index(edge_input):\n",
    "\n",
    "    edge_index = []\n",
    "    for a in edge_input:\n",
    "        if [a[0], a[1]] not in edge_index:\n",
    "            edge_index.append([a[0], a[1]])\n",
    "        if [a[1], a[2]] not in edge_index:\n",
    "            edge_index.append([a[1], a[2]])\n",
    "    return edge_index\n",
    "\n",
    "@f.udf(returnType=ArrayType(ArrayType(IntegerType())))\n",
    "def construct_node_types(node_list):\n",
    "    node_types = [[] for i in range(3)]\n",
    "    for ntype, nid in node_list:\n",
    "        node_types[int(ntype)].append(nid)\n",
    "    return node_types\n",
    "        "
   ]
  },
  {
   "cell_type": "code",
   "execution_count": 5,
   "id": "ff4df4e7",
   "metadata": {
    "scrolled": true
   },
   "outputs": [
    {
     "data": {
      "application/vnd.jupyter.widget-view+json": {
       "model_id": "",
       "version_major": 2,
       "version_minor": 0
      },
      "text/plain": [
       "FloatProgress(value=0.0, bar_style='info', description='Progress:', layout=Layout(height='25px', width='50%'),…"
      ]
     },
     "metadata": {},
     "output_type": "display_data"
    },
    {
     "name": "stdout",
     "output_type": "stream",
     "text": [
      "DataFrame[glbl_loc: string, glbl_loc_id: string, cell_name: string, mcc: string, mnc: string, state: string]"
     ]
    }
   ],
   "source": [
    "# Event Data\n",
    "eventdf = spark.read.parquet('s3://kl-prod-tpgt-knowledge-lake-sandpit/TempDir/tmp/tokenised_ebmr_sample/dt=2023-01-10/')\n",
    "\n",
    "# CEI Data\n",
    "cei_df = spark.read.parquet('s3://kl-prod-bi-analy-data-extract/features/kl-prod/Mobility/customer_exp_index_v3/part_dt=2023-01-11/')\n",
    "cei_df =cei_df.withColumnRenamed('subs_id', 'Subs_Id')\n",
    "\n",
    "# Cell INFO\n",
    "@f.udf(returnType=StringType())\n",
    "def resolve_cell_name(cell_name):\n",
    "    \"\"\"\n",
    "    resolve cell name to match with EDS event data\n",
    "    \"\"\"\n",
    "    try:\n",
    "        split_parts = cell_name.split(\"_\")\n",
    "        m2000id = split_parts[0]\n",
    "        site_name = split_parts[1]\n",
    "        technology = split_parts[3]\n",
    "        cell_number = split_parts[4]\n",
    "        return f\"{m2000id}_{site_name}_{technology}_{cell_number}\"\n",
    "    except Exception as _:\n",
    "        return cell_name\n",
    "\n",
    "locglbl = spark.read.parquet(\n",
    "    's3://kl-prod-bi-analy-data-extract/features/kl-prod/ICE/EDS_locglbl_v3_extract/part_dt=2023-01-11/'\n",
    ")\n",
    "cell_lookup = spark.read.parquet(\n",
    "    's3://kl-prod-bi-analy-data-extract/features/kl-prod/ICE/TD_cell_look_up/part_dt=2023-01-11/'\n",
    ")\n",
    "site_df = spark.read.parquet(\n",
    "    's3://kl-prod-bi-analy-data-extract/features/kl-prod/ICE/TD_site_table/part_dt=2023-01-11/'\n",
    ")\n",
    "\n",
    "cell_info = (\n",
    "    locglbl.join(\n",
    "        cell_lookup.filter(\n",
    "            f.col(\"Radio_Type_Cd\").isin([\"L\", \"U\", \"N\"])\n",
    "        ),  # ignore 3G cells. ie. 'U'. Ignores 5G for test. ie 'N'\n",
    "        on=locglbl.glbl_loc_id == cell_lookup.Glbl_loc_Id,\n",
    "        how=\"inner\",\n",
    "    )\n",
    "    .withColumn(\"m2000_id\", f.split(f.col(\"Cell_Name\"), \"_\").getItem(0))\n",
    "    .join(\n",
    "        site_df,  # .filter(f.col(\"sa6_state_nm\") == sa6_nm),\n",
    "        on=\"m2000_id\",\n",
    "        how=\"inner\",\n",
    "    )\n",
    "    .withColumn(\"cell_name_adjusted\", resolve_cell_name(f.col(\"Cell_Name\")))\n",
    "    .select(\n",
    "        locglbl.glbl_loc,\n",
    "        locglbl.glbl_loc_id,\n",
    "        f.col(\"cell_name_adjusted\").alias(\"cell_name\"),\n",
    "        locglbl.mcc,\n",
    "        locglbl.mnc,\n",
    "        site_df.state\n",
    "    )\n",
    ")\n",
    "cell_info"
   ]
  },
  {
   "cell_type": "code",
   "execution_count": null,
   "id": "a36426cd",
   "metadata": {},
   "outputs": [],
   "source": []
  },
  {
   "cell_type": "code",
   "execution_count": 28,
   "id": "33a53010",
   "metadata": {},
   "outputs": [
    {
     "data": {
      "application/vnd.jupyter.widget-view+json": {
       "model_id": "",
       "version_major": 2,
       "version_minor": 0
      },
      "text/plain": [
       "FloatProgress(value=0.0, bar_style='info', description='Progress:', layout=Layout(height='25px', width='50%'),…"
      ]
     },
     "metadata": {},
     "output_type": "display_data"
    },
    {
     "name": "stdout",
     "output_type": "stream",
     "text": [
      "+--------------------------+--------------------------+-----------------------------+---+---+---------------+-------+------------------------+\n",
      "|glbl_loc                  |glbl_loc_id               |cell_name                    |mcc|mnc|state          |m2000id|sector_name             |\n",
      "+--------------------------+--------------------------+-----------------------------+---+---+---------------+-------+------------------------+\n",
      "|U_505_03_00345__7264_     |U_505_03_00345_07264_07264|303455_MillPark_U21B_1       |505|03 |Victoria       |303455 |303455_MillPark_1       |\n",
      "|L_505_03__20282__006112278|L_505_03_20282_|_006112278|201593_CampsieNorth_L18B_2   |505|03 |New South Wales|201593 |201593_CampsieNorth_2   |\n",
      "|L_505_03__30345__8471850  |L_505_03_30345_|_008471850|338598_Greensborough_L21H_2  |505|03 |Victoria       |338598 |338598_Greensborough_2  |\n",
      "|L_505_03__30338__7707966  |L_505_03_30338_|_007707966|303039_DocklandsStadm_L18A_12|505|03 |Victoria       |303039 |303039_DocklandsStadm_12|\n",
      "|L_505_03__50538__12845600 |L_505_03_50538_|_012845600|505224_MtBarkerSouth_L08B_2  |505|03 |South Australia|505224 |505224_MtBarkerSouth_2  |\n",
      "+--------------------------+--------------------------+-----------------------------+---+---+---------------+-------+------------------------+\n",
      "only showing top 5 rows"
     ]
    }
   ],
   "source": [
    "cell_info = cell_info.withColumn('m2000id', f.split('cell_name', '_').getItem(0).cast('string'))\n",
    "cell_info = cell_info.withColumn('sector_name', resolve_sector_name(f.col('cell_name')))\n",
    "cell_info.persist()\n",
    "cell_info.show(5, False)"
   ]
  },
  {
   "cell_type": "code",
   "execution_count": 21,
   "id": "f8c2c4f2",
   "metadata": {},
   "outputs": [
    {
     "data": {
      "application/vnd.jupyter.widget-view+json": {
       "model_id": "",
       "version_major": 2,
       "version_minor": 0
      },
      "text/plain": [
       "FloatProgress(value=0.0, bar_style='info', description='Progress:', layout=Layout(height='25px', width='50%'),…"
      ]
     },
     "metadata": {},
     "output_type": "display_data"
    }
   ],
   "source": [
    "eventdf = eventdf.withColumn('hour', f.hour('event_timestamp'))"
   ]
  },
  {
   "cell_type": "code",
   "execution_count": 14,
   "id": "1a69be2e",
   "metadata": {},
   "outputs": [
    {
     "data": {
      "application/vnd.jupyter.widget-view+json": {
       "model_id": "",
       "version_major": 2,
       "version_minor": 0
      },
      "text/plain": [
       "FloatProgress(value=0.0, bar_style='info', description='Progress:', layout=Layout(height='25px', width='50%'),…"
      ]
     },
     "metadata": {},
     "output_type": "display_data"
    },
    {
     "name": "stdout",
     "output_type": "stream",
     "text": [
      "+--------+---------------+--------+\n",
      "|M2000_ID|State          |timezone|\n",
      "+--------+---------------+--------+\n",
      "|202096  |New South Wales|null    |\n",
      "|444470  |Queensland     |null    |\n",
      "|202670  |New South Wales|null    |\n",
      "|404682  |Queensland     |null    |\n",
      "|220130  |New South Wales|null    |\n",
      "+--------+---------------+--------+\n",
      "only showing top 5 rows"
     ]
    }
   ],
   "source": [
    "# site timezone\n",
    "site_tz = spark.read.csv('s3://kl-prod-bi-analy-data-extract/data/kl-prod/site_timezone/part_dt=2023-01-11/', header=True)\n",
    "site_tz.show(5, False)"
   ]
  },
  {
   "cell_type": "code",
   "execution_count": 27,
   "id": "c74a4808",
   "metadata": {},
   "outputs": [
    {
     "data": {
      "application/vnd.jupyter.widget-view+json": {
       "model_id": "",
       "version_major": 2,
       "version_minor": 0
      },
      "text/plain": [
       "FloatProgress(value=0.0, bar_style='info', description='Progress:', layout=Layout(height='25px', width='50%'),…"
      ]
     },
     "metadata": {},
     "output_type": "display_data"
    },
    {
     "name": "stdout",
     "output_type": "stream",
     "text": [
      "+-------------------+------------------------+---------+--------+------------------+------------------------+----------------------------------+------------------+----------------------+--------------------+----------------------+-------------+-------------+-----------+-----------+----+\n",
      "|starttime          |sector_name             |multibeam|m2000_id|prb_dl_util_pct   |weighted_prb_dl_util_pct|prb_dl_util_pct_multibeam_weighted|utilisation       |chmeas_prb_dl_used_avg|mean_prb_avail_pdsch|traf_activeuser_dl_avg|thrp_dl_qci_8|thrp_ul_qci_8|dlpayload  |ulpayload  |hour|\n",
      "+-------------------+------------------------+---------+--------+------------------+------------------------+----------------------------------+------------------+----------------------+--------------------+----------------------+-------------+-------------+-----------+-----------+----+\n",
      "|2023-01-10 00:00:00|200027_MLCCentre_1      |0        |200027  |1.5300000000000002|1.5300000000000002      |1.5300000000000002                |1.5300000000000002|3.0600000000000005    |200                 |0.04                  |19559.8033   |747.2351     |686960096  |686960096  |0   |\n",
      "|2023-01-10 00:00:00|200028_AustraliaSquare_1|0        |200028  |1.78              |null                    |1.78                              |1.78              |0.89                  |50                  |0.0                   |9370.9340    |1758.0226    |30380824   |30380824   |0   |\n",
      "|2023-01-10 00:00:00|200031_ChifleyTwr_1     |0        |200031  |5.91              |5.909999999999999       |5.91                              |5.91              |11.82                 |200                 |0.14                  |33855.4434   |2564.5319    |11810827976|11810827976|0   |\n",
      "|2023-01-10 00:00:00|200032_GrosvenorPlace_1 |0        |200032  |1.26              |null                    |1.26                              |1.26              |2.52                  |200                 |0.0                   |null         |null         |0          |0          |0   |\n",
      "|2023-01-10 00:00:00|200032_GrosvenorPlace_2 |0        |200032  |1.265             |null                    |1.265                             |1.265             |2.53                  |200                 |0.0                   |2074.5046    |782.9112     |1808968    |1808968    |0   |\n",
      "+-------------------+------------------------+---------+--------+------------------+------------------------+----------------------------------+------------------+----------------------+--------------------+----------------------+-------------+-------------+-----------+-----------+----+\n",
      "only showing top 5 rows"
     ]
    }
   ],
   "source": [
    "utilisation = spark.read.parquet('s3://kl-prod-bi-analy-data-extract/features/kl-prod/ICE/RAN_util_hr_multibeam/part_dt=2023-01-11/')\n",
    "utilisation = utilisation.withColumn('hour', f.hour('starttime'))\n",
    "utilisation.show(5, False)"
   ]
  },
  {
   "cell_type": "markdown",
   "id": "03153f24",
   "metadata": {},
   "source": [
    "## Get Valid Subs for 1 hour"
   ]
  },
  {
   "cell_type": "code",
   "execution_count": 34,
   "id": "902fccd9",
   "metadata": {},
   "outputs": [
    {
     "data": {
      "application/vnd.jupyter.widget-view+json": {
       "model_id": "",
       "version_major": 2,
       "version_minor": 0
      },
      "text/plain": [
       "FloatProgress(value=0.0, bar_style='info', description='Progress:', layout=Layout(height='25px', width='50%'),…"
      ]
     },
     "metadata": {},
     "output_type": "display_data"
    },
    {
     "name": "stdout",
     "output_type": "stream",
     "text": [
      "145659782"
     ]
    }
   ],
   "source": [
    "eventdf.filter('hour = 19').count()"
   ]
  },
  {
   "cell_type": "code",
   "execution_count": 49,
   "id": "d96761bf",
   "metadata": {},
   "outputs": [
    {
     "data": {
      "application/vnd.jupyter.widget-view+json": {
       "model_id": "",
       "version_major": 2,
       "version_minor": 0
      },
      "text/plain": [
       "FloatProgress(value=0.0, bar_style='info', description='Progress:', layout=Layout(height='25px', width='50%'),…"
      ]
     },
     "metadata": {},
     "output_type": "display_data"
    },
    {
     "name": "stdout",
     "output_type": "stream",
     "text": [
      "53386050"
     ]
    }
   ],
   "source": [
    "flat_event = eventdf.filter('hour = 19').join(\n",
    "    cell_info,\n",
    "    on=eventdf.loc_info==cell_info.glbl_loc\n",
    ").drop('glbl_loc', 'glbl_loc_id', 'loc_info', 'mcc', 'mnc').join(\n",
    "    utilisation,\n",
    "    on=['hour', 'sector_name']\n",
    ")\n",
    "flat_event.persist()\n",
    "flat_event.count()\n"
   ]
  },
  {
   "cell_type": "code",
   "execution_count": 50,
   "id": "298e1791",
   "metadata": {
    "scrolled": true
   },
   "outputs": [
    {
     "data": {
      "application/vnd.jupyter.widget-view+json": {
       "model_id": "",
       "version_major": 2,
       "version_minor": 0
      },
      "text/plain": [
       "FloatProgress(value=0.0, bar_style='info', description='Progress:', layout=Layout(height='25px', width='50%'),…"
      ]
     },
     "metadata": {},
     "output_type": "display_data"
    },
    {
     "name": "stdout",
     "output_type": "stream",
     "text": [
      "+----+---------+-------------------------+--------------------+-------------+-----------------+\n",
      "|hour|Subs_Id  |cell_name                |sector_name         |event_type_cd|utilisation      |\n",
      "+----+---------+-------------------------+--------------------+-------------+-----------------+\n",
      "|19  |389246765|227885_CurransHill_L21C_2|227885_CurransHill_2|13           |60.98153846153846|\n",
      "|19  |389246765|227885_CurransHill_L21C_2|227885_CurransHill_2|13           |60.98153846153846|\n",
      "|19  |389246765|227885_CurransHill_L21H_2|227885_CurransHill_2|13           |60.98153846153846|\n",
      "|19  |389246765|227885_CurransHill_L21H_2|227885_CurransHill_2|13           |60.98153846153846|\n",
      "|19  |389246765|227885_CurransHill_L21H_2|227885_CurransHill_2|13           |60.98153846153846|\n",
      "|19  |389246765|227885_CurransHill_L21H_2|227885_CurransHill_2|13           |60.98153846153846|\n",
      "|19  |389246765|227885_CurransHill_L21H_2|227885_CurransHill_2|13           |60.98153846153846|\n",
      "|19  |389246765|227885_CurransHill_L21H_2|227885_CurransHill_2|13           |60.98153846153846|\n",
      "|19  |389246765|227885_CurransHill_L21H_2|227885_CurransHill_2|13           |60.98153846153846|\n",
      "|19  |389246765|227885_CurransHill_L21C_2|227885_CurransHill_2|13           |60.98153846153846|\n",
      "|19  |389246765|227885_CurransHill_L21C_2|227885_CurransHill_2|13           |60.98153846153846|\n",
      "|19  |389246765|227885_CurransHill_L21H_2|227885_CurransHill_2|13           |60.98153846153846|\n",
      "|19  |389246765|227885_CurransHill_L21H_2|227885_CurransHill_2|13           |60.98153846153846|\n",
      "|19  |389246765|227885_CurransHill_L21H_2|227885_CurransHill_2|13           |60.98153846153846|\n",
      "|19  |389246765|227885_CurransHill_L21H_2|227885_CurransHill_2|13           |60.98153846153846|\n",
      "|19  |389246765|227885_CurransHill_L21H_2|227885_CurransHill_2|13           |60.98153846153846|\n",
      "|19  |389246765|227885_CurransHill_L21H_2|227885_CurransHill_2|13           |60.98153846153846|\n",
      "|19  |389246765|227885_CurransHill_L21H_2|227885_CurransHill_2|13           |60.98153846153846|\n",
      "|19  |389246765|227885_CurransHill_L21H_2|227885_CurransHill_2|13           |60.98153846153846|\n",
      "|19  |389246765|227885_CurransHill_L21H_2|227885_CurransHill_2|13           |60.98153846153846|\n",
      "+----+---------+-------------------------+--------------------+-------------+-----------------+\n",
      "only showing top 20 rows"
     ]
    }
   ],
   "source": [
    "flat_event = flat_event.select(\n",
    "    'hour', 'Subs_Id', 'cell_name', 'sector_name', 'event_type_cd', 'utilisation'\n",
    ").filter('utilisation IS NOT NULL AND Subs_Id IS NOT NULL AND length(Subs_Id) < 10')\n",
    "\n",
    "flat_event.show(20, False)"
   ]
  },
  {
   "cell_type": "code",
   "execution_count": 51,
   "id": "98820e58",
   "metadata": {},
   "outputs": [
    {
     "data": {
      "application/vnd.jupyter.widget-view+json": {
       "model_id": "",
       "version_major": 2,
       "version_minor": 0
      },
      "text/plain": [
       "FloatProgress(value=0.0, bar_style='info', description='Progress:', layout=Layout(height='25px', width='50%'),…"
      ]
     },
     "metadata": {},
     "output_type": "display_data"
    },
    {
     "name": "stdout",
     "output_type": "stream",
     "text": [
      "37595869"
     ]
    }
   ],
   "source": [
    "flat_event.count()"
   ]
  },
  {
   "cell_type": "code",
   "execution_count": 52,
   "id": "eefed6c4",
   "metadata": {},
   "outputs": [
    {
     "data": {
      "application/vnd.jupyter.widget-view+json": {
       "model_id": "",
       "version_major": 2,
       "version_minor": 0
      },
      "text/plain": [
       "FloatProgress(value=0.0, bar_style='info', description='Progress:', layout=Layout(height='25px', width='50%'),…"
      ]
     },
     "metadata": {},
     "output_type": "display_data"
    },
    {
     "name": "stdout",
     "output_type": "stream",
     "text": [
      "+---------+--------------------+--------------------+--------------------+------------------+\n",
      "|  Subs_Id|           cell_name|         sector_name|  event_code_feature|       utilisation|\n",
      "+---------+--------------------+--------------------+--------------------+------------------+\n",
      "|279224204|477187_NerangWest...| 477187_NerangWest_2|(30,[7,12,13],[23...| 42.60727272727272|\n",
      "|280136956|477089_KurabyNort...|477089_KurabyNorth_2|     (30,[13],[6.0])|            64.604|\n",
      "|280146139|688043_OsbPkEast_...|  688043_OsbPkEast_3|      (30,[7],[1.0])| 61.35272727272727|\n",
      "|280165254|688078_Balcatta_L...|   688078_Balcatta_1|     (30,[13],[1.0])|             79.08|\n",
      "|280166981|558006_Lewiston_L...|   558006_Lewiston_2|(30,[7,13],[2.0,1...|             38.36|\n",
      "|280170043|201803_Penhust594...|201803_Penhust594...|      (30,[8],[2.0])|             97.82|\n",
      "|280183720|202922_Bogangar_L...|   202922_Bogangar_1|(30,[7,12,13],[3....|             87.02|\n",
      "|280191478|227658_Wareemba_L...|   227658_Wareemba_3|(30,[9,13],[1.0,1...|57.067692307692305|\n",
      "|280191777|440533_RainbowBay...|440533_RainbowBay...|     (30,[13],[1.0])| 96.59636363636363|\n",
      "|280199898|202578_ProspectCn...|202578_ProspectCn...|(30,[7,11,12,13],...|             44.44|\n",
      "|280201546|340291_MtWaverley...| 340291_MtWaverley_2|     (30,[13],[4.0])| 38.67076923076923|\n",
      "|280206090|201838_WatsonAnti...|201838_WatsonAnti...|     (30,[13],[3.0])| 65.28888888888889|\n",
      "|280213937|606388_AirportSou...|606388_AirportSou...|(30,[6,13],[1.0,2...| 69.57818181818183|\n",
      "|280235864|228034_Rookwood_L...|   228034_Rookwood_3|(30,[7,9,10,13,16...|26.393846153846155|\n",
      "|280267975|228051_CronullaSo...|228051_CronullaSo...|     (30,[13],[1.0])| 79.72307692307692|\n",
      "|280282497|404387_Carrara_L2...|    404387_Carrara_3|      (30,[7],[1.0])|            78.888|\n",
      "|280283352|202525_Leumeah_L0...|    202525_Leumeah_1|      (30,[7],[1.0])| 62.81230769230769|\n",
      "|280287411|252006_RiverwoodS...|252006_RiverwoodS...|      (30,[7],[4.0])| 90.54666666666667|\n",
      "|280293749|303045_Kooyong_L1...|    303045_Kooyong_3|     (30,[13],[7.0])| 74.73230769230769|\n",
      "|280308481|227484_CampsieSou...|227484_CampsieSou...|(30,[8,13],[2.0,2...|              94.5|\n",
      "+---------+--------------------+--------------------+--------------------+------------------+\n",
      "only showing top 20 rows"
     ]
    }
   ],
   "source": [
    "flat_event = flat_event.withColumn('event_type_cd', f.col('event_type_cd').cast('int'))\n",
    "encoder = OneHotEncoder(inputCol='event_type_cd', outputCol='event_type_encode')\n",
    "flat_event = encoder.fit(flat_event).transform(flat_event).groupBy(\n",
    "    'Subs_Id', 'cell_name', 'sector_name'\n",
    ").agg(\n",
    "    sparse_vector_sum(f.collect_list('event_type_encode')).alias('event_code_feature'),\n",
    "    f.max('utilisation').alias('utilisation')\n",
    ")\n",
    "flat_event.persist()\n",
    "flat_event.show()"
   ]
  },
  {
   "cell_type": "code",
   "execution_count": 53,
   "id": "4eaaab30",
   "metadata": {},
   "outputs": [
    {
     "data": {
      "application/vnd.jupyter.widget-view+json": {
       "model_id": "",
       "version_major": 2,
       "version_minor": 0
      },
      "text/plain": [
       "FloatProgress(value=0.0, bar_style='info', description='Progress:', layout=Layout(height='25px', width='50%'),…"
      ]
     },
     "metadata": {},
     "output_type": "display_data"
    },
    {
     "name": "stdout",
     "output_type": "stream",
     "text": [
      "6370738"
     ]
    }
   ],
   "source": [
    "flat_event.count()"
   ]
  },
  {
   "cell_type": "code",
   "execution_count": 59,
   "id": "dbc9b372",
   "metadata": {},
   "outputs": [
    {
     "data": {
      "application/vnd.jupyter.widget-view+json": {
       "model_id": "",
       "version_major": 2,
       "version_minor": 0
      },
      "text/plain": [
       "FloatProgress(value=0.0, bar_style='info', description='Progress:', layout=Layout(height='25px', width='50%'),…"
      ]
     },
     "metadata": {},
     "output_type": "display_data"
    }
   ],
   "source": [
    "flat_event.write.parquet('s3://kl-prod-tpgt-knowledge-lake-sandpit/TempDir/tmp/case_study/dataset_hr/flat_event/')"
   ]
  },
  {
   "cell_type": "code",
   "execution_count": 62,
   "id": "3d639cb3",
   "metadata": {},
   "outputs": [
    {
     "data": {
      "application/vnd.jupyter.widget-view+json": {
       "model_id": "",
       "version_major": 2,
       "version_minor": 0
      },
      "text/plain": [
       "FloatProgress(value=0.0, bar_style='info', description='Progress:', layout=Layout(height='25px', width='50%'),…"
      ]
     },
     "metadata": {},
     "output_type": "display_data"
    },
    {
     "name": "stdout",
     "output_type": "stream",
     "text": [
      "+---------+--------------------+\n",
      "|  Subs_Id|  event_code_feature|\n",
      "+---------+--------------------+\n",
      "|279180139|     (30,[13],[1.0])|\n",
      "|279227892|(30,[7,8,12,13],[...|\n",
      "|279269062|(30,[12,13],[1.0,...|\n",
      "|279577183|    (30,[13],[42.0])|\n",
      "|279805437|(30,[6,7,8,9,10,1...|\n",
      "|280137083|(30,[9,10,13,16],...|\n",
      "|280137356|     (30,[13],[5.0])|\n",
      "|280137993|(30,[7,13],[10.0,...|\n",
      "|280138236|(30,[2,4,7,13,15]...|\n",
      "|280139073|(30,[7,8,9,10,11,...|\n",
      "|280139131|(30,[7,13],[7.0,4...|\n",
      "|280140644|     (30,[13],[8.0])|\n",
      "|280141119|      (30,[7],[2.0])|\n",
      "|280142043|(30,[8,13],[1.0,3...|\n",
      "|280145283|     (30,[13],[2.0])|\n",
      "|280145900|     (30,[13],[5.0])|\n",
      "|280148028|     (30,[13],[1.0])|\n",
      "|280149147|    (30,[13],[82.0])|\n",
      "|280153704|    (30,[13],[81.0])|\n",
      "|280154233|     (30,[15],[1.0])|\n",
      "+---------+--------------------+\n",
      "only showing top 20 rows"
     ]
    }
   ],
   "source": [
    "# subs event\n",
    "subs_feature = flat_event.groupBy('Subs_Id').agg(\n",
    "    sparse_vector_sum(f.collect_list('event_code_feature')).alias('event_code_feature')\n",
    ")\n",
    "subs_feature.show()"
   ]
  },
  {
   "cell_type": "code",
   "execution_count": 61,
   "id": "a49ab2ab",
   "metadata": {},
   "outputs": [
    {
     "data": {
      "application/vnd.jupyter.widget-view+json": {
       "model_id": "",
       "version_major": 2,
       "version_minor": 0
      },
      "text/plain": [
       "FloatProgress(value=0.0, bar_style='info', description='Progress:', layout=Layout(height='25px', width='50%'),…"
      ]
     },
     "metadata": {},
     "output_type": "display_data"
    },
    {
     "name": "stdout",
     "output_type": "stream",
     "text": [
      "+--------------------+---------+--------------------+\n",
      "|           cell_name|  Subs_Id|  event_code_feature|\n",
      "+--------------------+---------+--------------------+\n",
      "|200027_MLCCentre_...|364998406|      (30,[7],[1.0])|\n",
      "|200027_MLCCentre_...|385444631|(30,[9,10,13,16],...|\n",
      "|200027_MLCCentre_...|385971490|     (30,[13],[2.0])|\n",
      "|200027_MLCCentre_...|387116334|(30,[6,7,8,10,13,...|\n",
      "|200027_MLCCentre_...|390199932|(30,[7,13],[8.0,5...|\n",
      "|200028_AustraliaS...|362085952|      (30,[8],[2.0])|\n",
      "|200028_AustraliaS...|375554753|(30,[7,13],[1.0,2...|\n",
      "|200031_ChifleyTwr...|378050132|      (30,[7],[1.0])|\n",
      "|200031_ChifleyTwr...|390449224|(30,[7,8,9,10,13]...|\n",
      "|200032_GrosvenorP...|388292129|      (30,[7],[1.0])|\n",
      "|200032_GrosvenorP...|388891740|(30,[7,9,10,13,16...|\n",
      "|200032_GrosvenorP...|385268601|      (30,[7],[1.0])|\n",
      "|200033_Gateway_L0...|390609488|    (30,[13],[19.0])|\n",
      "|200033_Gateway_L1...|362841800|(30,[8,11,13,16],...|\n",
      "|200033_Gateway_L1...|375411567|(30,[7,13],[3.0,1...|\n",
      "|200033_Gateway_U0...|384371154|(30,[2,4,15],[7.0...|\n",
      "|200034_Metcentre_...|375925967|     (30,[13],[1.0])|\n",
      "|200034_Metcentre_...|357405618|      (30,[7],[1.0])|\n",
      "|200034_Metcentre_...|390430713|(30,[8,13],[1.0,1...|\n",
      "|200034_Metcentre_...|391432788|     (30,[13],[8.0])|\n",
      "+--------------------+---------+--------------------+\n",
      "only showing top 20 rows"
     ]
    }
   ],
   "source": [
    "# subs event\n",
    "cell_feature = flat_event.groupBy('cell_name', 'Subs_Id').agg(\n",
    "    sparse_vector_sum(f.collect_list('event_code_feature')).alias('event_code_feature')\n",
    ")\n",
    "cell_feature.show()"
   ]
  },
  {
   "cell_type": "code",
   "execution_count": 58,
   "id": "9ee9a4fb",
   "metadata": {},
   "outputs": [
    {
     "data": {
      "application/vnd.jupyter.widget-view+json": {
       "model_id": "",
       "version_major": 2,
       "version_minor": 0
      },
      "text/plain": [
       "FloatProgress(value=0.0, bar_style='info', description='Progress:', layout=Layout(height='25px', width='50%'),…"
      ]
     },
     "metadata": {},
     "output_type": "display_data"
    },
    {
     "name": "stdout",
     "output_type": "stream",
     "text": [
      "+--------------------+---------+--------------------+------------------+\n",
      "|         sector_name|  Subs_Id|  event_code_feature|       utilisation|\n",
      "+--------------------+---------+--------------------+------------------+\n",
      "|  200027_MLCCentre_1|371462724|(30,[8,11,12,13],...|             8.685|\n",
      "|  200027_MLCCentre_1|386167527|     (30,[13],[1.0])|             8.685|\n",
      "|  200027_MLCCentre_1|389514751|    (30,[13],[34.0])|             8.685|\n",
      "|  200027_MLCCentre_1|390629170|(30,[2,4,6,7,8,11...|             8.685|\n",
      "|  200027_MLCCentre_1|391192847|(30,[2,4,6,7,8,11...|             8.685|\n",
      "|200028_AustraliaS...|388293965|(30,[2,15],[1.0,1...|             10.74|\n",
      "| 200031_ChifleyTwr_1|283460450|(30,[7,8],[1.0,10...|              9.56|\n",
      "| 200031_ChifleyTwr_1|373187164|(30,[7,8,11,12,13...|              9.56|\n",
      "| 200031_ChifleyTwr_1|378893831|(30,[7,8,13],[2.0...|              9.56|\n",
      "|200032_GrosvenorP...|364407217|(30,[7,9,10,13],[...|             2.475|\n",
      "|    200033_Gateway_2|383954442|(30,[2,4,15],[4.0...|13.086666666666666|\n",
      "|    200033_Gateway_2|389086756|(30,[5,11,13],[1....|13.086666666666666|\n",
      "|    200033_Gateway_2|390175452|(30,[7,9,10,13,16...|13.086666666666666|\n",
      "|  200034_Metcentre_3|368847866|(30,[7,8,13,15],[...|              11.0|\n",
      "|200036_WinterGdnP...|383015595|(30,[7,8,13],[7.0...|2.7600000000000002|\n",
      "|200036_WinterGdnP...|391208807|(30,[7,8,11,13],[...|2.7600000000000002|\n",
      "|200040_MacquarieS...|362620880|(30,[7,13],[3.0,5...| 25.31692307692308|\n",
      "|200040_MacquarieS...|363116402|     (30,[13],[7.0])| 25.31692307692308|\n",
      "|200040_MacquarieS...|368809610|(30,[7,13],[1.0,5...| 25.31692307692308|\n",
      "|200040_MacquarieS...|378629036|(30,[7,13],[13.0,...| 25.31692307692308|\n",
      "+--------------------+---------+--------------------+------------------+\n",
      "only showing top 20 rows"
     ]
    }
   ],
   "source": [
    "sector_feature = flat_event.groupBy('sector_name', 'Subs_Id').agg(\n",
    "    sparse_vector_sum(f.collect_list('event_code_feature')).alias('event_code_feature'),\n",
    "    f.max('utilisation').alias('utilisation')\n",
    ")\n",
    "sector_feature.show()"
   ]
  },
  {
   "cell_type": "code",
   "execution_count": 79,
   "id": "c4da7e05",
   "metadata": {},
   "outputs": [
    {
     "data": {
      "application/vnd.jupyter.widget-view+json": {
       "model_id": "",
       "version_major": 2,
       "version_minor": 0
      },
      "text/plain": [
       "FloatProgress(value=0.0, bar_style='info', description='Progress:', layout=Layout(height='25px', width='50%'),…"
      ]
     },
     "metadata": {},
     "output_type": "display_data"
    }
   ],
   "source": [
    "import numpy as np\n",
    "@f.udf(returnType=FloatType())\n",
    "def sum_vector(v):\n",
    "    s = 0.0\n",
    "    for i in v.values:\n",
    "        s += i\n",
    "    return float(s)\n",
    "\n",
    "@f.udf(returnType=FloatType())\n",
    "def irregular_event_pct(v):\n",
    "    vd = dict(zip(v.indices, v.values))\n",
    "    irregular_count = 0\n",
    "    regular_count = 0\n",
    "    for k, v in vd.items():\n",
    "        if k in [13, 7, 22, 26, 30, 23, 24, 25]:\n",
    "            regular_count += v\n",
    "        else:\n",
    "            irregular_count += v\n",
    "    return float(1.0 * irregular_count / (irregular_count + regular_count))\n",
    "            \n",
    "    "
   ]
  },
  {
   "cell_type": "code",
   "execution_count": 75,
   "id": "06380569",
   "metadata": {},
   "outputs": [
    {
     "data": {
      "application/vnd.jupyter.widget-view+json": {
       "model_id": "",
       "version_major": 2,
       "version_minor": 0
      },
      "text/plain": [
       "FloatProgress(value=0.0, bar_style='info', description='Progress:', layout=Layout(height='25px', width='50%'),…"
      ]
     },
     "metadata": {},
     "output_type": "display_data"
    },
    {
     "name": "stdout",
     "output_type": "stream",
     "text": [
      "+---------+---------------------------+\n",
      "|  Subs_Id|weighted_sector_utilisation|\n",
      "+---------+---------------------------+\n",
      "|341898685|         15.290703296703297|\n",
      "|345173688|          57.86940055623389|\n",
      "|387140283|          48.09715315315316|\n",
      "|375626765|          73.88402777777779|\n",
      "|390246017|          77.93041666666667|\n",
      "|385466902|          72.17905183946489|\n",
      "|387919448|          50.92038013268783|\n",
      "|376321824|          75.37409050719397|\n",
      "|368606061|                     87.015|\n",
      "|375840354|          64.21046153846154|\n",
      "|389916995|         28.096140778140786|\n",
      "|386545558|          81.58851851851853|\n",
      "|391167934|          64.65333333333334|\n",
      "|365535524|                       4.72|\n",
      "|391682411|          55.59076923076923|\n",
      "|388730789|          52.69576923076923|\n",
      "|388473108|          50.57230769230769|\n",
      "|373276124|          57.32718481518482|\n",
      "|390480490|          18.85333333333333|\n",
      "|378341527|          58.14940828402367|\n",
      "+---------+---------------------------+\n",
      "only showing top 20 rows"
     ]
    }
   ],
   "source": [
    "# create cei label\n",
    "weighted_sector_utilisation = sector_feature.join(\n",
    "    subs_feature.withColumn('event_count', sum_vector('event_code_feature')).drop('event_code_feature'),\n",
    "    on='Subs_Id'\n",
    ").withColumn(\n",
    "    'sector_event_count', sum_vector('event_code_feature')\n",
    ").withColumn(\n",
    "    'sector_usage_pct', 1.0 * f.col('sector_event_count') / f.col('event_count') * f.col('utilisation')\n",
    ").groupBy('Subs_Id').agg(f.sum('sector_usage_pct').alias('weighted_sector_utilisation'))\n",
    "weighted_sector_utilisation.persist()\n",
    "weighted_sector_utilisation.show()"
   ]
  },
  {
   "cell_type": "code",
   "execution_count": 82,
   "id": "050758c1",
   "metadata": {},
   "outputs": [
    {
     "data": {
      "application/vnd.jupyter.widget-view+json": {
       "model_id": "",
       "version_major": 2,
       "version_minor": 0
      },
      "text/plain": [
       "FloatProgress(value=0.0, bar_style='info', description='Progress:', layout=Layout(height='25px', width='50%'),…"
      ]
     },
     "metadata": {},
     "output_type": "display_data"
    },
    {
     "name": "stdout",
     "output_type": "stream",
     "text": [
      "+---------+----------------------------------+-------------+---------------------------+-----------------+\n",
      "|Subs_Id  |event_code_feature                |irregular_pct|weighted_sector_utilisation|cei              |\n",
      "+---------+----------------------------------+-------------+---------------------------+-----------------+\n",
      "|341898685|(30,[7,8,13],[4.0,3.0,7.0])       |0.21428572   |15.290703296703297         |80.4127874851101 |\n",
      "|345173688|(30,[7,8,13],[44.0,9.0,1.0])      |0.16666667   |57.86940055623389          |70.97250960607904|\n",
      "|387140283|(30,[7,8,13],[13.0,7.0,17.0])     |0.1891892    |48.09715315315316          |72.32761369760874|\n",
      "|375626765|(30,[7,8,11,13],[4.0,6.0,1.0,1.0])|0.5833333    |73.88402777777779          |37.00145922342936|\n",
      "|390246017|(30,[7,8,13],[15.0,21.0,4.0])     |0.525        |77.93041666666667          |39.87087767028808|\n",
      "+---------+----------------------------------+-------------+---------------------------+-----------------+\n",
      "only showing top 5 rows"
     ]
    }
   ],
   "source": [
    "cei_df = subs_feature.withColumn('irregular_pct', irregular_event_pct('event_code_feature')).join(\n",
    "    weighted_sector_utilisation,\n",
    "    on='Subs_Id'\n",
    ").withColumn('cei', 0.7 * (100 - 100 * f.col('irregular_pct')) + 0.3 * (100 - f.col('weighted_sector_utilisation')))\n",
    "\n",
    "cei_df.show(5, False)"
   ]
  },
  {
   "cell_type": "code",
   "execution_count": 83,
   "id": "efdc6a08",
   "metadata": {},
   "outputs": [
    {
     "data": {
      "application/vnd.jupyter.widget-view+json": {
       "model_id": "",
       "version_major": 2,
       "version_minor": 0
      },
      "text/plain": [
       "FloatProgress(value=0.0, bar_style='info', description='Progress:', layout=Layout(height='25px', width='50%'),…"
      ]
     },
     "metadata": {},
     "output_type": "display_data"
    }
   ],
   "source": [
    "cei_df.write.parquet('s3://kl-prod-tpgt-knowledge-lake-sandpit/TempDir/tmp/case_study/dataset_hr/cei/')"
   ]
  },
  {
   "cell_type": "code",
   "execution_count": 84,
   "id": "e6f80e7d",
   "metadata": {},
   "outputs": [
    {
     "data": {
      "application/vnd.jupyter.widget-view+json": {
       "model_id": "",
       "version_major": 2,
       "version_minor": 0
      },
      "text/plain": [
       "FloatProgress(value=0.0, bar_style='info', description='Progress:', layout=Layout(height='25px', width='50%'),…"
      ]
     },
     "metadata": {},
     "output_type": "display_data"
    },
    {
     "name": "stdout",
     "output_type": "stream",
     "text": [
      "+---------+---------------------------------------------------------------+\n",
      "|Subs_Id  |event_code_feature                                             |\n",
      "+---------+---------------------------------------------------------------+\n",
      "|279180139|(30,[13],[1.0])                                                |\n",
      "|279227892|(30,[7,8,12,13],[2.0,1.0,1.0,13.0])                            |\n",
      "|279269062|(30,[12,13],[1.0,2.0])                                         |\n",
      "|279577183|(30,[13],[42.0])                                               |\n",
      "|279805437|(30,[6,7,8,9,10,11,13,16],[3.0,3.0,49.0,3.0,2.0,1.0,10.0,28.0])|\n",
      "+---------+---------------------------------------------------------------+\n",
      "only showing top 5 rows\n",
      "\n",
      "+-----------------------+---------+-----------------------------------------------+\n",
      "|cell_name              |Subs_Id  |event_code_feature                             |\n",
      "+-----------------------+---------+-----------------------------------------------+\n",
      "|200027_MLCCentre_L08A_1|364998406|(30,[7],[1.0])                                 |\n",
      "|200027_MLCCentre_L08A_1|385444631|(30,[9,10,13,16],[1.0,1.0,16.0,3.0])           |\n",
      "|200027_MLCCentre_L08A_1|385971490|(30,[13],[2.0])                                |\n",
      "|200027_MLCCentre_L08A_1|387116334|(30,[6,7,8,10,13,16],[3.0,2.0,1.0,1.0,7.0,2.0])|\n",
      "|200027_MLCCentre_L08A_1|390199932|(30,[7,13],[8.0,5.0])                          |\n",
      "+-----------------------+---------+-----------------------------------------------+\n",
      "only showing top 5 rows\n",
      "\n",
      "+------------------+---------+--------------------------------------------------------------------------+-----------+\n",
      "|sector_name       |Subs_Id  |event_code_feature                                                        |utilisation|\n",
      "+------------------+---------+--------------------------------------------------------------------------+-----------+\n",
      "|200027_MLCCentre_1|371462724|(30,[8,11,12,13],[1.0,1.0,1.0,2.0])                                       |8.685      |\n",
      "|200027_MLCCentre_1|386167527|(30,[13],[1.0])                                                           |8.685      |\n",
      "|200027_MLCCentre_1|389514751|(30,[13],[34.0])                                                          |8.685      |\n",
      "|200027_MLCCentre_1|390629170|(30,[2,4,6,7,8,11,13,15,16],[4.0,4.0,4.0,7.0,7.0,6.0,13.0,15.0,5.0])      |8.685      |\n",
      "|200027_MLCCentre_1|391192847|(30,[2,4,6,7,8,11,12,13,15,16],[8.0,5.0,6.0,4.0,8.0,8.0,1.0,6.0,9.0,10.0])|8.685      |\n",
      "+------------------+---------+--------------------------------------------------------------------------+-----------+\n",
      "only showing top 5 rows"
     ]
    }
   ],
   "source": [
    "subs_feature.show(5, False)\n",
    "cell_feature.show(5, False)\n",
    "sector_feature.show(5, False)"
   ]
  },
  {
   "cell_type": "code",
   "execution_count": null,
   "id": "cca8e753",
   "metadata": {},
   "outputs": [],
   "source": []
  },
  {
   "cell_type": "code",
   "execution_count": 87,
   "id": "3f6a77ce",
   "metadata": {},
   "outputs": [
    {
     "data": {
      "application/vnd.jupyter.widget-view+json": {
       "model_id": "",
       "version_major": 2,
       "version_minor": 0
      },
      "text/plain": [
       "FloatProgress(value=0.0, bar_style='info', description='Progress:', layout=Layout(height='25px', width='50%'),…"
      ]
     },
     "metadata": {},
     "output_type": "display_data"
    }
   ],
   "source": [
    "# write node overview\n",
    "flat_event.groupBy('Subs_Id').agg(\n",
    "    construct_nodes(\n",
    "            f.collect_list(f.struct('Subs_Id', 'cell_name', 'sector_name'))\n",
    "        ).alias('node_list')\n",
    ").withColumn(\n",
    "    'node_id_type', f.explode('node_list')\n",
    ").drop('node_list').withColumn(\n",
    "    'node_name', f.col('node_id_type')[0]\n",
    ").withColumn(\n",
    "    'node_type', f.col('node_id_type')[1]\n",
    ").drop('node_id_type').withColumn(\n",
    "    'node_id', f.row_number().over(Window.partitionBy('Subs_Id').orderBy('node_type')) - 1\n",
    ").write.mode('overwrite').parquet('s3://kl-prod-tpgt-knowledge-lake-sandpit/TempDir/tmp/case_study/dataset_hr/node_overview/')"
   ]
  },
  {
   "cell_type": "code",
   "execution_count": null,
   "id": "e428a6ae",
   "metadata": {},
   "outputs": [],
   "source": []
  },
  {
   "cell_type": "code",
   "execution_count": 91,
   "id": "1d022e6e",
   "metadata": {},
   "outputs": [
    {
     "data": {
      "application/vnd.jupyter.widget-view+json": {
       "model_id": "",
       "version_major": 2,
       "version_minor": 0
      },
      "text/plain": [
       "FloatProgress(value=0.0, bar_style='info', description='Progress:', layout=Layout(height='25px', width='50%'),…"
      ]
     },
     "metadata": {},
     "output_type": "display_data"
    }
   ],
   "source": [
    "normaler = Normalizer(inputCol='event_code_feature', outputCol='feature_norm', p=1)"
   ]
  },
  {
   "cell_type": "code",
   "execution_count": 92,
   "id": "08dc2eb5",
   "metadata": {
    "scrolled": true
   },
   "outputs": [
    {
     "data": {
      "application/vnd.jupyter.widget-view+json": {
       "model_id": "",
       "version_major": 2,
       "version_minor": 0
      },
      "text/plain": [
       "FloatProgress(value=0.0, bar_style='info', description='Progress:', layout=Layout(height='25px', width='50%'),…"
      ]
     },
     "metadata": {},
     "output_type": "display_data"
    },
    {
     "name": "stdout",
     "output_type": "stream",
     "text": [
      "+---------+---------------------------------------------------------------+----------------------------------------------------------------------------------------------------------------------------------------------------------------------------------------------+\n",
      "|Subs_Id  |event_code_feature                                             |feature_norm                                                                                                                                                                                  |\n",
      "+---------+---------------------------------------------------------------+----------------------------------------------------------------------------------------------------------------------------------------------------------------------------------------------+\n",
      "|279180139|(30,[13],[1.0])                                                |(30,[13],[1.0])                                                                                                                                                                               |\n",
      "|279227892|(30,[7,8,12,13],[2.0,1.0,1.0,13.0])                            |(30,[7,8,12,13],[0.11764705882352941,0.058823529411764705,0.058823529411764705,0.7647058823529411])                                                                                           |\n",
      "|279269062|(30,[12,13],[1.0,2.0])                                         |(30,[12,13],[0.3333333333333333,0.6666666666666666])                                                                                                                                          |\n",
      "|279577183|(30,[13],[42.0])                                               |(30,[13],[1.0])                                                                                                                                                                               |\n",
      "|279805437|(30,[6,7,8,9,10,11,13,16],[3.0,3.0,49.0,3.0,2.0,1.0,10.0,28.0])|(30,[6,7,8,9,10,11,13,16],[0.030303030303030304,0.030303030303030304,0.494949494949495,0.030303030303030304,0.020202020202020204,0.010101010101010102,0.10101010101010101,0.2828282828282828])|\n",
      "+---------+---------------------------------------------------------------+----------------------------------------------------------------------------------------------------------------------------------------------------------------------------------------------+\n",
      "only showing top 5 rows\n",
      "\n",
      "+-----------------------+---------+-----------------------------------------------+----------------------------------------------------------------------------------------------------+\n",
      "|cell_name              |Subs_Id  |event_code_feature                             |feature_norm                                                                                        |\n",
      "+-----------------------+---------+-----------------------------------------------+----------------------------------------------------------------------------------------------------+\n",
      "|200027_MLCCentre_L08A_1|364998406|(30,[7],[1.0])                                 |(30,[7],[1.0])                                                                                      |\n",
      "|200027_MLCCentre_L08A_1|385444631|(30,[9,10,13,16],[1.0,1.0,16.0,3.0])           |(30,[9,10,13,16],[0.047619047619047616,0.047619047619047616,0.7619047619047619,0.14285714285714285])|\n",
      "|200027_MLCCentre_L08A_1|385971490|(30,[13],[2.0])                                |(30,[13],[1.0])                                                                                     |\n",
      "|200027_MLCCentre_L08A_1|387116334|(30,[6,7,8,10,13,16],[3.0,2.0,1.0,1.0,7.0,2.0])|(30,[6,7,8,10,13,16],[0.1875,0.125,0.0625,0.0625,0.4375,0.125])                                     |\n",
      "|200027_MLCCentre_L08A_1|390199932|(30,[7,13],[8.0,5.0])                          |(30,[7,13],[0.6153846153846154,0.38461538461538464])                                                |\n",
      "+-----------------------+---------+-----------------------------------------------+----------------------------------------------------------------------------------------------------+\n",
      "only showing top 5 rows\n",
      "\n",
      "+------------------+---------+--------------------------------------------------------------------------+-----------+------------------------------------------------------------------------------------------------------------------------------------------------------------------------------------------------------------------------------------------+\n",
      "|sector_name       |Subs_Id  |event_code_feature                                                        |utilisation|feature_norm                                                                                                                                                                                                                              |\n",
      "+------------------+---------+--------------------------------------------------------------------------+-----------+------------------------------------------------------------------------------------------------------------------------------------------------------------------------------------------------------------------------------------------+\n",
      "|200027_MLCCentre_1|371462724|(30,[8,11,12,13],[1.0,1.0,1.0,2.0])                                       |8.685      |(30,[8,11,12,13],[0.2,0.2,0.2,0.4])                                                                                                                                                                                                       |\n",
      "|200027_MLCCentre_1|386167527|(30,[13],[1.0])                                                           |8.685      |(30,[13],[1.0])                                                                                                                                                                                                                           |\n",
      "|200027_MLCCentre_1|389514751|(30,[13],[34.0])                                                          |8.685      |(30,[13],[1.0])                                                                                                                                                                                                                           |\n",
      "|200027_MLCCentre_1|390629170|(30,[2,4,6,7,8,11,13,15,16],[4.0,4.0,4.0,7.0,7.0,6.0,13.0,15.0,5.0])      |8.685      |(30,[2,4,6,7,8,11,13,15,16],[0.06153846153846154,0.06153846153846154,0.06153846153846154,0.1076923076923077,0.1076923076923077,0.09230769230769231,0.2,0.23076923076923078,0.07692307692307693])                                          |\n",
      "|200027_MLCCentre_1|391192847|(30,[2,4,6,7,8,11,12,13,15,16],[8.0,5.0,6.0,4.0,8.0,8.0,1.0,6.0,9.0,10.0])|8.685      |(30,[2,4,6,7,8,11,12,13,15,16],[0.12307692307692308,0.07692307692307693,0.09230769230769231,0.06153846153846154,0.12307692307692308,0.12307692307692308,0.015384615384615385,0.09230769230769231,0.13846153846153847,0.15384615384615385])|\n",
      "+------------------+---------+--------------------------------------------------------------------------+-----------+------------------------------------------------------------------------------------------------------------------------------------------------------------------------------------------------------------------------------------------+\n",
      "only showing top 5 rows"
     ]
    }
   ],
   "source": [
    "subs_feature = normaler.transform(subs_feature)\n",
    "cell_feature = normaler.transform(cell_feature)\n",
    "sector_feature = normaler.transform(sector_feature)\n",
    "subs_feature.show(5, False)\n",
    "cell_feature.show(5, False)\n",
    "sector_feature.show(5, False)"
   ]
  },
  {
   "cell_type": "code",
   "execution_count": 93,
   "id": "bbc72855",
   "metadata": {},
   "outputs": [
    {
     "data": {
      "application/vnd.jupyter.widget-view+json": {
       "model_id": "",
       "version_major": 2,
       "version_minor": 0
      },
      "text/plain": [
       "FloatProgress(value=0.0, bar_style='info', description='Progress:', layout=Layout(height='25px', width='50%'),…"
      ]
     },
     "metadata": {},
     "output_type": "display_data"
    },
    {
     "name": "stdout",
     "output_type": "stream",
     "text": [
      "+---------+---------------------------------------------------------------+----------------------------------------------------------------------------------------------------------------------------------------------------------------------------------------------+----------------------------------------------------------------------------------------------------------------------------------------------------------------------------------------------+\n",
      "|Subs_Id  |event_code_feature                                             |feature_norm                                                                                                                                                                                  |util_vec                                                                                                                                                                                      |\n",
      "+---------+---------------------------------------------------------------+----------------------------------------------------------------------------------------------------------------------------------------------------------------------------------------------+----------------------------------------------------------------------------------------------------------------------------------------------------------------------------------------------+\n",
      "|279180139|(30,[13],[1.0])                                                |(30,[13],[1.0])                                                                                                                                                                               |(31,[13],[1.0])                                                                                                                                                                               |\n",
      "|279227892|(30,[7,8,12,13],[2.0,1.0,1.0,13.0])                            |(30,[7,8,12,13],[0.11764705882352941,0.058823529411764705,0.058823529411764705,0.7647058823529411])                                                                                           |(31,[7,8,12,13],[0.11764705882352941,0.058823529411764705,0.058823529411764705,0.7647058823529411])                                                                                           |\n",
      "|279269062|(30,[12,13],[1.0,2.0])                                         |(30,[12,13],[0.3333333333333333,0.6666666666666666])                                                                                                                                          |(31,[12,13],[0.3333333333333333,0.6666666666666666])                                                                                                                                          |\n",
      "|279577183|(30,[13],[42.0])                                               |(30,[13],[1.0])                                                                                                                                                                               |(31,[13],[1.0])                                                                                                                                                                               |\n",
      "|279805437|(30,[6,7,8,9,10,11,13,16],[3.0,3.0,49.0,3.0,2.0,1.0,10.0,28.0])|(30,[6,7,8,9,10,11,13,16],[0.030303030303030304,0.030303030303030304,0.494949494949495,0.030303030303030304,0.020202020202020204,0.010101010101010102,0.10101010101010101,0.2828282828282828])|(31,[6,7,8,9,10,11,13,16],[0.030303030303030304,0.030303030303030304,0.494949494949495,0.030303030303030304,0.020202020202020204,0.010101010101010102,0.10101010101010101,0.2828282828282828])|\n",
      "+---------+---------------------------------------------------------------+----------------------------------------------------------------------------------------------------------------------------------------------------------------------------------------------+----------------------------------------------------------------------------------------------------------------------------------------------------------------------------------------------+\n",
      "only showing top 5 rows\n",
      "\n",
      "+-----------------------+---------+-----------------------------------------------+----------------------------------------------------------------------------------------------------+----------------------------------------------------------------------------------------------------+\n",
      "|cell_name              |Subs_Id  |event_code_feature                             |feature_norm                                                                                        |util_vec                                                                                            |\n",
      "+-----------------------+---------+-----------------------------------------------+----------------------------------------------------------------------------------------------------+----------------------------------------------------------------------------------------------------+\n",
      "|200027_MLCCentre_L08A_1|364998406|(30,[7],[1.0])                                 |(30,[7],[1.0])                                                                                      |(31,[7],[1.0])                                                                                      |\n",
      "|200027_MLCCentre_L08A_1|385444631|(30,[9,10,13,16],[1.0,1.0,16.0,3.0])           |(30,[9,10,13,16],[0.047619047619047616,0.047619047619047616,0.7619047619047619,0.14285714285714285])|(31,[9,10,13,16],[0.047619047619047616,0.047619047619047616,0.7619047619047619,0.14285714285714285])|\n",
      "|200027_MLCCentre_L08A_1|385971490|(30,[13],[2.0])                                |(30,[13],[1.0])                                                                                     |(31,[13],[1.0])                                                                                     |\n",
      "|200027_MLCCentre_L08A_1|387116334|(30,[6,7,8,10,13,16],[3.0,2.0,1.0,1.0,7.0,2.0])|(30,[6,7,8,10,13,16],[0.1875,0.125,0.0625,0.0625,0.4375,0.125])                                     |(31,[6,7,8,10,13,16],[0.1875,0.125,0.0625,0.0625,0.4375,0.125])                                     |\n",
      "|200027_MLCCentre_L08A_1|390199932|(30,[7,13],[8.0,5.0])                          |(30,[7,13],[0.6153846153846154,0.38461538461538464])                                                |(31,[7,13],[0.6153846153846154,0.38461538461538464])                                                |\n",
      "+-----------------------+---------+-----------------------------------------------+----------------------------------------------------------------------------------------------------+----------------------------------------------------------------------------------------------------+\n",
      "only showing top 5 rows\n",
      "\n",
      "+------------------+---------+--------------------------------------------------------------------------+-------------------+------------------------------------------------------------------------------------------------------------------------------------------------------------------------------------------------------------------------------------------+-----------------------------------------------------------------------------------------------------------------------------------------------------------------------------------------------------------------------------------------------------------------+\n",
      "|sector_name       |Subs_Id  |event_code_feature                                                        |utilisation        |feature_norm                                                                                                                                                                                                                              |util_vec                                                                                                                                                                                                                                                         |\n",
      "+------------------+---------+--------------------------------------------------------------------------+-------------------+------------------------------------------------------------------------------------------------------------------------------------------------------------------------------------------------------------------------------------------+-----------------------------------------------------------------------------------------------------------------------------------------------------------------------------------------------------------------------------------------------------------------+\n",
      "|200027_MLCCentre_1|371462724|(30,[8,11,12,13],[1.0,1.0,1.0,2.0])                                       |0.08685000000000001|(30,[8,11,12,13],[0.2,0.2,0.2,0.4])                                                                                                                                                                                                       |(31,[8,11,12,13,30],[0.2,0.2,0.2,0.4,0.08685000000000001])                                                                                                                                                                                                       |\n",
      "|200027_MLCCentre_1|386167527|(30,[13],[1.0])                                                           |0.08685000000000001|(30,[13],[1.0])                                                                                                                                                                                                                           |(31,[13,30],[1.0,0.08685000000000001])                                                                                                                                                                                                                           |\n",
      "|200027_MLCCentre_1|389514751|(30,[13],[34.0])                                                          |0.08685000000000001|(30,[13],[1.0])                                                                                                                                                                                                                           |(31,[13,30],[1.0,0.08685000000000001])                                                                                                                                                                                                                           |\n",
      "|200027_MLCCentre_1|390629170|(30,[2,4,6,7,8,11,13,15,16],[4.0,4.0,4.0,7.0,7.0,6.0,13.0,15.0,5.0])      |0.08685000000000001|(30,[2,4,6,7,8,11,13,15,16],[0.06153846153846154,0.06153846153846154,0.06153846153846154,0.1076923076923077,0.1076923076923077,0.09230769230769231,0.2,0.23076923076923078,0.07692307692307693])                                          |(31,[2,4,6,7,8,11,13,15,16,30],[0.06153846153846154,0.06153846153846154,0.06153846153846154,0.1076923076923077,0.1076923076923077,0.09230769230769231,0.2,0.23076923076923078,0.07692307692307693,0.08685000000000001])                                          |\n",
      "|200027_MLCCentre_1|391192847|(30,[2,4,6,7,8,11,12,13,15,16],[8.0,5.0,6.0,4.0,8.0,8.0,1.0,6.0,9.0,10.0])|0.08685000000000001|(30,[2,4,6,7,8,11,12,13,15,16],[0.12307692307692308,0.07692307692307693,0.09230769230769231,0.06153846153846154,0.12307692307692308,0.12307692307692308,0.015384615384615385,0.09230769230769231,0.13846153846153847,0.15384615384615385])|(31,[2,4,6,7,8,11,12,13,15,16,30],[0.12307692307692308,0.07692307692307693,0.09230769230769231,0.06153846153846154,0.12307692307692308,0.12307692307692308,0.015384615384615385,0.09230769230769231,0.13846153846153847,0.15384615384615385,0.08685000000000001])|\n",
      "+------------------+---------+--------------------------------------------------------------------------+-------------------+------------------------------------------------------------------------------------------------------------------------------------------------------------------------------------------------------------------------------------------+-----------------------------------------------------------------------------------------------------------------------------------------------------------------------------------------------------------------------------------------------------------------+\n",
      "only showing top 5 rows"
     ]
    }
   ],
   "source": [
    "sector_feature = sector_feature.withColumn('utilisation', f.col('utilisation')/100.0)\n",
    "subs_feature = subs_feature.withColumn('util_vec', add_sparse31(f.col('feature_norm'), f.lit(0.0)))\n",
    "cell_feature = cell_feature.withColumn('util_vec', add_sparse31(f.col('feature_norm'), f.lit(0.0)))\n",
    "sector_feature = sector_feature.withColumn('util_vec', add_sparse31(f.col('feature_norm'), f.col('utilisation')))\n",
    "\n",
    "subs_feature.show(5, False)\n",
    "cell_feature.show(5, False)\n",
    "sector_feature.show(5, False)"
   ]
  },
  {
   "cell_type": "code",
   "execution_count": 95,
   "id": "9b50a65d",
   "metadata": {},
   "outputs": [
    {
     "data": {
      "application/vnd.jupyter.widget-view+json": {
       "model_id": "",
       "version_major": 2,
       "version_minor": 0
      },
      "text/plain": [
       "FloatProgress(value=0.0, bar_style='info', description='Progress:', layout=Layout(height='25px', width='50%'),…"
      ]
     },
     "metadata": {},
     "output_type": "display_data"
    },
    {
     "name": "stdout",
     "output_type": "stream",
     "text": [
      "+---------+---------+--------------------+\n",
      "| trace_id|node_name|            util_vec|\n",
      "+---------+---------+--------------------+\n",
      "|280155403|280155403|(31,[7,13],[0.028...|\n",
      "|280166904|280166904|(31,[8,13],[0.090...|\n",
      "|280180096|280180096|     (31,[13],[1.0])|\n",
      "|280199973|280199973|     (31,[13],[1.0])|\n",
      "|280238701|280238701|     (31,[13],[1.0])|\n",
      "|280244365|280244365|(31,[7,13],[0.333...|\n",
      "|280257816|280257816|(31,[7,13],[0.5,0...|\n",
      "|280300968|280300968|     (31,[13],[1.0])|\n",
      "|280330831|280330831|     (31,[13],[1.0])|\n",
      "|280346661|280346661|     (31,[13],[1.0])|\n",
      "|280358968|280358968|(31,[7,8,11,13,15...|\n",
      "|280387876|280387876|     (31,[13],[1.0])|\n",
      "|280406521|280406521|     (31,[13],[1.0])|\n",
      "|280406628|280406628|(31,[7,8,13],[0.4...|\n",
      "|280411512|280411512|(31,[2,6,7,8,11,1...|\n",
      "|280424708|280424708|(31,[11,12,13],[0...|\n",
      "|280427282|280427282|(31,[7,8,13],[0.0...|\n",
      "|280456481|280456481|(31,[7,12,13],[0....|\n",
      "|280492014|280492014|     (31,[13],[1.0])|\n",
      "|280545534|280545534|(31,[7,9,10,13,16...|\n",
      "+---------+---------+--------------------+\n",
      "only showing top 20 rows"
     ]
    }
   ],
   "source": [
    "node_feature = subs_feature.select(\n",
    "    f.col('Subs_Id').alias('trace_id'), f.col('Subs_Id').alias('node_name'), 'util_vec'\n",
    ").union(cell_feature.select(\n",
    "    f.col('Subs_Id').alias('trace_id'), f.col('cell_name').alias('node_name'), 'util_vec'\n",
    ")).union(sector_feature.select(\n",
    "    f.col('Subs_Id').alias('trace_id'), f.col('sector_name').alias('node_name'), 'util_vec'\n",
    "))\n",
    "node_feature.persist()\n",
    "node_feature.show()"
   ]
  },
  {
   "cell_type": "code",
   "execution_count": 96,
   "id": "ab968990",
   "metadata": {},
   "outputs": [
    {
     "data": {
      "application/vnd.jupyter.widget-view+json": {
       "model_id": "",
       "version_major": 2,
       "version_minor": 0
      },
      "text/plain": [
       "FloatProgress(value=0.0, bar_style='info', description='Progress:', layout=Layout(height='25px', width='50%'),…"
      ]
     },
     "metadata": {},
     "output_type": "display_data"
    }
   ],
   "source": [
    "node_feature.write.parquet('s3://kl-prod-tpgt-knowledge-lake-sandpit/TempDir/tmp/case_study/dataset_hr/node_feature/')"
   ]
  },
  {
   "cell_type": "markdown",
   "id": "007c818a",
   "metadata": {},
   "source": [
    "## Edge Index"
   ]
  },
  {
   "cell_type": "code",
   "execution_count": 98,
   "id": "64fb8f97",
   "metadata": {},
   "outputs": [
    {
     "data": {
      "application/vnd.jupyter.widget-view+json": {
       "model_id": "",
       "version_major": 2,
       "version_minor": 0
      },
      "text/plain": [
       "FloatProgress(value=0.0, bar_style='info', description='Progress:', layout=Layout(height='25px', width='50%'),…"
      ]
     },
     "metadata": {},
     "output_type": "display_data"
    },
    {
     "name": "stdout",
     "output_type": "stream",
     "text": [
      "+---------+--------------------+--------------------+\n",
      "|  Subs_Id|            src_name|            dst_name|\n",
      "+---------+--------------------+--------------------+\n",
      "|280155403|           280155403|588264_MorphettVa...|\n",
      "|280155403|588264_MorphettVa...|588264_MorphettVa...|\n",
      "|280155403|           280155403|588264_MorphettVa...|\n",
      "|280155403|588264_MorphettVa...|588264_MorphettVa...|\n",
      "|280155403|           280155403|588264_MorphettVa...|\n",
      "|280155403|588264_MorphettVa...|588264_MorphettVa...|\n",
      "|280166904|           280166904|606215_Dunsboroug...|\n",
      "|280166904|606215_Dunsboroug...|606215_Dunsborough_1|\n",
      "|280166904|           280166904|606215_Dunsboroug...|\n",
      "|280166904|606215_Dunsboroug...|606215_Dunsborough_1|\n",
      "|280180096|           280180096|640125_Anketell_L...|\n",
      "|280180096|640125_Anketell_L...|   640125_Anketell_2|\n",
      "|280180096|           280180096|640125_Anketell_L...|\n",
      "|280180096|640125_Anketell_L...|   640125_Anketell_2|\n",
      "|280180096|           280180096|640125_Anketell_L...|\n",
      "|280180096|640125_Anketell_L...|   640125_Anketell_3|\n",
      "|280199973|           280199973|227483_EarlwoodNo...|\n",
      "|280199973|227483_EarlwoodNo...|227483_EarlwoodNo...|\n",
      "|280238701|           280238701|240358_CoffsHbrWs...|\n",
      "|280238701|240358_CoffsHbrWs...|240358_CoffsHbrWst_2|\n",
      "+---------+--------------------+--------------------+\n",
      "only showing top 20 rows"
     ]
    }
   ],
   "source": [
    "edge_index = flat_event.groupBy('Subs_Id').agg(\n",
    "        construct_edge_index(\n",
    "            f.collect_list(f.struct('Subs_Id', 'cell_name', 'sector_name'))\n",
    "        ).alias('edge_index_list')\n",
    ").withColumn(\n",
    "    'edge_pair', f.explode('edge_index_list')\n",
    ").drop('edge_index_list').withColumn(\n",
    "    'src_name', f.col('edge_pair')[0]\n",
    ").withColumn(\n",
    "    'dst_name', f.col('edge_pair')[1]\n",
    ").drop('edge_pair')\n",
    "\n",
    "edge_index.persist()\n",
    "edge_index.show()"
   ]
  },
  {
   "cell_type": "code",
   "execution_count": 101,
   "id": "ca874149",
   "metadata": {},
   "outputs": [
    {
     "data": {
      "application/vnd.jupyter.widget-view+json": {
       "model_id": "",
       "version_major": 2,
       "version_minor": 0
      },
      "text/plain": [
       "FloatProgress(value=0.0, bar_style='info', description='Progress:', layout=Layout(height='25px', width='50%'),…"
      ]
     },
     "metadata": {},
     "output_type": "display_data"
    }
   ],
   "source": [
    "edge_index.write.parquet('s3://kl-prod-tpgt-knowledge-lake-sandpit/TempDir/tmp/case_study/dataset_hr/edge_index/')"
   ]
  },
  {
   "cell_type": "code",
   "execution_count": 100,
   "id": "789e6480",
   "metadata": {},
   "outputs": [
    {
     "data": {
      "application/vnd.jupyter.widget-view+json": {
       "model_id": "",
       "version_major": 2,
       "version_minor": 0
      },
      "text/plain": [
       "FloatProgress(value=0.0, bar_style='info', description='Progress:', layout=Layout(height='25px', width='50%'),…"
      ]
     },
     "metadata": {},
     "output_type": "display_data"
    },
    {
     "name": "stdout",
     "output_type": "stream",
     "text": [
      "12741476"
     ]
    }
   ],
   "source": [
    "edge_index.dropDuplicates().count()"
   ]
  },
  {
   "cell_type": "code",
   "execution_count": 103,
   "id": "3edf5b84",
   "metadata": {},
   "outputs": [
    {
     "data": {
      "application/vnd.jupyter.widget-view+json": {
       "model_id": "",
       "version_major": 2,
       "version_minor": 0
      },
      "text/plain": [
       "FloatProgress(value=0.0, bar_style='info', description='Progress:', layout=Layout(height='25px', width='50%'),…"
      ]
     },
     "metadata": {},
     "output_type": "display_data"
    },
    {
     "name": "stdout",
     "output_type": "stream",
     "text": [
      "+---------+--------------------+-------------+---------------------------+------------------+\n",
      "|  Subs_Id|  event_code_feature|irregular_pct|weighted_sector_utilisation|               cei|\n",
      "+---------+--------------------+-------------+---------------------------+------------------+\n",
      "|279180139|     (30,[13],[1.0])|          0.0|                     31.024|           90.6928|\n",
      "|279227892|(30,[7,8,12,13],[...|   0.11764706|         24.946176470588235| 84.28085042796415|\n",
      "|279269062|(30,[12,13],[1.0,...|   0.33333334|                     94.656| 48.26986488647461|\n",
      "|279577183|    (30,[13],[42.0])|          0.0|                      43.56|            86.932|\n",
      "|279805437|(30,[6,7,8,9,10,1...|   0.86868685|          57.07272727272726|22.070103815252132|\n",
      "|280137083|(30,[9,10,13,16],...|    0.5833333|                      94.11|30.933667556762693|\n",
      "|280137356|     (30,[13],[5.0])|          0.0|          50.88727272727273| 84.73381818181818|\n",
      "|280137993|(30,[7,13],[10.0,...|          0.0|         52.423285123966934| 84.27301446280993|\n",
      "|280138236|(30,[2,4,7,13,15]...|   0.19512194|          50.36090465631929| 71.23319436238155|\n",
      "|280139073|(30,[7,8,9,10,11,...|   0.25641027|          37.93222377622378| 70.67161231659576|\n",
      "|280139131|(30,[7,13],[7.0,4...|          0.0|          51.20951048951049| 84.63714685314685|\n",
      "|280140644|     (30,[13],[8.0])|          0.0|           87.1476923076923| 73.85569230769231|\n",
      "|280141119|      (30,[7],[2.0])|          0.0|          48.44307692307692| 85.46707692307692|\n",
      "|280142043|(30,[8,13],[1.0,3...|         0.25|          67.73384615384616| 62.17984615384615|\n",
      "|280145283|     (30,[13],[2.0])|          0.0|          58.81076923076924| 82.35676923076923|\n",
      "|280145900|     (30,[13],[5.0])|          0.0|         50.676923076923075| 84.79692307692308|\n",
      "|280148028|     (30,[13],[1.0])|          0.0|          96.59636363636363| 71.02109090909092|\n",
      "|280149147|    (30,[13],[82.0])|          0.0|         59.905454545454546| 82.02836363636364|\n",
      "|280153704|    (30,[13],[81.0])|          0.0|          61.66499999999999|           81.5005|\n",
      "|280154233|     (30,[15],[1.0])|          1.0|          66.11200000000001|10.166399999999998|\n",
      "+---------+--------------------+-------------+---------------------------+------------------+\n",
      "only showing top 20 rows"
     ]
    }
   ],
   "source": [
    "cei_df.show()"
   ]
  },
  {
   "cell_type": "markdown",
   "id": "5d5b4c76",
   "metadata": {},
   "source": [
    "## Prep "
   ]
  },
  {
   "cell_type": "code",
   "execution_count": null,
   "id": "d73cd12a",
   "metadata": {},
   "outputs": [],
   "source": []
  },
  {
   "cell_type": "code",
   "execution_count": 10,
   "id": "5b698ab6",
   "metadata": {},
   "outputs": [
    {
     "data": {
      "application/vnd.jupyter.widget-view+json": {
       "model_id": "",
       "version_major": 2,
       "version_minor": 0
      },
      "text/plain": [
       "FloatProgress(value=0.0, bar_style='info', description='Progress:', layout=Layout(height='25px', width='50%'),…"
      ]
     },
     "metadata": {},
     "output_type": "display_data"
    }
   ],
   "source": [
    "root_dir = 's3://kl-prod-tpgt-knowledge-lake-sandpit/TempDir/tmp/case_study/dataset_hr/'\n",
    "output_csv_dir = 's3://kl-prod-tpgt-knowledge-lake-sandpit/TempDir/tmp/case_study/csv/dataset_hr/'"
   ]
  },
  {
   "cell_type": "code",
   "execution_count": 6,
   "id": "3db4eda2",
   "metadata": {},
   "outputs": [
    {
     "data": {
      "application/vnd.jupyter.widget-view+json": {
       "model_id": "",
       "version_major": 2,
       "version_minor": 0
      },
      "text/plain": [
       "FloatProgress(value=0.0, bar_style='info', description='Progress:', layout=Layout(height='25px', width='50%'),…"
      ]
     },
     "metadata": {},
     "output_type": "display_data"
    },
    {
     "name": "stdout",
     "output_type": "stream",
     "text": [
      "+---------+------------------------------------------------------------------+-------------+---------------------------+------------------+\n",
      "|Subs_Id  |event_code_feature                                                |irregular_pct|weighted_sector_utilisation|cei               |\n",
      "+---------+------------------------------------------------------------------+-------------+---------------------------+------------------+\n",
      "|361100902|(30,[2,4,6,7,8,11,13,15,16],[2.0,1.0,2.0,5.0,9.0,2.0,5.0,4.0,1.0])|0.67741936   |45.87325062034739          |38.818669802909454|\n",
      "|371481963|(30,[7,13],[1.0,1.0])                                             |0.0          |7.443636363636363          |97.7669090909091  |\n",
      "|391311988|(30,[7,8,11,13],[5.0,2.0,1.0,4.0])                                |0.25         |37.19428095053095          |71.34171571484072 |\n",
      "|355568500|(30,[7,8,9,11,13,16],[36.0,13.0,1.0,1.0,18.0,1.0])                |0.22857143   |53.74485215810884          |67.87654130080954 |\n",
      "|364768390|(30,[7,8,13],[18.0,21.0,29.0])                                    |0.30882353   |42.97402235019881          |65.49014497951066 |\n",
      "+---------+------------------------------------------------------------------+-------------+---------------------------+------------------+\n",
      "only showing top 5 rows"
     ]
    }
   ],
   "source": [
    "cei = spark.read.parquet('s3://kl-prod-tpgt-knowledge-lake-sandpit/TempDir/tmp/case_study/dataset_hr/cei/')\n",
    "cei.show(5, False)"
   ]
  },
  {
   "cell_type": "code",
   "execution_count": 5,
   "id": "9200053e",
   "metadata": {},
   "outputs": [
    {
     "data": {
      "application/vnd.jupyter.widget-view+json": {
       "model_id": "",
       "version_major": 2,
       "version_minor": 0
      },
      "text/plain": [
       "FloatProgress(value=0.0, bar_style='info', description='Progress:', layout=Layout(height='25px', width='50%'),…"
      ]
     },
     "metadata": {},
     "output_type": "display_data"
    },
    {
     "name": "stdout",
     "output_type": "stream",
     "text": [
      "+---------+------------------------+---------+-------+\n",
      "|Subs_Id  |node_name               |node_type|node_id|\n",
      "+---------+------------------------+---------+-------+\n",
      "|279258404|279258404               |0        |0      |\n",
      "|279258404|201823_GundarooDr_L18P_2|1        |1      |\n",
      "|279258404|227292_Ngunnawal_L21H_2 |1        |2      |\n",
      "|279258404|201823_GundarooDr_L21H_2|1        |3      |\n",
      "|279258404|201823_GundarooDr_2     |2        |4      |\n",
      "+---------+------------------------+---------+-------+\n",
      "only showing top 5 rows\n",
      "\n",
      "+---------+---------------------------+-----------------------------------------------------------------------------------------------------------------------+\n",
      "|trace_id |node_name                  |util_vec                                                                                                               |\n",
      "+---------+---------------------------+-----------------------------------------------------------------------------------------------------------------------+\n",
      "|391202425|200031_ChifleyTwr_L18A_1   |(31,[7,9,10,13,16],[0.5555555555555556,0.05555555555555555,0.05555555555555555,0.2777777777777778,0.05555555555555555])|\n",
      "|389811731|200040_MacquarieShop_L08A_2|(31,[7],[1.0])                                                                                                         |\n",
      "|389793371|200040_MacquarieShop_L18A_1|(31,[13],[1.0])                                                                                                        |\n",
      "|375827306|200040_MacquarieShop_L18B_1|(31,[13],[1.0])                                                                                                        |\n",
      "|384667035|200040_MacquarieShop_L21C_1|(31,[13],[1.0])                                                                                                        |\n",
      "+---------+---------------------------+-----------------------------------------------------------------------------------------------------------------------+\n",
      "only showing top 5 rows\n",
      "\n",
      "+---------+----------------------------+-----------------------+-----------------------------------+------------------+\n",
      "|Subs_Id  |cell_name                   |sector_name            |event_code_feature                 |utilisation       |\n",
      "+---------+----------------------------+-----------------------+-----------------------------------+------------------+\n",
      "|279153120|201607_LalorparkEast_L18B_1 |201607_LalorparkEast_1 |(30,[8],[1.0])                     |52.79692307692308 |\n",
      "|280135519|703813_Risdonvale_L08B_1    |703813_Risdonvale_1    |(30,[10,12,13],[1.0,1.0,1.0])      |32.272000000000006|\n",
      "|280137017|201580_Cherrybrook_L21C_1   |201580_Cherrybrook_1   |(30,[13],[6.0])                    |30.63428571428572 |\n",
      "|280148312|404131_Narangba_L21K_3      |404131_Narangba_3      |(30,[8,11,12,16],[1.0,1.0,3.0,1.0])|83.75636363636363 |\n",
      "|280149231|227592_CabramattaEast_L21C_1|227592_CabramattaEast_1|(30,[7],[1.0])                     |98.28615384615385 |\n",
      "+---------+----------------------------+-----------------------+-----------------------------------+------------------+\n",
      "only showing top 5 rows\n",
      "\n",
      "+---------+-------------------------+-------------------------+\n",
      "|Subs_Id  |src_name                 |dst_name                 |\n",
      "+---------+-------------------------+-------------------------+\n",
      "|280142812|280142812                |201566_DeeWhySouth_L18A_2|\n",
      "|280142812|201566_DeeWhySouth_L18A_2|201566_DeeWhySouth_2     |\n",
      "|280142812|280142812                |201566_DeeWhySouth_L21H_2|\n",
      "|280142812|201566_DeeWhySouth_L21H_2|201566_DeeWhySouth_2     |\n",
      "|280142812|280142812                |201566_DeeWhySouth_L21C_2|\n",
      "+---------+-------------------------+-------------------------+\n",
      "only showing top 5 rows"
     ]
    }
   ],
   "source": [
    "node_overview = f'{root_dir}/node_overview/'\n",
    "node_feature = f'{root_dir}/node_feature/'\n",
    "flat_event = f'{root_dir}flat_event/'\n",
    "edge_index = f'{root_dir}edge_index/'\n",
    "\n",
    "node_overview = spark.read.parquet(node_overview)\n",
    "node_feature = spark.read.parquet(node_feature)\n",
    "flat_event = spark.read.parquet(flat_event)\n",
    "edge_index = spark.read.parquet(edge_index)\n",
    "\n",
    "node_overview.show(5, False)\n",
    "node_feature.show(5, False)\n",
    "flat_event.show(5, False)\n",
    "edge_index.show(5, False)"
   ]
  },
  {
   "cell_type": "markdown",
   "id": "bad2bce8",
   "metadata": {},
   "source": [
    "### Edge Index CSV"
   ]
  },
  {
   "cell_type": "code",
   "execution_count": 7,
   "id": "65ab805e",
   "metadata": {},
   "outputs": [
    {
     "data": {
      "application/vnd.jupyter.widget-view+json": {
       "model_id": "",
       "version_major": 2,
       "version_minor": 0
      },
      "text/plain": [
       "FloatProgress(value=0.0, bar_style='info', description='Progress:', layout=Layout(height='25px', width='50%'),…"
      ]
     },
     "metadata": {},
     "output_type": "display_data"
    },
    {
     "name": "stdout",
     "output_type": "stream",
     "text": [
      "+---------+\n",
      "|node_type|\n",
      "+---------+\n",
      "|        0|\n",
      "|        1|\n",
      "|        2|\n",
      "+---------+"
     ]
    }
   ],
   "source": [
    "node_overview.select('node_type').dropDuplicates().show()"
   ]
  },
  {
   "cell_type": "code",
   "execution_count": 8,
   "id": "fe3a0ca8",
   "metadata": {},
   "outputs": [
    {
     "data": {
      "application/vnd.jupyter.widget-view+json": {
       "model_id": "",
       "version_major": 2,
       "version_minor": 0
      },
      "text/plain": [
       "FloatProgress(value=0.0, bar_style='info', description='Progress:', layout=Layout(height='25px', width='50%'),…"
      ]
     },
     "metadata": {},
     "output_type": "display_data"
    }
   ],
   "source": [
    "node_overview = node_overview.withColumnRenamed('Subs_Id', 'trace_id')"
   ]
  },
  {
   "cell_type": "code",
   "execution_count": 9,
   "id": "99de59b7",
   "metadata": {},
   "outputs": [
    {
     "data": {
      "application/vnd.jupyter.widget-view+json": {
       "model_id": "",
       "version_major": 2,
       "version_minor": 0
      },
      "text/plain": [
       "FloatProgress(value=0.0, bar_style='info', description='Progress:', layout=Layout(height='25px', width='50%'),…"
      ]
     },
     "metadata": {},
     "output_type": "display_data"
    },
    {
     "name": "stdout",
     "output_type": "stream",
     "text": [
      "+---------+--------------------+--------------------+------+------+\n",
      "| trace_id|            dst_name|            src_name|src_id|dst_id|\n",
      "+---------+--------------------+--------------------+------+------+\n",
      "|280142812|201566_DeeWhySout...|           280142812|     0|     3|\n",
      "|280142812|201566_DeeWhySouth_2|201566_DeeWhySout...|     3|     4|\n",
      "|280142812|201566_DeeWhySout...|           280142812|     0|     1|\n",
      "|280142812|201566_DeeWhySouth_2|201566_DeeWhySout...|     1|     4|\n",
      "|280142812|201566_DeeWhySout...|           280142812|     0|     2|\n",
      "|280142812|201566_DeeWhySouth_2|201566_DeeWhySout...|     2|     4|\n",
      "|280147067|660002_BurswdEntC...|           280147067|     0|     1|\n",
      "|280147067|660002_BurswdEntC...|660002_BurswdEntC...|     1|     2|\n",
      "|280158936|477186_AshmoreNer...|           280158936|     0|     1|\n",
      "|280158936|477186_AshmoreNer...|477186_AshmoreNer...|     1|     2|\n",
      "|280248981|202525_Leumeah_L1...|           280248981|     0|     5|\n",
      "|280248981|    202525_Leumeah_2|202525_Leumeah_L1...|     5|     9|\n",
      "|280248981|202525_Leumeah_L1...|           280248981|     0|     1|\n",
      "|280248981|    202525_Leumeah_1|202525_Leumeah_L1...|     1|     6|\n",
      "|280248981|  201721_Ruse_L18B_3|           280248981|     0|     2|\n",
      "|280248981|       201721_Ruse_3|  201721_Ruse_L18B_3|     2|     7|\n",
      "|280248981|202525_Leumeah_L1...|           280248981|     0|     3|\n",
      "|280248981|    202525_Leumeah_3|202525_Leumeah_L1...|     3|     8|\n",
      "|280248981|202525_Leumeah_L0...|           280248981|     0|     4|\n",
      "|280248981|    202525_Leumeah_1|202525_Leumeah_L0...|     4|     6|\n",
      "+---------+--------------------+--------------------+------+------+\n",
      "only showing top 20 rows"
     ]
    }
   ],
   "source": [
    "csv_edge_index = edge_index.withColumnRenamed('Subs_Id', 'trace_id').join(\n",
    "    node_overview.select(\n",
    "        'trace_id', 'node_name', 'node_id').withColumnRenamed(\n",
    "        'node_name', 'src_name').withColumnRenamed('node_id', 'src_id'),\n",
    "    on=['trace_id', 'src_name'],\n",
    "    how='inner'\n",
    ").join(node_overview.select(\n",
    "        'trace_id', 'node_name', 'node_id').withColumnRenamed(\n",
    "        'node_name', 'dst_name').withColumnRenamed('node_id', 'dst_id'),\n",
    "    on=['trace_id', 'dst_name'],\n",
    "    how='inner'\n",
    ")\n",
    "csv_edge_index.persist()\n",
    "csv_edge_index.show()"
   ]
  },
  {
   "cell_type": "code",
   "execution_count": 20,
   "id": "221eee56",
   "metadata": {},
   "outputs": [
    {
     "data": {
      "application/vnd.jupyter.widget-view+json": {
       "model_id": "",
       "version_major": 2,
       "version_minor": 0
      },
      "text/plain": [
       "FloatProgress(value=0.0, bar_style='info', description='Progress:', layout=Layout(height='25px', width='50%'),…"
      ]
     },
     "metadata": {},
     "output_type": "display_data"
    }
   ],
   "source": [
    "csv_edge_index.write.mode('overwrite').csv(f'{output_csv_dir}/edge_index/', header=True)"
   ]
  },
  {
   "cell_type": "markdown",
   "id": "8e0b3ab4",
   "metadata": {},
   "source": [
    "### Node Features"
   ]
  },
  {
   "cell_type": "code",
   "execution_count": 13,
   "id": "b9830a59",
   "metadata": {},
   "outputs": [
    {
     "data": {
      "application/vnd.jupyter.widget-view+json": {
       "model_id": "",
       "version_major": 2,
       "version_minor": 0
      },
      "text/plain": [
       "FloatProgress(value=0.0, bar_style='info', description='Progress:', layout=Layout(height='25px', width='50%'),…"
      ]
     },
     "metadata": {},
     "output_type": "display_data"
    },
    {
     "name": "stdout",
     "output_type": "stream",
     "text": [
      "+---------+---------------------------+-----------------------------------------------------------------------------------------------------------------------+\n",
      "|trace_id |node_name                  |util_vec                                                                                                               |\n",
      "+---------+---------------------------+-----------------------------------------------------------------------------------------------------------------------+\n",
      "|391202425|200031_ChifleyTwr_L18A_1   |(31,[7,9,10,13,16],[0.5555555555555556,0.05555555555555555,0.05555555555555555,0.2777777777777778,0.05555555555555555])|\n",
      "|389811731|200040_MacquarieShop_L08A_2|(31,[7],[1.0])                                                                                                         |\n",
      "|389793371|200040_MacquarieShop_L18A_1|(31,[13],[1.0])                                                                                                        |\n",
      "|375827306|200040_MacquarieShop_L18B_1|(31,[13],[1.0])                                                                                                        |\n",
      "|384667035|200040_MacquarieShop_L21C_1|(31,[13],[1.0])                                                                                                        |\n",
      "+---------+---------------------------+-----------------------------------------------------------------------------------------------------------------------+\n",
      "only showing top 5 rows"
     ]
    }
   ],
   "source": [
    "node_feature.show(5, False)"
   ]
  },
  {
   "cell_type": "code",
   "execution_count": 15,
   "id": "b0661ccc",
   "metadata": {},
   "outputs": [
    {
     "data": {
      "application/vnd.jupyter.widget-view+json": {
       "model_id": "",
       "version_major": 2,
       "version_minor": 0
      },
      "text/plain": [
       "FloatProgress(value=0.0, bar_style='info', description='Progress:', layout=Layout(height='25px', width='50%'),…"
      ]
     },
     "metadata": {},
     "output_type": "display_data"
    },
    {
     "name": "stdout",
     "output_type": "stream",
     "text": [
      "+---------+---------------------------+-----------------------------------------------------------------------------------------------------------------------+-----------------------------------------------------------------------------------------------------------------------------------------------------------------------------------------------+---+---+---+---+---+---+---+---------+---+-----------+-----------+----+----+---------+----+----+-----------+----+----+----+----+----+----+----+----+----+----+----+----+----+----+\n",
      "|trace_id |node_name                  |util_vec                                                                                                               |feature_list                                                                                                                                                                                   |f_0|f_1|f_2|f_3|f_4|f_5|f_6|f_7      |f_8|f_9        |f_10       |f_11|f_12|f_13     |f_14|f_15|f_16       |f_17|f_18|f_19|f_20|f_21|f_22|f_23|f_24|f_25|f_26|f_27|f_28|f_29|f_30|\n",
      "+---------+---------------------------+-----------------------------------------------------------------------------------------------------------------------+-----------------------------------------------------------------------------------------------------------------------------------------------------------------------------------------------+---+---+---+---+---+---+---+---------+---+-----------+-----------+----+----+---------+----+----+-----------+----+----+----+----+----+----+----+----+----+----+----+----+----+----+\n",
      "|391202425|200031_ChifleyTwr_L18A_1   |(31,[7,9,10,13,16],[0.5555555555555556,0.05555555555555555,0.05555555555555555,0.2777777777777778,0.05555555555555555])|[0.0, 0.0, 0.0, 0.0, 0.0, 0.0, 0.0, 0.5555556, 0.0, 0.055555556, 0.055555556, 0.0, 0.0, 0.2777778, 0.0, 0.0, 0.055555556, 0.0, 0.0, 0.0, 0.0, 0.0, 0.0, 0.0, 0.0, 0.0, 0.0, 0.0, 0.0, 0.0, 0.0]|0.0|0.0|0.0|0.0|0.0|0.0|0.0|0.5555556|0.0|0.055555556|0.055555556|0.0 |0.0 |0.2777778|0.0 |0.0 |0.055555556|0.0 |0.0 |0.0 |0.0 |0.0 |0.0 |0.0 |0.0 |0.0 |0.0 |0.0 |0.0 |0.0 |0.0 |\n",
      "|389811731|200040_MacquarieShop_L08A_2|(31,[7],[1.0])                                                                                                         |[0.0, 0.0, 0.0, 0.0, 0.0, 0.0, 0.0, 1.0, 0.0, 0.0, 0.0, 0.0, 0.0, 0.0, 0.0, 0.0, 0.0, 0.0, 0.0, 0.0, 0.0, 0.0, 0.0, 0.0, 0.0, 0.0, 0.0, 0.0, 0.0, 0.0, 0.0]                                    |0.0|0.0|0.0|0.0|0.0|0.0|0.0|1.0      |0.0|0.0        |0.0        |0.0 |0.0 |0.0      |0.0 |0.0 |0.0        |0.0 |0.0 |0.0 |0.0 |0.0 |0.0 |0.0 |0.0 |0.0 |0.0 |0.0 |0.0 |0.0 |0.0 |\n",
      "|389793371|200040_MacquarieShop_L18A_1|(31,[13],[1.0])                                                                                                        |[0.0, 0.0, 0.0, 0.0, 0.0, 0.0, 0.0, 0.0, 0.0, 0.0, 0.0, 0.0, 0.0, 1.0, 0.0, 0.0, 0.0, 0.0, 0.0, 0.0, 0.0, 0.0, 0.0, 0.0, 0.0, 0.0, 0.0, 0.0, 0.0, 0.0, 0.0]                                    |0.0|0.0|0.0|0.0|0.0|0.0|0.0|0.0      |0.0|0.0        |0.0        |0.0 |0.0 |1.0      |0.0 |0.0 |0.0        |0.0 |0.0 |0.0 |0.0 |0.0 |0.0 |0.0 |0.0 |0.0 |0.0 |0.0 |0.0 |0.0 |0.0 |\n",
      "|375827306|200040_MacquarieShop_L18B_1|(31,[13],[1.0])                                                                                                        |[0.0, 0.0, 0.0, 0.0, 0.0, 0.0, 0.0, 0.0, 0.0, 0.0, 0.0, 0.0, 0.0, 1.0, 0.0, 0.0, 0.0, 0.0, 0.0, 0.0, 0.0, 0.0, 0.0, 0.0, 0.0, 0.0, 0.0, 0.0, 0.0, 0.0, 0.0]                                    |0.0|0.0|0.0|0.0|0.0|0.0|0.0|0.0      |0.0|0.0        |0.0        |0.0 |0.0 |1.0      |0.0 |0.0 |0.0        |0.0 |0.0 |0.0 |0.0 |0.0 |0.0 |0.0 |0.0 |0.0 |0.0 |0.0 |0.0 |0.0 |0.0 |\n",
      "|384667035|200040_MacquarieShop_L21C_1|(31,[13],[1.0])                                                                                                        |[0.0, 0.0, 0.0, 0.0, 0.0, 0.0, 0.0, 0.0, 0.0, 0.0, 0.0, 0.0, 0.0, 1.0, 0.0, 0.0, 0.0, 0.0, 0.0, 0.0, 0.0, 0.0, 0.0, 0.0, 0.0, 0.0, 0.0, 0.0, 0.0, 0.0, 0.0]                                    |0.0|0.0|0.0|0.0|0.0|0.0|0.0|0.0      |0.0|0.0        |0.0        |0.0 |0.0 |1.0      |0.0 |0.0 |0.0        |0.0 |0.0 |0.0 |0.0 |0.0 |0.0 |0.0 |0.0 |0.0 |0.0 |0.0 |0.0 |0.0 |0.0 |\n",
      "+---------+---------------------------+-----------------------------------------------------------------------------------------------------------------------+-----------------------------------------------------------------------------------------------------------------------------------------------------------------------------------------------+---+---+---+---+---+---+---+---------+---+-----------+-----------+----+----+---------+----+----+-----------+----+----+----+----+----+----+----+----+----+----+----+----+----+----+\n",
      "only showing top 5 rows"
     ]
    }
   ],
   "source": [
    "node_feature = node_feature.withColumn(\n",
    "    'feature_list', to_dense_flat(f.col('util_vec'))\n",
    ")\n",
    "\n",
    "for idx in range(31):\n",
    "    node_feature = node_feature.withColumn(f'f_{idx}', f.col('feature_list')[idx])\n",
    "node_feature.show(5, False)"
   ]
  },
  {
   "cell_type": "code",
   "execution_count": 18,
   "id": "3cb868a3",
   "metadata": {},
   "outputs": [
    {
     "data": {
      "application/vnd.jupyter.widget-view+json": {
       "model_id": "",
       "version_major": 2,
       "version_minor": 0
      },
      "text/plain": [
       "FloatProgress(value=0.0, bar_style='info', description='Progress:', layout=Layout(height='25px', width='50%'),…"
      ]
     },
     "metadata": {},
     "output_type": "display_data"
    },
    {
     "name": "stdout",
     "output_type": "stream",
     "text": [
      "+---------+---+---+---+---+---+---+---+---------+---+-----------+-----------+----+----+---------+----+----+-----------+----+----+----+----+----+----+----+----+----+----+----+----+----+----+-------+\n",
      "|trace_id |f_0|f_1|f_2|f_3|f_4|f_5|f_6|f_7      |f_8|f_9        |f_10       |f_11|f_12|f_13     |f_14|f_15|f_16       |f_17|f_18|f_19|f_20|f_21|f_22|f_23|f_24|f_25|f_26|f_27|f_28|f_29|f_30|node_id|\n",
      "+---------+---+---+---+---+---+---+---+---------+---+-----------+-----------+----+----+---------+----+----+-----------+----+----+----+----+----+----+----+----+----+----+----+----+----+----+-------+\n",
      "|391202425|0.0|0.0|0.0|0.0|0.0|0.0|0.0|0.5555556|0.0|0.055555556|0.055555556|0.0 |0.0 |0.2777778|0.0 |0.0 |0.055555556|0.0 |0.0 |0.0 |0.0 |0.0 |0.0 |0.0 |0.0 |0.0 |0.0 |0.0 |0.0 |0.0 |0.0 |4      |\n",
      "|389811731|0.0|0.0|0.0|0.0|0.0|0.0|0.0|1.0      |0.0|0.0        |0.0        |0.0 |0.0 |0.0      |0.0 |0.0 |0.0        |0.0 |0.0 |0.0 |0.0 |0.0 |0.0 |0.0 |0.0 |0.0 |0.0 |0.0 |0.0 |0.0 |0.0 |6      |\n",
      "|389793371|0.0|0.0|0.0|0.0|0.0|0.0|0.0|0.0      |0.0|0.0        |0.0        |0.0 |0.0 |1.0      |0.0 |0.0 |0.0        |0.0 |0.0 |0.0 |0.0 |0.0 |0.0 |0.0 |0.0 |0.0 |0.0 |0.0 |0.0 |0.0 |0.0 |1      |\n",
      "|375827306|0.0|0.0|0.0|0.0|0.0|0.0|0.0|0.0      |0.0|0.0        |0.0        |0.0 |0.0 |1.0      |0.0 |0.0 |0.0        |0.0 |0.0 |0.0 |0.0 |0.0 |0.0 |0.0 |0.0 |0.0 |0.0 |0.0 |0.0 |0.0 |0.0 |4      |\n",
      "|384667035|0.0|0.0|0.0|0.0|0.0|0.0|0.0|0.0      |0.0|0.0        |0.0        |0.0 |0.0 |1.0      |0.0 |0.0 |0.0        |0.0 |0.0 |0.0 |0.0 |0.0 |0.0 |0.0 |0.0 |0.0 |0.0 |0.0 |0.0 |0.0 |0.0 |1      |\n",
      "+---------+---+---+---+---+---+---+---+---------+---+-----------+-----------+----+----+---------+----+----+-----------+----+----+----+----+----+----+----+----+----+----+----+----+----+----+-------+\n",
      "only showing top 5 rows"
     ]
    }
   ],
   "source": [
    "csv_node_feature = node_feature.join(\n",
    "    node_overview.select('trace_id', 'node_name', 'node_id'),\n",
    "    on=['trace_id', 'node_name']\n",
    ").drop('util_vec', 'feature_list', 'node_name')\n",
    "\n",
    "csv_node_feature.show(5, False)"
   ]
  },
  {
   "cell_type": "code",
   "execution_count": 72,
   "id": "91f5fe50",
   "metadata": {},
   "outputs": [
    {
     "data": {
      "application/vnd.jupyter.widget-view+json": {
       "model_id": "",
       "version_major": 2,
       "version_minor": 0
      },
      "text/plain": [
       "FloatProgress(value=0.0, bar_style='info', description='Progress:', layout=Layout(height='25px', width='50%'),…"
      ]
     },
     "metadata": {},
     "output_type": "display_data"
    }
   ],
   "source": [
    "csv_node_feature.write.mode('overwrite').csv(f'{output_csv_dir}/node_feature_norm/', header=True)"
   ]
  },
  {
   "cell_type": "markdown",
   "id": "2840dac9",
   "metadata": {},
   "source": [
    "### trace_info"
   ]
  },
  {
   "cell_type": "code",
   "execution_count": 23,
   "id": "f4874830",
   "metadata": {},
   "outputs": [
    {
     "data": {
      "application/vnd.jupyter.widget-view+json": {
       "model_id": "",
       "version_major": 2,
       "version_minor": 0
      },
      "text/plain": [
       "FloatProgress(value=0.0, bar_style='info', description='Progress:', layout=Layout(height='25px', width='50%'),…"
      ]
     },
     "metadata": {},
     "output_type": "display_data"
    },
    {
     "name": "stdout",
     "output_type": "stream",
     "text": [
      "+---------+------------------+----------+----------------+\n",
      "| trace_id|               cei|trace_bool|error_trace_type|\n",
      "+---------+------------------+----------+----------------+\n",
      "|390163328| 82.54266666666666|      true|            true|\n",
      "|362095265| 7.780984615384614|     false|           false|\n",
      "|381328738|  84.3061858974359|      true|            true|\n",
      "|388943505|  75.6978866970807|      true|            true|\n",
      "|382766889| 83.31732150858849|      true|            true|\n",
      "|386713217| 68.67036462476506|     false|           false|\n",
      "|373490918| 80.01532718766478|      true|            true|\n",
      "|379723115|  74.0327734984268|      true|            true|\n",
      "|391556428| 81.88011764705882|      true|            true|\n",
      "|380122769|52.061310989379876|     false|           false|\n",
      "|391623026| 78.79599999999999|      true|            true|\n",
      "|373115335| 74.77004950185922|      true|            true|\n",
      "|384773101| 82.76677358156022|      true|            true|\n",
      "|385835686| 61.62842485798458|     false|           false|\n",
      "|388598879| 87.88575372779404|      true|            true|\n",
      "|389402592| 87.68235369075369|      true|            true|\n",
      "|385117423| 83.26957822829026|      true|            true|\n",
      "|355976875| 75.39053538227277|      true|            true|\n",
      "|380057467| 80.65656963472335|      true|            true|\n",
      "|375804945| 80.51938461538461|      true|            true|\n",
      "+---------+------------------+----------+----------------+\n",
      "only showing top 20 rows"
     ]
    }
   ],
   "source": [
    "csv_cei = cei.withColumn(\n",
    "    'trace_bool', f.col('cei') > 70\n",
    ").withColumnRenamed('Subs_Id', 'trace_id').withColumn(\n",
    "    'error_trace_type', f.col('trace_bool')\n",
    ").drop('event_code_feature', 'irregular_pct', 'weighted_sector_utilisation')\n",
    "csv_cei.show()"
   ]
  },
  {
   "cell_type": "code",
   "execution_count": 24,
   "id": "36289c98",
   "metadata": {},
   "outputs": [
    {
     "data": {
      "application/vnd.jupyter.widget-view+json": {
       "model_id": "",
       "version_major": 2,
       "version_minor": 0
      },
      "text/plain": [
       "FloatProgress(value=0.0, bar_style='info', description='Progress:', layout=Layout(height='25px', width='50%'),…"
      ]
     },
     "metadata": {},
     "output_type": "display_data"
    }
   ],
   "source": [
    "csv_cei.write.mode('overwrite').csv(f'{output_csv_dir}/trace_info/', header=True)"
   ]
  },
  {
   "cell_type": "markdown",
   "id": "f9bfc018",
   "metadata": {},
   "source": [
    "### Train/Eval/Test"
   ]
  },
  {
   "cell_type": "code",
   "execution_count": 25,
   "id": "88830a80",
   "metadata": {},
   "outputs": [
    {
     "data": {
      "application/vnd.jupyter.widget-view+json": {
       "model_id": "",
       "version_major": 2,
       "version_minor": 0
      },
      "text/plain": [
       "FloatProgress(value=0.0, bar_style='info', description='Progress:', layout=Layout(height='25px', width='50%'),…"
      ]
     },
     "metadata": {},
     "output_type": "display_data"
    },
    {
     "name": "stdout",
     "output_type": "stream",
     "text": [
      "DataFrame[trace_id: string, cei: double, trace_bool: boolean, error_trace_type: boolean]"
     ]
    }
   ],
   "source": [
    "csv_cei.persist()"
   ]
  },
  {
   "cell_type": "code",
   "execution_count": 27,
   "id": "cd852777",
   "metadata": {},
   "outputs": [
    {
     "data": {
      "application/vnd.jupyter.widget-view+json": {
       "model_id": "",
       "version_major": 2,
       "version_minor": 0
      },
      "text/plain": [
       "FloatProgress(value=0.0, bar_style='info', description='Progress:', layout=Layout(height='25px', width='50%'),…"
      ]
     },
     "metadata": {},
     "output_type": "display_data"
    },
    {
     "name": "stdout",
     "output_type": "stream",
     "text": [
      "+-----------------+----------+-----+\n",
      "|              cei|trace_bool|count|\n",
      "+-----------------+----------+-----+\n",
      "|76.62307692307692|      true| 1252|\n",
      "| 75.8236923076923|      true|  805|\n",
      "|          71.1508|      true|  783|\n",
      "|79.22153846153846|      true|  777|\n",
      "|76.32492307692307|      true|  763|\n",
      "|72.18584615384616|      true|  753|\n",
      "|75.22553846153846|      true|  752|\n",
      "|76.09969230769231|      true|  738|\n",
      "| 73.8796923076923|      true|  728|\n",
      "| 80.1436923076923|      true|  711|\n",
      "|76.12369230769231|      true|  700|\n",
      "|72.03907692307692|      true|  666|\n",
      "|76.90646153846154|      true|  649|\n",
      "|           76.752|      true|  648|\n",
      "|           74.884|      true|  643|\n",
      "|77.26654545454545|      true|  623|\n",
      "|78.18584615384616|      true|  622|\n",
      "| 81.5930909090909|      true|  607|\n",
      "|           79.084|      true|  604|\n",
      "|79.33876923076923|      true|  578|\n",
      "+-----------------+----------+-----+\n",
      "only showing top 20 rows"
     ]
    }
   ],
   "source": [
    "csv_cei.groupBy('cei', 'trace_bool').count().orderBy(f.col('count').desc()).show()"
   ]
  },
  {
   "cell_type": "code",
   "execution_count": 31,
   "id": "2c09ef59",
   "metadata": {},
   "outputs": [
    {
     "data": {
      "application/vnd.jupyter.widget-view+json": {
       "model_id": "",
       "version_major": 2,
       "version_minor": 0
      },
      "text/plain": [
       "FloatProgress(value=0.0, bar_style='info', description='Progress:', layout=Layout(height='25px', width='50%'),…"
      ]
     },
     "metadata": {},
     "output_type": "display_data"
    },
    {
     "name": "stdout",
     "output_type": "stream",
     "text": [
      "+----------+-------+\n",
      "|trace_bool|  count|\n",
      "+----------+-------+\n",
      "|      true|1302700|\n",
      "|     false| 544927|\n",
      "+----------+-------+"
     ]
    }
   ],
   "source": [
    "csv_cei.groupBy('trace_bool').count().show()"
   ]
  },
  {
   "cell_type": "code",
   "execution_count": 42,
   "id": "2e8454a8",
   "metadata": {
    "scrolled": true
   },
   "outputs": [
    {
     "data": {
      "application/vnd.jupyter.widget-view+json": {
       "model_id": "",
       "version_major": 2,
       "version_minor": 0
      },
      "text/plain": [
       "FloatProgress(value=0.0, bar_style='info', description='Progress:', layout=Layout(height='25px', width='50%'),…"
      ]
     },
     "metadata": {},
     "output_type": "display_data"
    },
    {
     "name": "stdout",
     "output_type": "stream",
     "text": [
      "+---+----------+-----+\n",
      "|cei|trace_bool|count|\n",
      "+---+----------+-----+\n",
      "|79 |true      |43846|\n",
      "|78 |true      |42890|\n",
      "|82 |true      |42478|\n",
      "|80 |true      |40609|\n",
      "|81 |true      |40113|\n",
      "|77 |true      |38431|\n",
      "|76 |true      |37894|\n",
      "|84 |true      |37700|\n",
      "|83 |true      |37635|\n",
      "|75 |true      |34121|\n",
      "|85 |true      |33703|\n",
      "|74 |true      |30344|\n",
      "|86 |true      |30295|\n",
      "|87 |true      |28985|\n",
      "|73 |true      |27861|\n",
      "|72 |true      |26313|\n",
      "|88 |true      |25183|\n",
      "|89 |true      |23131|\n",
      "|90 |true      |21907|\n",
      "|71 |true      |21412|\n",
      "|91 |true      |20499|\n",
      "|92 |true      |17688|\n",
      "|93 |true      |16055|\n",
      "|94 |true      |13808|\n",
      "|70 |true      |12891|\n",
      "|95 |true      |11891|\n",
      "|96 |true      |10243|\n",
      "|97 |true      |7240 |\n",
      "|98 |true      |4612 |\n",
      "|99 |true      |1015 |\n",
      "+---+----------+-----+"
     ]
    }
   ],
   "source": [
    "csv_cei.filter('trace_bool = True').sample(\n",
    "    fraction=0.6\n",
    ").withColumn('cei', f.col('cei').cast('int')).groupBy('cei', 'trace_bool').count().orderBy(f.col('count').desc()).show(50, False)"
   ]
  },
  {
   "cell_type": "code",
   "execution_count": 43,
   "id": "061333db",
   "metadata": {
    "scrolled": true
   },
   "outputs": [
    {
     "data": {
      "application/vnd.jupyter.widget-view+json": {
       "model_id": "",
       "version_major": 2,
       "version_minor": 0
      },
      "text/plain": [
       "FloatProgress(value=0.0, bar_style='info', description='Progress:', layout=Layout(height='25px', width='50%'),…"
      ]
     },
     "metadata": {},
     "output_type": "display_data"
    },
    {
     "name": "stdout",
     "output_type": "stream",
     "text": [
      "+---+----------+-----+\n",
      "|cei|trace_bool|count|\n",
      "+---+----------+-----+\n",
      "|79 |true      |73136|\n",
      "|78 |true      |71377|\n",
      "|82 |true      |71236|\n",
      "|80 |true      |67890|\n",
      "|81 |true      |66720|\n",
      "|77 |true      |64072|\n",
      "|76 |true      |63013|\n",
      "|83 |true      |62907|\n",
      "|84 |true      |62733|\n",
      "|75 |true      |57101|\n",
      "|85 |true      |56418|\n",
      "|74 |true      |50666|\n",
      "|86 |true      |50286|\n",
      "|87 |true      |48493|\n",
      "|73 |true      |46450|\n",
      "|72 |true      |43835|\n",
      "|88 |true      |42238|\n",
      "|89 |true      |38652|\n",
      "|90 |true      |36495|\n",
      "|71 |true      |35403|\n",
      "|91 |true      |34176|\n",
      "|92 |true      |29602|\n",
      "|93 |true      |26777|\n",
      "|94 |true      |23219|\n",
      "|70 |true      |21567|\n",
      "|95 |true      |19826|\n",
      "|96 |true      |17012|\n",
      "|97 |true      |12080|\n",
      "|98 |true      |7640 |\n",
      "|99 |true      |1680 |\n",
      "+---+----------+-----+"
     ]
    }
   ],
   "source": [
    "csv_cei.filter('trace_bool = True').withColumn('cei', f.col('cei').cast('int')).groupBy('cei', 'trace_bool').count().orderBy(f.col('count').desc()).show(50, False)"
   ]
  },
  {
   "cell_type": "code",
   "execution_count": 45,
   "id": "5cfdfe68",
   "metadata": {},
   "outputs": [
    {
     "data": {
      "application/vnd.jupyter.widget-view+json": {
       "model_id": "",
       "version_major": 2,
       "version_minor": 0
      },
      "text/plain": [
       "FloatProgress(value=0.0, bar_style='info', description='Progress:', layout=Layout(height='25px', width='50%'),…"
      ]
     },
     "metadata": {},
     "output_type": "display_data"
    },
    {
     "name": "stdout",
     "output_type": "stream",
     "text": [
      "781405"
     ]
    }
   ],
   "source": [
    "train_ids = csv_cei.filter('trace_bool = True').sample(\n",
    "    fraction=0.6\n",
    ").select('trace_id')\n",
    "train_ids.count()"
   ]
  },
  {
   "cell_type": "code",
   "execution_count": 46,
   "id": "5ae8ca0e",
   "metadata": {},
   "outputs": [
    {
     "data": {
      "application/vnd.jupyter.widget-view+json": {
       "model_id": "",
       "version_major": 2,
       "version_minor": 0
      },
      "text/plain": [
       "FloatProgress(value=0.0, bar_style='info', description='Progress:', layout=Layout(height='25px', width='50%'),…"
      ]
     },
     "metadata": {},
     "output_type": "display_data"
    },
    {
     "name": "stdout",
     "output_type": "stream",
     "text": [
      "1066222"
     ]
    }
   ],
   "source": [
    "rest_trace = csv_cei.join(\n",
    "    train_ids,\n",
    "    on='trace_id',\n",
    "    how='left_anti'\n",
    ")\n",
    "rest_trace.count()"
   ]
  },
  {
   "cell_type": "code",
   "execution_count": 52,
   "id": "7397e4f1",
   "metadata": {},
   "outputs": [
    {
     "data": {
      "application/vnd.jupyter.widget-view+json": {
       "model_id": "",
       "version_major": 2,
       "version_minor": 0
      },
      "text/plain": [
       "FloatProgress(value=0.0, bar_style='info', description='Progress:', layout=Layout(height='25px', width='50%'),…"
      ]
     },
     "metadata": {},
     "output_type": "display_data"
    },
    {
     "name": "stdout",
     "output_type": "stream",
     "text": [
      "213659"
     ]
    }
   ],
   "source": [
    "eval_ids = rest_trace.sample(fraction=0.2).select('trace_id')\n",
    "\n",
    "eval_ids.count()"
   ]
  },
  {
   "cell_type": "code",
   "execution_count": 61,
   "id": "f7764a5c",
   "metadata": {},
   "outputs": [
    {
     "data": {
      "application/vnd.jupyter.widget-view+json": {
       "model_id": "",
       "version_major": 2,
       "version_minor": 0
      },
      "text/plain": [
       "FloatProgress(value=0.0, bar_style='info', description='Progress:', layout=Layout(height='25px', width='50%'),…"
      ]
     },
     "metadata": {},
     "output_type": "display_data"
    },
    {
     "name": "stdout",
     "output_type": "stream",
     "text": [
      "852563"
     ]
    }
   ],
   "source": [
    "test_ids = rest_trace.join(\n",
    "    eval_ids,\n",
    "    on='trace_id',\n",
    "    how='left_anti'\n",
    ")#.sample(fraction=0.5)\n",
    "\n",
    "test_ids.count()"
   ]
  },
  {
   "cell_type": "code",
   "execution_count": 62,
   "id": "22edd32b",
   "metadata": {},
   "outputs": [
    {
     "data": {
      "application/vnd.jupyter.widget-view+json": {
       "model_id": "",
       "version_major": 2,
       "version_minor": 0
      },
      "text/plain": [
       "FloatProgress(value=0.0, bar_style='info', description='Progress:', layout=Layout(height='25px', width='50%'),…"
      ]
     },
     "metadata": {},
     "output_type": "display_data"
    },
    {
     "name": "stdout",
     "output_type": "stream",
     "text": [
      "+----------+------+\n",
      "|trace_bool| count|\n",
      "+----------+------+\n",
      "|      true|521295|\n",
      "|     false|544927|\n",
      "+----------+------+"
     ]
    }
   ],
   "source": [
    "rest_trace.groupBy('trace_bool').count().show()\n",
    "# eval_ids.groupBy('trace_bool').count().show()"
   ]
  },
  {
   "cell_type": "code",
   "execution_count": 63,
   "id": "73fe32f0",
   "metadata": {},
   "outputs": [
    {
     "data": {
      "application/vnd.jupyter.widget-view+json": {
       "model_id": "",
       "version_major": 2,
       "version_minor": 0
      },
      "text/plain": [
       "FloatProgress(value=0.0, bar_style='info', description='Progress:', layout=Layout(height='25px', width='50%'),…"
      ]
     },
     "metadata": {},
     "output_type": "display_data"
    },
    {
     "name": "stdout",
     "output_type": "stream",
     "text": [
      "(781405, 213659, 852563)"
     ]
    }
   ],
   "source": [
    "train_ids.count(), eval_ids.count(), test_ids.count()"
   ]
  },
  {
   "cell_type": "code",
   "execution_count": 64,
   "id": "99afd48d",
   "metadata": {},
   "outputs": [
    {
     "data": {
      "application/vnd.jupyter.widget-view+json": {
       "model_id": "",
       "version_major": 2,
       "version_minor": 0
      },
      "text/plain": [
       "FloatProgress(value=0.0, bar_style='info', description='Progress:', layout=Layout(height='25px', width='50%'),…"
      ]
     },
     "metadata": {},
     "output_type": "display_data"
    },
    {
     "name": "stdout",
     "output_type": "stream",
     "text": [
      "+----------+\n",
      "|max(index)|\n",
      "+----------+\n",
      "|   1847627|\n",
      "+----------+"
     ]
    }
   ],
   "source": [
    "dataset_ids = train_ids.select('trace_id').union(eval_ids.select('trace_id')).union(test_ids.select('trace_id'))\n",
    "dataset_ids = dataset_ids.withColumn('index', f.row_number().over(\n",
    "    Window.orderBy('trace_id')\n",
    "))\n",
    "\n",
    "dataset_ids.select(f.max('index')).show()"
   ]
  },
  {
   "cell_type": "code",
   "execution_count": 65,
   "id": "8dc9afd6",
   "metadata": {},
   "outputs": [
    {
     "data": {
      "application/vnd.jupyter.widget-view+json": {
       "model_id": "",
       "version_major": 2,
       "version_minor": 0
      },
      "text/plain": [
       "FloatProgress(value=0.0, bar_style='info', description='Progress:', layout=Layout(height='25px', width='50%'),…"
      ]
     },
     "metadata": {},
     "output_type": "display_data"
    },
    {
     "name": "stdout",
     "output_type": "stream",
     "text": [
      "1847627"
     ]
    }
   ],
   "source": [
    "dataset_ids.count()"
   ]
  },
  {
   "cell_type": "code",
   "execution_count": 66,
   "id": "38c7d76a",
   "metadata": {
    "scrolled": true
   },
   "outputs": [
    {
     "data": {
      "application/vnd.jupyter.widget-view+json": {
       "model_id": "",
       "version_major": 2,
       "version_minor": 0
      },
      "text/plain": [
       "FloatProgress(value=0.0, bar_style='info', description='Progress:', layout=Layout(height='25px', width='50%'),…"
      ]
     },
     "metadata": {},
     "output_type": "display_data"
    },
    {
     "name": "stdout",
     "output_type": "stream",
     "text": [
      "+---------+-----+\n",
      "| trace_id|index|\n",
      "+---------+-----+\n",
      "|279136044|    1|\n",
      "|279145285|    2|\n",
      "|279150070|    3|\n",
      "|279151007|    4|\n",
      "|279153120|    5|\n",
      "|279155053|    6|\n",
      "|279161055|    7|\n",
      "|279161293|    8|\n",
      "|279178583|    9|\n",
      "|279179734|   10|\n",
      "|279180139|   11|\n",
      "|279183407|   12|\n",
      "|279196207|   13|\n",
      "|279224140|   14|\n",
      "|279224204|   15|\n",
      "|279224510|   16|\n",
      "|279224607|   17|\n",
      "|279224659|   18|\n",
      "|279224894|   19|\n",
      "|279225611|   20|\n",
      "+---------+-----+\n",
      "only showing top 20 rows"
     ]
    }
   ],
   "source": [
    "dataset_ids.show()"
   ]
  },
  {
   "cell_type": "markdown",
   "id": "9a68ec5a",
   "metadata": {},
   "source": [
    "### Reindex and output"
   ]
  },
  {
   "cell_type": "code",
   "execution_count": 112,
   "id": "bdc3b93e",
   "metadata": {},
   "outputs": [
    {
     "data": {
      "application/vnd.jupyter.widget-view+json": {
       "model_id": "",
       "version_major": 2,
       "version_minor": 0
      },
      "text/plain": [
       "FloatProgress(value=0.0, bar_style='info', description='Progress:', layout=Layout(height='25px', width='50%'),…"
      ]
     },
     "metadata": {},
     "output_type": "display_data"
    }
   ],
   "source": [
    "# train/eval/test sets\n",
    "train_ids.join(\n",
    "    dataset_ids,\n",
    "    on='trace_id',\n",
    ").drop('trace_id').withColumnRenamed('index', 'trace_id').repartition(1).write.mode('overwrite').csv(\n",
    "    's3://kl-prod-tpgt-knowledge-lake-sandpit/TempDir/tmp/case_study/csv/input/train/')\n",
    "\n",
    "eval_ids.join(\n",
    "    dataset_ids,\n",
    "    on='trace_id',\n",
    ").drop('trace_id').withColumnRenamed('index', 'trace_id').repartition(1).write.mode('overwrite').csv(\n",
    "    's3://kl-prod-tpgt-knowledge-lake-sandpit/TempDir/tmp/case_study/csv/input/eval/')\n",
    "\n",
    "test_ids.join(\n",
    "    dataset_ids,\n",
    "    on='trace_id',\n",
    ").drop('trace_id').withColumnRenamed('index', 'trace_id').select('trace_info')..repartition(1).write.mode('overwrite').csv(\n",
    "    's3://kl-prod-tpgt-knowledge-lake-sandpit/TempDir/tmp/case_study/csv/input/test/')\n",
    "\n",
    "# train_ids.repartition(1).write.csv(\n",
    "#     's3://kl-prod-tpgt-knowledge-lake-sandpit/TempDir/tmp/case_study/csv/input/train/')\n",
    "# eval_ids.repartition(1).write.csv(\n",
    "#     's3://kl-prod-tpgt-knowledge-lake-sandpit/TempDir/tmp/case_study/csv/input/eval/')\n",
    "# test_ids.repartition(1).write.csv(\n",
    "#     's3://kl-prod-tpgt-knowledge-lake-sandpit/TempDir/tmp/case_study/csv/input/test/')"
   ]
  },
  {
   "cell_type": "code",
   "execution_count": 109,
   "id": "1a6d39b8",
   "metadata": {},
   "outputs": [
    {
     "data": {
      "application/vnd.jupyter.widget-view+json": {
       "model_id": "",
       "version_major": 2,
       "version_minor": 0
      },
      "text/plain": [
       "FloatProgress(value=0.0, bar_style='info', description='Progress:', layout=Layout(height='25px', width='50%'),…"
      ]
     },
     "metadata": {},
     "output_type": "display_data"
    },
    {
     "name": "stdout",
     "output_type": "stream",
     "text": [
      "+--------+\n",
      "|trace_id|\n",
      "+--------+\n",
      "|       2|\n",
      "|       4|\n",
      "|       8|\n",
      "|      14|\n",
      "|      42|\n",
      "|      44|\n",
      "|      46|\n",
      "|      52|\n",
      "|      60|\n",
      "|      68|\n",
      "|      82|\n",
      "|      83|\n",
      "|      84|\n",
      "|     102|\n",
      "|     111|\n",
      "|     113|\n",
      "|     115|\n",
      "|     116|\n",
      "|     120|\n",
      "|     129|\n",
      "+--------+\n",
      "only showing top 20 rows"
     ]
    }
   ],
   "source": [
    "eval_ids.join(\n",
    "    dataset_ids,\n",
    "    on='trace_id',\n",
    ").drop('trace_id').withColumnRenamed('index', 'trace_id').show()"
   ]
  },
  {
   "cell_type": "code",
   "execution_count": 114,
   "id": "80cdac0d",
   "metadata": {},
   "outputs": [
    {
     "data": {
      "application/vnd.jupyter.widget-view+json": {
       "model_id": "",
       "version_major": 2,
       "version_minor": 0
      },
      "text/plain": [
       "FloatProgress(value=0.0, bar_style='info', description='Progress:', layout=Layout(height='25px', width='50%'),…"
      ]
     },
     "metadata": {},
     "output_type": "display_data"
    },
    {
     "name": "stdout",
     "output_type": "stream",
     "text": [
      "+------------------+----------+----------------+--------+\n",
      "|               cei|trace_bool|error_trace_type|trace_id|\n",
      "+------------------+----------+----------------+--------+\n",
      "| 62.31248366873604|     false|           false|       1|\n",
      "| 6.591996330275229|     false|           false|       3|\n",
      "| 60.82758796339768|     false|           false|       5|\n",
      "|           23.9205|     false|           false|       6|\n",
      "| 80.21753846153847|      true|            true|       7|\n",
      "| 79.78798418412224|      true|            true|      15|\n",
      "|           77.9812|      true|            true|      16|\n",
      "|24.041999999999998|     false|           false|      18|\n",
      "| 82.68981505779006|      true|            true|      20|\n",
      "|25.901329772949218|     false|           false|      22|\n",
      "| 75.48149163879599|      true|            true|      23|\n",
      "| 81.70553846153847|      true|            true|      24|\n",
      "| 80.41471709090908|      true|            true|      26|\n",
      "| 76.90646153846154|      true|            true|      28|\n",
      "| 48.26986488647461|     false|           false|      32|\n",
      "|  77.6043076923077|      true|            true|      33|\n",
      "| 91.35907692307691|      true|            true|      35|\n",
      "|15.597818181818184|     false|           false|      38|\n",
      "| 40.74962455509015|     false|           false|      41|\n",
      "|13.481035031832185|     false|           false|      43|\n",
      "+------------------+----------+----------------+--------+\n",
      "only showing top 20 rows"
     ]
    }
   ],
   "source": [
    "test_ids.join(\n",
    "    dataset_ids,\n",
    "    on='trace_id',\n",
    ").drop('trace_id').withColumnRenamed('index', 'trace_id').show()"
   ]
  },
  {
   "cell_type": "code",
   "execution_count": 94,
   "id": "3fc54679",
   "metadata": {},
   "outputs": [
    {
     "data": {
      "application/vnd.jupyter.widget-view+json": {
       "model_id": "",
       "version_major": 2,
       "version_minor": 0
      },
      "text/plain": [
       "FloatProgress(value=0.0, bar_style='info', description='Progress:', layout=Layout(height='25px', width='50%'),…"
      ]
     },
     "metadata": {},
     "output_type": "display_data"
    },
    {
     "name": "stdout",
     "output_type": "stream",
     "text": [
      "root\n",
      " |-- trace_id: string (nullable = true)\n",
      " |-- f_0: float (nullable = true)\n",
      " |-- f_1: float (nullable = true)\n",
      " |-- f_2: float (nullable = true)\n",
      " |-- f_3: float (nullable = true)\n",
      " |-- f_4: float (nullable = true)\n",
      " |-- f_5: float (nullable = true)\n",
      " |-- f_6: float (nullable = true)\n",
      " |-- f_7: float (nullable = true)\n",
      " |-- f_8: float (nullable = true)\n",
      " |-- f_9: float (nullable = true)\n",
      " |-- f_10: float (nullable = true)\n",
      " |-- f_11: float (nullable = true)\n",
      " |-- f_12: float (nullable = true)\n",
      " |-- f_13: float (nullable = true)\n",
      " |-- f_14: float (nullable = true)\n",
      " |-- f_15: float (nullable = true)\n",
      " |-- f_16: float (nullable = true)\n",
      " |-- f_17: float (nullable = true)\n",
      " |-- f_18: float (nullable = true)\n",
      " |-- f_19: float (nullable = true)\n",
      " |-- f_20: float (nullable = true)\n",
      " |-- f_21: float (nullable = true)\n",
      " |-- f_22: float (nullable = true)\n",
      " |-- f_23: float (nullable = true)\n",
      " |-- f_24: float (nullable = true)\n",
      " |-- f_25: float (nullable = true)\n",
      " |-- f_26: float (nullable = true)\n",
      " |-- f_27: float (nullable = true)\n",
      " |-- f_28: float (nullable = true)\n",
      " |-- f_29: float (nullable = true)\n",
      " |-- f_30: float (nullable = true)\n",
      " |-- node_id: integer (nullable = true)"
     ]
    }
   ],
   "source": [
    "csv_node_feature.printSchema()"
   ]
  },
  {
   "cell_type": "code",
   "execution_count": 95,
   "id": "733cfd7f",
   "metadata": {},
   "outputs": [
    {
     "data": {
      "application/vnd.jupyter.widget-view+json": {
       "model_id": "",
       "version_major": 2,
       "version_minor": 0
      },
      "text/plain": [
       "FloatProgress(value=0.0, bar_style='info', description='Progress:', layout=Layout(height='25px', width='50%'),…"
      ]
     },
     "metadata": {},
     "output_type": "display_data"
    },
    {
     "name": "stdout",
     "output_type": "stream",
     "text": [
      "root\n",
      " |-- trace_id: string (nullable = true)\n",
      " |-- index: integer (nullable = false)"
     ]
    }
   ],
   "source": [
    "dataset_ids.printSchema()"
   ]
  },
  {
   "cell_type": "code",
   "execution_count": 91,
   "id": "20be8171",
   "metadata": {},
   "outputs": [
    {
     "data": {
      "application/vnd.jupyter.widget-view+json": {
       "model_id": "",
       "version_major": 2,
       "version_minor": 0
      },
      "text/plain": [
       "FloatProgress(value=0.0, bar_style='info', description='Progress:', layout=Layout(height='25px', width='50%'),…"
      ]
     },
     "metadata": {},
     "output_type": "display_data"
    }
   ],
   "source": [
    "# node feature\n",
    "csv_node_feature.join(\n",
    "    dataset_ids,\n",
    "    on='trace_id'\n",
    ").drop('trace_id').withColumnRenamed('index', 'trace_id').repartition(1).write.mode('overwrite').csv(\n",
    "    's3://kl-prod-tpgt-knowledge-lake-sandpit/TempDir/tmp/case_study/csv/input/node_feature_norm/', header=True\n",
    ")\n",
    "\n"
   ]
  },
  {
   "cell_type": "code",
   "execution_count": 76,
   "id": "7cce030d",
   "metadata": {},
   "outputs": [
    {
     "data": {
      "application/vnd.jupyter.widget-view+json": {
       "model_id": "",
       "version_major": 2,
       "version_minor": 0
      },
      "text/plain": [
       "FloatProgress(value=0.0, bar_style='info', description='Progress:', layout=Layout(height='25px', width='50%'),…"
      ]
     },
     "metadata": {},
     "output_type": "display_data"
    },
    {
     "name": "stdout",
     "output_type": "stream",
     "text": [
      "+---------+--------------------+--------------------+------+------+\n",
      "| trace_id|            dst_name|            src_name|src_id|dst_id|\n",
      "+---------+--------------------+--------------------+------+------+\n",
      "|280142812|201566_DeeWhySout...|           280142812|     0|     3|\n",
      "|280142812|201566_DeeWhySouth_2|201566_DeeWhySout...|     3|     4|\n",
      "|280142812|201566_DeeWhySout...|           280142812|     0|     1|\n",
      "|280142812|201566_DeeWhySouth_2|201566_DeeWhySout...|     1|     4|\n",
      "|280142812|201566_DeeWhySout...|           280142812|     0|     2|\n",
      "|280142812|201566_DeeWhySouth_2|201566_DeeWhySout...|     2|     4|\n",
      "|280147067|660002_BurswdEntC...|           280147067|     0|     1|\n",
      "|280147067|660002_BurswdEntC...|660002_BurswdEntC...|     1|     2|\n",
      "|280158936|477186_AshmoreNer...|           280158936|     0|     1|\n",
      "|280158936|477186_AshmoreNer...|477186_AshmoreNer...|     1|     2|\n",
      "|280248981|202525_Leumeah_L1...|           280248981|     0|     5|\n",
      "|280248981|    202525_Leumeah_2|202525_Leumeah_L1...|     5|     9|\n",
      "|280248981|202525_Leumeah_L1...|           280248981|     0|     1|\n",
      "|280248981|    202525_Leumeah_1|202525_Leumeah_L1...|     1|     6|\n",
      "|280248981|  201721_Ruse_L18B_3|           280248981|     0|     2|\n",
      "|280248981|       201721_Ruse_3|  201721_Ruse_L18B_3|     2|     7|\n",
      "|280248981|202525_Leumeah_L1...|           280248981|     0|     3|\n",
      "|280248981|    202525_Leumeah_3|202525_Leumeah_L1...|     3|     8|\n",
      "|280248981|202525_Leumeah_L0...|           280248981|     0|     4|\n",
      "|280248981|    202525_Leumeah_1|202525_Leumeah_L0...|     4|     6|\n",
      "+---------+--------------------+--------------------+------+------+\n",
      "only showing top 20 rows"
     ]
    }
   ],
   "source": [
    "# edge index\n",
    "edge_index_ = spark.read.csv('s3://kl-prod-tpgt-knowledge-lake-sandpit/TempDir/tmp/case_study/csv/dataset_hr/edge_index/', header=True)\n",
    "edge_index_.show()\n",
    "\n",
    "edge_index_.join(\n",
    "    dataset_ids,\n",
    "    on='trace_id'\n",
    ").drop('trace_id', 'dst_name', 'src_name').withColumnRenamed('index', 'trace_id').repartition(1).write.csv(\n",
    "    's3://kl-prod-tpgt-knowledge-lake-sandpit/TempDir/tmp/case_study/csv/input/edge_index/', header=True\n",
    ")"
   ]
  },
  {
   "cell_type": "code",
   "execution_count": 79,
   "id": "337f61e4",
   "metadata": {},
   "outputs": [
    {
     "data": {
      "application/vnd.jupyter.widget-view+json": {
       "model_id": "",
       "version_major": 2,
       "version_minor": 0
      },
      "text/plain": [
       "FloatProgress(value=0.0, bar_style='info', description='Progress:', layout=Layout(height='25px', width='50%'),…"
      ]
     },
     "metadata": {},
     "output_type": "display_data"
    },
    {
     "name": "stdout",
     "output_type": "stream",
     "text": [
      "+--------+------------------------+\n",
      "|trace_id|node_types              |\n",
      "+--------+------------------------+\n",
      "|1       |[[0], [1, 2], [3, 4]]   |\n",
      "|2       |[[0], [1], [2]]         |\n",
      "|3       |[[0], [1, 2, 3], [4, 5]]|\n",
      "|4       |[[0], [1], [2]]         |\n",
      "|5       |[[0], [1, 2], [3]]      |\n",
      "+--------+------------------------+\n",
      "only showing top 5 rows"
     ]
    }
   ],
   "source": [
    "# node types\n",
    "\n",
    "node_types = node_overview.join(\n",
    "    dataset_ids,\n",
    "    on='trace_id'\n",
    ").drop('trace_id').withColumnRenamed('index', 'trace_id').groupBy('trace_id').agg(\n",
    "    construct_node_types(\n",
    "        f.collect_list(f.struct('node_type', 'node_id'))\n",
    "    ).alias('node_types')\n",
    ").orderBy('trace_id')\n",
    "\n",
    "node_types.show(5, False)"
   ]
  },
  {
   "cell_type": "code",
   "execution_count": 87,
   "id": "c9ddfdbc",
   "metadata": {},
   "outputs": [
    {
     "data": {
      "application/vnd.jupyter.widget-view+json": {
       "model_id": "",
       "version_major": 2,
       "version_minor": 0
      },
      "text/plain": [
       "FloatProgress(value=0.0, bar_style='info', description='Progress:', layout=Layout(height='25px', width='50%'),…"
      ]
     },
     "metadata": {},
     "output_type": "display_data"
    }
   ],
   "source": [
    "node_types.withColumn('node_types', f.col('node_types').cast('string')).repartition(1).write.mode('overwrite').csv(\n",
    "    's3://kl-prod-tpgt-knowledge-lake-sandpit/TempDir/tmp/case_study/csv/input/node_types/')"
   ]
  },
  {
   "cell_type": "code",
   "execution_count": 88,
   "id": "4f1c619f",
   "metadata": {},
   "outputs": [
    {
     "data": {
      "application/vnd.jupyter.widget-view+json": {
       "model_id": "",
       "version_major": 2,
       "version_minor": 0
      },
      "text/plain": [
       "FloatProgress(value=0.0, bar_style='info', description='Progress:', layout=Layout(height='25px', width='50%'),…"
      ]
     },
     "metadata": {},
     "output_type": "display_data"
    },
    {
     "name": "stdout",
     "output_type": "stream",
     "text": [
      "+---------+------------------+----------+----------------+\n",
      "| trace_id|               cei|trace_bool|error_trace_type|\n",
      "+---------+------------------+----------+----------------+\n",
      "|390163328| 82.54266666666666|      true|            true|\n",
      "|362095265| 7.780984615384614|     false|           false|\n",
      "|381328738|  84.3061858974359|      true|            true|\n",
      "|388943505|  75.6978866970807|      true|            true|\n",
      "|382766889| 83.31732150858849|      true|            true|\n",
      "|386713217| 68.67036462476506|     false|           false|\n",
      "|373490918| 80.01532718766478|      true|            true|\n",
      "|379723115|  74.0327734984268|      true|            true|\n",
      "|391556428| 81.88011764705882|      true|            true|\n",
      "|380122769|52.061310989379876|     false|           false|\n",
      "|391623026| 78.79599999999999|      true|            true|\n",
      "|373115335| 74.77004950185922|      true|            true|\n",
      "|384773101| 82.76677358156022|      true|            true|\n",
      "|385835686| 61.62842485798458|     false|           false|\n",
      "|388598879| 87.88575372779404|      true|            true|\n",
      "|389402592| 87.68235369075369|      true|            true|\n",
      "|385117423| 83.26957822829026|      true|            true|\n",
      "|355976875| 75.39053538227277|      true|            true|\n",
      "|380057467| 80.65656963472335|      true|            true|\n",
      "|375804945| 80.51938461538461|      true|            true|\n",
      "+---------+------------------+----------+----------------+\n",
      "only showing top 20 rows"
     ]
    }
   ],
   "source": [
    "# trace_info\n",
    "trace_info_ = spark.read.csv('s3://kl-prod-tpgt-knowledge-lake-sandpit/TempDir/tmp/case_study/csv/dataset_hr/trace_info/', header=True)\n",
    "trace_info_.show()\n",
    "\n",
    "trace_info_.join(\n",
    "    dataset_ids,\n",
    "    on='trace_id'\n",
    ").drop('trace_id').withColumnRenamed('index', 'trace_id').repartition(1).write.mode('overwrite').csv(\n",
    "    's3://kl-prod-tpgt-knowledge-lake-sandpit/TempDir/tmp/case_study/csv/input/trace_info/', header=True)\n"
   ]
  },
  {
   "cell_type": "code",
   "execution_count": 106,
   "id": "ec9a9289",
   "metadata": {},
   "outputs": [
    {
     "data": {
      "application/vnd.jupyter.widget-view+json": {
       "model_id": "",
       "version_major": 2,
       "version_minor": 0
      },
      "text/plain": [
       "FloatProgress(value=0.0, bar_style='info', description='Progress:', layout=Layout(height='25px', width='50%'),…"
      ]
     },
     "metadata": {},
     "output_type": "display_data"
    },
    {
     "name": "stdout",
     "output_type": "stream",
     "text": [
      "+------+------+--------+\n",
      "|src_id|dst_id|trace_id|\n",
      "+------+------+--------+\n",
      "|     0|     1|     131|\n",
      "|     1|     3|     131|\n",
      "|     0|     2|     131|\n",
      "|     2|     4|     131|\n",
      "|     0|     1|     891|\n",
      "|     1|     3|     891|\n",
      "|     0|     2|     891|\n",
      "|     2|     3|     891|\n",
      "|     0|     1|    1086|\n",
      "|     1|     2|    1086|\n",
      "|     0|     2|    1626|\n",
      "|     2|     7|    1626|\n",
      "|     0|     4|    1626|\n",
      "|     4|     7|    1626|\n",
      "|     0|     1|    1626|\n",
      "|     1|     6|    1626|\n",
      "|     0|     3|    1626|\n",
      "|     3|     7|    1626|\n",
      "|     0|     5|    1626|\n",
      "|     5|     8|    1626|\n",
      "+------+------+--------+\n",
      "only showing top 20 rows\n",
      "\n",
      "+---+---+---+---+---+---+---+---------+---+----------+----------+----+----+----------+----+----+----------+----+----+----+----+----+----+----+----+----+----+----+----+----+----+-------+--------+\n",
      "|f_0|f_1|f_2|f_3|f_4|f_5|f_6|      f_7|f_8|       f_9|      f_10|f_11|f_12|      f_13|f_14|f_15|      f_16|f_17|f_18|f_19|f_20|f_21|f_22|f_23|f_24|f_25|f_26|f_27|f_28|f_29|f_30|node_id|trace_id|\n",
      "+---+---+---+---+---+---+---+---------+---+----------+----------+----+----+----------+----+----+----------+----+----+----+----+----+----+----+----+----+----+----+----+----+----+-------+--------+\n",
      "|0.0|0.0|0.0|0.0|0.0|0.0|0.0|      0.0|0.0|       0.0|       0.0| 0.0| 0.0|       1.0| 0.0| 0.0|       0.0| 0.0| 0.0| 0.0| 0.0| 0.0| 0.0| 0.0| 0.0| 0.0| 0.0| 0.0| 0.0| 0.0| 0.0|      7|  626196|\n",
      "|0.0|0.0|0.0|0.0|0.0|0.0|0.0|      0.0|1.0|       0.0|       0.0| 0.0| 0.0|       0.0| 0.0| 0.0|       0.0| 0.0| 0.0| 0.0| 0.0| 0.0| 0.0| 0.0| 0.0| 0.0| 0.0| 0.0| 0.0| 0.0| 0.0|      3| 1709433|\n",
      "|0.0|0.0|0.0|0.0|0.0|0.0|0.0|      0.0|0.5|       0.0|       0.0| 0.0| 0.0|       0.5| 0.0| 0.0|       0.0| 0.0| 0.0| 0.0| 0.0| 0.0| 0.0| 0.0| 0.0| 0.0| 0.0| 0.0| 0.0| 0.0| 0.0|      3| 1771660|\n",
      "|0.0|0.0|0.0|0.0|0.0|0.0|0.0|      0.4|0.4|       0.0|       0.2| 0.0| 0.0|       0.0| 0.0| 0.0|       0.0| 0.0| 0.0| 0.0| 0.0| 0.0| 0.0| 0.0| 0.0| 0.0| 0.0| 0.0| 0.0| 0.0| 0.0|      9|  625705|\n",
      "|0.0|0.0|0.0|0.0|0.0|0.0|0.0|      0.0|0.0|       0.0|       0.0| 0.0| 0.0|       1.0| 0.0| 0.0|       0.0| 0.0| 0.0| 0.0| 0.0| 0.0| 0.0| 0.0| 0.0| 0.0| 0.0| 0.0| 0.0| 0.0| 0.0|      1|  534104|\n",
      "|0.0|0.0|0.0|0.0|0.0|0.0|0.0|0.6666667|0.0|       0.0|       0.0| 0.0| 0.0|0.33333334| 0.0| 0.0|       0.0| 0.0| 0.0| 0.0| 0.0| 0.0| 0.0| 0.0| 0.0| 0.0| 0.0| 0.0| 0.0| 0.0| 0.0|      5| 1676654|\n",
      "|0.0|0.0|0.0|0.0|0.0|0.0|0.0|      1.0|0.0|       0.0|       0.0| 0.0| 0.0|       0.0| 0.0| 0.0|       0.0| 0.0| 0.0| 0.0| 0.0| 0.0| 0.0| 0.0| 0.0| 0.0| 0.0| 0.0| 0.0| 0.0| 0.0|      1| 1840268|\n",
      "|0.0|0.0|0.0|0.0|0.0|0.0|0.0|      0.0|0.0|       0.0|       0.0| 0.0| 0.0|       1.0| 0.0| 0.0|       0.0| 0.0| 0.0| 0.0| 0.0| 0.0| 0.0| 0.0| 0.0| 0.0| 0.0| 0.0| 0.0| 0.0| 0.0|      3|  695397|\n",
      "|0.0|0.0|0.0|0.0|0.0|0.0|0.0|      0.0|0.0|       0.0|       0.0| 0.0| 0.0|       1.0| 0.0| 0.0|       0.0| 0.0| 0.0| 0.0| 0.0| 0.0| 0.0| 0.0| 0.0| 0.0| 0.0| 0.0| 0.0| 0.0| 0.0|      2|  758430|\n",
      "|0.0|0.0|0.0|0.0|0.0|0.0|0.0|      0.0|0.0|       0.0|       0.0| 0.0| 0.0|       1.0| 0.0| 0.0|       0.0| 0.0| 0.0| 0.0| 0.0| 0.0| 0.0| 0.0| 0.0| 0.0| 0.0| 0.0| 0.0| 0.0| 0.0|      9| 1295322|\n",
      "|0.0|0.0|0.0|0.0|0.0|0.0|0.0|      0.0|0.0|       0.0|       0.0| 0.0| 0.0|       1.0| 0.0| 0.0|       0.0| 0.0| 0.0| 0.0| 0.0| 0.0| 0.0| 0.0| 0.0| 0.0| 0.0| 0.0| 0.0| 0.0| 0.0|      1| 1370739|\n",
      "|0.0|0.0|0.0|0.0|0.0|0.0|0.0|      0.0|0.0|0.22222222|0.22222222| 0.0| 0.0|0.22222222| 0.0| 0.0|0.33333334| 0.0| 0.0| 0.0| 0.0| 0.0| 0.0| 0.0| 0.0| 0.0| 0.0| 0.0| 0.0| 0.0| 0.0|      9|  429722|\n",
      "|0.0|0.0|0.0|0.0|0.0|0.0|0.0|      0.0|0.0|       0.0|       0.0| 0.0| 0.0|       1.0| 0.0| 0.0|       0.0| 0.0| 0.0| 0.0| 0.0| 0.0| 0.0| 0.0| 0.0| 0.0| 0.0| 0.0| 0.0| 0.0| 0.0|      3|  701422|\n",
      "|0.0|0.0|0.0|0.0|0.0|0.0|0.0|      0.0|0.0|       0.0|       0.0| 0.0| 0.0|       1.0| 0.0| 0.0|       0.0| 0.0| 0.0| 0.0| 0.0| 0.0| 0.0| 0.0| 0.0| 0.0| 0.0| 0.0| 0.0| 0.0| 0.0|      1|  937601|\n",
      "|0.0|0.0|0.0|0.0|0.0|0.0|0.0|      0.0|0.0|       0.0|       0.0| 0.0| 0.0|       1.0| 0.0| 0.0|       0.0| 0.0| 0.0| 0.0| 0.0| 0.0| 0.0| 0.0| 0.0| 0.0| 0.0| 0.0| 0.0| 0.0| 0.0|      6|  628311|\n",
      "|0.0|0.0|0.0|0.0|0.0|0.0|0.0|      0.0|0.0|       0.0|       0.0| 0.0| 0.0|       1.0| 0.0| 0.0|       0.0| 0.0| 0.0| 0.0| 0.0| 0.0| 0.0| 0.0| 0.0| 0.0| 0.0| 0.0| 0.0| 0.0| 0.0|      4|  748560|\n",
      "|0.0|0.0|0.0|0.0|0.0|0.0|0.0|      0.0|0.0|       0.0|       0.0| 0.0| 0.0|       1.0| 0.0| 0.0|       0.0| 0.0| 0.0| 0.0| 0.0| 0.0| 0.0| 0.0| 0.0| 0.0| 0.0| 0.0| 0.0| 0.0| 0.0|      1| 1761743|\n",
      "|0.0|0.0|0.0|0.0|0.0|0.0|0.0|      0.0|0.0|       0.0|       0.0| 0.0| 0.0|       1.0| 0.0| 0.0|       0.0| 0.0| 0.0| 0.0| 0.0| 0.0| 0.0| 0.0| 0.0| 0.0| 0.0| 0.0| 0.0| 0.0| 0.0|      6|  446697|\n",
      "|0.0|0.0|0.0|0.0|0.0|0.0|0.0|      0.0|0.0|       0.0|       0.0| 0.0| 0.0|       1.0| 0.0| 0.0|       0.0| 0.0| 0.0| 0.0| 0.0| 0.0| 0.0| 0.0| 0.0| 0.0| 0.0| 0.0| 0.0| 0.0| 0.0|     10|  168250|\n",
      "|0.0|0.0|0.0|0.0|0.0|0.0|0.0|      0.0|0.0|       0.0|       0.0| 0.0| 0.0|       1.0| 0.0| 0.0|       0.0| 0.0| 0.0| 0.0| 0.0| 0.0| 0.0| 0.0| 0.0| 0.0| 0.0| 0.0| 0.0| 0.0| 0.0|      4| 1380566|\n",
      "+---+---+---+---+---+---+---+---------+---+----------+----------+----+----+----------+----+----+----------+----+----+----+----+----+----+----+----+----+----+----+----+----+----+-------+--------+\n",
      "only showing top 20 rows\n",
      "\n",
      "+------------------+----------+----------------+--------+\n",
      "|               cei|trace_bool|error_trace_type|trace_id|\n",
      "+------------------+----------+----------------+--------+\n",
      "| 62.31248366873604|     false|           false|       1|\n",
      "| 86.57532977294922|      true|            true|       2|\n",
      "| 6.591996330275229|     false|           false|       3|\n",
      "|            23.638|     false|           false|       4|\n",
      "| 60.82758796339768|     false|           false|       5|\n",
      "|           23.9205|     false|           false|       6|\n",
      "| 80.21753846153847|      true|            true|       7|\n",
      "| 85.61527272727272|      true|            true|       8|\n",
      "|            71.752|      true|            true|       9|\n",
      "|  81.1328815910042|      true|            true|      10|\n",
      "|           90.6928|      true|            true|      11|\n",
      "|            82.768|      true|            true|      12|\n",
      "| 81.50532977294921|      true|            true|      13|\n",
      "|26.071199999999997|     false|           false|      14|\n",
      "| 79.78798418412224|      true|            true|      15|\n",
      "|           77.9812|      true|            true|      16|\n",
      "|           83.4148|      true|            true|      17|\n",
      "|24.041999999999998|     false|           false|      18|\n",
      "| 86.22945454545454|      true|            true|      19|\n",
      "| 82.68981505779006|      true|            true|      20|\n",
      "+------------------+----------+----------------+--------+\n",
      "only showing top 20 rows\n",
      "\n",
      "+------+--------------------+\n",
      "|   _c0|                 _c1|\n",
      "+------+--------------------+\n",
      "|440878|[[0], [1, 2], [3,...|\n",
      "|440879|  [[0], [1, 2], [3]]|\n",
      "|440880|  [[0], [1, 2], [3]]|\n",
      "|440881|     [[0], [1], [2]]|\n",
      "|440882|     [[0], [1], [2]]|\n",
      "|440883|     [[0], [1], [2]]|\n",
      "|440884|     [[0], [1], [2]]|\n",
      "|440885|     [[0], [1], [2]]|\n",
      "|440886|     [[0], [1], [2]]|\n",
      "|440887|     [[0], [1], [2]]|\n",
      "|440888|     [[0], [1], [2]]|\n",
      "|440889|     [[0], [1], [2]]|\n",
      "|440890|     [[0], [1], [2]]|\n",
      "|440891|[[0], [1, 2, 3], ...|\n",
      "|440892|[[0], [1, 2, 3, 4...|\n",
      "|440893|     [[0], [1], [2]]|\n",
      "|440894|[[0], [1, 2], [3,...|\n",
      "|440895|[[0], [1, 2, 3, 4...|\n",
      "|440896|[[0], [1, 2], [3,...|\n",
      "|440897|     [[0], [1], [2]]|\n",
      "+------+--------------------+\n",
      "only showing top 20 rows"
     ]
    }
   ],
   "source": [
    "# check\n",
    "spark.read.csv(\n",
    "    's3://kl-prod-tpgt-knowledge-lake-sandpit/TempDir/tmp/case_study/csv/input/edge_index/', header=True).show()\n",
    "\n",
    "spark.read.csv(\n",
    "    's3://kl-prod-tpgt-knowledge-lake-sandpit/TempDir/tmp/case_study/csv/input/node_feature_norm/', header=True).show()\n",
    "\n",
    "spark.read.csv(\n",
    "    's3://kl-prod-tpgt-knowledge-lake-sandpit/TempDir/tmp/case_study/csv/input/trace_info/', header=True).show()\n",
    "\n",
    "spark.read.csv(\n",
    "    's3://kl-prod-tpgt-knowledge-lake-sandpit/TempDir/tmp/case_study/csv/input/node_types/', header=False).show()\n"
   ]
  },
  {
   "cell_type": "code",
   "execution_count": 93,
   "id": "c3b22a28",
   "metadata": {},
   "outputs": [
    {
     "data": {
      "application/vnd.jupyter.widget-view+json": {
       "model_id": "",
       "version_major": 2,
       "version_minor": 0
      },
      "text/plain": [
       "FloatProgress(value=0.0, bar_style='info', description='Progress:', layout=Layout(height='25px', width='50%'),…"
      ]
     },
     "metadata": {},
     "output_type": "display_data"
    },
    {
     "name": "stdout",
     "output_type": "stream",
     "text": [
      "+-------------+\n",
      "|max(trace_id)|\n",
      "+-------------+\n",
      "|       999999|\n",
      "+-------------+"
     ]
    }
   ],
   "source": [
    "spark.read.csv(\n",
    "    's3://kl-prod-tpgt-knowledge-lake-sandpit/TempDir/tmp/case_study/csv/input/node_feature_norm/',\n",
    "    header=True).select(f.max('trace_id')).show()"
   ]
  },
  {
   "cell_type": "code",
   "execution_count": 96,
   "id": "0fe0d834",
   "metadata": {},
   "outputs": [
    {
     "data": {
      "application/vnd.jupyter.widget-view+json": {
       "model_id": "",
       "version_major": 2,
       "version_minor": 0
      },
      "text/plain": [
       "FloatProgress(value=0.0, bar_style='info', description='Progress:', layout=Layout(height='25px', width='50%'),…"
      ]
     },
     "metadata": {},
     "output_type": "display_data"
    },
    {
     "name": "stdout",
     "output_type": "stream",
     "text": [
      "+-------------+\n",
      "|max(trace_id)|\n",
      "+-------------+\n",
      "|       999999|\n",
      "+-------------+"
     ]
    }
   ],
   "source": [
    "spark.read.csv(\n",
    "    's3://kl-prod-tpgt-knowledge-lake-sandpit/TempDir/tmp/case_study/csv/input/edge_index/',\n",
    "    header=True).select(f.max('trace_id')).show()"
   ]
  },
  {
   "cell_type": "code",
   "execution_count": 105,
   "id": "8bf23296",
   "metadata": {},
   "outputs": [
    {
     "data": {
      "application/vnd.jupyter.widget-view+json": {
       "model_id": "",
       "version_major": 2,
       "version_minor": 0
      },
      "text/plain": [
       "FloatProgress(value=0.0, bar_style='info', description='Progress:', layout=Layout(height='25px', width='50%'),…"
      ]
     },
     "metadata": {},
     "output_type": "display_data"
    }
   ],
   "source": [
    "edge_index_.join(\n",
    "    dataset_ids,\n",
    "    on='trace_id'\n",
    ").drop('trace_id', 'dst_name', 'src_name').withColumnRenamed('index', 'trace_id').repartition(1).write.mode('overwrite').csv(\n",
    "    's3://kl-prod-tpgt-knowledge-lake-sandpit/TempDir/tmp/case_study/csv/input/edge_index/', header=True\n",
    ")"
   ]
  },
  {
   "cell_type": "markdown",
   "id": "316149b2",
   "metadata": {},
   "source": [
    "### Check"
   ]
  },
  {
   "cell_type": "code",
   "execution_count": 119,
   "id": "5cdf5bd0",
   "metadata": {},
   "outputs": [
    {
     "data": {
      "application/vnd.jupyter.widget-view+json": {
       "model_id": "",
       "version_major": 2,
       "version_minor": 0
      },
      "text/plain": [
       "FloatProgress(value=0.0, bar_style='info', description='Progress:', layout=Layout(height='25px', width='50%'),…"
      ]
     },
     "metadata": {},
     "output_type": "display_data"
    },
    {
     "name": "stdout",
     "output_type": "stream",
     "text": [
      "+---------+--------------------+-------------+---------------------------+------------------+---------+-----+\n",
      "|  Subs_Id|  event_code_feature|irregular_pct|weighted_sector_utilisation|               cei| trace_id|index|\n",
      "+---------+--------------------+-------------+---------------------------+------------------+---------+-----+\n",
      "|279136044|(30,[7,8,13],[3.0...|    0.2857143|         58.958392857142854| 62.31248366873604|279136044|    1|\n",
      "|279145285|(30,[8,13],[1.0,5...|   0.16666667|                       5.86| 86.57532977294922|279145285|    2|\n",
      "|279150070|(30,[2,6,8,16],[1...|          1.0|          78.02667889908257| 6.591996330275229|279150070|    3|\n",
      "|279151007|     (30,[15],[1.0])|          1.0|         21.206666666666667|            23.638|279151007|    4|\n",
      "|279153120|(30,[8,12,13],[1....|   0.33333334|          52.79692307692308| 60.82758796339768|279153120|    5|\n",
      "|279155053|(30,[8,11,12,16],...|          1.0|                     20.265|           23.9205|279155053|    6|\n",
      "|279161055|     (30,[13],[3.0])|          0.0|          65.94153846153846| 80.21753846153847|279161055|    7|\n",
      "|279161293|(30,[7,13],[4.0,2...|          0.0|          47.94909090909091| 85.61527272727272|279161293|    8|\n",
      "|279178583|    (30,[13],[14.0])|          0.0|                      94.16|            71.752|279178583|    9|\n",
      "|279179734|(30,[7,8,11,12,13...|   0.21428572|          12.89038961038961|  81.1328815910042|279179734|   10|\n",
      "|279180139|     (30,[13],[1.0])|          0.0|                     31.024|           90.6928|279180139|   11|\n",
      "|279183407|     (30,[13],[1.0])|          0.0|                      57.44|            82.768|279183407|   12|\n",
      "|279196207|(30,[11,13],[1.0,...|   0.16666667|                      22.76| 81.50532977294921|279196207|   13|\n",
      "|279224140|(30,[0,1,4,15],[1...|          1.0|                     13.096|26.071199999999997|279224140|   14|\n",
      "|279224204|(30,[7,11,12,13],...|  0.015037594|          63.86460970608339| 79.78798418412224|279224204|   15|\n",
      "|279224510|    (30,[13],[10.0])|          0.0|                     73.396|           77.9812|279224510|   16|\n",
      "|279224607|     (30,[13],[1.0])|          0.0|                     55.284|           83.4148|279224607|   17|\n",
      "|279224659|      (30,[4],[1.0])|          1.0|                      19.86|24.041999999999998|279224659|   18|\n",
      "|279224894|(30,[7,13],[4.0,7...|          0.0|          45.90181818181818| 86.22945454545454|279224894|   19|\n",
      "|279225611|(30,[7,8,13],[3.0...|   0.04347826|          47.55569358178053| 82.68981505779006|279225611|   20|\n",
      "+---------+--------------------+-------------+---------------------------+------------------+---------+-----+\n",
      "only showing top 20 rows"
     ]
    }
   ],
   "source": [
    "testdf = cei.join(\n",
    "    dataset_ids,\n",
    "    on=cei.Subs_Id == dataset_ids.trace_id\n",
    ")\n",
    "\n",
    "testdf.show()"
   ]
  },
  {
   "cell_type": "code",
   "execution_count": 120,
   "id": "32f8fe93",
   "metadata": {},
   "outputs": [
    {
     "data": {
      "application/vnd.jupyter.widget-view+json": {
       "model_id": "",
       "version_major": 2,
       "version_minor": 0
      },
      "text/plain": [
       "FloatProgress(value=0.0, bar_style='info', description='Progress:', layout=Layout(height='25px', width='50%'),…"
      ]
     },
     "metadata": {},
     "output_type": "display_data"
    },
    {
     "name": "stdout",
     "output_type": "stream",
     "text": [
      "+---------+----------------------------+-------------+---------------------------+-----------------+---------+-----+\n",
      "|Subs_Id  |event_code_feature          |irregular_pct|weighted_sector_utilisation|cei              |trace_id |index|\n",
      "+---------+----------------------------+-------------+---------------------------+-----------------+---------+-----+\n",
      "|279136044|(30,[7,8,13],[3.0,8.0,17.0])|0.2857143    |58.958392857142854         |62.31248366873604|279136044|1    |\n",
      "+---------+----------------------------+-------------+---------------------------+-----------------+---------+-----+"
     ]
    }
   ],
   "source": [
    "testdf.filter('index = 1').show(10, False)"
   ]
  },
  {
   "cell_type": "code",
   "execution_count": 121,
   "id": "42f2f427",
   "metadata": {},
   "outputs": [
    {
     "data": {
      "application/vnd.jupyter.widget-view+json": {
       "model_id": "",
       "version_major": 2,
       "version_minor": 0
      },
      "text/plain": [
       "FloatProgress(value=0.0, bar_style='info', description='Progress:', layout=Layout(height='25px', width='50%'),…"
      ]
     },
     "metadata": {},
     "output_type": "display_data"
    },
    {
     "name": "stdout",
     "output_type": "stream",
     "text": [
      "+---------+---------------------+-------------+---------------------------+-----------------+---------+-----+\n",
      "|Subs_Id  |event_code_feature   |irregular_pct|weighted_sector_utilisation|cei              |trace_id |index|\n",
      "+---------+---------------------+-------------+---------------------------+-----------------+---------+-----+\n",
      "|279145285|(30,[8,13],[1.0,5.0])|0.16666667   |5.86                       |86.57532977294922|279145285|2    |\n",
      "+---------+---------------------+-------------+---------------------------+-----------------+---------+-----+"
     ]
    }
   ],
   "source": [
    "testdf.filter('index = 2').show(10, False)"
   ]
  },
  {
   "cell_type": "code",
   "execution_count": 122,
   "id": "30282854",
   "metadata": {},
   "outputs": [
    {
     "data": {
      "application/vnd.jupyter.widget-view+json": {
       "model_id": "",
       "version_major": 2,
       "version_minor": 0
      },
      "text/plain": [
       "FloatProgress(value=0.0, bar_style='info', description='Progress:', layout=Layout(height='25px', width='50%'),…"
      ]
     },
     "metadata": {},
     "output_type": "display_data"
    },
    {
     "name": "stdout",
     "output_type": "stream",
     "text": [
      "+---------+--------------------+--------------------+--------------------+------------------+\n",
      "|  Subs_Id|           cell_name|         sector_name|  event_code_feature|       utilisation|\n",
      "+---------+--------------------+--------------------+--------------------+------------------+\n",
      "|279153120|201607_LalorparkE...|201607_LalorparkE...|      (30,[8],[1.0])| 52.79692307692308|\n",
      "|280135519|703813_Risdonvale...| 703813_Risdonvale_1|(30,[10,12,13],[1...|32.272000000000006|\n",
      "|280137017|201580_Cherrybroo...|201580_Cherrybrook_1|     (30,[13],[6.0])| 30.63428571428572|\n",
      "|280148312|404131_Narangba_L...|   404131_Narangba_3|(30,[8,11,12,16],...| 83.75636363636363|\n",
      "|280149231|227592_Cabramatta...|227592_Cabramatta...|      (30,[7],[1.0])| 98.28615384615385|\n",
      "|280154329|200216_CastlerghK...|200216_CastlerghK...|      (30,[7],[2.0])|13.675555555555556|\n",
      "|280155319|688304_Madora_L08A_2|     688304_Madora_2|(30,[7,13],[3.0,3...| 42.68666666666667|\n",
      "|280159756|201720_StHelensPa...|201720_StHelensPa...|(30,[9,13,16],[1....| 56.93538461538463|\n",
      "|280165254|668005_Stirling_L...|   668005_Stirling_1|      (30,[7],[1.0])| 66.71636363636364|\n",
      "|280170875|338787_FrankstonE...|338787_FrankstonE...|     (30,[13],[7.0])| 50.46153846153846|\n",
      "|280171682|227032_Woolooware...|227032_Woolooware1_3|      (30,[7],[1.0])| 57.24000000000001|\n",
      "|280187539|227916_EagleVale_...|  227916_EagleVale_1|    (30,[13],[18.0])|25.415384615384614|\n",
      "|280220373|477093_BarryStPau...|477093_BarryStPau...|(30,[7,13],[2.0,1...| 78.84727272727272|\n",
      "|280248140|227971_Wamberal_L...|   227971_Wamberal_2|     (30,[13],[8.0])| 75.41199999999999|\n",
      "|280255262|303323_SouthMelbo...|303323_SouthMelbo...|      (30,[8],[1.0])|            20.644|\n",
      "|280265578|447050_Westcourt_...|  447050_Westcourt_3|     (30,[13],[6.0])| 84.41600000000001|\n",
      "|280287863|606208_Carbunup_L...|   606208_Carbunup_1|      (30,[7],[1.0])|             60.12|\n",
      "|280298665|303055_Bundoora_L...|   303055_Bundoora_3|(30,[7,8,10,16],[...| 71.74461538461539|\n",
      "|280298715|688271_Jandakot_L...|   688271_Jandakot_3|(30,[7,13],[1.0,1...| 48.63333333333333|\n",
      "|280314142|227694_OatlandsWe...|227694_OatlandsWe...|(30,[11,12,13],[1...| 93.09538461538462|\n",
      "+---------+--------------------+--------------------+--------------------+------------------+\n",
      "only showing top 20 rows"
     ]
    }
   ],
   "source": [
    "flat_event.show()"
   ]
  },
  {
   "cell_type": "code",
   "execution_count": null,
   "id": "0b94f940",
   "metadata": {},
   "outputs": [],
   "source": []
  }
 ],
 "metadata": {
  "interpreter": {
   "hash": "dd65f12e531413a9916e885ddcda4713ce1e92a965375bff78a972ca39458109"
  },
  "kernelspec": {
   "display_name": "Python 3.7.10 ('pytorch')",
   "language": "python",
   "name": "python3"
  },
  "language_info": {
   "codemirror_mode": {
    "name": "python",
    "version": 3
   },
   "file_extension": ".py",
   "mimetype": "text/x-python",
   "name": "python",
   "pygments_lexer": "python3",
   "version": "3.7.10"
  }
 },
 "nbformat": 4,
 "nbformat_minor": 5
}
