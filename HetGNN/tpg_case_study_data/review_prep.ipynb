{
 "cells": [
  {
   "cell_type": "code",
   "execution_count": 124,
   "id": "7f8fdca6",
   "metadata": {},
   "outputs": [],
   "source": [
    "%cleanup -f"
   ]
  },
  {
   "cell_type": "code",
   "execution_count": 1,
   "id": "e7ac4e52",
   "metadata": {},
   "outputs": [
    {
     "data": {
      "text/html": [
       "Current session configs: <tt>{'numExecutors': 12, 'driverMemory': '20g', 'proxyUser': 'jovyan', 'kind': 'pyspark'}</tt><br>"
      ],
      "text/plain": [
       "<IPython.core.display.HTML object>"
      ]
     },
     "metadata": {},
     "output_type": "display_data"
    },
    {
     "data": {
      "text/html": [
       "No active sessions."
      ],
      "text/plain": [
       "<IPython.core.display.HTML object>"
      ]
     },
     "metadata": {},
     "output_type": "display_data"
    }
   ],
   "source": [
    "%%configure -f\n",
    "{\n",
    "    \"numExecutors\": 12,\n",
    "    \"driverMemory\": \"20g\"\n",
    "}"
   ]
  },
  {
   "cell_type": "code",
   "execution_count": 69,
   "id": "a2d5952b",
   "metadata": {},
   "outputs": [
    {
     "data": {
      "application/vnd.jupyter.widget-view+json": {
       "model_id": "",
       "version_major": 2,
       "version_minor": 0
      },
      "text/plain": [
       "FloatProgress(value=0.0, bar_style='info', description='Progress:', layout=Layout(height='25px', width='50%'),…"
      ]
     },
     "metadata": {},
     "output_type": "display_data"
    }
   ],
   "source": [
    "import pyspark.sql.functions as f\n",
    "from pyspark.sql.types import *\n",
    "from pyspark.sql.window import Window\n",
    "from pyspark.ml.feature import OneHotEncoder, Normalizer, MinMaxScaler\n",
    "from pyspark.ml.linalg import SparseVector, DenseVector, Vectors, VectorUDT\n",
    "import numpy as np\n"
   ]
  },
  {
   "cell_type": "code",
   "execution_count": 3,
   "id": "15031158",
   "metadata": {},
   "outputs": [
    {
     "data": {
      "text/html": [
       "Current session configs: <tt>{'numExecutors': 12, 'driverMemory': '20g', 'proxyUser': 'jovyan', 'kind': 'pyspark'}</tt><br>"
      ],
      "text/plain": [
       "<IPython.core.display.HTML object>"
      ]
     },
     "metadata": {},
     "output_type": "display_data"
    },
    {
     "data": {
      "text/html": [
       "<table>\n",
       "<tr><th>ID</th><th>YARN Application ID</th><th>Kind</th><th>State</th><th>Spark UI</th><th>Driver log</th><th>User</th><th>Current session?</th></tr><tr><td>2</td><td>application_1673843097496_0003</td><td>pyspark</td><td>idle</td><td><a target=\"_blank\" href=\"http://ip-10-48-113-213.prod.tpgt-bi-kl.aws.vodafone.com.au:20888/proxy/application_1673843097496_0003/\">Link</a></td><td><a target=\"_blank\" href=\"http://ip-10-48-113-32.prod.tpgt-bi-kl.aws.vodafone.com.au:8042/node/containerlogs/container_1673843097496_0003_01_000001/livy\">Link</a></td><td>None</td><td>✔</td></tr></table>"
      ],
      "text/plain": [
       "<IPython.core.display.HTML object>"
      ]
     },
     "metadata": {},
     "output_type": "display_data"
    }
   ],
   "source": [
    "%info"
   ]
  },
  {
   "cell_type": "code",
   "execution_count": 11,
   "id": "54b17d98",
   "metadata": {},
   "outputs": [
    {
     "data": {
      "application/vnd.jupyter.widget-view+json": {
       "model_id": "",
       "version_major": 2,
       "version_minor": 0
      },
      "text/plain": [
       "FloatProgress(value=0.0, bar_style='info', description='Progress:', layout=Layout(height='25px', width='50%'),…"
      ]
     },
     "metadata": {},
     "output_type": "display_data"
    }
   ],
   "source": [
    "spark.conf.set('spark.default.parallelism', 1200)\n",
    "spark.conf.set('spark.sql.shuffle.partitions', 1200)\n",
    "spark.conf.set('spark.sql.autoBroadcastJoinThreshold', '-1')"
   ]
  },
  {
   "cell_type": "code",
   "execution_count": 15,
   "id": "8e8118cb",
   "metadata": {},
   "outputs": [
    {
     "data": {
      "application/vnd.jupyter.widget-view+json": {
       "model_id": "",
       "version_major": 2,
       "version_minor": 0
      },
      "text/plain": [
       "FloatProgress(value=0.0, bar_style='info', description='Progress:', layout=Layout(height='25px', width='50%'),…"
      ]
     },
     "metadata": {},
     "output_type": "display_data"
    }
   ],
   "source": [
    "@f.udf(returnType=VectorUDT())\n",
    "def sparse_vector_sum(vectors):\n",
    "    res = None\n",
    "    for vec in vectors:\n",
    "        if res is None:\n",
    "            res = vec\n",
    "        else:\n",
    "            res = np.add(vec, res)\n",
    "    return SparseVector(len(res), {k: v for k, v in enumerate(res) if v != 0})\n",
    "\n",
    "@f.udf(returnType=ArrayType(FloatType()))\n",
    "def to_dense(sparse_vector):\n",
    "    v = DenseVector(sparse_vector)\n",
    "    feature = [float(x) for x in v]\n",
    "    feature.append(0.0)  # adding util placeholder\n",
    "    return feature\n",
    "\n",
    "@f.udf(returnType=ArrayType(FloatType()))\n",
    "def to_dense_flat(sparse_vector):\n",
    "    v = DenseVector(sparse_vector)\n",
    "    feature = [float(x) for x in v]\n",
    "    return feature"
   ]
  },
  {
   "cell_type": "code",
   "execution_count": null,
   "id": "95669f18",
   "metadata": {},
   "outputs": [],
   "source": []
  },
  {
   "cell_type": "code",
   "execution_count": 23,
   "id": "dc207876",
   "metadata": {
    "scrolled": true
   },
   "outputs": [
    {
     "data": {
      "application/vnd.jupyter.widget-view+json": {
       "model_id": "",
       "version_major": 2,
       "version_minor": 0
      },
      "text/plain": [
       "FloatProgress(value=0.0, bar_style='info', description='Progress:', layout=Layout(height='25px', width='50%'),…"
      ]
     },
     "metadata": {},
     "output_type": "display_data"
    },
    {
     "name": "stdout",
     "output_type": "stream",
     "text": [
      "+----------+----+--------------------+--------------------+--------------------+---------------+------------------+--------+-------------------------+\n",
      "|   Subs_Id|hour|         sector_name|  event_code_feature|           cell_name|          state|       utilisation|trace_id|customer_experience_index|\n",
      "+----------+----+--------------------+--------------------+--------------------+---------------+------------------+--------+-------------------------+\n",
      "|2100006261|  01|202583_RandwickCe...|     (30,[13],[1.0])|202583_RandwickCe...|New South Wales|10.772307692307692|       0|                     97.0|\n",
      "|2100006261|  04|202583_RandwickCe...|      (30,[8],[1.0])|202583_RandwickCe...|New South Wales|12.544615384615383|       1|                     26.0|\n",
      "|2100006261|  07|202583_RandwickCe...|     (30,[13],[1.0])|202583_RandwickCe...|New South Wales|24.883076923076924|       2|                     93.0|\n",
      "|2100006261|  10|202583_RandwickCe...|      (30,[8],[1.0])|202583_RandwickCe...|New South Wales|25.113846153846154|       3|                     23.0|\n",
      "|2100006261|  12|202583_RandwickCe...|     (30,[13],[1.0])|202583_RandwickCe...|New South Wales|43.815384615384616|       4|                     87.0|\n",
      "|2100006261|  15|202583_RandwickCe...|      (30,[8],[1.0])|202583_RandwickCe...|New South Wales| 46.66769230769231|       5|                     16.0|\n",
      "|2100006261|  17|202583_RandwickCe...|     (30,[13],[1.0])|202583_RandwickCe...|New South Wales| 45.51692307692308|       6|                     86.0|\n",
      "|2100006261|  20|202583_RandwickCe...|      (30,[8],[1.0])|202583_RandwickCe...|New South Wales|  58.2523076923077|       7|                     13.0|\n",
      "|2100006274|  00|   227890_Dunheved_1|(30,[8,13],[1.0,2...|227890_Dunheved_L...|New South Wales|            23.775|       8|                     70.0|\n",
      "|2100006274|  03|   227890_Dunheved_1|      (30,[8],[1.0])|227890_Dunheved_L...|New South Wales|            11.275|       9|                     27.0|\n",
      "|2100006274|  08|   227890_Dunheved_1|      (30,[8],[1.0])|227890_Dunheved_L...|New South Wales|             44.75|      10|                     17.0|\n",
      "|2100006274|  10|   227890_Dunheved_1|     (30,[13],[1.0])|227890_Dunheved_L...|New South Wales|             34.58|      11|                     90.0|\n",
      "|2100006274|  13|   227890_Dunheved_1|      (30,[8],[1.0])|227890_Dunheved_L...|New South Wales|            35.915|      12|                     19.0|\n",
      "|2100006285|  01| 202286_StLeonards_1|      (30,[8],[1.0])|202286_StLeonards...|New South Wales| 9.258461538461537|      13|                     27.0|\n",
      "|2100006285|  02| 202286_StLeonards_1|     (30,[13],[1.0])|202286_StLeonards...|New South Wales|              5.64|      14|                     98.0|\n",
      "|2100006285|  05| 202286_StLeonards_1|      (30,[8],[1.0])|202286_StLeonards...|New South Wales|11.172307692307692|      15|                     27.0|\n",
      "|2100006285|  11| 202286_StLeonards_1|      (30,[8],[1.0])|202286_StLeonards...|New South Wales|43.036923076923074|      16|                     17.0|\n",
      "|2100006285|  13| 202286_StLeonards_1|     (30,[13],[1.0])|202286_StLeonards...|New South Wales| 42.10153846153847|      17|                     87.0|\n",
      "|2100006285|  16| 202286_StLeonards_1|(30,[7,13],[1.0,1...|202286_StLeonards...|New South Wales|             29.08|      18|                     55.0|\n",
      "|2100006285|  16| 202062_Castlecrag_2|(30,[5,12],[1.0,1...|202062_Castlecrag...|New South Wales|             35.49|      18|                     55.0|\n",
      "+----------+----+--------------------+--------------------+--------------------+---------------+------------------+--------+-------------------------+\n",
      "only showing top 20 rows"
     ]
    }
   ],
   "source": [
    "valid_flat_nsw = spark.read.parquet('s3://kl-prod-tpgt-knowledge-lake-sandpit/TempDir/tmp/case_study/valid_flat_nsw/')\n",
    "valid_flat_nsw = valid_flat_nsw.filter(f.col('utilisation').isNotNull())\n",
    "valid_flat_nsw.show()"
   ]
  },
  {
   "cell_type": "code",
   "execution_count": 34,
   "id": "d1c5a787",
   "metadata": {},
   "outputs": [
    {
     "data": {
      "application/vnd.jupyter.widget-view+json": {
       "model_id": "",
       "version_major": 2,
       "version_minor": 0
      },
      "text/plain": [
       "FloatProgress(value=0.0, bar_style='info', description='Progress:', layout=Layout(height='25px', width='50%'),…"
      ]
     },
     "metadata": {},
     "output_type": "display_data"
    },
    {
     "name": "stdout",
     "output_type": "stream",
     "text": [
      "DataFrame[Subs_Id: string, hour: string, sector_name: string, event_code_feature: vector, cell_name: string, state: string, utilisation: double, trace_id: int, customer_experience_index: float]"
     ]
    }
   ],
   "source": [
    "# use only one hr. reset trace_id\n",
    "valid_flat_nsw_hr = valid_flat_nsw.filter(f.col('hour') == '19').withColumn(\n",
    "    'trace_id', f.dense_rank().over(Window.orderBy('trace_id')) - 1\n",
    ")\n",
    "\n",
    "valid_flat_nsw_hr.persist()"
   ]
  },
  {
   "cell_type": "code",
   "execution_count": 36,
   "id": "0e3362f1",
   "metadata": {},
   "outputs": [
    {
     "data": {
      "application/vnd.jupyter.widget-view+json": {
       "model_id": "",
       "version_major": 2,
       "version_minor": 0
      },
      "text/plain": [
       "FloatProgress(value=0.0, bar_style='info', description='Progress:', layout=Layout(height='25px', width='50%'),…"
      ]
     },
     "metadata": {},
     "output_type": "display_data"
    },
    {
     "name": "stdout",
     "output_type": "stream",
     "text": [
      "+-------------+\n",
      "|max(trace_id)|\n",
      "+-------------+\n",
      "|       690625|\n",
      "+-------------+"
     ]
    }
   ],
   "source": [
    "valid_flat_nsw_hr.select(f.max('trace_id')).show()"
   ]
  },
  {
   "cell_type": "code",
   "execution_count": 37,
   "id": "ba550560",
   "metadata": {
    "scrolled": true
   },
   "outputs": [
    {
     "data": {
      "application/vnd.jupyter.widget-view+json": {
       "model_id": "",
       "version_major": 2,
       "version_minor": 0
      },
      "text/plain": [
       "FloatProgress(value=0.0, bar_style='info', description='Progress:', layout=Layout(height='25px', width='50%'),…"
      ]
     },
     "metadata": {},
     "output_type": "display_data"
    },
    {
     "name": "stdout",
     "output_type": "stream",
     "text": [
      "+--------+--------------------+-----+\n",
      "|trace_id|         sector_name|count|\n",
      "+--------+--------------------+-----+\n",
      "|    6477|   227598_LurneaM5_2|    6|\n",
      "|  121189|   228034_Rookwood_2|    6|\n",
      "|    7458|227544_RevesbyHei...|    6|\n",
      "|   12652|     227393_Coogee_3|    6|\n",
      "|   24858|202803_FairfieldS...|    6|\n",
      "|   28836|227350_BellevueHi...|    6|\n",
      "|   45843|228311_Mcmahonsso...|    6|\n",
      "|   56592|227818_WarwickFar...|    6|\n",
      "|   58226|227096_NorthBondi...|    6|\n",
      "|   61777|     227587_Sefton_2|    6|\n",
      "|   62236|227581_MountPritc...|    6|\n",
      "|   73120| 227365_Hurstville_3|    6|\n",
      "|   74322|227489_RedfernSou...|    6|\n",
      "|   90664| 227846_Werrington_3|    6|\n",
      "|   94096|227707_EppingSouth_3|    6|\n",
      "|   95126|227602_WestEpping...|    6|\n",
      "|  102550| 202934_Camperdown_1|    6|\n",
      "|  106076|227915_NarellenTo...|    6|\n",
      "|  111413|   228034_Rookwood_2|    6|\n",
      "|  112349|  202099_Penshurst_3|    6|\n",
      "+--------+--------------------+-----+\n",
      "only showing top 20 rows"
     ]
    }
   ],
   "source": [
    "valid_flat_nsw_hr.groupBy('trace_id', 'sector_name').count().orderBy(f.col('count').desc()).show()"
   ]
  },
  {
   "cell_type": "code",
   "execution_count": 38,
   "id": "00129227",
   "metadata": {
    "scrolled": true
   },
   "outputs": [
    {
     "data": {
      "application/vnd.jupyter.widget-view+json": {
       "model_id": "",
       "version_major": 2,
       "version_minor": 0
      },
      "text/plain": [
       "FloatProgress(value=0.0, bar_style='info', description='Progress:', layout=Layout(height='25px', width='50%'),…"
      ]
     },
     "metadata": {},
     "output_type": "display_data"
    },
    {
     "name": "stdout",
     "output_type": "stream",
     "text": [
      "+--------+--------------------+-----+\n",
      "|trace_id|           cell_name|count|\n",
      "+--------+--------------------+-----+\n",
      "|       0|228053_PicnicPoin...|    1|\n",
      "|       1|201645_Paddington...|    1|\n",
      "|       2|240028_Telarah_L1...|    1|\n",
      "|       3|201574_MarsfieldW...|    1|\n",
      "|       4|202647_Berrima_L0...|    1|\n",
      "|       4|202647_Berrima_L1...|    1|\n",
      "|       5|252006_RiverwoodS...|    1|\n",
      "|       6|240137_Morpeth_L1...|    1|\n",
      "|       6|240137_Morpeth_L1...|    1|\n",
      "|       6|240137_Morpeth_L0...|    1|\n",
      "|       7|227563_SaltPanCre...|    1|\n",
      "|       8|201656_CabbageTrl...|    1|\n",
      "|       8|201656_CabbageTrl...|    1|\n",
      "|       9|202644_BywongHill...|    1|\n",
      "|      10|241168_ManlyHospT...|    1|\n",
      "|      10|227811_ManlySouth...|    1|\n",
      "|      10|227811_ManlySouth...|    1|\n",
      "|      10|241168_ManlyHospT...|    1|\n",
      "|      11|201803_Penhust594...|    1|\n",
      "|      12|227535_Jannali_L0...|    1|\n",
      "+--------+--------------------+-----+\n",
      "only showing top 20 rows"
     ]
    }
   ],
   "source": [
    "valid_flat_nsw_hr.groupBy('trace_id', 'cell_name').count().orderBy(f.col('count').desc()).show()"
   ]
  },
  {
   "cell_type": "code",
   "execution_count": 39,
   "id": "b796e096",
   "metadata": {
    "scrolled": true
   },
   "outputs": [
    {
     "data": {
      "application/vnd.jupyter.widget-view+json": {
       "model_id": "",
       "version_major": 2,
       "version_minor": 0
      },
      "text/plain": [
       "FloatProgress(value=0.0, bar_style='info', description='Progress:', layout=Layout(height='25px', width='50%'),…"
      ]
     },
     "metadata": {},
     "output_type": "display_data"
    },
    {
     "name": "stdout",
     "output_type": "stream",
     "text": [
      "+--------+----------+-----+\n",
      "|trace_id|   Subs_Id|count|\n",
      "+--------+----------+-----+\n",
      "|  656178| 391540187|   68|\n",
      "|  578142| 390469037|   65|\n",
      "|  191279| 374119754|   65|\n",
      "|  473025| 388742141|   62|\n",
      "|  389801| 386296534|   61|\n",
      "|  348697| 384869344|   60|\n",
      "|     279|2100012126|   58|\n",
      "|  397985| 386559394|   58|\n",
      "|  191311| 374122733|   57|\n",
      "|  193764| 374649986|   57|\n",
      "|  422759| 387397008|   57|\n",
      "|  292425| 381393558|   56|\n",
      "|  499501| 389203341|   56|\n",
      "|  661590| 391601183|   56|\n",
      "|  235364| 378126148|   55|\n",
      "|  117005| 365078768|   55|\n",
      "|  409296| 386947531|   55|\n",
      "|  558031| 390180924|   54|\n",
      "|  617102| 391042030|   54|\n",
      "|   67515| 358302148|   54|\n",
      "+--------+----------+-----+\n",
      "only showing top 20 rows"
     ]
    }
   ],
   "source": [
    "valid_flat_nsw_hr.groupBy('trace_id', 'Subs_Id').count().orderBy(f.col('count').desc()).show()"
   ]
  },
  {
   "cell_type": "code",
   "execution_count": 40,
   "id": "8e78943a",
   "metadata": {},
   "outputs": [
    {
     "data": {
      "application/vnd.jupyter.widget-view+json": {
       "model_id": "",
       "version_major": 2,
       "version_minor": 0
      },
      "text/plain": [
       "FloatProgress(value=0.0, bar_style='info', description='Progress:', layout=Layout(height='25px', width='50%'),…"
      ]
     },
     "metadata": {},
     "output_type": "display_data"
    },
    {
     "name": "stdout",
     "output_type": "stream",
     "text": [
      "0"
     ]
    }
   ],
   "source": [
    "valid_flat_nsw_hr.filter(f.col('utilisation').isNull()).count()"
   ]
  },
  {
   "cell_type": "code",
   "execution_count": 54,
   "id": "cbd613e9",
   "metadata": {},
   "outputs": [
    {
     "data": {
      "application/vnd.jupyter.widget-view+json": {
       "model_id": "",
       "version_major": 2,
       "version_minor": 0
      },
      "text/plain": [
       "FloatProgress(value=0.0, bar_style='info', description='Progress:', layout=Layout(height='25px', width='50%'),…"
      ]
     },
     "metadata": {},
     "output_type": "display_data"
    }
   ],
   "source": [
    "@f.udf(returnType=ArrayType(ArrayType(StringType())))\n",
    "def construct_nodes(edge_input):\n",
    "    \"\"\"\n",
    "    node types:\n",
    "    0 - user\n",
    "    1 - cell\n",
    "    2 - sector\n",
    "    \"\"\"\n",
    "    node_list = []\n",
    "    for a in edge_input:\n",
    "        if [a[0], 0] not in node_list:\n",
    "            node_list.append([a[0], 0])\n",
    "        if [a[1], 1] not in node_list:\n",
    "            node_list.append([a[1], 1])\n",
    "        if [a[2], 2] not in node_list:\n",
    "            node_list.append([a[2], 2])\n",
    "    return node_list\n"
   ]
  },
  {
   "cell_type": "code",
   "execution_count": 55,
   "id": "46fede00",
   "metadata": {},
   "outputs": [
    {
     "data": {
      "application/vnd.jupyter.widget-view+json": {
       "model_id": "",
       "version_major": 2,
       "version_minor": 0
      },
      "text/plain": [
       "FloatProgress(value=0.0, bar_style='info', description='Progress:', layout=Layout(height='25px', width='50%'),…"
      ]
     },
     "metadata": {},
     "output_type": "display_data"
    }
   ],
   "source": [
    "# write node overview\n",
    "valid_flat_nsw_hr.groupBy('trace_id').agg(\n",
    "    construct_nodes(\n",
    "            f.collect_list(f.struct('Subs_Id', 'cell_name', 'sector_name'))\n",
    "        ).alias('node_list')\n",
    ").withColumn(\n",
    "    'node_id_type', f.explode('node_list')\n",
    ").drop('node_list').withColumn(\n",
    "    'node_name', f.col('node_id_type')[0]\n",
    ").withColumn(\n",
    "    'node_type', f.col('node_id_type')[1]\n",
    ").drop('node_id_type').withColumn(\n",
    "    'node_id', f.row_number().over(Window.partitionBy('trace_id').orderBy('node_type')) - 1\n",
    ").write.parquet('s3://kl-prod-tpgt-knowledge-lake-sandpit/TempDir/tmp/case_study/dataset_hr/node_overview/')"
   ]
  },
  {
   "cell_type": "code",
   "execution_count": 96,
   "id": "c29c0c33",
   "metadata": {},
   "outputs": [
    {
     "data": {
      "application/vnd.jupyter.widget-view+json": {
       "model_id": "",
       "version_major": 2,
       "version_minor": 0
      },
      "text/plain": [
       "FloatProgress(value=0.0, bar_style='info', description='Progress:', layout=Layout(height='25px', width='50%'),…"
      ]
     },
     "metadata": {},
     "output_type": "display_data"
    },
    {
     "name": "stdout",
     "output_type": "stream",
     "text": [
      "+--------+----------+--------------------+\n",
      "|trace_id|   Subs_Id|  event_code_feature|\n",
      "+--------+----------+--------------------+\n",
      "|       0|2100006348|      (30,[8],[1.0])|\n",
      "|       1|2100006351|      (30,[8],[1.0])|\n",
      "|       2|2100006360|     (30,[13],[1.0])|\n",
      "|       3|2100006447|(30,[10,13],[1.0,...|\n",
      "|       4|2100006452|     (30,[13],[9.0])|\n",
      "|       5|2100006479|      (30,[8],[1.0])|\n",
      "|       6|2100006486|(30,[11,12,13],[1...|\n",
      "|       7|2100006508|     (30,[13],[1.0])|\n",
      "|       8|2100006510|    (30,[13],[12.0])|\n",
      "|       9|2100006519|(30,[7,8],[1.0,1.0])|\n",
      "|      10|2100006522|(30,[7,13],[22.0,...|\n",
      "|      11|2100006525|(30,[7,8],[1.0,1.0])|\n",
      "|      12|2100006528|(30,[11,12,13],[1...|\n",
      "|      13|2100006543|(30,[6,7,8,11,13,...|\n",
      "|      14|2100006548|      (30,[8],[1.0])|\n",
      "|      15|2100006553|     (30,[13],[3.0])|\n",
      "|      16|2100006566|(30,[8,11,12,13],...|\n",
      "|      17|2100006571|(30,[9,10,13,16],...|\n",
      "|      18|2100006597|(30,[7,8,11,12,13...|\n",
      "|      19|2100006598|     (30,[13],[1.0])|\n",
      "+--------+----------+--------------------+\n",
      "only showing top 20 rows\n",
      "\n",
      "690626"
     ]
    }
   ],
   "source": [
    "subs_feature = valid_flat_nsw_hr.select(\n",
    "    'trace_id', 'Subs_Id', 'cell_name', 'sector_name', 'event_code_feature', 'utilisation'\n",
    ").groupBy('trace_id', 'Subs_Id').agg(\n",
    "    sparse_vector_sum(f.collect_list('event_code_feature')).alias('event_code_feature')\n",
    ")\n",
    "subs_feature.persist()\n",
    "subs_feature.show()\n",
    "subs_feature.count()"
   ]
  },
  {
   "cell_type": "code",
   "execution_count": 97,
   "id": "34d9a85f",
   "metadata": {},
   "outputs": [
    {
     "data": {
      "application/vnd.jupyter.widget-view+json": {
       "model_id": "",
       "version_major": 2,
       "version_minor": 0
      },
      "text/plain": [
       "FloatProgress(value=0.0, bar_style='info', description='Progress:', layout=Layout(height='25px', width='50%'),…"
      ]
     },
     "metadata": {},
     "output_type": "display_data"
    },
    {
     "name": "stdout",
     "output_type": "stream",
     "text": [
      "+--------+--------------------+--------------------+\n",
      "|trace_id|           cell_name|  event_code_feature|\n",
      "+--------+--------------------+--------------------+\n",
      "|       0|228053_PicnicPoin...|      (30,[8],[1.0])|\n",
      "|       1|201645_Paddington...|      (30,[8],[1.0])|\n",
      "|       2|240028_Telarah_L1...|     (30,[13],[1.0])|\n",
      "|       3|201574_MarsfieldW...|(30,[10,13],[1.0,...|\n",
      "|       4|202647_Berrima_L0...|     (30,[13],[8.0])|\n",
      "|       4|202647_Berrima_L1...|     (30,[13],[1.0])|\n",
      "|       5|252006_RiverwoodS...|      (30,[8],[1.0])|\n",
      "|       6|240137_Morpeth_L0...|(30,[12,13],[1.0,...|\n",
      "|       6|240137_Morpeth_L1...|(30,[11,13],[1.0,...|\n",
      "|       6|240137_Morpeth_L1...|     (30,[13],[1.0])|\n",
      "|       7|227563_SaltPanCre...|     (30,[13],[1.0])|\n",
      "|       8|201656_CabbageTrl...|     (30,[13],[6.0])|\n",
      "|       8|201656_CabbageTrl...|     (30,[13],[6.0])|\n",
      "|       9|202644_BywongHill...|(30,[7,8],[1.0,1.0])|\n",
      "|      10|227811_ManlySouth...|(30,[7,13],[10.0,...|\n",
      "|      10|227811_ManlySouth...|(30,[7,13],[2.0,1...|\n",
      "|      10|241168_ManlyHospT...|(30,[7,13],[9.0,2...|\n",
      "|      10|241168_ManlyHospT...|      (30,[7],[1.0])|\n",
      "|      11|201803_Penhust594...|(30,[7,8],[1.0,1.0])|\n",
      "|      12|227535_Jannali_L0...|     (30,[13],[1.0])|\n",
      "+--------+--------------------+--------------------+\n",
      "only showing top 20 rows\n",
      "\n",
      "2382518"
     ]
    }
   ],
   "source": [
    "cell_feature = valid_flat_nsw_hr.select(\n",
    "    'trace_id', 'Subs_Id', 'cell_name', 'sector_name', 'event_code_feature', 'utilisation'\n",
    ").groupBy('trace_id', 'cell_name').agg(\n",
    "    sparse_vector_sum(f.collect_list('event_code_feature')).alias('event_code_feature')\n",
    ")\n",
    "cell_feature.persist()\n",
    "cell_feature.show()\n",
    "cell_feature.count()"
   ]
  },
  {
   "cell_type": "code",
   "execution_count": 95,
   "id": "0ee24135",
   "metadata": {},
   "outputs": [
    {
     "data": {
      "application/vnd.jupyter.widget-view+json": {
       "model_id": "",
       "version_major": 2,
       "version_minor": 0
      },
      "text/plain": [
       "FloatProgress(value=0.0, bar_style='info', description='Progress:', layout=Layout(height='25px', width='50%'),…"
      ]
     },
     "metadata": {},
     "output_type": "display_data"
    },
    {
     "name": "stdout",
     "output_type": "stream",
     "text": [
      "+--------+--------------------+--------------------+------------------+\n",
      "|trace_id|         sector_name|  event_code_feature|       utilisation|\n",
      "+--------+--------------------+--------------------+------------------+\n",
      "|       0|228053_PicnicPoint_3|      (30,[8],[1.0])|28.719999999999995|\n",
      "|       1|201645_Paddington...|      (30,[8],[1.0])|33.221538461538465|\n",
      "|       2|    240028_Telarah_2|     (30,[13],[1.0])|            17.805|\n",
      "|       3|201574_MarsfieldW...|(30,[10,13],[1.0,...| 57.44615384615385|\n",
      "|       4|    202647_Berrima_1|     (30,[13],[9.0])|15.850000000000001|\n",
      "|       5|252006_RiverwoodS...|      (30,[8],[1.0])| 90.54666666666667|\n",
      "|       6|    240137_Morpeth_3|(30,[11,12,13],[1...|             27.92|\n",
      "|       7|227563_SaltPanCre...|     (30,[13],[1.0])| 70.74153846153847|\n",
      "|       8|201656_CabbageTrl...|    (30,[13],[12.0])|            70.075|\n",
      "|       9| 202644_BywongHill_2|(30,[7,8],[1.0,1.0])| 52.54666666666666|\n",
      "|      10| 227811_ManlySouth_1|(30,[7,13],[12.0,...|54.464615384615385|\n",
      "|      10|241168_ManlyHospT...|(30,[7,13],[9.0,2...|32.027692307692305|\n",
      "|      10|241168_ManlyHospT...|      (30,[7],[1.0])| 8.556923076923077|\n",
      "|      11|201803_Penhust594...|(30,[7,8],[1.0,1.0])|             97.82|\n",
      "|      12|    227535_Jannali_1|     (30,[13],[1.0])| 8.280000000000001|\n",
      "|      12|    227535_Jannali_3|(30,[11,12,13],[1...|            56.985|\n",
      "|      13|201710_LiverpoolN...|(30,[7,8],[1.0,1.0])|             90.68|\n",
      "|      13|  202148_Liverpool_2|(30,[7,8,11,13,15...| 56.19166666666667|\n",
      "|      13|     227547_Casula_1|(30,[6,7,13],[1.0...| 74.96615384615384|\n",
      "|      14| 227170_BunganHead_2|      (30,[8],[1.0])| 33.58181818181818|\n",
      "+--------+--------------------+--------------------+------------------+\n",
      "only showing top 20 rows\n",
      "\n",
      "1709835"
     ]
    }
   ],
   "source": [
    "sector_feature = valid_flat_nsw_hr.select(\n",
    "    'trace_id', 'Subs_Id', 'cell_name', 'sector_name', 'event_code_feature', 'utilisation'\n",
    ").groupBy('trace_id', 'sector_name').agg(\n",
    "    sparse_vector_sum(f.collect_list('event_code_feature')).alias('event_code_feature'),\n",
    "    f.max('utilisation').alias('utilisation')\n",
    ")\n",
    "sector_feature.persist()\n",
    "sector_feature.show()\n",
    "sector_feature.count()"
   ]
  },
  {
   "cell_type": "code",
   "execution_count": 98,
   "id": "814ea48c",
   "metadata": {},
   "outputs": [
    {
     "data": {
      "application/vnd.jupyter.widget-view+json": {
       "model_id": "",
       "version_major": 2,
       "version_minor": 0
      },
      "text/plain": [
       "FloatProgress(value=0.0, bar_style='info', description='Progress:', layout=Layout(height='25px', width='50%'),…"
      ]
     },
     "metadata": {},
     "output_type": "display_data"
    }
   ],
   "source": [
    "normaler = Normalizer(inputCol='event_code_feature', outputCol='feature_norm', p=1)"
   ]
  },
  {
   "cell_type": "code",
   "execution_count": 99,
   "id": "6b9ff4ca",
   "metadata": {},
   "outputs": [
    {
     "data": {
      "application/vnd.jupyter.widget-view+json": {
       "model_id": "",
       "version_major": 2,
       "version_minor": 0
      },
      "text/plain": [
       "FloatProgress(value=0.0, bar_style='info', description='Progress:', layout=Layout(height='25px', width='50%'),…"
      ]
     },
     "metadata": {},
     "output_type": "display_data"
    },
    {
     "name": "stdout",
     "output_type": "stream",
     "text": [
      "+--------+----------+--------------------+--------------------+\n",
      "|trace_id|   Subs_Id|  event_code_feature|        feature_norm|\n",
      "+--------+----------+--------------------+--------------------+\n",
      "|       0|2100006348|      (30,[8],[1.0])|      (30,[8],[1.0])|\n",
      "|       1|2100006351|      (30,[8],[1.0])|      (30,[8],[1.0])|\n",
      "|       2|2100006360|     (30,[13],[1.0])|     (30,[13],[1.0])|\n",
      "|       3|2100006447|(30,[10,13],[1.0,...|(30,[10,13],[0.25...|\n",
      "|       4|2100006452|     (30,[13],[9.0])|     (30,[13],[1.0])|\n",
      "+--------+----------+--------------------+--------------------+\n",
      "only showing top 5 rows\n",
      "\n",
      "+--------+--------------------+--------------------+--------------------+\n",
      "|trace_id|           cell_name|  event_code_feature|        feature_norm|\n",
      "+--------+--------------------+--------------------+--------------------+\n",
      "|       0|228053_PicnicPoin...|      (30,[8],[1.0])|      (30,[8],[1.0])|\n",
      "|       1|201645_Paddington...|      (30,[8],[1.0])|      (30,[8],[1.0])|\n",
      "|       2|240028_Telarah_L1...|     (30,[13],[1.0])|     (30,[13],[1.0])|\n",
      "|       3|201574_MarsfieldW...|(30,[10,13],[1.0,...|(30,[10,13],[0.25...|\n",
      "|       4|202647_Berrima_L0...|     (30,[13],[8.0])|     (30,[13],[1.0])|\n",
      "+--------+--------------------+--------------------+--------------------+\n",
      "only showing top 5 rows\n",
      "\n",
      "+--------+----------------------+----------------------+------------------+------------------------+\n",
      "|trace_id|sector_name           |event_code_feature    |utilisation       |feature_norm            |\n",
      "+--------+----------------------+----------------------+------------------+------------------------+\n",
      "|0       |228053_PicnicPoint_3  |(30,[8],[1.0])        |28.719999999999995|(30,[8],[1.0])          |\n",
      "|1       |201645_PaddingtonNth_2|(30,[8],[1.0])        |33.221538461538465|(30,[8],[1.0])          |\n",
      "|2       |240028_Telarah_2      |(30,[13],[1.0])       |17.805            |(30,[13],[1.0])         |\n",
      "|3       |201574_MarsfieldWest_3|(30,[10,13],[1.0,3.0])|57.44615384615385 |(30,[10,13],[0.25,0.75])|\n",
      "|4       |202647_Berrima_1      |(30,[13],[9.0])       |15.850000000000001|(30,[13],[1.0])         |\n",
      "+--------+----------------------+----------------------+------------------+------------------------+\n",
      "only showing top 5 rows"
     ]
    }
   ],
   "source": [
    "subs_feature = normaler.transform(subs_feature)\n",
    "cell_feature = normaler.transform(cell_feature)\n",
    "sector_feature = normaler.transform(sector_feature)\n",
    "\n",
    "subs_feature.show(5)\n",
    "cell_feature.show(5)\n",
    "sector_feature.show(5, False)"
   ]
  },
  {
   "cell_type": "code",
   "execution_count": 101,
   "id": "38096755",
   "metadata": {},
   "outputs": [
    {
     "data": {
      "application/vnd.jupyter.widget-view+json": {
       "model_id": "",
       "version_major": 2,
       "version_minor": 0
      },
      "text/plain": [
       "FloatProgress(value=0.0, bar_style='info', description='Progress:', layout=Layout(height='25px', width='50%'),…"
      ]
     },
     "metadata": {},
     "output_type": "display_data"
    }
   ],
   "source": [
    "@f.udf(returnType=VectorUDT())\n",
    "def add_sparse31(v1, val):\n",
    "    v1d = dict(zip(v1.indices, v1.values))\n",
    "    new_idx = v1.size\n",
    "    v1d[new_idx] = val\n",
    "    return SparseVector(new_idx+1, {k: v for k, v in v1d.items() if v != 0.0})"
   ]
  },
  {
   "cell_type": "code",
   "execution_count": 103,
   "id": "1555ddd1",
   "metadata": {},
   "outputs": [
    {
     "data": {
      "application/vnd.jupyter.widget-view+json": {
       "model_id": "",
       "version_major": 2,
       "version_minor": 0
      },
      "text/plain": [
       "FloatProgress(value=0.0, bar_style='info', description='Progress:', layout=Layout(height='25px', width='50%'),…"
      ]
     },
     "metadata": {},
     "output_type": "display_data"
    }
   ],
   "source": [
    "# covert utilisation to 0-1\n",
    "sector_feature = sector_feature.withColumn('utilisation', f.col('utilisation')/100.0)"
   ]
  },
  {
   "cell_type": "code",
   "execution_count": 104,
   "id": "7ffeea52",
   "metadata": {},
   "outputs": [
    {
     "data": {
      "application/vnd.jupyter.widget-view+json": {
       "model_id": "",
       "version_major": 2,
       "version_minor": 0
      },
      "text/plain": [
       "FloatProgress(value=0.0, bar_style='info', description='Progress:', layout=Layout(height='25px', width='50%'),…"
      ]
     },
     "metadata": {},
     "output_type": "display_data"
    }
   ],
   "source": [
    "subs_feature = subs_feature.withColumn('util_vec', add_sparse31(f.col('feature_norm'), f.lit(0)))\n",
    "cell_feature = cell_feature.withColumn('util_vec', add_sparse31(f.col('feature_norm'), f.lit(0)))\n",
    "sector_feature = sector_feature.withColumn('util_vec', add_sparse31(f.col('feature_norm'), f.col('utilisation')))"
   ]
  },
  {
   "cell_type": "code",
   "execution_count": 105,
   "id": "594d0444",
   "metadata": {
    "scrolled": true
   },
   "outputs": [
    {
     "data": {
      "application/vnd.jupyter.widget-view+json": {
       "model_id": "",
       "version_major": 2,
       "version_minor": 0
      },
      "text/plain": [
       "FloatProgress(value=0.0, bar_style='info', description='Progress:', layout=Layout(height='25px', width='50%'),…"
      ]
     },
     "metadata": {},
     "output_type": "display_data"
    },
    {
     "name": "stdout",
     "output_type": "stream",
     "text": [
      "+--------+----------+------------------+--------------+--------------+\n",
      "|trace_id|Subs_Id   |event_code_feature|feature_norm  |util_vec      |\n",
      "+--------+----------+------------------+--------------+--------------+\n",
      "|0       |2100006348|(30,[8],[1.0])    |(30,[8],[1.0])|(31,[8],[1.0])|\n",
      "|1       |2100006351|(30,[8],[1.0])    |(30,[8],[1.0])|(31,[8],[1.0])|\n",
      "+--------+----------+------------------+--------------+--------------+\n",
      "only showing top 2 rows\n",
      "\n",
      "+--------+---------------------------+------------------+--------------+--------------+\n",
      "|trace_id|cell_name                  |event_code_feature|feature_norm  |util_vec      |\n",
      "+--------+---------------------------+------------------+--------------+--------------+\n",
      "|0       |228053_PicnicPoint_L21C_3  |(30,[8],[1.0])    |(30,[8],[1.0])|(31,[8],[1.0])|\n",
      "|1       |201645_PaddingtonNth_L21C_2|(30,[8],[1.0])    |(30,[8],[1.0])|(31,[8],[1.0])|\n",
      "+--------+---------------------------+------------------+--------------+--------------+\n",
      "only showing top 2 rows\n",
      "\n",
      "+--------+----------------------+------------------+-------------------+--------------+-------------------------------------+\n",
      "|trace_id|sector_name           |event_code_feature|utilisation        |feature_norm  |util_vec                             |\n",
      "+--------+----------------------+------------------+-------------------+--------------+-------------------------------------+\n",
      "|0       |228053_PicnicPoint_3  |(30,[8],[1.0])    |0.28719999999999996|(30,[8],[1.0])|(31,[8,30],[1.0,0.28719999999999996])|\n",
      "|1       |201645_PaddingtonNth_2|(30,[8],[1.0])    |0.33221538461538463|(30,[8],[1.0])|(31,[8,30],[1.0,0.33221538461538463])|\n",
      "+--------+----------------------+------------------+-------------------+--------------+-------------------------------------+\n",
      "only showing top 2 rows"
     ]
    }
   ],
   "source": [
    "subs_feature.show(2, False)\n",
    "cell_feature.show(2, False)\n",
    "sector_feature.show(2, False)"
   ]
  },
  {
   "cell_type": "code",
   "execution_count": 72,
   "id": "9021ec7c",
   "metadata": {},
   "outputs": [
    {
     "data": {
      "application/vnd.jupyter.widget-view+json": {
       "model_id": "",
       "version_major": 2,
       "version_minor": 0
      },
      "text/plain": [
       "FloatProgress(value=0.0, bar_style='info', description='Progress:', layout=Layout(height='25px', width='50%'),…"
      ]
     },
     "metadata": {},
     "output_type": "display_data"
    }
   ],
   "source": [
    "# scaler = MinMaxScaler(inputCol='util_vec', outputCol='feature_scaled')\n",
    "# subs_feature = scaler.fit(subs_feature).transform(subs_feature)\n",
    "\n",
    "# scaler = MinMaxScaler(inputCol='util_vec', outputCol='feature_scaled')\n",
    "# cell_feature = scaler.fit(cell_feature).transform(cell_feature)\n",
    "\n",
    "# scaler = MinMaxScaler(inputCol='util_vec', outputCol='feature_scaled')\n",
    "# sector_feature = scaler.fit(sector_feature).transform(sector_feature)"
   ]
  },
  {
   "cell_type": "code",
   "execution_count": 100,
   "id": "c9c25959",
   "metadata": {},
   "outputs": [
    {
     "data": {
      "application/vnd.jupyter.widget-view+json": {
       "model_id": "",
       "version_major": 2,
       "version_minor": 0
      },
      "text/plain": [
       "FloatProgress(value=0.0, bar_style='info', description='Progress:', layout=Layout(height='25px', width='50%'),…"
      ]
     },
     "metadata": {},
     "output_type": "display_data"
    }
   ],
   "source": [
    "# subs_feature.show(2, False)\n",
    "# cell_feature.show(2, False)\n",
    "# sector_feature.show(2, False)"
   ]
  },
  {
   "cell_type": "code",
   "execution_count": 75,
   "id": "a0755280",
   "metadata": {},
   "outputs": [
    {
     "data": {
      "application/vnd.jupyter.widget-view+json": {
       "model_id": "",
       "version_major": 2,
       "version_minor": 0
      },
      "text/plain": [
       "FloatProgress(value=0.0, bar_style='info', description='Progress:', layout=Layout(height='25px', width='50%'),…"
      ]
     },
     "metadata": {},
     "output_type": "display_data"
    }
   ],
   "source": [
    "# subs_feature.write.parquet('s3://kl-prod-tpgt-knowledge-lake-sandpit/TempDir/tmp/case_study/dataset_hr/subs_feature/')\n",
    "# cell_feature.write.parquet('s3://kl-prod-tpgt-knowledge-lake-sandpit/TempDir/tmp/case_study/dataset_hr/cell_feature/')\n",
    "# sector_feature.write.parquet('s3://kl-prod-tpgt-knowledge-lake-sandpit/TempDir/tmp/case_study/dataset_hr/sector_feature/')\n",
    "\n",
    "# subs_feature = spark.read.parquet('s3://kl-prod-tpgt-knowledge-lake-sandpit/TempDir/tmp/case_study/dataset_hr/subs_feature/')\n",
    "# cell_feature = spark.read.parquet('s3://kl-prod-tpgt-knowledge-lake-sandpit/TempDir/tmp/case_study/dataset_hr/cell_feature/')\n",
    "# sector_feature = spark.read.parquet('s3://kl-prod-tpgt-knowledge-lake-sandpit/TempDir/tmp/case_study/dataset_hr/sector_feature/')\n",
    "\n"
   ]
  },
  {
   "cell_type": "code",
   "execution_count": 106,
   "id": "25d055b1",
   "metadata": {},
   "outputs": [
    {
     "data": {
      "application/vnd.jupyter.widget-view+json": {
       "model_id": "",
       "version_major": 2,
       "version_minor": 0
      },
      "text/plain": [
       "FloatProgress(value=0.0, bar_style='info', description='Progress:', layout=Layout(height='25px', width='50%'),…"
      ]
     },
     "metadata": {},
     "output_type": "display_data"
    },
    {
     "name": "stdout",
     "output_type": "stream",
     "text": [
      "+--------+----------+--------------------+\n",
      "|trace_id| node_name|            util_vec|\n",
      "+--------+----------+--------------------+\n",
      "|       0|2100006348|      (31,[8],[1.0])|\n",
      "|       1|2100006351|      (31,[8],[1.0])|\n",
      "|       2|2100006360|     (31,[13],[1.0])|\n",
      "|       3|2100006447|(31,[10,13],[0.25...|\n",
      "|       4|2100006452|     (31,[13],[1.0])|\n",
      "|       5|2100006479|      (31,[8],[1.0])|\n",
      "|       6|2100006486|(31,[11,12,13],[0...|\n",
      "|       7|2100006508|     (31,[13],[1.0])|\n",
      "|       8|2100006510|     (31,[13],[1.0])|\n",
      "|       9|2100006519|(31,[7,8],[0.5,0.5])|\n",
      "|      10|2100006522|(31,[7,13],[0.333...|\n",
      "|      11|2100006525|(31,[7,8],[0.5,0.5])|\n",
      "|      12|2100006528|(31,[11,12,13],[0...|\n",
      "|      13|2100006543|(31,[6,7,8,11,13,...|\n",
      "|      14|2100006548|      (31,[8],[1.0])|\n",
      "|      15|2100006553|     (31,[13],[1.0])|\n",
      "|      16|2100006566|(31,[8,11,12,13],...|\n",
      "|      17|2100006571|(31,[9,10,13,16],...|\n",
      "|      18|2100006597|(31,[7,8,11,12,13...|\n",
      "|      19|2100006598|     (31,[13],[1.0])|\n",
      "+--------+----------+--------------------+\n",
      "only showing top 20 rows"
     ]
    }
   ],
   "source": [
    "node_feature = subs_feature.select('trace_id', f.col('Subs_Id').alias('node_name'), 'util_vec').union(\n",
    "    cell_feature.select('trace_id', f.col('cell_name').alias('node_name'), 'util_vec')\n",
    ").union(\n",
    "    sector_feature.select('trace_id', f.col('sector_name').alias('node_name'), 'util_vec')\n",
    ")\n",
    "\n",
    "node_feature.show()"
   ]
  },
  {
   "cell_type": "code",
   "execution_count": 107,
   "id": "2196800d",
   "metadata": {},
   "outputs": [
    {
     "data": {
      "application/vnd.jupyter.widget-view+json": {
       "model_id": "",
       "version_major": 2,
       "version_minor": 0
      },
      "text/plain": [
       "FloatProgress(value=0.0, bar_style='info', description='Progress:', layout=Layout(height='25px', width='50%'),…"
      ]
     },
     "metadata": {},
     "output_type": "display_data"
    },
    {
     "name": "stdout",
     "output_type": "stream",
     "text": [
      "+--------+-------------------------+-------------------------------------+\n",
      "|trace_id|node_name                |util_vec                             |\n",
      "+--------+-------------------------+-------------------------------------+\n",
      "|0       |2100006348               |(31,[8],[1.0])                       |\n",
      "|0       |228053_PicnicPoint_L21C_3|(31,[8],[1.0])                       |\n",
      "|0       |228053_PicnicPoint_3     |(31,[8,30],[1.0,0.28719999999999996])|\n",
      "+--------+-------------------------+-------------------------------------+"
     ]
    }
   ],
   "source": [
    "node_feature.filter('trace_id = 0').show(10, False)"
   ]
  },
  {
   "cell_type": "code",
   "execution_count": 108,
   "id": "381fdab0",
   "metadata": {},
   "outputs": [
    {
     "data": {
      "application/vnd.jupyter.widget-view+json": {
       "model_id": "",
       "version_major": 2,
       "version_minor": 0
      },
      "text/plain": [
       "FloatProgress(value=0.0, bar_style='info', description='Progress:', layout=Layout(height='25px', width='50%'),…"
      ]
     },
     "metadata": {},
     "output_type": "display_data"
    },
    {
     "name": "stdout",
     "output_type": "stream",
     "text": [
      "+--------+---------------------------+-------------------------------------+\n",
      "|trace_id|node_name                  |util_vec                             |\n",
      "+--------+---------------------------+-------------------------------------+\n",
      "|1       |2100006351                 |(31,[8],[1.0])                       |\n",
      "|1       |201645_PaddingtonNth_L21C_2|(31,[8],[1.0])                       |\n",
      "|1       |201645_PaddingtonNth_2     |(31,[8,30],[1.0,0.33221538461538463])|\n",
      "+--------+---------------------------+-------------------------------------+"
     ]
    }
   ],
   "source": [
    "node_feature.filter('trace_id = 1').show(10, False)"
   ]
  },
  {
   "cell_type": "code",
   "execution_count": 88,
   "id": "b810264b",
   "metadata": {},
   "outputs": [
    {
     "data": {
      "application/vnd.jupyter.widget-view+json": {
       "model_id": "",
       "version_major": 2,
       "version_minor": 0
      },
      "text/plain": [
       "FloatProgress(value=0.0, bar_style='info', description='Progress:', layout=Layout(height='25px', width='50%'),…"
      ]
     },
     "metadata": {},
     "output_type": "display_data"
    }
   ],
   "source": [
    "cei_df = spark.read.parquet('s3://kl-prod-bi-analy-data-extract/features/kl-prod/Mobility/customer_exp_index_v3/part_dt=2023-01-11/')"
   ]
  },
  {
   "cell_type": "code",
   "execution_count": 111,
   "id": "73133fa0",
   "metadata": {},
   "outputs": [
    {
     "data": {
      "application/vnd.jupyter.widget-view+json": {
       "model_id": "",
       "version_major": 2,
       "version_minor": 0
      },
      "text/plain": [
       "FloatProgress(value=0.0, bar_style='info', description='Progress:', layout=Layout(height='25px', width='50%'),…"
      ]
     },
     "metadata": {},
     "output_type": "display_data"
    },
    {
     "name": "stdout",
     "output_type": "stream",
     "text": [
      "+----------+-------------------------------+-----------------------------+-------------------------+\n",
      "|   Subs_Id|customer_experience_utilisation|customer_experience_irregular|customer_experience_index|\n",
      "+----------+-------------------------------+-----------------------------+-------------------------+\n",
      "|2100006519|                           75.0|                         95.0|                     89.0|\n",
      "|2100006351|                           67.0|                          0.0|                     20.0|\n",
      "+----------+-------------------------------+-----------------------------+-------------------------+"
     ]
    }
   ],
   "source": [
    "cei_df.filter(\n",
    "    \"Subs_Id in ('2100006519', '2100006351') AND local_hr = 19\"\n",
    ").select('Subs_Id', \n",
    "         'customer_experience_utilisation', 'customer_experience_irregular', 'customer_experience_index').show()"
   ]
  },
  {
   "cell_type": "code",
   "execution_count": 112,
   "id": "799b2aad",
   "metadata": {},
   "outputs": [
    {
     "data": {
      "application/vnd.jupyter.widget-view+json": {
       "model_id": "",
       "version_major": 2,
       "version_minor": 0
      },
      "text/plain": [
       "FloatProgress(value=0.0, bar_style='info', description='Progress:', layout=Layout(height='25px', width='50%'),…"
      ]
     },
     "metadata": {},
     "output_type": "display_data"
    },
    {
     "name": "stdout",
     "output_type": "stream",
     "text": [
      "+----------+----+--------------------+--------------------+--------------------+---------------+------------------+--------+-------------------------+\n",
      "|   Subs_Id|hour|         sector_name|  event_code_feature|           cell_name|          state|       utilisation|trace_id|customer_experience_index|\n",
      "+----------+----+--------------------+--------------------+--------------------+---------------+------------------+--------+-------------------------+\n",
      "|2100006351|  19|201645_Paddington...|      (30,[8],[1.0])|201645_Paddington...|New South Wales|33.221538461538465|       1|                     20.0|\n",
      "|2100006519|  19| 202644_BywongHill_2|(30,[7,8],[1.0,1.0])|202644_BywongHill...|New South Wales| 52.54666666666666|       9|                     89.0|\n",
      "+----------+----+--------------------+--------------------+--------------------+---------------+------------------+--------+-------------------------+"
     ]
    }
   ],
   "source": [
    "valid_flat_nsw_hr.filter(\n",
    "    \"Subs_Id in ('2100006519', '2100006351') AND hour = 19\"\n",
    ").show()"
   ]
  },
  {
   "cell_type": "code",
   "execution_count": 110,
   "id": "cbb31802",
   "metadata": {
    "scrolled": true
   },
   "outputs": [
    {
     "data": {
      "application/vnd.jupyter.widget-view+json": {
       "model_id": "",
       "version_major": 2,
       "version_minor": 0
      },
      "text/plain": [
       "FloatProgress(value=0.0, bar_style='info', description='Progress:', layout=Layout(height='25px', width='50%'),…"
      ]
     },
     "metadata": {},
     "output_type": "display_data"
    },
    {
     "name": "stdout",
     "output_type": "stream",
     "text": [
      "+----------+----+--------------------+--------------------+--------------------+---------------+------------------+--------+-------------------------+\n",
      "|   Subs_Id|hour|         sector_name|  event_code_feature|           cell_name|          state|       utilisation|trace_id|customer_experience_index|\n",
      "+----------+----+--------------------+--------------------+--------------------+---------------+------------------+--------+-------------------------+\n",
      "|2100006360|  19|    240028_Telarah_2|     (30,[13],[1.0])|240028_Telarah_L1...|New South Wales|            17.805|       2|                    100.0|\n",
      "|2100006452|  19|    202647_Berrima_1|     (30,[13],[8.0])|202647_Berrima_L0...|New South Wales|15.850000000000001|       4|                     95.0|\n",
      "|2100006452|  19|    202647_Berrima_1|     (30,[13],[1.0])|202647_Berrima_L1...|New South Wales|15.850000000000001|       4|                     95.0|\n",
      "|2100006486|  19|    240137_Morpeth_3|     (30,[13],[1.0])|240137_Morpeth_L1...|New South Wales|             27.92|       6|                     74.0|\n",
      "|2100006486|  19|    240137_Morpeth_3|(30,[11,13],[1.0,...|240137_Morpeth_L1...|New South Wales|             27.92|       6|                     74.0|\n",
      "|2100006486|  19|    240137_Morpeth_3|(30,[12,13],[1.0,...|240137_Morpeth_L0...|New South Wales|             27.92|       6|                     74.0|\n",
      "|2100006508|  19|227563_SaltPanCre...|     (30,[13],[1.0])|227563_SaltPanCre...|New South Wales| 70.74153846153847|       7|                     99.0|\n",
      "|2100006510|  19|201656_CabbageTrl...|     (30,[13],[6.0])|201656_CabbageTrl...|New South Wales|            70.075|       8|                     79.0|\n",
      "|2100006510|  19|201656_CabbageTrl...|     (30,[13],[6.0])|201656_CabbageTrl...|New South Wales|            70.075|       8|                     79.0|\n",
      "|2100006519|  19| 202644_BywongHill_2|(30,[7,8],[1.0,1.0])|202644_BywongHill...|New South Wales| 52.54666666666666|       9|                     89.0|\n",
      "|2100006522|  19|241168_ManlyHospT...|      (30,[7],[1.0])|241168_ManlyHospT...|New South Wales| 8.556923076923077|      10|                     90.0|\n",
      "|2100006522|  19| 227811_ManlySouth_1|(30,[7,13],[10.0,...|227811_ManlySouth...|New South Wales|54.464615384615385|      10|                     90.0|\n",
      "|2100006522|  19| 227811_ManlySouth_1|(30,[7,13],[2.0,1...|227811_ManlySouth...|New South Wales|54.464615384615385|      10|                     90.0|\n",
      "|2100006522|  19|241168_ManlyHospT...|(30,[7,13],[9.0,2...|241168_ManlyHospT...|New South Wales|32.027692307692305|      10|                     90.0|\n",
      "|2100006528|  19|    227535_Jannali_3|(30,[11,12,13],[1...|227535_Jannali_L0...|New South Wales|            56.985|      12|                     75.0|\n",
      "|2100006528|  19|    227535_Jannali_3|     (30,[13],[1.0])|227535_Jannali_L1...|New South Wales|            56.985|      12|                     75.0|\n",
      "|2100006528|  19|    227535_Jannali_3|     (30,[13],[4.0])|227535_Jannali_L1...|New South Wales|            56.985|      12|                     75.0|\n",
      "|2100006528|  19|    227535_Jannali_1|     (30,[13],[1.0])|227535_Jannali_L0...|New South Wales| 8.280000000000001|      12|                     75.0|\n",
      "|2100006543|  19|     227547_Casula_1|(30,[6,13],[1.0,2...|227547_Casula_L21H_1|New South Wales| 74.96615384615384|      13|                     80.0|\n",
      "|2100006543|  19|201710_LiverpoolN...|(30,[7,8],[1.0,1.0])|201710_LiverpoolN...|New South Wales|             90.68|      13|                     80.0|\n",
      "+----------+----+--------------------+--------------------+--------------------+---------------+------------------+--------+-------------------------+\n",
      "only showing top 20 rows"
     ]
    }
   ],
   "source": [
    "valid_flat_nsw_hr.filter('customer_experience_index > 70').show()"
   ]
  },
  {
   "cell_type": "code",
   "execution_count": 114,
   "id": "d130bea1",
   "metadata": {},
   "outputs": [
    {
     "data": {
      "application/vnd.jupyter.widget-view+json": {
       "model_id": "",
       "version_major": 2,
       "version_minor": 0
      },
      "text/plain": [
       "FloatProgress(value=0.0, bar_style='info', description='Progress:', layout=Layout(height='25px', width='50%'),…"
      ]
     },
     "metadata": {},
     "output_type": "display_data"
    },
    {
     "name": "stdout",
     "output_type": "stream",
     "text": [
      "+-------------------+-------------+------+--------------------+--------+----------+------+-------+----+\n",
      "|    event_timestamp|event_type_cd|result|            loc_info|     TAC|   Subs_Id|prefix|matched|hour|\n",
      "+-------------------+-------------+------+--------------------+--------+----------+------+-------+----+\n",
      "|2023-01-10 19:09:46|            7|     0|L_505_03__20295__...|35204513|2100006519|   614|   true|  19|\n",
      "|2023-01-10 19:09:44|            7|     0|L_505_03__20295__...|35204513|2100006519|   614|   true|  19|\n",
      "|2023-01-10 19:09:36|            7|     0|L_505_03__20295__...|35204513|2100006519|   614|   true|  19|\n",
      "|2023-01-10 19:10:04|            7|     0|L_505_03__20295__...|35204513|2100006519|   614|   true|  19|\n",
      "|2023-01-10 19:10:05|            7|     0|L_505_03__20295__...|35204513|2100006519|   614|   true|  19|\n",
      "|2023-01-10 19:10:05|            7|     0|L_505_03__20295__...|35204513|2100006519|   614|   true|  19|\n",
      "|2023-01-10 19:09:53|            8|     0|L_505_03__20295__...|35204513|2100006519|   614|   true|  19|\n",
      "|2023-01-10 19:10:06|            7|     0|L_505_03__20295__...|35204513|2100006519|   614|   true|  19|\n",
      "|2023-01-10 19:09:45|            7|     0|L_505_03__20295__...|35204513|2100006519|   614|   true|  19|\n",
      "|2023-01-10 19:09:03|            7|     0|L_505_03__20295__...|35204513|2100006519|   614|   true|  19|\n",
      "|2023-01-10 19:10:09|            7|     0|L_505_03__20295__...|35204513|2100006519|   614|   true|  19|\n",
      "|2023-01-10 19:09:24|            7|     0|L_505_03__20295__...|35204513|2100006519|   614|   true|  19|\n",
      "|2023-01-10 19:10:14|            7|     0|L_505_03__20295__...|35204513|2100006519|   614|   true|  19|\n",
      "|2023-01-10 19:43:06|           13|     0|L_505_03__20295__...|35204513|2100006519|   614|   true|  19|\n",
      "|2023-01-10 19:10:26|            7|     0|L_505_03__20295__...|35204513|2100006519|   614|   true|  19|\n",
      "|2023-01-10 19:09:33|            7|     0|L_505_03__20295__...|35204513|2100006519|   614|   true|  19|\n",
      "|2023-01-10 19:11:59|            7|     0|L_505_03__20295__...|35204513|2100006519|   614|   true|  19|\n",
      "|2023-01-10 19:11:49|            7|     0|L_505_03__20295__...|35204513|2100006519|   614|   true|  19|\n",
      "|2023-01-10 19:11:46|           13|     0|L_505_03__20295__...|35204513|2100006519|   614|   true|  19|\n",
      "|2023-01-10 19:11:52|            7|     0|L_505_03__20295__...|35204513|2100006519|   614|   true|  19|\n",
      "+-------------------+-------------+------+--------------------+--------+----------+------+-------+----+\n",
      "only showing top 20 rows"
     ]
    }
   ],
   "source": [
    "df = spark.read.parquet('s3://kl-prod-tpgt-knowledge-lake-sandpit/TempDir/tmp/tokenised_ebmr_sample/dt=2023-01-10/')\n",
    "df.withColumn(\n",
    "    'hour', f.hour('event_timestamp')\n",
    ").filter(\n",
    "    \"Subs_Id = 2100006519 AND hour = 19\"\n",
    ").show(50, False)"
   ]
  },
  {
   "cell_type": "code",
   "execution_count": 115,
   "id": "04c90105",
   "metadata": {},
   "outputs": [
    {
     "data": {
      "application/vnd.jupyter.widget-view+json": {
       "model_id": "",
       "version_major": 2,
       "version_minor": 0
      },
      "text/plain": [
       "FloatProgress(value=0.0, bar_style='info', description='Progress:', layout=Layout(height='25px', width='50%'),…"
      ]
     },
     "metadata": {},
     "output_type": "display_data"
    },
    {
     "name": "stdout",
     "output_type": "stream",
     "text": [
      "+----------+----+--------------------+--------------------+--------------------+---------------+------------------+--------+-------------------------+\n",
      "|   Subs_Id|hour|         sector_name|  event_code_feature|           cell_name|          state|       utilisation|trace_id|customer_experience_index|\n",
      "+----------+----+--------------------+--------------------+--------------------+---------------+------------------+--------+-------------------------+\n",
      "|2100006351|  19|201645_Paddington...|      (30,[8],[1.0])|201645_Paddington...|New South Wales|33.221538461538465|      62|                     20.0|\n",
      "|2100006519|  19| 202644_BywongHill_2|(30,[7,8],[1.0,1.0])|202644_BywongHill...|New South Wales| 52.54666666666666|     227|                     89.0|\n",
      "+----------+----+--------------------+--------------------+--------------------+---------------+------------------+--------+-------------------------+"
     ]
    }
   ],
   "source": [
    "valid_flat_nsw.filter(\n",
    "    \"Subs_Id in ('2100006519', '2100006351') AND hour = 19\"\n",
    ").show()"
   ]
  },
  {
   "cell_type": "code",
   "execution_count": 116,
   "id": "3e12058a",
   "metadata": {},
   "outputs": [
    {
     "data": {
      "application/vnd.jupyter.widget-view+json": {
       "model_id": "",
       "version_major": 2,
       "version_minor": 0
      },
      "text/plain": [
       "FloatProgress(value=0.0, bar_style='info', description='Progress:', layout=Layout(height='25px', width='50%'),…"
      ]
     },
     "metadata": {},
     "output_type": "display_data"
    },
    {
     "name": "stdout",
     "output_type": "stream",
     "text": [
      "+----------+------------------------+----+---------------------------+\n",
      "|Subs_Id   |loc_info                |hour|event_code_feature         |\n",
      "+----------+------------------------+----+---------------------------+\n",
      "|2100006519|L_505_03__20295__7239702|19  |(30,[7,13],[2.0,1.0])      |\n",
      "|2100006519|L_505_03__20295__7212595|19  |(30,[7],[1.0])             |\n",
      "|2100006519|L_505_03__20295__7192372|19  |(30,[7,13],[8.0,3.0])      |\n",
      "|2100006519|L_505_03__20295__7255821|19  |(30,[7],[1.0])             |\n",
      "|2100006519|L_505_03__20295__7211276|19  |(30,[13],[1.0])            |\n",
      "|2100006519|L_505_03__20295__6009907|19  |(30,[7],[3.0])             |\n",
      "|2100006519|L_505_03__20295__7192332|19  |(30,[7,8,13],[6.0,1.0,1.0])|\n",
      "|2100006519|L_505_03__20295__7194391|19  |(30,[7,8],[5.0,1.0])       |\n",
      "|2100006519|L_505_03__20295__7194381|19  |(30,[7],[4.0])             |\n",
      "|2100006519|L_505_03__20295__7192352|19  |(30,[7,8],[4.0,1.0])       |\n",
      "+----------+------------------------+----+---------------------------+\n",
      "only showing top 10 rows"
     ]
    }
   ],
   "source": [
    "event_feature_data = spark.read.parquet('s3://kl-prod-tpgt-knowledge-lake-sandpit/TempDir/tmp/ebmr_event_feature/dt=2023-01-10/')\n",
    "event_feature_data.filter(\n",
    "    \"Subs_Id in ('2100006519', '2100006351') AND hour = 19\"\n",
    ").show(10, False)"
   ]
  },
  {
   "cell_type": "code",
   "execution_count": 118,
   "id": "ad7ca5c4",
   "metadata": {},
   "outputs": [
    {
     "data": {
      "application/vnd.jupyter.widget-view+json": {
       "model_id": "",
       "version_major": 2,
       "version_minor": 0
      },
      "text/plain": [
       "FloatProgress(value=0.0, bar_style='info', description='Progress:', layout=Layout(height='25px', width='50%'),…"
      ]
     },
     "metadata": {},
     "output_type": "display_data"
    },
    {
     "name": "stdout",
     "output_type": "stream",
     "text": [
      "+----------+------------------------+----+--------------------+------------------------+--------------------------+---------------------------+---+---+---------------+\n",
      "|Subs_Id   |loc_info                |hour|event_code_feature  |glbl_loc                |glbl_loc_id               |cell_name                  |mcc|mnc|state          |\n",
      "+----------+------------------------+----+--------------------+------------------------+--------------------------+---------------------------+---+---+---------------+\n",
      "|2100006351|L_505_03__20243__5184564|19  |(30,[8],[1.0])      |L_505_03__20243__5184564|L_505_03_20243_|_005184564|201645_PaddingtonNth_L21C_2|505|03 |New South Wales|\n",
      "|2100006519|L_505_03__20292__5240332|19  |(30,[7,8],[1.0,1.0])|L_505_03__20292__5240332|L_505_03_20292_|_005240332|202644_BywongHill_L18P_2   |505|03 |New South Wales|\n",
      "+----------+------------------------+----+--------------------+------------------------+--------------------------+---------------------------+---+---+---------------+"
     ]
    }
   ],
   "source": [
    "event_feature_data.filter(\n",
    "    \"Subs_Id in ('2100006519', '2100006351') AND hour = 19\"\n",
    ").join(\n",
    "    cell_info.filter(f.col('state') == 'New South Wales'),\n",
    "    on=event_feature_data.loc_info==cell_info.glbl_loc,\n",
    "    how='inner'\n",
    ").show(60, False)"
   ]
  },
  {
   "cell_type": "code",
   "execution_count": 123,
   "id": "e60087d1",
   "metadata": {},
   "outputs": [
    {
     "data": {
      "application/vnd.jupyter.widget-view+json": {
       "model_id": "",
       "version_major": 2,
       "version_minor": 0
      },
      "text/plain": [
       "FloatProgress(value=0.0, bar_style='info', description='Progress:', layout=Layout(height='25px', width='50%'),…"
      ]
     },
     "metadata": {},
     "output_type": "display_data"
    },
    {
     "name": "stdout",
     "output_type": "stream",
     "text": [
      "+------------------------+--------------------------+-------------------------+---+---+----------------------------+\n",
      "|glbl_loc                |glbl_loc_id               |cell_name                |mcc|mnc|state                       |\n",
      "+------------------------+--------------------------+-------------------------+---+---+----------------------------+\n",
      "|L_505_03__20295__7239702|L_505_03_20295_|_007239702|240114_ForrestEast_L18K_2|505|03 |Australian Capital Territory|\n",
      "+------------------------+--------------------------+-------------------------+---+---+----------------------------+"
     ]
    }
   ],
   "source": [
    "cell_info.filter(\"glbl_loc = 'L_505_03__20295__7239702'\").show(20, False)"
   ]
  },
  {
   "cell_type": "code",
   "execution_count": 117,
   "id": "59e84f1d",
   "metadata": {},
   "outputs": [
    {
     "data": {
      "application/vnd.jupyter.widget-view+json": {
       "model_id": "",
       "version_major": 2,
       "version_minor": 0
      },
      "text/plain": [
       "FloatProgress(value=0.0, bar_style='info', description='Progress:', layout=Layout(height='25px', width='50%'),…"
      ]
     },
     "metadata": {},
     "output_type": "display_data"
    },
    {
     "name": "stdout",
     "output_type": "stream",
     "text": [
      "+--------------------------+--------------------------+----------------------------+---+---+---------------+\n",
      "|glbl_loc                  |glbl_loc_id               |cell_name                   |mcc|mnc|state          |\n",
      "+--------------------------+--------------------------+----------------------------+---+---+---------------+\n",
      "|L_505_03__20211__005822525|L_505_03_20211_|_005822525|200140_DarlingParkNth_L21H_1|505|03 |New South Wales|\n",
      "|L_505_03__20211__005822527|L_505_03_20211_|_005822527|200140_DarlingParkNth_L21H_3|505|03 |New South Wales|\n",
      "|L_505_03__20211__5822527  |L_505_03_20211_|_005822527|200140_DarlingParkNth_L21H_3|505|03 |New South Wales|\n",
      "|U_505_03_211__9674_       |U_505_03_00211_09674_09674|200140_DarlingParkNth_U21B_1|505|03 |New South Wales|\n",
      "|U_505_03_00211__9674_     |U_505_03_00211_09674_09674|200140_DarlingParkNth_U21B_1|505|03 |New South Wales|\n",
      "|U_505_03_00211__9677_     |U_505_03_00211_09677_09677|200140_DarlingParkNth_U21A_1|505|03 |New South Wales|\n",
      "|U_505_03_00211__24513_    |U_505_03_00211_24513_24513|200140_DarlingParkNth_U09A_2|505|03 |New South Wales|\n",
      "|L_505_03__20211__5822496  |L_505_03_20211_|_005822496|200140_DarlingParkNth_L08A_2|505|03 |New South Wales|\n",
      "|L_505_03__20211__005822496|L_505_03_20211_|_005822496|200140_DarlingParkNth_L08A_2|505|03 |New South Wales|\n",
      "|L_505_03__20211__5822515  |L_505_03_20211_|_005822515|200140_DarlingParkNth_L21A_1|505|03 |New South Wales|\n",
      "+--------------------------+--------------------------+----------------------------+---+---+---------------+\n",
      "only showing top 10 rows"
     ]
    }
   ],
   "source": [
    "# cell info\n",
    "@f.udf(returnType=StringType())\n",
    "def resolve_cell_name(cell_name):\n",
    "    \"\"\"\n",
    "    resolve cell name to match with EDS event data\n",
    "    \"\"\"\n",
    "    try:\n",
    "        split_parts = cell_name.split(\"_\")\n",
    "        m2000id = split_parts[0]\n",
    "        site_name = split_parts[1]\n",
    "        technology = split_parts[3]\n",
    "        cell_number = split_parts[4]\n",
    "        return f\"{m2000id}_{site_name}_{technology}_{cell_number}\"\n",
    "    except Exception as _:\n",
    "        return cell_name\n",
    "\n",
    "locglbl = spark.read.parquet(\n",
    "    's3://kl-prod-bi-analy-data-extract/features/kl-prod/ICE/EDS_locglbl_v3_extract/part_dt=2023-01-11/'\n",
    ")\n",
    "cell_lookup = spark.read.parquet(\n",
    "    's3://kl-prod-bi-analy-data-extract/features/kl-prod/ICE/TD_cell_look_up/part_dt=2023-01-11/'\n",
    ")\n",
    "site_df = spark.read.parquet(\n",
    "    's3://kl-prod-bi-analy-data-extract/features/kl-prod/ICE/TD_site_table/part_dt=2023-01-11/'\n",
    ")\n",
    "\n",
    "cell_info = (\n",
    "    locglbl.join(\n",
    "        cell_lookup.filter(\n",
    "            f.col(\"Radio_Type_Cd\").isin([\"L\", \"U\", \"N\"])\n",
    "        ),  # ignore 3G cells. ie. 'U'. Ignores 5G for test. ie 'N'\n",
    "        on=locglbl.glbl_loc_id == cell_lookup.Glbl_loc_Id,\n",
    "        how=\"inner\",\n",
    "    )\n",
    "    .withColumn(\"m2000_id\", f.split(f.col(\"Cell_Name\"), \"_\").getItem(0))\n",
    "    .join(\n",
    "        site_df,  # .filter(f.col(\"sa6_state_nm\") == sa6_nm),\n",
    "        on=\"m2000_id\",\n",
    "        how=\"inner\",\n",
    "    )\n",
    "    .withColumn(\"cell_name_adjusted\", resolve_cell_name(f.col(\"Cell_Name\")))\n",
    "    .select(\n",
    "        locglbl.glbl_loc,\n",
    "        locglbl.glbl_loc_id,\n",
    "        f.col(\"cell_name_adjusted\").alias(\"cell_name\"),\n",
    "        locglbl.mcc,\n",
    "        locglbl.mnc,\n",
    "        site_df.state\n",
    "    )\n",
    ")\n",
    "cell_info.show(10, False)"
   ]
  },
  {
   "cell_type": "code",
   "execution_count": null,
   "id": "9590582c",
   "metadata": {},
   "outputs": [],
   "source": []
  }
 ],
 "metadata": {
  "kernelspec": {
   "display_name": "PySpark",
   "language": "python",
   "name": "pysparkkernel"
  },
  "language_info": {
   "codemirror_mode": {
    "name": "python",
    "version": 3
   },
   "file_extension": ".py",
   "mimetype": "text/x-python",
   "name": "pyspark",
   "pygments_lexer": "python3"
  }
 },
 "nbformat": 4,
 "nbformat_minor": 5
}
