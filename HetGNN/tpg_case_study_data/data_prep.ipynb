{
 "cells": [
  {
   "cell_type": "code",
   "execution_count": 1,
   "id": "a69e1e4a",
   "metadata": {},
   "outputs": [],
   "source": [
    "%cleanup -f"
   ]
  },
  {
   "cell_type": "code",
   "execution_count": 2,
   "id": "80bbdf9e",
   "metadata": {},
   "outputs": [
    {
     "data": {
      "text/html": [
       "Current session configs: <tt>{'numExecutors': 10, 'driverMemory': '20g', 'proxyUser': 'jovyan', 'kind': 'pyspark'}</tt><br>"
      ],
      "text/plain": [
       "<IPython.core.display.HTML object>"
      ]
     },
     "metadata": {},
     "output_type": "display_data"
    },
    {
     "data": {
      "text/html": [
       "No active sessions."
      ],
      "text/plain": [
       "<IPython.core.display.HTML object>"
      ]
     },
     "metadata": {},
     "output_type": "display_data"
    }
   ],
   "source": [
    "%%configure -f\n",
    "{\n",
    "    \"numExecutors\": 10,\n",
    "    \"driverMemory\": \"20g\"\n",
    "}"
   ]
  },
  {
   "cell_type": "code",
   "execution_count": 3,
   "id": "16703a85",
   "metadata": {},
   "outputs": [
    {
     "name": "stdout",
     "output_type": "stream",
     "text": [
      "Starting Spark application\n"
     ]
    },
    {
     "data": {
      "text/html": [
       "<table>\n",
       "<tr><th>ID</th><th>YARN Application ID</th><th>Kind</th><th>State</th><th>Spark UI</th><th>Driver log</th><th>User</th><th>Current session?</th></tr><tr><td>2</td><td>application_1673740422743_0003</td><td>pyspark</td><td>idle</td><td><a target=\"_blank\" href=\"http://ip-10-48-113-240.prod.tpgt-bi-kl.aws.vodafone.com.au:20888/proxy/application_1673740422743_0003/\">Link</a></td><td><a target=\"_blank\" href=\"http://ip-10-48-113-27.prod.tpgt-bi-kl.aws.vodafone.com.au:8042/node/containerlogs/container_1673740422743_0003_01_000001/livy\">Link</a></td><td>None</td><td>✔</td></tr></table>"
      ],
      "text/plain": [
       "<IPython.core.display.HTML object>"
      ]
     },
     "metadata": {},
     "output_type": "display_data"
    },
    {
     "data": {
      "application/vnd.jupyter.widget-view+json": {
       "model_id": "",
       "version_major": 2,
       "version_minor": 0
      },
      "text/plain": [
       "FloatProgress(value=0.0, bar_style='info', description='Progress:', layout=Layout(height='25px', width='50%'),…"
      ]
     },
     "metadata": {},
     "output_type": "display_data"
    },
    {
     "name": "stdout",
     "output_type": "stream",
     "text": [
      "SparkSession available as 'spark'.\n"
     ]
    },
    {
     "data": {
      "application/vnd.jupyter.widget-view+json": {
       "model_id": "",
       "version_major": 2,
       "version_minor": 0
      },
      "text/plain": [
       "FloatProgress(value=0.0, bar_style='info', description='Progress:', layout=Layout(height='25px', width='50%'),…"
      ]
     },
     "metadata": {},
     "output_type": "display_data"
    }
   ],
   "source": [
    "import pyspark.sql.functions as f\n",
    "from pyspark.sql.types import *\n",
    "from pyspark.ml.feature import OneHotEncoder\n",
    "from pyspark.ml.linalg import SparseVector, DenseVector, Vectors, VectorUDT\n",
    "import numpy as np\n",
    "from pyspark.sql.window import Window"
   ]
  },
  {
   "cell_type": "code",
   "execution_count": 4,
   "id": "3e1475ee",
   "metadata": {},
   "outputs": [
    {
     "data": {
      "text/html": [
       "Current session configs: <tt>{'numExecutors': 10, 'driverMemory': '20g', 'proxyUser': 'jovyan', 'kind': 'pyspark'}</tt><br>"
      ],
      "text/plain": [
       "<IPython.core.display.HTML object>"
      ]
     },
     "metadata": {},
     "output_type": "display_data"
    },
    {
     "data": {
      "text/html": [
       "<table>\n",
       "<tr><th>ID</th><th>YARN Application ID</th><th>Kind</th><th>State</th><th>Spark UI</th><th>Driver log</th><th>User</th><th>Current session?</th></tr><tr><td>2</td><td>application_1673740422743_0003</td><td>pyspark</td><td>idle</td><td><a target=\"_blank\" href=\"http://ip-10-48-113-240.prod.tpgt-bi-kl.aws.vodafone.com.au:20888/proxy/application_1673740422743_0003/\">Link</a></td><td><a target=\"_blank\" href=\"http://ip-10-48-113-27.prod.tpgt-bi-kl.aws.vodafone.com.au:8042/node/containerlogs/container_1673740422743_0003_01_000001/livy\">Link</a></td><td>None</td><td>✔</td></tr></table>"
      ],
      "text/plain": [
       "<IPython.core.display.HTML object>"
      ]
     },
     "metadata": {},
     "output_type": "display_data"
    }
   ],
   "source": [
    "%%info"
   ]
  },
  {
   "cell_type": "code",
   "execution_count": 5,
   "id": "8fc2f0c3",
   "metadata": {},
   "outputs": [
    {
     "data": {
      "application/vnd.jupyter.widget-view+json": {
       "model_id": "",
       "version_major": 2,
       "version_minor": 0
      },
      "text/plain": [
       "FloatProgress(value=0.0, bar_style='info', description='Progress:', layout=Layout(height='25px', width='50%'),…"
      ]
     },
     "metadata": {},
     "output_type": "display_data"
    }
   ],
   "source": [
    "@f.udf(returnType=VectorUDT())\n",
    "def sparse_vector_sum(vectors):\n",
    "    res = None\n",
    "    for vec in vectors:\n",
    "        if res is None:\n",
    "            res = vec\n",
    "        else:\n",
    "            res = np.add(vec, res)\n",
    "    return SparseVector(len(res), {k: v for k, v in enumerate(res) if v != 0})\n",
    "\n",
    "@f.udf(returnType=ArrayType(FloatType()))\n",
    "def to_dense(sparse_vector):\n",
    "    v = DenseVector(sparse_vector)\n",
    "    feature = [float(x) for x in v]\n",
    "    feature.append(0.0)  # adding util placeholder\n",
    "    return feature\n",
    "\n",
    "@f.udf(returnType=ArrayType(FloatType()))\n",
    "def to_dense_flat(sparse_vector):\n",
    "    v = DenseVector(sparse_vector)\n",
    "    feature = [float(x) for x in v]\n",
    "    return feature"
   ]
  },
  {
   "cell_type": "markdown",
   "id": "6ce69cf1",
   "metadata": {},
   "source": [
    "## Aggregate Cell and User Hourly"
   ]
  },
  {
   "cell_type": "code",
   "execution_count": 34,
   "id": "1df0ef51",
   "metadata": {},
   "outputs": [
    {
     "data": {
      "application/vnd.jupyter.widget-view+json": {
       "model_id": "",
       "version_major": 2,
       "version_minor": 0
      },
      "text/plain": [
       "FloatProgress(value=0.0, bar_style='info', description='Progress:', layout=Layout(height='25px', width='50%'),…"
      ]
     },
     "metadata": {},
     "output_type": "display_data"
    },
    {
     "name": "stdout",
     "output_type": "stream",
     "text": [
      "+-------------------+-------------+------+--------------------+--------+--------------------+------+-------+\n",
      "|    event_timestamp|event_type_cd|result|            loc_info|     TAC|             Subs_Id|prefix|matched|\n",
      "+-------------------+-------------+------+--------------------+--------+--------------------+------+-------+\n",
      "|2023-01-10 10:14:09|           15|     0|U_505_03_336__16283_|14869004|063d6b4f880e925a9...|   118|  false|\n",
      "|2023-01-10 20:20:39|           15|     0|  U_505_03_336__640_|14869004|063d6b4f880e925a9...|   118|  false|\n",
      "|2023-01-10 13:23:19|           15|     0|  U_505_03_336__840_|14869004|063d6b4f880e925a9...|   118|  false|\n",
      "|2023-01-10 00:46:22|           15|     0|  U_505_03_336__640_|14869004|063d6b4f880e925a9...|   118|  false|\n",
      "|2023-01-10 06:02:05|           15|     0|  U_505_03_336__640_|14869004|063d6b4f880e925a9...|   118|  false|\n",
      "|2023-01-10 09:11:05|           15|     0|  U_505_03_336__640_|14869004|063d6b4f880e925a9...|   118|  false|\n",
      "|2023-01-10 15:20:29|           15|     0|  U_505_03_336__640_|14869004|063d6b4f880e925a9...|   118|  false|\n",
      "|2023-01-10 22:57:48|           15|     0|  U_505_03_336__640_|14869004|063d6b4f880e925a9...|   118|  false|\n",
      "|2023-01-10 15:20:29|            4|     0|  U_505_03_336__640_|14869004|063d6b4f880e925a9...|   118|  false|\n",
      "|2023-01-10 04:27:17|           15|     0|  U_505_03_336__845_|14869004|063d6b4f880e925a9...|   118|  false|\n",
      "+-------------------+-------------+------+--------------------+--------+--------------------+------+-------+\n",
      "only showing top 10 rows"
     ]
    }
   ],
   "source": [
    "df = spark.read.parquet('s3://kl-prod-tpgt-knowledge-lake-sandpit/TempDir/tmp/tokenised_ebmr_sample/dt=2023-01-10/')\n",
    "df.show(10)"
   ]
  },
  {
   "cell_type": "code",
   "execution_count": null,
   "id": "2c601424",
   "metadata": {},
   "outputs": [],
   "source": []
  },
  {
   "cell_type": "code",
   "execution_count": 2,
   "id": "7bb922cf",
   "metadata": {},
   "outputs": [
    {
     "data": {
      "application/vnd.jupyter.widget-view+json": {
       "model_id": "",
       "version_major": 2,
       "version_minor": 0
      },
      "text/plain": [
       "FloatProgress(value=0.0, bar_style='info', description='Progress:', layout=Layout(height='25px', width='50%'),…"
      ]
     },
     "metadata": {},
     "output_type": "display_data"
    },
    {
     "name": "stdout",
     "output_type": "stream",
     "text": [
      "+-------------+\n",
      "|event_type_cd|\n",
      "+-------------+\n",
      "|7            |\n",
      "|26           |\n",
      "|25           |\n",
      "|9            |\n",
      "|15           |\n",
      "|23           |\n",
      "|13           |\n",
      "|14           |\n",
      "|3            |\n",
      "|30           |\n",
      "|22           |\n",
      "|0            |\n",
      "|24           |\n",
      "|16           |\n",
      "|6            |\n",
      "|1            |\n",
      "|11           |\n",
      "|8            |\n",
      "|5            |\n",
      "|10           |\n",
      "|4            |\n",
      "|12           |\n",
      "|2            |\n",
      "|28           |\n",
      "+-------------+"
     ]
    }
   ],
   "source": [
    "df.select('event_type_cd').dropDuplicates().show(50, False)"
   ]
  },
  {
   "cell_type": "code",
   "execution_count": 35,
   "id": "53a0fa0a",
   "metadata": {},
   "outputs": [
    {
     "data": {
      "application/vnd.jupyter.widget-view+json": {
       "model_id": "",
       "version_major": 2,
       "version_minor": 0
      },
      "text/plain": [
       "FloatProgress(value=0.0, bar_style='info', description='Progress:', layout=Layout(height='25px', width='50%'),…"
      ]
     },
     "metadata": {},
     "output_type": "display_data"
    },
    {
     "name": "stdout",
     "output_type": "stream",
     "text": [
      "+-------------------+-------------+------+--------------------+--------+--------------------+------+-------+----+\n",
      "|    event_timestamp|event_type_cd|result|            loc_info|     TAC|             Subs_Id|prefix|matched|hour|\n",
      "+-------------------+-------------+------+--------------------+--------+--------------------+------+-------+----+\n",
      "|2023-01-10 10:14:09|           15|     0|U_505_03_336__16283_|14869004|063d6b4f880e925a9...|   118|  false|  10|\n",
      "|2023-01-10 20:20:39|           15|     0|  U_505_03_336__640_|14869004|063d6b4f880e925a9...|   118|  false|  20|\n",
      "|2023-01-10 13:23:19|           15|     0|  U_505_03_336__840_|14869004|063d6b4f880e925a9...|   118|  false|  13|\n",
      "|2023-01-10 00:46:22|           15|     0|  U_505_03_336__640_|14869004|063d6b4f880e925a9...|   118|  false|   0|\n",
      "|2023-01-10 06:02:05|           15|     0|  U_505_03_336__640_|14869004|063d6b4f880e925a9...|   118|  false|   6|\n",
      "|2023-01-10 09:11:05|           15|     0|  U_505_03_336__640_|14869004|063d6b4f880e925a9...|   118|  false|   9|\n",
      "|2023-01-10 15:20:29|           15|     0|  U_505_03_336__640_|14869004|063d6b4f880e925a9...|   118|  false|  15|\n",
      "|2023-01-10 22:57:48|           15|     0|  U_505_03_336__640_|14869004|063d6b4f880e925a9...|   118|  false|  22|\n",
      "|2023-01-10 15:20:29|            4|     0|  U_505_03_336__640_|14869004|063d6b4f880e925a9...|   118|  false|  15|\n",
      "|2023-01-10 04:27:17|           15|     0|  U_505_03_336__845_|14869004|063d6b4f880e925a9...|   118|  false|   4|\n",
      "|2023-01-10 07:05:03|           15|     0|U_505_03_336__16283_|14869004|063d6b4f880e925a9...|   118|  false|   7|\n",
      "|2023-01-10 19:17:41|           15|     0|  U_505_03_336__640_|14869004|063d6b4f880e925a9...|   118|  false|  19|\n",
      "|2023-01-10 12:51:41|           15|     0|  U_505_03_336__840_|14869004|063d6b4f880e925a9...|   118|  false|  12|\n",
      "|2023-01-10 01:49:40|           15|     0|  U_505_03_336__640_|14869004|063d6b4f880e925a9...|   118|  false|   1|\n",
      "|2023-01-10 18:14:45|           15|     0|  U_505_03_336__640_|14869004|063d6b4f880e925a9...|   118|  false|  18|\n",
      "|2023-01-10 01:18:02|           15|     0|  U_505_03_336__640_|14869004|063d6b4f880e925a9...|   118|  false|   1|\n",
      "|2023-01-10 21:54:57|           15|     0|  U_505_03_336__640_|14869004|063d6b4f880e925a9...|   118|  false|  21|\n",
      "|2023-01-10 05:30:31|           15|     0|  U_505_03_336__640_|14869004|063d6b4f880e925a9...|   118|  false|   5|\n",
      "|2023-01-10 20:52:07|           15|     0|  U_505_03_336__640_|14869004|063d6b4f880e925a9...|   118|  false|  20|\n",
      "|2023-01-10 16:32:42|           15|     0|U_505_03_336__16283_|14869004|063d6b4f880e925a9...|   118|  false|  16|\n",
      "+-------------------+-------------+------+--------------------+--------+--------------------+------+-------+----+\n",
      "only showing top 20 rows"
     ]
    }
   ],
   "source": [
    "df = df.withColumn(\n",
    "    'hour', f.hour('event_timestamp')\n",
    ").withColumn(\n",
    "    'event_type_cd', f.col('event_type_cd').cast('int')\n",
    ")\n",
    "df.show()"
   ]
  },
  {
   "cell_type": "code",
   "execution_count": 6,
   "id": "24f144b4",
   "metadata": {},
   "outputs": [
    {
     "data": {
      "application/vnd.jupyter.widget-view+json": {
       "model_id": "",
       "version_major": 2,
       "version_minor": 0
      },
      "text/plain": [
       "FloatProgress(value=0.0, bar_style='info', description='Progress:', layout=Layout(height='25px', width='50%'),…"
      ]
     },
     "metadata": {},
     "output_type": "display_data"
    },
    {
     "name": "stdout",
     "output_type": "stream",
     "text": [
      "3198939406"
     ]
    }
   ],
   "source": [
    "df.count()"
   ]
  },
  {
   "cell_type": "code",
   "execution_count": 36,
   "id": "967120fd",
   "metadata": {},
   "outputs": [
    {
     "data": {
      "application/vnd.jupyter.widget-view+json": {
       "model_id": "",
       "version_major": 2,
       "version_minor": 0
      },
      "text/plain": [
       "FloatProgress(value=0.0, bar_style='info', description='Progress:', layout=Layout(height='25px', width='50%'),…"
      ]
     },
     "metadata": {},
     "output_type": "display_data"
    }
   ],
   "source": [
    "encoder = OneHotEncoder(inputCol='event_type_cd', outputCol='event_type_encode')"
   ]
  },
  {
   "cell_type": "code",
   "execution_count": 37,
   "id": "9e4d8a01",
   "metadata": {},
   "outputs": [
    {
     "data": {
      "application/vnd.jupyter.widget-view+json": {
       "model_id": "",
       "version_major": 2,
       "version_minor": 0
      },
      "text/plain": [
       "FloatProgress(value=0.0, bar_style='info', description='Progress:', layout=Layout(height='25px', width='50%'),…"
      ]
     },
     "metadata": {},
     "output_type": "display_data"
    }
   ],
   "source": [
    "encoder = encoder.fit(df)"
   ]
  },
  {
   "cell_type": "code",
   "execution_count": 38,
   "id": "3836ea1f",
   "metadata": {
    "scrolled": true
   },
   "outputs": [
    {
     "data": {
      "application/vnd.jupyter.widget-view+json": {
       "model_id": "",
       "version_major": 2,
       "version_minor": 0
      },
      "text/plain": [
       "FloatProgress(value=0.0, bar_style='info', description='Progress:', layout=Layout(height='25px', width='50%'),…"
      ]
     },
     "metadata": {},
     "output_type": "display_data"
    },
    {
     "name": "stdout",
     "output_type": "stream",
     "text": [
      "+-------------------+-------------+------+--------------------+--------+--------------------+------+-------+----+-----------------+\n",
      "|    event_timestamp|event_type_cd|result|            loc_info|     TAC|             Subs_Id|prefix|matched|hour|event_type_encode|\n",
      "+-------------------+-------------+------+--------------------+--------+--------------------+------+-------+----+-----------------+\n",
      "|2023-01-10 10:14:09|           15|     0|U_505_03_336__16283_|14869004|063d6b4f880e925a9...|   118|  false|  10|  (30,[15],[1.0])|\n",
      "|2023-01-10 20:20:39|           15|     0|  U_505_03_336__640_|14869004|063d6b4f880e925a9...|   118|  false|  20|  (30,[15],[1.0])|\n",
      "|2023-01-10 13:23:19|           15|     0|  U_505_03_336__840_|14869004|063d6b4f880e925a9...|   118|  false|  13|  (30,[15],[1.0])|\n",
      "|2023-01-10 00:46:22|           15|     0|  U_505_03_336__640_|14869004|063d6b4f880e925a9...|   118|  false|   0|  (30,[15],[1.0])|\n",
      "|2023-01-10 06:02:05|           15|     0|  U_505_03_336__640_|14869004|063d6b4f880e925a9...|   118|  false|   6|  (30,[15],[1.0])|\n",
      "|2023-01-10 09:11:05|           15|     0|  U_505_03_336__640_|14869004|063d6b4f880e925a9...|   118|  false|   9|  (30,[15],[1.0])|\n",
      "|2023-01-10 15:20:29|           15|     0|  U_505_03_336__640_|14869004|063d6b4f880e925a9...|   118|  false|  15|  (30,[15],[1.0])|\n",
      "|2023-01-10 22:57:48|           15|     0|  U_505_03_336__640_|14869004|063d6b4f880e925a9...|   118|  false|  22|  (30,[15],[1.0])|\n",
      "|2023-01-10 15:20:29|            4|     0|  U_505_03_336__640_|14869004|063d6b4f880e925a9...|   118|  false|  15|   (30,[4],[1.0])|\n",
      "|2023-01-10 04:27:17|           15|     0|  U_505_03_336__845_|14869004|063d6b4f880e925a9...|   118|  false|   4|  (30,[15],[1.0])|\n",
      "|2023-01-10 07:05:03|           15|     0|U_505_03_336__16283_|14869004|063d6b4f880e925a9...|   118|  false|   7|  (30,[15],[1.0])|\n",
      "|2023-01-10 19:17:41|           15|     0|  U_505_03_336__640_|14869004|063d6b4f880e925a9...|   118|  false|  19|  (30,[15],[1.0])|\n",
      "|2023-01-10 12:51:41|           15|     0|  U_505_03_336__840_|14869004|063d6b4f880e925a9...|   118|  false|  12|  (30,[15],[1.0])|\n",
      "|2023-01-10 01:49:40|           15|     0|  U_505_03_336__640_|14869004|063d6b4f880e925a9...|   118|  false|   1|  (30,[15],[1.0])|\n",
      "|2023-01-10 18:14:45|           15|     0|  U_505_03_336__640_|14869004|063d6b4f880e925a9...|   118|  false|  18|  (30,[15],[1.0])|\n",
      "|2023-01-10 01:18:02|           15|     0|  U_505_03_336__640_|14869004|063d6b4f880e925a9...|   118|  false|   1|  (30,[15],[1.0])|\n",
      "|2023-01-10 21:54:57|           15|     0|  U_505_03_336__640_|14869004|063d6b4f880e925a9...|   118|  false|  21|  (30,[15],[1.0])|\n",
      "|2023-01-10 05:30:31|           15|     0|  U_505_03_336__640_|14869004|063d6b4f880e925a9...|   118|  false|   5|  (30,[15],[1.0])|\n",
      "|2023-01-10 20:52:07|           15|     0|  U_505_03_336__640_|14869004|063d6b4f880e925a9...|   118|  false|  20|  (30,[15],[1.0])|\n",
      "|2023-01-10 16:32:42|           15|     0|U_505_03_336__16283_|14869004|063d6b4f880e925a9...|   118|  false|  16|  (30,[15],[1.0])|\n",
      "+-------------------+-------------+------+--------------------+--------+--------------------+------+-------+----+-----------------+\n",
      "only showing top 20 rows"
     ]
    }
   ],
   "source": [
    "df = encoder.transform(df)\n",
    "df.show()"
   ]
  },
  {
   "cell_type": "code",
   "execution_count": 40,
   "id": "79f13344",
   "metadata": {},
   "outputs": [
    {
     "data": {
      "application/vnd.jupyter.widget-view+json": {
       "model_id": "",
       "version_major": 2,
       "version_minor": 0
      },
      "text/plain": [
       "FloatProgress(value=0.0, bar_style='info', description='Progress:', layout=Layout(height='25px', width='50%'),…"
      ]
     },
     "metadata": {},
     "output_type": "display_data"
    }
   ],
   "source": [
    "event_feature_data = df.filter(f.col('Subs_Id').isNotNull()).groupBy('Subs_Id', 'loc_info', 'hour').agg(\n",
    "    sparse_vector_sum(f.collect_list('event_type_encode')).alias('event_code_feature')\n",
    ")\n",
    "# event_feature_data.show()"
   ]
  },
  {
   "cell_type": "code",
   "execution_count": null,
   "id": "ce0e1a79",
   "metadata": {},
   "outputs": [],
   "source": []
  },
  {
   "cell_type": "code",
   "execution_count": 173,
   "id": "41a1d6b5",
   "metadata": {},
   "outputs": [
    {
     "data": {
      "application/vnd.jupyter.widget-view+json": {
       "model_id": "",
       "version_major": 2,
       "version_minor": 0
      },
      "text/plain": [
       "FloatProgress(value=0.0, bar_style='info', description='Progress:', layout=Layout(height='25px', width='50%'),…"
      ]
     },
     "metadata": {},
     "output_type": "display_data"
    }
   ],
   "source": [
    "# event_feature_data.write.mode('overwrite').parquet(\n",
    "#     's3://kl-prod-tpgt-knowledge-lake-sandpit/TempDir/tmp/ebmr_event_feature/dt=2023-01-10/')\n",
    "event_feature_data = spark.read.parquet('s3://kl-prod-tpgt-knowledge-lake-sandpit/TempDir/tmp/ebmr_event_feature/dt=2023-01-10/')\n"
   ]
  },
  {
   "cell_type": "code",
   "execution_count": 174,
   "id": "69ebfbd4",
   "metadata": {},
   "outputs": [
    {
     "data": {
      "application/vnd.jupyter.widget-view+json": {
       "model_id": "",
       "version_major": 2,
       "version_minor": 0
      },
      "text/plain": [
       "FloatProgress(value=0.0, bar_style='info', description='Progress:', layout=Layout(height='25px', width='50%'),…"
      ]
     },
     "metadata": {},
     "output_type": "display_data"
    },
    {
     "name": "stdout",
     "output_type": "stream",
     "text": [
      "root\n",
      " |-- Subs_Id: string (nullable = true)\n",
      " |-- loc_info: string (nullable = true)\n",
      " |-- hour: integer (nullable = true)\n",
      " |-- event_code_feature: vector (nullable = true)"
     ]
    }
   ],
   "source": [
    "event_feature_data.printSchema()"
   ]
  },
  {
   "cell_type": "code",
   "execution_count": 175,
   "id": "9533bb88",
   "metadata": {},
   "outputs": [
    {
     "data": {
      "application/vnd.jupyter.widget-view+json": {
       "model_id": "",
       "version_major": 2,
       "version_minor": 0
      },
      "text/plain": [
       "FloatProgress(value=0.0, bar_style='info', description='Progress:', layout=Layout(height='25px', width='50%'),…"
      ]
     },
     "metadata": {},
     "output_type": "display_data"
    },
    {
     "name": "stdout",
     "output_type": "stream",
     "text": [
      "584027513"
     ]
    }
   ],
   "source": [
    "event_feature_data.count()"
   ]
  },
  {
   "cell_type": "code",
   "execution_count": 44,
   "id": "6e13d024",
   "metadata": {},
   "outputs": [],
   "source": [
    "%cleanup -f"
   ]
  },
  {
   "cell_type": "markdown",
   "id": "7fc41919",
   "metadata": {},
   "source": [
    "## Further Graph Formation"
   ]
  },
  {
   "cell_type": "code",
   "execution_count": 176,
   "id": "7a27ce5d",
   "metadata": {},
   "outputs": [
    {
     "data": {
      "application/vnd.jupyter.widget-view+json": {
       "model_id": "",
       "version_major": 2,
       "version_minor": 0
      },
      "text/plain": [
       "FloatProgress(value=0.0, bar_style='info', description='Progress:', layout=Layout(height='25px', width='50%'),…"
      ]
     },
     "metadata": {},
     "output_type": "display_data"
    },
    {
     "name": "stdout",
     "output_type": "stream",
     "text": [
      "+----------------------------------------------------------------+-------------------------+----+-----------------------------------------+\n",
      "|Subs_Id                                                         |loc_info                 |hour|event_code_feature                       |\n",
      "+----------------------------------------------------------------+-------------------------+----+-----------------------------------------+\n",
      "|0000747716c301fc203c8afa7252ce3526c9f72b41c063e58b845e5218fa9f0f|L_505_03__50533__13057316|20  |(30,[13],[3.0])                          |\n",
      "|00011c44a7928fdfd3e8f2130815b53e96c9093cd1d0e7d07796023479f8c812|U_505_03_294__59501_     |4   |(30,[2],[1.0])                           |\n",
      "|0001a038d111e7553e79893ee1231768b7b4e2a5d8f534f3fb1a6dd584bafd92|U_505_03_345__35178_     |5   |(30,[2],[1.0])                           |\n",
      "|0002610ff58f0c3afd1e873d3dbb8bdcce55bad2461e1cf47ea526004d45b106|L_505_03__20234__5805089 |16  |(30,[7,8,12,13,16],[1.0,1.0,1.0,1.0,2.0])|\n",
      "|0002949939f1a71fb62623b224893eac56011b3ec07c1af473b15a456b46a220|L_505_03__20246__5277749 |11  |(30,[13],[1.0])                          |\n",
      "|0006002370c36de191b18a0eb22af87fdfa5576f9b2879d13031e3d1141c8f81|L_505_03__20247__6005812 |13  |(30,[7,10,16],[3.0,1.0,3.0])             |\n",
      "|000790059caf3adfffb0c66fb7bb9592bc6ccb647089ec8a1faa1faf29a58e3a|L_505_03__60644__15690509|9   |(30,[7],[1.0])                           |\n",
      "|0008b5762a228eda68b63a5a48f44441f7dbdd4c617fbb2d5f83ae1b3c1082d3|L_505_03__20249__5151253 |9   |(30,[7],[2.0])                           |\n",
      "|00094e2ba3f6c528187c6d1c28929a7e5e832ae78934e5cb49bba335cb7241ba|L_505_03__20244__6233909 |18  |(30,[8],[1.0])                           |\n",
      "|0009f7d6178b3bcc4e7fc05f6ed9a61e120ef6b351f035882873c92ec14dbe0c|L_505_03__30345__8393507 |10  |(30,[7],[2.0])                           |\n",
      "+----------------------------------------------------------------+-------------------------+----+-----------------------------------------+\n",
      "only showing top 10 rows"
     ]
    }
   ],
   "source": [
    "event_feature_data = spark.read.parquet('s3://kl-prod-tpgt-knowledge-lake-sandpit/TempDir/tmp/ebmr_event_feature/dt=2023-01-10/')\n",
    "event_feature_data.show(10, False)"
   ]
  },
  {
   "cell_type": "code",
   "execution_count": 49,
   "id": "6f70a0ce",
   "metadata": {},
   "outputs": [
    {
     "data": {
      "application/vnd.jupyter.widget-view+json": {
       "model_id": "",
       "version_major": 2,
       "version_minor": 0
      },
      "text/plain": [
       "FloatProgress(value=0.0, bar_style='info', description='Progress:', layout=Layout(height='25px', width='50%'),…"
      ]
     },
     "metadata": {},
     "output_type": "display_data"
    },
    {
     "name": "stdout",
     "output_type": "stream",
     "text": [
      "584027513"
     ]
    }
   ],
   "source": [
    "event_feature_data.count()"
   ]
  },
  {
   "cell_type": "code",
   "execution_count": 95,
   "id": "3a110c15",
   "metadata": {},
   "outputs": [
    {
     "data": {
      "application/vnd.jupyter.widget-view+json": {
       "model_id": "",
       "version_major": 2,
       "version_minor": 0
      },
      "text/plain": [
       "FloatProgress(value=0.0, bar_style='info', description='Progress:', layout=Layout(height='25px', width='50%'),…"
      ]
     },
     "metadata": {},
     "output_type": "display_data"
    },
    {
     "name": "stdout",
     "output_type": "stream",
     "text": [
      "+----------------------------+----------------------------+-----------------------------+---+---+---------------+\n",
      "|glbl_loc                    |glbl_loc_id                 |cell_name                    |mcc|mnc|state          |\n",
      "+----------------------------+----------------------------+-----------------------------+---+---+---------------+\n",
      "|U_505_03_441__48182_        |U_505_03_00441_48182_48182  |477366_Woolloongabba_U09A_3  |505|03 |Queensland     |\n",
      "|L_505_03__20248__005136919  |L_505_03_20248_|_005136919  |202172_Ingleburn_L18B_3      |505|03 |New South Wales|\n",
      "|N_505_03__40442__00748322878|N_505_03_40442_|_00748322878|477064_Chermside_N07C_2      |505|03 |Queensland     |\n",
      "|U_505_03_238__60696_        |U_505_03_00238_60696_60696  |201537_AnnaBay_U21A_3        |505|03 |New South Wales|\n",
      "|L_505_03__30341__8508723    |L_505_03_30341_|_008508723  |303113_Anglesea_L08B_1       |505|03 |Victoria       |\n",
      "|U_505_03_538__40768_        |U_505_03_00538_40768_40768  |505215_Echunga_U09A_2        |505|03 |South Australia|\n",
      "|U_505_03_210__43263_        |U_505_03_00210_43263_43263  |202051_TheRocks_U09A_3       |505|03 |New South Wales|\n",
      "|U_505_03_247__57486_        |U_505_03_00247_57486_57486  |222102_BlackettCow_U09A_1    |505|03 |New South Wales|\n",
      "|U_505_03_00250__37374_      |U_505_03_00250_37374_37374  |227887_Berowra_U21B_1        |505|03 |New South Wales|\n",
      "|N_505_03__20249__00414498878|N_505_03_20249_|_00414498878|201571_NthChipngNorton_N07C_2|505|03 |New South Wales|\n",
      "+----------------------------+----------------------------+-----------------------------+---+---+---------------+\n",
      "only showing top 10 rows"
     ]
    }
   ],
   "source": [
    "# cell info\n",
    "@f.udf(returnType=StringType())\n",
    "def resolve_cell_name(cell_name):\n",
    "    \"\"\"\n",
    "    resolve cell name to match with EDS event data\n",
    "    \"\"\"\n",
    "    try:\n",
    "        split_parts = cell_name.split(\"_\")\n",
    "        m2000id = split_parts[0]\n",
    "        site_name = split_parts[1]\n",
    "        technology = split_parts[3]\n",
    "        cell_number = split_parts[4]\n",
    "        return f\"{m2000id}_{site_name}_{technology}_{cell_number}\"\n",
    "    except Exception as _:\n",
    "        return cell_name\n",
    "\n",
    "locglbl = spark.read.parquet(\n",
    "    's3://kl-prod-bi-analy-data-extract/features/kl-prod/ICE/EDS_locglbl_v3_extract/part_dt=2023-01-11/'\n",
    ")\n",
    "cell_lookup = spark.read.parquet(\n",
    "    's3://kl-prod-bi-analy-data-extract/features/kl-prod/ICE/TD_cell_look_up/part_dt=2023-01-11/'\n",
    ")\n",
    "site_df = spark.read.parquet(\n",
    "    's3://kl-prod-bi-analy-data-extract/features/kl-prod/ICE/TD_site_table/part_dt=2023-01-11/'\n",
    ")\n",
    "\n",
    "cell_info = (\n",
    "    locglbl.join(\n",
    "        cell_lookup.filter(\n",
    "            f.col(\"Radio_Type_Cd\").isin([\"L\", \"U\", \"N\"])\n",
    "        ),  # ignore 3G cells. ie. 'U'. Ignores 5G for test. ie 'N'\n",
    "        on=locglbl.glbl_loc_id == cell_lookup.Glbl_loc_Id,\n",
    "        how=\"inner\",\n",
    "    )\n",
    "    .withColumn(\"m2000_id\", f.split(f.col(\"Cell_Name\"), \"_\").getItem(0))\n",
    "    .join(\n",
    "        site_df,  # .filter(f.col(\"sa6_state_nm\") == sa6_nm),\n",
    "        on=\"m2000_id\",\n",
    "        how=\"inner\",\n",
    "    )\n",
    "    .withColumn(\"cell_name_adjusted\", resolve_cell_name(f.col(\"Cell_Name\")))\n",
    "    .select(\n",
    "        locglbl.glbl_loc,\n",
    "        locglbl.glbl_loc_id,\n",
    "        f.col(\"cell_name_adjusted\").alias(\"cell_name\"),\n",
    "        locglbl.mcc,\n",
    "        locglbl.mnc,\n",
    "        site_df.state\n",
    "    )\n",
    ")\n",
    "cell_info.show(10, False)"
   ]
  },
  {
   "cell_type": "code",
   "execution_count": 91,
   "id": "13eb5f57",
   "metadata": {},
   "outputs": [
    {
     "data": {
      "application/vnd.jupyter.widget-view+json": {
       "model_id": "",
       "version_major": 2,
       "version_minor": 0
      },
      "text/plain": [
       "FloatProgress(value=0.0, bar_style='info', description='Progress:', layout=Layout(height='25px', width='50%'),…"
      ]
     },
     "metadata": {},
     "output_type": "display_data"
    },
    {
     "name": "stdout",
     "output_type": "stream",
     "text": [
      "+----------+----------+--------+--------------------+-------------+---------------+-----------------+----------------+--------------------+-------------+---------------+-----------------+----------------+--------------------+-------------+---------------+-----------------+----------------+--------------------+-------------+---------------+-----------------+----------------+--------------------+-------------+---------------+-----------------+----------------+--------------------+-------------+---------------+-----------------+----------------+--------------------+-------------+---------------+-----------------+----------------+--------------------+-------------+---------------+-----------------+----------------+--------------------+-------------+---------------+-----------------+----------------+--------------------+--------------+----------------+------------------+-----------------+------------+------------------------+------------------------+------------------------+------------------------+------------------------+------------------------+------------------------+------------------------+------------------------+-------------------------+-----------------------------+-----------------------------+-----------------------------+-----------------------------+-----------------------------+-----------------------------+-----------------------------+-----------------------------+-----------------------------+------------------------------+-------------------------------+-----------------------------+-------------------------+\n",
      "|   Subs_Id|local_date|local_hr|       sector_name_1|sn_1_numevent|sn_1_numLTEevnt|sn_1_numIRRegevnt|sn_1_utilisation|       sector_name_2|sn_2_numevent|sn_2_numLTEevnt|sn_2_numIRRegevnt|sn_2_utilisation|       sector_name_3|sn_3_numevent|sn_3_numLTEevnt|sn_3_numIRRegevnt|sn_3_utilisation|       sector_name_4|sn_4_numevent|sn_4_numLTEevnt|sn_4_numIRRegevnt|sn_4_utilisation|       sector_name_5|sn_5_numevent|sn_5_numLTEevnt|sn_5_numIRRegevnt|sn_5_utilisation|       sector_name_6|sn_6_numevent|sn_6_numLTEevnt|sn_6_numIRRegevnt|sn_6_utilisation|       sector_name_7|sn_7_numevent|sn_7_numLTEevnt|sn_7_numIRRegevnt|sn_7_utilisation|       sector_name_8|sn_8_numevent|sn_8_numLTEevnt|sn_8_numIRRegevnt|sn_8_utilisation|       sector_name_9|sn_9_numevent|sn_9_numLTEevnt|sn_9_numIRRegevnt|sn_9_utilisation|      sector_name_10|sn_10_numevent|sn_10_numLTEevnt|sn_10_numIRRegevnt|sn_10_utilisation|total_events|sn_1_numevent_percentage|sn_2_numevent_percentage|sn_3_numevent_percentage|sn_4_numevent_percentage|sn_5_numevent_percentage|sn_6_numevent_percentage|sn_7_numevent_percentage|sn_8_numevent_percentage|sn_9_numevent_percentage|sn_10_numevent_percentage|irregular_events_1_percentage|irregular_events_2_percentage|irregular_events_3_percentage|irregular_events_4_percentage|irregular_events_5_percentage|irregular_events_6_percentage|irregular_events_7_percentage|irregular_events_8_percentage|irregular_events_9_percentage|irregular_events_10_percentage|customer_experience_utilisation|customer_experience_irregular|customer_experience_index|\n",
      "+----------+----------+--------+--------------------+-------------+---------------+-----------------+----------------+--------------------+-------------+---------------+-----------------+----------------+--------------------+-------------+---------------+-----------------+----------------+--------------------+-------------+---------------+-----------------+----------------+--------------------+-------------+---------------+-----------------+----------------+--------------------+-------------+---------------+-----------------+----------------+--------------------+-------------+---------------+-----------------+----------------+--------------------+-------------+---------------+-----------------+----------------+--------------------+-------------+---------------+-----------------+----------------+--------------------+--------------+----------------+------------------+-----------------+------------+------------------------+------------------------+------------------------+------------------------+------------------------+------------------------+------------------------+------------------------+------------------------+-------------------------+-----------------------------+-----------------------------+-----------------------------+-----------------------------+-----------------------------+-----------------------------+-----------------------------+-----------------------------+-----------------------------+------------------------------+-------------------------------+-----------------------------+-------------------------+\n",
      "|      null|2023-01-10|      11|                null|      5906524|        3599439|          2307085|             0.0|303160_NorthMelbo...|        10717|           9408|             1309|        50.32923|477299_Maroochydo...|         6607|           5709|              898|          90.515|     606105_Albany_1|         6601|           5543|             1058|       49.982857|202402_PortMacqua...|         6271|           4923|             1348|           84.96|   202418_Griffith_1|         6219|           2584|             3635|             0.0|     202429_Bowral_2|         5998|           3941|             2057|       74.417145|201885_TheEntranc...|         5829|           5042|              787|          90.772|201987_Farmborough_3|         5825|           4039|             1786|          56.725| 477193_Noosaville_1|          5806|            5279|               527|           33.895|     5966397|              0.98996496|            0.0017962265|            0.0011073685|            0.0011063629|             0.001051053|            0.0010423376|            0.0010052968|             9.769716E-4|             9.763011E-4|              9.731166E-4|                   0.39059946|                   0.12214239|                   0.13591646|                   0.16027875|                   0.21495774|                    0.5844991|                   0.34294766|                   0.13501458|                   0.30660945|                    0.09076817|                           99.0|                         61.0|                     72.0|\n",
      "|2000599768|2023-01-10|      10|                null|            1|              1|                0|             0.0|                null|            0|              0|                0|             0.0|                null|            0|              0|                0|             0.0|                null|            0|              0|                0|             0.0|                null|            0|              0|                0|             0.0|                null|            0|              0|                0|             0.0|                null|            0|              0|                0|             0.0|                null|            0|              0|                0|             0.0|                null|            0|              0|                0|             0.0|                null|             0|               0|                 0|              0.0|           1|                     1.0|                     0.0|                     0.0|                     0.0|                     0.0|                     0.0|                     0.0|                     0.0|                     0.0|                      0.0|                          0.0|                          0.0|                          0.0|                          0.0|                          0.0|                          0.0|                          0.0|                          0.0|                          0.0|                           0.0|                          100.0|                        100.0|                    100.0|\n",
      "|2001379556|2023-01-10|      15|606081_VincentStC...|            3|              3|                0|       63.410908|                null|            0|              0|                0|             0.0|                null|            0|              0|                0|             0.0|                null|            0|              0|                0|             0.0|                null|            0|              0|                0|             0.0|                null|            0|              0|                0|             0.0|                null|            0|              0|                0|             0.0|                null|            0|              0|                0|             0.0|                null|            0|              0|                0|             0.0|                null|             0|               0|                 0|              0.0|           3|                     1.0|                     0.0|                     0.0|                     0.0|                     0.0|                     0.0|                     0.0|                     0.0|                     0.0|                      0.0|                          0.0|                          0.0|                          0.0|                          0.0|                          0.0|                          0.0|                          0.0|                          0.0|                          0.0|                           0.0|                           37.0|                        100.0|                     81.0|\n",
      "|2003899823|2023-01-10|      21|227536_AuburnCent...|           69|             62|                7|             0.0|                null|           18|             14|                4|             0.0|                null|            0|              0|                0|             0.0|                null|            0|              0|                0|             0.0|                null|            0|              0|                0|             0.0|                null|            0|              0|                0|             0.0|                null|            0|              0|                0|             0.0|                null|            0|              0|                0|             0.0|                null|            0|              0|                0|             0.0|                null|             0|               0|                 0|              0.0|          87|              0.79310346|              0.20689656|                     0.0|                     0.0|                     0.0|                     0.0|                     0.0|                     0.0|                     0.0|                      0.0|                   0.10144927|                   0.22222222|                          0.0|                          0.0|                          0.0|                          0.0|                          0.0|                          0.0|                          0.0|                           0.0|                          100.0|                         87.0|                     91.0|\n",
      "|2010000057|2023-01-10|       3| 606014_MosmanPark_1|            5|              5|                0|       5.0763636|                null|            0|              0|                0|             0.0|                null|            0|              0|                0|             0.0|                null|            0|              0|                0|             0.0|                null|            0|              0|                0|             0.0|                null|            0|              0|                0|             0.0|                null|            0|              0|                0|             0.0|                null|            0|              0|                0|             0.0|                null|            0|              0|                0|             0.0|                null|             0|               0|                 0|              0.0|           5|                     1.0|                     0.0|                     0.0|                     0.0|                     0.0|                     0.0|                     0.0|                     0.0|                     0.0|                      0.0|                          0.0|                          0.0|                          0.0|                          0.0|                          0.0|                          0.0|                          0.0|                          0.0|                          0.0|                           0.0|                           95.0|                        100.0|                     99.0|\n",
      "|2010000265|2023-01-10|      19|                null|           13|             13|                0|             0.0|505709_DarwinHosp...|            7|              7|                0|           42.37|505709_DarwinHosp...|            4|              4|                0|           35.12|                null|            0|              0|                0|             0.0|                null|            0|              0|                0|             0.0|                null|            0|              0|                0|             0.0|                null|            0|              0|                0|             0.0|                null|            0|              0|                0|             0.0|                null|            0|              0|                0|             0.0|                null|             0|               0|                 0|              0.0|          24|               0.5416667|              0.29166666|              0.16666667|                     0.0|                     0.0|                     0.0|                     0.0|                     0.0|                     0.0|                      0.0|                          0.0|                          0.0|                          0.0|                          0.0|                          0.0|                          0.0|                          0.0|                          0.0|                          0.0|                           0.0|                           82.0|                        100.0|                     95.0|\n",
      "|2010000364|2023-01-10|       2|  227292_Ngunnawal_1|           13|             13|                0|       10.528889|                null|            0|              0|                0|             0.0|                null|            0|              0|                0|             0.0|                null|            0|              0|                0|             0.0|                null|            0|              0|                0|             0.0|                null|            0|              0|                0|             0.0|                null|            0|              0|                0|             0.0|                null|            0|              0|                0|             0.0|                null|            0|              0|                0|             0.0|                null|             0|               0|                 0|              0.0|          13|                     1.0|                     0.0|                     0.0|                     0.0|                     0.0|                     0.0|                     0.0|                     0.0|                     0.0|                      0.0|                          0.0|                          0.0|                          0.0|                          0.0|                          0.0|                          0.0|                          0.0|                          0.0|                          0.0|                           0.0|                           89.0|                        100.0|                     97.0|\n",
      "|2010000552|2023-01-10|       4|   703809_Kingston_2|            3|              3|                0|             0.0|                null|            0|              0|                0|             0.0|                null|            0|              0|                0|             0.0|                null|            0|              0|                0|             0.0|                null|            0|              0|                0|             0.0|                null|            0|              0|                0|             0.0|                null|            0|              0|                0|             0.0|                null|            0|              0|                0|             0.0|                null|            0|              0|                0|             0.0|                null|             0|               0|                 0|              0.0|           3|                     1.0|                     0.0|                     0.0|                     0.0|                     0.0|                     0.0|                     0.0|                     0.0|                     0.0|                      0.0|                          0.0|                          0.0|                          0.0|                          0.0|                          0.0|                          0.0|                          0.0|                          0.0|                          0.0|                           0.0|                          100.0|                        100.0|                    100.0|\n",
      "|2010000606|2023-01-10|      10|                null|           23|             23|                0|             0.0|303234_Corio_2B22B21|            6|              6|                0|             0.0|303234_Corio_2B12B11|            3|              3|                0|             0.0|303234_Corio_2B12B12|            3|              3|                0|             0.0|     303595_Corio4_2|            2|              2|                0|       27.683077|  301301_Rosewall2_1|            2|              2|                0|           19.92|303234_Corio_2B22B22|            1|              1|                0|             0.0|                null|            0|              0|                0|             0.0|                null|            0|              0|                0|             0.0|                null|             0|               0|                 0|              0.0|          40|                   0.575|                    0.15|                   0.075|                   0.075|                    0.05|                    0.05|                   0.025|                     0.0|                     0.0|                      0.0|                          0.0|                          0.0|                          0.0|                          0.0|                          0.0|                          0.0|                          0.0|                          0.0|                          0.0|                           0.0|                           98.0|                        100.0|                     99.0|\n",
      "|2010000659|2023-01-10|       8|                null|           23|             23|                0|             0.0|                null|            0|              0|                0|             0.0|                null|            0|              0|                0|             0.0|                null|            0|              0|                0|             0.0|                null|            0|              0|                0|             0.0|                null|            0|              0|                0|             0.0|                null|            0|              0|                0|             0.0|                null|            0|              0|                0|             0.0|                null|            0|              0|                0|             0.0|                null|             0|               0|                 0|              0.0|          23|                     1.0|                     0.0|                     0.0|                     0.0|                     0.0|                     0.0|                     0.0|                     0.0|                     0.0|                      0.0|                          0.0|                          0.0|                          0.0|                          0.0|                          0.0|                          0.0|                          0.0|                          0.0|                          0.0|                           0.0|                          100.0|                        100.0|                    100.0|\n",
      "|2010000790|2023-01-10|      13|338279_VictoriaMa...|            1|              1|                0|       66.667694|303160_NorthMelbo...|            1|              1|                0|           81.44|338854_WestMelbou...|            1|              0|                1|       51.935383|                null|            0|              0|                0|             0.0|                null|            0|              0|                0|             0.0|                null|            0|              0|                0|             0.0|                null|            0|              0|                0|             0.0|                null|            0|              0|                0|             0.0|                null|            0|              0|                0|             0.0|                null|             0|               0|                 0|              0.0|           3|              0.33333334|              0.33333334|              0.33333334|                     0.0|                     0.0|                     0.0|                     0.0|                     0.0|                     0.0|                      0.0|                          0.0|                          0.0|                          1.0|                          0.0|                          0.0|                          0.0|                          0.0|                          0.0|                          0.0|                           0.0|                           33.0|                         67.0|                     57.0|\n",
      "|2010000948|2023-01-10|      17|    303780_Hampton_2|           12|             12|                0|            30.8|338106_HamptonSou...|            9|              9|                0|             0.0|    303147_Hampton_2|            4|              4|                0|          34.165|338254_Sandringham_1|            3|              3|                0|       23.067692|                null|            3|              3|                0|             0.0|                null|            0|              0|                0|             0.0|                null|            0|              0|                0|             0.0|                null|            0|              0|                0|             0.0|                null|            0|              0|                0|             0.0|                null|             0|               0|                 0|              0.0|          31|              0.38709676|              0.29032257|              0.12903225|              0.09677419|              0.09677419|                     0.0|                     0.0|                     0.0|                     0.0|                      0.0|                          0.0|                          0.0|                          0.0|                          0.0|                          0.0|                          0.0|                          0.0|                          0.0|                          0.0|                           0.0|                           81.0|                        100.0|                     94.0|\n",
      "|2010001263|2023-01-10|      12|                null|           42|             35|                7|             0.0| 227779_WynyardSRA_2|            8|              8|                0|       11.461538|227703_EastChatsw...|            6|              3|                3|       40.126152|202136_MartinPlac...|            6|              6|                0|             0.0|227703_EastChatsw...|            5|              5|                0|        65.61846|201973_ChatswoodC...|            5|              2|                3|             0.0|201973_ChatswoodC...|            5|              5|                0|             0.0| 228314_ChristieSt_3|            2|              1|                1|       26.738462|202880_GoreHill_2...|            2|              1|                1|             0.0|202295_MilsonsPoi...|             2|               1|                 1|              0.0|          83|               0.5060241|              0.09638554|             0.072289154|             0.072289154|             0.060240965|             0.060240965|             0.060240965|             0.024096385|             0.024096385|              0.024096385|                   0.16666667|                          0.0|                          0.5|                          0.0|                          0.0|                          0.6|                          0.0|                          0.5|                          0.5|                           0.5|                           91.0|                         81.0|                     84.0|\n",
      "|2010001295|2023-01-10|      20|                null|            6|              6|                0|             0.0|    606159_Wangara_1|            4|              4|                0|             0.0|                null|            0|              0|                0|             0.0|                null|            0|              0|                0|             0.0|                null|            0|              0|                0|             0.0|                null|            0|              0|                0|             0.0|                null|            0|              0|                0|             0.0|                null|            0|              0|                0|             0.0|                null|            0|              0|                0|             0.0|                null|             0|               0|                 0|              0.0|          10|                     0.6|                     0.4|                     0.0|                     0.0|                     0.0|                     0.0|                     0.0|                     0.0|                     0.0|                      0.0|                          0.0|                          0.0|                          0.0|                          0.0|                          0.0|                          0.0|                          0.0|                          0.0|                          0.0|                           0.0|                          100.0|                        100.0|                    100.0|\n",
      "|2010001344|2023-01-10|       6| 606059_AlfredCove_1|            1|              1|                0|            8.48|                null|            0|              0|                0|             0.0|                null|            0|              0|                0|             0.0|                null|            0|              0|                0|             0.0|                null|            0|              0|                0|             0.0|                null|            0|              0|                0|             0.0|                null|            0|              0|                0|             0.0|                null|            0|              0|                0|             0.0|                null|            0|              0|                0|             0.0|                null|             0|               0|                 0|              0.0|           1|                     1.0|                     0.0|                     0.0|                     0.0|                     0.0|                     0.0|                     0.0|                     0.0|                     0.0|                      0.0|                          0.0|                          0.0|                          0.0|                          0.0|                          0.0|                          0.0|                          0.0|                          0.0|                          0.0|                           0.0|                           92.0|                        100.0|                     98.0|\n",
      "|2010001496|2023-01-10|       6|    227314_Braddon_3|            5|              3|                2|       53.804443|                null|            0|              0|                0|             0.0|                null|            0|              0|                0|             0.0|                null|            0|              0|                0|             0.0|                null|            0|              0|                0|             0.0|                null|            0|              0|                0|             0.0|                null|            0|              0|                0|             0.0|                null|            0|              0|                0|             0.0|                null|            0|              0|                0|             0.0|                null|             0|               0|                 0|              0.0|           5|                     1.0|                     0.0|                     0.0|                     0.0|                     0.0|                     0.0|                     0.0|                     0.0|                     0.0|                      0.0|                          0.4|                          0.0|                          0.0|                          0.0|                          0.0|                          0.0|                          0.0|                          0.0|                          0.0|                           0.0|                           46.0|                         60.0|                     56.0|\n",
      "|2010001554|2023-01-10|      20|                null|            5|              5|                0|             0.0|                null|            0|              0|                0|             0.0|                null|            0|              0|                0|             0.0|                null|            0|              0|                0|             0.0|                null|            0|              0|                0|             0.0|                null|            0|              0|                0|             0.0|                null|            0|              0|                0|             0.0|                null|            0|              0|                0|             0.0|                null|            0|              0|                0|             0.0|                null|             0|               0|                 0|              0.0|           5|                     1.0|                     0.0|                     0.0|                     0.0|                     0.0|                     0.0|                     0.0|                     0.0|                     0.0|                      0.0|                          0.0|                          0.0|                          0.0|                          0.0|                          0.0|                          0.0|                          0.0|                          0.0|                          0.0|                           0.0|                          100.0|                        100.0|                    100.0|\n",
      "|2010001562|2023-01-10|      20| 477083_KedronPark_3|            1|              0|                1|          78.092|                null|            0|              0|                0|             0.0|                null|            0|              0|                0|             0.0|                null|            0|              0|                0|             0.0|                null|            0|              0|                0|             0.0|                null|            0|              0|                0|             0.0|                null|            0|              0|                0|             0.0|                null|            0|              0|                0|             0.0|                null|            0|              0|                0|             0.0|                null|             0|               0|                 0|              0.0|           1|                     1.0|                     0.0|                     0.0|                     0.0|                     0.0|                     0.0|                     0.0|                     0.0|                     0.0|                      0.0|                          1.0|                          0.0|                          0.0|                          0.0|                          0.0|                          0.0|                          0.0|                          0.0|                          0.0|                           0.0|                           22.0|                          0.0|                      7.0|\n",
      "|2010001566|2023-01-10|      20| 228751_Gleneagles_1|           15|             14|                1|       13.084444|                null|            2|              2|                0|             0.0| 227330_Richardson_3|            1|              1|                0|       10.746667|                null|            0|              0|                0|             0.0|                null|            0|              0|                0|             0.0|                null|            0|              0|                0|             0.0|                null|            0|              0|                0|             0.0|                null|            0|              0|                0|             0.0|                null|            0|              0|                0|             0.0|                null|             0|               0|                 0|              0.0|          18|               0.8333333|              0.11111111|             0.055555556|                     0.0|                     0.0|                     0.0|                     0.0|                     0.0|                     0.0|                      0.0|                   0.06666667|                          0.0|                          0.0|                          0.0|                          0.0|                          0.0|                          0.0|                          0.0|                          0.0|                           0.0|                           88.0|                         94.0|                     92.0|\n",
      "|2010001620|2023-01-10|      22|  668003_UpperSwan_3|            3|              3|                0|       77.218185|640012_NthEllenbr...|            2|              2|                0|        96.86909|                null|            0|              0|                0|             0.0|                null|            0|              0|                0|             0.0|                null|            0|              0|                0|             0.0|                null|            0|              0|                0|             0.0|                null|            0|              0|                0|             0.0|                null|            0|              0|                0|             0.0|                null|            0|              0|                0|             0.0|                null|             0|               0|                 0|              0.0|           5|                     0.6|                     0.4|                     0.0|                     0.0|                     0.0|                     0.0|                     0.0|                     0.0|                     0.0|                      0.0|                          0.0|                          0.0|                          0.0|                          0.0|                          0.0|                          0.0|                          0.0|                          0.0|                          0.0|                           0.0|                           15.0|                        100.0|                     75.0|\n",
      "+----------+----------+--------+--------------------+-------------+---------------+-----------------+----------------+--------------------+-------------+---------------+-----------------+----------------+--------------------+-------------+---------------+-----------------+----------------+--------------------+-------------+---------------+-----------------+----------------+--------------------+-------------+---------------+-----------------+----------------+--------------------+-------------+---------------+-----------------+----------------+--------------------+-------------+---------------+-----------------+----------------+--------------------+-------------+---------------+-----------------+----------------+--------------------+-------------+---------------+-----------------+----------------+--------------------+--------------+----------------+------------------+-----------------+------------+------------------------+------------------------+------------------------+------------------------+------------------------+------------------------+------------------------+------------------------+------------------------+-------------------------+-----------------------------+-----------------------------+-----------------------------+-----------------------------+-----------------------------+-----------------------------+-----------------------------+-----------------------------+-----------------------------+------------------------------+-------------------------------+-----------------------------+-------------------------+\n",
      "only showing top 20 rows"
     ]
    }
   ],
   "source": [
    "# cei df\n",
    "cei_df = spark.read.parquet('s3://kl-prod-bi-analy-data-extract/features/kl-prod/Mobility/customer_exp_index_v3/part_dt=2023-01-11/')\n",
    "cei_df =cei_df.withColumnRenamed('subs_id', 'Subs_Id')\n",
    "cei_df.show()"
   ]
  },
  {
   "cell_type": "code",
   "execution_count": 113,
   "id": "6e109214",
   "metadata": {},
   "outputs": [
    {
     "data": {
      "application/vnd.jupyter.widget-view+json": {
       "model_id": "",
       "version_major": 2,
       "version_minor": 0
      },
      "text/plain": [
       "FloatProgress(value=0.0, bar_style='info', description='Progress:', layout=Layout(height='25px', width='50%'),…"
      ]
     },
     "metadata": {},
     "output_type": "display_data"
    },
    {
     "name": "stdout",
     "output_type": "stream",
     "text": [
      "4530307"
     ]
    }
   ],
   "source": [
    "# get 1 million customer graphs\n",
    "valid_subs = cei_df.select('Subs_Id').dropDuplicates()\n",
    "valid_subs.count()"
   ]
  },
  {
   "cell_type": "code",
   "execution_count": 114,
   "id": "3c05831c",
   "metadata": {},
   "outputs": [
    {
     "data": {
      "application/vnd.jupyter.widget-view+json": {
       "model_id": "",
       "version_major": 2,
       "version_minor": 0
      },
      "text/plain": [
       "FloatProgress(value=0.0, bar_style='info', description='Progress:', layout=Layout(height='25px', width='50%'),…"
      ]
     },
     "metadata": {},
     "output_type": "display_data"
    },
    {
     "name": "stdout",
     "output_type": "stream",
     "text": [
      "+---------+----+--------------------+--------------------+---------------+\n",
      "|  Subs_Id|hour|  event_code_feature|           cell_name|          state|\n",
      "+---------+----+--------------------+--------------------+---------------+\n",
      "|282239187|   6|(30,[9,12,13,16],...|202154_NorthBondi...|New South Wales|\n",
      "|317968313|  17|     (30,[13],[7.0])|201530_DeanPark_L...|New South Wales|\n",
      "|318190067|   0|     (30,[13],[1.0])|201530_DeanPark_L...|New South Wales|\n",
      "|318237737|  13|     (30,[13],[1.0])|201530_DeanPark_L...|New South Wales|\n",
      "|318242619|   7|      (30,[7],[2.0])|201530_DeanPark_L...|New South Wales|\n",
      "|318245227|   7|     (30,[13],[2.0])|202502_Greenacre2...|New South Wales|\n",
      "|336293551|  23|     (30,[13],[1.0])|201658_BankstownC...|New South Wales|\n",
      "|340160040|  17|(30,[7,8],[1.0,1.0])|202154_NorthBondi...|New South Wales|\n",
      "|344685444|   3|     (30,[13],[2.0])|201658_BankstownC...|New South Wales|\n",
      "|345846207|   8|(30,[7,13],[2.0,1...|202154_NorthBondi...|New South Wales|\n",
      "|346898345|   6|      (30,[7],[1.0])|227403_Rockdale_L...|New South Wales|\n",
      "|347047545|  15|      (30,[7],[1.0])|228184_BaulkhamHi...|New South Wales|\n",
      "|351685101|  17|      (30,[7],[1.0])|201530_DeanPark_L...|New South Wales|\n",
      "|359225971|  12|      (30,[7],[1.0])|201530_DeanPark_L...|New South Wales|\n",
      "|360024349|  10|     (30,[13],[1.0])|201530_DeanPark_L...|New South Wales|\n",
      "|360496160|  11|(30,[0,1,2,4,15],...|202615_Maclean_U0...|New South Wales|\n",
      "|360937007|  15|(30,[25,26],[1.0,...|202183_Guildford_...|New South Wales|\n",
      "|361003856|   8|     (30,[13],[1.0])|201530_DeanPark_L...|New South Wales|\n",
      "|361140789|   6|      (30,[7],[1.0])|227403_Rockdale_L...|New South Wales|\n",
      "|362025898|  15|(30,[9,10,16],[1....|201530_DeanPark_L...|New South Wales|\n",
      "+---------+----+--------------------+--------------------+---------------+\n",
      "only showing top 20 rows\n",
      "\n",
      "113343882"
     ]
    }
   ],
   "source": [
    "nsw_event_df = event_feature_data.join(\n",
    "    cell_info.filter(f.col('state') == 'New South Wales'),\n",
    "    on=event_feature_data.loc_info==cell_info.glbl_loc,\n",
    "    how='inner'\n",
    ").drop('glbl_loc', 'glbl_loc_id', 'loc_info', 'mcc', 'mnc').join(\n",
    "    valid_subs,\n",
    "    on='Subs_Id',\n",
    "    how='inner'\n",
    ")\n",
    "nsw_event_df.show()\n",
    "nsw_event_df.count()"
   ]
  },
  {
   "cell_type": "code",
   "execution_count": 154,
   "id": "9921c1c1",
   "metadata": {},
   "outputs": [
    {
     "data": {
      "application/vnd.jupyter.widget-view+json": {
       "model_id": "",
       "version_major": 2,
       "version_minor": 0
      },
      "text/plain": [
       "FloatProgress(value=0.0, bar_style='info', description='Progress:', layout=Layout(height='25px', width='50%'),…"
      ]
     },
     "metadata": {},
     "output_type": "display_data"
    }
   ],
   "source": [
    "# read the nsw data only\n",
    "# nsw_event_df.write.mode('overwrite').parquet('s3://kl-prod-tpgt-knowledge-lake-sandpit/TempDir/tmp/case_study/nsw_event_sample/dt=2023-01-10/')\n",
    "nsw_event_df = spark.read.parquet('s3://kl-prod-tpgt-knowledge-lake-sandpit/TempDir/tmp/case_study/nsw_event_sample/dt=2023-01-10/')\n"
   ]
  },
  {
   "cell_type": "code",
   "execution_count": 155,
   "id": "26d9a99a",
   "metadata": {},
   "outputs": [
    {
     "data": {
      "application/vnd.jupyter.widget-view+json": {
       "model_id": "",
       "version_major": 2,
       "version_minor": 0
      },
      "text/plain": [
       "FloatProgress(value=0.0, bar_style='info', description='Progress:', layout=Layout(height='25px', width='50%'),…"
      ]
     },
     "metadata": {},
     "output_type": "display_data"
    },
    {
     "name": "stdout",
     "output_type": "stream",
     "text": [
      "+---------+----+--------------------+--------------------+---------------+--------------------+\n",
      "|  Subs_Id|hour|  event_code_feature|           cell_name|          state|         sector_name|\n",
      "+---------+----+--------------------+--------------------+---------------+--------------------+\n",
      "|282239187|  10|      (30,[7],[1.0])|202154_NorthBondi...|New South Wales|202154_NorthBondi...|\n",
      "|317969389|   5|(30,[8,13],[1.0,4...|201530_DeanPark_L...|New South Wales|   201530_DeanPark_2|\n",
      "|318450485|   2|     (30,[13],[3.0])|201658_BankstownC...|New South Wales|201658_BankstownC...|\n",
      "|318484546|  22|     (30,[13],[1.0])|202154_NorthBondi...|New South Wales|202154_NorthBondi...|\n",
      "|318525279|  18|     (30,[13],[1.0])|228310_NeutralBay...|New South Wales|228310_NeutralBay...|\n",
      "|318562842|  15|     (30,[13],[1.0])|202154_NorthBondi...|New South Wales|202154_NorthBondi...|\n",
      "|347769196|   0|     (30,[13],[3.0])|202154_NorthBondi...|New South Wales|202154_NorthBondi...|\n",
      "|352584715|  16|      (30,[7],[2.0])|202154_NorthBondi...|New South Wales|202154_NorthBondi...|\n",
      "|353853969|  21|     (30,[13],[2.0])|201530_DeanPark_L...|New South Wales|   201530_DeanPark_2|\n",
      "|355583372|  18|    (30,[13],[21.0])|201989_Shellharbo...|New South Wales|201989_Shellharbo...|\n",
      "|357494257|  14|(30,[8,13],[1.0,3...|227970_Terrigal_L...|New South Wales|   227970_Terrigal_2|\n",
      "|358858769|  12|     (30,[13],[5.0])|201530_DeanPark_L...|New South Wales|   201530_DeanPark_2|\n",
      "|360369947|  14|     (30,[13],[1.0])|227403_Rockdale_L...|New South Wales|   227403_Rockdale_2|\n",
      "|360527862|  12|    (30,[13],[12.0])|201989_Shellharbo...|New South Wales|201989_Shellharbo...|\n",
      "|360778587|  16|      (30,[7],[1.0])|201658_BankstownC...|New South Wales|201658_BankstownC...|\n",
      "|361093082|  12|      (30,[7],[1.0])|202811_PeakhurstH...|New South Wales|202811_PeakhurstH...|\n",
      "|361151328|  16|     (30,[13],[1.0])|227403_Rockdale_L...|New South Wales|   227403_Rockdale_2|\n",
      "|361558986|  18|     (30,[13],[2.0])|228184_BaulkhamHi...|New South Wales|228184_BaulkhamHi...|\n",
      "|361671414|  14|     (30,[13],[4.0])|227489_RedfernSou...|New South Wales|227489_RedfernSou...|\n",
      "|362096085|  13|(30,[6,8,11,13,16...|201658_BankstownC...|New South Wales|201658_BankstownC...|\n",
      "+---------+----+--------------------+--------------------+---------------+--------------------+\n",
      "only showing top 20 rows"
     ]
    }
   ],
   "source": [
    "@f.udf(returnType=StringType())\n",
    "def resolve_sector_name(cell_name):\n",
    "    \"\"\"\n",
    "    resolve cell name to match with EDS event data\n",
    "    \"\"\"\n",
    "    try:\n",
    "        split_parts = cell_name.split(\"_\")\n",
    "        m2000id = split_parts[0]\n",
    "        site_name = split_parts[1]\n",
    "        cell_number = split_parts[3]\n",
    "        return f\"{m2000id}_{site_name}_{cell_number}\"\n",
    "    except Exception as _:\n",
    "        return cell_name\n",
    "nsw_event_df = nsw_event_df.withColumn('sector_name', resolve_sector_name(f.col('cell_name')))\n",
    "nsw_event_df.show()"
   ]
  },
  {
   "cell_type": "code",
   "execution_count": 156,
   "id": "b5b11472",
   "metadata": {},
   "outputs": [
    {
     "data": {
      "application/vnd.jupyter.widget-view+json": {
       "model_id": "",
       "version_major": 2,
       "version_minor": 0
      },
      "text/plain": [
       "FloatProgress(value=0.0, bar_style='info', description='Progress:', layout=Layout(height='25px', width='50%'),…"
      ]
     },
     "metadata": {},
     "output_type": "display_data"
    },
    {
     "name": "stdout",
     "output_type": "stream",
     "text": [
      "+----------------------+-----------------+\n",
      "|cell_name             |sector_name      |\n",
      "+----------------------+-----------------+\n",
      "|227403_Rockdale_L21H_2|227403_Rockdale_2|\n",
      "|227403_Rockdale_L18A_2|227403_Rockdale_2|\n",
      "|227403_Rockdale_L18B_2|227403_Rockdale_2|\n",
      "|227403_Rockdale_L08A_2|227403_Rockdale_2|\n",
      "+----------------------+-----------------+"
     ]
    }
   ],
   "source": [
    "nsw_event_df.filter(\n",
    "    f.col('sector_name') == '227403_Rockdale_2'\n",
    ").select('cell_name', 'sector_name').dropDuplicates().show(10, False)"
   ]
  },
  {
   "cell_type": "code",
   "execution_count": 157,
   "id": "aaf012d2",
   "metadata": {},
   "outputs": [
    {
     "data": {
      "application/vnd.jupyter.widget-view+json": {
       "model_id": "",
       "version_major": 2,
       "version_minor": 0
      },
      "text/plain": [
       "FloatProgress(value=0.0, bar_style='info', description='Progress:', layout=Layout(height='25px', width='50%'),…"
      ]
     },
     "metadata": {},
     "output_type": "display_data"
    },
    {
     "name": "stdout",
     "output_type": "stream",
     "text": [
      "root\n",
      " |-- starttime: timestamp (nullable = true)\n",
      " |-- sector_name: string (nullable = true)\n",
      " |-- multibeam: long (nullable = true)\n",
      " |-- m2000_id: string (nullable = true)\n",
      " |-- prb_dl_util_pct: double (nullable = true)\n",
      " |-- weighted_prb_dl_util_pct: double (nullable = true)\n",
      " |-- prb_dl_util_pct_multibeam_weighted: double (nullable = true)\n",
      " |-- utilisation: double (nullable = true)\n",
      " |-- chmeas_prb_dl_used_avg: double (nullable = true)\n",
      " |-- mean_prb_avail_pdsch: decimal(38,0) (nullable = true)\n",
      " |-- traf_activeuser_dl_avg: double (nullable = true)\n",
      " |-- thrp_dl_qci_8: decimal(38,4) (nullable = true)\n",
      " |-- thrp_ul_qci_8: decimal(38,4) (nullable = true)\n",
      " |-- dlpayload: decimal(38,0) (nullable = true)\n",
      " |-- ulpayload: decimal(38,0) (nullable = true)\n",
      " |-- hour: integer (nullable = true)"
     ]
    }
   ],
   "source": [
    "# utilisation df\n",
    "utilisation = spark.read.parquet('s3://kl-prod-bi-analy-data-extract/features/kl-prod/ICE/RAN_util_hr_multibeam/part_dt=2023-01-11/')\n",
    "utilisation = utilisation.withColumn('hour', f.hour('starttime'))\n",
    "utilisation.printSchema()\n"
   ]
  },
  {
   "cell_type": "code",
   "execution_count": 158,
   "id": "b811586c",
   "metadata": {},
   "outputs": [
    {
     "data": {
      "application/vnd.jupyter.widget-view+json": {
       "model_id": "",
       "version_major": 2,
       "version_minor": 0
      },
      "text/plain": [
       "FloatProgress(value=0.0, bar_style='info', description='Progress:', layout=Layout(height='25px', width='50%'),…"
      ]
     },
     "metadata": {},
     "output_type": "display_data"
    }
   ],
   "source": [
    "# utilisation_nokia = spark.read.parquet('s3://kl-prod-bi-analy-data-extract/features/kl-prod/ICE/RAN_util_hr_multibeam_nokia/part_dt=2023-01-11/')\n",
    "# utilisation_nokia.printSchema()\n",
    "\n"
   ]
  },
  {
   "cell_type": "code",
   "execution_count": 159,
   "id": "904fb206",
   "metadata": {},
   "outputs": [
    {
     "data": {
      "application/vnd.jupyter.widget-view+json": {
       "model_id": "",
       "version_major": 2,
       "version_minor": 0
      },
      "text/plain": [
       "FloatProgress(value=0.0, bar_style='info', description='Progress:', layout=Layout(height='25px', width='50%'),…"
      ]
     },
     "metadata": {},
     "output_type": "display_data"
    },
    {
     "name": "stdout",
     "output_type": "stream",
     "text": [
      "+-------------------+-------------------+\n",
      "|     max(starttime)|     min(starttime)|\n",
      "+-------------------+-------------------+\n",
      "|2023-01-10 23:00:00|2023-01-10 00:00:00|\n",
      "+-------------------+-------------------+"
     ]
    }
   ],
   "source": [
    "utilisation.select(f.max('starttime'), f.min('starttime')).show()"
   ]
  },
  {
   "cell_type": "code",
   "execution_count": 160,
   "id": "db87ffcf",
   "metadata": {},
   "outputs": [
    {
     "data": {
      "application/vnd.jupyter.widget-view+json": {
       "model_id": "",
       "version_major": 2,
       "version_minor": 0
      },
      "text/plain": [
       "FloatProgress(value=0.0, bar_style='info', description='Progress:', layout=Layout(height='25px', width='50%'),…"
      ]
     },
     "metadata": {},
     "output_type": "display_data"
    },
    {
     "name": "stdout",
     "output_type": "stream",
     "text": [
      "+----+--------------------+---------+--------------------+--------------------+---------------+------------------+\n",
      "|hour|         sector_name|  Subs_Id|  event_code_feature|           cell_name|          state|       utilisation|\n",
      "+----+--------------------+---------+--------------------+--------------------+---------------+------------------+\n",
      "|   5|   201530_DeanPark_2|317969389|(30,[8,13],[1.0,4...|201530_DeanPark_L...|New South Wales|             25.32|\n",
      "|  18|228310_NeutralBay...|318525279|     (30,[13],[1.0])|228310_NeutralBay...|New South Wales|             31.33|\n",
      "|  18|201989_Shellharbo...|355583372|    (30,[13],[21.0])|201989_Shellharbo...|New South Wales|19.498461538461537|\n",
      "|  14|   227970_Terrigal_2|357494257|(30,[8,13],[1.0,3...|227970_Terrigal_L...|New South Wales| 15.76923076923077|\n",
      "|  12|   201530_DeanPark_2|358858769|     (30,[13],[5.0])|201530_DeanPark_L...|New South Wales| 72.79384615384615|\n",
      "|  14|   227403_Rockdale_2|360369947|     (30,[13],[1.0])|227403_Rockdale_L...|New South Wales| 81.89230769230771|\n",
      "|  12|201989_Shellharbo...|360527862|    (30,[13],[12.0])|201989_Shellharbo...|New South Wales|17.504615384615384|\n",
      "|  12|202811_PeakhurstH...|361093082|      (30,[7],[1.0])|202811_PeakhurstH...|New South Wales|15.454999999999998|\n",
      "|  16|   227403_Rockdale_2|361151328|     (30,[13],[1.0])|227403_Rockdale_L...|New South Wales| 83.45846153846153|\n",
      "|  14|227489_RedfernSou...|361671414|     (30,[13],[4.0])|227489_RedfernSou...|New South Wales|41.636923076923075|\n",
      "|   8|   201530_DeanPark_2|364124374|(30,[7,13],[1.0,3...|201530_DeanPark_L...|New South Wales| 53.10769230769231|\n",
      "|  16|   227970_Terrigal_2|364133955|     (30,[13],[1.0])|227970_Terrigal_L...|New South Wales|17.679999999999996|\n",
      "|  13|   201530_DeanPark_2|365064400|(30,[9,13,16],[1....|201530_DeanPark_L...|New South Wales| 72.42153846153846|\n",
      "|  15|   227403_Rockdale_2|367155242|     (30,[13],[3.0])|227403_Rockdale_L...|New South Wales| 83.42769230769231|\n",
      "|   5|   201530_DeanPark_2|368052778|     (30,[13],[2.0])|201530_DeanPark_L...|New South Wales|             25.32|\n",
      "|  11|   201530_DeanPark_2|368933547|     (30,[13],[1.0])|201530_DeanPark_L...|New South Wales|57.298461538461524|\n",
      "|   5|   201530_DeanPark_2|370750570|     (30,[13],[1.0])|201530_DeanPark_L...|New South Wales|             25.32|\n",
      "|  19|   227403_Rockdale_2|370865691|(30,[7,13],[2.0,2...|227403_Rockdale_L...|New South Wales| 82.16307692307693|\n",
      "|   5|   201530_DeanPark_2|371977292|     (30,[13],[1.0])|201530_DeanPark_L...|New South Wales|             25.32|\n",
      "|  16|    202615_Maclean_2|373257655|(30,[2,15],[3.0,3...|202615_Maclean_U0...|New South Wales|              85.8|\n",
      "+----+--------------------+---------+--------------------+--------------------+---------------+------------------+\n",
      "only showing top 20 rows\n",
      "\n",
      "54855701"
     ]
    }
   ],
   "source": [
    "nsw_event_df = nsw_event_df.join(\n",
    "    utilisation.select('hour', 'sector_name', 'utilisation'),\n",
    "    on=['hour', 'sector_name'],\n",
    "    how='inner'\n",
    ")\n",
    "\n",
    "nsw_event_df.show()\n",
    "nsw_event_df.count()"
   ]
  },
  {
   "cell_type": "code",
   "execution_count": 161,
   "id": "b7ef5819",
   "metadata": {},
   "outputs": [
    {
     "data": {
      "application/vnd.jupyter.widget-view+json": {
       "model_id": "",
       "version_major": 2,
       "version_minor": 0
      },
      "text/plain": [
       "FloatProgress(value=0.0, bar_style='info', description='Progress:', layout=Layout(height='25px', width='50%'),…"
      ]
     },
     "metadata": {},
     "output_type": "display_data"
    },
    {
     "name": "stdout",
     "output_type": "stream",
     "text": [
      "+----+--------------------+---------+--------------------+--------------------+---------------+------------------+\n",
      "|hour|         sector_name|  Subs_Id|  event_code_feature|           cell_name|          state|       utilisation|\n",
      "+----+--------------------+---------+--------------------+--------------------+---------------+------------------+\n",
      "|  05|   201530_DeanPark_2|317969389|(30,[8,13],[1.0,4...|201530_DeanPark_L...|New South Wales|             25.32|\n",
      "|  18|228310_NeutralBay...|318525279|     (30,[13],[1.0])|228310_NeutralBay...|New South Wales|             31.33|\n",
      "|  18|201989_Shellharbo...|355583372|    (30,[13],[21.0])|201989_Shellharbo...|New South Wales|19.498461538461537|\n",
      "|  14|   227970_Terrigal_2|357494257|(30,[8,13],[1.0,3...|227970_Terrigal_L...|New South Wales| 15.76923076923077|\n",
      "|  12|   201530_DeanPark_2|358858769|     (30,[13],[5.0])|201530_DeanPark_L...|New South Wales| 72.79384615384615|\n",
      "|  14|   227403_Rockdale_2|360369947|     (30,[13],[1.0])|227403_Rockdale_L...|New South Wales| 81.89230769230771|\n",
      "|  12|201989_Shellharbo...|360527862|    (30,[13],[12.0])|201989_Shellharbo...|New South Wales|17.504615384615384|\n",
      "|  12|202811_PeakhurstH...|361093082|      (30,[7],[1.0])|202811_PeakhurstH...|New South Wales|15.454999999999998|\n",
      "|  16|   227403_Rockdale_2|361151328|     (30,[13],[1.0])|227403_Rockdale_L...|New South Wales| 83.45846153846153|\n",
      "|  14|227489_RedfernSou...|361671414|     (30,[13],[4.0])|227489_RedfernSou...|New South Wales|41.636923076923075|\n",
      "|  08|   201530_DeanPark_2|364124374|(30,[7,13],[1.0,3...|201530_DeanPark_L...|New South Wales| 53.10769230769231|\n",
      "|  16|   227970_Terrigal_2|364133955|     (30,[13],[1.0])|227970_Terrigal_L...|New South Wales|17.679999999999996|\n",
      "|  13|   201530_DeanPark_2|365064400|(30,[9,13,16],[1....|201530_DeanPark_L...|New South Wales| 72.42153846153846|\n",
      "|  15|   227403_Rockdale_2|367155242|     (30,[13],[3.0])|227403_Rockdale_L...|New South Wales| 83.42769230769231|\n",
      "|  05|   201530_DeanPark_2|368052778|     (30,[13],[2.0])|201530_DeanPark_L...|New South Wales|             25.32|\n",
      "|  11|   201530_DeanPark_2|368933547|     (30,[13],[1.0])|201530_DeanPark_L...|New South Wales|57.298461538461524|\n",
      "|  05|   201530_DeanPark_2|370750570|     (30,[13],[1.0])|201530_DeanPark_L...|New South Wales|             25.32|\n",
      "|  19|   227403_Rockdale_2|370865691|(30,[7,13],[2.0,2...|227403_Rockdale_L...|New South Wales| 82.16307692307693|\n",
      "|  05|   201530_DeanPark_2|371977292|     (30,[13],[1.0])|201530_DeanPark_L...|New South Wales|             25.32|\n",
      "|  16|    202615_Maclean_2|373257655|(30,[2,15],[3.0,3...|202615_Maclean_U0...|New South Wales|              85.8|\n",
      "+----+--------------------+---------+--------------------+--------------------+---------------+------------------+\n",
      "only showing top 20 rows"
     ]
    }
   ],
   "source": [
    "nsw_event_df = nsw_event_df.withColumn('hour', f.lpad('hour', 2, '0'))\n",
    "nsw_event_df.show()"
   ]
  },
  {
   "cell_type": "code",
   "execution_count": null,
   "id": "ac5052dd",
   "metadata": {},
   "outputs": [],
   "source": []
  },
  {
   "cell_type": "code",
   "execution_count": null,
   "id": "13e68454",
   "metadata": {},
   "outputs": [],
   "source": []
  },
  {
   "cell_type": "code",
   "execution_count": null,
   "id": "cf4b2f3c",
   "metadata": {},
   "outputs": [],
   "source": []
  },
  {
   "cell_type": "code",
   "execution_count": 162,
   "id": "fc022673",
   "metadata": {},
   "outputs": [
    {
     "data": {
      "application/vnd.jupyter.widget-view+json": {
       "model_id": "",
       "version_major": 2,
       "version_minor": 0
      },
      "text/plain": [
       "FloatProgress(value=0.0, bar_style='info', description='Progress:', layout=Layout(height='25px', width='50%'),…"
      ]
     },
     "metadata": {},
     "output_type": "display_data"
    },
    {
     "name": "stdout",
     "output_type": "stream",
     "text": [
      "root\n",
      " |-- hour: string (nullable = true)\n",
      " |-- sector_name: string (nullable = true)\n",
      " |-- Subs_Id: string (nullable = true)\n",
      " |-- event_code_feature: vector (nullable = true)\n",
      " |-- cell_name: string (nullable = true)\n",
      " |-- state: string (nullable = true)\n",
      " |-- utilisation: double (nullable = true)"
     ]
    }
   ],
   "source": [
    "nsw_event_df.printSchema()"
   ]
  },
  {
   "cell_type": "code",
   "execution_count": 180,
   "id": "fce8ecae",
   "metadata": {},
   "outputs": [
    {
     "data": {
      "application/vnd.jupyter.widget-view+json": {
       "model_id": "",
       "version_major": 2,
       "version_minor": 0
      },
      "text/plain": [
       "FloatProgress(value=0.0, bar_style='info', description='Progress:', layout=Layout(height='25px', width='50%'),…"
      ]
     },
     "metadata": {},
     "output_type": "display_data"
    }
   ],
   "source": [
    "# # trace_id\n",
    "# trace_id = nsw_event_df.select('Subs_Id', 'hour').withColumn(\n",
    "#     'trace_id', \n",
    "#     f.row_number().over(Window().orderBy('Subs_Id', 'hour'))\n",
    "# )\n",
    "# trace_id.show()"
   ]
  },
  {
   "cell_type": "code",
   "execution_count": 168,
   "id": "44219cc5",
   "metadata": {},
   "outputs": [
    {
     "data": {
      "application/vnd.jupyter.widget-view+json": {
       "model_id": "",
       "version_major": 2,
       "version_minor": 0
      },
      "text/plain": [
       "FloatProgress(value=0.0, bar_style='info', description='Progress:', layout=Layout(height='25px', width='50%'),…"
      ]
     },
     "metadata": {},
     "output_type": "display_data"
    },
    {
     "name": "stdout",
     "output_type": "stream",
     "text": [
      "+----+--------------------+----------+--------------------+--------------------+---------------+------------------+--------+\n",
      "|hour|         sector_name|   Subs_Id|  event_code_feature|           cell_name|          state|       utilisation|trace_id|\n",
      "+----+--------------------+----------+--------------------+--------------------+---------------+------------------+--------+\n",
      "|  01|202583_RandwickCe...|2100006261|     (30,[13],[1.0])|202583_RandwickCe...|New South Wales|10.772307692307692|       1|\n",
      "|  04|202583_RandwickCe...|2100006261|      (30,[8],[1.0])|202583_RandwickCe...|New South Wales|12.544615384615383|       2|\n",
      "|  07|202583_RandwickCe...|2100006261|     (30,[13],[1.0])|202583_RandwickCe...|New South Wales|24.883076923076924|       3|\n",
      "|  10|202583_RandwickCe...|2100006261|      (30,[8],[1.0])|202583_RandwickCe...|New South Wales|25.113846153846154|       4|\n",
      "|  12|202583_RandwickCe...|2100006261|     (30,[13],[1.0])|202583_RandwickCe...|New South Wales|43.815384615384616|       5|\n",
      "|  15|202583_RandwickCe...|2100006261|      (30,[8],[1.0])|202583_RandwickCe...|New South Wales| 46.66769230769231|       6|\n",
      "|  17|202583_RandwickCe...|2100006261|     (30,[13],[1.0])|202583_RandwickCe...|New South Wales| 45.51692307692308|       7|\n",
      "|  20|202583_RandwickCe...|2100006261|      (30,[8],[1.0])|202583_RandwickCe...|New South Wales|  58.2523076923077|       8|\n",
      "|  23|202583_RandwickCe...|2100006261|     (30,[13],[1.0])|202583_RandwickCe...|New South Wales| 27.09846153846154|       9|\n",
      "|  00|   227890_Dunheved_1|2100006274|(30,[8,13],[1.0,2...|227890_Dunheved_L...|New South Wales|            23.775|      10|\n",
      "+----+--------------------+----------+--------------------+--------------------+---------------+------------------+--------+\n",
      "only showing top 10 rows"
     ]
    }
   ],
   "source": [
    "flat_nsw = nsw_event_df.withColumn(\n",
    "    'trace_id', \n",
    "    f.rank().over(Window().orderBy('Subs_Id', 'hour'))\n",
    ")\n",
    "flat_nsw.show(10)"
   ]
  },
  {
   "cell_type": "code",
   "execution_count": 177,
   "id": "5c6b7310",
   "metadata": {},
   "outputs": [
    {
     "data": {
      "application/vnd.jupyter.widget-view+json": {
       "model_id": "",
       "version_major": 2,
       "version_minor": 0
      },
      "text/plain": [
       "FloatProgress(value=0.0, bar_style='info', description='Progress:', layout=Layout(height='25px', width='50%'),…"
      ]
     },
     "metadata": {},
     "output_type": "display_data"
    },
    {
     "name": "stdout",
     "output_type": "stream",
     "text": [
      "+---------+----+-----+\n",
      "|  Subs_Id|hour|count|\n",
      "+---------+----+-----+\n",
      "|390914401|  10|   89|\n",
      "|388852765|  11|   86|\n",
      "|372354612|  11|   86|\n",
      "|383291285|  11|   85|\n",
      "|391419389|  10|   79|\n",
      "|362142029|  09|   78|\n",
      "|391232921|  13|   75|\n",
      "|375549430|  10|   74|\n",
      "|390333449|  09|   73|\n",
      "|377318354|  16|   71|\n",
      "+---------+----+-----+"
     ]
    }
   ],
   "source": [
    "flat_nsw.groupBy('Subs_Id', 'hour').count().orderBy(f.col('count').desc()).limit(10).show()"
   ]
  },
  {
   "cell_type": "code",
   "execution_count": 178,
   "id": "812eef1d",
   "metadata": {},
   "outputs": [
    {
     "data": {
      "application/vnd.jupyter.widget-view+json": {
       "model_id": "",
       "version_major": 2,
       "version_minor": 0
      },
      "text/plain": [
       "FloatProgress(value=0.0, bar_style='info', description='Progress:', layout=Layout(height='25px', width='50%'),…"
      ]
     },
     "metadata": {},
     "output_type": "display_data"
    },
    {
     "name": "stdout",
     "output_type": "stream",
     "text": [
      "+----+--------------------+---------+--------------------+--------------------+---------------+------------------+--------+\n",
      "|hour|         sector_name|  Subs_Id|  event_code_feature|           cell_name|          state|       utilisation|trace_id|\n",
      "+----+--------------------+---------+--------------------+--------------------+---------------+------------------+--------+\n",
      "|  03|201647_BondiJunct...|390914401|      (30,[8],[1.0])|201647_BondiJunct...|New South Wales| 9.298461538461538|48387731|\n",
      "|  03|201647_BondiJunct...|390914401|      (30,[8],[2.0])|201647_BondiJunct...|New South Wales| 9.298461538461538|48387731|\n",
      "|  05| 240178_WynyardRep_3|390914401|(30,[7,8],[1.0,1.0])|240178_WynyardRep...|New South Wales| 18.70153846153846|48387733|\n",
      "|  05|202107_NthSydMcLa...|390914401|(30,[7,8],[2.0,1.0])|202107_NthSydMcLa...|New South Wales|20.273846153846154|48387733|\n",
      "|  05|202558_HarbourBri...|390914401|      (30,[7],[1.0])|202558_HarbourBri...|New South Wales|10.732307692307694|48387733|\n",
      "|  05|227389_MillersPoi...|390914401|      (30,[7],[2.0])|227389_MillersPoi...|New South Wales| 11.96923076923077|48387733|\n",
      "|  05|228363_NeutralBay...|390914401|(30,[7,13],[1.0,1...|228363_NeutralBay...|New South Wales| 21.76615384615385|48387733|\n",
      "|  05|202101_MillersPoi...|390914401|      (30,[7],[1.0])|202101_MillersPoi...|New South Wales|              29.2|48387733|\n",
      "|  05|202558_HarbourBri...|390914401|      (30,[7],[1.0])|202558_HarbourBri...|New South Wales|19.569230769230767|48387733|\n",
      "|  05|228340_CahillExpr...|390914401|      (30,[7],[1.0])|228340_CahillExpr...|New South Wales|               4.2|48387733|\n",
      "|  06| 202724_64Clarence_1|390914401|(30,[7,8],[1.0,1.0])|202724_64Clarence...|New South Wales|  9.13846153846154|48387741|\n",
      "|  06|290008_KingStWhar...|390914401|      (30,[7],[1.0])|290008_KingStWhar...|New South Wales| 7.275555555555556|48387741|\n",
      "|  06| 240178_WynyardRep_3|390914401|(30,[7,8,13],[2.0...|240178_WynyardRep...|New South Wales|24.233846153846155|48387741|\n",
      "|  06|202101_MillersPoi...|390914401|(30,[7,8],[3.0,3.0])|202101_MillersPoi...|New South Wales|14.027692307692307|48387741|\n",
      "|  06|290008_KingStWhar...|390914401|      (30,[7],[1.0])|290008_KingStWhar...|New South Wales| 7.275555555555556|48387741|\n",
      "|  06|227499_WynyardWest_1|390914401|(30,[7,8,13],[2.0...|227499_WynyardWes...|New South Wales|12.273846153846154|48387741|\n",
      "|  07|200253_CntlTwnHal...|390914401|(30,[7,8],[1.0,1.0])|200253_CntlTwnHal...|New South Wales| 43.40615384615385|48387747|\n",
      "|  07|200256_CirQuayStJ...|390914401|(30,[7,8],[1.0,1.0])|200256_CirQuayStJ...|New South Wales|             29.32|48387747|\n",
      "|  07| 227779_WynyardSRA_3|390914401|     (30,[13],[4.0])|227779_WynyardSRA...|New South Wales| 17.92923076923077|48387747|\n",
      "|  07| 227779_WynyardSRA_1|390914401|      (30,[7],[1.0])|227779_WynyardSRA...|New South Wales| 20.86769230769231|48387747|\n",
      "+----+--------------------+---------+--------------------+--------------------+---------------+------------------+--------+\n",
      "only showing top 20 rows"
     ]
    }
   ],
   "source": [
    "flat_nsw.filter((f.col('Subs_Id') == '390914401')).show()"
   ]
  },
  {
   "cell_type": "code",
   "execution_count": 179,
   "id": "5f87743e",
   "metadata": {},
   "outputs": [
    {
     "data": {
      "application/vnd.jupyter.widget-view+json": {
       "model_id": "",
       "version_major": 2,
       "version_minor": 0
      },
      "text/plain": [
       "FloatProgress(value=0.0, bar_style='info', description='Progress:', layout=Layout(height='25px', width='50%'),…"
      ]
     },
     "metadata": {},
     "output_type": "display_data"
    }
   ],
   "source": [
    "flat_nsw.write.parquet('s3://kl-prod-tpgt-knowledge-lake-sandpit/TempDir/tmp/case_study/nsw_event_trace/dt=2023-01-10/')"
   ]
  },
  {
   "cell_type": "code",
   "execution_count": 181,
   "id": "6ac76f4e",
   "metadata": {},
   "outputs": [],
   "source": [
    "%cleanup -f"
   ]
  },
  {
   "cell_type": "markdown",
   "id": "2293c45f",
   "metadata": {},
   "source": [
    "## Features"
   ]
  },
  {
   "cell_type": "code",
   "execution_count": 148,
   "id": "f6baf750",
   "metadata": {
    "scrolled": true
   },
   "outputs": [
    {
     "data": {
      "application/vnd.jupyter.widget-view+json": {
       "model_id": "",
       "version_major": 2,
       "version_minor": 0
      },
      "text/plain": [
       "FloatProgress(value=0.0, bar_style='info', description='Progress:', layout=Layout(height='25px', width='50%'),…"
      ]
     },
     "metadata": {},
     "output_type": "display_data"
    },
    {
     "name": "stdout",
     "output_type": "stream",
     "text": [
      "+----+--------------------+----------+--------------------+--------------------+---------------+------------------+--------+\n",
      "|hour|         sector_name|   Subs_Id|  event_code_feature|           cell_name|          state|       utilisation|trace_id|\n",
      "+----+--------------------+----------+--------------------+--------------------+---------------+------------------+--------+\n",
      "|  01|202583_RandwickCe...|2100006261|     (30,[13],[1.0])|202583_RandwickCe...|New South Wales|10.772307692307692|       1|\n",
      "|  04|202583_RandwickCe...|2100006261|      (30,[8],[1.0])|202583_RandwickCe...|New South Wales|12.544615384615383|       2|\n",
      "|  07|202583_RandwickCe...|2100006261|     (30,[13],[1.0])|202583_RandwickCe...|New South Wales|24.883076923076924|       3|\n",
      "|  10|202583_RandwickCe...|2100006261|      (30,[8],[1.0])|202583_RandwickCe...|New South Wales|25.113846153846154|       4|\n",
      "|  12|202583_RandwickCe...|2100006261|     (30,[13],[1.0])|202583_RandwickCe...|New South Wales|43.815384615384616|       5|\n",
      "|  15|202583_RandwickCe...|2100006261|      (30,[8],[1.0])|202583_RandwickCe...|New South Wales| 46.66769230769231|       6|\n",
      "|  17|202583_RandwickCe...|2100006261|     (30,[13],[1.0])|202583_RandwickCe...|New South Wales| 45.51692307692308|       7|\n",
      "|  20|202583_RandwickCe...|2100006261|      (30,[8],[1.0])|202583_RandwickCe...|New South Wales|  58.2523076923077|       8|\n",
      "|  23|202583_RandwickCe...|2100006261|     (30,[13],[1.0])|202583_RandwickCe...|New South Wales| 27.09846153846154|       9|\n",
      "|  00|   227890_Dunheved_1|2100006274|(30,[8,13],[1.0,2...|227890_Dunheved_L...|New South Wales|            23.775|      10|\n",
      "|  03|   227890_Dunheved_1|2100006274|      (30,[8],[1.0])|227890_Dunheved_L...|New South Wales|            11.275|      11|\n",
      "|  08|   227890_Dunheved_1|2100006274|      (30,[8],[1.0])|227890_Dunheved_L...|New South Wales|             44.75|      12|\n",
      "|  10|   227890_Dunheved_1|2100006274|     (30,[13],[1.0])|227890_Dunheved_L...|New South Wales|             34.58|      13|\n",
      "|  13|   227890_Dunheved_1|2100006274|      (30,[8],[1.0])|227890_Dunheved_L...|New South Wales|            35.915|      14|\n",
      "|  01| 202286_StLeonards_1|2100006285|      (30,[8],[1.0])|202286_StLeonards...|New South Wales| 9.258461538461537|      15|\n",
      "|  02| 202286_StLeonards_1|2100006285|     (30,[13],[1.0])|202286_StLeonards...|New South Wales|              5.64|      16|\n",
      "|  05| 202286_StLeonards_1|2100006285|      (30,[8],[1.0])|202286_StLeonards...|New South Wales|11.172307692307692|      17|\n",
      "|  11| 202286_StLeonards_1|2100006285|      (30,[8],[1.0])|202286_StLeonards...|New South Wales|43.036923076923074|      18|\n",
      "|  13| 202286_StLeonards_1|2100006285|     (30,[13],[1.0])|202286_StLeonards...|New South Wales| 42.10153846153847|      19|\n",
      "|  16| 202286_StLeonards_1|2100006285|(30,[7,13],[1.0,1...|202286_StLeonards...|New South Wales|             29.08|      20|\n",
      "+----+--------------------+----------+--------------------+--------------------+---------------+------------------+--------+\n",
      "only showing top 20 rows"
     ]
    }
   ],
   "source": [
    "flat_nsw = spark.read.parquet('s3://kl-prod-tpgt-knowledge-lake-sandpit/TempDir/tmp/case_study/nsw_event_trace/dt=2023-01-10/')\n",
    "flat_nsw.show()"
   ]
  },
  {
   "cell_type": "code",
   "execution_count": 6,
   "id": "00e91ce7",
   "metadata": {},
   "outputs": [
    {
     "data": {
      "application/vnd.jupyter.widget-view+json": {
       "model_id": "",
       "version_major": 2,
       "version_minor": 0
      },
      "text/plain": [
       "FloatProgress(value=0.0, bar_style='info', description='Progress:', layout=Layout(height='25px', width='50%'),…"
      ]
     },
     "metadata": {},
     "output_type": "display_data"
    },
    {
     "name": "stdout",
     "output_type": "stream",
     "text": [
      "+----------+----+--------------------+\n",
      "|   Subs_Id|hour|  event_code_feature|\n",
      "+----------+----+--------------------+\n",
      "|2100006360|  23|(30,[7,13],[1.0,3...|\n",
      "|2100006525|  04|    (30,[13],[20.0])|\n",
      "|2100006553|  22|     (30,[13],[2.0])|\n",
      "|2100006566|  01|(30,[12,13],[1.0,...|\n",
      "|2100006758|  14|(30,[7,13],[2.0,1...|\n",
      "|2100006787|  09|(30,[7,13],[1.0,1...|\n",
      "|2100006787|  10|(30,[7,13],[2.0,8...|\n",
      "|2100006952|  02|     (30,[13],[4.0])|\n",
      "|2100007034|  07|(30,[7,12,13],[1....|\n",
      "|2100007302|  08|      (30,[8],[1.0])|\n",
      "|2100007307|  06|     (30,[13],[3.0])|\n",
      "|2100007369|  07|(30,[7,8,13],[1.0...|\n",
      "|2100007428|  17|     (30,[13],[1.0])|\n",
      "|2100007534|  16|      (30,[7],[2.0])|\n",
      "|2100007889|  17|(30,[7,8,9,10,13,...|\n",
      "|2100008095|  16|(30,[12,13],[1.0,...|\n",
      "|2100008116|  08|(30,[7,8,11,12,13...|\n",
      "|2100008116|  18|(30,[7,8,11,12,13...|\n",
      "|2100008209|  15|(30,[7,13],[6.0,4...|\n",
      "|2100008421|  00|     (30,[13],[1.0])|\n",
      "+----------+----+--------------------+\n",
      "only showing top 20 rows\n",
      "\n",
      "15006085"
     ]
    }
   ],
   "source": [
    "subs_features = flat_nsw.groupBy('Subs_Id', 'hour').agg(\n",
    "    sparse_vector_sum(f.collect_list('event_code_feature')).alias('event_code_feature')\n",
    ")\n",
    "\n",
    "subs_features.show()\n",
    "subs_features.count()"
   ]
  },
  {
   "cell_type": "code",
   "execution_count": 7,
   "id": "52299f66",
   "metadata": {},
   "outputs": [
    {
     "data": {
      "application/vnd.jupyter.widget-view+json": {
       "model_id": "",
       "version_major": 2,
       "version_minor": 0
      },
      "text/plain": [
       "FloatProgress(value=0.0, bar_style='info', description='Progress:', layout=Layout(height='25px', width='50%'),…"
      ]
     },
     "metadata": {},
     "output_type": "display_data"
    },
    {
     "name": "stdout",
     "output_type": "stream",
     "text": [
      "+--------------------+----+--------------------+\n",
      "|           cell_name|hour|  event_code_feature|\n",
      "+--------------------+----+--------------------+\n",
      "|200027_MLCCentre_...|  07|(30,[5,6,7,8,9,10...|\n",
      "|200031_ChifleyTwr...|  14|(30,[5,6,7,8,9,10...|\n",
      "|200031_ChifleyTwr...|  07|(30,[0,1,2,4,15],...|\n",
      "|200032_GrosvenorP...|  15|(30,[5,6,7,8,9,10...|\n",
      "|200032_GrosvenorP...|  12|(30,[5,7,8,9,10,1...|\n",
      "|200032_GrosvenorP...|  07|(30,[6,7,8,9,12,1...|\n",
      "|200033_Gateway_U2...|  10|(30,[4,15],[1.0,1...|\n",
      "|200036_WinterGdnP...|  22|(30,[2,4,15],[1.0...|\n",
      "|200038_MaritimeCe...|  07|(30,[7,8,11,13,16...|\n",
      "|200040_MacquarieS...|  22|(30,[6,7,8,9,10,1...|\n",
      "|200040_MacquarieS...|  17|(30,[5,6,7,8,9,10...|\n",
      "|200040_MacquarieS...|  05|(30,[7,8,10,13],[...|\n",
      "|200040_MacquarieS...|  05|(30,[6,7,8,11,12,...|\n",
      "|200040_MacquarieS...|  11|(30,[6,7,8,9,10,1...|\n",
      "|200046_StarCityHo...|  14|(30,[7,8,10,13,16...|\n",
      "|200046_StarCityHo...|  10|(30,[7,8,9,10,13,...|\n",
      "|200046_StarCityHo...|  18|(30,[4,15],[1.0,1...|\n",
      "|200048_AAPTWorldS...|  05|(30,[7,8,11,13,16...|\n",
      "|200048_AAPTWorldS...|  06|(30,[7,8,9,10,11,...|\n",
      "|200048_AAPTWorldS...|  05|(30,[7,8,9,10,13,...|\n",
      "+--------------------+----+--------------------+\n",
      "only showing top 20 rows\n",
      "\n",
      "225170"
     ]
    }
   ],
   "source": [
    "cell_features = flat_nsw.groupBy('cell_name', 'hour').agg(\n",
    "    sparse_vector_sum(f.collect_list('event_code_feature')).alias('event_code_feature')\n",
    ")\n",
    "\n",
    "cell_features.show()\n",
    "cell_features.count()"
   ]
  },
  {
   "cell_type": "code",
   "execution_count": 8,
   "id": "4217e2d7",
   "metadata": {},
   "outputs": [
    {
     "data": {
      "application/vnd.jupyter.widget-view+json": {
       "model_id": "",
       "version_major": 2,
       "version_minor": 0
      },
      "text/plain": [
       "FloatProgress(value=0.0, bar_style='info', description='Progress:', layout=Layout(height='25px', width='50%'),…"
      ]
     },
     "metadata": {},
     "output_type": "display_data"
    },
    {
     "name": "stdout",
     "output_type": "stream",
     "text": [
      "+--------------------+----+--------------------+\n",
      "|         sector_name|hour|  event_code_feature|\n",
      "+--------------------+----+--------------------+\n",
      "|200028_AustraliaS...|  17|(30,[0,1,2,4,5,6,...|\n",
      "|  200034_Metcentre_3|  10|(30,[0,1,2,4,5,6,...|\n",
      "|200036_WinterGdnP...|  12|(30,[5,6,7,8,9,10...|\n",
      "|200046_StarCityHo...|  10|(30,[4,5,6,7,8,9,...|\n",
      "|200130_MGLBuilding_1|  23|(30,[7,8],[2.0,1.0])|\n",
      "|200130_MGLBuilding_3|  00|(30,[7,8,9,10,11,...|\n",
      "| 200132_WavertonRS_2|  19|(30,[5,6,7,8,9,10...|\n",
      "|200140_DarlingPar...|  02|(30,[7,13],[4.0,1...|\n",
      "|200216_CastlerghK...|  14|(30,[5,6,7,8,9,10...|\n",
      "|200219_AuroraPlace_4|  09|(30,[7,8,9,10,11,...|\n",
      "|200226_FairfaxMed...|  08|(30,[4,7,8,9,10,1...|\n",
      "|200229_NthSydneyR...|  08|(30,[2,5,6,7,8,9,...|\n",
      "|200238_SheratonOn...|  16|(30,[2,4,5,6,7,8,...|\n",
      "|200240_Darlingprk...|  05|(30,[6,7,8,9,10,1...|\n",
      "|200243_126Phillip...|  06|(30,[5,7,8,13],[2...|\n",
      "|200243_126Phillip...|  19|(30,[5,7,8,9,10,1...|\n",
      "|200246_TownHallWy...|  12|(30,[2,5,6,7,8,9,...|\n",
      "|200246_TownHallWy...|  19|(30,[2,4,5,6,7,8,...|\n",
      "|200366_HaldonStre...|  09|(30,[5,6,7,8,9,10...|\n",
      "|200371_GeorgeChar...|  00|(30,[6,7,8,9,10,1...|\n",
      "+--------------------+----+--------------------+\n",
      "only showing top 20 rows\n",
      "\n",
      "69681"
     ]
    }
   ],
   "source": [
    "sector_features = flat_nsw.groupBy('sector_name', 'hour').agg(\n",
    "    sparse_vector_sum(f.collect_list('event_code_feature')).alias('event_code_feature')\n",
    ")\n",
    "\n",
    "sector_features.show()\n",
    "sector_features.count()"
   ]
  },
  {
   "cell_type": "code",
   "execution_count": 9,
   "id": "83da4f8d",
   "metadata": {},
   "outputs": [
    {
     "data": {
      "application/vnd.jupyter.widget-view+json": {
       "model_id": "",
       "version_major": 2,
       "version_minor": 0
      },
      "text/plain": [
       "FloatProgress(value=0.0, bar_style='info', description='Progress:', layout=Layout(height='25px', width='50%'),…"
      ]
     },
     "metadata": {},
     "output_type": "display_data"
    },
    {
     "name": "stdout",
     "output_type": "stream",
     "text": [
      "+--------------------+----+------------------+\n",
      "|         sector_name|hour|  max(utilisation)|\n",
      "+--------------------+----+------------------+\n",
      "|227899_IngleburnW...|  01|16.572307692307692|\n",
      "|    202525_Leumeah_2|  11|37.723076923076924|\n",
      "|   202807_Woolwich_2|  16| 49.12615384615385|\n",
      "|201799_BadgeryCre...|  19| 19.27076923076923|\n",
      "|    227623_Lugarno_3|  18|              9.89|\n",
      "|     202975_Rhodes_3|  14| 66.24615384615385|\n",
      "|201872_Charlestown_2|  09| 19.92923076923077|\n",
      "|201901_CulburraBe...|  15|             31.48|\n",
      "|    240136_Gorokan_3|  12| 81.07384615384615|\n",
      "|    202533_JLTower_2|  04| 6.156923076923078|\n",
      "|240086_M7QuakersH...|  08|            41.505|\n",
      "|201998_ClaymoreCe...|  16|            40.148|\n",
      "|202347_NewCastleE...|  06| 23.53538461538461|\n",
      "|    202512_Revesby_3|  15| 6.772307692307693|\n",
      "|228040_RootyHillM7_3|  14| 32.18153846153846|\n",
      "|201690_GlenbrookW...|  23| 4.406153846153846|\n",
      "| 227994_PenrithCBD_3|  17| 61.07076923076923|\n",
      "|      202207_Umina_1|  05|10.363636363636363|\n",
      "|227476_MaroubraBe...|  10|38.901538461538465|\n",
      "|202669_LindenSouth_2|  16| 2.727272727272727|\n",
      "+--------------------+----+------------------+\n",
      "only showing top 20 rows"
     ]
    }
   ],
   "source": [
    "flat_nsw.groupBy('sector_name', 'hour').max('utilisation').show()"
   ]
  },
  {
   "cell_type": "code",
   "execution_count": 150,
   "id": "203c0acd",
   "metadata": {},
   "outputs": [
    {
     "data": {
      "application/vnd.jupyter.widget-view+json": {
       "model_id": "",
       "version_major": 2,
       "version_minor": 0
      },
      "text/plain": [
       "FloatProgress(value=0.0, bar_style='info', description='Progress:', layout=Layout(height='25px', width='50%'),…"
      ]
     },
     "metadata": {},
     "output_type": "display_data"
    },
    {
     "name": "stdout",
     "output_type": "stream",
     "text": [
      "+--------+\n",
      "|trace_id|\n",
      "+--------+\n",
      "|       1|\n",
      "|       2|\n",
      "|       3|\n",
      "|       4|\n",
      "|       5|\n",
      "|       6|\n",
      "|       7|\n",
      "|       8|\n",
      "|       9|\n",
      "|      10|\n",
      "|      11|\n",
      "|      12|\n",
      "|      13|\n",
      "|      14|\n",
      "|      15|\n",
      "|      16|\n",
      "|      17|\n",
      "|      18|\n",
      "|      19|\n",
      "|      20|\n",
      "+--------+\n",
      "only showing top 20 rows"
     ]
    }
   ],
   "source": [
    "flat_nsw.select('trace_id').show()"
   ]
  },
  {
   "cell_type": "code",
   "execution_count": 153,
   "id": "fae0dd15",
   "metadata": {},
   "outputs": [
    {
     "data": {
      "application/vnd.jupyter.widget-view+json": {
       "model_id": "",
       "version_major": 2,
       "version_minor": 0
      },
      "text/plain": [
       "FloatProgress(value=0.0, bar_style='info', description='Progress:', layout=Layout(height='25px', width='50%'),…"
      ]
     },
     "metadata": {},
     "output_type": "display_data"
    },
    {
     "name": "stdout",
     "output_type": "stream",
     "text": [
      "+--------+\n",
      "|trace_id|\n",
      "+--------+\n",
      "|54855701|\n",
      "|54855700|\n",
      "|54855678|\n",
      "|54855678|\n",
      "|54855678|\n",
      "|54855678|\n",
      "|54855678|\n",
      "|54855678|\n",
      "|54855678|\n",
      "|54855678|\n",
      "|54855678|\n",
      "|54855678|\n",
      "|54855678|\n",
      "|54855678|\n",
      "|54855678|\n",
      "|54855678|\n",
      "|54855678|\n",
      "|54855678|\n",
      "|54855678|\n",
      "|54855678|\n",
      "+--------+\n",
      "only showing top 20 rows"
     ]
    }
   ],
   "source": [
    "flat_nsw.select('trace_id').orderBy(f.col('trace_id').desc()).show()"
   ]
  },
  {
   "cell_type": "code",
   "execution_count": 152,
   "id": "24b340a0",
   "metadata": {},
   "outputs": [
    {
     "data": {
      "application/vnd.jupyter.widget-view+json": {
       "model_id": "",
       "version_major": 2,
       "version_minor": 0
      },
      "text/plain": [
       "FloatProgress(value=0.0, bar_style='info', description='Progress:', layout=Layout(height='25px', width='50%'),…"
      ]
     },
     "metadata": {},
     "output_type": "display_data"
    },
    {
     "name": "stdout",
     "output_type": "stream",
     "text": [
      "54855701"
     ]
    }
   ],
   "source": [
    "flat_nsw.count()"
   ]
  },
  {
   "cell_type": "code",
   "execution_count": 158,
   "id": "b43c4291",
   "metadata": {},
   "outputs": [
    {
     "data": {
      "application/vnd.jupyter.widget-view+json": {
       "model_id": "",
       "version_major": 2,
       "version_minor": 0
      },
      "text/plain": [
       "FloatProgress(value=0.0, bar_style='info', description='Progress:', layout=Layout(height='25px', width='50%'),…"
      ]
     },
     "metadata": {},
     "output_type": "display_data"
    }
   ],
   "source": [
    "# trace_id_map = flat_nsw.select('Subs_Id', 'hour').withColumn(\n",
    "#     'trace_id', f.row_number().over(Window.orderBy('Subs_Id', 'hour'))\n",
    "# ).show()"
   ]
  },
  {
   "cell_type": "markdown",
   "id": "fe0ccc66",
   "metadata": {},
   "source": [
    "## Trace Info"
   ]
  },
  {
   "cell_type": "code",
   "execution_count": 159,
   "id": "cb779f71",
   "metadata": {},
   "outputs": [
    {
     "data": {
      "application/vnd.jupyter.widget-view+json": {
       "model_id": "",
       "version_major": 2,
       "version_minor": 0
      },
      "text/plain": [
       "FloatProgress(value=0.0, bar_style='info', description='Progress:', layout=Layout(height='25px', width='50%'),…"
      ]
     },
     "metadata": {},
     "output_type": "display_data"
    },
    {
     "name": "stdout",
     "output_type": "stream",
     "text": [
      "+----------+----------+----+--------------------+-------------+---------------+-----------------+----------------+--------------------+-------------+---------------+-----------------+----------------+--------------------+-------------+---------------+-----------------+----------------+------------------+-------------+---------------+-----------------+----------------+--------------------+-------------+---------------+-----------------+----------------+--------------------+-------------+---------------+-----------------+----------------+-------------------+-------------+---------------+-----------------+----------------+--------------------+-------------+---------------+-----------------+----------------+--------------------+-------------+---------------+-----------------+----------------+--------------------+--------------+----------------+------------------+-----------------+------------+------------------------+------------------------+------------------------+------------------------+------------------------+------------------------+------------------------+------------------------+------------------------+-------------------------+-----------------------------+-----------------------------+-----------------------------+-----------------------------+-----------------------------+-----------------------------+-----------------------------+-----------------------------+-----------------------------+------------------------------+-------------------------------+-----------------------------+-------------------------+\n",
      "|   Subs_Id|local_date|hour|       sector_name_1|sn_1_numevent|sn_1_numLTEevnt|sn_1_numIRRegevnt|sn_1_utilisation|       sector_name_2|sn_2_numevent|sn_2_numLTEevnt|sn_2_numIRRegevnt|sn_2_utilisation|       sector_name_3|sn_3_numevent|sn_3_numLTEevnt|sn_3_numIRRegevnt|sn_3_utilisation|     sector_name_4|sn_4_numevent|sn_4_numLTEevnt|sn_4_numIRRegevnt|sn_4_utilisation|       sector_name_5|sn_5_numevent|sn_5_numLTEevnt|sn_5_numIRRegevnt|sn_5_utilisation|       sector_name_6|sn_6_numevent|sn_6_numLTEevnt|sn_6_numIRRegevnt|sn_6_utilisation|      sector_name_7|sn_7_numevent|sn_7_numLTEevnt|sn_7_numIRRegevnt|sn_7_utilisation|       sector_name_8|sn_8_numevent|sn_8_numLTEevnt|sn_8_numIRRegevnt|sn_8_utilisation|       sector_name_9|sn_9_numevent|sn_9_numLTEevnt|sn_9_numIRRegevnt|sn_9_utilisation|      sector_name_10|sn_10_numevent|sn_10_numLTEevnt|sn_10_numIRRegevnt|sn_10_utilisation|total_events|sn_1_numevent_percentage|sn_2_numevent_percentage|sn_3_numevent_percentage|sn_4_numevent_percentage|sn_5_numevent_percentage|sn_6_numevent_percentage|sn_7_numevent_percentage|sn_8_numevent_percentage|sn_9_numevent_percentage|sn_10_numevent_percentage|irregular_events_1_percentage|irregular_events_2_percentage|irregular_events_3_percentage|irregular_events_4_percentage|irregular_events_5_percentage|irregular_events_6_percentage|irregular_events_7_percentage|irregular_events_8_percentage|irregular_events_9_percentage|irregular_events_10_percentage|customer_experience_utilisation|customer_experience_irregular|customer_experience_index|\n",
      "+----------+----------+----+--------------------+-------------+---------------+-----------------+----------------+--------------------+-------------+---------------+-----------------+----------------+--------------------+-------------+---------------+-----------------+----------------+------------------+-------------+---------------+-----------------+----------------+--------------------+-------------+---------------+-----------------+----------------+--------------------+-------------+---------------+-----------------+----------------+-------------------+-------------+---------------+-----------------+----------------+--------------------+-------------+---------------+-----------------+----------------+--------------------+-------------+---------------+-----------------+----------------+--------------------+--------------+----------------+------------------+-----------------+------------+------------------------+------------------------+------------------------+------------------------+------------------------+------------------------+------------------------+------------------------+------------------------+-------------------------+-----------------------------+-----------------------------+-----------------------------+-----------------------------+-----------------------------+-----------------------------+-----------------------------+-----------------------------+-----------------------------+------------------------------+-------------------------------+-----------------------------+-------------------------+\n",
      "|      null|2023-01-10|  16|                null|      6027856|        3631499|          2396357|             0.0|303160_NorthMelbo...|        10306|           8859|             1447|       55.975384|     606105_Albany_1|         7427|           6004|             1423|        67.19428| 202418_Griffith_1|         7252|           2861|             4391|             0.0|  242502_EastDubbo_2|         6614|           3902|             2712|           74.06|202402_PortMacqua...|         6092|           4631|             1461|           83.08|477193_Noosaville_1|         5791|           5337|              454|           56.45|201987_Farmborough_3|         5662|           3880|             1782|            53.0|201574_MarsfieldW...|         5646|            812|             4834|       32.630768|227434_HomebushSh...|          5377|            2328|              3049|              0.0|     6088023|              0.99011713|             0.001692832|            0.0012199363|            0.0011911913|            0.0010863954|            0.0010006533|             9.512119E-4|            9.3002274E-4|            9.2739466E-4|              8.832095E-4|                   0.39754716|                   0.14040364|                   0.19159822|                    0.6054881|                    0.4100393|                   0.23982272|                   0.07839751|                   0.31472978|                    0.8561814|                     0.5670448|                          100.0|                         60.0|                     72.0|\n",
      "|2000680073|2023-01-10|  14|606007_Scarborough_2|           30|              2|               28|             0.0|606007_Scarboroug...|           17|              0|               17|             0.0|                null|            1|              0|                1|             0.0|              null|            0|              0|                0|             0.0|                null|            0|              0|                0|             0.0|                null|            0|              0|                0|             0.0|               null|            0|              0|                0|             0.0|                null|            0|              0|                0|             0.0|                null|            0|              0|                0|             0.0|                null|             0|               0|                 0|              0.0|          48|                   0.625|              0.35416666|             0.020833334|                     0.0|                     0.0|                     0.0|                     0.0|                     0.0|                     0.0|                      0.0|                   0.93333334|                          1.0|                          1.0|                          0.0|                          0.0|                          0.0|                          0.0|                          0.0|                          0.0|                           0.0|                          100.0|                          4.0|                     33.0|\n",
      "|2003739529|2023-01-10|  20|                null|            9|              9|                0|             0.0|                null|            0|              0|                0|             0.0|                null|            0|              0|                0|             0.0|              null|            0|              0|                0|             0.0|                null|            0|              0|                0|             0.0|                null|            0|              0|                0|             0.0|               null|            0|              0|                0|             0.0|                null|            0|              0|                0|             0.0|                null|            0|              0|                0|             0.0|                null|             0|               0|                 0|              0.0|           9|                     1.0|                     0.0|                     0.0|                     0.0|                     0.0|                     0.0|                     0.0|                     0.0|                     0.0|                      0.0|                          0.0|                          0.0|                          0.0|                          0.0|                          0.0|                          0.0|                          0.0|                          0.0|                          0.0|                           0.0|                          100.0|                        100.0|                    100.0|\n",
      "|2004266771|2023-01-10|  05|                null|           13|             11|                2|             0.0|    202891_Kurnell_3|            7|              7|                0|             0.0|                null|            0|              0|                0|             0.0|              null|            0|              0|                0|             0.0|                null|            0|              0|                0|             0.0|                null|            0|              0|                0|             0.0|               null|            0|              0|                0|             0.0|                null|            0|              0|                0|             0.0|                null|            0|              0|                0|             0.0|                null|             0|               0|                 0|              0.0|          20|                    0.65|                    0.35|                     0.0|                     0.0|                     0.0|                     0.0|                     0.0|                     0.0|                     0.0|                      0.0|                   0.15384616|                          0.0|                          0.0|                          0.0|                          0.0|                          0.0|                          0.0|                          0.0|                          0.0|                           0.0|                          100.0|                         90.0|                     93.0|\n",
      "|2005181050|2023-01-10|  04|404936_SurfersCen...|            5|              5|                0|       10.221818|                null|            0|              0|                0|             0.0|                null|            0|              0|                0|             0.0|              null|            0|              0|                0|             0.0|                null|            0|              0|                0|             0.0|                null|            0|              0|                0|             0.0|               null|            0|              0|                0|             0.0|                null|            0|              0|                0|             0.0|                null|            0|              0|                0|             0.0|                null|             0|               0|                 0|              0.0|           5|                     1.0|                     0.0|                     0.0|                     0.0|                     0.0|                     0.0|                     0.0|                     0.0|                     0.0|                      0.0|                          0.0|                          0.0|                          0.0|                          0.0|                          0.0|                          0.0|                          0.0|                          0.0|                          0.0|                           0.0|                           90.0|                        100.0|                     97.0|\n",
      "|2005314561|2023-01-10|  16|202479_Muswellbro...|            1|              1|                0|           92.88|                null|            0|              0|                0|             0.0|                null|            0|              0|                0|             0.0|              null|            0|              0|                0|             0.0|                null|            0|              0|                0|             0.0|                null|            0|              0|                0|             0.0|               null|            0|              0|                0|             0.0|                null|            0|              0|                0|             0.0|                null|            0|              0|                0|             0.0|                null|             0|               0|                 0|              0.0|           1|                     1.0|                     0.0|                     0.0|                     0.0|                     0.0|                     0.0|                     0.0|                     0.0|                     0.0|                      0.0|                          0.0|                          0.0|                          0.0|                          0.0|                          0.0|                          0.0|                          0.0|                          0.0|                          0.0|                           0.0|                            7.0|                        100.0|                     72.0|\n",
      "|2005324995|2023-01-10|  11|588330_PirieStreet_1|            5|              0|                5|        57.31273|                null|            0|              0|                0|             0.0|                null|            0|              0|                0|             0.0|              null|            0|              0|                0|             0.0|                null|            0|              0|                0|             0.0|                null|            0|              0|                0|             0.0|               null|            0|              0|                0|             0.0|                null|            0|              0|                0|             0.0|                null|            0|              0|                0|             0.0|                null|             0|               0|                 0|              0.0|           5|                     1.0|                     0.0|                     0.0|                     0.0|                     0.0|                     0.0|                     0.0|                     0.0|                     0.0|                      0.0|                          1.0|                          0.0|                          0.0|                          0.0|                          0.0|                          0.0|                          0.0|                          0.0|                          0.0|                           0.0|                           43.0|                          0.0|                     13.0|\n",
      "|2010000054|2023-01-10|  17|                null|           24|             24|                0|             0.0|340274_StKildaHig...|            6|              6|                0|             0.0|                null|            0|              0|                0|             0.0|              null|            0|              0|                0|             0.0|                null|            0|              0|                0|             0.0|                null|            0|              0|                0|             0.0|               null|            0|              0|                0|             0.0|                null|            0|              0|                0|             0.0|                null|            0|              0|                0|             0.0|                null|             0|               0|                 0|              0.0|          30|                     0.8|                     0.2|                     0.0|                     0.0|                     0.0|                     0.0|                     0.0|                     0.0|                     0.0|                      0.0|                          0.0|                          0.0|                          0.0|                          0.0|                          0.0|                          0.0|                          0.0|                          0.0|                          0.0|                           0.0|                          100.0|                        100.0|                    100.0|\n",
      "|2010000057|2023-01-10|  05| 606014_MosmanPark_1|            4|              4|                0|        4.701818|                null|            0|              0|                0|             0.0|                null|            0|              0|                0|             0.0|              null|            0|              0|                0|             0.0|                null|            0|              0|                0|             0.0|                null|            0|              0|                0|             0.0|               null|            0|              0|                0|             0.0|                null|            0|              0|                0|             0.0|                null|            0|              0|                0|             0.0|                null|             0|               0|                 0|              0.0|           4|                     1.0|                     0.0|                     0.0|                     0.0|                     0.0|                     0.0|                     0.0|                     0.0|                     0.0|                      0.0|                          0.0|                          0.0|                          0.0|                          0.0|                          0.0|                          0.0|                          0.0|                          0.0|                          0.0|                           0.0|                           95.0|                        100.0|                     99.0|\n",
      "|2010000265|2023-01-10|  20|                null|            7|              7|                0|             0.0|505709_DarwinHosp...|            3|              3|                0|          51.995|505709_DarwinHosp...|            1|              1|                0|           36.84|              null|            0|              0|                0|             0.0|                null|            0|              0|                0|             0.0|                null|            0|              0|                0|             0.0|               null|            0|              0|                0|             0.0|                null|            0|              0|                0|             0.0|                null|            0|              0|                0|             0.0|                null|             0|               0|                 0|              0.0|          11|               0.6363636|              0.27272728|              0.09090909|                     0.0|                     0.0|                     0.0|                     0.0|                     0.0|                     0.0|                      0.0|                          0.0|                          0.0|                          0.0|                          0.0|                          0.0|                          0.0|                          0.0|                          0.0|                          0.0|                           0.0|                           82.0|                        100.0|                     95.0|\n",
      "|2010000367|2023-01-10|  00|                null|            5|              5|                0|             0.0|                null|            0|              0|                0|             0.0|                null|            0|              0|                0|             0.0|              null|            0|              0|                0|             0.0|                null|            0|              0|                0|             0.0|                null|            0|              0|                0|             0.0|               null|            0|              0|                0|             0.0|                null|            0|              0|                0|             0.0|                null|            0|              0|                0|             0.0|                null|             0|               0|                 0|              0.0|           5|                     1.0|                     0.0|                     0.0|                     0.0|                     0.0|                     0.0|                     0.0|                     0.0|                     0.0|                      0.0|                          0.0|                          0.0|                          0.0|                          0.0|                          0.0|                          0.0|                          0.0|                          0.0|                          0.0|                           0.0|                          100.0|                        100.0|                    100.0|\n",
      "|2010000526|2023-01-10|  05|201825_FlynnSande...|            1|              1|                0|             0.0|                null|            0|              0|                0|             0.0|                null|            0|              0|                0|             0.0|              null|            0|              0|                0|             0.0|                null|            0|              0|                0|             0.0|                null|            0|              0|                0|             0.0|               null|            0|              0|                0|             0.0|                null|            0|              0|                0|             0.0|                null|            0|              0|                0|             0.0|                null|             0|               0|                 0|              0.0|           1|                     1.0|                     0.0|                     0.0|                     0.0|                     0.0|                     0.0|                     0.0|                     0.0|                     0.0|                      0.0|                          0.0|                          0.0|                          0.0|                          0.0|                          0.0|                          0.0|                          0.0|                          0.0|                          0.0|                           0.0|                          100.0|                        100.0|                    100.0|\n",
      "|2010000526|2023-01-10|  08|202321_FloreyCoul...|            1|              1|                0|       20.822222|                null|            0|              0|                0|             0.0|                null|            0|              0|                0|             0.0|              null|            0|              0|                0|             0.0|                null|            0|              0|                0|             0.0|                null|            0|              0|                0|             0.0|               null|            0|              0|                0|             0.0|                null|            0|              0|                0|             0.0|                null|            0|              0|                0|             0.0|                null|             0|               0|                 0|              0.0|           1|                     1.0|                     0.0|                     0.0|                     0.0|                     0.0|                     0.0|                     0.0|                     0.0|                     0.0|                      0.0|                          0.0|                          0.0|                          0.0|                          0.0|                          0.0|                          0.0|                          0.0|                          0.0|                          0.0|                           0.0|                           79.0|                        100.0|                     94.0|\n",
      "|2010000682|2023-01-10|  00|202480_Woolgoolga2_3|            1|              1|                0|       18.826666|                null|            0|              0|                0|             0.0|                null|            0|              0|                0|             0.0|              null|            0|              0|                0|             0.0|                null|            0|              0|                0|             0.0|                null|            0|              0|                0|             0.0|               null|            0|              0|                0|             0.0|                null|            0|              0|                0|             0.0|                null|            0|              0|                0|             0.0|                null|             0|               0|                 0|              0.0|           1|                     1.0|                     0.0|                     0.0|                     0.0|                     0.0|                     0.0|                     0.0|                     0.0|                     0.0|                      0.0|                          0.0|                          0.0|                          0.0|                          0.0|                          0.0|                          0.0|                          0.0|                          0.0|                          0.0|                           0.0|                           81.0|                        100.0|                     94.0|\n",
      "|2010000716|2023-01-10|  20|303795_MeltonSout...|           30|             30|                0|             0.0|303795_MeltonSout...|           13|             13|                0|             0.0|303795_MeltonSout...|            9|              9|                0|             0.0|              null|            7|              7|                0|             0.0|303795_MeltonSout...|            1|              1|                0|             0.0|                null|            0|              0|                0|             0.0|               null|            0|              0|                0|             0.0|                null|            0|              0|                0|             0.0|                null|            0|              0|                0|             0.0|                null|             0|               0|                 0|              0.0|          60|                     0.5|              0.21666667|                    0.15|              0.11666667|             0.016666668|                     0.0|                     0.0|                     0.0|                     0.0|                      0.0|                          0.0|                          0.0|                          0.0|                          0.0|                          0.0|                          0.0|                          0.0|                          0.0|                          0.0|                           0.0|                          100.0|                        100.0|                    100.0|\n",
      "|2010000989|2023-01-10|  19|   688267_Connolly_3|            4|              4|                0|           45.48|                null|            0|              0|                0|             0.0|                null|            0|              0|                0|             0.0|              null|            0|              0|                0|             0.0|                null|            0|              0|                0|             0.0|                null|            0|              0|                0|             0.0|               null|            0|              0|                0|             0.0|                null|            0|              0|                0|             0.0|                null|            0|              0|                0|             0.0|                null|             0|               0|                 0|              0.0|           4|                     1.0|                     0.0|                     0.0|                     0.0|                     0.0|                     0.0|                     0.0|                     0.0|                     0.0|                      0.0|                          0.0|                          0.0|                          0.0|                          0.0|                          0.0|                          0.0|                          0.0|                          0.0|                          0.0|                           0.0|                           55.0|                        100.0|                     87.0|\n",
      "|2010001182|2023-01-10|  09|                null|           29|             12|               17|             0.0|338407_BlackburnN...|            3|              1|                2|             0.0|338407_BlackburnN...|            2|              0|                2|             0.0|338371_Doncaster_2|            2|              2|                0|        36.21846|                null|            0|              0|                0|             0.0|                null|            0|              0|                0|             0.0|               null|            0|              0|                0|             0.0|                null|            0|              0|                0|             0.0|                null|            0|              0|                0|             0.0|                null|             0|               0|                 0|              0.0|          36|               0.8055556|             0.083333336|             0.055555556|             0.055555556|                     0.0|                     0.0|                     0.0|                     0.0|                     0.0|                      0.0|                    0.5862069|                    0.6666667|                          1.0|                          0.0|                          0.0|                          0.0|                          0.0|                          0.0|                          0.0|                           0.0|                           98.0|                         42.0|                     59.0|\n",
      "|2010001261|2023-01-10|  06|202123_Hurstville...|           12|             12|                0|             0.0|    202093_Kogarah_2|            9|              8|                1|            26.6|202021_Rockdale_2...|            8|              5|                3|             0.0|              null|            7|              4|                3|             0.0|  201775_EastHills_1|            6|              3|                3|       28.704615|202832_Mortdale_2...|            4|              2|                2|             0.0|   227359_Kogarah_3|            4|              2|                2|        32.24923|   227377_Kyeemagh_2|            4|              1|                3|           17.76|228297_Hurstville...|            3|              3|                0|        43.97231| 227365_Hurstville_3|             3|               2|                 1|        36.803078|          60|                     0.2|                    0.15|              0.13333334|              0.11666667|                     0.1|              0.06666667|              0.06666667|              0.06666667|                    0.05|                     0.05|                          0.0|                   0.11111111|                        0.375|                   0.42857143|                          0.5|                          0.5|                          0.5|                         0.75|                          0.0|                    0.33333334|                           86.0|                         70.0|                     75.0|\n",
      "|2010001261|2023-01-10|  15|                null|           20|             20|                0|             0.0|    202093_Kogarah_2|           13|             13|                0|       60.763077|                null|            0|              0|                0|             0.0|              null|            0|              0|                0|             0.0|                null|            0|              0|                0|             0.0|                null|            0|              0|                0|             0.0|               null|            0|              0|                0|             0.0|                null|            0|              0|                0|             0.0|                null|            0|              0|                0|             0.0|                null|             0|               0|                 0|              0.0|          33|               0.6060606|               0.3939394|                     0.0|                     0.0|                     0.0|                     0.0|                     0.0|                     0.0|                     0.0|                      0.0|                          0.0|                          0.0|                          0.0|                          0.0|                          0.0|                          0.0|                          0.0|                          0.0|                          0.0|                           0.0|                           76.0|                        100.0|                     93.0|\n",
      "|2010001496|2023-01-10|  19|    227314_Braddon_3|           10|              5|                5|        93.91111|                null|            6|              2|                4|             0.0|                null|            0|              0|                0|             0.0|              null|            0|              0|                0|             0.0|                null|            0|              0|                0|             0.0|                null|            0|              0|                0|             0.0|               null|            0|              0|                0|             0.0|                null|            0|              0|                0|             0.0|                null|            0|              0|                0|             0.0|                null|             0|               0|                 0|              0.0|          16|                   0.625|                   0.375|                     0.0|                     0.0|                     0.0|                     0.0|                     0.0|                     0.0|                     0.0|                      0.0|                          0.5|                    0.6666667|                          0.0|                          0.0|                          0.0|                          0.0|                          0.0|                          0.0|                          0.0|                           0.0|                           41.0|                         44.0|                     43.0|\n",
      "+----------+----------+----+--------------------+-------------+---------------+-----------------+----------------+--------------------+-------------+---------------+-----------------+----------------+--------------------+-------------+---------------+-----------------+----------------+------------------+-------------+---------------+-----------------+----------------+--------------------+-------------+---------------+-----------------+----------------+--------------------+-------------+---------------+-----------------+----------------+-------------------+-------------+---------------+-----------------+----------------+--------------------+-------------+---------------+-----------------+----------------+--------------------+-------------+---------------+-----------------+----------------+--------------------+--------------+----------------+------------------+-----------------+------------+------------------------+------------------------+------------------------+------------------------+------------------------+------------------------+------------------------+------------------------+------------------------+-------------------------+-----------------------------+-----------------------------+-----------------------------+-----------------------------+-----------------------------+-----------------------------+-----------------------------+-----------------------------+-----------------------------+------------------------------+-------------------------------+-----------------------------+-------------------------+\n",
      "only showing top 20 rows"
     ]
    }
   ],
   "source": [
    "# cei df\n",
    "cei_df = spark.read.parquet('s3://kl-prod-bi-analy-data-extract/features/kl-prod/Mobility/customer_exp_index_v3/part_dt=2023-01-11/')\n",
    "cei_df =cei_df.withColumnRenamed('subs_id', 'Subs_Id').withColumnRenamed('local_hr', 'hour')\n",
    "cei_df = cei_df.withColumn('hour', f.lpad('hour', 2, '0'))\n",
    "cei_df.show()"
   ]
  },
  {
   "cell_type": "code",
   "execution_count": 12,
   "id": "3c9551ce",
   "metadata": {
    "scrolled": true
   },
   "outputs": [
    {
     "data": {
      "application/vnd.jupyter.widget-view+json": {
       "model_id": "",
       "version_major": 2,
       "version_minor": 0
      },
      "text/plain": [
       "FloatProgress(value=0.0, bar_style='info', description='Progress:', layout=Layout(height='25px', width='50%'),…"
      ]
     },
     "metadata": {},
     "output_type": "display_data"
    },
    {
     "name": "stdout",
     "output_type": "stream",
     "text": [
      "root\n",
      " |-- Subs_Id: string (nullable = true)\n",
      " |-- local_date: date (nullable = true)\n",
      " |-- hour: string (nullable = true)\n",
      " |-- sector_name_1: string (nullable = true)\n",
      " |-- sn_1_numevent: long (nullable = true)\n",
      " |-- sn_1_numLTEevnt: long (nullable = true)\n",
      " |-- sn_1_numIRRegevnt: long (nullable = true)\n",
      " |-- sn_1_utilisation: float (nullable = true)\n",
      " |-- sector_name_2: string (nullable = true)\n",
      " |-- sn_2_numevent: long (nullable = true)\n",
      " |-- sn_2_numLTEevnt: long (nullable = true)\n",
      " |-- sn_2_numIRRegevnt: long (nullable = true)\n",
      " |-- sn_2_utilisation: float (nullable = true)\n",
      " |-- sector_name_3: string (nullable = true)\n",
      " |-- sn_3_numevent: long (nullable = true)\n",
      " |-- sn_3_numLTEevnt: long (nullable = true)\n",
      " |-- sn_3_numIRRegevnt: long (nullable = true)\n",
      " |-- sn_3_utilisation: float (nullable = true)\n",
      " |-- sector_name_4: string (nullable = true)\n",
      " |-- sn_4_numevent: long (nullable = true)\n",
      " |-- sn_4_numLTEevnt: long (nullable = true)\n",
      " |-- sn_4_numIRRegevnt: long (nullable = true)\n",
      " |-- sn_4_utilisation: float (nullable = true)\n",
      " |-- sector_name_5: string (nullable = true)\n",
      " |-- sn_5_numevent: long (nullable = true)\n",
      " |-- sn_5_numLTEevnt: long (nullable = true)\n",
      " |-- sn_5_numIRRegevnt: long (nullable = true)\n",
      " |-- sn_5_utilisation: float (nullable = true)\n",
      " |-- sector_name_6: string (nullable = true)\n",
      " |-- sn_6_numevent: long (nullable = true)\n",
      " |-- sn_6_numLTEevnt: long (nullable = true)\n",
      " |-- sn_6_numIRRegevnt: long (nullable = true)\n",
      " |-- sn_6_utilisation: float (nullable = true)\n",
      " |-- sector_name_7: string (nullable = true)\n",
      " |-- sn_7_numevent: long (nullable = true)\n",
      " |-- sn_7_numLTEevnt: long (nullable = true)\n",
      " |-- sn_7_numIRRegevnt: long (nullable = true)\n",
      " |-- sn_7_utilisation: float (nullable = true)\n",
      " |-- sector_name_8: string (nullable = true)\n",
      " |-- sn_8_numevent: long (nullable = true)\n",
      " |-- sn_8_numLTEevnt: long (nullable = true)\n",
      " |-- sn_8_numIRRegevnt: long (nullable = true)\n",
      " |-- sn_8_utilisation: float (nullable = true)\n",
      " |-- sector_name_9: string (nullable = true)\n",
      " |-- sn_9_numevent: long (nullable = true)\n",
      " |-- sn_9_numLTEevnt: long (nullable = true)\n",
      " |-- sn_9_numIRRegevnt: long (nullable = true)\n",
      " |-- sn_9_utilisation: float (nullable = true)\n",
      " |-- sector_name_10: string (nullable = true)\n",
      " |-- sn_10_numevent: long (nullable = true)\n",
      " |-- sn_10_numLTEevnt: long (nullable = true)\n",
      " |-- sn_10_numIRRegevnt: long (nullable = true)\n",
      " |-- sn_10_utilisation: float (nullable = true)\n",
      " |-- total_events: long (nullable = true)\n",
      " |-- sn_1_numevent_percentage: float (nullable = true)\n",
      " |-- sn_2_numevent_percentage: float (nullable = true)\n",
      " |-- sn_3_numevent_percentage: float (nullable = true)\n",
      " |-- sn_4_numevent_percentage: float (nullable = true)\n",
      " |-- sn_5_numevent_percentage: float (nullable = true)\n",
      " |-- sn_6_numevent_percentage: float (nullable = true)\n",
      " |-- sn_7_numevent_percentage: float (nullable = true)\n",
      " |-- sn_8_numevent_percentage: float (nullable = true)\n",
      " |-- sn_9_numevent_percentage: float (nullable = true)\n",
      " |-- sn_10_numevent_percentage: float (nullable = true)\n",
      " |-- irregular_events_1_percentage: float (nullable = true)\n",
      " |-- irregular_events_2_percentage: float (nullable = true)\n",
      " |-- irregular_events_3_percentage: float (nullable = true)\n",
      " |-- irregular_events_4_percentage: float (nullable = true)\n",
      " |-- irregular_events_5_percentage: float (nullable = true)\n",
      " |-- irregular_events_6_percentage: float (nullable = true)\n",
      " |-- irregular_events_7_percentage: float (nullable = true)\n",
      " |-- irregular_events_8_percentage: float (nullable = true)\n",
      " |-- irregular_events_9_percentage: float (nullable = true)\n",
      " |-- irregular_events_10_percentage: float (nullable = true)\n",
      " |-- customer_experience_utilisation: float (nullable = true)\n",
      " |-- customer_experience_irregular: float (nullable = true)\n",
      " |-- customer_experience_index: float (nullable = true)"
     ]
    }
   ],
   "source": [
    "cei_df.printSchema()"
   ]
  },
  {
   "cell_type": "code",
   "execution_count": 60,
   "id": "ce48dd00",
   "metadata": {},
   "outputs": [
    {
     "data": {
      "application/vnd.jupyter.widget-view+json": {
       "model_id": "",
       "version_major": 2,
       "version_minor": 0
      },
      "text/plain": [
       "FloatProgress(value=0.0, bar_style='info', description='Progress:', layout=Layout(height='25px', width='50%'),…"
      ]
     },
     "metadata": {},
     "output_type": "display_data"
    },
    {
     "name": "stdout",
     "output_type": "stream",
     "text": [
      "+----------+----------+----+--------------------+-------------+---------------+-----------------+----------------+--------------------+-------------+---------------+-----------------+----------------+--------------------+-------------+---------------+-----------------+----------------+--------------------+-------------+---------------+-----------------+----------------+-------------+-------------+---------------+-----------------+----------------+-------------+-------------+---------------+-----------------+----------------+-------------+-------------+---------------+-----------------+----------------+-------------+-------------+---------------+-----------------+----------------+-------------+-------------+---------------+-----------------+----------------+--------------+--------------+----------------+------------------+-----------------+------------+------------------------+------------------------+------------------------+------------------------+------------------------+------------------------+------------------------+------------------------+------------------------+-------------------------+-----------------------------+-----------------------------+-----------------------------+-----------------------------+-----------------------------+-----------------------------+-----------------------------+-----------------------------+-----------------------------+------------------------------+-------------------------------+-----------------------------+-------------------------+\n",
      "|   Subs_Id|local_date|hour|       sector_name_1|sn_1_numevent|sn_1_numLTEevnt|sn_1_numIRRegevnt|sn_1_utilisation|       sector_name_2|sn_2_numevent|sn_2_numLTEevnt|sn_2_numIRRegevnt|sn_2_utilisation|       sector_name_3|sn_3_numevent|sn_3_numLTEevnt|sn_3_numIRRegevnt|sn_3_utilisation|       sector_name_4|sn_4_numevent|sn_4_numLTEevnt|sn_4_numIRRegevnt|sn_4_utilisation|sector_name_5|sn_5_numevent|sn_5_numLTEevnt|sn_5_numIRRegevnt|sn_5_utilisation|sector_name_6|sn_6_numevent|sn_6_numLTEevnt|sn_6_numIRRegevnt|sn_6_utilisation|sector_name_7|sn_7_numevent|sn_7_numLTEevnt|sn_7_numIRRegevnt|sn_7_utilisation|sector_name_8|sn_8_numevent|sn_8_numLTEevnt|sn_8_numIRRegevnt|sn_8_utilisation|sector_name_9|sn_9_numevent|sn_9_numLTEevnt|sn_9_numIRRegevnt|sn_9_utilisation|sector_name_10|sn_10_numevent|sn_10_numLTEevnt|sn_10_numIRRegevnt|sn_10_utilisation|total_events|sn_1_numevent_percentage|sn_2_numevent_percentage|sn_3_numevent_percentage|sn_4_numevent_percentage|sn_5_numevent_percentage|sn_6_numevent_percentage|sn_7_numevent_percentage|sn_8_numevent_percentage|sn_9_numevent_percentage|sn_10_numevent_percentage|irregular_events_1_percentage|irregular_events_2_percentage|irregular_events_3_percentage|irregular_events_4_percentage|irregular_events_5_percentage|irregular_events_6_percentage|irregular_events_7_percentage|irregular_events_8_percentage|irregular_events_9_percentage|irregular_events_10_percentage|customer_experience_utilisation|customer_experience_irregular|customer_experience_index|\n",
      "+----------+----------+----+--------------------+-------------+---------------+-----------------+----------------+--------------------+-------------+---------------+-----------------+----------------+--------------------+-------------+---------------+-----------------+----------------+--------------------+-------------+---------------+-----------------+----------------+-------------+-------------+---------------+-----------------+----------------+-------------+-------------+---------------+-----------------+----------------+-------------+-------------+---------------+-----------------+----------------+-------------+-------------+---------------+-----------------+----------------+-------------+-------------+---------------+-----------------+----------------+--------------+--------------+----------------+------------------+-----------------+------------+------------------------+------------------------+------------------------+------------------------+------------------------+------------------------+------------------------+------------------------+------------------------+-------------------------+-----------------------------+-----------------------------+-----------------------------+-----------------------------+-----------------------------+-----------------------------+-----------------------------+-----------------------------+-----------------------------+------------------------------+-------------------------------+-----------------------------+-------------------------+\n",
      "|2010006168|2023-01-09|  23|241117_GregoryHil...|           19|             19|                0|             0.0| 202398_Blairmount_3|            1|              1|                0|             0.0|                null|            0|              0|                0|             0.0|                null|            0|              0|                0|             0.0|         null|            0|              0|                0|             0.0|         null|            0|              0|                0|             0.0|         null|            0|              0|                0|             0.0|         null|            0|              0|                0|             0.0|         null|            0|              0|                0|             0.0|          null|             0|               0|                 0|              0.0|          20|                    0.95|                    0.05|                     0.0|                     0.0|                     0.0|                     0.0|                     0.0|                     0.0|                     0.0|                      0.0|                          0.0|                          0.0|                          0.0|                          0.0|                          0.0|                          0.0|                          0.0|                          0.0|                          0.0|                           0.0|                          100.0|                        100.0|                    100.0|\n",
      "|2010007332|2023-01-09|  23|227322_Jerrabombe...|            9|              9|                0|             0.0|                null|            0|              0|                0|             0.0|                null|            0|              0|                0|             0.0|                null|            0|              0|                0|             0.0|         null|            0|              0|                0|             0.0|         null|            0|              0|                0|             0.0|         null|            0|              0|                0|             0.0|         null|            0|              0|                0|             0.0|         null|            0|              0|                0|             0.0|          null|             0|               0|                 0|              0.0|           9|                     1.0|                     0.0|                     0.0|                     0.0|                     0.0|                     0.0|                     0.0|                     0.0|                     0.0|                      0.0|                          0.0|                          0.0|                          0.0|                          0.0|                          0.0|                          0.0|                          0.0|                          0.0|                          0.0|                           0.0|                          100.0|                        100.0|                    100.0|\n",
      "|2010014297|2023-01-09|  23| 477187_NerangWest_2|            1|              1|                0|             0.0|                null|            0|              0|                0|             0.0|                null|            0|              0|                0|             0.0|                null|            0|              0|                0|             0.0|         null|            0|              0|                0|             0.0|         null|            0|              0|                0|             0.0|         null|            0|              0|                0|             0.0|         null|            0|              0|                0|             0.0|         null|            0|              0|                0|             0.0|          null|             0|               0|                 0|              0.0|           1|                     1.0|                     0.0|                     0.0|                     0.0|                     0.0|                     0.0|                     0.0|                     0.0|                     0.0|                      0.0|                          0.0|                          0.0|                          0.0|                          0.0|                          0.0|                          0.0|                          0.0|                          0.0|                          0.0|                           0.0|                          100.0|                        100.0|                    100.0|\n",
      "|2010015210|2023-01-09|  23|202126_Moorebank_...|            6|              2|                4|             0.0|                null|            1|              1|                0|             0.0|                null|            0|              0|                0|             0.0|                null|            0|              0|                0|             0.0|         null|            0|              0|                0|             0.0|         null|            0|              0|                0|             0.0|         null|            0|              0|                0|             0.0|         null|            0|              0|                0|             0.0|         null|            0|              0|                0|             0.0|          null|             0|               0|                 0|              0.0|           7|              0.85714287|              0.14285715|                     0.0|                     0.0|                     0.0|                     0.0|                     0.0|                     0.0|                     0.0|                      0.0|                    0.6666667|                          0.0|                          0.0|                          0.0|                          0.0|                          0.0|                          0.0|                          0.0|                          0.0|                           0.0|                          100.0|                         43.0|                     60.0|\n",
      "|2010016648|2023-01-09|  23|  301013_Northcote_3|            2|              2|                0|             0.0|                null|            0|              0|                0|             0.0|                null|            0|              0|                0|             0.0|                null|            0|              0|                0|             0.0|         null|            0|              0|                0|             0.0|         null|            0|              0|                0|             0.0|         null|            0|              0|                0|             0.0|         null|            0|              0|                0|             0.0|         null|            0|              0|                0|             0.0|          null|             0|               0|                 0|              0.0|           2|                     1.0|                     0.0|                     0.0|                     0.0|                     0.0|                     0.0|                     0.0|                     0.0|                     0.0|                      0.0|                          0.0|                          0.0|                          0.0|                          0.0|                          0.0|                          0.0|                          0.0|                          0.0|                          0.0|                           0.0|                          100.0|                        100.0|                    100.0|\n",
      "|2010017206|2023-01-09|  23|  277188_TweedWest_1|            3|              0|                3|             0.0|404265_Coolangatt...|            3|              1|                2|             0.0|                null|            0|              0|                0|             0.0|                null|            0|              0|                0|             0.0|         null|            0|              0|                0|             0.0|         null|            0|              0|                0|             0.0|         null|            0|              0|                0|             0.0|         null|            0|              0|                0|             0.0|         null|            0|              0|                0|             0.0|          null|             0|               0|                 0|              0.0|           6|                     0.5|                     0.5|                     0.0|                     0.0|                     0.0|                     0.0|                     0.0|                     0.0|                     0.0|                      0.0|                          1.0|                    0.6666667|                          0.0|                          0.0|                          0.0|                          0.0|                          0.0|                          0.0|                          0.0|                           0.0|                          100.0|                         17.0|                     42.0|\n",
      "|2010018021|2023-01-09|  23|241190_Blackett2_...|            8|              8|                0|             0.0|                null|            4|              4|                0|             0.0|                null|            0|              0|                0|             0.0|                null|            0|              0|                0|             0.0|         null|            0|              0|                0|             0.0|         null|            0|              0|                0|             0.0|         null|            0|              0|                0|             0.0|         null|            0|              0|                0|             0.0|         null|            0|              0|                0|             0.0|          null|             0|               0|                 0|              0.0|          12|               0.6666667|              0.33333334|                     0.0|                     0.0|                     0.0|                     0.0|                     0.0|                     0.0|                     0.0|                      0.0|                          0.0|                          0.0|                          0.0|                          0.0|                          0.0|                          0.0|                          0.0|                          0.0|                          0.0|                           0.0|                          100.0|                        100.0|                    100.0|\n",
      "|2010019056|2023-01-09|  23|    227337_Torrens_1|            4|              4|                0|             0.0|                null|            0|              0|                0|             0.0|                null|            0|              0|                0|             0.0|                null|            0|              0|                0|             0.0|         null|            0|              0|                0|             0.0|         null|            0|              0|                0|             0.0|         null|            0|              0|                0|             0.0|         null|            0|              0|                0|             0.0|         null|            0|              0|                0|             0.0|          null|             0|               0|                 0|              0.0|           4|                     1.0|                     0.0|                     0.0|                     0.0|                     0.0|                     0.0|                     0.0|                     0.0|                     0.0|                      0.0|                          0.0|                          0.0|                          0.0|                          0.0|                          0.0|                          0.0|                          0.0|                          0.0|                          0.0|                           0.0|                          100.0|                        100.0|                    100.0|\n",
      "|2010019886|2023-01-09|  23|505132_Northgate_...|            1|              1|                0|             0.0|                null|            0|              0|                0|             0.0|                null|            0|              0|                0|             0.0|                null|            0|              0|                0|             0.0|         null|            0|              0|                0|             0.0|         null|            0|              0|                0|             0.0|         null|            0|              0|                0|             0.0|         null|            0|              0|                0|             0.0|         null|            0|              0|                0|             0.0|          null|             0|               0|                 0|              0.0|           1|                     1.0|                     0.0|                     0.0|                     0.0|                     0.0|                     0.0|                     0.0|                     0.0|                     0.0|                      0.0|                          0.0|                          0.0|                          0.0|                          0.0|                          0.0|                          0.0|                          0.0|                          0.0|                          0.0|                           0.0|                          100.0|                        100.0|                    100.0|\n",
      "|2010024363|2023-01-09|  23|303601_MountWarre...|            3|              3|                0|             0.0|                null|            0|              0|                0|             0.0|                null|            0|              0|                0|             0.0|                null|            0|              0|                0|             0.0|         null|            0|              0|                0|             0.0|         null|            0|              0|                0|             0.0|         null|            0|              0|                0|             0.0|         null|            0|              0|                0|             0.0|         null|            0|              0|                0|             0.0|          null|             0|               0|                 0|              0.0|           3|                     1.0|                     0.0|                     0.0|                     0.0|                     0.0|                     0.0|                     0.0|                     0.0|                     0.0|                      0.0|                          0.0|                          0.0|                          0.0|                          0.0|                          0.0|                          0.0|                          0.0|                          0.0|                          0.0|                           0.0|                          100.0|                        100.0|                    100.0|\n",
      "|2010030630|2023-01-09|  23|                null|            6|              6|                0|             0.0|                null|            0|              0|                0|             0.0|                null|            0|              0|                0|             0.0|                null|            0|              0|                0|             0.0|         null|            0|              0|                0|             0.0|         null|            0|              0|                0|             0.0|         null|            0|              0|                0|             0.0|         null|            0|              0|                0|             0.0|         null|            0|              0|                0|             0.0|          null|             0|               0|                 0|              0.0|           6|                     1.0|                     0.0|                     0.0|                     0.0|                     0.0|                     0.0|                     0.0|                     0.0|                     0.0|                      0.0|                          0.0|                          0.0|                          0.0|                          0.0|                          0.0|                          0.0|                          0.0|                          0.0|                          0.0|                           0.0|                          100.0|                        100.0|                    100.0|\n",
      "|2010031455|2023-01-09|  23|240521_RaymondTce...|            4|              0|                4|             0.0|                null|            0|              0|                0|             0.0|                null|            0|              0|                0|             0.0|                null|            0|              0|                0|             0.0|         null|            0|              0|                0|             0.0|         null|            0|              0|                0|             0.0|         null|            0|              0|                0|             0.0|         null|            0|              0|                0|             0.0|         null|            0|              0|                0|             0.0|          null|             0|               0|                 0|              0.0|           4|                     1.0|                     0.0|                     0.0|                     0.0|                     0.0|                     0.0|                     0.0|                     0.0|                     0.0|                      0.0|                          1.0|                          0.0|                          0.0|                          0.0|                          0.0|                          0.0|                          0.0|                          0.0|                          0.0|                           0.0|                          100.0|                          0.0|                     30.0|\n",
      "|2010032293|2023-01-09|  23|   338725_Kilsyth2_2|           27|             27|                0|             0.0|                null|            0|              0|                0|             0.0|                null|            0|              0|                0|             0.0|                null|            0|              0|                0|             0.0|         null|            0|              0|                0|             0.0|         null|            0|              0|                0|             0.0|         null|            0|              0|                0|             0.0|         null|            0|              0|                0|             0.0|         null|            0|              0|                0|             0.0|          null|             0|               0|                 0|              0.0|          27|                     1.0|                     0.0|                     0.0|                     0.0|                     0.0|                     0.0|                     0.0|                     0.0|                     0.0|                      0.0|                          0.0|                          0.0|                          0.0|                          0.0|                          0.0|                          0.0|                          0.0|                          0.0|                          0.0|                           0.0|                          100.0|                        100.0|                    100.0|\n",
      "|2010033347|2023-01-09|  23|                null|            1|              1|                0|             0.0|                null|            0|              0|                0|             0.0|                null|            0|              0|                0|             0.0|                null|            0|              0|                0|             0.0|         null|            0|              0|                0|             0.0|         null|            0|              0|                0|             0.0|         null|            0|              0|                0|             0.0|         null|            0|              0|                0|             0.0|         null|            0|              0|                0|             0.0|          null|             0|               0|                 0|              0.0|           1|                     1.0|                     0.0|                     0.0|                     0.0|                     0.0|                     0.0|                     0.0|                     0.0|                     0.0|                      0.0|                          0.0|                          0.0|                          0.0|                          0.0|                          0.0|                          0.0|                          0.0|                          0.0|                          0.0|                           0.0|                          100.0|                        100.0|                    100.0|\n",
      "|2010034306|2023-01-09|  23|227828_BankstownW...|           25|             25|                0|             0.0|                null|            0|              0|                0|             0.0|                null|            0|              0|                0|             0.0|                null|            0|              0|                0|             0.0|         null|            0|              0|                0|             0.0|         null|            0|              0|                0|             0.0|         null|            0|              0|                0|             0.0|         null|            0|              0|                0|             0.0|         null|            0|              0|                0|             0.0|          null|             0|               0|                 0|              0.0|          25|                     1.0|                     0.0|                     0.0|                     0.0|                     0.0|                     0.0|                     0.0|                     0.0|                     0.0|                      0.0|                          0.0|                          0.0|                          0.0|                          0.0|                          0.0|                          0.0|                          0.0|                          0.0|                          0.0|                           0.0|                          100.0|                        100.0|                    100.0|\n",
      "|2010037847|2023-01-09|  23| 505703_StuartPark_3|           10|             10|                0|             0.0|                null|            0|              0|                0|             0.0|                null|            0|              0|                0|             0.0|                null|            0|              0|                0|             0.0|         null|            0|              0|                0|             0.0|         null|            0|              0|                0|             0.0|         null|            0|              0|                0|             0.0|         null|            0|              0|                0|             0.0|         null|            0|              0|                0|             0.0|          null|             0|               0|                 0|              0.0|          10|                     1.0|                     0.0|                     0.0|                     0.0|                     0.0|                     0.0|                     0.0|                     0.0|                     0.0|                      0.0|                          0.0|                          0.0|                          0.0|                          0.0|                          0.0|                          0.0|                          0.0|                          0.0|                          0.0|                           0.0|                          100.0|                        100.0|                    100.0|\n",
      "|2010038429|2023-01-09|  23|                null|           11|             11|                0|             0.0|   227598_LurneaM5_1|            4|              4|                0|             0.0|227165_CasulaShow...|            2|              2|                0|             0.0|227165_CasulaShow...|            1|              1|                0|             0.0|         null|            0|              0|                0|             0.0|         null|            0|              0|                0|             0.0|         null|            0|              0|                0|             0.0|         null|            0|              0|                0|             0.0|         null|            0|              0|                0|             0.0|          null|             0|               0|                 0|              0.0|          18|               0.6111111|              0.22222222|              0.11111111|             0.055555556|                     0.0|                     0.0|                     0.0|                     0.0|                     0.0|                      0.0|                          0.0|                          0.0|                          0.0|                          0.0|                          0.0|                          0.0|                          0.0|                          0.0|                          0.0|                           0.0|                          100.0|                        100.0|                    100.0|\n",
      "|2010046136|2023-01-09|  23|                null|            5|              0|                5|             0.0|201630_QuakersHil...|            1|              0|                1|             0.0|                null|            0|              0|                0|             0.0|                null|            0|              0|                0|             0.0|         null|            0|              0|                0|             0.0|         null|            0|              0|                0|             0.0|         null|            0|              0|                0|             0.0|         null|            0|              0|                0|             0.0|         null|            0|              0|                0|             0.0|          null|             0|               0|                 0|              0.0|           6|               0.8333333|              0.16666667|                     0.0|                     0.0|                     0.0|                     0.0|                     0.0|                     0.0|                     0.0|                      0.0|                          1.0|                          1.0|                          0.0|                          0.0|                          0.0|                          0.0|                          0.0|                          0.0|                          0.0|                           0.0|                          100.0|                          0.0|                     30.0|\n",
      "|2010048286|2023-01-09|  23|   202415_Goulburn_3|           58|             58|                0|             0.0|                null|            0|              0|                0|             0.0|                null|            0|              0|                0|             0.0|                null|            0|              0|                0|             0.0|         null|            0|              0|                0|             0.0|         null|            0|              0|                0|             0.0|         null|            0|              0|                0|             0.0|         null|            0|              0|                0|             0.0|         null|            0|              0|                0|             0.0|          null|             0|               0|                 0|              0.0|          58|                     1.0|                     0.0|                     0.0|                     0.0|                     0.0|                     0.0|                     0.0|                     0.0|                     0.0|                      0.0|                          0.0|                          0.0|                          0.0|                          0.0|                          0.0|                          0.0|                          0.0|                          0.0|                          0.0|                           0.0|                          100.0|                        100.0|                    100.0|\n",
      "|2010053517|2023-01-09|  23|303558_Thomastown4_1|            8|              8|                0|             0.0|                null|            0|              0|                0|             0.0|                null|            0|              0|                0|             0.0|                null|            0|              0|                0|             0.0|         null|            0|              0|                0|             0.0|         null|            0|              0|                0|             0.0|         null|            0|              0|                0|             0.0|         null|            0|              0|                0|             0.0|         null|            0|              0|                0|             0.0|          null|             0|               0|                 0|              0.0|           8|                     1.0|                     0.0|                     0.0|                     0.0|                     0.0|                     0.0|                     0.0|                     0.0|                     0.0|                      0.0|                          0.0|                          0.0|                          0.0|                          0.0|                          0.0|                          0.0|                          0.0|                          0.0|                          0.0|                           0.0|                          100.0|                        100.0|                    100.0|\n",
      "+----------+----------+----+--------------------+-------------+---------------+-----------------+----------------+--------------------+-------------+---------------+-----------------+----------------+--------------------+-------------+---------------+-----------------+----------------+--------------------+-------------+---------------+-----------------+----------------+-------------+-------------+---------------+-----------------+----------------+-------------+-------------+---------------+-----------------+----------------+-------------+-------------+---------------+-----------------+----------------+-------------+-------------+---------------+-----------------+----------------+-------------+-------------+---------------+-----------------+----------------+--------------+--------------+----------------+------------------+-----------------+------------+------------------------+------------------------+------------------------+------------------------+------------------------+------------------------+------------------------+------------------------+------------------------+-------------------------+-----------------------------+-----------------------------+-----------------------------+-----------------------------+-----------------------------+-----------------------------+-----------------------------+-----------------------------+-----------------------------+------------------------------+-------------------------------+-----------------------------+-------------------------+\n",
      "only showing top 20 rows"
     ]
    }
   ],
   "source": [
    "cei_df.filter(f.col('local_date') == '2023-01-09').show()"
   ]
  },
  {
   "cell_type": "code",
   "execution_count": 13,
   "id": "18b6194e",
   "metadata": {
    "scrolled": true
   },
   "outputs": [
    {
     "data": {
      "application/vnd.jupyter.widget-view+json": {
       "model_id": "",
       "version_major": 2,
       "version_minor": 0
      },
      "text/plain": [
       "FloatProgress(value=0.0, bar_style='info', description='Progress:', layout=Layout(height='25px', width='50%'),…"
      ]
     },
     "metadata": {},
     "output_type": "display_data"
    },
    {
     "name": "stdout",
     "output_type": "stream",
     "text": [
      "+----------+----+\n",
      "|local_date|hour|\n",
      "+----------+----+\n",
      "|2023-01-10|  00|\n",
      "|2023-01-10|  01|\n",
      "|2023-01-10|  02|\n",
      "|2023-01-10|  03|\n",
      "|2023-01-10|  04|\n",
      "|2023-01-10|  05|\n",
      "|2023-01-10|  06|\n",
      "|2023-01-10|  07|\n",
      "|2023-01-10|  08|\n",
      "|2023-01-10|  09|\n",
      "|2023-01-10|  10|\n",
      "|2023-01-10|  11|\n",
      "|2023-01-10|  12|\n",
      "|2023-01-10|  13|\n",
      "|2023-01-10|  14|\n",
      "|2023-01-10|  15|\n",
      "|2023-01-10|  16|\n",
      "|2023-01-10|  17|\n",
      "|2023-01-10|  18|\n",
      "|2023-01-10|  19|\n",
      "|2023-01-10|  20|\n",
      "|2023-01-10|  21|\n",
      "|2023-01-10|  22|\n",
      "|2023-01-09|  23|\n",
      "+----------+----+"
     ]
    }
   ],
   "source": [
    "cei_df.select('local_date', 'hour').dropDuplicates().orderBy('hour').show(50)"
   ]
  },
  {
   "cell_type": "code",
   "execution_count": 160,
   "id": "81ce7c77",
   "metadata": {},
   "outputs": [
    {
     "data": {
      "application/vnd.jupyter.widget-view+json": {
       "model_id": "",
       "version_major": 2,
       "version_minor": 0
      },
      "text/plain": [
       "FloatProgress(value=0.0, bar_style='info', description='Progress:', layout=Layout(height='25px', width='50%'),…"
      ]
     },
     "metadata": {},
     "output_type": "display_data"
    },
    {
     "name": "stdout",
     "output_type": "stream",
     "text": [
      "14965018"
     ]
    }
   ],
   "source": [
    "valid_subs_event = flat_nsw.select('Subs_Id', 'hour').dropDuplicates()\n",
    "valid_subs_cei = cei_df.select('Subs_Id', 'hour').dropDuplicates()\n",
    "\n",
    "valid_subs = valid_subs_event.join(valid_subs_cei, on=['Subs_Id', 'hour'], how='inner')\n",
    "valid_subs.persist()\n",
    "valid_subs.count()"
   ]
  },
  {
   "cell_type": "code",
   "execution_count": 161,
   "id": "9146451d",
   "metadata": {},
   "outputs": [
    {
     "data": {
      "application/vnd.jupyter.widget-view+json": {
       "model_id": "",
       "version_major": 2,
       "version_minor": 0
      },
      "text/plain": [
       "FloatProgress(value=0.0, bar_style='info', description='Progress:', layout=Layout(height='25px', width='50%'),…"
      ]
     },
     "metadata": {},
     "output_type": "display_data"
    },
    {
     "name": "stdout",
     "output_type": "stream",
     "text": [
      "+---------+----+\n",
      "|  Subs_Id|hour|\n",
      "+---------+----+\n",
      "|279225784|  22|\n",
      "|281042075|  07|\n",
      "|283432783|  18|\n",
      "|283475317|  19|\n",
      "|283511381|  10|\n",
      "|283666116|  07|\n",
      "|317993537|  13|\n",
      "|318014302|  00|\n",
      "|318028999|  12|\n",
      "|318091752|  03|\n",
      "|318092721|  14|\n",
      "|318271986|  17|\n",
      "|318348865|  15|\n",
      "|318390814|  20|\n",
      "|318451913|  03|\n",
      "|318485315|  19|\n",
      "|318510507|  13|\n",
      "|318596774|  18|\n",
      "|318605389|  10|\n",
      "|318610542|  15|\n",
      "+---------+----+\n",
      "only showing top 20 rows"
     ]
    }
   ],
   "source": [
    "valid_subs.show()"
   ]
  },
  {
   "cell_type": "code",
   "execution_count": 162,
   "id": "8edcd255",
   "metadata": {},
   "outputs": [
    {
     "data": {
      "application/vnd.jupyter.widget-view+json": {
       "model_id": "",
       "version_major": 2,
       "version_minor": 0
      },
      "text/plain": [
       "FloatProgress(value=0.0, bar_style='info', description='Progress:', layout=Layout(height='25px', width='50%'),…"
      ]
     },
     "metadata": {},
     "output_type": "display_data"
    },
    {
     "name": "stdout",
     "output_type": "stream",
     "text": [
      "+----------+----+-------------------------+\n",
      "|   Subs_Id|hour|customer_experience_index|\n",
      "+----------+----+-------------------------+\n",
      "|2100006261|  17|                     86.0|\n",
      "|2100006328|  10|                     27.0|\n",
      "|2100006348|  14|                     22.0|\n",
      "|2100006392|  15|                     12.0|\n",
      "|2100006510|  03|                     91.0|\n",
      "|2100006646|  01|                     98.0|\n",
      "|2100006671|  16|                     92.0|\n",
      "|2100006682|  03|                     29.0|\n",
      "|2100006682|  08|                     42.0|\n",
      "|2100006733|  06|                     79.0|\n",
      "|2100006777|  08|                     84.0|\n",
      "|2100006820|  01|                     89.0|\n",
      "|2100006880|  07|                     81.0|\n",
      "|2100006894|  09|                     82.0|\n",
      "|2100006923|  19|                     85.0|\n",
      "|2100006934|  10|                     86.0|\n",
      "|2100006952|  23|                    100.0|\n",
      "|2100006978|  20|                     91.0|\n",
      "|2100006982|  01|                     99.0|\n",
      "|2100007012|  15|                     83.0|\n",
      "+----------+----+-------------------------+\n",
      "only showing top 20 rows\n",
      "\n",
      "14965018"
     ]
    }
   ],
   "source": [
    "valid_cei_df = cei_df.join(valid_subs, on=['Subs_Id', 'hour'], how='inner').select(\n",
    "    'Subs_Id', 'hour', 'customer_experience_index'\n",
    ").filter(f.col('Subs_Id').isNotNull())\n",
    "valid_cei_df.show()\n",
    "valid_cei_df.count()"
   ]
  },
  {
   "cell_type": "code",
   "execution_count": 174,
   "id": "d3e9ecb7",
   "metadata": {},
   "outputs": [
    {
     "data": {
      "application/vnd.jupyter.widget-view+json": {
       "model_id": "",
       "version_major": 2,
       "version_minor": 0
      },
      "text/plain": [
       "FloatProgress(value=0.0, bar_style='info', description='Progress:', layout=Layout(height='25px', width='50%'),…"
      ]
     },
     "metadata": {},
     "output_type": "display_data"
    },
    {
     "name": "stdout",
     "output_type": "stream",
     "text": [
      "+----------+----+--------------------+--------------------+--------------------+---------------+------------------+--------+\n",
      "|   Subs_Id|hour|         sector_name|  event_code_feature|           cell_name|          state|       utilisation|trace_id|\n",
      "+----------+----+--------------------+--------------------+--------------------+---------------+------------------+--------+\n",
      "|2100006261|  01|202583_RandwickCe...|     (30,[13],[1.0])|202583_RandwickCe...|New South Wales|10.772307692307692|       1|\n",
      "|2100006261|  04|202583_RandwickCe...|      (30,[8],[1.0])|202583_RandwickCe...|New South Wales|12.544615384615383|       2|\n",
      "|2100006261|  07|202583_RandwickCe...|     (30,[13],[1.0])|202583_RandwickCe...|New South Wales|24.883076923076924|       3|\n",
      "|2100006261|  10|202583_RandwickCe...|      (30,[8],[1.0])|202583_RandwickCe...|New South Wales|25.113846153846154|       4|\n",
      "|2100006261|  12|202583_RandwickCe...|     (30,[13],[1.0])|202583_RandwickCe...|New South Wales|43.815384615384616|       5|\n",
      "|2100006261|  15|202583_RandwickCe...|      (30,[8],[1.0])|202583_RandwickCe...|New South Wales| 46.66769230769231|       6|\n",
      "|2100006261|  17|202583_RandwickCe...|     (30,[13],[1.0])|202583_RandwickCe...|New South Wales| 45.51692307692308|       7|\n",
      "|2100006261|  20|202583_RandwickCe...|      (30,[8],[1.0])|202583_RandwickCe...|New South Wales|  58.2523076923077|       8|\n",
      "|2100006274|  00|   227890_Dunheved_1|(30,[8,13],[1.0,2...|227890_Dunheved_L...|New South Wales|            23.775|      10|\n",
      "|2100006274|  03|   227890_Dunheved_1|      (30,[8],[1.0])|227890_Dunheved_L...|New South Wales|            11.275|      11|\n",
      "|2100006274|  08|   227890_Dunheved_1|      (30,[8],[1.0])|227890_Dunheved_L...|New South Wales|             44.75|      12|\n",
      "|2100006274|  10|   227890_Dunheved_1|     (30,[13],[1.0])|227890_Dunheved_L...|New South Wales|             34.58|      13|\n",
      "|2100006274|  13|   227890_Dunheved_1|      (30,[8],[1.0])|227890_Dunheved_L...|New South Wales|            35.915|      14|\n",
      "|2100006285|  01| 202286_StLeonards_1|      (30,[8],[1.0])|202286_StLeonards...|New South Wales| 9.258461538461537|      15|\n",
      "|2100006285|  02| 202286_StLeonards_1|     (30,[13],[1.0])|202286_StLeonards...|New South Wales|              5.64|      16|\n",
      "|2100006285|  05| 202286_StLeonards_1|      (30,[8],[1.0])|202286_StLeonards...|New South Wales|11.172307692307692|      17|\n",
      "|2100006285|  11| 202286_StLeonards_1|      (30,[8],[1.0])|202286_StLeonards...|New South Wales|43.036923076923074|      18|\n",
      "|2100006285|  13| 202286_StLeonards_1|     (30,[13],[1.0])|202286_StLeonards...|New South Wales| 42.10153846153847|      19|\n",
      "|2100006285|  16| 202286_StLeonards_1|(30,[7,13],[1.0,1...|202286_StLeonards...|New South Wales|             29.08|      20|\n",
      "|2100006285|  16| 202062_Castlecrag_2|(30,[5,12],[1.0,1...|202062_Castlecrag...|New South Wales|             35.49|      20|\n",
      "+----------+----+--------------------+--------------------+--------------------+---------------+------------------+--------+\n",
      "only showing top 20 rows\n",
      "\n",
      "54790880"
     ]
    }
   ],
   "source": [
    "valid_flat_nsw = flat_nsw.join(\n",
    "    valid_subs, on=['Subs_Id', 'hour'], how='inner'\n",
    ")\n",
    "valid_flat_nsw.show()\n",
    "valid_flat_nsw.count()"
   ]
  },
  {
   "cell_type": "code",
   "execution_count": 175,
   "id": "0ad8f2d7",
   "metadata": {},
   "outputs": [
    {
     "data": {
      "application/vnd.jupyter.widget-view+json": {
       "model_id": "",
       "version_major": 2,
       "version_minor": 0
      },
      "text/plain": [
       "FloatProgress(value=0.0, bar_style='info', description='Progress:', layout=Layout(height='25px', width='50%'),…"
      ]
     },
     "metadata": {},
     "output_type": "display_data"
    },
    {
     "name": "stdout",
     "output_type": "stream",
     "text": [
      "54790880"
     ]
    }
   ],
   "source": [
    "valid_flat_nsw = valid_flat_nsw.join(\n",
    "    valid_cei_df,\n",
    "    on=['Subs_Id', 'hour'],\n",
    "    how='inner'\n",
    ")\n",
    "valid_flat_nsw.persist()\n",
    "valid_flat_nsw.count()\n",
    "# flat_nsw.count()  # 54790880"
   ]
  },
  {
   "cell_type": "code",
   "execution_count": 125,
   "id": "63ab0731",
   "metadata": {},
   "outputs": [
    {
     "data": {
      "application/vnd.jupyter.widget-view+json": {
       "model_id": "",
       "version_major": 2,
       "version_minor": 0
      },
      "text/plain": [
       "FloatProgress(value=0.0, bar_style='info', description='Progress:', layout=Layout(height='25px', width='50%'),…"
      ]
     },
     "metadata": {},
     "output_type": "display_data"
    }
   ],
   "source": []
  },
  {
   "cell_type": "code",
   "execution_count": 126,
   "id": "8285fa03",
   "metadata": {},
   "outputs": [
    {
     "data": {
      "application/vnd.jupyter.widget-view+json": {
       "model_id": "",
       "version_major": 2,
       "version_minor": 0
      },
      "text/plain": [
       "FloatProgress(value=0.0, bar_style='info', description='Progress:', layout=Layout(height='25px', width='50%'),…"
      ]
     },
     "metadata": {},
     "output_type": "display_data"
    }
   ],
   "source": [
    "# valid_flat_nsw = valid_flat_nsw.withColumn('trace_id', f.col('trace_id') - 1)"
   ]
  },
  {
   "cell_type": "code",
   "execution_count": 165,
   "id": "b5e17cee",
   "metadata": {},
   "outputs": [
    {
     "data": {
      "application/vnd.jupyter.widget-view+json": {
       "model_id": "",
       "version_major": 2,
       "version_minor": 0
      },
      "text/plain": [
       "FloatProgress(value=0.0, bar_style='info', description='Progress:', layout=Layout(height='25px', width='50%'),…"
      ]
     },
     "metadata": {},
     "output_type": "display_data"
    },
    {
     "name": "stdout",
     "output_type": "stream",
     "text": [
      "+----------+----+------------------------+------------------------------------+-----------------------------+---------------+------------------+--------+-------------------------+\n",
      "|Subs_Id   |hour|sector_name             |event_code_feature                  |cell_name                    |state          |utilisation       |trace_id|customer_experience_index|\n",
      "+----------+----+------------------------+------------------------------------+-----------------------------+---------------+------------------+--------+-------------------------+\n",
      "|2100006525|02  |201803_Penhust594FstRd_2|(30,[13],[4.0])                     |201803_Penhust594FstRd_L08A_2|New South Wales|48.32             |634     |86.0                     |\n",
      "|2100006597|16  |202818_ManlyCorso_3     |(30,[7],[2.0])                      |202818_ManlyCorso_L08A_3     |New South Wales|26.2              |1028    |81.0                     |\n",
      "|2100006597|16  |241168_ManlyHospTemp_2  |(30,[7,13],[1.0,1.0])               |241168_ManlyHospTemp_L18B_2  |New South Wales|12.412307692307694|1028    |81.0                     |\n",
      "|2100006597|16  |202568_DoverHeights_1   |(30,[7],[2.0])                      |202568_DoverHeights_L21H_1   |New South Wales|80.95384615384617 |1028    |81.0                     |\n",
      "|2100006597|16  |201617_Manly_3          |(30,[7,11,12,13],[3.0,2.0,1.0,10.0])|201617_Manly_L08A_3          |New South Wales|41.95517554858934 |1028    |81.0                     |\n",
      "|2100006597|16  |227811_ManlySouth_3     |(30,[7],[2.0])                      |227811_ManlySouth_L18B_3     |New South Wales|54.212307692307704|1028    |81.0                     |\n",
      "|2100006657|15  |240065_Hurstville_1     |(30,[13],[6.0])                     |240065_Hurstville_L18A_1     |New South Wales|28.73846153846154 |1283    |91.0                     |\n",
      "|2100006682|12  |227884_CampbelltownCBD_2|(30,[0],[1.0])                      |227884_CampbelltownCBD_U09A_2|New South Wales|87.11384615384615 |1604    |4.0                      |\n",
      "|2100006689|20  |227899_IngleburnWest_1  |(30,[1,15],[1.0,1.0])               |227899_IngleburnWest_U09A_1  |New South Wales|64.03076923076924 |1685    |11.0                     |\n",
      "|2100006702|16  |202448_Forbes_3         |(30,[13],[1.0])                     |202448_Forbes_L08B_3         |New South Wales|37.92             |1776    |86.0                     |\n",
      "+----------+----+------------------------+------------------------------------+-----------------------------+---------------+------------------+--------+-------------------------+\n",
      "only showing top 10 rows"
     ]
    }
   ],
   "source": [
    "valid_flat_nsw.show(10, False)"
   ]
  },
  {
   "cell_type": "code",
   "execution_count": 26,
   "id": "85cca78f",
   "metadata": {},
   "outputs": [
    {
     "data": {
      "application/vnd.jupyter.widget-view+json": {
       "model_id": "",
       "version_major": 2,
       "version_minor": 0
      },
      "text/plain": [
       "FloatProgress(value=0.0, bar_style='info', description='Progress:', layout=Layout(height='25px', width='50%'),…"
      ]
     },
     "metadata": {},
     "output_type": "display_data"
    },
    {
     "name": "stdout",
     "output_type": "stream",
     "text": [
      "+--------+-----+\n",
      "|trace_id|count|\n",
      "+--------+-----+\n",
      "|48387790|   89|\n",
      "|38532508|   86|\n",
      "|14440774|   86|\n",
      "|25019365|   85|\n",
      "|51320267|   79|\n",
      "| 7338319|   78|\n",
      "|50123402|   75|\n",
      "|16095169|   74|\n",
      "|45354005|   73|\n",
      "|17988659|   71|\n",
      "|26784577|   70|\n",
      "|15278281|   70|\n",
      "|11448279|   70|\n",
      "|48898415|   69|\n",
      "|12075277|   69|\n",
      "|45693110|   69|\n",
      "|22933836|   68|\n",
      "|14246668|   68|\n",
      "|51950403|   68|\n",
      "|49387053|   68|\n",
      "+--------+-----+\n",
      "only showing top 20 rows"
     ]
    }
   ],
   "source": [
    "valid_flat_nsw.groupBy('trace_id').count().orderBy(f.col('count').desc()).show()"
   ]
  },
  {
   "cell_type": "code",
   "execution_count": 27,
   "id": "add28b65",
   "metadata": {},
   "outputs": [
    {
     "data": {
      "application/vnd.jupyter.widget-view+json": {
       "model_id": "",
       "version_major": 2,
       "version_minor": 0
      },
      "text/plain": [
       "FloatProgress(value=0.0, bar_style='info', description='Progress:', layout=Layout(height='25px', width='50%'),…"
      ]
     },
     "metadata": {},
     "output_type": "display_data"
    },
    {
     "name": "stdout",
     "output_type": "stream",
     "text": [
      "+--------+-------------------------+\n",
      "|trace_id|customer_experience_index|\n",
      "+--------+-------------------------+\n",
      "|       0|                     97.0|\n",
      "|       1|                     26.0|\n",
      "|       2|                     93.0|\n",
      "|       3|                     23.0|\n",
      "|       4|                     87.0|\n",
      "|       5|                     16.0|\n",
      "|       6|                     86.0|\n",
      "|       7|                     13.0|\n",
      "|       9|                     70.0|\n",
      "|      10|                     27.0|\n",
      "|      11|                     17.0|\n",
      "|      12|                     90.0|\n",
      "|      13|                     19.0|\n",
      "|      14|                     27.0|\n",
      "|      15|                     98.0|\n",
      "|      16|                     27.0|\n",
      "|      17|                     17.0|\n",
      "|      18|                     87.0|\n",
      "|      19|                     55.0|\n",
      "|      21|                     24.0|\n",
      "+--------+-------------------------+\n",
      "only showing top 20 rows"
     ]
    }
   ],
   "source": [
    "valid_flat_nsw.select('trace_id', 'customer_experience_index').dropDuplicates().orderBy('trace_id').show()"
   ]
  },
  {
   "cell_type": "code",
   "execution_count": 167,
   "id": "287411b4",
   "metadata": {},
   "outputs": [
    {
     "data": {
      "application/vnd.jupyter.widget-view+json": {
       "model_id": "",
       "version_major": 2,
       "version_minor": 0
      },
      "text/plain": [
       "FloatProgress(value=0.0, bar_style='info', description='Progress:', layout=Layout(height='25px', width='50%'),…"
      ]
     },
     "metadata": {},
     "output_type": "display_data"
    },
    {
     "name": "stdout",
     "output_type": "stream",
     "text": [
      "+-------------+\n",
      "|max(trace_id)|\n",
      "+-------------+\n",
      "|     54855701|\n",
      "+-------------+"
     ]
    }
   ],
   "source": [
    "valid_flat_nsw.select(f.max('trace_id')).show()"
   ]
  },
  {
   "cell_type": "code",
   "execution_count": null,
   "id": "51995a25",
   "metadata": {},
   "outputs": [],
   "source": [
    "# revise trace id"
   ]
  },
  {
   "cell_type": "code",
   "execution_count": 176,
   "id": "cc3d5ee2",
   "metadata": {},
   "outputs": [
    {
     "data": {
      "application/vnd.jupyter.widget-view+json": {
       "model_id": "",
       "version_major": 2,
       "version_minor": 0
      },
      "text/plain": [
       "FloatProgress(value=0.0, bar_style='info', description='Progress:', layout=Layout(height='25px', width='50%'),…"
      ]
     },
     "metadata": {},
     "output_type": "display_data"
    },
    {
     "name": "stdout",
     "output_type": "stream",
     "text": [
      "+----------+----+--------+\n",
      "|   Subs_Id|hour|trace_id|\n",
      "+----------+----+--------+\n",
      "|2100006261|  01|       1|\n",
      "|2100006261|  04|       2|\n",
      "|2100006261|  07|       3|\n",
      "|2100006261|  10|       4|\n",
      "|2100006261|  12|       5|\n",
      "|2100006261|  15|       6|\n",
      "|2100006261|  17|       7|\n",
      "|2100006261|  20|       8|\n",
      "|2100006274|  00|       9|\n",
      "|2100006274|  03|      10|\n",
      "|2100006274|  08|      11|\n",
      "|2100006274|  10|      12|\n",
      "|2100006274|  13|      13|\n",
      "|2100006285|  01|      14|\n",
      "|2100006285|  02|      15|\n",
      "|2100006285|  05|      16|\n",
      "|2100006285|  11|      17|\n",
      "|2100006285|  13|      18|\n",
      "|2100006285|  16|      19|\n",
      "|2100006285|  17|      20|\n",
      "+----------+----+--------+\n",
      "only showing top 20 rows"
     ]
    }
   ],
   "source": [
    "tmp_trace_id = valid_flat_nsw.select('Subs_Id', 'hour').dropDuplicates().withColumn(\n",
    "    'trace_id', f.row_number().over(Window.orderBy('Subs_Id', 'hour'))\n",
    ")\n",
    "tmp_trace_id.persist()\n",
    "tmp_trace_id.show()"
   ]
  },
  {
   "cell_type": "code",
   "execution_count": 177,
   "id": "0fc1b2b7",
   "metadata": {},
   "outputs": [
    {
     "data": {
      "application/vnd.jupyter.widget-view+json": {
       "model_id": "",
       "version_major": 2,
       "version_minor": 0
      },
      "text/plain": [
       "FloatProgress(value=0.0, bar_style='info', description='Progress:', layout=Layout(height='25px', width='50%'),…"
      ]
     },
     "metadata": {},
     "output_type": "display_data"
    },
    {
     "name": "stdout",
     "output_type": "stream",
     "text": [
      "14965018"
     ]
    }
   ],
   "source": [
    "tmp_trace_id.count()"
   ]
  },
  {
   "cell_type": "code",
   "execution_count": 178,
   "id": "06df0463",
   "metadata": {},
   "outputs": [
    {
     "data": {
      "application/vnd.jupyter.widget-view+json": {
       "model_id": "",
       "version_major": 2,
       "version_minor": 0
      },
      "text/plain": [
       "FloatProgress(value=0.0, bar_style='info', description='Progress:', layout=Layout(height='25px', width='50%'),…"
      ]
     },
     "metadata": {},
     "output_type": "display_data"
    },
    {
     "name": "stdout",
     "output_type": "stream",
     "text": [
      "+-------------+\n",
      "|max(trace_id)|\n",
      "+-------------+\n",
      "|     14965018|\n",
      "+-------------+"
     ]
    }
   ],
   "source": [
    "tmp_trace_id.select(f.max('trace_id')).show()"
   ]
  },
  {
   "cell_type": "code",
   "execution_count": 186,
   "id": "44008c80",
   "metadata": {},
   "outputs": [
    {
     "data": {
      "application/vnd.jupyter.widget-view+json": {
       "model_id": "",
       "version_major": 2,
       "version_minor": 0
      },
      "text/plain": [
       "FloatProgress(value=0.0, bar_style='info', description='Progress:', layout=Layout(height='25px', width='50%'),…"
      ]
     },
     "metadata": {},
     "output_type": "display_data"
    },
    {
     "name": "stdout",
     "output_type": "stream",
     "text": [
      "+-------------+-------------+\n",
      "|min(trace_id)|max(trace_id)|\n",
      "+-------------+-------------+\n",
      "|            0|     14965017|\n",
      "+-------------+-------------+"
     ]
    }
   ],
   "source": [
    "valid_flat_nsw = valid_flat_nsw.withColumn(\n",
    "    'trace_id', f.dense_rank().over(Window.orderBy('Subs_Id', 'hour')) - 1\n",
    ")\n",
    "valid_flat_nsw.select(f.min('trace_id'), f.max('trace_id')).show()"
   ]
  },
  {
   "cell_type": "code",
   "execution_count": null,
   "id": "ef55b457",
   "metadata": {},
   "outputs": [],
   "source": []
  },
  {
   "cell_type": "code",
   "execution_count": 187,
   "id": "60da5d97",
   "metadata": {},
   "outputs": [
    {
     "data": {
      "application/vnd.jupyter.widget-view+json": {
       "model_id": "",
       "version_major": 2,
       "version_minor": 0
      },
      "text/plain": [
       "FloatProgress(value=0.0, bar_style='info', description='Progress:', layout=Layout(height='25px', width='50%'),…"
      ]
     },
     "metadata": {},
     "output_type": "display_data"
    }
   ],
   "source": [
    "valid_flat_nsw.write.mode('overwrite').parquet(\n",
    "    's3://kl-prod-tpgt-knowledge-lake-sandpit/TempDir/tmp/case_study/valid_flat_nsw/')"
   ]
  },
  {
   "cell_type": "code",
   "execution_count": 189,
   "id": "d0cba904",
   "metadata": {},
   "outputs": [
    {
     "data": {
      "application/vnd.jupyter.widget-view+json": {
       "model_id": "",
       "version_major": 2,
       "version_minor": 0
      },
      "text/plain": [
       "FloatProgress(value=0.0, bar_style='info', description='Progress:', layout=Layout(height='25px', width='50%'),…"
      ]
     },
     "metadata": {},
     "output_type": "display_data"
    }
   ],
   "source": [
    "spark.catalog.clearCache()"
   ]
  },
  {
   "cell_type": "code",
   "execution_count": null,
   "id": "276298d2",
   "metadata": {},
   "outputs": [],
   "source": [
    "# Trace INFO"
   ]
  },
  {
   "cell_type": "code",
   "execution_count": 5,
   "id": "e0fb0c6b",
   "metadata": {},
   "outputs": [
    {
     "data": {
      "application/vnd.jupyter.widget-view+json": {
       "model_id": "",
       "version_major": 2,
       "version_minor": 0
      },
      "text/plain": [
       "FloatProgress(value=0.0, bar_style='info', description='Progress:', layout=Layout(height='25px', width='50%'),…"
      ]
     },
     "metadata": {},
     "output_type": "display_data"
    },
    {
     "name": "stdout",
     "output_type": "stream",
     "text": [
      "54790880"
     ]
    }
   ],
   "source": [
    "valid_flat_nsw = spark.read.parquet('s3://kl-prod-tpgt-knowledge-lake-sandpit/TempDir/tmp/case_study/valid_flat_nsw/')\n",
    "valid_flat_nsw.count()"
   ]
  },
  {
   "cell_type": "code",
   "execution_count": 191,
   "id": "5e270a8c",
   "metadata": {},
   "outputs": [
    {
     "data": {
      "application/vnd.jupyter.widget-view+json": {
       "model_id": "",
       "version_major": 2,
       "version_minor": 0
      },
      "text/plain": [
       "FloatProgress(value=0.0, bar_style='info', description='Progress:', layout=Layout(height='25px', width='50%'),…"
      ]
     },
     "metadata": {},
     "output_type": "display_data"
    }
   ],
   "source": [
    "cei_threshold = 70"
   ]
  },
  {
   "cell_type": "code",
   "execution_count": 192,
   "id": "f7dfc338",
   "metadata": {},
   "outputs": [
    {
     "data": {
      "application/vnd.jupyter.widget-view+json": {
       "model_id": "",
       "version_major": 2,
       "version_minor": 0
      },
      "text/plain": [
       "FloatProgress(value=0.0, bar_style='info', description='Progress:', layout=Layout(height='25px', width='50%'),…"
      ]
     },
     "metadata": {},
     "output_type": "display_data"
    },
    {
     "name": "stdout",
     "output_type": "stream",
     "text": [
      "+----------+--------+\n",
      "|trace_bool|   count|\n",
      "+----------+--------+\n",
      "|      true|12005748|\n",
      "|     false| 2959270|\n",
      "+----------+--------+"
     ]
    }
   ],
   "source": [
    "valid_flat_nsw.select(\n",
    "    'trace_id', 'customer_experience_index'\n",
    ").dropDuplicates().withColumn(\n",
    "    'trace_bool', f.col('customer_experience_index') >= cei_threshold\n",
    ").groupBy('trace_bool').count().show()"
   ]
  },
  {
   "cell_type": "code",
   "execution_count": 193,
   "id": "0cbb2dd3",
   "metadata": {},
   "outputs": [
    {
     "data": {
      "application/vnd.jupyter.widget-view+json": {
       "model_id": "",
       "version_major": 2,
       "version_minor": 0
      },
      "text/plain": [
       "FloatProgress(value=0.0, bar_style='info', description='Progress:', layout=Layout(height='25px', width='50%'),…"
      ]
     },
     "metadata": {},
     "output_type": "display_data"
    },
    {
     "name": "stdout",
     "output_type": "stream",
     "text": [
      "+--------+-------------------------+----------+----------------+\n",
      "|trace_id|customer_experience_index|trace_bool|error_trace_type|\n",
      "+--------+-------------------------+----------+----------------+\n",
      "|       0|                     97.0|         1|               1|\n",
      "|       1|                     26.0|         0|               0|\n",
      "|       2|                     93.0|         1|               1|\n",
      "|       3|                     23.0|         0|               0|\n",
      "|       4|                     87.0|         1|               1|\n",
      "|       5|                     16.0|         0|               0|\n",
      "|       6|                     86.0|         1|               1|\n",
      "|       7|                     13.0|         0|               0|\n",
      "|       8|                     70.0|         1|               1|\n",
      "|       9|                     27.0|         0|               0|\n",
      "|      10|                     17.0|         0|               0|\n",
      "|      11|                     90.0|         1|               1|\n",
      "|      12|                     19.0|         0|               0|\n",
      "|      13|                     27.0|         0|               0|\n",
      "|      14|                     98.0|         1|               1|\n",
      "|      15|                     27.0|         0|               0|\n",
      "|      16|                     17.0|         0|               0|\n",
      "|      17|                     87.0|         1|               1|\n",
      "|      18|                     55.0|         0|               0|\n",
      "|      19|                     24.0|         0|               0|\n",
      "+--------+-------------------------+----------+----------------+\n",
      "only showing top 20 rows"
     ]
    }
   ],
   "source": [
    "trace_info = valid_flat_nsw.select(\n",
    "    'trace_id', 'customer_experience_index'\n",
    ").dropDuplicates().orderBy('trace_id').withColumn(\n",
    "    'trace_bool', (f.col('customer_experience_index') >= cei_threshold).cast('int')\n",
    ").withColumn(\n",
    "    'error_trace_type', f.col('trace_bool')\n",
    ")\n",
    "trace_info.show()"
   ]
  },
  {
   "cell_type": "code",
   "execution_count": 194,
   "id": "1d7f6551",
   "metadata": {},
   "outputs": [
    {
     "data": {
      "application/vnd.jupyter.widget-view+json": {
       "model_id": "",
       "version_major": 2,
       "version_minor": 0
      },
      "text/plain": [
       "FloatProgress(value=0.0, bar_style='info', description='Progress:', layout=Layout(height='25px', width='50%'),…"
      ]
     },
     "metadata": {},
     "output_type": "display_data"
    }
   ],
   "source": [
    "trace_info.repartition(1).write.mode('overwrite').parquet(\n",
    "    's3://kl-prod-tpgt-knowledge-lake-sandpit/TempDir/tmp/case_study/dataset/trace_info/')\n"
   ]
  },
  {
   "cell_type": "code",
   "execution_count": 132,
   "id": "bd06c879",
   "metadata": {},
   "outputs": [
    {
     "data": {
      "application/vnd.jupyter.widget-view+json": {
       "model_id": "",
       "version_major": 2,
       "version_minor": 0
      },
      "text/plain": [
       "FloatProgress(value=0.0, bar_style='info', description='Progress:', layout=Layout(height='25px', width='50%'),…"
      ]
     },
     "metadata": {},
     "output_type": "display_data"
    }
   ],
   "source": []
  },
  {
   "cell_type": "markdown",
   "id": "3eef3e52",
   "metadata": {},
   "source": [
    "### Node ID and Type"
   ]
  },
  {
   "cell_type": "code",
   "execution_count": 6,
   "id": "dbaf5796",
   "metadata": {},
   "outputs": [
    {
     "data": {
      "application/vnd.jupyter.widget-view+json": {
       "model_id": "",
       "version_major": 2,
       "version_minor": 0
      },
      "text/plain": [
       "FloatProgress(value=0.0, bar_style='info', description='Progress:', layout=Layout(height='25px', width='50%'),…"
      ]
     },
     "metadata": {},
     "output_type": "display_data"
    }
   ],
   "source": [
    "@f.udf(returnType=ArrayType(ArrayType(StringType())))\n",
    "def construct_nodes(edge_input):\n",
    "    \"\"\"\n",
    "    node types:\n",
    "    0 - user\n",
    "    1 - cell\n",
    "    2 - sector\n",
    "    \"\"\"\n",
    "    node_list = []\n",
    "    for a in edge_input:\n",
    "        if [a[0], 0] not in node_list:\n",
    "            node_list.append([a[0], 0])\n",
    "        if [a[1], 1] not in node_list:\n",
    "            node_list.append([a[1], 1])\n",
    "        if [a[2], 2] not in node_list:\n",
    "            node_list.append([a[2], 2])\n",
    "    return node_list\n"
   ]
  },
  {
   "cell_type": "code",
   "execution_count": 223,
   "id": "c21e29ac",
   "metadata": {},
   "outputs": [
    {
     "data": {
      "application/vnd.jupyter.widget-view+json": {
       "model_id": "",
       "version_major": 2,
       "version_minor": 0
      },
      "text/plain": [
       "FloatProgress(value=0.0, bar_style='info', description='Progress:', layout=Layout(height='25px', width='50%'),…"
      ]
     },
     "metadata": {},
     "output_type": "display_data"
    }
   ],
   "source": [
    "valid_flat_nsw.groupBy('trace_id').agg(\n",
    "    construct_nodes(\n",
    "            f.collect_list(f.struct('Subs_Id', 'cell_name', 'sector_name'))\n",
    "        ).alias('node_list')\n",
    ").withColumn(\n",
    "    'node_id_type', f.explode('node_list')\n",
    ").drop('node_list').withColumn(\n",
    "    'node_name', f.col('node_id_type')[0]\n",
    ").withColumn(\n",
    "    'node_type', f.col('node_id_type')[1]\n",
    ").drop('node_id_type').withColumn(\n",
    "    'node_id', f.row_number().over(Window.partitionBy('trace_id').orderBy('node_type')) - 1\n",
    ").write.parquet('s3://kl-prod-tpgt-knowledge-lake-sandpit/TempDir/tmp/case_study/dataset/node_overview/')"
   ]
  },
  {
   "cell_type": "code",
   "execution_count": 7,
   "id": "707daa5d",
   "metadata": {},
   "outputs": [
    {
     "data": {
      "application/vnd.jupyter.widget-view+json": {
       "model_id": "",
       "version_major": 2,
       "version_minor": 0
      },
      "text/plain": [
       "FloatProgress(value=0.0, bar_style='info', description='Progress:', layout=Layout(height='25px', width='50%'),…"
      ]
     },
     "metadata": {},
     "output_type": "display_data"
    },
    {
     "name": "stdout",
     "output_type": "stream",
     "text": [
      "110408369"
     ]
    }
   ],
   "source": [
    "node_overview = spark.read.parquet('s3://kl-prod-tpgt-knowledge-lake-sandpit/TempDir/tmp/case_study/dataset/node_overview/')\n",
    "node_overview.count()\n"
   ]
  },
  {
   "cell_type": "code",
   "execution_count": 8,
   "id": "0e25c91c",
   "metadata": {},
   "outputs": [
    {
     "data": {
      "application/vnd.jupyter.widget-view+json": {
       "model_id": "",
       "version_major": 2,
       "version_minor": 0
      },
      "text/plain": [
       "FloatProgress(value=0.0, bar_style='info', description='Progress:', layout=Layout(height='25px', width='50%'),…"
      ]
     },
     "metadata": {},
     "output_type": "display_data"
    },
    {
     "name": "stdout",
     "output_type": "stream",
     "text": [
      "+--------+--------------------+---------+-------+\n",
      "|trace_id|           node_name|node_type|node_id|\n",
      "+--------+--------------------+---------+-------+\n",
      "|      65|          2100006360|        0|      0|\n",
      "|      65|240028_Telarah_L1...|        1|      1|\n",
      "|      65|    240028_Telarah_2|        2|      2|\n",
      "|     133|          2100006452|        0|      0|\n",
      "|     133|202647_Berrima_L0...|        1|      1|\n",
      "|     133|    202647_Berrima_1|        2|      2|\n",
      "|     148|          2100006452|        0|      0|\n",
      "|     148|202647_Berrima_L1...|        1|      1|\n",
      "|     148|202647_Berrima_L0...|        1|      2|\n",
      "|     148|    202647_Berrima_1|        2|      3|\n",
      "+--------+--------------------+---------+-------+\n",
      "only showing top 10 rows"
     ]
    }
   ],
   "source": [
    "node_overview.show(10)"
   ]
  },
  {
   "cell_type": "markdown",
   "id": "a7b34ebd",
   "metadata": {},
   "source": [
    "### Edge Index"
   ]
  },
  {
   "cell_type": "code",
   "execution_count": 9,
   "id": "2e1e4e52",
   "metadata": {},
   "outputs": [
    {
     "data": {
      "application/vnd.jupyter.widget-view+json": {
       "model_id": "",
       "version_major": 2,
       "version_minor": 0
      },
      "text/plain": [
       "FloatProgress(value=0.0, bar_style='info', description='Progress:', layout=Layout(height='25px', width='50%'),…"
      ]
     },
     "metadata": {},
     "output_type": "display_data"
    },
    {
     "name": "stdout",
     "output_type": "stream",
     "text": [
      "+-------+----+-----------+------------------+---------+-----+-----------+--------+-------------------------+\n",
      "|Subs_Id|hour|sector_name|event_code_feature|cell_name|state|utilisation|trace_id|customer_experience_index|\n",
      "+-------+----+-----------+------------------+---------+-----+-----------+--------+-------------------------+\n",
      "+-------+----+-----------+------------------+---------+-----+-----------+--------+-------------------------+"
     ]
    }
   ],
   "source": [
    "valid_flat_nsw.filter(f.col('trace_id') == 54790878).show()"
   ]
  },
  {
   "cell_type": "code",
   "execution_count": 10,
   "id": "d203ef4e",
   "metadata": {},
   "outputs": [
    {
     "data": {
      "application/vnd.jupyter.widget-view+json": {
       "model_id": "",
       "version_major": 2,
       "version_minor": 0
      },
      "text/plain": [
       "FloatProgress(value=0.0, bar_style='info', description='Progress:', layout=Layout(height='25px', width='50%'),…"
      ]
     },
     "metadata": {},
     "output_type": "display_data"
    }
   ],
   "source": [
    "@f.udf(returnType=ArrayType(ArrayType(StringType())))\n",
    "def construct_edge_index(edge_input):\n",
    "\n",
    "    edge_index = []\n",
    "    for a in edge_input:\n",
    "        if [a[0], a[1]] not in edge_index:\n",
    "            edge_index.append([a[0], a[1]])\n",
    "        if [a[1], a[2]] not in edge_index:\n",
    "            edge_index.append([a[1], a[2]])\n",
    "    return edge_index"
   ]
  },
  {
   "cell_type": "code",
   "execution_count": 11,
   "id": "910e1e67",
   "metadata": {},
   "outputs": [
    {
     "data": {
      "application/vnd.jupyter.widget-view+json": {
       "model_id": "",
       "version_major": 2,
       "version_minor": 0
      },
      "text/plain": [
       "FloatProgress(value=0.0, bar_style='info', description='Progress:', layout=Layout(height='25px', width='50%'),…"
      ]
     },
     "metadata": {},
     "output_type": "display_data"
    },
    {
     "name": "stdout",
     "output_type": "stream",
     "text": [
      "+--------+--------------------+--------------------+\n",
      "|trace_id|            src_name|            dst_name|\n",
      "+--------+--------------------+--------------------+\n",
      "|     148|          2100006452|202647_Berrima_L1...|\n",
      "|     148|202647_Berrima_L1...|    202647_Berrima_1|\n",
      "|     148|          2100006452|202647_Berrima_L0...|\n",
      "|     148|202647_Berrima_L0...|    202647_Berrima_1|\n",
      "|     463|          2100006643|228254_Mullumbimb...|\n",
      "|     463|228254_Mullumbimb...|228254_Mullumbimb...|\n",
      "|     471|          2100006643|228254_Mullumbimb...|\n",
      "|     471|228254_Mullumbimb...|228254_Mullumbimb...|\n",
      "|     471|          2100006643|202623_Mullumbimb...|\n",
      "|     471|202623_Mullumbimb...|202623_Mullumbimby_2|\n",
      "|     471|          2100006643|228254_Mullumbimb...|\n",
      "|     471|228254_Mullumbimb...|228254_Mullumbimb...|\n",
      "|     471|          2100006643|228254_Mullumbimb...|\n",
      "|     471|228254_Mullumbimb...|228254_Mullumbimb...|\n",
      "|     496|          2100006656|201885_TheEntranc...|\n",
      "|     496|201885_TheEntranc...|201885_TheEntranc...|\n",
      "|     833|          2100006782|201614_Cabramatta...|\n",
      "|     833|201614_Cabramatta...|201614_Cabramatta...|\n",
      "|    1088|          2100006926|202089_bringelly_...|\n",
      "|    1088|202089_bringelly_...|  202089_bringelly_1|\n",
      "+--------+--------------------+--------------------+\n",
      "only showing top 20 rows"
     ]
    }
   ],
   "source": [
    "edge_index = valid_flat_nsw.groupBy('trace_id').agg(\n",
    "        construct_edge_index(\n",
    "            f.collect_list(f.struct('Subs_Id', 'cell_name', 'sector_name'))\n",
    "        ).alias('edge_index_list')\n",
    ").withColumn(\n",
    "    'edge_pair', f.explode('edge_index_list')\n",
    ").drop('edge_index_list').withColumn(\n",
    "    'src_name', f.col('edge_pair')[0]\n",
    ").withColumn(\n",
    "    'dst_name', f.col('edge_pair')[1]\n",
    ").drop('edge_pair')\n",
    "\n",
    "edge_index.persist()\n",
    "edge_index.show()"
   ]
  },
  {
   "cell_type": "code",
   "execution_count": 12,
   "id": "c134cbd2",
   "metadata": {},
   "outputs": [
    {
     "data": {
      "application/vnd.jupyter.widget-view+json": {
       "model_id": "",
       "version_major": 2,
       "version_minor": 0
      },
      "text/plain": [
       "FloatProgress(value=0.0, bar_style='info', description='Progress:', layout=Layout(height='25px', width='50%'),…"
      ]
     },
     "metadata": {},
     "output_type": "display_data"
    },
    {
     "name": "stdout",
     "output_type": "stream",
     "text": [
      "109581760"
     ]
    }
   ],
   "source": [
    "edge_index.count()"
   ]
  },
  {
   "cell_type": "code",
   "execution_count": 31,
   "id": "e6f7724b",
   "metadata": {},
   "outputs": [
    {
     "data": {
      "application/vnd.jupyter.widget-view+json": {
       "model_id": "",
       "version_major": 2,
       "version_minor": 0
      },
      "text/plain": [
       "FloatProgress(value=0.0, bar_style='info', description='Progress:', layout=Layout(height='25px', width='50%'),…"
      ]
     },
     "metadata": {},
     "output_type": "display_data"
    }
   ],
   "source": [
    "spark.conf.set('spark.default.parallelism', 1200)\n",
    "spark.conf.set('spark.sql.shuffle.partitions', 1200)\n",
    "spark.conf.set('spark.sql.autoBroadcastJoinThreshold', '-1')"
   ]
  },
  {
   "cell_type": "code",
   "execution_count": 21,
   "id": "b2e8774d",
   "metadata": {},
   "outputs": [
    {
     "data": {
      "application/vnd.jupyter.widget-view+json": {
       "model_id": "",
       "version_major": 2,
       "version_minor": 0
      },
      "text/plain": [
       "FloatProgress(value=0.0, bar_style='info', description='Progress:', layout=Layout(height='25px', width='50%'),…"
      ]
     },
     "metadata": {},
     "output_type": "display_data"
    }
   ],
   "source": [
    "edge_index.join(\n",
    "    node_overview.select(\n",
    "        'trace_id', 'node_name', 'node_id').withColumnRenamed(\n",
    "        'node_name', 'src_name').withColumnRenamed('node_id', 'src_id'),\n",
    "    on=['trace_id', 'src_name'],\n",
    "    how='inner'\n",
    ").join(node_overview.select(\n",
    "        'trace_id', 'node_name', 'node_id').withColumnRenamed(\n",
    "        'node_name', 'dst_name').withColumnRenamed('node_id', 'dst_id'),\n",
    "    on=['trace_id', 'dst_name'],\n",
    "    how='inner'\n",
    ").drop('dst_name', 'src_name').write.parquet('s3://kl-prod-tpgt-knowledge-lake-sandpit/TempDir/tmp/case_study/dataset/edge_index/')"
   ]
  },
  {
   "cell_type": "markdown",
   "id": "7a108207",
   "metadata": {},
   "source": [
    "### Node Features"
   ]
  },
  {
   "cell_type": "code",
   "execution_count": 23,
   "id": "ff4ad4b3",
   "metadata": {},
   "outputs": [
    {
     "data": {
      "application/vnd.jupyter.widget-view+json": {
       "model_id": "",
       "version_major": 2,
       "version_minor": 0
      },
      "text/plain": [
       "FloatProgress(value=0.0, bar_style='info', description='Progress:', layout=Layout(height='25px', width='50%'),…"
      ]
     },
     "metadata": {},
     "output_type": "display_data"
    },
    {
     "name": "stdout",
     "output_type": "stream",
     "text": [
      "+--------+----------+-----------------------------+------------------------+---------------------+------------------+\n",
      "|trace_id|Subs_Id   |cell_name                    |sector_name             |event_code_feature   |utilisation       |\n",
      "+--------+----------+-----------------------------+------------------------+---------------------+------------------+\n",
      "|0       |2100006261|202583_RandwickCemetry_L21H_1|202583_RandwickCemetry_1|(30,[13],[1.0])      |10.772307692307692|\n",
      "|1       |2100006261|202583_RandwickCemetry_L21C_1|202583_RandwickCemetry_1|(30,[8],[1.0])       |12.544615384615383|\n",
      "|2       |2100006261|202583_RandwickCemetry_L21C_1|202583_RandwickCemetry_1|(30,[13],[1.0])      |24.883076923076924|\n",
      "|3       |2100006261|202583_RandwickCemetry_L21C_1|202583_RandwickCemetry_1|(30,[8],[1.0])       |25.113846153846154|\n",
      "|4       |2100006261|202583_RandwickCemetry_L18A_1|202583_RandwickCemetry_1|(30,[13],[1.0])      |43.815384615384616|\n",
      "|5       |2100006261|202583_RandwickCemetry_L21C_1|202583_RandwickCemetry_1|(30,[8],[1.0])       |46.66769230769231 |\n",
      "|6       |2100006261|202583_RandwickCemetry_L18A_1|202583_RandwickCemetry_1|(30,[13],[1.0])      |45.51692307692308 |\n",
      "|7       |2100006261|202583_RandwickCemetry_L21C_1|202583_RandwickCemetry_1|(30,[8],[1.0])       |58.2523076923077  |\n",
      "|8       |2100006274|227890_Dunheved_L18B_1       |227890_Dunheved_1       |(30,[8,13],[1.0,2.0])|23.775            |\n",
      "|9       |2100006274|227890_Dunheved_L18B_1       |227890_Dunheved_1       |(30,[8],[1.0])       |11.275            |\n",
      "+--------+----------+-----------------------------+------------------------+---------------------+------------------+\n",
      "only showing top 10 rows"
     ]
    }
   ],
   "source": [
    "valid_flat_nsw.select(\n",
    "    'trace_id', 'Subs_Id', 'cell_name', 'sector_name', 'event_code_feature', 'utilisation'\n",
    ").show(10,False)"
   ]
  },
  {
   "cell_type": "code",
   "execution_count": 31,
   "id": "2ab56117",
   "metadata": {},
   "outputs": [
    {
     "data": {
      "application/vnd.jupyter.widget-view+json": {
       "model_id": "",
       "version_major": 2,
       "version_minor": 0
      },
      "text/plain": [
       "FloatProgress(value=0.0, bar_style='info', description='Progress:', layout=Layout(height='25px', width='50%'),…"
      ]
     },
     "metadata": {},
     "output_type": "display_data"
    }
   ],
   "source": []
  },
  {
   "cell_type": "code",
   "execution_count": 33,
   "id": "8f958077",
   "metadata": {},
   "outputs": [
    {
     "data": {
      "application/vnd.jupyter.widget-view+json": {
       "model_id": "",
       "version_major": 2,
       "version_minor": 0
      },
      "text/plain": [
       "FloatProgress(value=0.0, bar_style='info', description='Progress:', layout=Layout(height='25px', width='50%'),…"
      ]
     },
     "metadata": {},
     "output_type": "display_data"
    },
    {
     "name": "stdout",
     "output_type": "stream",
     "text": [
      "14965018"
     ]
    }
   ],
   "source": [
    "subs_feature = valid_flat_nsw.select(\n",
    "    'trace_id', 'Subs_Id', 'cell_name', 'sector_name', 'event_code_feature', 'utilisation'\n",
    ").groupBy('trace_id', 'Subs_Id').agg(\n",
    "    sparse_vector_sum(f.collect_list('event_code_feature')).alias('event_code_feature')\n",
    ").withColumn(\n",
    "    'feature', to_dense(f.col('event_code_feature'))\n",
    ").drop('event_code_feature')\n",
    "subs_feature.count()"
   ]
  },
  {
   "cell_type": "code",
   "execution_count": null,
   "id": "23ad1096",
   "metadata": {
    "vscode": {
     "languageId": "plaintext"
    }
   },
   "outputs": [],
   "source": []
  },
  {
   "cell_type": "code",
   "execution_count": 37,
   "id": "ac7f87f5",
   "metadata": {},
   "outputs": [
    {
     "data": {
      "application/vnd.jupyter.widget-view+json": {
       "model_id": "",
       "version_major": 2,
       "version_minor": 0
      },
      "text/plain": [
       "FloatProgress(value=0.0, bar_style='info', description='Progress:', layout=Layout(height='25px', width='50%'),…"
      ]
     },
     "metadata": {},
     "output_type": "display_data"
    },
    {
     "name": "stdout",
     "output_type": "stream",
     "text": [
      "+--------+----------+--------------------------------------------------------------------------------------------------------------------------------------------------------------+\n",
      "|trace_id|Subs_Id   |feature                                                                                                                                                       |\n",
      "+--------+----------+--------------------------------------------------------------------------------------------------------------------------------------------------------------+\n",
      "|105     |2100006443|[0.0, 0.0, 0.0, 0.0, 0.0, 0.0, 0.0, 1.0, 1.0, 0.0, 0.0, 0.0, 0.0, 5.0, 0.0, 0.0, 1.0, 0.0, 0.0, 0.0, 0.0, 0.0, 0.0, 0.0, 0.0, 0.0, 0.0, 0.0, 0.0, 0.0, 0.0]   |\n",
      "|156     |2100006459|[0.0, 0.0, 0.0, 0.0, 0.0, 0.0, 0.0, 37.0, 18.0, 0.0, 0.0, 1.0, 0.0, 18.0, 0.0, 0.0, 0.0, 0.0, 0.0, 0.0, 0.0, 0.0, 0.0, 0.0, 0.0, 0.0, 0.0, 0.0, 0.0, 0.0, 0.0]|\n",
      "|188     |2100006496|[0.0, 0.0, 0.0, 0.0, 0.0, 0.0, 0.0, 0.0, 0.0, 0.0, 0.0, 0.0, 0.0, 1.0, 0.0, 0.0, 0.0, 0.0, 0.0, 0.0, 0.0, 0.0, 0.0, 0.0, 0.0, 0.0, 0.0, 0.0, 0.0, 0.0, 0.0]   |\n",
      "|341     |2100006553|[0.0, 0.0, 0.0, 0.0, 0.0, 0.0, 0.0, 0.0, 0.0, 0.0, 0.0, 0.0, 0.0, 7.0, 0.0, 0.0, 0.0, 0.0, 0.0, 0.0, 0.0, 0.0, 0.0, 0.0, 0.0, 0.0, 0.0, 0.0, 0.0, 0.0, 0.0]   |\n",
      "|416     |2100006608|[0.0, 0.0, 0.0, 0.0, 0.0, 0.0, 0.0, 3.0, 0.0, 0.0, 0.0, 0.0, 0.0, 5.0, 0.0, 0.0, 0.0, 0.0, 0.0, 0.0, 0.0, 0.0, 0.0, 0.0, 0.0, 0.0, 0.0, 0.0, 0.0, 0.0, 0.0]   |\n",
      "|445     |2100006641|[0.0, 0.0, 0.0, 0.0, 0.0, 0.0, 0.0, 0.0, 0.0, 0.0, 0.0, 2.0, 4.0, 5.0, 0.0, 0.0, 0.0, 0.0, 0.0, 0.0, 0.0, 0.0, 0.0, 0.0, 0.0, 0.0, 0.0, 0.0, 0.0, 0.0, 0.0]   |\n",
      "|553     |2100006670|[0.0, 0.0, 0.0, 0.0, 0.0, 0.0, 0.0, 12.0, 0.0, 0.0, 0.0, 1.0, 0.0, 1.0, 0.0, 0.0, 0.0, 0.0, 0.0, 0.0, 0.0, 0.0, 0.0, 0.0, 0.0, 0.0, 0.0, 0.0, 0.0, 0.0, 0.0]  |\n",
      "|706     |2100006724|[0.0, 0.0, 0.0, 0.0, 0.0, 0.0, 0.0, 0.0, 0.0, 0.0, 0.0, 0.0, 0.0, 2.0, 0.0, 0.0, 0.0, 0.0, 0.0, 0.0, 0.0, 0.0, 0.0, 0.0, 0.0, 0.0, 0.0, 0.0, 0.0, 0.0, 0.0]   |\n",
      "|757     |2100006757|[0.0, 0.0, 0.0, 0.0, 0.0, 0.0, 0.0, 0.0, 1.0, 0.0, 0.0, 0.0, 0.0, 0.0, 0.0, 0.0, 0.0, 0.0, 0.0, 0.0, 0.0, 0.0, 0.0, 0.0, 0.0, 0.0, 0.0, 0.0, 0.0, 0.0, 0.0]   |\n",
      "|802     |2100006776|[0.0, 0.0, 0.0, 0.0, 0.0, 0.0, 0.0, 2.0, 2.0, 0.0, 0.0, 0.0, 0.0, 0.0, 0.0, 0.0, 0.0, 0.0, 0.0, 0.0, 0.0, 0.0, 0.0, 0.0, 0.0, 0.0, 0.0, 0.0, 0.0, 0.0, 0.0]   |\n",
      "+--------+----------+--------------------------------------------------------------------------------------------------------------------------------------------------------------+\n",
      "only showing top 10 rows"
     ]
    }
   ],
   "source": [
    "subs_feature.show(10, False)"
   ]
  },
  {
   "cell_type": "code",
   "execution_count": 34,
   "id": "a0c60970",
   "metadata": {},
   "outputs": [
    {
     "data": {
      "application/vnd.jupyter.widget-view+json": {
       "model_id": "",
       "version_major": 2,
       "version_minor": 0
      },
      "text/plain": [
       "FloatProgress(value=0.0, bar_style='info', description='Progress:', layout=Layout(height='25px', width='50%'),…"
      ]
     },
     "metadata": {},
     "output_type": "display_data"
    },
    {
     "name": "stdout",
     "output_type": "stream",
     "text": [
      "54790880"
     ]
    }
   ],
   "source": [
    "cell_feature = valid_flat_nsw.select(\n",
    "    'trace_id', 'Subs_Id', 'cell_name', 'sector_name', 'event_code_feature', 'utilisation'\n",
    ").groupBy('trace_id', 'cell_name').agg(\n",
    "    sparse_vector_sum(f.collect_list('event_code_feature')).alias('event_code_feature')\n",
    ").withColumn(\n",
    "    'feature', to_dense(f.col('event_code_feature'))\n",
    ").drop('event_code_feature')\n",
    "cell_feature.count()"
   ]
  },
  {
   "cell_type": "code",
   "execution_count": 36,
   "id": "8b10a186",
   "metadata": {},
   "outputs": [
    {
     "data": {
      "application/vnd.jupyter.widget-view+json": {
       "model_id": "",
       "version_major": 2,
       "version_minor": 0
      },
      "text/plain": [
       "FloatProgress(value=0.0, bar_style='info', description='Progress:', layout=Layout(height='25px', width='50%'),…"
      ]
     },
     "metadata": {},
     "output_type": "display_data"
    },
    {
     "name": "stdout",
     "output_type": "stream",
     "text": [
      "+--------+----------------------------+-----------------------------------------------------------------------------------------------------------------------------------------------------------+\n",
      "|trace_id|cell_name                   |feature                                                                                                                                                    |\n",
      "+--------+----------------------------+-----------------------------------------------------------------------------------------------------------------------------------------------------------+\n",
      "|151     |228122_WarwickFarm_L18A_3   |[0.0, 0.0, 0.0, 0.0, 0.0, 0.0, 0.0, 5.0, 1.0, 0.0, 0.0, 0.0, 0.0, 1.0, 0.0, 0.0, 0.0, 0.0, 0.0, 0.0, 0.0, 0.0, 0.0, 0.0, 0.0, 0.0, 0.0, 0.0, 0.0, 0.0, 0.0]|\n",
      "|276     |227535_Jannali_L18B_3       |[0.0, 0.0, 0.0, 0.0, 0.0, 0.0, 0.0, 0.0, 0.0, 0.0, 0.0, 0.0, 0.0, 2.0, 0.0, 0.0, 0.0, 0.0, 0.0, 0.0, 0.0, 0.0, 0.0, 0.0, 0.0, 0.0, 0.0, 0.0, 0.0, 0.0, 0.0]|\n",
      "|289     |227535_Jannali_L18A_3       |[0.0, 0.0, 0.0, 0.0, 0.0, 0.0, 0.0, 0.0, 0.0, 0.0, 0.0, 0.0, 0.0, 4.0, 0.0, 0.0, 0.0, 0.0, 0.0, 0.0, 0.0, 0.0, 0.0, 0.0, 0.0, 0.0, 0.0, 0.0, 0.0, 0.0, 0.0]|\n",
      "|414     |201775_EastHills_L21H_1     |[0.0, 0.0, 0.0, 0.0, 0.0, 0.0, 0.0, 0.0, 0.0, 0.0, 0.0, 0.0, 0.0, 1.0, 0.0, 0.0, 0.0, 0.0, 0.0, 0.0, 0.0, 0.0, 0.0, 0.0, 0.0, 0.0, 0.0, 0.0, 0.0, 0.0, 0.0]|\n",
      "|470     |244036_Tyagarah_L08B_1      |[0.0, 0.0, 0.0, 0.0, 0.0, 0.0, 0.0, 3.0, 0.0, 0.0, 0.0, 0.0, 0.0, 1.0, 0.0, 0.0, 0.0, 0.0, 0.0, 0.0, 0.0, 0.0, 0.0, 0.0, 0.0, 0.0, 0.0, 0.0, 0.0, 0.0, 0.0]|\n",
      "|555     |227421_Leichhardt_L21C_2    |[0.0, 0.0, 0.0, 0.0, 0.0, 0.0, 0.0, 0.0, 0.0, 0.0, 0.0, 0.0, 0.0, 1.0, 0.0, 0.0, 0.0, 0.0, 0.0, 0.0, 0.0, 0.0, 0.0, 0.0, 0.0, 0.0, 0.0, 0.0, 0.0, 0.0, 0.0]|\n",
      "|559     |227594_GreystanesEast_L18A_3|[0.0, 0.0, 0.0, 0.0, 0.0, 0.0, 0.0, 3.0, 0.0, 0.0, 0.0, 1.0, 0.0, 5.0, 0.0, 0.0, 0.0, 0.0, 0.0, 0.0, 0.0, 0.0, 0.0, 0.0, 0.0, 0.0, 0.0, 0.0, 0.0, 0.0, 0.0]|\n",
      "|715     |227697_MontereyNorth_L08A_3 |[0.0, 0.0, 0.0, 0.0, 0.0, 0.0, 0.0, 3.0, 0.0, 0.0, 0.0, 0.0, 0.0, 0.0, 0.0, 0.0, 0.0, 0.0, 0.0, 0.0, 0.0, 0.0, 0.0, 0.0, 0.0, 0.0, 0.0, 0.0, 0.0, 0.0, 0.0]|\n",
      "|718     |202330_SugarLoafRange_L18A_2|[0.0, 0.0, 0.0, 0.0, 0.0, 0.0, 0.0, 2.0, 0.0, 0.0, 0.0, 0.0, 0.0, 0.0, 0.0, 0.0, 0.0, 0.0, 0.0, 0.0, 0.0, 0.0, 0.0, 0.0, 0.0, 0.0, 0.0, 0.0, 0.0, 0.0, 0.0]|\n",
      "|724     |227871_Penrith_L08A_3       |[0.0, 0.0, 0.0, 0.0, 0.0, 0.0, 0.0, 2.0, 1.0, 0.0, 0.0, 1.0, 0.0, 4.0, 0.0, 0.0, 1.0, 0.0, 0.0, 0.0, 0.0, 0.0, 0.0, 0.0, 0.0, 0.0, 0.0, 0.0, 0.0, 0.0, 0.0]|\n",
      "+--------+----------------------------+-----------------------------------------------------------------------------------------------------------------------------------------------------------+\n",
      "only showing top 10 rows"
     ]
    }
   ],
   "source": [
    "cell_feature.show(10, False)"
   ]
  },
  {
   "cell_type": "code",
   "execution_count": 42,
   "id": "4d8d8653",
   "metadata": {},
   "outputs": [
    {
     "data": {
      "application/vnd.jupyter.widget-view+json": {
       "model_id": "",
       "version_major": 2,
       "version_minor": 0
      },
      "text/plain": [
       "FloatProgress(value=0.0, bar_style='info', description='Progress:', layout=Layout(height='25px', width='50%'),…"
      ]
     },
     "metadata": {},
     "output_type": "display_data"
    }
   ],
   "source": [
    "@f.udf(returnType=ArrayType(FloatType()))\n",
    "def overwrite_utilisation(v, util):\n",
    "    v[-1] = util\n",
    "    return v"
   ]
  },
  {
   "cell_type": "code",
   "execution_count": 45,
   "id": "4a627226",
   "metadata": {},
   "outputs": [
    {
     "data": {
      "application/vnd.jupyter.widget-view+json": {
       "model_id": "",
       "version_major": 2,
       "version_minor": 0
      },
      "text/plain": [
       "FloatProgress(value=0.0, bar_style='info', description='Progress:', layout=Layout(height='25px', width='50%'),…"
      ]
     },
     "metadata": {},
     "output_type": "display_data"
    },
    {
     "name": "stdout",
     "output_type": "stream",
     "text": [
      "40652471"
     ]
    }
   ],
   "source": [
    "sector_feature = valid_flat_nsw.select(\n",
    "    'trace_id', 'Subs_Id', 'cell_name', 'sector_name', 'event_code_feature', 'utilisation'\n",
    ").groupBy('trace_id', 'sector_name').agg(\n",
    "    sparse_vector_sum(f.collect_list('event_code_feature')).alias('event_code_feature'),\n",
    "    f.max('utilisation').alias('utilisation')\n",
    ").withColumn(\n",
    "    'feature', to_dense(f.col('event_code_feature'))\n",
    ").drop('event_code_feature').withColumn(\n",
    "    'feature', overwrite_utilisation(f.col('feature'), f.col('utilisation'))\n",
    ").drop('utilisation')\n",
    "sector_feature.count()"
   ]
  },
  {
   "cell_type": "code",
   "execution_count": 46,
   "id": "342068fb",
   "metadata": {},
   "outputs": [
    {
     "data": {
      "application/vnd.jupyter.widget-view+json": {
       "model_id": "",
       "version_major": 2,
       "version_minor": 0
      },
      "text/plain": [
       "FloatProgress(value=0.0, bar_style='info', description='Progress:', layout=Layout(height='25px', width='50%'),…"
      ]
     },
     "metadata": {},
     "output_type": "display_data"
    },
    {
     "name": "stdout",
     "output_type": "stream",
     "text": [
      "+--------+------------------------+-----------------------------------------------------------------------------------------------------------------------------------------------------------------+\n",
      "|trace_id|sector_name             |feature                                                                                                                                                          |\n",
      "+--------+------------------------+-----------------------------------------------------------------------------------------------------------------------------------------------------------------+\n",
      "|132     |202647_Berrima_1        |[0.0, 0.0, 0.0, 0.0, 0.0, 0.0, 0.0, 0.0, 0.0, 0.0, 0.0, 0.0, 0.0, 5.0, 0.0, 0.0, 0.0, 0.0, 0.0, 0.0, 0.0, 0.0, 0.0, 0.0, 0.0, 0.0, 0.0, 0.0, 0.0, 0.0, 8.59]     |\n",
      "|221     |201656_CabbageTrlnePrk_1|[0.0, 0.0, 0.0, 0.0, 0.0, 0.0, 0.0, 4.0, 0.0, 0.0, 0.0, 0.0, 0.0, 2.0, 0.0, 0.0, 0.0, 0.0, 0.0, 0.0, 0.0, 0.0, 0.0, 0.0, 0.0, 0.0, 0.0, 0.0, 0.0, 0.0, 59.73]    |\n",
      "|258     |227236_PeakhurstTLS_2   |[0.0, 0.0, 0.0, 0.0, 0.0, 0.0, 0.0, 1.0, 0.0, 0.0, 0.0, 0.0, 0.0, 0.0, 0.0, 0.0, 0.0, 0.0, 0.0, 0.0, 0.0, 0.0, 0.0, 0.0, 0.0, 0.0, 0.0, 0.0, 0.0, 0.0, 67.15692] |\n",
      "|265     |201803_Penhust594FstRd_2|[0.0, 0.0, 0.0, 0.0, 0.0, 0.0, 0.0, 0.0, 5.0, 0.0, 0.0, 0.0, 0.0, 7.0, 0.0, 0.0, 0.0, 0.0, 0.0, 0.0, 0.0, 0.0, 0.0, 0.0, 0.0, 0.0, 0.0, 0.0, 0.0, 0.0, 97.94]    |\n",
      "|328     |227170_BunganHead_2     |[0.0, 0.0, 0.0, 0.0, 0.0, 0.0, 0.0, 0.0, 0.0, 0.0, 0.0, 0.0, 0.0, 1.0, 0.0, 0.0, 0.0, 0.0, 0.0, 0.0, 0.0, 0.0, 0.0, 0.0, 0.0, 0.0, 0.0, 0.0, 0.0, 0.0, 17.821817]|\n",
      "|334     |202933_StrawberryHills_1|[0.0, 0.0, 0.0, 0.0, 0.0, 0.0, 0.0, 0.0, 0.0, 0.0, 0.0, 0.0, 0.0, 2.0, 0.0, 0.0, 0.0, 0.0, 0.0, 0.0, 0.0, 0.0, 0.0, 0.0, 0.0, 0.0, 0.0, 0.0, 0.0, 0.0, 3.485]    |\n",
      "|359     |227828_BankstownWtrTwr_1|[0.0, 0.0, 0.0, 0.0, 0.0, 0.0, 0.0, 0.0, 0.0, 0.0, 0.0, 0.0, 0.0, 2.0, 0.0, 0.0, 0.0, 0.0, 0.0, 0.0, 0.0, 0.0, 0.0, 0.0, 0.0, 0.0, 0.0, 0.0, 0.0, 0.0, 7.2246156]|\n",
      "|381     |227523_Panania_1        |[0.0, 0.0, 0.0, 0.0, 0.0, 0.0, 0.0, 0.0, 0.0, 0.0, 0.0, 0.0, 0.0, 5.0, 0.0, 0.0, 0.0, 0.0, 0.0, 0.0, 0.0, 0.0, 0.0, 0.0, 0.0, 0.0, 0.0, 0.0, 0.0, 0.0, 41.04]    |\n",
      "|463     |228254_MullumbimbyCBD_2 |[0.0, 0.0, 0.0, 0.0, 0.0, 0.0, 0.0, 0.0, 0.0, 0.0, 0.0, 0.0, 0.0, 3.0, 0.0, 0.0, 0.0, 0.0, 0.0, 0.0, 0.0, 0.0, 0.0, 0.0, 0.0, 0.0, 0.0, 0.0, 0.0, 0.0, 19.936]   |\n",
      "|471     |228254_MullumbimbyCBD_2 |[0.0, 0.0, 0.0, 0.0, 0.0, 0.0, 0.0, 1.0, 5.0, 0.0, 0.0, 3.0, 4.0, 21.0, 0.0, 0.0, 2.0, 0.0, 0.0, 0.0, 0.0, 0.0, 0.0, 0.0, 0.0, 0.0, 0.0, 0.0, 0.0, 0.0, 61.32]   |\n",
      "+--------+------------------------+-----------------------------------------------------------------------------------------------------------------------------------------------------------------+\n",
      "only showing top 10 rows"
     ]
    }
   ],
   "source": [
    "sector_feature.show(10, False)"
   ]
  },
  {
   "cell_type": "code",
   "execution_count": 51,
   "id": "40f3314f",
   "metadata": {},
   "outputs": [
    {
     "data": {
      "application/vnd.jupyter.widget-view+json": {
       "model_id": "",
       "version_major": 2,
       "version_minor": 0
      },
      "text/plain": [
       "FloatProgress(value=0.0, bar_style='info', description='Progress:', layout=Layout(height='25px', width='50%'),…"
      ]
     },
     "metadata": {},
     "output_type": "display_data"
    },
    {
     "name": "stdout",
     "output_type": "stream",
     "text": [
      "+--------+--------------------+-------+---+---+---+---+---+---+---+---+---+---+----+----+----+----+----+----+----+----+----+----+----+----+----+----+----+----+----+----+----+----+---------+\n",
      "|trace_id|           node_name|node_id|f_0|f_1|f_2|f_3|f_4|f_5|f_6|f_7|f_8|f_9|f_10|f_11|f_12|f_13|f_14|f_15|f_16|f_17|f_18|f_19|f_20|f_21|f_22|f_23|f_24|f_25|f_26|f_27|f_28|f_29|     f_30|\n",
      "+--------+--------------------+-------+---+---+---+---+---+---+---+---+---+---+----+----+----+----+----+----+----+----+----+----+----+----+----+----+----+----+----+----+----+----+---------+\n",
      "|     414|201775_EastHills_...|      1|0.0|0.0|0.0|0.0|0.0|0.0|0.0|0.0|0.0|0.0| 0.0| 0.0| 0.0| 1.0| 0.0| 0.0| 0.0| 0.0| 0.0| 0.0| 0.0| 0.0| 0.0| 0.0| 0.0| 0.0| 0.0| 0.0| 0.0| 0.0|      0.0|\n",
      "|     471|228254_Mullumbimb...|      7|0.0|0.0|0.0|0.0|0.0|0.0|0.0|1.0|5.0|0.0| 0.0| 3.0| 4.0|21.0| 0.0| 0.0| 2.0| 0.0| 0.0| 0.0| 0.0| 0.0| 0.0| 0.0| 0.0| 0.0| 0.0| 0.0| 0.0| 0.0|    61.32|\n",
      "|     608|  202930_Roseberry_3|      8|0.0|0.0|0.0|0.0|0.0|0.0|0.0|0.0|0.0|0.0| 0.0| 0.0| 0.0| 1.0| 0.0| 0.0| 0.0| 0.0| 0.0| 0.0| 0.0| 0.0| 0.0| 0.0| 0.0| 0.0| 0.0| 0.0| 0.0| 0.0|53.950768|\n",
      "|     724|227871_Penrith_L0...|      1|0.0|0.0|0.0|0.0|0.0|0.0|0.0|2.0|1.0|0.0| 0.0| 1.0| 0.0| 4.0| 0.0| 0.0| 1.0| 0.0| 0.0| 0.0| 0.0| 0.0| 0.0| 0.0| 0.0| 0.0| 0.0| 0.0| 0.0| 0.0|      0.0|\n",
      "|     802|          2100006776|      0|0.0|0.0|0.0|0.0|0.0|0.0|0.0|2.0|2.0|0.0| 0.0| 0.0| 0.0| 0.0| 0.0| 0.0| 0.0| 0.0| 0.0| 0.0| 0.0| 0.0| 0.0| 0.0| 0.0| 0.0| 0.0| 0.0| 0.0| 0.0|      0.0|\n",
      "|     813|202131_PennantHil...|      4|0.0|0.0|0.0|0.0|0.0|0.0|0.0|1.0|0.0|0.0| 0.0| 0.0| 0.0| 1.0| 0.0| 0.0| 0.0| 0.0| 0.0| 0.0| 0.0| 0.0| 0.0| 0.0| 0.0| 0.0| 0.0| 0.0| 0.0| 0.0|      0.0|\n",
      "|     998|   227691_WestRyde_2|      3|0.0|0.0|0.0|0.0|0.0|0.0|0.0|0.0|0.0|0.0| 0.0| 0.0| 0.0| 4.0| 0.0| 0.0| 0.0| 0.0| 0.0| 0.0| 0.0| 0.0| 0.0| 0.0| 0.0| 0.0| 0.0| 0.0| 0.0| 0.0|62.113846|\n",
      "|    1215|200385_ChurchArgy...|      1|0.0|0.0|0.0|0.0|0.0|0.0|0.0|0.0|0.0|0.0| 0.0| 0.0| 0.0| 1.0| 0.0| 0.0| 0.0| 0.0| 0.0| 0.0| 0.0| 0.0| 0.0| 0.0| 0.0| 0.0| 0.0| 0.0| 0.0| 0.0|      0.0|\n",
      "|    1308|227623_Lugarno_L1...|      2|0.0|0.0|0.0|0.0|0.0|0.0|0.0|2.0|0.0|0.0| 0.0| 0.0| 0.0| 0.0| 0.0| 0.0| 0.0| 0.0| 0.0| 0.0| 0.0| 0.0| 0.0| 0.0| 0.0| 0.0| 0.0| 0.0| 0.0| 0.0|      0.0|\n",
      "|    1376|          2100007307|      0|0.0|0.0|0.0|0.0|0.0|0.0|0.0|0.0|0.0|0.0| 0.0| 0.0| 0.0| 5.0| 0.0| 0.0| 0.0| 0.0| 0.0| 0.0| 0.0| 0.0| 0.0| 0.0| 0.0| 0.0| 0.0| 0.0| 0.0| 0.0|      0.0|\n",
      "+--------+--------------------+-------+---+---+---+---+---+---+---+---+---+---+----+----+----+----+----+----+----+----+----+----+----+----+----+----+----+----+----+----+----+----+---------+\n",
      "only showing top 10 rows"
     ]
    }
   ],
   "source": [
    "node_features = subs_feature.withColumnRenamed(\n",
    "    'Subs_Id', 'node_name'\n",
    ").union(\n",
    "    cell_feature.withColumnRenamed('cell_name', 'node_name')\n",
    ").union(\n",
    "    sector_feature.withColumnRenamed('sector_name', 'node_name')\n",
    ").join(\n",
    "    node_overview.select('trace_id', 'node_name', 'node_id'),\n",
    "    on=['trace_id', 'node_name'],\n",
    "    how='inner'\n",
    ")\n",
    "\n",
    "for i in range(31):\n",
    "    node_features = node_features.withColumn(f'f_{i}', f.col('feature')[i])\n",
    "\n",
    "node_features = node_features.drop('feature')\n",
    "\n",
    "node_features.show(10)"
   ]
  },
  {
   "cell_type": "code",
   "execution_count": null,
   "id": "af7b87a9",
   "metadata": {},
   "outputs": [
    {
     "data": {
      "application/vnd.jupyter.widget-view+json": {
       "model_id": "482022dc9c774ea39f31dda5dd3354e9",
       "version_major": 2,
       "version_minor": 0
      },
      "text/plain": [
       "FloatProgress(value=0.0, bar_style='info', description='Progress:', layout=Layout(height='25px', width='50%'),…"
      ]
     },
     "metadata": {},
     "output_type": "display_data"
    }
   ],
   "source": [
    "node_features.drop('node_name').write.parquet(\n",
    "    's3://kl-prod-tpgt-knowledge-lake-sandpit/TempDir/tmp/case_study/dataset/node_features/')"
   ]
  },
  {
   "cell_type": "code",
   "execution_count": 9,
   "id": "052f0cae",
   "metadata": {},
   "outputs": [
    {
     "data": {
      "application/vnd.jupyter.widget-view+json": {
       "model_id": "",
       "version_major": 2,
       "version_minor": 0
      },
      "text/plain": [
       "FloatProgress(value=0.0, bar_style='info', description='Progress:', layout=Layout(height='25px', width='50%'),…"
      ]
     },
     "metadata": {},
     "output_type": "display_data"
    },
    {
     "name": "stdout",
     "output_type": "stream",
     "text": [
      "+--------+-------+---+---+---+---+---+---+---+---+---+---+----+----+----+----+----+----+----+----+----+----+----+----+----+----+----+----+----+----+----+----+--------+\n",
      "|trace_id|node_id|f_0|f_1|f_2|f_3|f_4|f_5|f_6|f_7|f_8|f_9|f_10|f_11|f_12|f_13|f_14|f_15|f_16|f_17|f_18|f_19|f_20|f_21|f_22|f_23|f_24|f_25|f_26|f_27|f_28|f_29|    f_30|\n",
      "+--------+-------+---+---+---+---+---+---+---+---+---+---+----+----+----+----+----+----+----+----+----+----+----+----+----+----+----+----+----+----+----+----+--------+\n",
      "|     361|     29|0.0|0.0|0.0|0.0|0.0|0.0|0.0|0.0|0.0|0.0| 1.0| 0.0| 0.0| 1.0| 0.0| 0.0| 0.0| 0.0| 0.0| 0.0| 0.0| 0.0| 0.0| 0.0| 0.0| 0.0| 0.0| 0.0| 0.0| 0.0|44.27077|\n",
      "|     418|      4|0.0|0.0|0.0|0.0|0.0|0.0|0.0|0.0|0.0|0.0| 0.0| 0.0| 0.0|10.0| 0.0| 0.0| 0.0| 0.0| 0.0| 0.0| 0.0| 0.0| 0.0| 0.0| 0.0| 0.0| 0.0| 0.0| 0.0| 0.0|41.51077|\n",
      "|     431|      2|0.0|0.0|0.0|0.0|0.0|0.0|0.0|7.0|0.0|0.0| 0.0| 0.0| 0.0| 5.0| 0.0| 0.0| 0.0| 0.0| 0.0| 0.0| 0.0| 0.0| 0.0| 0.0| 0.0| 0.0| 0.0| 0.0| 0.0| 0.0|     0.0|\n",
      "|     464|      1|0.0|0.0|0.0|0.0|0.0|0.0|0.0|0.0|0.0|0.0| 0.0| 0.0| 0.0| 3.0| 0.0| 0.0| 0.0| 0.0| 0.0| 0.0| 0.0| 0.0| 0.0| 0.0| 0.0| 0.0| 0.0| 0.0| 0.0| 0.0|     0.0|\n",
      "|     465|      1|0.0|0.0|0.0|0.0|0.0|0.0|0.0|0.0|0.0|0.0| 0.0| 0.0| 0.0| 2.0| 0.0| 0.0| 0.0| 0.0| 0.0| 0.0| 0.0| 0.0| 0.0| 0.0| 0.0| 0.0| 0.0| 0.0| 0.0| 0.0|     0.0|\n",
      "|     569|     38|0.0|0.0|0.0|0.0|0.0|0.0|0.0|2.0|0.0|0.0| 0.0| 0.0| 0.0| 3.0| 0.0| 0.0| 0.0| 0.0| 0.0| 0.0| 0.0| 0.0| 0.0| 0.0| 0.0| 0.0| 0.0| 0.0| 0.0| 0.0|    5.26|\n",
      "|     569|      6|0.0|0.0|1.0|0.0|1.0|0.0|0.0|0.0|0.0|0.0| 0.0| 0.0| 0.0| 0.0| 0.0| 3.0| 0.0| 0.0| 0.0| 0.0| 0.0| 0.0| 0.0| 0.0| 0.0| 0.0| 0.0| 0.0| 0.0| 0.0|     0.0|\n",
      "|     587|      2|0.0|0.0|0.0|0.0|0.0|0.0|0.0|0.0|0.0|0.0| 0.0| 0.0| 0.0| 5.0| 0.0| 0.0| 0.0| 0.0| 0.0| 0.0| 0.0| 0.0| 0.0| 0.0| 0.0| 0.0| 0.0| 0.0| 0.0| 0.0|26.03077|\n",
      "|     718|     38|0.0|0.0|0.0|0.0|0.0|0.0|0.0|0.0|0.0|0.0| 0.0| 0.0| 0.0| 3.0| 0.0| 0.0| 0.0| 0.0| 0.0| 0.0| 0.0| 0.0| 0.0| 0.0| 0.0| 0.0| 0.0| 0.0| 0.0| 0.0|  11.015|\n",
      "|     801|     11|0.0|0.0|0.0|0.0|0.0|0.0|0.0|2.0|0.0|0.0| 0.0| 0.0| 0.0| 0.0| 0.0| 0.0| 0.0| 0.0| 0.0| 0.0| 0.0| 0.0| 0.0| 0.0| 0.0| 0.0| 0.0| 0.0| 0.0| 0.0|     0.0|\n",
      "+--------+-------+---+---+---+---+---+---+---+---+---+---+----+----+----+----+----+----+----+----+----+----+----+----+----+----+----+----+----+----+----+----+--------+\n",
      "only showing top 10 rows"
     ]
    }
   ],
   "source": [
    "node_features = spark.read.parquet('s3://kl-prod-tpgt-knowledge-lake-sandpit/TempDir/tmp/case_study/dataset/node_features/')\n",
    "node_features.show(10)"
   ]
  },
  {
   "cell_type": "code",
   "execution_count": 7,
   "id": "a12679ce",
   "metadata": {},
   "outputs": [
    {
     "data": {
      "application/vnd.jupyter.widget-view+json": {
       "model_id": "",
       "version_major": 2,
       "version_minor": 0
      },
      "text/plain": [
       "FloatProgress(value=0.0, bar_style='info', description='Progress:', layout=Layout(height='25px', width='50%'),…"
      ]
     },
     "metadata": {},
     "output_type": "display_data"
    },
    {
     "name": "stdout",
     "output_type": "stream",
     "text": [
      "110408369"
     ]
    }
   ],
   "source": [
    "node_features.count()"
   ]
  },
  {
   "cell_type": "code",
   "execution_count": 6,
   "id": "9a3ef6ae",
   "metadata": {},
   "outputs": [
    {
     "data": {
      "application/vnd.jupyter.widget-view+json": {
       "model_id": "",
       "version_major": 2,
       "version_minor": 0
      },
      "text/plain": [
       "FloatProgress(value=0.0, bar_style='info', description='Progress:', layout=Layout(height='25px', width='50%'),…"
      ]
     },
     "metadata": {},
     "output_type": "display_data"
    },
    {
     "name": "stdout",
     "output_type": "stream",
     "text": [
      "110408369"
     ]
    }
   ],
   "source": [
    "node_overview = spark.read.parquet('s3://kl-prod-tpgt-knowledge-lake-sandpit/TempDir/tmp/case_study/dataset/node_overview/')\n",
    "node_overview.count()"
   ]
  },
  {
   "cell_type": "code",
   "execution_count": 8,
   "id": "65bb8457",
   "metadata": {},
   "outputs": [
    {
     "data": {
      "application/vnd.jupyter.widget-view+json": {
       "model_id": "",
       "version_major": 2,
       "version_minor": 0
      },
      "text/plain": [
       "FloatProgress(value=0.0, bar_style='info', description='Progress:', layout=Layout(height='25px', width='50%'),…"
      ]
     },
     "metadata": {},
     "output_type": "display_data"
    },
    {
     "name": "stdout",
     "output_type": "stream",
     "text": [
      "+--------+----------------------------+---------+-------+\n",
      "|trace_id|node_name                   |node_type|node_id|\n",
      "+--------+----------------------------+---------+-------+\n",
      "|75      |2100006363                  |0        |0      |\n",
      "|75      |201645_PaddingtonNth_L21H_3 |1        |1      |\n",
      "|75      |201645_PaddingtonNth_3      |2        |2      |\n",
      "|195     |2100006504                  |0        |0      |\n",
      "|195     |222122_LaPerouse_L18B_1     |1        |1      |\n",
      "|195     |228289_AirportTunlWst_L21C_1|1        |2      |\n",
      "|195     |227563_SaltPanCreek_L08A_1  |1        |3      |\n",
      "|195     |227544_RevesbyHeights_L08A_3|1        |4      |\n",
      "|195     |227476_MaroubraBeach_L18B_1 |1        |5      |\n",
      "|195     |202125_Padstow_L08A_3       |1        |6      |\n",
      "+--------+----------------------------+---------+-------+\n",
      "only showing top 10 rows"
     ]
    }
   ],
   "source": [
    "node_overview.show(10, False)"
   ]
  },
  {
   "cell_type": "markdown",
   "id": "948a686b",
   "metadata": {},
   "source": [
    "### Node Type"
   ]
  },
  {
   "cell_type": "code",
   "execution_count": 12,
   "id": "a8b881a9",
   "metadata": {},
   "outputs": [
    {
     "data": {
      "application/vnd.jupyter.widget-view+json": {
       "model_id": "",
       "version_major": 2,
       "version_minor": 0
      },
      "text/plain": [
       "FloatProgress(value=0.0, bar_style='info', description='Progress:', layout=Layout(height='25px', width='50%'),…"
      ]
     },
     "metadata": {},
     "output_type": "display_data"
    },
    {
     "name": "stdout",
     "output_type": "stream",
     "text": [
      "root\n",
      " |-- trace_id: integer (nullable = true)\n",
      " |-- node_name: string (nullable = true)\n",
      " |-- node_type: string (nullable = true)\n",
      " |-- node_id: integer (nullable = true)"
     ]
    }
   ],
   "source": [
    "node_overview.printSchema()"
   ]
  },
  {
   "cell_type": "code",
   "execution_count": 13,
   "id": "5b7bd1bb",
   "metadata": {},
   "outputs": [
    {
     "data": {
      "application/vnd.jupyter.widget-view+json": {
       "model_id": "",
       "version_major": 2,
       "version_minor": 0
      },
      "text/plain": [
       "FloatProgress(value=0.0, bar_style='info', description='Progress:', layout=Layout(height='25px', width='50%'),…"
      ]
     },
     "metadata": {},
     "output_type": "display_data"
    }
   ],
   "source": [
    "@f.udf(returnType=ArrayType(ArrayType(IntegerType())))\n",
    "def construct_node_types(node_list):\n",
    "    node_types = [[] for i in range(3)]\n",
    "    for ntype, nid in node_list:\n",
    "        node_types[int(ntype)].append(nid)\n",
    "    return node_types\n",
    "        "
   ]
  },
  {
   "cell_type": "code",
   "execution_count": 15,
   "id": "efa17769",
   "metadata": {},
   "outputs": [
    {
     "data": {
      "application/vnd.jupyter.widget-view+json": {
       "model_id": "",
       "version_major": 2,
       "version_minor": 0
      },
      "text/plain": [
       "FloatProgress(value=0.0, bar_style='info', description='Progress:', layout=Layout(height='25px', width='50%'),…"
      ]
     },
     "metadata": {},
     "output_type": "display_data"
    },
    {
     "name": "stdout",
     "output_type": "stream",
     "text": [
      "14965018"
     ]
    }
   ],
   "source": [
    "node_types = node_overview.groupBy('trace_id').agg(\n",
    "    construct_node_types(\n",
    "        f.collect_list(f.struct('node_type', 'node_id'))\n",
    "    ).alias('node_types')\n",
    ").orderBy('trace_id')\n",
    "node_types.count()"
   ]
  },
  {
   "cell_type": "code",
   "execution_count": 18,
   "id": "b99b984e",
   "metadata": {},
   "outputs": [
    {
     "data": {
      "application/vnd.jupyter.widget-view+json": {
       "model_id": "",
       "version_major": 2,
       "version_minor": 0
      },
      "text/plain": [
       "FloatProgress(value=0.0, bar_style='info', description='Progress:', layout=Layout(height='25px', width='50%'),…"
      ]
     },
     "metadata": {},
     "output_type": "display_data"
    },
    {
     "name": "stdout",
     "output_type": "stream",
     "text": [
      "+--------+--------------------+\n",
      "|trace_id|          node_types|\n",
      "+--------+--------------------+\n",
      "|       0|     [[0], [1], [2]]|\n",
      "|       1|     [[0], [1], [2]]|\n",
      "|       2|     [[0], [1], [2]]|\n",
      "|       3|     [[0], [1], [2]]|\n",
      "|       4|     [[0], [1], [2]]|\n",
      "|       5|     [[0], [1], [2]]|\n",
      "|       6|     [[0], [1], [2]]|\n",
      "|       7|     [[0], [1], [2]]|\n",
      "|       8|     [[0], [1], [2]]|\n",
      "|       9|     [[0], [1], [2]]|\n",
      "|      10|     [[0], [1], [2]]|\n",
      "|      11|     [[0], [1], [2]]|\n",
      "|      12|     [[0], [1], [2]]|\n",
      "|      13|     [[0], [1], [2]]|\n",
      "|      14|     [[0], [1], [2]]|\n",
      "|      15|     [[0], [1], [2]]|\n",
      "|      16|     [[0], [1], [2]]|\n",
      "|      17|     [[0], [1], [2]]|\n",
      "|      18|[[0], [1, 2], [3,...|\n",
      "|      19|     [[0], [1], [2]]|\n",
      "+--------+--------------------+\n",
      "only showing top 20 rows"
     ]
    }
   ],
   "source": [
    "node_types.show()"
   ]
  },
  {
   "cell_type": "code",
   "execution_count": 19,
   "id": "31cd6840",
   "metadata": {},
   "outputs": [
    {
     "data": {
      "application/vnd.jupyter.widget-view+json": {
       "model_id": "",
       "version_major": 2,
       "version_minor": 0
      },
      "text/plain": [
       "FloatProgress(value=0.0, bar_style='info', description='Progress:', layout=Layout(height='25px', width='50%'),…"
      ]
     },
     "metadata": {},
     "output_type": "display_data"
    }
   ],
   "source": [
    "node_types.write.parquet('s3://kl-prod-tpgt-knowledge-lake-sandpit/TempDir/tmp/case_study/dataset/node_types/')"
   ]
  },
  {
   "cell_type": "code",
   "execution_count": null,
   "id": "26bdadcc",
   "metadata": {},
   "outputs": [],
   "source": []
  },
  {
   "cell_type": "markdown",
   "id": "d89ff5bf",
   "metadata": {},
   "source": [
    "## All Data"
   ]
  },
  {
   "cell_type": "code",
   "execution_count": 6,
   "id": "43b1b295",
   "metadata": {},
   "outputs": [
    {
     "data": {
      "application/vnd.jupyter.widget-view+json": {
       "model_id": "",
       "version_major": 2,
       "version_minor": 0
      },
      "text/plain": [
       "FloatProgress(value=0.0, bar_style='info', description='Progress:', layout=Layout(height='25px', width='50%'),…"
      ]
     },
     "metadata": {},
     "output_type": "display_data"
    }
   ],
   "source": [
    "edge_index = spark.read.parquet('s3://kl-prod-tpgt-knowledge-lake-sandpit/TempDir/tmp/case_study/dataset/edge_index/')\n",
    "# node_features = spark.read.parquet('s3://kl-prod-tpgt-knowledge-lake-sandpit/TempDir/tmp/case_study/dataset/node_features/')\n",
    "node_features = spark.read.parquet('s3://kl-prod-tpgt-knowledge-lake-sandpit/TempDir/tmp/case_study/dataset/node_features_imputed/')\n",
    "node_types = spark.read.parquet('s3://kl-prod-tpgt-knowledge-lake-sandpit/TempDir/tmp/case_study/dataset/node_types/')\n",
    "trace_info = spark.read.parquet('s3://kl-prod-tpgt-knowledge-lake-sandpit/TempDir/tmp/case_study/dataset/trace_info/')"
   ]
  },
  {
   "cell_type": "code",
   "execution_count": 7,
   "id": "cc87f277",
   "metadata": {},
   "outputs": [
    {
     "data": {
      "application/vnd.jupyter.widget-view+json": {
       "model_id": "",
       "version_major": 2,
       "version_minor": 0
      },
      "text/plain": [
       "FloatProgress(value=0.0, bar_style='info', description='Progress:', layout=Layout(height='25px', width='50%'),…"
      ]
     },
     "metadata": {},
     "output_type": "display_data"
    },
    {
     "name": "stdout",
     "output_type": "stream",
     "text": [
      "109581760\n",
      "110408369\n",
      "14965018\n",
      "14965018"
     ]
    }
   ],
   "source": [
    "print(edge_index.count())\n",
    "print(node_features.count())\n",
    "print(node_types.count())\n",
    "print(trace_info.count())"
   ]
  },
  {
   "cell_type": "code",
   "execution_count": 30,
   "id": "c97baedb",
   "metadata": {},
   "outputs": [
    {
     "data": {
      "application/vnd.jupyter.widget-view+json": {
       "model_id": "",
       "version_major": 2,
       "version_minor": 0
      },
      "text/plain": [
       "FloatProgress(value=0.0, bar_style='info', description='Progress:', layout=Layout(height='25px', width='50%'),…"
      ]
     },
     "metadata": {},
     "output_type": "display_data"
    },
    {
     "name": "stdout",
     "output_type": "stream",
     "text": [
      "+--------+------+------+\n",
      "|trace_id|src_id|dst_id|\n",
      "+--------+------+------+\n",
      "|     103|     0|     2|\n",
      "|     197|     0|     2|\n",
      "|     197|     0|    21|\n",
      "|     266|     1|     5|\n",
      "|     275|     0|     1|\n",
      "|     290|     0|     2|\n",
      "|     301|     1|     3|\n",
      "|     368|     2|     5|\n",
      "|     421|     2|     6|\n",
      "|     424|     6|    13|\n",
      "+--------+------+------+\n",
      "only showing top 10 rows"
     ]
    }
   ],
   "source": [
    "edge_index.show(10)"
   ]
  },
  {
   "cell_type": "code",
   "execution_count": 29,
   "id": "e9da71d6",
   "metadata": {},
   "outputs": [
    {
     "data": {
      "application/vnd.jupyter.widget-view+json": {
       "model_id": "",
       "version_major": 2,
       "version_minor": 0
      },
      "text/plain": [
       "FloatProgress(value=0.0, bar_style='info', description='Progress:', layout=Layout(height='25px', width='50%'),…"
      ]
     },
     "metadata": {},
     "output_type": "display_data"
    },
    {
     "name": "stdout",
     "output_type": "stream",
     "text": [
      "+--------+-------------------------+----------+----------------+\n",
      "|trace_id|customer_experience_index|trace_bool|error_trace_type|\n",
      "+--------+-------------------------+----------+----------------+\n",
      "|  584395|                     90.0|         1|               1|\n",
      "|  584396|                     71.0|         1|               1|\n",
      "|  584397|                     76.0|         1|               1|\n",
      "|  584398|                     83.0|         1|               1|\n",
      "|  584399|                     86.0|         1|               1|\n",
      "|  584400|                     83.0|         1|               1|\n",
      "|  584401|                     66.0|         0|               0|\n",
      "|  584402|                     74.0|         1|               1|\n",
      "|  584403|                     69.0|         0|               0|\n",
      "|  584404|                     87.0|         1|               1|\n",
      "+--------+-------------------------+----------+----------------+\n",
      "only showing top 10 rows"
     ]
    }
   ],
   "source": [
    "trace_info.show(10)"
   ]
  },
  {
   "cell_type": "markdown",
   "id": "59664c6f",
   "metadata": {},
   "source": [
    "### Edge Ratio"
   ]
  },
  {
   "cell_type": "code",
   "execution_count": 38,
   "id": "6deda1df",
   "metadata": {},
   "outputs": [
    {
     "data": {
      "application/vnd.jupyter.widget-view+json": {
       "model_id": "",
       "version_major": 2,
       "version_minor": 0
      },
      "text/plain": [
       "FloatProgress(value=0.0, bar_style='info', description='Progress:', layout=Layout(height='25px', width='50%'),…"
      ]
     },
     "metadata": {},
     "output_type": "display_data"
    },
    {
     "name": "stdout",
     "output_type": "stream",
     "text": [
      "+--------+------+------+----------+--------+--------+\n",
      "|trace_id|dst_id|src_id|trace_bool|src_type|dst_type|\n",
      "+--------+------+------+----------+--------+--------+\n",
      "|   83102|    52|    23|         1|       1|       2|\n",
      "|   83122|     9|     6|         1|       1|       2|\n",
      "|  115121|     1|     0|         1|       0|       1|\n",
      "|  199212|     9|     0|         0|       0|       1|\n",
      "|  260194|     4|     1|         1|       1|       2|\n",
      "|  266436|     5|     2|         1|       1|       2|\n",
      "|  266818|     2|     0|         1|       0|       1|\n",
      "|  300803|     6|     1|         1|       1|       2|\n",
      "|  301302|     2|     1|         1|       1|       2|\n",
      "|  339114|     2|     1|         0|       1|       2|\n",
      "|  381257|    16|     0|         1|       0|       1|\n",
      "|  404748|    36|    13|         1|       1|       2|\n",
      "|  553083|     2|     1|         1|       1|       2|\n",
      "|  573787|     2|     0|         1|       0|       1|\n",
      "|  685247|     6|     2|         1|       1|       2|\n",
      "|  696043|     7|     4|         0|       1|       2|\n",
      "|  725064|     3|     0|         0|       0|       1|\n",
      "|  766668|     1|     0|         0|       0|       1|\n",
      "|  788177|     1|     0|         1|       0|       1|\n",
      "|  810249|    37|     7|         1|       1|       2|\n",
      "+--------+------+------+----------+--------+--------+\n",
      "only showing top 20 rows"
     ]
    }
   ],
   "source": [
    "_edge_ratio = edge_index.join(\n",
    "    trace_info.select('trace_id', 'trace_bool'),\n",
    "    on='trace_id',\n",
    "    how='inner'\n",
    ").join(\n",
    "    node_overview.select(\n",
    "        'trace_id', f.col('node_id').alias('src_id'), f.col('node_type').alias('src_type')\n",
    "    ),\n",
    "    on=['trace_id', 'src_id'],\n",
    "    how='inner'\n",
    ").join(\n",
    "    node_overview.select(\n",
    "        'trace_id', f.col('node_id').alias('dst_id'), f.col('node_type').alias('dst_type')\n",
    "    ),\n",
    "    on=['trace_id', 'dst_id'],\n",
    "    how='inner'\n",
    ")\n",
    "\n",
    "_edge_ratio.show()"
   ]
  },
  {
   "cell_type": "code",
   "execution_count": 41,
   "id": "d58093e3",
   "metadata": {},
   "outputs": [
    {
     "data": {
      "application/vnd.jupyter.widget-view+json": {
       "model_id": "",
       "version_major": 2,
       "version_minor": 0
      },
      "text/plain": [
       "FloatProgress(value=0.0, bar_style='info', description='Progress:', layout=Layout(height='25px', width='50%'),…"
      ]
     },
     "metadata": {},
     "output_type": "display_data"
    },
    {
     "name": "stdout",
     "output_type": "stream",
     "text": [
      "+----------+--------+-----+\n",
      "|trace_bool|trace_id|count|\n",
      "+----------+--------+-----+\n",
      "|         1| 6150958|   20|\n",
      "|         1| 6102269|   28|\n",
      "|         1|14282488|    2|\n",
      "|         1|10300662|   30|\n",
      "|         1|12931294|    6|\n",
      "+----------+--------+-----+\n",
      "only showing top 5 rows"
     ]
    }
   ],
   "source": [
    "_edge_ratio_all = _edge_ratio.groupBy('trace_bool', 'trace_id').count()\n",
    "_edge_ratio_all.show(5)"
   ]
  },
  {
   "cell_type": "code",
   "execution_count": 42,
   "id": "6fbe4aba",
   "metadata": {},
   "outputs": [
    {
     "data": {
      "application/vnd.jupyter.widget-view+json": {
       "model_id": "",
       "version_major": 2,
       "version_minor": 0
      },
      "text/plain": [
       "FloatProgress(value=0.0, bar_style='info', description='Progress:', layout=Layout(height='25px', width='50%'),…"
      ]
     },
     "metadata": {},
     "output_type": "display_data"
    },
    {
     "name": "stdout",
     "output_type": "stream",
     "text": [
      "+----------+--------+------------+-----+\n",
      "|trace_bool|trace_id|src_dst_type|count|\n",
      "+----------+--------+------------+-----+\n",
      "|         1|11314085|         1_2|   39|\n",
      "|         0|11073042|         1_2|    4|\n",
      "|         1|  873426|         1_2|    1|\n",
      "|         1| 2280413|         1_2|   10|\n",
      "|         0|14332479|         1_2|    3|\n",
      "+----------+--------+------------+-----+\n",
      "only showing top 5 rows"
     ]
    }
   ],
   "source": [
    "_edge_ratio_type = _edge_ratio.withColumn(\n",
    "    'src_dst_type', f.concat('src_type', f.lit('_'), 'dst_type')\n",
    ").groupBy('trace_bool', 'trace_id', 'src_dst_type').count()\n",
    "\n",
    "_edge_ratio_type.show(5)"
   ]
  },
  {
   "cell_type": "code",
   "execution_count": 49,
   "id": "c65ae9bd",
   "metadata": {},
   "outputs": [
    {
     "data": {
      "application/vnd.jupyter.widget-view+json": {
       "model_id": "",
       "version_major": 2,
       "version_minor": 0
      },
      "text/plain": [
       "FloatProgress(value=0.0, bar_style='info', description='Progress:', layout=Layout(height='25px', width='50%'),…"
      ]
     },
     "metadata": {},
     "output_type": "display_data"
    }
   ],
   "source": [
    "_edge_ratio_type.join(\n",
    "    _edge_ratio_all.withColumnRenamed('count', 'total'),\n",
    "    on=['trace_bool', 'trace_id'],\n",
    "    how='inner'\n",
    ").withColumn(\n",
    "    'percent_in_all', 1.0 * f.col('count') / f.col('total')\n",
    ").groupBy(\n",
    "    'trace_bool', 'src_dst_type'\n",
    ").agg(\n",
    "    f.percentile_approx('percent_in_all', 0.95, f.lit(1000000)).alias('percent_in_all')\n",
    ").withColumn(\n",
    "    'edge_type', f.lit(0)\n",
    ").withColumn(\n",
    "    'level_3', f.lit(0.95)\n",
    ").write.parquet('s3://kl-prod-tpgt-knowledge-lake-sandpit/TempDir/tmp/case_study/dataset/edge_ratio/')"
   ]
  },
  {
   "cell_type": "code",
   "execution_count": 50,
   "id": "675f1161",
   "metadata": {},
   "outputs": [
    {
     "data": {
      "application/vnd.jupyter.widget-view+json": {
       "model_id": "",
       "version_major": 2,
       "version_minor": 0
      },
      "text/plain": [
       "FloatProgress(value=0.0, bar_style='info', description='Progress:', layout=Layout(height='25px', width='50%'),…"
      ]
     },
     "metadata": {},
     "output_type": "display_data"
    },
    {
     "name": "stdout",
     "output_type": "stream",
     "text": [
      "+----------+------------+--------------+---------+-------+\n",
      "|trace_bool|src_dst_type|percent_in_all|edge_type|level_3|\n",
      "+----------+------------+--------------+---------+-------+\n",
      "|         0|         0_1|           0.5|        0|   0.95|\n",
      "|         0|         1_2|           0.5|        0|   0.95|\n",
      "|         1|         1_2|           0.5|        0|   0.95|\n",
      "|         1|         0_1|           0.5|        0|   0.95|\n",
      "+----------+------------+--------------+---------+-------+"
     ]
    }
   ],
   "source": [
    "edge_ratio = spark.read.parquet('s3://kl-prod-tpgt-knowledge-lake-sandpit/TempDir/tmp/case_study/dataset/edge_ratio/')\n",
    "edge_ratio.show()"
   ]
  },
  {
   "cell_type": "code",
   "execution_count": 70,
   "id": "e41e4dab",
   "metadata": {},
   "outputs": [
    {
     "data": {
      "application/vnd.jupyter.widget-view+json": {
       "model_id": "",
       "version_major": 2,
       "version_minor": 0
      },
      "text/plain": [
       "FloatProgress(value=0.0, bar_style='info', description='Progress:', layout=Layout(height='25px', width='50%'),…"
      ]
     },
     "metadata": {},
     "output_type": "display_data"
    }
   ],
   "source": [
    "edge_ratio = spark.read.parquet('s3://kl-prod-tpgt-knowledge-lake-sandpit/TempDir/tmp/case_study/dataset/edge_ratio/')\n",
    "edge_ratio.repartition(1).write.csv('s3://kl-prod-tpgt-knowledge-lake-sandpit/TempDir/tmp/case_study/dataset/csv/edge_ratio/', header=True)"
   ]
  },
  {
   "cell_type": "markdown",
   "id": "cf233f25",
   "metadata": {},
   "source": [
    "### Edge Index"
   ]
  },
  {
   "cell_type": "code",
   "execution_count": 8,
   "id": "b65f5eca",
   "metadata": {},
   "outputs": [
    {
     "data": {
      "application/vnd.jupyter.widget-view+json": {
       "model_id": "",
       "version_major": 2,
       "version_minor": 0
      },
      "text/plain": [
       "FloatProgress(value=0.0, bar_style='info', description='Progress:', layout=Layout(height='25px', width='50%'),…"
      ]
     },
     "metadata": {},
     "output_type": "display_data"
    }
   ],
   "source": [
    "edge_index.repartition(1).write.mode('overwrite').csv(\n",
    "    's3://kl-prod-tpgt-knowledge-lake-sandpit/TempDir/tmp/case_study/dataset/csv/edge_index/', header=True)"
   ]
  },
  {
   "cell_type": "markdown",
   "id": "0a4017d8",
   "metadata": {},
   "source": [
    "### node features"
   ]
  },
  {
   "cell_type": "code",
   "execution_count": 24,
   "id": "49fa335a",
   "metadata": {},
   "outputs": [
    {
     "data": {
      "application/vnd.jupyter.widget-view+json": {
       "model_id": "",
       "version_major": 2,
       "version_minor": 0
      },
      "text/plain": [
       "FloatProgress(value=0.0, bar_style='info', description='Progress:', layout=Layout(height='25px', width='50%'),…"
      ]
     },
     "metadata": {},
     "output_type": "display_data"
    },
    {
     "name": "stdout",
     "output_type": "stream",
     "text": [
      "+--------+-------+---+---+---+---+---+---+---+---+---+---+----+----+----+----+----+----+----+----+----+----+----+----+----+----+----+----+----+----+----+----+-----------------+\n",
      "|trace_id|node_id|f_0|f_1|f_2|f_3|f_4|f_5|f_6|f_7|f_8|f_9|f_10|f_11|f_12|f_13|f_14|f_15|f_16|f_17|f_18|f_19|f_20|f_21|f_22|f_23|f_24|f_25|f_26|f_27|f_28|f_29|             f_30|\n",
      "+--------+-------+---+---+---+---+---+---+---+---+---+---+----+----+----+----+----+----+----+----+----+----+----+----+----+----+----+----+----+----+----+----+-----------------+\n",
      "|   87616|      2|0.0|0.0|0.0|0.0|0.0|1.0|0.0|0.0|0.0|0.0| 0.0| 1.0| 0.0| 1.0| 0.0| 0.0| 0.0| 0.0| 0.0| 0.0| 0.0| 0.0| 0.0| 0.0| 0.0| 0.0| 0.0| 0.0| 0.0| 0.0|27.94769287109375|\n",
      "|  610777|     14|0.0|0.0|0.0|0.0|0.0|0.0|0.0|1.0|1.0|0.0| 0.0| 0.0| 0.0| 0.0| 0.0| 0.0| 0.0| 0.0| 0.0| 0.0| 0.0| 0.0| 0.0| 0.0| 0.0| 0.0| 0.0| 0.0| 0.0| 0.0|              0.0|\n",
      "|  610777|     20|0.0|0.0|0.0|0.0|0.0|0.0|0.0|3.0|0.0|0.0| 0.0| 0.0| 0.0| 0.0| 0.0| 0.0| 0.0| 0.0| 0.0| 0.0| 0.0| 0.0| 0.0| 0.0| 0.0| 0.0| 0.0| 0.0| 0.0| 0.0|              0.0|\n",
      "|  644647|      1|0.0|0.0|0.0|0.0|0.0|0.0|0.0|0.0|9.0|0.0| 0.0| 0.0| 0.0| 0.0| 0.0| 0.0| 0.0| 0.0| 0.0| 0.0| 0.0| 0.0| 0.0| 0.0| 0.0| 0.0| 0.0| 0.0| 0.0| 0.0|              0.0|\n",
      "|  808751|      6|0.0|0.0|0.0|0.0|0.0|0.0|0.0|0.0|0.0|0.0| 0.0| 0.0| 0.0| 2.0| 0.0| 0.0| 0.0| 0.0| 0.0| 0.0| 0.0| 0.0| 0.0| 0.0| 0.0| 0.0| 0.0| 0.0| 0.0| 0.0|33.77538299560547|\n",
      "+--------+-------+---+---+---+---+---+---+---+---+---+---+----+----+----+----+----+----+----+----+----+----+----+----+----+----+----+----+----+----+----+----+-----------------+\n",
      "only showing top 5 rows"
     ]
    }
   ],
   "source": [
    "node_features.show(5)"
   ]
  },
  {
   "cell_type": "code",
   "execution_count": 10,
   "id": "98b9a194",
   "metadata": {
    "scrolled": true
   },
   "outputs": [
    {
     "data": {
      "application/vnd.jupyter.widget-view+json": {
       "model_id": "",
       "version_major": 2,
       "version_minor": 0
      },
      "text/plain": [
       "FloatProgress(value=0.0, bar_style='info', description='Progress:', layout=Layout(height='25px', width='50%'),…"
      ]
     },
     "metadata": {},
     "output_type": "display_data"
    },
    {
     "name": "stdout",
     "output_type": "stream",
     "text": [
      "root\n",
      " |-- trace_id: integer (nullable = true)\n",
      " |-- node_id: integer (nullable = true)\n",
      " |-- f_0: float (nullable = true)\n",
      " |-- f_1: float (nullable = true)\n",
      " |-- f_2: float (nullable = true)\n",
      " |-- f_3: float (nullable = true)\n",
      " |-- f_4: float (nullable = true)\n",
      " |-- f_5: float (nullable = true)\n",
      " |-- f_6: float (nullable = true)\n",
      " |-- f_7: float (nullable = true)\n",
      " |-- f_8: float (nullable = true)\n",
      " |-- f_9: float (nullable = true)\n",
      " |-- f_10: float (nullable = true)\n",
      " |-- f_11: float (nullable = true)\n",
      " |-- f_12: float (nullable = true)\n",
      " |-- f_13: float (nullable = true)\n",
      " |-- f_14: float (nullable = true)\n",
      " |-- f_15: float (nullable = true)\n",
      " |-- f_16: float (nullable = true)\n",
      " |-- f_17: float (nullable = true)\n",
      " |-- f_18: float (nullable = true)\n",
      " |-- f_19: float (nullable = true)\n",
      " |-- f_20: float (nullable = true)\n",
      " |-- f_21: float (nullable = true)\n",
      " |-- f_22: float (nullable = true)\n",
      " |-- f_23: float (nullable = true)\n",
      " |-- f_24: float (nullable = true)\n",
      " |-- f_25: float (nullable = true)\n",
      " |-- f_26: float (nullable = true)\n",
      " |-- f_27: float (nullable = true)\n",
      " |-- f_28: float (nullable = true)\n",
      " |-- f_29: float (nullable = true)\n",
      " |-- f_30: double (nullable = true)"
     ]
    }
   ],
   "source": [
    "node_features.printSchema()"
   ]
  },
  {
   "cell_type": "code",
   "execution_count": 11,
   "id": "82504a2e",
   "metadata": {},
   "outputs": [
    {
     "data": {
      "application/vnd.jupyter.widget-view+json": {
       "model_id": "",
       "version_major": 2,
       "version_minor": 0
      },
      "text/plain": [
       "FloatProgress(value=0.0, bar_style='info', description='Progress:', layout=Layout(height='25px', width='50%'),…"
      ]
     },
     "metadata": {},
     "output_type": "display_data"
    }
   ],
   "source": [
    "# node_features.describe().repartition(1).write.mode('overwrite').csv('s3://kl-prod-tpgt-knowledge-lake-sandpit/TempDir/tmp/case_study/dataset/csv/summary/')\n"
   ]
  },
  {
   "cell_type": "code",
   "execution_count": null,
   "id": "69d7cadd",
   "metadata": {},
   "outputs": [],
   "source": []
  },
  {
   "cell_type": "code",
   "execution_count": 25,
   "id": "66b61de0",
   "metadata": {},
   "outputs": [
    {
     "data": {
      "application/vnd.jupyter.widget-view+json": {
       "model_id": "",
       "version_major": 2,
       "version_minor": 0
      },
      "text/plain": [
       "FloatProgress(value=0.0, bar_style='info', description='Progress:', layout=Layout(height='25px', width='50%'),…"
      ]
     },
     "metadata": {},
     "output_type": "display_data"
    }
   ],
   "source": [
    "from pyspark.ml import Pipeline\n",
    "from pyspark.ml.feature import MinMaxScaler, VectorAssembler"
   ]
  },
  {
   "cell_type": "code",
   "execution_count": 26,
   "id": "f43af80f",
   "metadata": {},
   "outputs": [
    {
     "data": {
      "application/vnd.jupyter.widget-view+json": {
       "model_id": "",
       "version_major": 2,
       "version_minor": 0
      },
      "text/plain": [
       "FloatProgress(value=0.0, bar_style='info', description='Progress:', layout=Layout(height='25px', width='50%'),…"
      ]
     },
     "metadata": {},
     "output_type": "display_data"
    }
   ],
   "source": [
    "assembler = VectorAssembler(inputCols=[f'f_{i}' for i in range(31)], outputCol='feature_vector')\n",
    "scaler = MinMaxScaler(inputCol='feature_vector', outputCol='feature_scaled', )\n",
    "\n",
    "pipeline = Pipeline(\n",
    "    stages=[assembler, scaler]\n",
    ")"
   ]
  },
  {
   "cell_type": "code",
   "execution_count": 27,
   "id": "acf4bda5",
   "metadata": {},
   "outputs": [
    {
     "data": {
      "application/vnd.jupyter.widget-view+json": {
       "model_id": "",
       "version_major": 2,
       "version_minor": 0
      },
      "text/plain": [
       "FloatProgress(value=0.0, bar_style='info', description='Progress:', layout=Layout(height='25px', width='50%'),…"
      ]
     },
     "metadata": {},
     "output_type": "display_data"
    }
   ],
   "source": [
    "scaled_features = pipeline.fit(node_features).transform(node_features).select('trace_id', 'node_id', 'feature_scaled')\n",
    "# scaled_features.show()"
   ]
  },
  {
   "cell_type": "code",
   "execution_count": 54,
   "id": "87bd9130",
   "metadata": {},
   "outputs": [
    {
     "data": {
      "application/vnd.jupyter.widget-view+json": {
       "model_id": "",
       "version_major": 2,
       "version_minor": 0
      },
      "text/plain": [
       "FloatProgress(value=0.0, bar_style='info', description='Progress:', layout=Layout(height='25px', width='50%'),…"
      ]
     },
     "metadata": {},
     "output_type": "display_data"
    }
   ],
   "source": [
    "node_feature_norm = scaled_features.withColumn(\n",
    "    'feature_list', to_dense_flat('feature_scaled')\n",
    ")\n",
    "# node_feature_norm.show()"
   ]
  },
  {
   "cell_type": "code",
   "execution_count": 55,
   "id": "a6a746e9",
   "metadata": {},
   "outputs": [
    {
     "data": {
      "application/vnd.jupyter.widget-view+json": {
       "model_id": "",
       "version_major": 2,
       "version_minor": 0
      },
      "text/plain": [
       "FloatProgress(value=0.0, bar_style='info', description='Progress:', layout=Layout(height='25px', width='50%'),…"
      ]
     },
     "metadata": {},
     "output_type": "display_data"
    }
   ],
   "source": [
    "# for col in node_features.columns:\n",
    "#     print(col)\n",
    "#     node_features.filter(f.col(col).isNull()).show()\n",
    "#     print()"
   ]
  },
  {
   "cell_type": "code",
   "execution_count": 56,
   "id": "7580844e",
   "metadata": {},
   "outputs": [
    {
     "data": {
      "application/vnd.jupyter.widget-view+json": {
       "model_id": "",
       "version_major": 2,
       "version_minor": 0
      },
      "text/plain": [
       "FloatProgress(value=0.0, bar_style='info', description='Progress:', layout=Layout(height='25px', width='50%'),…"
      ]
     },
     "metadata": {},
     "output_type": "display_data"
    },
    {
     "name": "stdout",
     "output_type": "stream",
     "text": [
      "+--------+-------+---+---+---+---+---+-----------+---+------------+------------+---+----+------------+----+------------+----+----+----+----+----+----+----+----+----+----+----+----+----+----+----+----+----------+\n",
      "|trace_id|node_id|f_0|f_1|f_2|f_3|f_4|f_5        |f_6|f_7         |f_8         |f_9|f_10|f_11        |f_12|f_13        |f_14|f_15|f_16|f_17|f_18|f_19|f_20|f_21|f_22|f_23|f_24|f_25|f_26|f_27|f_28|f_29|f_30      |\n",
      "+--------+-------+---+---+---+---+---+-----------+---+------------+------------+---+----+------------+----+------------+----+----+----+----+----+----+----+----+----+----+----+----+----+----+----+----+----------+\n",
      "|87616   |2      |0.0|0.0|0.0|0.0|0.0|0.004672897|0.0|0.0         |0.0         |0.0|0.0 |0.0070422534|0.0 |6.2189053E-4|0.0 |0.0 |0.0 |0.5 |0.5 |0.5 |0.5 |0.5 |0.0 |0.0 |0.0 |0.0 |0.0 |0.5 |0.5 |0.5 |0.28071207|\n",
      "|610777  |14     |0.0|0.0|0.0|0.0|0.0|0.0        |0.0|1.9278967E-4|3.08642E-4  |0.0|0.0 |0.0         |0.0 |0.0         |0.0 |0.0 |0.0 |0.5 |0.5 |0.5 |0.5 |0.5 |0.0 |0.0 |0.0 |0.0 |0.0 |0.5 |0.5 |0.5 |0.0       |\n",
      "|610777  |20     |0.0|0.0|0.0|0.0|0.0|0.0        |0.0|5.78369E-4  |0.0         |0.0|0.0 |0.0         |0.0 |0.0         |0.0 |0.0 |0.0 |0.5 |0.5 |0.5 |0.5 |0.5 |0.0 |0.0 |0.0 |0.0 |0.0 |0.5 |0.5 |0.5 |0.0       |\n",
      "|644647  |1      |0.0|0.0|0.0|0.0|0.0|0.0        |0.0|0.0         |0.0027777778|0.0|0.0 |0.0         |0.0 |0.0         |0.0 |0.0 |0.0 |0.5 |0.5 |0.5 |0.5 |0.5 |0.0 |0.0 |0.0 |0.0 |0.0 |0.5 |0.5 |0.5 |0.0       |\n",
      "|808751  |6      |0.0|0.0|0.0|0.0|0.0|0.0        |0.0|0.0         |0.0         |0.0|0.0 |0.0         |0.0 |0.0012437811|0.0 |0.0 |0.0 |0.5 |0.5 |0.5 |0.5 |0.5 |0.0 |0.0 |0.0 |0.0 |0.0 |0.5 |0.5 |0.5 |0.3392465 |\n",
      "|840677  |0      |0.0|0.0|0.0|0.0|0.0|0.0        |0.0|0.0026990552|3.08642E-4  |0.0|0.0 |0.0         |0.0 |0.006840796 |0.0 |0.0 |0.0 |0.5 |0.5 |0.5 |0.5 |0.5 |0.0 |0.0 |0.0 |0.0 |0.0 |0.5 |0.5 |0.5 |0.0       |\n",
      "|944709  |14     |0.0|0.0|0.0|0.0|0.0|0.0        |0.0|1.9278967E-4|0.0         |0.0|0.0 |0.0         |0.0 |0.0         |0.0 |0.0 |0.0 |0.5 |0.5 |0.5 |0.5 |0.5 |0.0 |0.0 |0.0 |0.0 |0.0 |0.5 |0.5 |0.5 |0.09809315|\n",
      "|1032972 |16     |0.0|0.0|0.0|0.0|0.0|0.0        |0.0|0.0019278966|3.08642E-4  |0.0|0.0 |0.0         |0.0 |0.0018656716|0.0 |0.0 |0.0 |0.5 |0.5 |0.5 |0.5 |0.5 |0.0 |0.0 |0.0 |0.0 |0.0 |0.5 |0.5 |0.5 |0.43514544|\n",
      "|1302885 |8      |0.0|0.0|0.0|0.0|0.0|0.0        |0.0|0.0         |3.08642E-4  |0.0|0.0 |0.0         |0.0 |0.0         |0.0 |0.0 |0.0 |0.5 |0.5 |0.5 |0.5 |0.5 |0.0 |0.0 |0.0 |0.0 |0.0 |0.5 |0.5 |0.5 |0.0       |\n",
      "|1687609 |2      |0.0|0.0|0.0|0.0|0.0|0.0        |0.0|0.0         |0.0         |0.0|0.0 |0.0         |0.0 |6.2189053E-4|0.0 |0.0 |0.0 |0.5 |0.5 |0.5 |0.5 |0.5 |0.0 |0.0 |0.0 |0.0 |0.0 |0.5 |0.5 |0.5 |0.0       |\n",
      "+--------+-------+---+---+---+---+---+-----------+---+------------+------------+---+----+------------+----+------------+----+----+----+----+----+----+----+----+----+----+----+----+----+----+----+----+----------+\n",
      "only showing top 10 rows"
     ]
    }
   ],
   "source": [
    "for i in range(31):\n",
    "    node_feature_norm = node_feature_norm.withColumn(f'f_{i}', f.col('feature_list')[i])\n",
    "node_feature_norm = node_feature_norm.drop('feature_scaled', 'feature_list')\n",
    "node_feature_norm.show(10, False)"
   ]
  },
  {
   "cell_type": "code",
   "execution_count": 180,
   "id": "c4e3b6dc",
   "metadata": {},
   "outputs": [
    {
     "data": {
      "application/vnd.jupyter.widget-view+json": {
       "model_id": "",
       "version_major": 2,
       "version_minor": 0
      },
      "text/plain": [
       "FloatProgress(value=0.0, bar_style='info', description='Progress:', layout=Layout(height='25px', width='50%'),…"
      ]
     },
     "metadata": {},
     "output_type": "display_data"
    },
    {
     "name": "stdout",
     "output_type": "stream",
     "text": [
      "+--------+-------+---+---+---+---+---+---+---+---+---+---+----+----+----+----+----+----+----+----+----+----+----+----+----+----+----+----+----+----+----+----+-----------------+\n",
      "|trace_id|node_id|f_0|f_1|f_2|f_3|f_4|f_5|f_6|f_7|f_8|f_9|f_10|f_11|f_12|f_13|f_14|f_15|f_16|f_17|f_18|f_19|f_20|f_21|f_22|f_23|f_24|f_25|f_26|f_27|f_28|f_29|             f_30|\n",
      "+--------+-------+---+---+---+---+---+---+---+---+---+---+----+----+----+----+----+----+----+----+----+----+----+----+----+----+----+----+----+----+----+----+-----------------+\n",
      "|   87616|      2|0.0|0.0|0.0|0.0|0.0|1.0|0.0|0.0|0.0|0.0| 0.0| 1.0| 0.0| 1.0| 0.0| 0.0| 0.0| 0.0| 0.0| 0.0| 0.0| 0.0| 0.0| 0.0| 0.0| 0.0| 0.0| 0.0| 0.0| 0.0|27.94769287109375|\n",
      "|   87616|      0|0.0|0.0|0.0|0.0|0.0|1.0|0.0|0.0|0.0|0.0| 0.0| 1.0| 0.0| 1.0| 0.0| 0.0| 0.0| 0.0| 0.0| 0.0| 0.0| 0.0| 0.0| 0.0| 0.0| 0.0| 0.0| 0.0| 0.0| 0.0|              0.0|\n",
      "|   87616|      1|0.0|0.0|0.0|0.0|0.0|1.0|0.0|0.0|0.0|0.0| 0.0| 1.0| 0.0| 1.0| 0.0| 0.0| 0.0| 0.0| 0.0| 0.0| 0.0| 0.0| 0.0| 0.0| 0.0| 0.0| 0.0| 0.0| 0.0| 0.0|              0.0|\n",
      "+--------+-------+---+---+---+---+---+---+---+---+---+---+----+----+----+----+----+----+----+----+----+----+----+----+----+----+----+----+----+----+----+----+-----------------+"
     ]
    }
   ],
   "source": [
    "node_features.filter('trace_id = 87616').show()"
   ]
  },
  {
   "cell_type": "code",
   "execution_count": 181,
   "id": "d4d55229",
   "metadata": {},
   "outputs": [
    {
     "data": {
      "application/vnd.jupyter.widget-view+json": {
       "model_id": "",
       "version_major": 2,
       "version_minor": 0
      },
      "text/plain": [
       "FloatProgress(value=0.0, bar_style='info', description='Progress:', layout=Layout(height='25px', width='50%'),…"
      ]
     },
     "metadata": {},
     "output_type": "display_data"
    },
    {
     "name": "stdout",
     "output_type": "stream",
     "text": [
      "+--------+-------+---+---+---+---+---+-----------+---+---+---+---+----+------------+----+------------+----+----+----+----+----+----+----+----+----+----+----+----+----+----+----+----+----------+\n",
      "|trace_id|node_id|f_0|f_1|f_2|f_3|f_4|        f_5|f_6|f_7|f_8|f_9|f_10|        f_11|f_12|        f_13|f_14|f_15|f_16|f_17|f_18|f_19|f_20|f_21|f_22|f_23|f_24|f_25|f_26|f_27|f_28|f_29|      f_30|\n",
      "+--------+-------+---+---+---+---+---+-----------+---+---+---+---+----+------------+----+------------+----+----+----+----+----+----+----+----+----+----+----+----+----+----+----+----+----------+\n",
      "|   87616|      2|0.0|0.0|0.0|0.0|0.0|0.004672897|0.0|0.0|0.0|0.0| 0.0|0.0070422534| 0.0|6.2189053E-4| 0.0| 0.0| 0.0| 0.5| 0.5| 0.5| 0.5| 0.5| 0.0| 0.0| 0.0| 0.0| 0.0| 0.5| 0.5| 0.5|0.28071207|\n",
      "|   87616|      0|0.0|0.0|0.0|0.0|0.0|0.004672897|0.0|0.0|0.0|0.0| 0.0|0.0070422534| 0.0|6.2189053E-4| 0.0| 0.0| 0.0| 0.5| 0.5| 0.5| 0.5| 0.5| 0.0| 0.0| 0.0| 0.0| 0.0| 0.5| 0.5| 0.5|       0.0|\n",
      "|   87616|      1|0.0|0.0|0.0|0.0|0.0|0.004672897|0.0|0.0|0.0|0.0| 0.0|0.0070422534| 0.0|6.2189053E-4| 0.0| 0.0| 0.0| 0.5| 0.5| 0.5| 0.5| 0.5| 0.0| 0.0| 0.0| 0.0| 0.0| 0.5| 0.5| 0.5|       0.0|\n",
      "+--------+-------+---+---+---+---+---+-----------+---+---+---+---+----+------------+----+------------+----+----+----+----+----+----+----+----+----+----+----+----+----+----+----+----+----------+"
     ]
    }
   ],
   "source": [
    "node_feature_norm.filter('trace_id = 87616').show()"
   ]
  },
  {
   "cell_type": "code",
   "execution_count": 21,
   "id": "19514504",
   "metadata": {},
   "outputs": [
    {
     "data": {
      "application/vnd.jupyter.widget-view+json": {
       "model_id": "",
       "version_major": 2,
       "version_minor": 0
      },
      "text/plain": [
       "FloatProgress(value=0.0, bar_style='info', description='Progress:', layout=Layout(height='25px', width='50%'),…"
      ]
     },
     "metadata": {},
     "output_type": "display_data"
    }
   ],
   "source": [
    "node_feature_norm.write.mode('overwrite').parquet(\n",
    "    's3://kl-prod-tpgt-knowledge-lake-sandpit/TempDir/tmp/case_study/dataset/node_feature_norm/')\n"
   ]
  },
  {
   "cell_type": "code",
   "execution_count": null,
   "id": "82e0532e",
   "metadata": {},
   "outputs": [],
   "source": []
  },
  {
   "cell_type": "code",
   "execution_count": 57,
   "id": "ce5e427d",
   "metadata": {},
   "outputs": [
    {
     "data": {
      "application/vnd.jupyter.widget-view+json": {
       "model_id": "",
       "version_major": 2,
       "version_minor": 0
      },
      "text/plain": [
       "FloatProgress(value=0.0, bar_style='info', description='Progress:', layout=Layout(height='25px', width='50%'),…"
      ]
     },
     "metadata": {},
     "output_type": "display_data"
    }
   ],
   "source": [
    "node_feature_norm = spark.read.parquet('s3://kl-prod-tpgt-knowledge-lake-sandpit/TempDir/tmp/case_study/dataset/node_feature_norm/')\n"
   ]
  },
  {
   "cell_type": "code",
   "execution_count": 58,
   "id": "edf62f4f",
   "metadata": {
    "scrolled": true
   },
   "outputs": [
    {
     "data": {
      "application/vnd.jupyter.widget-view+json": {
       "model_id": "",
       "version_major": 2,
       "version_minor": 0
      },
      "text/plain": [
       "FloatProgress(value=0.0, bar_style='info', description='Progress:', layout=Layout(height='25px', width='50%'),…"
      ]
     },
     "metadata": {},
     "output_type": "display_data"
    },
    {
     "name": "stdout",
     "output_type": "stream",
     "text": [
      "+--------+-------+---+---+---+---+---+---+---+------------+----------+------------+------------+----+----+------------+----+----+-----------+----+----+----+----+----+----+----+----+----+----+----+----+----+----------+\n",
      "|trace_id|node_id|f_0|f_1|f_2|f_3|f_4|f_5|f_6|         f_7|       f_8|         f_9|        f_10|f_11|f_12|        f_13|f_14|f_15|       f_16|f_17|f_18|f_19|f_20|f_21|f_22|f_23|f_24|f_25|f_26|f_27|f_28|f_29|      f_30|\n",
      "+--------+-------+---+---+---+---+---+---+---+------------+----------+------------+------------+----+----+------------+----+----+-----------+----+----+----+----+----+----+----+----+----+----+----+----+----+----------+\n",
      "|   28682|      1|0.0|0.0|0.0|0.0|0.0|0.0|0.0|         0.0|       0.0|         0.0|         0.0| 0.0| 0.0|0.0074626864| 0.0| 0.0|        0.0| 0.5| 0.5| 0.5| 0.5| 0.5| 0.0| 0.0| 0.0| 0.0| 0.0| 0.5| 0.5| 0.5|       0.0|\n",
      "|  146451|      0|0.0|0.0|0.0|0.0|0.0|0.0|0.0|0.0042413725|       0.0|         0.0|         0.0| 0.0| 0.0|0.0031094528| 0.0| 0.0|        0.0| 0.5| 0.5| 0.5| 0.5| 0.5| 0.0| 0.0| 0.0| 0.0| 0.0| 0.5| 0.5| 0.5|       0.0|\n",
      "|  170527|     44|0.0|0.0|0.0|0.0|0.0|0.0|0.0|1.9278967E-4|       0.0|         0.0|         0.0| 0.0| 0.0|         0.0| 0.0| 0.0|        0.0| 0.5| 0.5| 0.5| 0.5| 0.5| 0.0| 0.0| 0.0| 0.0| 0.0| 0.5| 0.5| 0.5| 0.7183917|\n",
      "|  419009|      4|0.0|0.0|0.0|0.0|0.0|0.0|0.0|3.8557933E-4|       0.0|         0.0|         0.0| 0.0| 0.0|         0.0| 0.0| 0.0|        0.0| 0.5| 0.5| 0.5| 0.5| 0.5| 0.0| 0.0| 0.0| 0.0| 0.0| 0.5| 0.5| 0.5|       0.0|\n",
      "|  540432|     12|0.0|0.0|0.0|0.0|0.0|0.0|0.0|1.9278967E-4|       0.0|         0.0|         0.0| 0.0| 0.0|         0.0| 0.0| 0.0|        0.0| 0.5| 0.5| 0.5| 0.5| 0.5| 0.0| 0.0| 0.0| 0.0| 0.0| 0.5| 0.5| 0.5|0.12915008|\n",
      "|  599929|      0|0.0|0.0|0.0|0.0|0.0|0.0|0.0|  5.78369E-4|       0.0|0.0121951215|0.0121951215| 0.0| 0.0| 0.016791046| 0.0| 0.0|0.011494253| 0.5| 0.5| 0.5| 0.5| 0.5| 0.0| 0.0| 0.0| 0.0| 0.0| 0.5| 0.5| 0.5|       0.0|\n",
      "|  605710|      1|0.0|0.0|0.0|0.0|0.0|0.0|0.0|         0.0|       0.0|         0.0|         0.0| 0.0| 0.0|0.0024875621| 0.0| 0.0|        0.0| 0.5| 0.5| 0.5| 0.5| 0.5| 0.0| 0.0| 0.0| 0.0| 0.0| 0.5| 0.5| 0.5|       0.0|\n",
      "|  647574|      0|0.0|0.0|0.0|0.0|0.0|0.0|0.0|3.8557933E-4|       0.0|         0.0|         0.0| 0.0| 0.0|0.0024875621| 0.0| 0.0|        0.0| 0.5| 0.5| 0.5| 0.5| 0.5| 0.0| 0.0| 0.0| 0.0| 0.0| 0.5| 0.5| 0.5|       0.0|\n",
      "|  835452|      4|0.0|0.0|0.0|0.0|0.0|0.0|0.0|         0.0|       0.0|         0.0|         0.0| 0.0| 0.0|0.0037313432| 0.0| 0.0|        0.0| 0.5| 0.5| 0.5| 0.5| 0.5| 0.0| 0.0| 0.0| 0.0| 0.0| 0.5| 0.5| 0.5|0.54986554|\n",
      "|  854243|      4|0.0|0.0|0.0|0.0|0.0|0.0|0.0|         0.0|       0.0|         0.0|         0.0| 0.0| 0.0|0.0012437811| 0.0| 0.0|        0.0| 0.5| 0.5| 0.5| 0.5| 0.5| 0.0| 0.0| 0.0| 0.0| 0.0| 0.5| 0.5| 0.5|0.21483096|\n",
      "|  885564|      4|0.0|0.0|0.0|0.0|0.0|0.0|0.0|         0.0|       0.0|         0.0|         0.0| 0.0| 0.0|0.0012437811| 0.0| 0.0|        0.0| 0.5| 0.5| 0.5| 0.5| 0.5| 0.0| 0.0| 0.0| 0.0| 0.0| 0.5| 0.5| 0.5|       0.0|\n",
      "| 1036780|      1|0.0|0.0|0.0|0.0|0.0|0.0|0.0|         0.0|       0.0|         0.0|         0.0| 0.0| 0.0|0.0012437811| 0.0| 0.0|        0.0| 0.5| 0.5| 0.5| 0.5| 0.5| 0.0| 0.0| 0.0| 0.0| 0.0| 0.5| 0.5| 0.5|       0.0|\n",
      "| 1087220|      2|0.0|0.0|0.0|0.0|0.0|0.0|0.0|         0.0|       0.0|         0.0|         0.0| 0.0| 0.0|0.0043532336| 0.0| 0.0|        0.0| 0.5| 0.5| 0.5| 0.5| 0.5| 0.0| 0.0| 0.0| 0.0| 0.0| 0.5| 0.5| 0.5|0.44968772|\n",
      "| 1133533|      3|0.0|0.0|0.0|0.0|0.0|0.0|0.0|3.8557933E-4|       0.0|         0.0|         0.0| 0.0| 0.0|6.2189053E-4| 0.0| 0.0|        0.0| 0.5| 0.5| 0.5| 0.5| 0.5| 0.0| 0.0| 0.0| 0.0| 0.0| 0.5| 0.5| 0.5|       0.0|\n",
      "| 1169107|     13|0.0|0.0|0.0|0.0|0.0|0.0|0.0|1.9278967E-4|       0.0|         0.0|         0.0| 0.0| 0.0|         0.0| 0.0| 0.0|        0.0| 0.5| 0.5| 0.5| 0.5| 0.5| 0.0| 0.0| 0.0| 0.0| 0.0| 0.5| 0.5| 0.5|0.43597987|\n",
      "| 1178968|      5|0.0|0.0|0.0|0.0|0.0|0.0|0.0|         0.0|3.08642E-4|         0.0|         0.0| 0.0| 0.0|         0.0| 0.0| 0.0|        0.0| 0.5| 0.5| 0.5| 0.5| 0.5| 0.0| 0.0| 0.0| 0.0| 0.0| 0.5| 0.5| 0.5|       0.0|\n",
      "| 1213353|      8|0.0|0.0|0.0|0.0|0.0|0.0|0.0|1.9278967E-4|       0.0|         0.0|         0.0| 0.0| 0.0|6.2189053E-4| 0.0| 0.0|        0.0| 0.5| 0.5| 0.5| 0.5| 0.5| 0.0| 0.0| 0.0| 0.0| 0.0| 0.5| 0.5| 0.5|       0.0|\n",
      "| 1319600|      0|0.0|0.0|0.0|0.0|0.0|0.0|0.0|         0.0|       0.0|         0.0|         0.0| 0.0| 0.0|0.0037313432| 0.0| 0.0|        0.0| 0.5| 0.5| 0.5| 0.5| 0.5| 0.0| 0.0| 0.0| 0.0| 0.0| 0.5| 0.5| 0.5|       0.0|\n",
      "| 1335662|      5|0.0|0.0|0.0|0.0|0.0|0.0|0.0|         0.0|       0.0|         0.0|         0.0| 0.0| 0.0|6.2189053E-4| 0.0| 0.0|        0.0| 0.5| 0.5| 0.5| 0.5| 0.5| 0.0| 0.0| 0.0| 0.0| 0.0| 0.5| 0.5| 0.5|       0.0|\n",
      "| 1611454|     30|0.0|0.0|0.0|0.0|0.0|0.0|0.0|         0.0|       0.0|         0.0|         0.0| 0.0| 0.0|6.2189053E-4| 0.0| 0.0|        0.0| 0.5| 0.5| 0.5| 0.5| 0.5| 0.0| 0.0| 0.0| 0.0| 0.0| 0.5| 0.5| 0.5|0.43125135|\n",
      "+--------+-------+---+---+---+---+---+---+---+------------+----------+------------+------------+----+----+------------+----+----+-----------+----+----+----+----+----+----+----+----+----+----+----+----+----+----------+\n",
      "only showing top 20 rows\n",
      "\n",
      "110408369"
     ]
    }
   ],
   "source": [
    "node_feature_norm.show()\n",
    "node_feature_norm.count()"
   ]
  },
  {
   "cell_type": "code",
   "execution_count": 59,
   "id": "598a8fcc",
   "metadata": {},
   "outputs": [
    {
     "data": {
      "application/vnd.jupyter.widget-view+json": {
       "model_id": "",
       "version_major": 2,
       "version_minor": 0
      },
      "text/plain": [
       "FloatProgress(value=0.0, bar_style='info', description='Progress:', layout=Layout(height='25px', width='50%'),…"
      ]
     },
     "metadata": {},
     "output_type": "display_data"
    }
   ],
   "source": [
    "_cols = node_feature_norm.columns\n"
   ]
  },
  {
   "cell_type": "code",
   "execution_count": 60,
   "id": "189ecce9",
   "metadata": {},
   "outputs": [
    {
     "data": {
      "application/vnd.jupyter.widget-view+json": {
       "model_id": "",
       "version_major": 2,
       "version_minor": 0
      },
      "text/plain": [
       "FloatProgress(value=0.0, bar_style='info', description='Progress:', layout=Layout(height='25px', width='50%'),…"
      ]
     },
     "metadata": {},
     "output_type": "display_data"
    },
    {
     "name": "stdout",
     "output_type": "stream",
     "text": [
      "33"
     ]
    }
   ],
   "source": [
    "len(_cols)"
   ]
  },
  {
   "cell_type": "code",
   "execution_count": 61,
   "id": "25916fc1",
   "metadata": {},
   "outputs": [
    {
     "data": {
      "application/vnd.jupyter.widget-view+json": {
       "model_id": "",
       "version_major": 2,
       "version_minor": 0
      },
      "text/plain": [
       "FloatProgress(value=0.0, bar_style='info', description='Progress:', layout=Layout(height='25px', width='50%'),…"
      ]
     },
     "metadata": {},
     "output_type": "display_data"
    }
   ],
   "source": [
    "node_feature_norm.repartition(1).write.mode('overwrite').csv('s3://kl-prod-tpgt-knowledge-lake-sandpit/TempDir/tmp/case_study/dataset/csv/node_feature_norm/', header=True)"
   ]
  },
  {
   "cell_type": "markdown",
   "id": "8beb82bf",
   "metadata": {},
   "source": [
    "### Node Type"
   ]
  },
  {
   "cell_type": "code",
   "execution_count": 69,
   "id": "75375b50",
   "metadata": {},
   "outputs": [
    {
     "data": {
      "application/vnd.jupyter.widget-view+json": {
       "model_id": "",
       "version_major": 2,
       "version_minor": 0
      },
      "text/plain": [
       "FloatProgress(value=0.0, bar_style='info', description='Progress:', layout=Layout(height='25px', width='50%'),…"
      ]
     },
     "metadata": {},
     "output_type": "display_data"
    }
   ],
   "source": [
    "node_types.orderBy('trace_id').select(f.col('node_types').cast('string')).repartition(1).write.mode('overwrite').csv(\n",
    "    's3://kl-prod-tpgt-knowledge-lake-sandpit/TempDir/tmp/case_study/dataset/csv/node_types/', header=False)"
   ]
  },
  {
   "cell_type": "code",
   "execution_count": 67,
   "id": "00fe44e7",
   "metadata": {},
   "outputs": [
    {
     "data": {
      "application/vnd.jupyter.widget-view+json": {
       "model_id": "",
       "version_major": 2,
       "version_minor": 0
      },
      "text/plain": [
       "FloatProgress(value=0.0, bar_style='info', description='Progress:', layout=Layout(height='25px', width='50%'),…"
      ]
     },
     "metadata": {},
     "output_type": "display_data"
    },
    {
     "name": "stdout",
     "output_type": "stream",
     "text": [
      "+--------------------+\n",
      "|                 _c0|\n",
      "+--------------------+\n",
      "|          node_types|\n",
      "|     [[0], [1], [2]]|\n",
      "|     [[0], [1], [2]]|\n",
      "|     [[0], [1], [2]]|\n",
      "|     [[0], [1], [2]]|\n",
      "|     [[0], [1], [2]]|\n",
      "|     [[0], [1], [2]]|\n",
      "|[[0], [1, 2, 3, 4...|\n",
      "|  [[0], [1, 2], [3]]|\n",
      "|  [[0], [1, 2], [3]]|\n",
      "|[[0], [1, 2, 3, 4...|\n",
      "|[[0], [1, 2, 3, 4...|\n",
      "|[[0], [1, 2, 3, 4...|\n",
      "|[[0], [1, 2, 3], ...|\n",
      "|[[0], [1, 2, 3, 4...|\n",
      "|     [[0], [1], [2]]|\n",
      "|[[0], [1, 2, 3, 4...|\n",
      "|[[0], [1, 2, 3, 4...|\n",
      "|[[0], [1, 2, 3], ...|\n",
      "|[[0], [1, 2, 3], ...|\n",
      "+--------------------+\n",
      "only showing top 20 rows"
     ]
    }
   ],
   "source": [
    "spark.read.csv('s3://kl-prod-tpgt-knowledge-lake-sandpit/TempDir/tmp/case_study/dataset/csv/node_types/').show()"
   ]
  },
  {
   "cell_type": "markdown",
   "id": "aafe21e1",
   "metadata": {},
   "source": [
    "### Trace Info"
   ]
  },
  {
   "cell_type": "code",
   "execution_count": 72,
   "id": "fda4edae",
   "metadata": {},
   "outputs": [
    {
     "data": {
      "application/vnd.jupyter.widget-view+json": {
       "model_id": "",
       "version_major": 2,
       "version_minor": 0
      },
      "text/plain": [
       "FloatProgress(value=0.0, bar_style='info', description='Progress:', layout=Layout(height='25px', width='50%'),…"
      ]
     },
     "metadata": {},
     "output_type": "display_data"
    }
   ],
   "source": [
    "trace_info.repartition(1).write.csv(\n",
    "    's3://kl-prod-tpgt-knowledge-lake-sandpit/TempDir/tmp/case_study/dataset/csv/trace_info/', header=True)"
   ]
  },
  {
   "cell_type": "code",
   "execution_count": null,
   "id": "72b5db7e",
   "metadata": {},
   "outputs": [],
   "source": []
  },
  {
   "cell_type": "code",
   "execution_count": null,
   "id": "d372ab3c",
   "metadata": {},
   "outputs": [],
   "source": []
  },
  {
   "cell_type": "code",
   "execution_count": null,
   "id": "c7f45718",
   "metadata": {},
   "outputs": [],
   "source": []
  },
  {
   "cell_type": "code",
   "execution_count": null,
   "id": "23a0bc00",
   "metadata": {},
   "outputs": [],
   "source": []
  },
  {
   "cell_type": "code",
   "execution_count": null,
   "id": "ac65352a",
   "metadata": {},
   "outputs": [],
   "source": []
  },
  {
   "cell_type": "code",
   "execution_count": null,
   "id": "fc239205",
   "metadata": {},
   "outputs": [],
   "source": []
  },
  {
   "cell_type": "code",
   "execution_count": null,
   "id": "bb590209",
   "metadata": {},
   "outputs": [],
   "source": []
  },
  {
   "cell_type": "markdown",
   "id": "7c401622",
   "metadata": {},
   "source": [
    "### Impute missing utilisation"
   ]
  },
  {
   "cell_type": "code",
   "execution_count": 145,
   "id": "27029b86",
   "metadata": {},
   "outputs": [
    {
     "data": {
      "application/vnd.jupyter.widget-view+json": {
       "model_id": "",
       "version_major": 2,
       "version_minor": 0
      },
      "text/plain": [
       "FloatProgress(value=0.0, bar_style='info', description='Progress:', layout=Layout(height='25px', width='50%'),…"
      ]
     },
     "metadata": {},
     "output_type": "display_data"
    },
    {
     "name": "stdout",
     "output_type": "stream",
     "text": [
      "14965018"
     ]
    }
   ],
   "source": [
    "valid_traces = node_features.filter(f.col('f_30').isNotNull()).select('trace_id').dropDuplicates()\n",
    "valid_traces = valid_traces.withColumn('index', f.row_number().over(Window.orderBy('trace_id')) - 1)\n",
    "valid_traces.count()"
   ]
  },
  {
   "cell_type": "code",
   "execution_count": 119,
   "id": "9fe13fc0",
   "metadata": {},
   "outputs": [
    {
     "data": {
      "application/vnd.jupyter.widget-view+json": {
       "model_id": "",
       "version_major": 2,
       "version_minor": 0
      },
      "text/plain": [
       "FloatProgress(value=0.0, bar_style='info', description='Progress:', layout=Layout(height='25px', width='50%'),…"
      ]
     },
     "metadata": {},
     "output_type": "display_data"
    },
    {
     "name": "stdout",
     "output_type": "stream",
     "text": [
      "+-------------+----------+\n",
      "|max(trace_id)|max(index)|\n",
      "+-------------+----------+\n",
      "|     14965017|  14965017|\n",
      "+-------------+----------+"
     ]
    }
   ],
   "source": [
    "valid_traces.select(f.max('trace_id'), f.max('index')).show()"
   ]
  },
  {
   "cell_type": "code",
   "execution_count": 115,
   "id": "e29d7196",
   "metadata": {},
   "outputs": [
    {
     "data": {
      "application/vnd.jupyter.widget-view+json": {
       "model_id": "",
       "version_major": 2,
       "version_minor": 0
      },
      "text/plain": [
       "FloatProgress(value=0.0, bar_style='info', description='Progress:', layout=Layout(height='25px', width='50%'),…"
      ]
     },
     "metadata": {},
     "output_type": "display_data"
    },
    {
     "name": "stdout",
     "output_type": "stream",
     "text": [
      "14965018"
     ]
    }
   ],
   "source": [
    "# trace_info\n",
    "trace_info.join(\n",
    "    valid_traces,\n",
    "    on='trace_id'\n",
    ").count()"
   ]
  },
  {
   "cell_type": "code",
   "execution_count": 120,
   "id": "b9fb0df8",
   "metadata": {},
   "outputs": [
    {
     "data": {
      "application/vnd.jupyter.widget-view+json": {
       "model_id": "",
       "version_major": 2,
       "version_minor": 0
      },
      "text/plain": [
       "FloatProgress(value=0.0, bar_style='info', description='Progress:', layout=Layout(height='25px', width='50%'),…"
      ]
     },
     "metadata": {},
     "output_type": "display_data"
    },
    {
     "name": "stdout",
     "output_type": "stream",
     "text": [
      "+-------------+\n",
      "|max(trace_id)|\n",
      "+-------------+\n",
      "|     14965017|\n",
      "+-------------+"
     ]
    }
   ],
   "source": [
    "node_features.select(f.max('trace_id')).show()"
   ]
  },
  {
   "cell_type": "code",
   "execution_count": 146,
   "id": "1b0134e4",
   "metadata": {},
   "outputs": [
    {
     "data": {
      "application/vnd.jupyter.widget-view+json": {
       "model_id": "",
       "version_major": 2,
       "version_minor": 0
      },
      "text/plain": [
       "FloatProgress(value=0.0, bar_style='info', description='Progress:', layout=Layout(height='25px', width='50%'),…"
      ]
     },
     "metadata": {},
     "output_type": "display_data"
    },
    {
     "name": "stdout",
     "output_type": "stream",
     "text": [
      "+--------+\n",
      "|trace_id|\n",
      "+--------+\n",
      "|  791653|\n",
      "| 1422105|\n",
      "| 2022641|\n",
      "| 3368644|\n",
      "| 3379162|\n",
      "| 4264541|\n",
      "| 4668436|\n",
      "| 4847498|\n",
      "| 5145178|\n",
      "| 5279908|\n",
      "| 5514397|\n",
      "| 6797104|\n",
      "| 7258190|\n",
      "| 7459787|\n",
      "|10363567|\n",
      "|10377699|\n",
      "|10471067|\n",
      "|11310819|\n",
      "|11543406|\n",
      "|12386273|\n",
      "+--------+\n",
      "only showing top 20 rows"
     ]
    }
   ],
   "source": [
    "all_null_trace_id = node_features.filter(f.col('f_30').isNull()).select('trace_id')\n",
    "all_null_trace_id.show()"
   ]
  },
  {
   "cell_type": "code",
   "execution_count": 138,
   "id": "c1238e6a",
   "metadata": {},
   "outputs": [
    {
     "name": "stderr",
     "output_type": "stream",
     "text": [
      "An error was encountered:\n",
      "Session 0 did not reach idle status in time. Current status is busy.\n"
     ]
    }
   ],
   "source": [
    "# null_trace_id_mean = None\n",
    "# for t in all_null_trace_id:\n",
    "#     if null_trace_id_mean is None:\n",
    "#         null_trace_id_mean = node_features.filter(f.col('trace_id') == t).groupBy('trace_id').agg(f.mean('f_30').alias('mean_util'))\n",
    "#     else:\n",
    "#         null_trace_id_mean.union(node_features.filter(f.col('trace_id') == t).groupBy('trace_id').agg(f.mean('f_30').alias('mean_util')))\n",
    "\n",
    "# null_trace_id_mean.show()"
   ]
  },
  {
   "cell_type": "code",
   "execution_count": 150,
   "id": "f282d96b",
   "metadata": {},
   "outputs": [
    {
     "data": {
      "application/vnd.jupyter.widget-view+json": {
       "model_id": "",
       "version_major": 2,
       "version_minor": 0
      },
      "text/plain": [
       "FloatProgress(value=0.0, bar_style='info', description='Progress:', layout=Layout(height='25px', width='50%'),…"
      ]
     },
     "metadata": {},
     "output_type": "display_data"
    },
    {
     "name": "stdout",
     "output_type": "stream",
     "text": [
      "+--------+------------------+\n",
      "|trace_id|         mean_util|\n",
      "+--------+------------------+\n",
      "| 2173297|15.716219820295061|\n",
      "|13312270|17.215518246526305|\n",
      "| 1428873|23.797460465204146|\n",
      "| 9474347| 23.06367235183716|\n",
      "| 4594806|10.566285542079381|\n",
      "+--------+------------------+\n",
      "only showing top 5 rows"
     ]
    }
   ],
   "source": [
    "null_trace_id_mean = node_features.join(\n",
    "    all_null_trace_id,\n",
    "    on='trace_id'\n",
    ").groupBy('trace_id').agg(f.mean('f_30').alias('mean_util'))\n",
    "\n",
    "null_trace_id_mean.show(5)"
   ]
  },
  {
   "cell_type": "code",
   "execution_count": 156,
   "id": "04ee4871",
   "metadata": {},
   "outputs": [
    {
     "data": {
      "application/vnd.jupyter.widget-view+json": {
       "model_id": "",
       "version_major": 2,
       "version_minor": 0
      },
      "text/plain": [
       "FloatProgress(value=0.0, bar_style='info', description='Progress:', layout=Layout(height='25px', width='50%'),…"
      ]
     },
     "metadata": {},
     "output_type": "display_data"
    }
   ],
   "source": [
    "node_features.join(\n",
    "    null_trace_id_mean,\n",
    "    on='trace_id',\n",
    "    how='left'\n",
    ").withColumn('f_30', f.coalesce('f_30', 'mean_util')).drop('mean_util').write.mode('overwrite').parquet('s3://kl-prod-tpgt-knowledge-lake-sandpit/TempDir/tmp/case_study/dataset/node_features_imputed/')"
   ]
  },
  {
   "cell_type": "code",
   "execution_count": 158,
   "id": "238002a3",
   "metadata": {},
   "outputs": [
    {
     "data": {
      "application/vnd.jupyter.widget-view+json": {
       "model_id": "",
       "version_major": 2,
       "version_minor": 0
      },
      "text/plain": [
       "FloatProgress(value=0.0, bar_style='info', description='Progress:', layout=Layout(height='25px', width='50%'),…"
      ]
     },
     "metadata": {},
     "output_type": "display_data"
    },
    {
     "name": "stdout",
     "output_type": "stream",
     "text": [
      "+--------+-------+---+---+---+---+---+---+---+---+---+---+----+----+----+----+----+----+----+----+----+----+----+----+----+----+----+----+----+----+----+----+--------+\n",
      "|trace_id|node_id|f_0|f_1|f_2|f_3|f_4|f_5|f_6|f_7|f_8|f_9|f_10|f_11|f_12|f_13|f_14|f_15|f_16|f_17|f_18|f_19|f_20|f_21|f_22|f_23|f_24|f_25|f_26|f_27|f_28|f_29|    f_30|\n",
      "+--------+-------+---+---+---+---+---+---+---+---+---+---+----+----+----+----+----+----+----+----+----+----+----+----+----+----+----+----+----+----+----+----+--------+\n",
      "|  791653|      3|0.0|0.0|1.0|0.0|0.0|0.0|0.0|0.0|0.0|0.0| 0.0| 0.0| 0.0| 0.0| 0.0| 0.0| 0.0| 0.0| 0.0| 0.0| 0.0| 0.0| 0.0| 0.0| 0.0| 0.0| 0.0| 0.0| 0.0| 0.0|    null|\n",
      "|  791653|      4|0.0|0.0|0.0|0.0|0.0|0.0|1.0|0.0|1.0|0.0| 0.0| 0.0| 0.0| 0.0| 0.0| 0.0| 1.0| 0.0| 0.0| 0.0| 0.0| 0.0| 0.0| 0.0| 0.0| 0.0| 0.0| 0.0| 0.0| 0.0|50.01091|\n",
      "|  791653|      2|0.0|0.0|0.0|0.0|0.0|0.0|1.0|0.0|1.0|0.0| 0.0| 0.0| 0.0| 0.0| 0.0| 0.0| 1.0| 0.0| 0.0| 0.0| 0.0| 0.0| 0.0| 0.0| 0.0| 0.0| 0.0| 0.0| 0.0| 0.0|     0.0|\n",
      "|  791653|      1|0.0|0.0|1.0|0.0|0.0|0.0|0.0|0.0|0.0|0.0| 0.0| 0.0| 0.0| 0.0| 0.0| 0.0| 0.0| 0.0| 0.0| 0.0| 0.0| 0.0| 0.0| 0.0| 0.0| 0.0| 0.0| 0.0| 0.0| 0.0|     0.0|\n",
      "|  791653|      0|0.0|0.0|1.0|0.0|0.0|0.0|1.0|0.0|1.0|0.0| 0.0| 0.0| 0.0| 0.0| 0.0| 0.0| 1.0| 0.0| 0.0| 0.0| 0.0| 0.0| 0.0| 0.0| 0.0| 0.0| 0.0| 0.0| 0.0| 0.0|     0.0|\n",
      "+--------+-------+---+---+---+---+---+---+---+---+---+---+----+----+----+----+----+----+----+----+----+----+----+----+----+----+----+----+----+----+----+----+--------+"
     ]
    }
   ],
   "source": [
    "node_features.filter(f.col('trace_id') == 791653).show()"
   ]
  },
  {
   "cell_type": "code",
   "execution_count": 159,
   "id": "8ab53e61",
   "metadata": {},
   "outputs": [
    {
     "data": {
      "application/vnd.jupyter.widget-view+json": {
       "model_id": "",
       "version_major": 2,
       "version_minor": 0
      },
      "text/plain": [
       "FloatProgress(value=0.0, bar_style='info', description='Progress:', layout=Layout(height='25px', width='50%'),…"
      ]
     },
     "metadata": {},
     "output_type": "display_data"
    },
    {
     "name": "stdout",
     "output_type": "stream",
     "text": [
      "+--------+-------+---+---+---+---+---+---+---+---+---+---+----+----+----+----+----+----+----+----+----+----+----+----+----+----+----+----+----+----+----+----+------------------+\n",
      "|trace_id|node_id|f_0|f_1|f_2|f_3|f_4|f_5|f_6|f_7|f_8|f_9|f_10|f_11|f_12|f_13|f_14|f_15|f_16|f_17|f_18|f_19|f_20|f_21|f_22|f_23|f_24|f_25|f_26|f_27|f_28|f_29|              f_30|\n",
      "+--------+-------+---+---+---+---+---+---+---+---+---+---+----+----+----+----+----+----+----+----+----+----+----+----+----+----+----+----+----+----+----+----+------------------+\n",
      "|  791653|      3|0.0|0.0|1.0|0.0|0.0|0.0|0.0|0.0|0.0|0.0| 0.0| 0.0| 0.0| 0.0| 0.0| 0.0| 0.0| 0.0| 0.0| 0.0| 0.0| 0.0| 0.0| 0.0| 0.0| 0.0| 0.0| 0.0| 0.0| 0.0|12.502727508544922|\n",
      "|  791653|      4|0.0|0.0|0.0|0.0|0.0|0.0|1.0|0.0|1.0|0.0| 0.0| 0.0| 0.0| 0.0| 0.0| 0.0| 1.0| 0.0| 0.0| 0.0| 0.0| 0.0| 0.0| 0.0| 0.0| 0.0| 0.0| 0.0| 0.0| 0.0| 50.01091003417969|\n",
      "|  791653|      2|0.0|0.0|0.0|0.0|0.0|0.0|1.0|0.0|1.0|0.0| 0.0| 0.0| 0.0| 0.0| 0.0| 0.0| 1.0| 0.0| 0.0| 0.0| 0.0| 0.0| 0.0| 0.0| 0.0| 0.0| 0.0| 0.0| 0.0| 0.0|               0.0|\n",
      "|  791653|      1|0.0|0.0|1.0|0.0|0.0|0.0|0.0|0.0|0.0|0.0| 0.0| 0.0| 0.0| 0.0| 0.0| 0.0| 0.0| 0.0| 0.0| 0.0| 0.0| 0.0| 0.0| 0.0| 0.0| 0.0| 0.0| 0.0| 0.0| 0.0|               0.0|\n",
      "|  791653|      0|0.0|0.0|1.0|0.0|0.0|0.0|1.0|0.0|1.0|0.0| 0.0| 0.0| 0.0| 0.0| 0.0| 0.0| 1.0| 0.0| 0.0| 0.0| 0.0| 0.0| 0.0| 0.0| 0.0| 0.0| 0.0| 0.0| 0.0| 0.0|               0.0|\n",
      "+--------+-------+---+---+---+---+---+---+---+---+---+---+----+----+----+----+----+----+----+----+----+----+----+----+----+----+----+----+----+----+----+----+------------------+"
     ]
    }
   ],
   "source": [
    "node_features_imputed.filter(f.col('trace_id') == 791653).show()"
   ]
  },
  {
   "cell_type": "code",
   "execution_count": 157,
   "id": "90146838",
   "metadata": {},
   "outputs": [
    {
     "data": {
      "application/vnd.jupyter.widget-view+json": {
       "model_id": "",
       "version_major": 2,
       "version_minor": 0
      },
      "text/plain": [
       "FloatProgress(value=0.0, bar_style='info', description='Progress:', layout=Layout(height='25px', width='50%'),…"
      ]
     },
     "metadata": {},
     "output_type": "display_data"
    },
    {
     "name": "stdout",
     "output_type": "stream",
     "text": [
      "(110408369, 110408369)"
     ]
    }
   ],
   "source": [
    "node_features_imputed = spark.read.parquet('s3://kl-prod-tpgt-knowledge-lake-sandpit/TempDir/tmp/case_study/dataset/node_features_imputed/')\n",
    "node_features_imputed.count(), node_features.count()\n"
   ]
  },
  {
   "cell_type": "markdown",
   "id": "a924b507",
   "metadata": {},
   "source": [
    "## Validate"
   ]
  },
  {
   "cell_type": "code",
   "execution_count": 74,
   "id": "9df77274",
   "metadata": {},
   "outputs": [
    {
     "data": {
      "application/vnd.jupyter.widget-view+json": {
       "model_id": "",
       "version_major": 2,
       "version_minor": 0
      },
      "text/plain": [
       "FloatProgress(value=0.0, bar_style='info', description='Progress:', layout=Layout(height='25px', width='50%'),…"
      ]
     },
     "metadata": {},
     "output_type": "display_data"
    },
    {
     "name": "stdout",
     "output_type": "stream",
     "text": [
      "+--------+------+------+\n",
      "|trace_id|src_id|dst_id|\n",
      "+--------+------+------+\n",
      "|56      |1     |2     |\n",
      "|105     |0     |3     |\n",
      "|141     |0     |2     |\n",
      "|173     |7     |16    |\n",
      "|259     |0     |6     |\n",
      "+--------+------+------+\n",
      "only showing top 5 rows"
     ]
    }
   ],
   "source": [
    "spark.read.csv('s3://kl-prod-tpgt-knowledge-lake-sandpit/TempDir/tmp/case_study/dataset/csv/edge_index/', header=True).show(5, False)"
   ]
  },
  {
   "cell_type": "code",
   "execution_count": 75,
   "id": "85c4fe3d",
   "metadata": {},
   "outputs": [
    {
     "data": {
      "application/vnd.jupyter.widget-view+json": {
       "model_id": "",
       "version_major": 2,
       "version_minor": 0
      },
      "text/plain": [
       "FloatProgress(value=0.0, bar_style='info', description='Progress:', layout=Layout(height='25px', width='50%'),…"
      ]
     },
     "metadata": {},
     "output_type": "display_data"
    },
    {
     "name": "stdout",
     "output_type": "stream",
     "text": [
      "+----------+------------+--------------+---------+-------+\n",
      "|trace_bool|src_dst_type|percent_in_all|edge_type|level_3|\n",
      "+----------+------------+--------------+---------+-------+\n",
      "|0         |1_2         |0.5           |0        |0.95   |\n",
      "|0         |0_1         |0.5           |0        |0.95   |\n",
      "|1         |1_2         |0.5           |0        |0.95   |\n",
      "|1         |0_1         |0.5           |0        |0.95   |\n",
      "+----------+------------+--------------+---------+-------+"
     ]
    }
   ],
   "source": [
    "spark.read.csv('s3://kl-prod-tpgt-knowledge-lake-sandpit/TempDir/tmp/case_study/dataset/csv/edge_ratio/', header=True).show(5, False)\n"
   ]
  },
  {
   "cell_type": "code",
   "execution_count": 77,
   "id": "caaab8a0",
   "metadata": {},
   "outputs": [
    {
     "data": {
      "application/vnd.jupyter.widget-view+json": {
       "model_id": "",
       "version_major": 2,
       "version_minor": 0
      },
      "text/plain": [
       "FloatProgress(value=0.0, bar_style='info', description='Progress:', layout=Layout(height='25px', width='50%'),…"
      ]
     },
     "metadata": {},
     "output_type": "display_data"
    },
    {
     "name": "stdout",
     "output_type": "stream",
     "text": [
      "+------------------------+\n",
      "|_c0                     |\n",
      "+------------------------+\n",
      "|[[0], [1], [2]]         |\n",
      "|[[0], [1, 2, 3], [4, 5]]|\n",
      "|[[0], [1, 2], [3]]      |\n",
      "|[[0], [1], [2]]         |\n",
      "|[[0], [1], [2]]         |\n",
      "+------------------------+\n",
      "only showing top 5 rows"
     ]
    }
   ],
   "source": [
    "spark.read.csv('s3://kl-prod-tpgt-knowledge-lake-sandpit/TempDir/tmp/case_study/dataset/csv/node_types/', header=False).show(5, False)\n",
    "\n"
   ]
  },
  {
   "cell_type": "code",
   "execution_count": 80,
   "id": "8c2dca50",
   "metadata": {},
   "outputs": [
    {
     "data": {
      "application/vnd.jupyter.widget-view+json": {
       "model_id": "",
       "version_major": 2,
       "version_minor": 0
      },
      "text/plain": [
       "FloatProgress(value=0.0, bar_style='info', description='Progress:', layout=Layout(height='25px', width='50%'),…"
      ]
     },
     "metadata": {},
     "output_type": "display_data"
    },
    {
     "name": "stdout",
     "output_type": "stream",
     "text": [
      "+--------+-------------------------+----------+----------------+\n",
      "|trace_id|customer_experience_index|trace_bool|error_trace_type|\n",
      "+--------+-------------------------+----------+----------------+\n",
      "|584395  |90.0                     |1         |1               |\n",
      "|584396  |71.0                     |1         |1               |\n",
      "|584397  |76.0                     |1         |1               |\n",
      "|584398  |83.0                     |1         |1               |\n",
      "|584399  |86.0                     |1         |1               |\n",
      "+--------+-------------------------+----------+----------------+\n",
      "only showing top 5 rows"
     ]
    }
   ],
   "source": [
    "trace_info = spark.read.csv('s3://kl-prod-tpgt-knowledge-lake-sandpit/TempDir/tmp/case_study/dataset/csv/trace_info/', header=True)\n",
    "trace_info.show(5, False)\n",
    "\n"
   ]
  },
  {
   "cell_type": "code",
   "execution_count": 79,
   "id": "48d018c3",
   "metadata": {},
   "outputs": [
    {
     "data": {
      "application/vnd.jupyter.widget-view+json": {
       "model_id": "",
       "version_major": 2,
       "version_minor": 0
      },
      "text/plain": [
       "FloatProgress(value=0.0, bar_style='info', description='Progress:', layout=Layout(height='25px', width='50%'),…"
      ]
     },
     "metadata": {},
     "output_type": "display_data"
    },
    {
     "name": "stdout",
     "output_type": "stream",
     "text": [
      "+--------+-------+---+---+---+---+---+---+---+------------+----------+------------+----+------------+----+------------+----+----+------------+----+----+----+----+----+----+----+----+----+----+----+----+----+---------+\n",
      "|trace_id|node_id|f_0|f_1|f_2|f_3|f_4|f_5|f_6|f_7         |f_8       |f_9         |f_10|f_11        |f_12|f_13        |f_14|f_15|f_16        |f_17|f_18|f_19|f_20|f_21|f_22|f_23|f_24|f_25|f_26|f_27|f_28|f_29|f_30     |\n",
      "+--------+-------+---+---+---+---+---+---+---+------------+----------+------------+----+------------+----+------------+----+----+------------+----+----+----+----+----+----+----+----+----+----+----+----+----+---------+\n",
      "|256166  |1      |0.0|0.0|0.0|0.0|0.0|0.0|0.0|0.0032774243|0.0       |0.0         |0.0 |0.0         |0.0 |0.0018656716|0.0 |0.0 |0.0         |0.5 |0.5 |0.5 |0.5 |0.5 |0.0 |0.0 |0.0 |0.0 |0.0 |0.5 |0.5 |0.5 |0.0      |\n",
      "|397382  |8      |0.0|0.0|0.0|0.0|0.0|0.0|0.0|0.0         |0.0       |0.0         |0.0 |0.0         |0.0 |6.2189053E-4|0.0 |0.0 |0.0         |0.5 |0.5 |0.5 |0.5 |0.5 |0.0 |0.0 |0.0 |0.0 |0.0 |0.5 |0.5 |0.5 |0.0      |\n",
      "|621910  |1      |0.0|0.0|0.0|0.0|0.0|0.0|0.0|1.9278967E-4|0.0       |0.0060975607|0.0 |0.0         |0.0 |0.0         |0.0 |0.0 |0.0022988506|0.5 |0.5 |0.5 |0.5 |0.5 |0.0 |0.0 |0.0 |0.0 |0.0 |0.5 |0.5 |0.5 |0.0      |\n",
      "|642063  |1      |0.0|0.0|0.0|0.0|0.0|0.0|0.0|5.78369E-4  |0.0       |0.0         |0.0 |0.0         |0.0 |0.0012437811|0.0 |0.0 |0.0         |0.5 |0.5 |0.5 |0.5 |0.5 |0.0 |0.0 |0.0 |0.0 |0.0 |0.5 |0.5 |0.5 |0.0      |\n",
      "|739593  |17     |0.0|0.0|0.0|0.0|0.0|0.0|0.0|0.0013495276|6.17284E-4|0.0         |0.0 |0.0070422534|0.0 |0.0043532336|0.0 |0.0 |0.0022988506|0.5 |0.5 |0.5 |0.5 |0.5 |0.0 |0.0 |0.0 |0.0 |0.0 |0.5 |0.5 |0.5 |0.8403128|\n",
      "+--------+-------+---+---+---+---+---+---+---+------------+----------+------------+----+------------+----+------------+----+----+------------+----+----+----+----+----+----+----+----+----+----+----+----+----+---------+\n",
      "only showing top 5 rows"
     ]
    }
   ],
   "source": [
    "spark.read.csv('s3://kl-prod-tpgt-knowledge-lake-sandpit/TempDir/tmp/case_study/dataset/csv/node_feature_norm/', header=True).show(5, False)\n",
    "\n"
   ]
  },
  {
   "cell_type": "code",
   "execution_count": 82,
   "id": "847f12c8",
   "metadata": {},
   "outputs": [
    {
     "data": {
      "application/vnd.jupyter.widget-view+json": {
       "model_id": "",
       "version_major": 2,
       "version_minor": 0
      },
      "text/plain": [
       "FloatProgress(value=0.0, bar_style='info', description='Progress:', layout=Layout(height='25px', width='50%'),…"
      ]
     },
     "metadata": {},
     "output_type": "display_data"
    },
    {
     "name": "stdout",
     "output_type": "stream",
     "text": [
      "+----------+--------+\n",
      "|trace_bool|   count|\n",
      "+----------+--------+\n",
      "|         0| 2959270|\n",
      "|         1|12005748|\n",
      "+----------+--------+"
     ]
    }
   ],
   "source": [
    "trace_info.groupBy('trace_bool').count().show()"
   ]
  },
  {
   "cell_type": "code",
   "execution_count": 132,
   "id": "f7cab200",
   "metadata": {},
   "outputs": [
    {
     "data": {
      "application/vnd.jupyter.widget-view+json": {
       "model_id": "",
       "version_major": 2,
       "version_minor": 0
      },
      "text/plain": [
       "FloatProgress(value=0.0, bar_style='info', description='Progress:', layout=Layout(height='25px', width='50%'),…"
      ]
     },
     "metadata": {},
     "output_type": "display_data"
    },
    {
     "name": "stdout",
     "output_type": "stream",
     "text": [
      "+--------+-------------------------+----------+----------------+--------------------+----------+\n",
      "|trace_id|customer_experience_index|trace_bool|error_trace_type|                rand|row_number|\n",
      "+--------+-------------------------+----------+----------------+--------------------+----------+\n",
      "|14147883|                     75.0|         1|               1|1.731675757676853...|         1|\n",
      "|12688966|                     75.0|         1|               1|3.747227150574517E-6|         2|\n",
      "|11861576|                     75.0|         1|               1|5.961469657367324E-6|         3|\n",
      "| 2795803|                     75.0|         1|               1|2.085190584144580...|         4|\n",
      "|  282169|                     75.0|         1|               1|3.323100695884484...|         5|\n",
      "| 6243226|                     75.0|         1|               1|3.999038355406714...|         6|\n",
      "|13844251|                     75.0|         1|               1|4.164060543854209E-5|         7|\n",
      "| 5353570|                     75.0|         1|               1|4.314669817173655E-5|         8|\n",
      "|10146994|                     75.0|         1|               1|4.388489277029617E-5|         9|\n",
      "| 2064992|                     75.0|         1|               1|4.805227612991736E-5|        10|\n",
      "| 9337533|                     75.0|         1|               1|5.072475427070344E-5|        11|\n",
      "| 8241161|                     75.0|         1|               1|5.175436482940387...|        12|\n",
      "| 6030806|                     75.0|         1|               1|5.660033726051505...|        13|\n",
      "| 5114083|                     75.0|         1|               1|6.060595014090175...|        14|\n",
      "|13818138|                     75.0|         1|               1| 6.46562471239287E-5|        15|\n",
      "| 7953268|                     75.0|         1|               1|6.670160880906106E-5|        16|\n",
      "| 8996286|                     75.0|         1|               1|6.924828379595294E-5|        17|\n",
      "| 5859487|                     75.0|         1|               1|7.144679039239321E-5|        18|\n",
      "| 4062543|                     75.0|         1|               1|7.346925397511139E-5|        19|\n",
      "| 3064604|                     75.0|         1|               1|7.944396110604046E-5|        20|\n",
      "+--------+-------------------------+----------+----------------+--------------------+----------+\n",
      "only showing top 20 rows"
     ]
    }
   ],
   "source": [
    "normal_traces = trace_info.filter('trace_bool = 1')\n",
    "sample_pool = normal_traces.withColumn(\n",
    "    'rand', f.rand()\n",
    ").withColumn(\n",
    "    'row_number', f.row_number().over(\n",
    "        Window.partitionBy('customer_experience_index').orderBy('rand')\n",
    "    )\n",
    ")\n",
    "sample_pool.show()"
   ]
  },
  {
   "cell_type": "code",
   "execution_count": 143,
   "id": "c18787fc",
   "metadata": {},
   "outputs": [
    {
     "data": {
      "application/vnd.jupyter.widget-view+json": {
       "model_id": "",
       "version_major": 2,
       "version_minor": 0
      },
      "text/plain": [
       "FloatProgress(value=0.0, bar_style='info', description='Progress:', layout=Layout(height='25px', width='50%'),…"
      ]
     },
     "metadata": {},
     "output_type": "display_data"
    },
    {
     "name": "stdout",
     "output_type": "stream",
     "text": [
      "+----------+-------------------------+------+----------+\n",
      "|trace_bool|customer_experience_index| count|num_sample|\n",
      "+----------+-------------------------+------+----------+\n",
      "|         1|                     86.0|385739|    231333|\n",
      "|         1|                     82.0|349279|    209467|\n",
      "|         1|                     81.0|361331|    216695|\n",
      "|         1|                     80.0|315088|    188962|\n",
      "|         1|                     76.0|248976|    149314|\n",
      "|         1|                     91.0|436835|    261976|\n",
      "|         1|                     79.0|297248|    178264|\n",
      "|         1|                    100.0|533445|    319914|\n",
      "|         1|                     77.0|268079|    160770|\n",
      "|         1|                     74.0|220058|    131972|\n",
      "|         1|                     73.0|200826|    120438|\n",
      "|         1|                     93.0|565195|    338955|\n",
      "|         1|                     96.0|668804|    401091|\n",
      "|         1|                     98.0|556247|    333589|\n",
      "|         1|                     99.0|648551|    388945|\n",
      "|         1|                     90.0|509181|    305363|\n",
      "|         1|                     87.0|441427|    264730|\n",
      "|         1|                     89.0|420542|    252205|\n",
      "|         1|                     88.0|402373|    241309|\n",
      "|         1|                     94.0|472259|    283220|\n",
      "|         1|                     70.0|148694|     89174|\n",
      "|         1|                     92.0|443640|    266057|\n",
      "|         1|                     95.0|488117|    292731|\n",
      "|         1|                     71.0|164704|     98775|\n",
      "|         1|                     72.0|210934|    126500|\n",
      "|         1|                     97.0|538135|    322727|\n",
      "|         1|                     85.0|378204|    226814|\n",
      "|         1|                     84.0|414608|    248646|\n",
      "|         1|                     78.0|301738|    180956|\n",
      "|         1|                     83.0|360047|    215925|\n",
      "|         1|                     75.0|255444|    153193|\n",
      "+----------+-------------------------+------+----------+"
     ]
    }
   ],
   "source": [
    "num_sample = trace_info.groupBy(\n",
    "    'trace_bool', 'customer_experience_index'\n",
    ").count().filter('trace_bool = 1').withColumn(\n",
    "    'num_sample', (f.col('count') * 0.599715).cast('int')\n",
    ")\n",
    "num_sample.show(50)"
   ]
  },
  {
   "cell_type": "code",
   "execution_count": 147,
   "id": "20739b8e",
   "metadata": {
    "scrolled": true
   },
   "outputs": [
    {
     "data": {
      "application/vnd.jupyter.widget-view+json": {
       "model_id": "",
       "version_major": 2,
       "version_minor": 0
      },
      "text/plain": [
       "FloatProgress(value=0.0, bar_style='info', description='Progress:', layout=Layout(height='25px', width='50%'),…"
      ]
     },
     "metadata": {},
     "output_type": "display_data"
    },
    {
     "name": "stdout",
     "output_type": "stream",
     "text": [
      "+--------+\n",
      "|trace_id|\n",
      "+--------+\n",
      "|14147883|\n",
      "|12688966|\n",
      "|11861576|\n",
      "| 2795803|\n",
      "|  282169|\n",
      "| 6243226|\n",
      "|13844251|\n",
      "| 5353570|\n",
      "|10146994|\n",
      "| 2064992|\n",
      "| 9337533|\n",
      "| 8241161|\n",
      "| 6030806|\n",
      "| 5114083|\n",
      "|13818138|\n",
      "| 7953268|\n",
      "| 8996286|\n",
      "| 5859487|\n",
      "| 4062543|\n",
      "| 3064604|\n",
      "+--------+\n",
      "only showing top 20 rows"
     ]
    }
   ],
   "source": [
    "train_ids = sample_pool.join(\n",
    "    num_sample.select('num_sample', 'customer_experience_index'),\n",
    "    on='customer_experience_index'\n",
    ").filter(f.col('row_number') <= f.col('num_sample')).limit(7200000).select('trace_id')\n",
    "train_ids.show()"
   ]
  },
  {
   "cell_type": "code",
   "execution_count": 152,
   "id": "3ac1ae82",
   "metadata": {},
   "outputs": [
    {
     "data": {
      "application/vnd.jupyter.widget-view+json": {
       "model_id": "",
       "version_major": 2,
       "version_minor": 0
      },
      "text/plain": [
       "FloatProgress(value=0.0, bar_style='info', description='Progress:', layout=Layout(height='25px', width='50%'),…"
      ]
     },
     "metadata": {},
     "output_type": "display_data"
    },
    {
     "name": "stdout",
     "output_type": "stream",
     "text": [
      "+--------+-------------------------+----------+----------------+\n",
      "|trace_id|customer_experience_index|trace_bool|error_trace_type|\n",
      "+--------+-------------------------+----------+----------------+\n",
      "|  584395|                     90.0|         1|               1|\n",
      "|  584396|                     71.0|         1|               1|\n",
      "|  584397|                     76.0|         1|               1|\n",
      "|  584398|                     83.0|         1|               1|\n",
      "|  584399|                     86.0|         1|               1|\n",
      "|  584401|                     66.0|         0|               0|\n",
      "|  584402|                     74.0|         1|               1|\n",
      "|  584403|                     69.0|         0|               0|\n",
      "|  584405|                    100.0|         1|               1|\n",
      "|  584407|                     67.0|         0|               0|\n",
      "|  584409|                     95.0|         1|               1|\n",
      "|  584411|                     96.0|         1|               1|\n",
      "|  584413|                     73.0|         1|               1|\n",
      "|  584414|                     62.0|         0|               0|\n",
      "|  584415|                     78.0|         1|               1|\n",
      "|  584416|                     56.0|         0|               0|\n",
      "|  584417|                     46.0|         0|               0|\n",
      "|  584418|                     62.0|         0|               0|\n",
      "|  584419|                     40.0|         0|               0|\n",
      "|  584420|                     45.0|         0|               0|\n",
      "+--------+-------------------------+----------+----------------+\n",
      "only showing top 20 rows"
     ]
    }
   ],
   "source": [
    "rest_trace = trace_info.join(\n",
    "    train_ids,\n",
    "    on='trace_id',\n",
    "    how='left_anti'\n",
    ")\n",
    "rest_trace.show()"
   ]
  },
  {
   "cell_type": "code",
   "execution_count": 154,
   "id": "8a3f7e5d",
   "metadata": {},
   "outputs": [
    {
     "data": {
      "application/vnd.jupyter.widget-view+json": {
       "model_id": "",
       "version_major": 2,
       "version_minor": 0
      },
      "text/plain": [
       "FloatProgress(value=0.0, bar_style='info', description='Progress:', layout=Layout(height='25px', width='50%'),…"
      ]
     },
     "metadata": {},
     "output_type": "display_data"
    },
    {
     "name": "stdout",
     "output_type": "stream",
     "text": [
      "+--------+-------------------------+----------+----------------+\n",
      "|trace_id|customer_experience_index|trace_bool|error_trace_type|\n",
      "+--------+-------------------------+----------+----------------+\n",
      "+--------+-------------------------+----------+----------------+"
     ]
    }
   ],
   "source": [
    "rest_trace.filter('trace_id = 8996286').show()"
   ]
  },
  {
   "cell_type": "code",
   "execution_count": 153,
   "id": "41172d96",
   "metadata": {},
   "outputs": [
    {
     "data": {
      "application/vnd.jupyter.widget-view+json": {
       "model_id": "",
       "version_major": 2,
       "version_minor": 0
      },
      "text/plain": [
       "FloatProgress(value=0.0, bar_style='info', description='Progress:', layout=Layout(height='25px', width='50%'),…"
      ]
     },
     "metadata": {},
     "output_type": "display_data"
    },
    {
     "name": "stdout",
     "output_type": "stream",
     "text": [
      "+-------------------------+----------+------+----------+\n",
      "|customer_experience_index|trace_bool| count|num_sample|\n",
      "+-------------------------+----------+------+----------+\n",
      "|                     95.0|         1|195386|     97693|\n",
      "|                     69.0|         0|143432|     71716|\n",
      "|                     85.0|         1|151390|     75695|\n",
      "|                      8.0|         0|  6092|      3046|\n",
      "|                     68.0|         0|135236|     67618|\n",
      "|                     16.0|         0| 10829|      5414|\n",
      "|                     70.0|         1| 59520|     29760|\n",
      "|                     93.0|         1|226250|    113125|\n",
      "|                     60.0|         0| 89952|     44976|\n",
      "|                     43.0|         0| 39039|     19519|\n",
      "|                     91.0|         1|174859|     87429|\n",
      "|                     46.0|         0| 43968|     21984|\n",
      "|                     87.0|         1|176697|     88348|\n",
      "|                     40.0|         0| 33550|     16775|\n",
      "|                     50.0|         0| 54888|     27444|\n",
      "|                     99.0|         1|259606|    129803|\n",
      "|                     98.0|         1|222658|    111329|\n",
      "|                     63.0|         0|108107|     54053|\n",
      "|                      1.0|         0|   781|       390|\n",
      "|                      7.0|         0|  4314|      2157|\n",
      "+-------------------------+----------+------+----------+\n",
      "only showing top 20 rows"
     ]
    }
   ],
   "source": [
    "rest_trace_num_sample = rest_trace.groupBy('customer_experience_index', 'trace_bool').count().withColumn(\n",
    "    'num_sample', (f.col('count') * 0.5).cast('int')\n",
    ")\n",
    "rest_trace_num_sample.show()"
   ]
  },
  {
   "cell_type": "code",
   "execution_count": 158,
   "id": "1a711fd9",
   "metadata": {},
   "outputs": [
    {
     "data": {
      "application/vnd.jupyter.widget-view+json": {
       "model_id": "",
       "version_major": 2,
       "version_minor": 0
      },
      "text/plain": [
       "FloatProgress(value=0.0, bar_style='info', description='Progress:', layout=Layout(height='25px', width='50%'),…"
      ]
     },
     "metadata": {},
     "output_type": "display_data"
    },
    {
     "name": "stdout",
     "output_type": "stream",
     "text": [
      "+--------+\n",
      "|trace_id|\n",
      "+--------+\n",
      "| 7983892|\n",
      "|10383139|\n",
      "|13547887|\n",
      "|11894133|\n",
      "|14041867|\n",
      "|11557748|\n",
      "|14383833|\n",
      "|10494433|\n",
      "| 6586998|\n",
      "|13890397|\n",
      "| 3472605|\n",
      "| 3719164|\n",
      "|11491689|\n",
      "| 9122003|\n",
      "| 9408471|\n",
      "|12364094|\n",
      "| 9920025|\n",
      "| 9844722|\n",
      "| 8413326|\n",
      "| 9992389|\n",
      "+--------+\n",
      "only showing top 20 rows"
     ]
    }
   ],
   "source": [
    "eval_ids = rest_trace.withColumn(\n",
    "    'rand', f.rand()\n",
    ").withColumn(\n",
    "    'row_number', f.row_number().over(\n",
    "        Window.partitionBy('customer_experience_index').orderBy('rand')\n",
    "    )\n",
    ").join(\n",
    "    rest_trace_num_sample.select('num_sample', 'trace_bool', 'customer_experience_index'),\n",
    "    on=['customer_experience_index', 'trace_bool']\n",
    ").filter(f.col('row_number') <= f.col('num_sample')).select('trace_id')\n",
    "\n",
    "eval_ids.show()\n",
    "# eval_ids.groupBy('trace_bool').count().show()"
   ]
  },
  {
   "cell_type": "code",
   "execution_count": 167,
   "id": "4059de15",
   "metadata": {},
   "outputs": [
    {
     "data": {
      "application/vnd.jupyter.widget-view+json": {
       "model_id": "",
       "version_major": 2,
       "version_minor": 0
      },
      "text/plain": [
       "FloatProgress(value=0.0, bar_style='info', description='Progress:', layout=Layout(height='25px', width='50%'),…"
      ]
     },
     "metadata": {},
     "output_type": "display_data"
    }
   ],
   "source": [
    "test_ids = rest_trace.join(\n",
    "    eval_ids,\n",
    "    on='trace_id',\n",
    "    how='left_anti'\n",
    ")\n",
    "\n",
    "# test_ids.repartition(1).write.csv(\n",
    "#     's3://kl-prod-tpgt-knowledge-lake-sandpit/TempDir/tmp/case_study/dataset/csv/test_ids')"
   ]
  },
  {
   "cell_type": "code",
   "execution_count": 161,
   "id": "13fac689",
   "metadata": {},
   "outputs": [
    {
     "data": {
      "application/vnd.jupyter.widget-view+json": {
       "model_id": "",
       "version_major": 2,
       "version_minor": 0
      },
      "text/plain": [
       "FloatProgress(value=0.0, bar_style='info', description='Progress:', layout=Layout(height='25px', width='50%'),…"
      ]
     },
     "metadata": {},
     "output_type": "display_data"
    }
   ],
   "source": [
    "train_ids.repartition(1).write.csv('s3://kl-prod-tpgt-knowledge-lake-sandpit/TempDir/tmp/case_study/dataset/csv/train_ids')"
   ]
  },
  {
   "cell_type": "code",
   "execution_count": 162,
   "id": "45d3837e",
   "metadata": {},
   "outputs": [
    {
     "data": {
      "application/vnd.jupyter.widget-view+json": {
       "model_id": "",
       "version_major": 2,
       "version_minor": 0
      },
      "text/plain": [
       "FloatProgress(value=0.0, bar_style='info', description='Progress:', layout=Layout(height='25px', width='50%'),…"
      ]
     },
     "metadata": {},
     "output_type": "display_data"
    }
   ],
   "source": [
    "eval_ids.repartition(1).write.csv(\n",
    "    's3://kl-prod-tpgt-knowledge-lake-sandpit/TempDir/tmp/case_study/dataset/csv/eval_ids')"
   ]
  },
  {
   "cell_type": "code",
   "execution_count": 164,
   "id": "3a752021",
   "metadata": {},
   "outputs": [
    {
     "data": {
      "application/vnd.jupyter.widget-view+json": {
       "model_id": "",
       "version_major": 2,
       "version_minor": 0
      },
      "text/plain": [
       "FloatProgress(value=0.0, bar_style='info', description='Progress:', layout=Layout(height='25px', width='50%'),…"
      ]
     },
     "metadata": {},
     "output_type": "display_data"
    },
    {
     "name": "stdout",
     "output_type": "stream",
     "text": [
      "0"
     ]
    }
   ],
   "source": [
    "train_ids.join(\n",
    "    eval_ids,\n",
    "    on='trace_id'\n",
    ").count()"
   ]
  },
  {
   "cell_type": "code",
   "execution_count": 168,
   "id": "bc986f70",
   "metadata": {},
   "outputs": [
    {
     "data": {
      "application/vnd.jupyter.widget-view+json": {
       "model_id": "",
       "version_major": 2,
       "version_minor": 0
      },
      "text/plain": [
       "FloatProgress(value=0.0, bar_style='info', description='Progress:', layout=Layout(height='25px', width='50%'),…"
      ]
     },
     "metadata": {},
     "output_type": "display_data"
    },
    {
     "name": "stdout",
     "output_type": "stream",
     "text": [
      "4"
     ]
    }
   ],
   "source": [
    "train_ids.join(\n",
    "    test_ids,\n",
    "    on='trace_id'\n",
    ").count()"
   ]
  },
  {
   "cell_type": "code",
   "execution_count": 169,
   "id": "c414519c",
   "metadata": {},
   "outputs": [
    {
     "data": {
      "application/vnd.jupyter.widget-view+json": {
       "model_id": "",
       "version_major": 2,
       "version_minor": 0
      },
      "text/plain": [
       "FloatProgress(value=0.0, bar_style='info', description='Progress:', layout=Layout(height='25px', width='50%'),…"
      ]
     },
     "metadata": {},
     "output_type": "display_data"
    },
    {
     "name": "stdout",
     "output_type": "stream",
     "text": [
      "0"
     ]
    }
   ],
   "source": [
    "test_ids.join(\n",
    "    eval_ids,\n",
    "    on='trace_id'\n",
    ").count()"
   ]
  },
  {
   "cell_type": "code",
   "execution_count": null,
   "id": "f4ffb3e1",
   "metadata": {},
   "outputs": [],
   "source": []
  }
 ],
 "metadata": {
  "kernelspec": {
   "display_name": "PySpark",
   "language": "python",
   "name": "pysparkkernel"
  },
  "language_info": {
   "codemirror_mode": {
    "name": "python",
    "version": 3
   },
   "file_extension": ".py",
   "mimetype": "text/x-python",
   "name": "pyspark",
   "pygments_lexer": "python3"
  }
 },
 "nbformat": 4,
 "nbformat_minor": 5
}
