{
 "cells": [
  {
   "cell_type": "code",
   "execution_count": 1,
   "id": "afe69f1d",
   "metadata": {},
   "outputs": [],
   "source": [
    "%cleanup -f"
   ]
  },
  {
   "cell_type": "code",
   "execution_count": 114,
   "id": "5ee8af2f",
   "metadata": {},
   "outputs": [
    {
     "name": "stdout",
     "output_type": "stream",
     "text": [
      "Starting Spark application\n"
     ]
    },
    {
     "data": {
      "text/html": [
       "<table>\n",
       "<tr><th>ID</th><th>YARN Application ID</th><th>Kind</th><th>State</th><th>Spark UI</th><th>Driver log</th><th>User</th><th>Current session?</th></tr><tr><td>2</td><td>application_1673908281065_0003</td><td>pyspark</td><td>idle</td><td><a target=\"_blank\" href=\"http://ip-10-48-113-152.prod.tpgt-bi-kl.aws.vodafone.com.au:20888/proxy/application_1673908281065_0003/\">Link</a></td><td><a target=\"_blank\" href=\"http://ip-10-48-113-29.prod.tpgt-bi-kl.aws.vodafone.com.au:8042/node/containerlogs/container_1673908281065_0003_01_000001/livy\">Link</a></td><td>None</td><td>✔</td></tr></table>"
      ],
      "text/plain": [
       "<IPython.core.display.HTML object>"
      ]
     },
     "metadata": {},
     "output_type": "display_data"
    },
    {
     "data": {
      "application/vnd.jupyter.widget-view+json": {
       "model_id": "",
       "version_major": 2,
       "version_minor": 0
      },
      "text/plain": [
       "FloatProgress(value=0.0, bar_style='info', description='Progress:', layout=Layout(height='25px', width='50%'),…"
      ]
     },
     "metadata": {},
     "output_type": "display_data"
    },
    {
     "name": "stdout",
     "output_type": "stream",
     "text": [
      "SparkSession available as 'spark'.\n"
     ]
    },
    {
     "data": {
      "text/html": [
       "Current session configs: <tt>{'numExecutors': 12, 'driverMemory': '20g', 'proxyUser': 'jovyan', 'kind': 'pyspark'}</tt><br>"
      ],
      "text/plain": [
       "<IPython.core.display.HTML object>"
      ]
     },
     "metadata": {},
     "output_type": "display_data"
    },
    {
     "data": {
      "text/html": [
       "<table>\n",
       "<tr><th>ID</th><th>YARN Application ID</th><th>Kind</th><th>State</th><th>Spark UI</th><th>Driver log</th><th>User</th><th>Current session?</th></tr><tr><td>2</td><td>application_1673908281065_0003</td><td>pyspark</td><td>idle</td><td><a target=\"_blank\" href=\"http://ip-10-48-113-152.prod.tpgt-bi-kl.aws.vodafone.com.au:20888/proxy/application_1673908281065_0003/\">Link</a></td><td><a target=\"_blank\" href=\"http://ip-10-48-113-29.prod.tpgt-bi-kl.aws.vodafone.com.au:8042/node/containerlogs/container_1673908281065_0003_01_000001/livy\">Link</a></td><td>None</td><td>✔</td></tr></table>"
      ],
      "text/plain": [
       "<IPython.core.display.HTML object>"
      ]
     },
     "metadata": {},
     "output_type": "display_data"
    }
   ],
   "source": [
    "%%configure -f\n",
    "{\n",
    "    \"numExecutors\": 12,\n",
    "    \"driverMemory\": \"20g\"\n",
    "}"
   ]
  },
  {
   "cell_type": "code",
   "execution_count": 178,
   "id": "c9e22a19",
   "metadata": {},
   "outputs": [
    {
     "data": {
      "application/vnd.jupyter.widget-view+json": {
       "model_id": "",
       "version_major": 2,
       "version_minor": 0
      },
      "text/plain": [
       "FloatProgress(value=0.0, bar_style='info', description='Progress:', layout=Layout(height='25px', width='50%'),…"
      ]
     },
     "metadata": {},
     "output_type": "display_data"
    }
   ],
   "source": [
    "import pyspark.sql.functions as f\n",
    "from pyspark.sql.types import *\n",
    "from pyspark.sql.window import Window\n",
    "from pyspark.ml.feature import OneHotEncoder, Normalizer, MinMaxScaler, VectorAssembler\n",
    "from pyspark.ml.linalg import SparseVector, DenseVector, Vectors, VectorUDT\n",
    "from pyspark.ml import Pipeline\n",
    "import numpy as np\n",
    "\n"
   ]
  },
  {
   "cell_type": "code",
   "execution_count": 206,
   "id": "cc48a2e4",
   "metadata": {},
   "outputs": [
    {
     "data": {
      "application/vnd.jupyter.widget-view+json": {
       "model_id": "",
       "version_major": 2,
       "version_minor": 0
      },
      "text/plain": [
       "FloatProgress(value=0.0, bar_style='info', description='Progress:', layout=Layout(height='25px', width='50%'),…"
      ]
     },
     "metadata": {},
     "output_type": "display_data"
    }
   ],
   "source": [
    "@f.udf(returnType=StringType())\n",
    "def resolve_sector_name(cell_name):\n",
    "    \"\"\"\n",
    "    resolve cell name to match with EDS event data\n",
    "    \"\"\"\n",
    "    try:\n",
    "        split_parts = cell_name.split(\"_\")\n",
    "        m2000id = split_parts[0]\n",
    "        site_name = split_parts[1]\n",
    "        cell_number = split_parts[3]\n",
    "        return f\"{m2000id}_{site_name}_{cell_number}\"\n",
    "    except Exception as _:\n",
    "        return cell_name\n",
    "@f.udf(returnType=VectorUDT())\n",
    "def sparse_vector_sum(vectors):\n",
    "    res = None\n",
    "    for vec in vectors:\n",
    "        if res is None:\n",
    "            res = vec\n",
    "        else:\n",
    "            res = np.add(vec, res)\n",
    "    return SparseVector(len(res), {k: v for k, v in enumerate(res) if v != 0})\n",
    "\n",
    "@f.udf(returnType=ArrayType(FloatType()))\n",
    "def to_dense(sparse_vector):\n",
    "    v = DenseVector(sparse_vector)\n",
    "    feature = [float(x) for x in v]\n",
    "    feature.append(0.0)  # adding util placeholder\n",
    "    return feature\n",
    "\n",
    "@f.udf(returnType=ArrayType(FloatType()))\n",
    "def to_dense_flat(sparse_vector):\n",
    "    v = DenseVector(sparse_vector)\n",
    "    feature = [float(x) for x in v]\n",
    "    return feature\n",
    "\n",
    "@f.udf(returnType=ArrayType(ArrayType(StringType())))\n",
    "def construct_nodes(edge_input):\n",
    "    \"\"\"\n",
    "    node types:\n",
    "    0 - user\n",
    "    1 - cell\n",
    "    2 - sector\n",
    "    \"\"\"\n",
    "    node_list = []\n",
    "    for a in edge_input:\n",
    "        if [a[0], 0] not in node_list:\n",
    "            node_list.append([a[0], 0])\n",
    "        if [a[1], 1] not in node_list:\n",
    "            node_list.append([a[1], 1])\n",
    "        if [a[2], 2] not in node_list:\n",
    "            node_list.append([a[2], 2])\n",
    "    return node_list\n",
    "\n",
    "@f.udf(returnType=VectorUDT())\n",
    "def add_sparse31(v1, val):\n",
    "    v1d = dict(zip(v1.indices, v1.values))\n",
    "    new_idx = v1.size\n",
    "    v1d[new_idx] = val\n",
    "    return SparseVector(new_idx+1, {k: v for k, v in v1d.items() if v != 0.0})\n",
    "\n",
    "@f.udf(returnType=ArrayType(ArrayType(StringType())))\n",
    "def construct_edge_index(edge_input):\n",
    "\n",
    "    edge_index = []\n",
    "    for a in edge_input:\n",
    "        if [a[0], a[1]] not in edge_index:\n",
    "            edge_index.append([a[0], a[1]])\n",
    "    return edge_index\n",
    "\n",
    "@f.udf(returnType=ArrayType(ArrayType(IntegerType())))\n",
    "def construct_node_types(node_list):\n",
    "    node_types = [[] for i in range(2)]\n",
    "    for ntype, nid in node_list:\n",
    "        node_types[int(ntype)].append(nid)\n",
    "    return node_types\n",
    "        "
   ]
  },
  {
   "cell_type": "code",
   "execution_count": 117,
   "id": "ff4df4e7",
   "metadata": {
    "scrolled": true
   },
   "outputs": [
    {
     "data": {
      "application/vnd.jupyter.widget-view+json": {
       "model_id": "",
       "version_major": 2,
       "version_minor": 0
      },
      "text/plain": [
       "FloatProgress(value=0.0, bar_style='info', description='Progress:', layout=Layout(height='25px', width='50%'),…"
      ]
     },
     "metadata": {},
     "output_type": "display_data"
    },
    {
     "name": "stdout",
     "output_type": "stream",
     "text": [
      "DataFrame[glbl_loc: string, glbl_loc_id: string, cell_name: string, mcc: string, mnc: string, state: string]"
     ]
    }
   ],
   "source": [
    "# Event Data\n",
    "eventdf = spark.read.parquet('s3://kl-prod-tpgt-knowledge-lake-sandpit/TempDir/tmp/tokenised_ebmr_sample/dt=2023-01-10/')\n",
    "\n",
    "# CEI Data\n",
    "cei_df = spark.read.parquet('s3://kl-prod-bi-analy-data-extract/features/kl-prod/Mobility/customer_exp_index_v3/part_dt=2023-01-11/')\n",
    "cei_df =cei_df.withColumnRenamed('subs_id', 'Subs_Id')\n",
    "\n",
    "# Cell INFO\n",
    "@f.udf(returnType=StringType())\n",
    "def resolve_cell_name(cell_name):\n",
    "    \"\"\"\n",
    "    resolve cell name to match with EDS event data\n",
    "    \"\"\"\n",
    "    try:\n",
    "        split_parts = cell_name.split(\"_\")\n",
    "        m2000id = split_parts[0]\n",
    "        site_name = split_parts[1]\n",
    "        technology = split_parts[3]\n",
    "        cell_number = split_parts[4]\n",
    "        return f\"{m2000id}_{site_name}_{technology}_{cell_number}\"\n",
    "    except Exception as _:\n",
    "        return cell_name\n",
    "\n",
    "locglbl = spark.read.parquet(\n",
    "    's3://kl-prod-bi-analy-data-extract/features/kl-prod/ICE/EDS_locglbl_v3_extract/part_dt=2023-01-11/'\n",
    ")\n",
    "cell_lookup = spark.read.parquet(\n",
    "    's3://kl-prod-bi-analy-data-extract/features/kl-prod/ICE/TD_cell_look_up/part_dt=2023-01-11/'\n",
    ")\n",
    "site_df = spark.read.parquet(\n",
    "    's3://kl-prod-bi-analy-data-extract/features/kl-prod/ICE/TD_site_table/part_dt=2023-01-11/'\n",
    ")\n",
    "\n",
    "cell_info = (\n",
    "    locglbl.join(\n",
    "        cell_lookup.filter(\n",
    "            f.col(\"Radio_Type_Cd\").isin([\"L\", \"U\", \"N\"])\n",
    "        ),  # ignore 3G cells. ie. 'U'. Ignores 5G for test. ie 'N'\n",
    "        on=locglbl.glbl_loc_id == cell_lookup.Glbl_loc_Id,\n",
    "        how=\"inner\",\n",
    "    )\n",
    "    .withColumn(\"m2000_id\", f.split(f.col(\"Cell_Name\"), \"_\").getItem(0))\n",
    "    .join(\n",
    "        site_df,  # .filter(f.col(\"sa6_state_nm\") == sa6_nm),\n",
    "        on=\"m2000_id\",\n",
    "        how=\"inner\",\n",
    "    )\n",
    "    .withColumn(\"cell_name_adjusted\", resolve_cell_name(f.col(\"Cell_Name\")))\n",
    "    .select(\n",
    "        locglbl.glbl_loc,\n",
    "        locglbl.glbl_loc_id,\n",
    "        f.col(\"cell_name_adjusted\").alias(\"cell_name\"),\n",
    "        locglbl.mcc,\n",
    "        locglbl.mnc,\n",
    "        site_df.state\n",
    "    )\n",
    ")\n",
    "cell_info"
   ]
  },
  {
   "cell_type": "code",
   "execution_count": null,
   "id": "a36426cd",
   "metadata": {},
   "outputs": [],
   "source": []
  },
  {
   "cell_type": "code",
   "execution_count": 119,
   "id": "33a53010",
   "metadata": {},
   "outputs": [
    {
     "data": {
      "application/vnd.jupyter.widget-view+json": {
       "model_id": "",
       "version_major": 2,
       "version_minor": 0
      },
      "text/plain": [
       "FloatProgress(value=0.0, bar_style='info', description='Progress:', layout=Layout(height='25px', width='50%'),…"
      ]
     },
     "metadata": {},
     "output_type": "display_data"
    },
    {
     "name": "stdout",
     "output_type": "stream",
     "text": [
      "+--------------------------+--------------------------+-----------------------------+---+---+---------------+-------+------------------------+\n",
      "|glbl_loc                  |glbl_loc_id               |cell_name                    |mcc|mnc|state          |m2000id|sector_name             |\n",
      "+--------------------------+--------------------------+-----------------------------+---+---+---------------+-------+------------------------+\n",
      "|U_505_03_00345__7264_     |U_505_03_00345_07264_07264|303455_MillPark_U21B_1       |505|03 |Victoria       |303455 |303455_MillPark_1       |\n",
      "|L_505_03__20282__006112278|L_505_03_20282_|_006112278|201593_CampsieNorth_L18B_2   |505|03 |New South Wales|201593 |201593_CampsieNorth_2   |\n",
      "|L_505_03__30345__8471850  |L_505_03_30345_|_008471850|338598_Greensborough_L21H_2  |505|03 |Victoria       |338598 |338598_Greensborough_2  |\n",
      "|L_505_03__30338__7707966  |L_505_03_30338_|_007707966|303039_DocklandsStadm_L18A_12|505|03 |Victoria       |303039 |303039_DocklandsStadm_12|\n",
      "|L_505_03__50538__12845600 |L_505_03_50538_|_012845600|505224_MtBarkerSouth_L08B_2  |505|03 |South Australia|505224 |505224_MtBarkerSouth_2  |\n",
      "+--------------------------+--------------------------+-----------------------------+---+---+---------------+-------+------------------------+\n",
      "only showing top 5 rows"
     ]
    }
   ],
   "source": [
    "cell_info = cell_info.withColumn('m2000id', f.split('cell_name', '_').getItem(0).cast('string'))\n",
    "cell_info = cell_info.withColumn('sector_name', resolve_sector_name(f.col('cell_name')))\n",
    "cell_info.persist()\n",
    "cell_info.show(5, False)"
   ]
  },
  {
   "cell_type": "code",
   "execution_count": 120,
   "id": "f8c2c4f2",
   "metadata": {},
   "outputs": [
    {
     "data": {
      "application/vnd.jupyter.widget-view+json": {
       "model_id": "",
       "version_major": 2,
       "version_minor": 0
      },
      "text/plain": [
       "FloatProgress(value=0.0, bar_style='info', description='Progress:', layout=Layout(height='25px', width='50%'),…"
      ]
     },
     "metadata": {},
     "output_type": "display_data"
    },
    {
     "name": "stdout",
     "output_type": "stream",
     "text": [
      "+-------------------+-------------+------+--------------------+--------+--------------------+------+-------+----+-------------+---------------+\n",
      "|    event_timestamp|event_type_cd|result|            loc_info|     TAC|             Subs_Id|prefix|matched|hour|regular_event|irregular_event|\n",
      "+-------------------+-------------+------+--------------------+--------+--------------------+------+-------+----+-------------+---------------+\n",
      "|2023-01-10 10:14:09|           15|     0|U_505_03_336__16283_|14869004|063d6b4f880e925a9...|   118|  false|  10|            0|              1|\n",
      "|2023-01-10 20:20:39|           15|     0|  U_505_03_336__640_|14869004|063d6b4f880e925a9...|   118|  false|  20|            0|              1|\n",
      "|2023-01-10 13:23:19|           15|     0|  U_505_03_336__840_|14869004|063d6b4f880e925a9...|   118|  false|  13|            0|              1|\n",
      "|2023-01-10 00:46:22|           15|     0|  U_505_03_336__640_|14869004|063d6b4f880e925a9...|   118|  false|   0|            0|              1|\n",
      "|2023-01-10 06:02:05|           15|     0|  U_505_03_336__640_|14869004|063d6b4f880e925a9...|   118|  false|   6|            0|              1|\n",
      "|2023-01-10 09:11:05|           15|     0|  U_505_03_336__640_|14869004|063d6b4f880e925a9...|   118|  false|   9|            0|              1|\n",
      "|2023-01-10 15:20:29|           15|     0|  U_505_03_336__640_|14869004|063d6b4f880e925a9...|   118|  false|  15|            0|              1|\n",
      "|2023-01-10 22:57:48|           15|     0|  U_505_03_336__640_|14869004|063d6b4f880e925a9...|   118|  false|  22|            0|              1|\n",
      "|2023-01-10 15:20:29|            4|     0|  U_505_03_336__640_|14869004|063d6b4f880e925a9...|   118|  false|  15|            0|              1|\n",
      "|2023-01-10 04:27:17|           15|     0|  U_505_03_336__845_|14869004|063d6b4f880e925a9...|   118|  false|   4|            0|              1|\n",
      "|2023-01-10 07:05:03|           15|     0|U_505_03_336__16283_|14869004|063d6b4f880e925a9...|   118|  false|   7|            0|              1|\n",
      "|2023-01-10 19:17:41|           15|     0|  U_505_03_336__640_|14869004|063d6b4f880e925a9...|   118|  false|  19|            0|              1|\n",
      "|2023-01-10 12:51:41|           15|     0|  U_505_03_336__840_|14869004|063d6b4f880e925a9...|   118|  false|  12|            0|              1|\n",
      "|2023-01-10 01:49:40|           15|     0|  U_505_03_336__640_|14869004|063d6b4f880e925a9...|   118|  false|   1|            0|              1|\n",
      "|2023-01-10 18:14:45|           15|     0|  U_505_03_336__640_|14869004|063d6b4f880e925a9...|   118|  false|  18|            0|              1|\n",
      "|2023-01-10 01:18:02|           15|     0|  U_505_03_336__640_|14869004|063d6b4f880e925a9...|   118|  false|   1|            0|              1|\n",
      "|2023-01-10 21:54:57|           15|     0|  U_505_03_336__640_|14869004|063d6b4f880e925a9...|   118|  false|  21|            0|              1|\n",
      "|2023-01-10 05:30:31|           15|     0|  U_505_03_336__640_|14869004|063d6b4f880e925a9...|   118|  false|   5|            0|              1|\n",
      "|2023-01-10 20:52:07|           15|     0|  U_505_03_336__640_|14869004|063d6b4f880e925a9...|   118|  false|  20|            0|              1|\n",
      "|2023-01-10 16:32:42|           15|     0|U_505_03_336__16283_|14869004|063d6b4f880e925a9...|   118|  false|  16|            0|              1|\n",
      "+-------------------+-------------+------+--------------------+--------+--------------------+------+-------+----+-------------+---------------+\n",
      "only showing top 20 rows"
     ]
    }
   ],
   "source": [
    "@f.udf(returnType=IntegerType())\n",
    "def is_regular(e):\n",
    "    if int(e) in [13, 7, 22, 26, 30, 23, 24, 25]:\n",
    "        return 1\n",
    "    else:\n",
    "        return 0\n",
    "@f.udf(returnType=IntegerType())\n",
    "def is_irregular(e):\n",
    "    if int(e) in [13, 7, 22, 26, 30, 23, 24, 25]:\n",
    "        return 0\n",
    "    else:\n",
    "        return 1\n",
    "\n",
    "eventdf = eventdf.withColumn('hour', f.hour('event_timestamp'))\n",
    "eventdf = eventdf.withColumn(\n",
    "    'regular_event', is_regular(f.col('event_type_cd'))\n",
    ").withColumn(\n",
    "    'irregular_event', is_irregular(f.col('event_type_cd'))\n",
    ")\n",
    "eventdf.show()\n"
   ]
  },
  {
   "cell_type": "code",
   "execution_count": 121,
   "id": "1a69be2e",
   "metadata": {},
   "outputs": [
    {
     "data": {
      "application/vnd.jupyter.widget-view+json": {
       "model_id": "",
       "version_major": 2,
       "version_minor": 0
      },
      "text/plain": [
       "FloatProgress(value=0.0, bar_style='info', description='Progress:', layout=Layout(height='25px', width='50%'),…"
      ]
     },
     "metadata": {},
     "output_type": "display_data"
    },
    {
     "name": "stdout",
     "output_type": "stream",
     "text": [
      "+--------+---------------+--------+\n",
      "|M2000_ID|State          |timezone|\n",
      "+--------+---------------+--------+\n",
      "|202096  |New South Wales|null    |\n",
      "|444470  |Queensland     |null    |\n",
      "|202670  |New South Wales|null    |\n",
      "|404682  |Queensland     |null    |\n",
      "|220130  |New South Wales|null    |\n",
      "+--------+---------------+--------+\n",
      "only showing top 5 rows"
     ]
    }
   ],
   "source": [
    "# site timezone\n",
    "site_tz = spark.read.csv('s3://kl-prod-bi-analy-data-extract/data/kl-prod/site_timezone/part_dt=2023-01-11/', header=True)\n",
    "site_tz.show(5, False)"
   ]
  },
  {
   "cell_type": "code",
   "execution_count": 122,
   "id": "c74a4808",
   "metadata": {},
   "outputs": [
    {
     "data": {
      "application/vnd.jupyter.widget-view+json": {
       "model_id": "",
       "version_major": 2,
       "version_minor": 0
      },
      "text/plain": [
       "FloatProgress(value=0.0, bar_style='info', description='Progress:', layout=Layout(height='25px', width='50%'),…"
      ]
     },
     "metadata": {},
     "output_type": "display_data"
    },
    {
     "name": "stdout",
     "output_type": "stream",
     "text": [
      "+-------------------+------------------------+---------+--------+------------------+------------------------+----------------------------------+------------------+----------------------+--------------------+----------------------+-------------+-------------+-----------+-----------+----+\n",
      "|starttime          |sector_name             |multibeam|m2000_id|prb_dl_util_pct   |weighted_prb_dl_util_pct|prb_dl_util_pct_multibeam_weighted|utilisation       |chmeas_prb_dl_used_avg|mean_prb_avail_pdsch|traf_activeuser_dl_avg|thrp_dl_qci_8|thrp_ul_qci_8|dlpayload  |ulpayload  |hour|\n",
      "+-------------------+------------------------+---------+--------+------------------+------------------------+----------------------------------+------------------+----------------------+--------------------+----------------------+-------------+-------------+-----------+-----------+----+\n",
      "|2023-01-10 00:00:00|200027_MLCCentre_1      |0        |200027  |1.5300000000000002|1.5300000000000002      |1.5300000000000002                |1.5300000000000002|3.0600000000000005    |200                 |0.04                  |19559.8033   |747.2351     |686960096  |686960096  |0   |\n",
      "|2023-01-10 00:00:00|200028_AustraliaSquare_1|0        |200028  |1.78              |null                    |1.78                              |1.78              |0.89                  |50                  |0.0                   |9370.9340    |1758.0226    |30380824   |30380824   |0   |\n",
      "|2023-01-10 00:00:00|200031_ChifleyTwr_1     |0        |200031  |5.91              |5.909999999999999       |5.91                              |5.91              |11.82                 |200                 |0.14                  |33855.4434   |2564.5319    |11810827976|11810827976|0   |\n",
      "|2023-01-10 00:00:00|200032_GrosvenorPlace_1 |0        |200032  |1.26              |null                    |1.26                              |1.26              |2.52                  |200                 |0.0                   |null         |null         |0          |0          |0   |\n",
      "|2023-01-10 00:00:00|200032_GrosvenorPlace_2 |0        |200032  |1.265             |null                    |1.265                             |1.265             |2.53                  |200                 |0.0                   |2074.5046    |782.9112     |1808968    |1808968    |0   |\n",
      "+-------------------+------------------------+---------+--------+------------------+------------------------+----------------------------------+------------------+----------------------+--------------------+----------------------+-------------+-------------+-----------+-----------+----+\n",
      "only showing top 5 rows"
     ]
    }
   ],
   "source": [
    "utilisation = spark.read.parquet('s3://kl-prod-bi-analy-data-extract/features/kl-prod/ICE/RAN_util_hr_multibeam/part_dt=2023-01-11/')\n",
    "utilisation = utilisation.withColumn('hour', f.hour('starttime'))\n",
    "utilisation.show(5, False)"
   ]
  },
  {
   "cell_type": "markdown",
   "id": "03153f24",
   "metadata": {},
   "source": [
    "## Get Valid Data for a set of sectors"
   ]
  },
  {
   "cell_type": "code",
   "execution_count": null,
   "id": "f5624a4a",
   "metadata": {},
   "outputs": [],
   "source": [
    "# flat_event = eventdf.join(\n",
    "#     cell_info,\n",
    "#     on=eventdf.loc_info==cell_info.glbl_loc\n",
    "# ).drop('glbl_loc', 'glbl_loc_id', 'loc_info', 'mcc', 'mnc').join(\n",
    "#     utilisation,\n",
    "#     on=['hour', 'sector_name']\n",
    "# )\n",
    "# flat_event.persist()\n",
    "# flat_event.count()"
   ]
  },
  {
   "cell_type": "code",
   "execution_count": null,
   "id": "7f9b2d26",
   "metadata": {
    "scrolled": true
   },
   "outputs": [],
   "source": [
    "# flat_event.show()"
   ]
  },
  {
   "cell_type": "code",
   "execution_count": null,
   "id": "28e3fdeb",
   "metadata": {},
   "outputs": [],
   "source": [
    "# flat_event = flat_event.select(\n",
    "#     'hour', 'Subs_Id', 'cell_name', 'sector_name', 'event_type_cd', 'regular_event', 'irregular_event', 'utilisation', 'state'\n",
    "# ).filter('utilisation IS NOT NULL AND Subs_Id IS NOT NULL AND length(Subs_Id) < 10')\n",
    "\n",
    "# flat_event.write.mode('overwrite').parquet('s3://kl-prod-tpgt-knowledge-lake-sandpit/TempDir/tmp/case_study/dataset_sector/flat_event/')"
   ]
  },
  {
   "cell_type": "code",
   "execution_count": 123,
   "id": "6c034d3b",
   "metadata": {
    "scrolled": true
   },
   "outputs": [
    {
     "data": {
      "application/vnd.jupyter.widget-view+json": {
       "model_id": "",
       "version_major": 2,
       "version_minor": 0
      },
      "text/plain": [
       "FloatProgress(value=0.0, bar_style='info', description='Progress:', layout=Layout(height='25px', width='50%'),…"
      ]
     },
     "metadata": {},
     "output_type": "display_data"
    },
    {
     "name": "stdout",
     "output_type": "stream",
     "text": [
      "+----+---------+--------------------+--------------------+-------------+-------------+---------------+-----------+---------------+\n",
      "|hour|  Subs_Id|           cell_name|         sector_name|event_type_cd|regular_event|irregular_event|utilisation|          state|\n",
      "+----+---------+--------------------+--------------------+-------------+-------------+---------------+-----------+---------------+\n",
      "|  20|354931842|202926_Bronte_L18A_3|     202926_Bronte_3|            7|            1|              0|         88|New South Wales|\n",
      "|   9|354931842|201522_Waterloo_L...|   201522_Waterloo_1|            8|            0|              1|         21|New South Wales|\n",
      "|  11|354931842|202926_Bronte_L18A_3|     202926_Bronte_3|           13|            1|              0|         53|New South Wales|\n",
      "|   9|354931842|201522_Waterloo_L...|   201522_Waterloo_2|           13|            1|              0|         32|New South Wales|\n",
      "|   6|354931842|227393_Coogee_L08A_3|     227393_Coogee_3|            7|            1|              0|         39|New South Wales|\n",
      "|   9|354931842|201522_Waterloo_U...|   201522_Waterloo_3|            2|            0|              1|         46|New South Wales|\n",
      "|   9|354931842|201522_Waterloo_L...|   201522_Waterloo_2|           13|            1|              0|         32|New South Wales|\n",
      "|   6|354931842|227393_Coogee_L18A_3|     227393_Coogee_3|            7|            1|              0|         39|New South Wales|\n",
      "|   6|354931842|202926_Bronte_L08A_2|     202926_Bronte_2|           13|            1|              0|         27|New South Wales|\n",
      "|  17|354931842|227652_BritAmerTo...|227652_BritAmerTo...|            7|            1|              0|         19|New South Wales|\n",
      "|   6|354931842|202926_Bronte_L18B_2|     202926_Bronte_2|            7|            1|              0|         27|New South Wales|\n",
      "|  17|354931842|227476_MaroubraBe...|227476_MaroubraBe...|            7|            1|              0|         51|New South Wales|\n",
      "|  17|354931842|227476_MaroubraBe...|227476_MaroubraBe...|            7|            1|              0|         51|New South Wales|\n",
      "|   6|354931842|202926_Bronte_L18B_3|     202926_Bronte_3|            7|            1|              0|         28|New South Wales|\n",
      "|   6|354931842|202926_Bronte_L18B_3|     202926_Bronte_3|            7|            1|              0|         28|New South Wales|\n",
      "|   6|354931842|202926_Bronte_L18B_2|     202926_Bronte_2|            7|            1|              0|         27|New South Wales|\n",
      "|   6|354931842|202926_Bronte_L18B_2|     202926_Bronte_2|            7|            1|              0|         27|New South Wales|\n",
      "|   6|354931842|202926_Bronte_L18B_2|     202926_Bronte_2|            7|            1|              0|         27|New South Wales|\n",
      "|   3|354931842|202926_Bronte_L08A_3|     202926_Bronte_3|           16|            0|              1|          8|New South Wales|\n",
      "|   8|354931842|202583_RandwickCe...|202583_RandwickCe...|            7|            1|              0|         30|New South Wales|\n",
      "+----+---------+--------------------+--------------------+-------------+-------------+---------------+-----------+---------------+\n",
      "only showing top 20 rows"
     ]
    }
   ],
   "source": [
    "flat_event = spark.read.parquet('s3://kl-prod-tpgt-knowledge-lake-sandpit/TempDir/tmp/case_study/dataset_sector/flat_event/')\n",
    "flat_event = flat_event.withColumn(\n",
    "    'utilisation', f.col('utilisation').cast('int')\n",
    ")\n",
    "\n",
    "flat_event.show()"
   ]
  },
  {
   "cell_type": "code",
   "execution_count": 124,
   "id": "fbaa3360",
   "metadata": {
    "scrolled": true
   },
   "outputs": [
    {
     "data": {
      "application/vnd.jupyter.widget-view+json": {
       "model_id": "",
       "version_major": 2,
       "version_minor": 0
      },
      "text/plain": [
       "FloatProgress(value=0.0, bar_style='info', description='Progress:', layout=Layout(height='25px', width='50%'),…"
      ]
     },
     "metadata": {},
     "output_type": "display_data"
    },
    {
     "name": "stdout",
     "output_type": "stream",
     "text": [
      "+--------------------+----+-----------+\n",
      "|         sector_name|hour|utilisation|\n",
      "+--------------------+----+-----------+\n",
      "|200499_RNSHospital_2|  12|         99|\n",
      "|200499_RNSHospital_2|  11|         99|\n",
      "|200499_RNSHospital_2|  10|         99|\n",
      "|227592_Cabramatta...|  18|         98|\n",
      "|227592_Cabramatta...|  19|         98|\n",
      "|   227591_Carramar_1|  16|         98|\n",
      "|201803_Penhust594...|  13|         98|\n",
      "|  227705_KingsPark_2|  16|         98|\n",
      "|  202356_NelsonBay_2|  19|         98|\n",
      "|201710_LiverpoolN...|  20|         98|\n",
      "|202803_FairfieldS...|  14|         98|\n",
      "|202803_FairfieldS...|  20|         98|\n",
      "|227592_Cabramatta...|  14|         98|\n",
      "|404574_GladstoneC...|  19|         98|\n",
      "|202803_FairfieldS...|  15|         98|\n",
      "|   227591_Carramar_1|  15|         98|\n",
      "|     477396_Noosa2_1|  14|         98|\n",
      "|404168_Flindersvi...|  20|         98|\n",
      "|     477396_Noosa2_1|  13|         98|\n",
      "|     477396_Noosa2_1|  15|         98|\n",
      "+--------------------+----+-----------+\n",
      "only showing top 20 rows"
     ]
    }
   ],
   "source": [
    "flat_event.select(\n",
    "    'sector_name', 'hour', 'utilisation'\n",
    ").dropDuplicates().orderBy(f.col('utilisation').desc()).show()"
   ]
  },
  {
   "cell_type": "code",
   "execution_count": 125,
   "id": "55b155be",
   "metadata": {
    "scrolled": true
   },
   "outputs": [
    {
     "data": {
      "application/vnd.jupyter.widget-view+json": {
       "model_id": "",
       "version_major": 2,
       "version_minor": 0
      },
      "text/plain": [
       "FloatProgress(value=0.0, bar_style='info', description='Progress:', layout=Layout(height='25px', width='50%'),…"
      ]
     },
     "metadata": {},
     "output_type": "display_data"
    },
    {
     "name": "stdout",
     "output_type": "stream",
     "text": [
      "+-----------+-----+\n",
      "|utilisation|count|\n",
      "+-----------+-----+\n",
      "|          3|11050|\n",
      "|          2|10609|\n",
      "|          4| 9576|\n",
      "|          5| 8223|\n",
      "|          1| 7918|\n",
      "|          6| 7618|\n",
      "|          7| 6871|\n",
      "|          8| 6393|\n",
      "|          9| 6134|\n",
      "|         10| 5600|\n",
      "|         11| 5280|\n",
      "|         12| 5115|\n",
      "|         13| 4701|\n",
      "|         14| 4490|\n",
      "|         15| 4295|\n",
      "|         16| 4167|\n",
      "|         17| 3921|\n",
      "|         18| 3650|\n",
      "|         19| 3527|\n",
      "|         20| 3426|\n",
      "+-----------+-----+\n",
      "only showing top 20 rows"
     ]
    }
   ],
   "source": [
    "flat_event.select(\n",
    "    'sector_name', 'hour', 'utilisation'\n",
    ").dropDuplicates().groupBy('utilisation').count().orderBy(f.col('count').desc()).show()"
   ]
  },
  {
   "cell_type": "code",
   "execution_count": 126,
   "id": "e593f6a4",
   "metadata": {},
   "outputs": [
    {
     "data": {
      "application/vnd.jupyter.widget-view+json": {
       "model_id": "",
       "version_major": 2,
       "version_minor": 0
      },
      "text/plain": [
       "FloatProgress(value=0.0, bar_style='info', description='Progress:', layout=Layout(height='25px', width='50%'),…"
      ]
     },
     "metadata": {},
     "output_type": "display_data"
    },
    {
     "name": "stdout",
     "output_type": "stream",
     "text": [
      "+-------------------+----+-----+\n",
      "|        sector_name|hour|count|\n",
      "+-------------------+----+-----+\n",
      "|   201557_Lambton_2|  17|59438|\n",
      "|   201557_Lambton_2|  20|51498|\n",
      "|   201557_Lambton_2|  19|51191|\n",
      "|    227393_Coogee_3|  17|50021|\n",
      "|   201557_Lambton_2|  18|49817|\n",
      "|227994_PenrithCBD_3|  11|49808|\n",
      "|227994_PenrithCBD_3|  12|48072|\n",
      "|    227393_Coogee_3|  14|47996|\n",
      "|    227393_Coogee_3|  13|47888|\n",
      "|202934_Camperdown_3|  16|47851|\n",
      "|    227393_Coogee_3|  16|47699|\n",
      "|340194_ClydeNorth_2|  17|47055|\n",
      "|227994_PenrithCBD_3|  13|46968|\n",
      "|    227393_Coogee_3|  12|46931|\n",
      "|340194_ClydeNorth_2|  18|46802|\n",
      "|227994_PenrithCBD_3|  10|46438|\n",
      "|    227393_Coogee_3|  15|45627|\n",
      "|340194_ClydeNorth_2|  16|45312|\n",
      "|340194_ClydeNorth_2|  19|44827|\n",
      "|    227393_Coogee_3|  18|44499|\n",
      "+-------------------+----+-----+\n",
      "only showing top 20 rows"
     ]
    }
   ],
   "source": [
    "flat_event.groupBy('sector_name', 'hour').count().orderBy(f.col('count').desc()).show()"
   ]
  },
  {
   "cell_type": "code",
   "execution_count": 127,
   "id": "ca0686cf",
   "metadata": {
    "scrolled": true
   },
   "outputs": [
    {
     "data": {
      "application/vnd.jupyter.widget-view+json": {
       "model_id": "",
       "version_major": 2,
       "version_minor": 0
      },
      "text/plain": [
       "FloatProgress(value=0.0, bar_style='info', description='Progress:', layout=Layout(height='25px', width='50%'),…"
      ]
     },
     "metadata": {},
     "output_type": "display_data"
    },
    {
     "name": "stdout",
     "output_type": "stream",
     "text": [
      "+--------------------+----+-----+\n",
      "|         sector_name|hour|count|\n",
      "+--------------------+----+-----+\n",
      "|202101_MillersPoi...|  16| 8724|\n",
      "| 202934_Camperdown_3|  16| 8707|\n",
      "|227778_TownHallSRA_2|  16| 8062|\n",
      "|303146_FlindersSt...|  16| 7903|\n",
      "|202101_MillersPoi...|   7| 7717|\n",
      "|227572_NorthAuburn_2|  16| 7688|\n",
      "| 202934_Camperdown_3|   7| 7664|\n",
      "|200253_CntlTwnHal...|  16| 7282|\n",
      "|201850_Strawberry...|  16| 6955|\n",
      "| 202934_Camperdown_3|  15| 6943|\n",
      "|227572_NorthAuburn_2|  15| 6865|\n",
      "|227712_DulwichHil...|  16| 6757|\n",
      "|227778_TownHallSRA_2|   7| 6720|\n",
      "|303146_FlindersSt...|   7| 6529|\n",
      "|227480_SurryHills...|  16| 6458|\n",
      "|    227513_MtLewis_1|  16| 6426|\n",
      "| 202934_Camperdown_3|  17| 6422|\n",
      "|200258_MusmCtlTwn...|  16| 6314|\n",
      "|227572_NorthAuburn_2|  14| 6273|\n",
      "|227572_NorthAuburn_2|  17| 6262|\n",
      "+--------------------+----+-----+\n",
      "only showing top 20 rows"
     ]
    }
   ],
   "source": [
    "flat_event.groupBy('sector_name', 'hour').agg(f.countDistinct('Subs_Id').alias('count')).orderBy(f.col('count').desc()).show()"
   ]
  },
  {
   "cell_type": "code",
   "execution_count": 128,
   "id": "fa185bc5",
   "metadata": {},
   "outputs": [
    {
     "data": {
      "application/vnd.jupyter.widget-view+json": {
       "model_id": "",
       "version_major": 2,
       "version_minor": 0
      },
      "text/plain": [
       "FloatProgress(value=0.0, bar_style='info', description='Progress:', layout=Layout(height='25px', width='50%'),…"
      ]
     },
     "metadata": {},
     "output_type": "display_data"
    },
    {
     "name": "stdout",
     "output_type": "stream",
     "text": [
      "+---------+----+-----+\n",
      "|  Subs_Id|hour|count|\n",
      "+---------+----+-----+\n",
      "|367441676|  14|   74|\n",
      "|391419389|  10|   70|\n",
      "|372354612|  11|   67|\n",
      "|388852765|  11|   67|\n",
      "|390914401|  10|   66|\n",
      "|371435688|   8|   66|\n",
      "|383291285|  11|   65|\n",
      "|318555605|  12|   64|\n",
      "|385706256|  11|   63|\n",
      "|379378503|   6|   63|\n",
      "|390291923|  20|   62|\n",
      "|391376089|  20|   62|\n",
      "|372969865|  17|   62|\n",
      "|387597406|   6|   62|\n",
      "|366325375|   5|   62|\n",
      "|388528039|  15|   61|\n",
      "|390192219|  10|   61|\n",
      "|380536297|  14|   61|\n",
      "|389269282|   9|   61|\n",
      "|390817038|   5|   61|\n",
      "+---------+----+-----+\n",
      "only showing top 20 rows"
     ]
    }
   ],
   "source": [
    "flat_event.groupBy('Subs_Id', 'hour').agg(f.countDistinct('sector_name').alias('count')).orderBy(f.col('count').desc()).show()\n"
   ]
  },
  {
   "cell_type": "code",
   "execution_count": 129,
   "id": "12ed43cf",
   "metadata": {},
   "outputs": [
    {
     "data": {
      "application/vnd.jupyter.widget-view+json": {
       "model_id": "",
       "version_major": 2,
       "version_minor": 0
      },
      "text/plain": [
       "FloatProgress(value=0.0, bar_style='info', description='Progress:', layout=Layout(height='25px', width='50%'),…"
      ]
     },
     "metadata": {},
     "output_type": "display_data"
    }
   ],
   "source": [
    "@f.udf(returnType=IntegerType())\n",
    "def calc_weighted_utilisation(event_list):\n",
    "    sector_dict = {}\n",
    "    for e in event_list:\n",
    "        if e[1] not in sector_dict.keys():\n",
    "            sector_dict[e[1]] = {'events': 0, 'util': 0}\n",
    "        sector_dict[e[1]]['events'] += e[0]\n",
    "        sector_dict[e[1]]['util'] = e[2]\n",
    "    \n",
    "    total = sum([v['events'] for k, v in sector_dict.items()])\n",
    "    \n",
    "    weighted = [v['events'] / total for k, v in sector_dict.items()]\n",
    "    utils = [v['util'] for k, v in sector_dict.items()]\n",
    "    \n",
    "    final = 0\n",
    "    for w, u in zip(weighted, utils):\n",
    "        final += 1.0 * w * u\n",
    "    return int(final)\n",
    "        \n",
    "        "
   ]
  },
  {
   "cell_type": "code",
   "execution_count": 130,
   "id": "e9ed764d",
   "metadata": {},
   "outputs": [
    {
     "data": {
      "application/vnd.jupyter.widget-view+json": {
       "model_id": "",
       "version_major": 2,
       "version_minor": 0
      },
      "text/plain": [
       "FloatProgress(value=0.0, bar_style='info', description='Progress:', layout=Layout(height='25px', width='50%'),…"
      ]
     },
     "metadata": {},
     "output_type": "display_data"
    }
   ],
   "source": [
    "def create_subs_sector_features(event_df):\n",
    "    subs_events = event_df.withColumn(\n",
    "            'total_subs_event', f.col('regular_event') + f.col('irregular_event')\n",
    "    ).groupBy('hour', 'Subs_Id').agg(\n",
    "        f.sum('regular_event').alias('regular_event_sum'),\n",
    "        f.sum('irregular_event').alias('irregular_event_sum'),\n",
    "        calc_weighted_utilisation(f.collect_list(f.struct('total_subs_event', 'sector_name', 'utilisation'))).alias('weighted_util')\n",
    "    ).withColumn(\n",
    "        'irregular_pct', 1.0 * f.col('irregular_event_sum') / (f.col('regular_event_sum') + f.col('irregular_event_sum'))\n",
    "    )\n",
    "    subs_events.persist()\n",
    "    subs_events.show()\n",
    "    \n",
    "    sector_events = event_df.groupBy('hour', 'sector_name').agg(\n",
    "        f.sum('regular_event').alias('regular_event_sum'),\n",
    "        f.sum('irregular_event').alias('irregular_event_sum'),\n",
    "        f.max('utilisation').alias('weighted_util')\n",
    "    ).withColumn(\n",
    "        'irregular_pct', 1.0 * f.col('irregular_event_sum') / (f.col('regular_event_sum') + f.col('irregular_event_sum'))\n",
    "    )\n",
    "    sector_events.persist()\n",
    "    sector_events.show()\n",
    "    \n",
    "    return subs_events, sector_events"
   ]
  },
  {
   "cell_type": "code",
   "execution_count": 131,
   "id": "0aa3cec8",
   "metadata": {},
   "outputs": [
    {
     "data": {
      "application/vnd.jupyter.widget-view+json": {
       "model_id": "",
       "version_major": 2,
       "version_minor": 0
      },
      "text/plain": [
       "FloatProgress(value=0.0, bar_style='info', description='Progress:', layout=Layout(height='25px', width='50%'),…"
      ]
     },
     "metadata": {},
     "output_type": "display_data"
    }
   ],
   "source": [
    "# subs_events.write.parquet(\n",
    "#     's3://kl-prod-tpgt-knowledge-lake-sandpit/TempDir/tmp/case_study/dataset_sector/subs_event/')"
   ]
  },
  {
   "cell_type": "code",
   "execution_count": 132,
   "id": "223b9204",
   "metadata": {},
   "outputs": [
    {
     "data": {
      "application/vnd.jupyter.widget-view+json": {
       "model_id": "",
       "version_major": 2,
       "version_minor": 0
      },
      "text/plain": [
       "FloatProgress(value=0.0, bar_style='info', description='Progress:', layout=Layout(height='25px', width='50%'),…"
      ]
     },
     "metadata": {},
     "output_type": "display_data"
    }
   ],
   "source": [
    "# sector_events.write.parquet(\n",
    "#     's3://kl-prod-tpgt-knowledge-lake-sandpit/TempDir/tmp/case_study/dataset_sector/sector_event/')"
   ]
  },
  {
   "cell_type": "markdown",
   "id": "3afa165c",
   "metadata": {},
   "source": [
    "# Form Trace Event Dataset"
   ]
  },
  {
   "cell_type": "code",
   "execution_count": 133,
   "id": "77c65ed6",
   "metadata": {},
   "outputs": [
    {
     "data": {
      "application/vnd.jupyter.widget-view+json": {
       "model_id": "",
       "version_major": 2,
       "version_minor": 0
      },
      "text/plain": [
       "FloatProgress(value=0.0, bar_style='info', description='Progress:', layout=Layout(height='25px', width='50%'),…"
      ]
     },
     "metadata": {},
     "output_type": "display_data"
    }
   ],
   "source": [
    "# flat_event = spark.read.parquet('s3://kl-prod-tpgt-knowledge-lake-sandpit/TempDir/tmp/case_study/dataset_sector/flat_event/')\n",
    "# flat_event = flat_event.withColumn(\n",
    "#     'utilisation', f.col('utilisation').cast('int')\n",
    "# )\n",
    "\n",
    "# flat_event.show()"
   ]
  },
  {
   "cell_type": "code",
   "execution_count": 148,
   "id": "0ca0a042",
   "metadata": {},
   "outputs": [
    {
     "data": {
      "application/vnd.jupyter.widget-view+json": {
       "model_id": "",
       "version_major": 2,
       "version_minor": 0
      },
      "text/plain": [
       "FloatProgress(value=0.0, bar_style='info', description='Progress:', layout=Layout(height='25px', width='50%'),…"
      ]
     },
     "metadata": {},
     "output_type": "display_data"
    },
    {
     "name": "stdout",
     "output_type": "stream",
     "text": [
      "+----+--------------------+--------+\n",
      "|hour|         sector_name|trace_id|\n",
      "+----+--------------------+--------+\n",
      "|   0|200040_MacquarieS...|       0|\n",
      "|   0|200046_StarCityHo...|       1|\n",
      "|   0|200130_MGLBuilding_2|       2|\n",
      "|   0| 200132_WavertonRS_1|       3|\n",
      "|   0|200140_DarlingPar...|       4|\n",
      "|   0|200219_AuroraPlace_4|       5|\n",
      "|   0|200241_MMCDarling...|       6|\n",
      "|   0|200247_WynyardNor...|       7|\n",
      "|   0|200340_HumeThomas...|       8|\n",
      "|   0|200359_CounselCha...|       9|\n",
      "|   0|200424_PenrithPla...|      10|\n",
      "|   0| 200433_WodenPlaza_1|      11|\n",
      "|   0|    201489_Waratah_2|      12|\n",
      "|   0|201520_HomebushBa...|      13|\n",
      "|   0|201520_HomebushBa...|      14|\n",
      "|   0|201529_SouthBlack...|      15|\n",
      "|   0|201543_GlebeIsland_2|      16|\n",
      "|   0|  201546_CrowsNest_1|      17|\n",
      "|   0|201548_M5EastFrwa...|      18|\n",
      "|   0|201563_UltimoSouth_1|      19|\n",
      "+----+--------------------+--------+\n",
      "only showing top 20 rows\n",
      "\n",
      "21849"
     ]
    }
   ],
   "source": [
    "# form trace_id selection\n",
    "trace_ids = flat_event.select('hour', 'sector_name').dropDuplicates().sample(fraction=0.1).withColumn(\n",
    "    'trace_id', f.row_number().over(Window.orderBy('hour', 'sector_name')) - 1\n",
    ")\n",
    "trace_ids.persist()\n",
    "trace_ids.show()\n",
    "trace_ids.count()"
   ]
  },
  {
   "cell_type": "code",
   "execution_count": 149,
   "id": "e0b6b10c",
   "metadata": {},
   "outputs": [
    {
     "data": {
      "application/vnd.jupyter.widget-view+json": {
       "model_id": "",
       "version_major": 2,
       "version_minor": 0
      },
      "text/plain": [
       "FloatProgress(value=0.0, bar_style='info', description='Progress:', layout=Layout(height='25px', width='50%'),…"
      ]
     },
     "metadata": {},
     "output_type": "display_data"
    },
    {
     "name": "stdout",
     "output_type": "stream",
     "text": [
      "79667109"
     ]
    }
   ],
   "source": [
    "trace_event = flat_event.join(\n",
    "    trace_ids,\n",
    "    on=['hour', 'sector_name']\n",
    ")\n",
    "trace_event.count()"
   ]
  },
  {
   "cell_type": "code",
   "execution_count": 151,
   "id": "17bc2809",
   "metadata": {},
   "outputs": [
    {
     "data": {
      "application/vnd.jupyter.widget-view+json": {
       "model_id": "",
       "version_major": 2,
       "version_minor": 0
      },
      "text/plain": [
       "FloatProgress(value=0.0, bar_style='info', description='Progress:', layout=Layout(height='25px', width='50%'),…"
      ]
     },
     "metadata": {},
     "output_type": "display_data"
    }
   ],
   "source": [
    "# trace_event.write.mode('overwrite').parquet(\n",
    "#     's3://kl-prod-tpgt-knowledge-lake-sandpit/TempDir/tmp/case_study/dataset_sector/trace_event/')\n",
    "\n",
    "trace_event = spark.read.parquet(\n",
    "    's3://kl-prod-tpgt-knowledge-lake-sandpit/TempDir/tmp/case_study/dataset_sector/trace_event/')"
   ]
  },
  {
   "cell_type": "code",
   "execution_count": 152,
   "id": "1d944858",
   "metadata": {
    "scrolled": true
   },
   "outputs": [
    {
     "data": {
      "application/vnd.jupyter.widget-view+json": {
       "model_id": "",
       "version_major": 2,
       "version_minor": 0
      },
      "text/plain": [
       "FloatProgress(value=0.0, bar_style='info', description='Progress:', layout=Layout(height='25px', width='50%'),…"
      ]
     },
     "metadata": {},
     "output_type": "display_data"
    },
    {
     "name": "stdout",
     "output_type": "stream",
     "text": [
      "+----+---------+-----------------+-------------------+-------------+-------------+\n",
      "|hour|  Subs_Id|regular_event_sum|irregular_event_sum|weighted_util|irregular_pct|\n",
      "+----+---------+-----------------+-------------------+-------------+-------------+\n",
      "|   0|280960963|                9|                  0|           49|          0.0|\n",
      "|   0|281339172|                2|                  0|            9|          0.0|\n",
      "|   0|281473592|               20|                  0|           76|          0.0|\n",
      "|   0|282595650|                3|                  0|            8|          0.0|\n",
      "|   0|282874909|               15|                  0|           22|          0.0|\n",
      "|   0|284076669|                1|                  0|            7|          0.0|\n",
      "|   0|284281456|                1|                  0|           87|          0.0|\n",
      "|   0|318006680|                9|                  0|           24|          0.0|\n",
      "|   0|318019813|               13|                  0|           11|          0.0|\n",
      "|   0|318022176|                4|                  1|           38|          0.2|\n",
      "|   0|318064544|                2|                  0|           18|          0.0|\n",
      "|   0|318093711|               28|                  0|           12|          0.0|\n",
      "|   0|318094100|                1|                  0|           19|          0.0|\n",
      "|   0|318102085|                2|                  0|           24|          0.0|\n",
      "|   0|318267575|                6|                  0|           16|          0.0|\n",
      "|   0|318271185|                0|                  1|           17|          1.0|\n",
      "|   0|318374442|                3|                  0|           40|          0.0|\n",
      "|   0|318497922|                1|                  1|           12|          0.5|\n",
      "|   0|318519708|               10|                  0|           19|          0.0|\n",
      "|   0|318531330|               18|                  0|           39|          0.0|\n",
      "+----+---------+-----------------+-------------------+-------------+-------------+\n",
      "only showing top 20 rows\n",
      "\n",
      "+----+--------------------+-----------------+-------------------+-------------+--------------------+\n",
      "|hour|         sector_name|regular_event_sum|irregular_event_sum|weighted_util|       irregular_pct|\n",
      "+----+--------------------+-----------------+-------------------+-------------+--------------------+\n",
      "|  23|338665_Mornington...|             1905|                101|           17|0.050348953140578266|\n",
      "|   6|227388_SydneyLawC...|             5624|                538|           19| 0.08730931515741643|\n",
      "|   9|227485_EnfieldSou...|            12637|               5178|           51| 0.29065394330620264|\n",
      "|   7|303600_TaylorsLak...|             2583|                270|            5|  0.0946372239747634|\n",
      "|  20|477353_GreenSquare_2|             9440|               1167|           74| 0.11002168379372113|\n",
      "|  14|588263_OldReynella_3|            12123|               1144|           54| 0.08622898922137635|\n",
      "|   5|228352_BringellyS...|             3086|                536|            9| 0.14798453892876864|\n",
      "|   2|340107_MulgraveEa...|             7202|                376|            9| 0.04961731327527052|\n",
      "|  18|228120_ChurchPoint_1|             2645|                201|           16| 0.07062543921293044|\n",
      "|  20|338632_DelaheyNor...|            13770|               1686|           79| 0.10908385093167702|\n",
      "|  13|200340_HumeThomas...|             4783|                334|           40| 0.06527262067617745|\n",
      "|  14|227549_PymbleStat...|             5513|               1485|           49| 0.21220348671048872|\n",
      "|   8|   588213_Burnside_2|             2213|                334|           18| 0.13113466823714173|\n",
      "|  14|606406_Glendalough_2|             8010|               1961|           45| 0.19667034399759303|\n",
      "|   8|    301050_Mitcham_1|             2096|                248|           11| 0.10580204778156997|\n",
      "|  15|227913_SthMtKurin...|             2292|                118|            5| 0.04896265560165975|\n",
      "|   0|303687_CroydonNor...|             5284|                394|           20| 0.06939063050369848|\n",
      "|  13|227293_RussellOff...|            14971|               2084|           55| 0.12219290530636177|\n",
      "|  11|338268_FawknerPark_3|             5261|                591|           26| 0.10099111414900888|\n",
      "|  13|588136_SemaphoreP...|             7870|                859|           38| 0.09840760682781532|\n",
      "+----+--------------------+-----------------+-------------------+-------------+--------------------+\n",
      "only showing top 20 rows"
     ]
    }
   ],
   "source": [
    "subs_events, sector_events = create_subs_sector_features(trace_event)"
   ]
  },
  {
   "cell_type": "code",
   "execution_count": 165,
   "id": "acb269ef",
   "metadata": {
    "scrolled": true
   },
   "outputs": [
    {
     "data": {
      "application/vnd.jupyter.widget-view+json": {
       "model_id": "",
       "version_major": 2,
       "version_minor": 0
      },
      "text/plain": [
       "FloatProgress(value=0.0, bar_style='info', description='Progress:', layout=Layout(height='25px', width='50%'),…"
      ]
     },
     "metadata": {},
     "output_type": "display_data"
    },
    {
     "name": "stdout",
     "output_type": "stream",
     "text": [
      "+--------+----+-----------------+---------+-------+\n",
      "|trace_id|hour|        node_name|node_type|node_id|\n",
      "+--------+----+-----------------+---------+-------+\n",
      "|     148|   0|202807_Woolwich_2|        0|      0|\n",
      "|     148|   0|        387517594|        1|      1|\n",
      "|     148|   0|        391325900|        1|      2|\n",
      "|     148|   0|        382787677|        1|      3|\n",
      "|     148|   0|        382858001|        1|      4|\n",
      "|     148|   0|        369011404|        1|      5|\n",
      "|     148|   0|        381185361|        1|      6|\n",
      "|     148|   0|        318425547|        1|      7|\n",
      "|     148|   0|        389517181|        1|      8|\n",
      "|     148|   0|        366231684|        1|      9|\n",
      "|     148|   0|        386932403|        1|     10|\n",
      "|     148|   0|        364397606|        1|     11|\n",
      "|     148|   0|        389641382|        1|     12|\n",
      "|     148|   0|        364120337|        1|     13|\n",
      "|     148|   0|        378697619|        1|     14|\n",
      "|     148|   0|        386512709|        1|     15|\n",
      "|     148|   0|        390215682|        1|     16|\n",
      "|     148|   0|        379634759|        1|     17|\n",
      "|     148|   0|        383342330|        1|     18|\n",
      "|     148|   0|        391801794|        1|     19|\n",
      "+--------+----+-----------------+---------+-------+\n",
      "only showing top 20 rows\n",
      "\n",
      "10423149"
     ]
    }
   ],
   "source": [
    "@f.udf(returnType=ArrayType(ArrayType(StringType())))\n",
    "def construct_nodes(edge_input):\n",
    "    \"\"\"\n",
    "    node types:\n",
    "    0 - sector\n",
    "    1 - user\n",
    "    2 - cell (deprecated)\n",
    "    \"\"\"\n",
    "    node_list = []\n",
    "    for a in edge_input:\n",
    "        if [a[0], 0] not in node_list:\n",
    "            node_list.append([a[0], 0])\n",
    "        if [a[1], 1] not in node_list:\n",
    "            node_list.append([a[1], 1])\n",
    "    return node_list\n",
    "\n",
    "node_overview = trace_event.groupBy('trace_id', 'hour').agg(\n",
    "    construct_nodes(\n",
    "            f.collect_list(f.struct('sector_name', 'Subs_Id'))\n",
    "        ).alias('node_list')\n",
    ").withColumn(\n",
    "    'node_id_type', f.explode('node_list')\n",
    ").drop('node_list').withColumn(\n",
    "    'node_name', f.col('node_id_type')[0]\n",
    ").withColumn(\n",
    "    'node_type', f.col('node_id_type')[1]\n",
    ").drop('node_id_type').withColumn(\n",
    "    'node_id', f.row_number().over(Window.partitionBy('trace_id').orderBy('node_type')) - 1\n",
    ")\n",
    "\n",
    "# node_overview = spark.read.parquet('s3://kl-prod-tpgt-knowledge-lake-sandpit/TempDir/tmp/case_study/dataset_sector/node_overview/')\n",
    "node_overview.persist()\n",
    "node_overview.show()\n",
    "node_overview.count()"
   ]
  },
  {
   "cell_type": "code",
   "execution_count": 166,
   "id": "c080ea6b",
   "metadata": {},
   "outputs": [
    {
     "data": {
      "application/vnd.jupyter.widget-view+json": {
       "model_id": "",
       "version_major": 2,
       "version_minor": 0
      },
      "text/plain": [
       "FloatProgress(value=0.0, bar_style='info', description='Progress:', layout=Layout(height='25px', width='50%'),…"
      ]
     },
     "metadata": {},
     "output_type": "display_data"
    }
   ],
   "source": [
    "node_overview.write.mode('overwrite').parquet(\n",
    "    's3://kl-prod-tpgt-knowledge-lake-sandpit/TempDir/tmp/case_study/dataset_sector/node_overview/')"
   ]
  },
  {
   "cell_type": "code",
   "execution_count": 156,
   "id": "1424cfdf",
   "metadata": {
    "scrolled": true
   },
   "outputs": [
    {
     "data": {
      "application/vnd.jupyter.widget-view+json": {
       "model_id": "",
       "version_major": 2,
       "version_minor": 0
      },
      "text/plain": [
       "FloatProgress(value=0.0, bar_style='info', description='Progress:', layout=Layout(height='25px', width='50%'),…"
      ]
     },
     "metadata": {},
     "output_type": "display_data"
    },
    {
     "name": "stdout",
     "output_type": "stream",
     "text": [
      "+----+--------------------+---------+--------------------+-------------+-------------+---------------+-----------+---------------+--------+\n",
      "|hour|         sector_name|  Subs_Id|           cell_name|event_type_cd|regular_event|irregular_event|utilisation|          state|trace_id|\n",
      "+----+--------------------+---------+--------------------+-------------+-------------+---------------+-----------+---------------+--------+\n",
      "|  12|227822_CanleyHeig...|367008741|227822_CanleyHeig...|            8|            0|              1|         38|New South Wales|   11597|\n",
      "|  12|227822_CanleyHeig...|367008741|227822_CanleyHeig...|            7|            1|              0|         38|New South Wales|   11597|\n",
      "|  12|227822_CanleyHeig...|367008741|227822_CanleyHeig...|            8|            0|              1|         38|New South Wales|   11597|\n",
      "|  12|227822_CanleyHeig...|367008741|227822_CanleyHeig...|            8|            0|              1|         38|New South Wales|   11597|\n",
      "|  12|227822_CanleyHeig...|367008741|227822_CanleyHeig...|            8|            0|              1|         38|New South Wales|   11597|\n",
      "|  12|227822_CanleyHeig...|367008741|227822_CanleyHeig...|            8|            0|              1|         38|New South Wales|   11597|\n",
      "|  12|703801_HobartCent...|389199986|703801_HobartCent...|           13|            1|              0|         83|       Tasmania|   12303|\n",
      "|  16|703818_DodgesFerry_1|389199986|703818_DodgesFerr...|           13|            1|              0|         21|       Tasmania|   16170|\n",
      "|  16|703818_DodgesFerry_1|389199986|703818_DodgesFerr...|            7|            1|              0|         21|       Tasmania|   16170|\n",
      "|  16|703818_DodgesFerry_1|389199986|703818_DodgesFerr...|            6|            0|              1|         21|       Tasmania|   16170|\n",
      "|  19|703808_HobartAirp...|389199986|703808_HobartAirp...|            7|            1|              0|         11|       Tasmania|   19018|\n",
      "|  19|703808_HobartAirp...|389199986|703808_HobartAirp...|            7|            1|              0|         11|       Tasmania|   19018|\n",
      "|  19|703808_HobartAirp...|389199986|703808_HobartAirp...|            7|            1|              0|         11|       Tasmania|   19018|\n",
      "|  19|703808_HobartAirp...|389199986|703808_HobartAirp...|            7|            1|              0|         11|       Tasmania|   19018|\n",
      "|  19|703808_HobartAirp...|389199986|703808_HobartAirp...|            7|            1|              0|         11|       Tasmania|   19018|\n",
      "|  20|     703840_Sorell_2|389199986|703840_Sorell_L18R_2|            7|            1|              0|         22|       Tasmania|   19946|\n",
      "|  18|703861_HobartCBDE...|389199986|703861_HobartCBDE...|            8|            0|              1|         17|       Tasmania|   18077|\n",
      "|  18|703861_HobartCBDE...|389199986|703861_HobartCBDE...|           16|            0|              1|         17|       Tasmania|   18077|\n",
      "|  18|  703807_Cambridge_2|389199986|703807_Cambridge_...|           13|            1|              0|          2|       Tasmania|   18062|\n",
      "|  18|703861_HobartCBDE...|389199986|703861_HobartCBDE...|            7|            1|              0|         17|       Tasmania|   18077|\n",
      "+----+--------------------+---------+--------------------+-------------+-------------+---------------+-----------+---------------+--------+\n",
      "only showing top 20 rows"
     ]
    }
   ],
   "source": [
    "trace_event.show()"
   ]
  },
  {
   "cell_type": "code",
   "execution_count": 159,
   "id": "b61f7fd8",
   "metadata": {
    "scrolled": true
   },
   "outputs": [
    {
     "data": {
      "application/vnd.jupyter.widget-view+json": {
       "model_id": "",
       "version_major": 2,
       "version_minor": 0
      },
      "text/plain": [
       "FloatProgress(value=0.0, bar_style='info', description='Progress:', layout=Layout(height='25px', width='50%'),…"
      ]
     },
     "metadata": {},
     "output_type": "display_data"
    },
    {
     "name": "stdout",
     "output_type": "stream",
     "text": [
      "+----+---------+-----------------+-------------------+-------------+-------------+\n",
      "|hour|  Subs_Id|regular_event_sum|irregular_event_sum|weighted_util|irregular_pct|\n",
      "+----+---------+-----------------+-------------------+-------------+-------------+\n",
      "|   0|280960963|                9|                  0|           49|          0.0|\n",
      "|   0|281339172|                2|                  0|            9|          0.0|\n",
      "|   0|281473592|               20|                  0|           76|          0.0|\n",
      "|   0|282595650|                3|                  0|            8|          0.0|\n",
      "|   0|282874909|               15|                  0|           22|          0.0|\n",
      "|   0|284076669|                1|                  0|            7|          0.0|\n",
      "|   0|284281456|                1|                  0|           87|          0.0|\n",
      "|   0|318006680|                9|                  0|           24|          0.0|\n",
      "|   0|318019813|               13|                  0|           11|          0.0|\n",
      "|   0|318022176|                4|                  1|           38|          0.2|\n",
      "|   0|318064544|                2|                  0|           18|          0.0|\n",
      "|   0|318093711|               28|                  0|           12|          0.0|\n",
      "|   0|318094100|                1|                  0|           19|          0.0|\n",
      "|   0|318102085|                2|                  0|           24|          0.0|\n",
      "|   0|318267575|                6|                  0|           16|          0.0|\n",
      "|   0|318271185|                0|                  1|           17|          1.0|\n",
      "|   0|318374442|                3|                  0|           40|          0.0|\n",
      "|   0|318497922|                1|                  1|           12|          0.5|\n",
      "|   0|318519708|               10|                  0|           19|          0.0|\n",
      "|   0|318531330|               18|                  0|           39|          0.0|\n",
      "+----+---------+-----------------+-------------------+-------------+-------------+\n",
      "only showing top 20 rows"
     ]
    }
   ],
   "source": [
    "subs_events.show()"
   ]
  },
  {
   "cell_type": "code",
   "execution_count": 170,
   "id": "8e7b9a4d",
   "metadata": {
    "scrolled": true
   },
   "outputs": [
    {
     "data": {
      "application/vnd.jupyter.widget-view+json": {
       "model_id": "",
       "version_major": 2,
       "version_minor": 0
      },
      "text/plain": [
       "FloatProgress(value=0.0, bar_style='info', description='Progress:', layout=Layout(height='25px', width='50%'),…"
      ]
     },
     "metadata": {},
     "output_type": "display_data"
    },
    {
     "name": "stdout",
     "output_type": "stream",
     "text": [
      "+--------+---------+---------+-------+-----------------+-------------------+-------------+-------------+\n",
      "|trace_id|node_name|node_type|node_id|regular_event_sum|irregular_event_sum|weighted_util|irregular_pct|\n",
      "+--------+---------+---------+-------+-----------------+-------------------+-------------+-------------+\n",
      "|     105|280960963|        1|      7|                9|                  0|           49|          0.0|\n",
      "|     159|281339172|        1|    467|                2|                  0|            9|          0.0|\n",
      "|     890|281473592|        1|    361|               20|                  0|           76|          0.0|\n",
      "|     289|282595650|        1|      6|                3|                  0|            8|          0.0|\n",
      "|     742|282874909|        1|     91|               15|                  0|           22|          0.0|\n",
      "|     513|284076669|        1|     62|                1|                  0|            7|          0.0|\n",
      "|     950|284281456|        1|    258|                1|                  0|           87|          0.0|\n",
      "|     180|318006680|        1|     99|                9|                  0|           24|          0.0|\n",
      "|     401|318019813|        1|     59|               13|                  0|           11|          0.0|\n",
      "|     830|318022176|        1|    193|                4|                  1|           38|          0.2|\n",
      "|     607|318064544|        1|    146|                2|                  0|           18|          0.0|\n",
      "|     803|318093711|        1|    263|               28|                  0|           12|          0.0|\n",
      "|     426|318094100|        1|    391|                1|                  0|           19|          0.0|\n",
      "|      97|318102085|        1|    385|                2|                  0|           24|          0.0|\n",
      "|     735|318267575|        1|    369|                6|                  0|           16|          0.0|\n",
      "|     178|318271185|        1|     64|                0|                  1|           17|          1.0|\n",
      "|     791|318374442|        1|    190|                3|                  0|           40|          0.0|\n",
      "|      82|318497922|        1|     87|                1|                  1|           12|          0.5|\n",
      "|     752|318519708|        1|     23|               10|                  0|           19|          0.0|\n",
      "|     837|318531330|        1|     61|               18|                  0|           39|          0.0|\n",
      "+--------+---------+---------+-------+-----------------+-------------------+-------------+-------------+\n",
      "only showing top 20 rows\n",
      "\n",
      "10401300"
     ]
    }
   ],
   "source": [
    "subs_features = node_overview.join(\n",
    "    subs_events,\n",
    "    on=(node_overview.node_name==subs_events.Subs_Id) & (node_overview.hour==sector_events.hour),\n",
    ").drop('hour', 'Subs_Id')\n",
    "subs_features.show()\n",
    "subs_features.count()"
   ]
  },
  {
   "cell_type": "code",
   "execution_count": 171,
   "id": "11d7d241",
   "metadata": {
    "scrolled": true
   },
   "outputs": [
    {
     "data": {
      "application/vnd.jupyter.widget-view+json": {
       "model_id": "",
       "version_major": 2,
       "version_minor": 0
      },
      "text/plain": [
       "FloatProgress(value=0.0, bar_style='info', description='Progress:', layout=Layout(height='25px', width='50%'),…"
      ]
     },
     "metadata": {},
     "output_type": "display_data"
    },
    {
     "name": "stdout",
     "output_type": "stream",
     "text": [
      "+--------+--------------------+---------+-------+-----------------+-------------------+-------------+--------------------+\n",
      "|trace_id|           node_name|node_type|node_id|regular_event_sum|irregular_event_sum|weighted_util|       irregular_pct|\n",
      "+--------+--------------------+---------+-------+-----------------+-------------------+-------------+--------------------+\n",
      "|     148|   202807_Woolwich_2|        0|      0|             3863|                639|           13| 0.14193691692581076|\n",
      "|     463|338006_BayswaterE...|        0|      0|              724|                 88|            4| 0.10837438423645321|\n",
      "|     471|338029_PakenhamHe...|        0|      0|             1807|                 62|            5| 0.03317281968967362|\n",
      "|     496|338334_BalaclavaE...|        0|      0|             2420|                172|           22| 0.06635802469135803|\n",
      "|     833|588149_ModburyHei...|        0|      0|             1887|                261|           20| 0.12150837988826815|\n",
      "|    1088|202661_MtCanobolas_1|        0|      0|             1809|                984|           14|  0.3523093447905478|\n",
      "|    1238|228272_Yerrinbool...|        0|      0|              460|                 11|            1| 0.02335456475583864|\n",
      "|    1342|    303371_Portsea_2|        0|      0|             1949|                 44|            3| 0.02207727044656297|\n",
      "|    1580|404470_RochedaleS...|        0|      0|             5042|                141|           14|0.027204321821338993|\n",
      "|    1591|404521_Rockhampto...|        0|      0|              548|                  6|           48|0.010830324909747292|\n",
      "|    1645|440056_KelvinGrvM...|        0|      0|             3949|                 67|           21|0.016683266932270915|\n",
      "|    1829|   606208_Carbunup_0|        0|      0|              266|                102|           40| 0.27717391304347827|\n",
      "|    1959|201656_CabbageTrl...|        0|      0|              547|                  6|            2|  0.0108499095840868|\n",
      "|    2122|227502_DoverHeigh...|        0|      0|              896|                107|            1| 0.10667996011964108|\n",
      "|    2142| 227629_M2Beecroft_1|        0|      0|              757|                 72|            5| 0.08685162846803378|\n",
      "|    2366|  338078_Traralgon_1|        0|      0|               12|                  3|            2|                 0.2|\n",
      "|    2659|      505013_Clare_0|        0|      0|              129|                 79|            8|  0.3798076923076923|\n",
      "|    2866|   703863_TierHill_1|        0|      0|               32|                 30|            1|  0.4838709677419355|\n",
      "|    3175|240358_CoffsHbrWst_1|        0|      0|              318|                  5|           12|0.015479876160990712|\n",
      "|    3749|  688023_BibraLake_2|        0|      0|              585|                196|           36| 0.25096030729833546|\n",
      "+--------+--------------------+---------+-------+-----------------+-------------------+-------------+--------------------+\n",
      "only showing top 20 rows\n",
      "\n",
      "21849"
     ]
    }
   ],
   "source": [
    "sector_features = node_overview.join(\n",
    "    sector_events,\n",
    "    on=(node_overview.node_name==sector_events.sector_name) & (node_overview.hour==sector_events.hour),\n",
    ").drop('hour', 'sector_name')\n",
    "sector_features.show()\n",
    "sector_features.count()"
   ]
  },
  {
   "cell_type": "code",
   "execution_count": 172,
   "id": "b9d424d0",
   "metadata": {},
   "outputs": [
    {
     "data": {
      "application/vnd.jupyter.widget-view+json": {
       "model_id": "",
       "version_major": 2,
       "version_minor": 0
      },
      "text/plain": [
       "FloatProgress(value=0.0, bar_style='info', description='Progress:', layout=Layout(height='25px', width='50%'),…"
      ]
     },
     "metadata": {},
     "output_type": "display_data"
    },
    {
     "name": "stdout",
     "output_type": "stream",
     "text": [
      "10423149"
     ]
    }
   ],
   "source": [
    "node_features = subs_features.union(sector_features)\n",
    "node_features.persist()\n",
    "node_features.count()"
   ]
  },
  {
   "cell_type": "code",
   "execution_count": 173,
   "id": "5efc6eb9",
   "metadata": {},
   "outputs": [
    {
     "data": {
      "application/vnd.jupyter.widget-view+json": {
       "model_id": "",
       "version_major": 2,
       "version_minor": 0
      },
      "text/plain": [
       "FloatProgress(value=0.0, bar_style='info', description='Progress:', layout=Layout(height='25px', width='50%'),…"
      ]
     },
     "metadata": {},
     "output_type": "display_data"
    }
   ],
   "source": [
    "node_features.write.parquet('s3://kl-prod-tpgt-knowledge-lake-sandpit/TempDir/tmp/case_study/dataset_sector/node_features/')\n"
   ]
  },
  {
   "cell_type": "code",
   "execution_count": 176,
   "id": "923e241c",
   "metadata": {},
   "outputs": [
    {
     "data": {
      "application/vnd.jupyter.widget-view+json": {
       "model_id": "",
       "version_major": 2,
       "version_minor": 0
      },
      "text/plain": [
       "FloatProgress(value=0.0, bar_style='info', description='Progress:', layout=Layout(height='25px', width='50%'),…"
      ]
     },
     "metadata": {},
     "output_type": "display_data"
    },
    {
     "name": "stdout",
     "output_type": "stream",
     "text": [
      "+--------+---------+---------+-------+-----------------+-------------------+-------------+------------------+\n",
      "|trace_id|node_name|node_type|node_id|regular_event_sum|irregular_event_sum|weighted_util|     irregular_pct|\n",
      "+--------+---------+---------+-------+-----------------+-------------------+-------------+------------------+\n",
      "|       0|280226019|        1|     14|               13|                  0|            2|               0.0|\n",
      "|       0|385704537|        1|      1|                6|                 14|            2|               0.7|\n",
      "|       0|379370868|        1|     25|                9|                  0|            2|               0.0|\n",
      "|       0|391102248|        1|     28|                4|                  0|            2|               0.0|\n",
      "|       0|376264599|        1|     18|              121|                  0|            2|               0.0|\n",
      "|       0|389548938|        1|      5|                2|                  0|            2|               0.0|\n",
      "|       0|389479551|        1|      8|                2|                  0|            2|               0.0|\n",
      "|       0|389378013|        1|      9|               80|                  0|            2|               0.0|\n",
      "|       0|388937457|        1|     17|               44|                  0|            2|               0.0|\n",
      "|       0|376969841|        1|     19|               32|                  0|            2|               0.0|\n",
      "|       0|389536453|        1|      7|              114|                  0|            2|               0.0|\n",
      "|       0|389672404|        1|     27|                2|                  0|            2|               0.0|\n",
      "|       0|378993599|        1|     10|               10|                  0|            2|               0.0|\n",
      "|       0|391624406|        1|     15|               38|                  0|            2|               0.0|\n",
      "|       0|390775724|        1|      6|                1|                  2|            2|0.6666666666666666|\n",
      "|       0|391861926|        1|      3|              161|                  0|            2|               0.0|\n",
      "|       0|389548917|        1|     26|                4|                  0|            2|               0.0|\n",
      "|       0|388580758|        1|     24|               49|                  0|            2|               0.0|\n",
      "|       0|383475932|        1|     11|               30|                  0|            2|               0.0|\n",
      "|       0|390964765|        1|     13|                1|                  0|            2|               0.0|\n",
      "+--------+---------+---------+-------+-----------------+-------------------+-------------+------------------+\n",
      "only showing top 20 rows"
     ]
    }
   ],
   "source": [
    "node_features.filter('trace_id = 0').show()"
   ]
  },
  {
   "cell_type": "markdown",
   "id": "9c549a1d",
   "metadata": {},
   "source": [
    "## Output Node Feature Norm"
   ]
  },
  {
   "cell_type": "code",
   "execution_count": 181,
   "id": "9cce1725",
   "metadata": {},
   "outputs": [
    {
     "data": {
      "application/vnd.jupyter.widget-view+json": {
       "model_id": "",
       "version_major": 2,
       "version_minor": 0
      },
      "text/plain": [
       "FloatProgress(value=0.0, bar_style='info', description='Progress:', layout=Layout(height='25px', width='50%'),…"
      ]
     },
     "metadata": {},
     "output_type": "display_data"
    }
   ],
   "source": [
    "assembler = VectorAssembler(inputCols=['regular_event_sum', 'irregular_event_sum', 'weighted_util', 'irregular_pct'], outputCol='feature')\n",
    "scaler = MinMaxScaler(inputCol='feature', outputCol='feature_scaled')\n",
    "pipeline = Pipeline(stages=[assembler, scaler])\n"
   ]
  },
  {
   "cell_type": "code",
   "execution_count": 193,
   "id": "2b09ce79",
   "metadata": {},
   "outputs": [
    {
     "data": {
      "application/vnd.jupyter.widget-view+json": {
       "model_id": "",
       "version_major": 2,
       "version_minor": 0
      },
      "text/plain": [
       "FloatProgress(value=0.0, bar_style='info', description='Progress:', layout=Layout(height='25px', width='50%'),…"
      ]
     },
     "metadata": {},
     "output_type": "display_data"
    },
    {
     "name": "stdout",
     "output_type": "stream",
     "text": [
      "+--------+-------+------------+---+----------+---+\n",
      "|trace_id|node_id|f_0         |f_1|f_2       |f_3|\n",
      "+--------+-------+------------+---+----------+---+\n",
      "|105     |7      |1.9184857E-4|0.0|0.4949495 |0.0|\n",
      "|159     |467    |4.2633015E-5|0.0|0.09090909|0.0|\n",
      "|890     |361    |4.2633014E-4|0.0|0.7676768 |0.0|\n",
      "|289     |6      |6.394952E-5 |0.0|0.08080808|0.0|\n",
      "|742     |91     |3.197476E-4 |0.0|0.22222222|0.0|\n",
      "+--------+-------+------------+---+----------+---+\n",
      "only showing top 5 rows"
     ]
    }
   ],
   "source": [
    "@f.udf(returnType=ArrayType(FloatType()))\n",
    "def to_list(v):\n",
    "    return [float(i) for i in v.values]\n",
    "\n",
    "node_feature_norm = node_features.select(\n",
    "    'trace_id', 'node_id', 'regular_event_sum', 'irregular_event_sum', 'weighted_util', 'irregular_pct')\n",
    "\n",
    "node_feature_norm = pipeline.fit(node_feature_norm).transform(node_feature_norm).withColumn(\n",
    "    'f', to_list('feature_scaled')\n",
    ").select(['trace_id', 'node_id'] + [f.col('f')[i].alias(f'f_{i}') for i in range(4)])\n",
    "\n",
    "node_feature_norm.show(5, False)"
   ]
  },
  {
   "cell_type": "code",
   "execution_count": 244,
   "id": "cb8ccf64",
   "metadata": {},
   "outputs": [
    {
     "data": {
      "application/vnd.jupyter.widget-view+json": {
       "model_id": "",
       "version_major": 2,
       "version_minor": 0
      },
      "text/plain": [
       "FloatProgress(value=0.0, bar_style='info', description='Progress:', layout=Layout(height='25px', width='50%'),…"
      ]
     },
     "metadata": {},
     "output_type": "display_data"
    }
   ],
   "source": [
    "node_feature_norm = node_feature_norm.fillna(0)"
   ]
  },
  {
   "cell_type": "code",
   "execution_count": 247,
   "id": "57ac9c55",
   "metadata": {},
   "outputs": [
    {
     "data": {
      "application/vnd.jupyter.widget-view+json": {
       "model_id": "",
       "version_major": 2,
       "version_minor": 0
      },
      "text/plain": [
       "FloatProgress(value=0.0, bar_style='info', description='Progress:', layout=Layout(height='25px', width='50%'),…"
      ]
     },
     "metadata": {},
     "output_type": "display_data"
    }
   ],
   "source": [
    "node_feature_norm.repartition(1).write.mode('overwrite').csv(\n",
    "    's3://kl-prod-tpgt-knowledge-lake-sandpit/TempDir/tmp/case_study/dataset_sector/csv/node_feature_norm/',\n",
    "    header=True\n",
    ")"
   ]
  },
  {
   "cell_type": "code",
   "execution_count": 246,
   "id": "2bffd8a8",
   "metadata": {},
   "outputs": [
    {
     "data": {
      "application/vnd.jupyter.widget-view+json": {
       "model_id": "",
       "version_major": 2,
       "version_minor": 0
      },
      "text/plain": [
       "FloatProgress(value=0.0, bar_style='info', description='Progress:', layout=Layout(height='25px', width='50%'),…"
      ]
     },
     "metadata": {},
     "output_type": "display_data"
    },
    {
     "name": "stdout",
     "output_type": "stream",
     "text": [
      "+--------+-------+-----------+------------+---+----------+\n",
      "|trace_id|node_id|        f_0|         f_1|f_2|       f_3|\n",
      "+--------+-------+-----------+------------+---+----------+\n",
      "|     806|      2|7.247613E-4|         0.0|0.0|       0.0|\n",
      "|     806|      1|2.771146E-4|2.4335341E-4|0.0|0.23529412|\n",
      "|     806|      0|9.805594E-4|2.4335341E-4|0.0|      0.08|\n",
      "+--------+-------+-----------+------------+---+----------+"
     ]
    }
   ],
   "source": [
    "node_feature_norm.filter('trace_id = 806').show()"
   ]
  },
  {
   "cell_type": "code",
   "execution_count": 255,
   "id": "a3074faf",
   "metadata": {},
   "outputs": [
    {
     "data": {
      "application/vnd.jupyter.widget-view+json": {
       "model_id": "",
       "version_major": 2,
       "version_minor": 0
      },
      "text/plain": [
       "FloatProgress(value=0.0, bar_style='info', description='Progress:', layout=Layout(height='25px', width='50%'),…"
      ]
     },
     "metadata": {},
     "output_type": "display_data"
    },
    {
     "name": "stdout",
     "output_type": "stream",
     "text": [
      "+--------+-------+---+---+---+---+\n",
      "|trace_id|node_id|f_0|f_1|f_2|f_3|\n",
      "+--------+-------+---+---+---+---+\n",
      "+--------+-------+---+---+---+---+"
     ]
    }
   ],
   "source": [
    "spark.read.csv('s3://kl-prod-tpgt-knowledge-lake-sandpit/TempDir/tmp/case_study/dataset_sector/csv/node_feature_norm/',\n",
    "    header=True).filter('f_3 is NULL').show()"
   ]
  },
  {
   "cell_type": "code",
   "execution_count": 241,
   "id": "5b2c7d48",
   "metadata": {},
   "outputs": [
    {
     "data": {
      "application/vnd.jupyter.widget-view+json": {
       "model_id": "",
       "version_major": 2,
       "version_minor": 0
      },
      "text/plain": [
       "FloatProgress(value=0.0, bar_style='info', description='Progress:', layout=Layout(height='25px', width='50%'),…"
      ]
     },
     "metadata": {},
     "output_type": "display_data"
    },
    {
     "name": "stdout",
     "output_type": "stream",
     "text": [
      "+--------+--------------------+---------+-------+-----------------+-------------------+-------------+-------------+\n",
      "|trace_id|           node_name|node_type|node_id|regular_event_sum|irregular_event_sum|weighted_util|irregular_pct|\n",
      "+--------+--------------------+---------+-------+-----------------+-------------------+-------------+-------------+\n",
      "|    1728|           391083123|        1|      2|                2|                  0|            0|          0.0|\n",
      "|    1728|           391866260|        1|      9|                5|                  0|            1|          0.0|\n",
      "|    1728|           391709480|        1|      1|                3|                  0|           10|          0.0|\n",
      "|    1728|           388384439|        1|      7|                1|                  0|            0|          0.0|\n",
      "|    1728|           390033164|        1|      3|                7|                  1|            2|        0.125|\n",
      "|    1728|           390411714|        1|     10|                2|                  0|            0|          0.0|\n",
      "|    1728|           388259471|        1|      5|                3|                  0|           10|          0.0|\n",
      "|    1728|           390845359|        1|     13|                1|                  0|            0|          0.0|\n",
      "|    1728|           373834462|        1|      8|                1|                  0|            0|          0.0|\n",
      "|    1728|           390970920|        1|     11|                1|                  0|            0|          0.0|\n",
      "|    1728|           391164205|        1|      6|                1|                  0|            0|          0.0|\n",
      "|    1728|           391052735|        1|     12|                1|                  0|            0|          0.0|\n",
      "|    1728|           391713817|        1|      4|                1|                  0|            0|          0.0|\n",
      "|    1728|490002_SouthbankS...|        0|      0|               18|                  0|            0|          0.0|\n",
      "+--------+--------------------+---------+-------+-----------------+-------------------+-------------+-------------+"
     ]
    }
   ],
   "source": [
    "node_features.filter('trace_id = 1728').show()"
   ]
  },
  {
   "cell_type": "markdown",
   "id": "c53b35c4",
   "metadata": {},
   "source": [
    "### Output Edge Index"
   ]
  },
  {
   "cell_type": "code",
   "execution_count": 198,
   "id": "ac5a9bde",
   "metadata": {},
   "outputs": [
    {
     "data": {
      "application/vnd.jupyter.widget-view+json": {
       "model_id": "",
       "version_major": 2,
       "version_minor": 0
      },
      "text/plain": [
       "FloatProgress(value=0.0, bar_style='info', description='Progress:', layout=Layout(height='25px', width='50%'),…"
      ]
     },
     "metadata": {},
     "output_type": "display_data"
    },
    {
     "name": "stdout",
     "output_type": "stream",
     "text": [
      "+----+----------------------+---------+---------------------------+-------------+-------------+---------------+-----------+---------------+--------+\n",
      "|hour|sector_name           |Subs_Id  |cell_name                  |event_type_cd|regular_event|irregular_event|utilisation|state          |trace_id|\n",
      "+----+----------------------+---------+---------------------------+-------------+-------------+---------------+-----------+---------------+--------+\n",
      "|12  |227822_CanleyHeights_1|367008741|227822_CanleyHeights_L18A_1|8            |0            |1              |38         |New South Wales|11597   |\n",
      "|12  |227822_CanleyHeights_1|367008741|227822_CanleyHeights_L18A_1|7            |1            |0              |38         |New South Wales|11597   |\n",
      "|12  |227822_CanleyHeights_1|367008741|227822_CanleyHeights_L18A_1|8            |0            |1              |38         |New South Wales|11597   |\n",
      "|12  |227822_CanleyHeights_1|367008741|227822_CanleyHeights_L18A_1|8            |0            |1              |38         |New South Wales|11597   |\n",
      "|12  |227822_CanleyHeights_1|367008741|227822_CanleyHeights_L18A_1|8            |0            |1              |38         |New South Wales|11597   |\n",
      "+----+----------------------+---------+---------------------------+-------------+-------------+---------------+-----------+---------------+--------+\n",
      "only showing top 5 rows"
     ]
    }
   ],
   "source": [
    "trace_event.show(5,False)"
   ]
  },
  {
   "cell_type": "code",
   "execution_count": 251,
   "id": "fef3f4fb",
   "metadata": {},
   "outputs": [
    {
     "data": {
      "application/vnd.jupyter.widget-view+json": {
       "model_id": "",
       "version_major": 2,
       "version_minor": 0
      },
      "text/plain": [
       "FloatProgress(value=0.0, bar_style='info', description='Progress:', layout=Layout(height='25px', width='50%'),…"
      ]
     },
     "metadata": {},
     "output_type": "display_data"
    },
    {
     "name": "stdout",
     "output_type": "stream",
     "text": [
      "+--------+------+------+\n",
      "|trace_id|src_id|dst_id|\n",
      "+--------+------+------+\n",
      "|148     |0     |406   |\n",
      "|148     |0     |405   |\n",
      "|148     |0     |404   |\n",
      "|148     |0     |403   |\n",
      "|148     |0     |402   |\n",
      "+--------+------+------+\n",
      "only showing top 5 rows"
     ]
    }
   ],
   "source": [
    "edge_index = trace_event.groupBy('trace_id').agg(\n",
    "        construct_edge_index(\n",
    "            f.collect_list(f.struct('sector_name', 'Subs_Id'))\n",
    "        ).alias('edge_index_list')\n",
    ").withColumn(\n",
    "    'edge_pair', f.explode('edge_index_list')\n",
    ").drop('edge_index_list').withColumn(\n",
    "    'src_name', f.col('edge_pair')[0]\n",
    ").withColumn(\n",
    "    'dst_name', f.col('edge_pair')[1]\n",
    ").drop('edge_pair').join(\n",
    "    node_overview.select(\n",
    "        'trace_id', f.col('node_name').alias('src_name'), f.col('node_id').alias('src_id')\n",
    "    ),\n",
    "    on=['trace_id', 'src_name']\n",
    ").join(\n",
    "    node_overview.select(\n",
    "        'trace_id', f.col('node_name').alias('dst_name'), f.col('node_id').alias('dst_id')\n",
    "    ),\n",
    "    on=['trace_id', 'dst_name']\n",
    ").drop('dst_name', 'src_name')\n",
    "\n",
    "edge_index.show(5, False)"
   ]
  },
  {
   "cell_type": "code",
   "execution_count": 252,
   "id": "df5b139a",
   "metadata": {
    "scrolled": true
   },
   "outputs": [
    {
     "data": {
      "application/vnd.jupyter.widget-view+json": {
       "model_id": "",
       "version_major": 2,
       "version_minor": 0
      },
      "text/plain": [
       "FloatProgress(value=0.0, bar_style='info', description='Progress:', layout=Layout(height='25px', width='50%'),…"
      ]
     },
     "metadata": {},
     "output_type": "display_data"
    },
    {
     "name": "stdout",
     "output_type": "stream",
     "text": [
      "+--------+------+------+\n",
      "|trace_id|src_id|dst_id|\n",
      "+--------+------+------+\n",
      "|     148|     0|     0|\n",
      "|     463|     0|     0|\n",
      "|     471|     0|     0|\n",
      "|     496|     0|     0|\n",
      "|     833|     0|     0|\n",
      "|    1088|     0|     0|\n",
      "|    1238|     0|     0|\n",
      "|    1342|     0|     0|\n",
      "|    1580|     0|     0|\n",
      "|    1591|     0|     0|\n",
      "|    1645|     0|     0|\n",
      "|    1829|     0|     0|\n",
      "|    1959|     0|     0|\n",
      "|    2122|     0|     0|\n",
      "|    2142|     0|     0|\n",
      "|    2366|     0|     0|\n",
      "|    2659|     0|     0|\n",
      "|    2866|     0|     0|\n",
      "|    3175|     0|     0|\n",
      "|    3749|     0|     0|\n",
      "+--------+------+------+\n",
      "only showing top 20 rows"
     ]
    }
   ],
   "source": [
    "# adding self loop\n",
    "self_loop = edge_index.select('trace_id', 'src_id').dropDuplicates().withColumn('dst_id', f.col('src_id'))\n",
    "self_loop.show()\n",
    "edge_index = edge_index.union(self_loop)"
   ]
  },
  {
   "cell_type": "code",
   "execution_count": 253,
   "id": "78d9dff8",
   "metadata": {},
   "outputs": [
    {
     "data": {
      "application/vnd.jupyter.widget-view+json": {
       "model_id": "",
       "version_major": 2,
       "version_minor": 0
      },
      "text/plain": [
       "FloatProgress(value=0.0, bar_style='info', description='Progress:', layout=Layout(height='25px', width='50%'),…"
      ]
     },
     "metadata": {},
     "output_type": "display_data"
    },
    {
     "name": "stdout",
     "output_type": "stream",
     "text": [
      "10423149"
     ]
    }
   ],
   "source": [
    "edge_index.count()"
   ]
  },
  {
   "cell_type": "code",
   "execution_count": 254,
   "id": "417bf7ea",
   "metadata": {},
   "outputs": [
    {
     "data": {
      "application/vnd.jupyter.widget-view+json": {
       "model_id": "",
       "version_major": 2,
       "version_minor": 0
      },
      "text/plain": [
       "FloatProgress(value=0.0, bar_style='info', description='Progress:', layout=Layout(height='25px', width='50%'),…"
      ]
     },
     "metadata": {},
     "output_type": "display_data"
    }
   ],
   "source": [
    "edge_index.repartition(1).write.mode('overwrite').csv(\n",
    "    's3://kl-prod-tpgt-knowledge-lake-sandpit/TempDir/tmp/case_study/dataset_sector/csv/edge_index/', header=True\n",
    ")"
   ]
  },
  {
   "cell_type": "code",
   "execution_count": 231,
   "id": "87b785c7",
   "metadata": {},
   "outputs": [
    {
     "data": {
      "application/vnd.jupyter.widget-view+json": {
       "model_id": "",
       "version_major": 2,
       "version_minor": 0
      },
      "text/plain": [
       "FloatProgress(value=0.0, bar_style='info', description='Progress:', layout=Layout(height='25px', width='50%'),…"
      ]
     },
     "metadata": {},
     "output_type": "display_data"
    }
   ],
   "source": [
    "# check edge_index\n",
    "edge_index = spark.read.csv('s3://kl-prod-tpgt-knowledge-lake-sandpit/TempDir/tmp/case_study/dataset_sector/csv/edge_index/', header=True)"
   ]
  },
  {
   "cell_type": "code",
   "execution_count": 233,
   "id": "86c683c5",
   "metadata": {},
   "outputs": [
    {
     "data": {
      "application/vnd.jupyter.widget-view+json": {
       "model_id": "",
       "version_major": 2,
       "version_minor": 0
      },
      "text/plain": [
       "FloatProgress(value=0.0, bar_style='info', description='Progress:', layout=Layout(height='25px', width='50%'),…"
      ]
     },
     "metadata": {},
     "output_type": "display_data"
    },
    {
     "name": "stdout",
     "output_type": "stream",
     "text": [
      "+--------+------+------+\n",
      "|trace_id|src_id|dst_id|\n",
      "+--------+------+------+\n",
      "+--------+------+------+"
     ]
    }
   ],
   "source": [
    "edge_index.filter('dst_id = 0').dropDuplicates().show()"
   ]
  },
  {
   "cell_type": "code",
   "execution_count": null,
   "id": "0c1c181f",
   "metadata": {},
   "outputs": [],
   "source": []
  },
  {
   "cell_type": "code",
   "execution_count": null,
   "id": "4c211412",
   "metadata": {},
   "outputs": [],
   "source": []
  },
  {
   "cell_type": "markdown",
   "id": "7ec6acbb",
   "metadata": {},
   "source": [
    "### Output Node Types"
   ]
  },
  {
   "cell_type": "code",
   "execution_count": 207,
   "id": "5154ae75",
   "metadata": {},
   "outputs": [
    {
     "data": {
      "application/vnd.jupyter.widget-view+json": {
       "model_id": "",
       "version_major": 2,
       "version_minor": 0
      },
      "text/plain": [
       "FloatProgress(value=0.0, bar_style='info', description='Progress:', layout=Layout(height='25px', width='50%'),…"
      ]
     },
     "metadata": {},
     "output_type": "display_data"
    },
    {
     "name": "stdout",
     "output_type": "stream",
     "text": [
      "+--------+-----------------------------------------------------------------------------------------------------------------------------------------------------------------------------------------------------------------------------------------------------------------------------------------------------------------------------------------------------------------------------------------------------------------------------------------------------------------------------------------------+\n",
      "|trace_id|node_types                                                                                                                                                                                                                                                                                                                                                                                                                                                                                     |\n",
      "+--------+-----------------------------------------------------------------------------------------------------------------------------------------------------------------------------------------------------------------------------------------------------------------------------------------------------------------------------------------------------------------------------------------------------------------------------------------------------------------------------------------------+\n",
      "|0       |[[0], [1, 2, 3, 4, 5, 6, 7, 8, 9, 10, 11, 12, 13, 14, 15, 16, 17, 18, 19, 20, 21, 22, 23, 24, 25, 26, 27, 28]]                                                                                                                                                                                                                                                                                                                                                                                 |\n",
      "|1       |[[0], [1, 2, 3, 4, 5, 6, 7, 8, 9, 10, 11]]                                                                                                                                                                                                                                                                                                                                                                                                                                                     |\n",
      "|2       |[[0], [1, 2, 3, 4, 5, 6, 7]]                                                                                                                                                                                                                                                                                                                                                                                                                                                                   |\n",
      "|3       |[[0], [1, 2, 3, 4, 5, 6, 7, 8, 9, 10, 11, 12, 13, 14, 15, 16, 17, 18, 19, 20, 21, 22, 23, 24, 25, 26, 27, 28, 29, 30, 31, 32, 33, 34, 35, 36, 37, 38, 39, 40, 41, 42, 43, 44, 45, 46, 47, 48, 49, 50, 51, 52, 53, 54, 55, 56, 57, 58, 59, 60, 61, 62, 63, 64, 65, 66, 67, 68, 69, 70, 71, 72, 73, 74, 75, 76, 77, 78, 79, 80, 81, 82, 83, 84, 85, 86, 87, 88, 89, 90, 91, 92, 93, 94, 95, 96, 97, 98, 99, 100, 101, 102, 103, 104, 105, 106, 107, 108, 109, 110, 111, 112, 113, 114, 115, 116]]|\n",
      "|4       |[[0], [1, 2]]                                                                                                                                                                                                                                                                                                                                                                                                                                                                                  |\n",
      "+--------+-----------------------------------------------------------------------------------------------------------------------------------------------------------------------------------------------------------------------------------------------------------------------------------------------------------------------------------------------------------------------------------------------------------------------------------------------------------------------------------------------+\n",
      "only showing top 5 rows"
     ]
    }
   ],
   "source": [
    "node_types = node_overview.groupBy('trace_id').agg(\n",
    "    construct_node_types(\n",
    "        f.collect_list(f.struct('node_type', 'node_id'))\n",
    "    ).alias('node_types')\n",
    ").orderBy('trace_id')\n",
    "\n",
    "node_types.show(5, False)"
   ]
  },
  {
   "cell_type": "code",
   "execution_count": 208,
   "id": "d39e1761",
   "metadata": {},
   "outputs": [
    {
     "data": {
      "application/vnd.jupyter.widget-view+json": {
       "model_id": "",
       "version_major": 2,
       "version_minor": 0
      },
      "text/plain": [
       "FloatProgress(value=0.0, bar_style='info', description='Progress:', layout=Layout(height='25px', width='50%'),…"
      ]
     },
     "metadata": {},
     "output_type": "display_data"
    }
   ],
   "source": [
    "node_types.withColumn('node_types', f.col('node_types').cast('string')).repartition(1).write.mode('overwrite').csv(\n",
    "    's3://kl-prod-tpgt-knowledge-lake-sandpit/TempDir/tmp/case_study/dataset_sector/csv/node_types/', header=False\n",
    ")"
   ]
  },
  {
   "cell_type": "markdown",
   "id": "f0e78d8f",
   "metadata": {},
   "source": [
    "### Trace Info"
   ]
  },
  {
   "cell_type": "code",
   "execution_count": 205,
   "id": "2fb93d43",
   "metadata": {},
   "outputs": [
    {
     "data": {
      "application/vnd.jupyter.widget-view+json": {
       "model_id": "",
       "version_major": 2,
       "version_minor": 0
      },
      "text/plain": [
       "FloatProgress(value=0.0, bar_style='info', description='Progress:', layout=Layout(height='25px', width='50%'),…"
      ]
     },
     "metadata": {},
     "output_type": "display_data"
    },
    {
     "name": "stdout",
     "output_type": "stream",
     "text": [
      "+----+----------------------+---------+---------------------------+-------------+-------------+---------------+-----------+---------------+--------+\n",
      "|hour|sector_name           |Subs_Id  |cell_name                  |event_type_cd|regular_event|irregular_event|utilisation|state          |trace_id|\n",
      "+----+----------------------+---------+---------------------------+-------------+-------------+---------------+-----------+---------------+--------+\n",
      "|12  |227822_CanleyHeights_1|367008741|227822_CanleyHeights_L18A_1|8            |0            |1              |38         |New South Wales|11597   |\n",
      "|12  |227822_CanleyHeights_1|367008741|227822_CanleyHeights_L18A_1|7            |1            |0              |38         |New South Wales|11597   |\n",
      "|12  |227822_CanleyHeights_1|367008741|227822_CanleyHeights_L18A_1|8            |0            |1              |38         |New South Wales|11597   |\n",
      "|12  |227822_CanleyHeights_1|367008741|227822_CanleyHeights_L18A_1|8            |0            |1              |38         |New South Wales|11597   |\n",
      "|12  |227822_CanleyHeights_1|367008741|227822_CanleyHeights_L18A_1|8            |0            |1              |38         |New South Wales|11597   |\n",
      "+----+----------------------+---------+---------------------------+-------------+-------------+---------------+-----------+---------------+--------+\n",
      "only showing top 5 rows"
     ]
    }
   ],
   "source": [
    "trace_event.show(5, False)"
   ]
  },
  {
   "cell_type": "code",
   "execution_count": 215,
   "id": "fb7a7289",
   "metadata": {},
   "outputs": [
    {
     "data": {
      "application/vnd.jupyter.widget-view+json": {
       "model_id": "",
       "version_major": 2,
       "version_minor": 0
      },
      "text/plain": [
       "FloatProgress(value=0.0, bar_style='info', description='Progress:', layout=Layout(height='25px', width='50%'),…"
      ]
     },
     "metadata": {},
     "output_type": "display_data"
    },
    {
     "name": "stdout",
     "output_type": "stream",
     "text": [
      "+--------+-----------+----------+----------------+\n",
      "|trace_id|utilisation|trace_bool|error_trace_type|\n",
      "+--------+-----------+----------+----------------+\n",
      "|0       |2          |true      |true            |\n",
      "|1       |4          |true      |true            |\n",
      "|2       |1          |true      |true            |\n",
      "|3       |6          |true      |true            |\n",
      "|4       |2          |true      |true            |\n",
      "+--------+-----------+----------+----------------+\n",
      "only showing top 5 rows\n",
      "\n",
      "+----------+-----+\n",
      "|trace_bool|count|\n",
      "+----------+-----+\n",
      "|true      |20973|\n",
      "|false     |876  |\n",
      "+----------+-----+"
     ]
    }
   ],
   "source": [
    "trace_info = trace_event.select(\n",
    "    'trace_id', 'utilisation'\n",
    ").dropDuplicates().orderBy('trace_id').withColumn(\n",
    "    'trace_bool', f.col('utilisation') < 75\n",
    ").withColumn(\n",
    "    'error_trace_type', f.col('trace_bool')\n",
    ")\n",
    "trace_info.show(5, False)\n",
    "trace_info.groupBy('trace_bool').count().show(5, False)"
   ]
  },
  {
   "cell_type": "code",
   "execution_count": 218,
   "id": "49b99479",
   "metadata": {},
   "outputs": [
    {
     "data": {
      "application/vnd.jupyter.widget-view+json": {
       "model_id": "",
       "version_major": 2,
       "version_minor": 0
      },
      "text/plain": [
       "FloatProgress(value=0.0, bar_style='info', description='Progress:', layout=Layout(height='25px', width='50%'),…"
      ]
     },
     "metadata": {},
     "output_type": "display_data"
    }
   ],
   "source": [
    "trace_info.repartition(1).write.mode('overwrite').csv(\n",
    "    's3://kl-prod-tpgt-knowledge-lake-sandpit/TempDir/tmp/case_study/dataset_sector/csv/trace_info/', header=True\n",
    ")"
   ]
  },
  {
   "cell_type": "code",
   "execution_count": 222,
   "id": "d8ef2fc2",
   "metadata": {},
   "outputs": [
    {
     "data": {
      "application/vnd.jupyter.widget-view+json": {
       "model_id": "",
       "version_major": 2,
       "version_minor": 0
      },
      "text/plain": [
       "FloatProgress(value=0.0, bar_style='info', description='Progress:', layout=Layout(height='25px', width='50%'),…"
      ]
     },
     "metadata": {},
     "output_type": "display_data"
    },
    {
     "name": "stdout",
     "output_type": "stream",
     "text": [
      "+----------+-----+\n",
      "|trace_bool|count|\n",
      "+----------+-----+\n",
      "|true      |12619|\n",
      "+----------+-----+"
     ]
    }
   ],
   "source": [
    "train_ids = trace_info.filter('trace_bool = True').sample(fraction=0.6)\n",
    "train_ids.groupBy('trace_bool').count().show(5, False)"
   ]
  },
  {
   "cell_type": "code",
   "execution_count": 225,
   "id": "66ac68f2",
   "metadata": {},
   "outputs": [
    {
     "data": {
      "application/vnd.jupyter.widget-view+json": {
       "model_id": "",
       "version_major": 2,
       "version_minor": 0
      },
      "text/plain": [
       "FloatProgress(value=0.0, bar_style='info', description='Progress:', layout=Layout(height='25px', width='50%'),…"
      ]
     },
     "metadata": {},
     "output_type": "display_data"
    },
    {
     "name": "stdout",
     "output_type": "stream",
     "text": [
      "+----------+-----+\n",
      "|trace_bool|count|\n",
      "+----------+-----+\n",
      "|true      |8354 |\n",
      "|false     |876  |\n",
      "+----------+-----+"
     ]
    }
   ],
   "source": [
    "rest_trace_info = trace_info.join(\n",
    "    train_ids.select('trace_id'),\n",
    "    on='trace_id',\n",
    "    how='left_anti'\n",
    ")\n",
    "rest_trace_info.groupBy('trace_bool').count().show(5, False)"
   ]
  },
  {
   "cell_type": "code",
   "execution_count": 226,
   "id": "124eae9d",
   "metadata": {},
   "outputs": [
    {
     "data": {
      "application/vnd.jupyter.widget-view+json": {
       "model_id": "",
       "version_major": 2,
       "version_minor": 0
      },
      "text/plain": [
       "FloatProgress(value=0.0, bar_style='info', description='Progress:', layout=Layout(height='25px', width='50%'),…"
      ]
     },
     "metadata": {},
     "output_type": "display_data"
    },
    {
     "name": "stdout",
     "output_type": "stream",
     "text": [
      "+----------+-----+\n",
      "|trace_bool|count|\n",
      "+----------+-----+\n",
      "|true      |4175 |\n",
      "|false     |436  |\n",
      "+----------+-----+"
     ]
    }
   ],
   "source": [
    "eval_ids = rest_trace_info.sample(fraction=0.5)\n",
    "eval_ids.groupBy('trace_bool').count().show(5, False)"
   ]
  },
  {
   "cell_type": "code",
   "execution_count": 227,
   "id": "4d9583a0",
   "metadata": {},
   "outputs": [
    {
     "data": {
      "application/vnd.jupyter.widget-view+json": {
       "model_id": "",
       "version_major": 2,
       "version_minor": 0
      },
      "text/plain": [
       "FloatProgress(value=0.0, bar_style='info', description='Progress:', layout=Layout(height='25px', width='50%'),…"
      ]
     },
     "metadata": {},
     "output_type": "display_data"
    },
    {
     "name": "stdout",
     "output_type": "stream",
     "text": [
      "+----------+-----+\n",
      "|trace_bool|count|\n",
      "+----------+-----+\n",
      "|true      |4179 |\n",
      "|false     |440  |\n",
      "+----------+-----+"
     ]
    }
   ],
   "source": [
    "test_ids = rest_trace_info.join(\n",
    "    eval_ids.select('trace_id'),\n",
    "    on='trace_id',\n",
    "    how='left_anti'\n",
    ")\n",
    "test_ids.groupBy('trace_bool').count().show(5, False)"
   ]
  },
  {
   "cell_type": "code",
   "execution_count": 228,
   "id": "d16c2da8",
   "metadata": {},
   "outputs": [
    {
     "data": {
      "application/vnd.jupyter.widget-view+json": {
       "model_id": "",
       "version_major": 2,
       "version_minor": 0
      },
      "text/plain": [
       "FloatProgress(value=0.0, bar_style='info', description='Progress:', layout=Layout(height='25px', width='50%'),…"
      ]
     },
     "metadata": {},
     "output_type": "display_data"
    }
   ],
   "source": [
    "train_ids.repartition(1).write.mode('overwrite').csv(\n",
    "    's3://kl-prod-tpgt-knowledge-lake-sandpit/TempDir/tmp/case_study/dataset_sector/csv/train/', header=False\n",
    ")\n",
    "\n",
    "eval_ids.repartition(1).write.mode('overwrite').csv(\n",
    "    's3://kl-prod-tpgt-knowledge-lake-sandpit/TempDir/tmp/case_study/dataset_sector/csv/eval/', header=False\n",
    ")\n",
    "\n",
    "test_ids.repartition(1).write.mode('overwrite').csv(\n",
    "    's3://kl-prod-tpgt-knowledge-lake-sandpit/TempDir/tmp/case_study/dataset_sector/csv/test/', header=False\n",
    ")"
   ]
  },
  {
   "cell_type": "code",
   "execution_count": null,
   "id": "91ec18f4",
   "metadata": {},
   "outputs": [],
   "source": []
  }
 ],
 "metadata": {
  "kernelspec": {
   "display_name": "PySpark",
   "language": "python",
   "name": "pysparkkernel"
  },
  "language_info": {
   "codemirror_mode": {
    "name": "python",
    "version": 3
   },
   "file_extension": ".py",
   "mimetype": "text/x-python",
   "name": "pyspark",
   "pygments_lexer": "python3"
  }
 },
 "nbformat": 4,
 "nbformat_minor": 5
}
