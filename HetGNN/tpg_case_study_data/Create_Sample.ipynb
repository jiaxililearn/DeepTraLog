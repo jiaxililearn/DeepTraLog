{
 "cells": [
  {
   "cell_type": "code",
   "execution_count": 60,
   "id": "709b1755",
   "metadata": {},
   "outputs": [],
   "source": [
    "%cleanup -f"
   ]
  },
  {
   "cell_type": "code",
   "execution_count": 1,
   "id": "3f996efe",
   "metadata": {},
   "outputs": [
    {
     "data": {
      "text/html": [
       "Current session configs: <tt>{'numExecutors': 12, 'driverMemory': '20g', 'proxyUser': 'jovyan', 'kind': 'pyspark'}</tt><br>"
      ],
      "text/plain": [
       "<IPython.core.display.HTML object>"
      ]
     },
     "metadata": {},
     "output_type": "display_data"
    },
    {
     "data": {
      "text/html": [
       "No active sessions."
      ],
      "text/plain": [
       "<IPython.core.display.HTML object>"
      ]
     },
     "metadata": {},
     "output_type": "display_data"
    }
   ],
   "source": [
    "%%configure -f\n",
    "{\n",
    "    \"numExecutors\": 12,\n",
    "    \"driverMemory\": \"20g\"\n",
    "}"
   ]
  },
  {
   "cell_type": "code",
   "execution_count": 2,
   "id": "7e6840c5",
   "metadata": {},
   "outputs": [
    {
     "name": "stdout",
     "output_type": "stream",
     "text": [
      "Starting Spark application\n"
     ]
    },
    {
     "data": {
      "text/html": [
       "<table>\n",
       "<tr><th>ID</th><th>YARN Application ID</th><th>Kind</th><th>State</th><th>Spark UI</th><th>Driver log</th><th>User</th><th>Current session?</th></tr><tr><td>1</td><td>application_1673843097496_0002</td><td>pyspark</td><td>idle</td><td><a target=\"_blank\" href=\"http://ip-10-48-113-213.prod.tpgt-bi-kl.aws.vodafone.com.au:20888/proxy/application_1673843097496_0002/\">Link</a></td><td><a target=\"_blank\" href=\"http://ip-10-48-113-32.prod.tpgt-bi-kl.aws.vodafone.com.au:8042/node/containerlogs/container_1673843097496_0002_01_000001/livy\">Link</a></td><td>None</td><td>✔</td></tr></table>"
      ],
      "text/plain": [
       "<IPython.core.display.HTML object>"
      ]
     },
     "metadata": {},
     "output_type": "display_data"
    },
    {
     "data": {
      "application/vnd.jupyter.widget-view+json": {
       "model_id": "",
       "version_major": 2,
       "version_minor": 0
      },
      "text/plain": [
       "FloatProgress(value=0.0, bar_style='info', description='Progress:', layout=Layout(height='25px', width='50%'),…"
      ]
     },
     "metadata": {},
     "output_type": "display_data"
    },
    {
     "name": "stdout",
     "output_type": "stream",
     "text": [
      "SparkSession available as 'spark'.\n"
     ]
    },
    {
     "data": {
      "application/vnd.jupyter.widget-view+json": {
       "model_id": "",
       "version_major": 2,
       "version_minor": 0
      },
      "text/plain": [
       "FloatProgress(value=0.0, bar_style='info', description='Progress:', layout=Layout(height='25px', width='50%'),…"
      ]
     },
     "metadata": {},
     "output_type": "display_data"
    }
   ],
   "source": [
    "import pyspark.sql.functions as f\n",
    "from pyspark.sql.types import *\n",
    "from pyspark.sql.window import Window"
   ]
  },
  {
   "cell_type": "code",
   "execution_count": 3,
   "id": "ab390567",
   "metadata": {},
   "outputs": [
    {
     "data": {
      "text/html": [
       "Current session configs: <tt>{'numExecutors': 12, 'driverMemory': '20g', 'proxyUser': 'jovyan', 'kind': 'pyspark'}</tt><br>"
      ],
      "text/plain": [
       "<IPython.core.display.HTML object>"
      ]
     },
     "metadata": {},
     "output_type": "display_data"
    },
    {
     "data": {
      "text/html": [
       "<table>\n",
       "<tr><th>ID</th><th>YARN Application ID</th><th>Kind</th><th>State</th><th>Spark UI</th><th>Driver log</th><th>User</th><th>Current session?</th></tr><tr><td>1</td><td>application_1673843097496_0002</td><td>pyspark</td><td>idle</td><td><a target=\"_blank\" href=\"http://ip-10-48-113-213.prod.tpgt-bi-kl.aws.vodafone.com.au:20888/proxy/application_1673843097496_0002/\">Link</a></td><td><a target=\"_blank\" href=\"http://ip-10-48-113-32.prod.tpgt-bi-kl.aws.vodafone.com.au:8042/node/containerlogs/container_1673843097496_0002_01_000001/livy\">Link</a></td><td>None</td><td>✔</td></tr></table>"
      ],
      "text/plain": [
       "<IPython.core.display.HTML object>"
      ]
     },
     "metadata": {},
     "output_type": "display_data"
    }
   ],
   "source": [
    "%%info"
   ]
  },
  {
   "cell_type": "code",
   "execution_count": 4,
   "id": "8c76a26a",
   "metadata": {},
   "outputs": [
    {
     "data": {
      "application/vnd.jupyter.widget-view+json": {
       "model_id": "",
       "version_major": 2,
       "version_minor": 0
      },
      "text/plain": [
       "FloatProgress(value=0.0, bar_style='info', description='Progress:', layout=Layout(height='25px', width='50%'),…"
      ]
     },
     "metadata": {},
     "output_type": "display_data"
    }
   ],
   "source": [
    "csv_dir = 's3://kl-prod-tpgt-knowledge-lake-sandpit/TempDir/tmp/case_study/dataset/csv'\n",
    "updated_csv_dir = 's3://kl-prod-tpgt-knowledge-lake-sandpit/TempDir/tmp/case_study/dataset/updated_csv'"
   ]
  },
  {
   "cell_type": "markdown",
   "id": "5b79d3ae",
   "metadata": {},
   "source": [
    "## Node Features"
   ]
  },
  {
   "cell_type": "code",
   "execution_count": 7,
   "id": "989cc31c",
   "metadata": {},
   "outputs": [
    {
     "data": {
      "application/vnd.jupyter.widget-view+json": {
       "model_id": "",
       "version_major": 2,
       "version_minor": 0
      },
      "text/plain": [
       "FloatProgress(value=0.0, bar_style='info', description='Progress:', layout=Layout(height='25px', width='50%'),…"
      ]
     },
     "metadata": {},
     "output_type": "display_data"
    },
    {
     "name": "stdout",
     "output_type": "stream",
     "text": [
      "+--------+-------+---+---+---+---+---+---+---+------------+----------+------------+----+------------+----+------------+----+----+------------+----+----+----+----+----+----+----+----+----+----+----+----+----+---------+\n",
      "|trace_id|node_id|f_0|f_1|f_2|f_3|f_4|f_5|f_6|f_7         |f_8       |f_9         |f_10|f_11        |f_12|f_13        |f_14|f_15|f_16        |f_17|f_18|f_19|f_20|f_21|f_22|f_23|f_24|f_25|f_26|f_27|f_28|f_29|f_30     |\n",
      "+--------+-------+---+---+---+---+---+---+---+------------+----------+------------+----+------------+----+------------+----+----+------------+----+----+----+----+----+----+----+----+----+----+----+----+----+---------+\n",
      "|256166  |1      |0.0|0.0|0.0|0.0|0.0|0.0|0.0|0.0032774243|0.0       |0.0         |0.0 |0.0         |0.0 |0.0018656716|0.0 |0.0 |0.0         |0.5 |0.5 |0.5 |0.5 |0.5 |0.0 |0.0 |0.0 |0.0 |0.0 |0.5 |0.5 |0.5 |0.0      |\n",
      "|397382  |8      |0.0|0.0|0.0|0.0|0.0|0.0|0.0|0.0         |0.0       |0.0         |0.0 |0.0         |0.0 |6.2189053E-4|0.0 |0.0 |0.0         |0.5 |0.5 |0.5 |0.5 |0.5 |0.0 |0.0 |0.0 |0.0 |0.0 |0.5 |0.5 |0.5 |0.0      |\n",
      "|621910  |1      |0.0|0.0|0.0|0.0|0.0|0.0|0.0|1.9278967E-4|0.0       |0.0060975607|0.0 |0.0         |0.0 |0.0         |0.0 |0.0 |0.0022988506|0.5 |0.5 |0.5 |0.5 |0.5 |0.0 |0.0 |0.0 |0.0 |0.0 |0.5 |0.5 |0.5 |0.0      |\n",
      "|642063  |1      |0.0|0.0|0.0|0.0|0.0|0.0|0.0|5.78369E-4  |0.0       |0.0         |0.0 |0.0         |0.0 |0.0012437811|0.0 |0.0 |0.0         |0.5 |0.5 |0.5 |0.5 |0.5 |0.0 |0.0 |0.0 |0.0 |0.0 |0.5 |0.5 |0.5 |0.0      |\n",
      "|739593  |17     |0.0|0.0|0.0|0.0|0.0|0.0|0.0|0.0013495276|6.17284E-4|0.0         |0.0 |0.0070422534|0.0 |0.0043532336|0.0 |0.0 |0.0022988506|0.5 |0.5 |0.5 |0.5 |0.5 |0.0 |0.0 |0.0 |0.0 |0.0 |0.5 |0.5 |0.5 |0.8403128|\n",
      "+--------+-------+---+---+---+---+---+---+---+------------+----------+------------+----+------------+----+------------+----+----+------------+----+----+----+----+----+----+----+----+----+----+----+----+----+---------+\n",
      "only showing top 5 rows"
     ]
    }
   ],
   "source": [
    "node_features = spark.read.csv(f'{csv_dir}/node_feature_norm/', header=True)\n",
    "node_features.show(5, False)"
   ]
  },
  {
   "cell_type": "code",
   "execution_count": 20,
   "id": "4b7f9d40",
   "metadata": {},
   "outputs": [
    {
     "data": {
      "application/vnd.jupyter.widget-view+json": {
       "model_id": "",
       "version_major": 2,
       "version_minor": 0
      },
      "text/plain": [
       "FloatProgress(value=0.0, bar_style='info', description='Progress:', layout=Layout(height='25px', width='50%'),…"
      ]
     },
     "metadata": {},
     "output_type": "display_data"
    },
    {
     "name": "stdout",
     "output_type": "stream",
     "text": [
      "+--------+---------+\n",
      "|trace_id|new_index|\n",
      "+--------+---------+\n",
      "|    1000|        0|\n",
      "|  100000|        1|\n",
      "| 1000000|        2|\n",
      "|10000010|        3|\n",
      "|10000011|        4|\n",
      "|10000017|        5|\n",
      "|10000018|        6|\n",
      "|10000019|        7|\n",
      "| 1000002|        8|\n",
      "|10000020|        9|\n",
      "|10000023|       10|\n",
      "|10000024|       11|\n",
      "|10000025|       12|\n",
      "|10000027|       13|\n",
      "|10000029|       14|\n",
      "| 1000003|       15|\n",
      "|10000030|       16|\n",
      "|10000031|       17|\n",
      "|10000032|       18|\n",
      "|10000034|       19|\n",
      "+--------+---------+\n",
      "only showing top 20 rows"
     ]
    }
   ],
   "source": [
    "# the selected set of ids\n",
    "selected_trace_ids = node_features.groupBy('trace_id').agg(\n",
    "    f.sum('node_id').alias('num_nodes')\n",
    ").filter('num_nodes > 4').select('trace_id')\n",
    "\n",
    "selected_trace_ids = selected_trace_ids.withColumn(\n",
    "    'new_index', f.row_number().over(Window.orderBy('trace_id')) - 1\n",
    ")\n",
    "\n",
    "selected_trace_ids.persist()\n",
    "selected_trace_ids.show()"
   ]
  },
  {
   "cell_type": "code",
   "execution_count": 23,
   "id": "fdb60892",
   "metadata": {},
   "outputs": [
    {
     "data": {
      "application/vnd.jupyter.widget-view+json": {
       "model_id": "",
       "version_major": 2,
       "version_minor": 0
      },
      "text/plain": [
       "FloatProgress(value=0.0, bar_style='info', description='Progress:', layout=Layout(height='25px', width='50%'),…"
      ]
     },
     "metadata": {},
     "output_type": "display_data"
    },
    {
     "name": "stdout",
     "output_type": "stream",
     "text": [
      "7846518"
     ]
    }
   ],
   "source": [
    "selected_trace_ids.count()"
   ]
  },
  {
   "cell_type": "code",
   "execution_count": 19,
   "id": "25e3b0ce",
   "metadata": {
    "scrolled": true
   },
   "outputs": [
    {
     "data": {
      "application/vnd.jupyter.widget-view+json": {
       "model_id": "",
       "version_major": 2,
       "version_minor": 0
      },
      "text/plain": [
       "FloatProgress(value=0.0, bar_style='info', description='Progress:', layout=Layout(height='25px', width='50%'),…"
      ]
     },
     "metadata": {},
     "output_type": "display_data"
    },
    {
     "name": "stdout",
     "output_type": "stream",
     "text": [
      "+--------+-------+---+---+---+---+---+---+-----------+------------+------------+------------+------------+------------+----------+------------+----+----+------------+----+----+----+----+----+----+----+----+----+----+----+----+----+----------+---------+\n",
      "|trace_id|node_id|f_0|f_1|f_2|f_3|f_4|f_5|        f_6|         f_7|         f_8|         f_9|        f_10|        f_11|      f_12|        f_13|f_14|f_15|        f_16|f_17|f_18|f_19|f_20|f_21|f_22|f_23|f_24|f_25|f_26|f_27|f_28|f_29|      f_30|new_index|\n",
      "+--------+-------+---+---+---+---+---+---+-----------+------------+------------+------------+------------+------------+----------+------------+----+----+------------+----+----+----+----+----+----+----+----+----+----+----+----+----+----------+---------+\n",
      "|  256166|      1|0.0|0.0|0.0|0.0|0.0|0.0|        0.0|0.0032774243|         0.0|         0.0|         0.0|         0.0|       0.0|0.0018656716| 0.0| 0.0|         0.0| 0.5| 0.5| 0.5| 0.5| 0.5| 0.0| 0.0| 0.0| 0.0| 0.0| 0.5| 0.5| 0.5|       0.0|  3481755|\n",
      "|  397382|      8|0.0|0.0|0.0|0.0|0.0|0.0|        0.0|         0.0|         0.0|         0.0|         0.0|         0.0|       0.0|6.2189053E-4| 0.0| 0.0|         0.0| 0.5| 0.5| 0.5| 0.5| 0.5| 0.0| 0.0| 0.0| 0.0| 0.0| 0.5| 0.5| 0.5|       0.0|  4303036|\n",
      "|  621910|      1|0.0|0.0|0.0|0.0|0.0|0.0|        0.0|1.9278967E-4|         0.0|0.0060975607|         0.0|         0.0|       0.0|         0.0| 0.0| 0.0|0.0022988506| 0.5| 0.5| 0.5| 0.5| 0.5| 0.0| 0.0| 0.0| 0.0| 0.0| 0.5| 0.5| 0.5|       0.0|  5638924|\n",
      "|  642063|      1|0.0|0.0|0.0|0.0|0.0|0.0|        0.0|  5.78369E-4|         0.0|         0.0|         0.0|         0.0|       0.0|0.0012437811| 0.0| 0.0|         0.0| 0.5| 0.5| 0.5| 0.5| 0.5| 0.0| 0.0| 0.0| 0.0| 0.0| 0.5| 0.5| 0.5|       0.0|  5758146|\n",
      "|  739593|     17|0.0|0.0|0.0|0.0|0.0|0.0|        0.0|0.0013495276|  6.17284E-4|         0.0|         0.0|0.0070422534|       0.0|0.0043532336| 0.0| 0.0|0.0022988506| 0.5| 0.5| 0.5| 0.5| 0.5| 0.0| 0.0| 0.0| 0.0| 0.0| 0.5| 0.5| 0.5| 0.8403128|  6336326|\n",
      "|  927075|      7|0.0|0.0|0.0|0.0|0.0|0.0|        0.0|1.9278967E-4|         0.0|         0.0|         0.0|         0.0|       0.0|0.0062189056| 0.0| 0.0|         0.0| 0.5| 0.5| 0.5| 0.5| 0.5| 0.0| 0.0| 0.0| 0.0| 0.0| 0.5| 0.5| 0.5| 0.3916618|  7428048|\n",
      "| 1119954|      2|0.0|0.0|0.0|0.0|0.0|0.0|0.011976048|  5.78369E-4|0.0015432099| 0.030487806| 0.036585364|  0.03521127|       0.0|0.0099502485| 0.0| 0.0| 0.050574712| 0.5| 0.5| 0.5| 0.5| 0.5| 0.0| 0.0| 0.0| 0.0| 0.0| 0.5| 0.5| 0.5|       0.0|   677930|\n",
      "| 1331135|      6|0.0|0.0|0.0|0.0|0.0|0.0|        0.0|1.9278967E-4|         0.0|         0.0|         0.0|         0.0|       0.0|0.0062189056| 0.0| 0.0|         0.0| 0.5| 0.5| 0.5| 0.5| 0.5| 0.0| 0.0| 0.0| 0.0| 0.0| 0.5| 0.5| 0.5| 0.7170319|  1877120|\n",
      "| 1349544|      4|0.0|0.0|0.0|0.0|0.0|0.0|        0.0|3.8557933E-4|         0.0|         0.0|         0.0|         0.0|       0.0|         0.0| 0.0| 0.0|         0.0| 0.5| 0.5| 0.5| 0.5| 0.5| 0.0| 0.0| 0.0| 0.0| 0.0| 0.5| 0.5| 0.5|       0.0|  1984681|\n",
      "| 1387444|      4|0.0|0.0|0.0|0.0|0.0|0.0|        0.0|1.9278967E-4|         0.0|         0.0|         0.0|         0.0|       0.0|         0.0| 0.0| 0.0|         0.0| 0.5| 0.5| 0.5| 0.5| 0.5| 0.0| 0.0| 0.0| 0.0| 0.0| 0.5| 0.5| 0.5| 0.4604877|  2206706|\n",
      "| 1603007|      3|0.0|0.0|0.0|0.0|0.0|0.0|        0.0|         0.0|         0.0|0.0121951215|0.0060975607|         0.0|       0.0|0.0024875621| 0.0| 0.0|0.0068965517| 0.5| 0.5| 0.5| 0.5| 0.5| 0.0| 0.0| 0.0| 0.0| 0.0| 0.5| 0.5| 0.5|       0.0|  2914841|\n",
      "| 1604497|     19|0.0|0.0|0.0|0.0|0.0|0.0|        0.0|1.9278967E-4|         0.0|         0.0|         0.0|         0.0|       0.0|         0.0| 0.0| 0.0|         0.0| 0.5| 0.5| 0.5| 0.5| 0.5| 0.0| 0.0| 0.0| 0.0| 0.0| 0.5| 0.5| 0.5|0.73344254|  2915790|\n",
      "| 1648925|     11|0.0|0.0|0.0|0.0|0.0|0.0|        0.0|0.0015423173|         0.0|         0.0|         0.0|         0.0|       0.0|0.0018656716| 0.0| 0.0|         0.0| 0.5| 0.5| 0.5| 0.5| 0.5| 0.0| 0.0| 0.0| 0.0| 0.0| 0.5| 0.5| 0.5| 0.4089687|  2942628|\n",
      "| 1676319|      2|0.0|0.0|0.0|0.0|0.0|0.0|        0.0|         0.0|         0.0|         0.0|         0.0|         0.0|       0.0|0.0024875621| 0.0| 0.0|         0.0| 0.5| 0.5| 0.5| 0.5| 0.5| 0.0| 0.0| 0.0| 0.0| 0.0| 0.5| 0.5| 0.5|       0.0|  2958780|\n",
      "| 1746363|     10|0.0|0.0|0.0|0.0|0.0|0.0|        0.0|3.8557933E-4|         0.0|         0.0|         0.0|         0.0|       0.0|         0.0| 0.0| 0.0|         0.0| 0.5| 0.5| 0.5| 0.5| 0.5| 0.0| 0.0| 0.0| 0.0| 0.0| 0.5| 0.5| 0.5|       0.0|  3000500|\n",
      "| 1752216|      0|0.0|0.0|0.0|0.0|0.0|0.0|0.005988024|         0.0| 0.001234568|         0.0|         0.0|         0.0|0.00729927|         0.0| 0.0| 0.0|         0.0| 0.5| 0.5| 0.5| 0.5| 0.5| 0.0| 0.0| 0.0| 0.0| 0.0| 0.5| 0.5| 0.5|       0.0|  3004065|\n",
      "| 1983710|     27|0.0|0.0|0.0|0.0|0.0|0.0|        0.0|         0.0|         0.0|         0.0|         0.0|         0.0|       0.0|6.2189053E-4| 0.0| 0.0|         0.0| 0.5| 0.5| 0.5| 0.5| 0.5| 0.0| 0.0| 0.0| 0.0| 0.0| 0.5| 0.5| 0.5|0.29857528|  3139689|\n",
      "| 1992033|      1|0.0|0.0|0.0|0.0|0.0|0.0|        0.0|         0.0|         0.0|         0.0|         0.0|         0.0|       0.0|0.0074626864| 0.0| 0.0|         0.0| 0.5| 0.5| 0.5| 0.5| 0.5| 0.0| 0.0| 0.0| 0.0| 0.0| 0.5| 0.5| 0.5|       0.0|  3144622|\n",
      "| 2105093|     21|0.0|0.0|0.0|0.0|0.0|0.0|        0.0|1.9278967E-4|         0.0|         0.0|         0.0|         0.0|       0.0|         0.0| 0.0| 0.0|         0.0| 0.5| 0.5| 0.5| 0.5| 0.5| 0.0| 0.0| 0.0| 0.0| 0.0| 0.5| 0.5| 0.5|0.43610346|  3210539|\n",
      "| 2108898|      2|0.0|0.0|0.0|0.0|0.0|0.0|        0.0|1.9278967E-4|         0.0|         0.0|         0.0|         0.0|       0.0|0.0018656716| 0.0| 0.0|         0.0| 0.5| 0.5| 0.5| 0.5| 0.5| 0.0| 0.0| 0.0| 0.0| 0.0| 0.5| 0.5| 0.5|       0.0|  3212619|\n",
      "+--------+-------+---+---+---+---+---+---+-----------+------------+------------+------------+------------+------------+----------+------------+----+----+------------+----+----+----+----+----+----+----+----+----+----+----+----+----+----------+---------+\n",
      "only showing top 20 rows"
     ]
    }
   ],
   "source": [
    "node_features.join(\n",
    "    selected_trace_ids,\n",
    "    on='trace_id',\n",
    "    how='inner'\n",
    ").show(5, False)  # 89052869"
   ]
  },
  {
   "cell_type": "code",
   "execution_count": 28,
   "id": "b85e06ad",
   "metadata": {},
   "outputs": [
    {
     "data": {
      "application/vnd.jupyter.widget-view+json": {
       "model_id": "",
       "version_major": 2,
       "version_minor": 0
      },
      "text/plain": [
       "FloatProgress(value=0.0, bar_style='info', description='Progress:', layout=Layout(height='25px', width='50%'),…"
      ]
     },
     "metadata": {},
     "output_type": "display_data"
    },
    {
     "name": "stdout",
     "output_type": "stream",
     "text": [
      "+-------+---+---+---+---+---+---+---+------------+----------+------------+----+------------+----+------------+----+----+------------+----+----+----+----+----+----+----+----+----+----+----+----+----+---------+--------+\n",
      "|node_id|f_0|f_1|f_2|f_3|f_4|f_5|f_6|f_7         |f_8       |f_9         |f_10|f_11        |f_12|f_13        |f_14|f_15|f_16        |f_17|f_18|f_19|f_20|f_21|f_22|f_23|f_24|f_25|f_26|f_27|f_28|f_29|f_30     |trace_id|\n",
      "+-------+---+---+---+---+---+---+---+------------+----------+------------+----+------------+----+------------+----+----+------------+----+----+----+----+----+----+----+----+----+----+----+----+----+---------+--------+\n",
      "|1      |0.0|0.0|0.0|0.0|0.0|0.0|0.0|0.0032774243|0.0       |0.0         |0.0 |0.0         |0.0 |0.0018656716|0.0 |0.0 |0.0         |0.5 |0.5 |0.5 |0.5 |0.5 |0.0 |0.0 |0.0 |0.0 |0.0 |0.5 |0.5 |0.5 |0.0      |3481754 |\n",
      "|8      |0.0|0.0|0.0|0.0|0.0|0.0|0.0|0.0         |0.0       |0.0         |0.0 |0.0         |0.0 |6.2189053E-4|0.0 |0.0 |0.0         |0.5 |0.5 |0.5 |0.5 |0.5 |0.0 |0.0 |0.0 |0.0 |0.0 |0.5 |0.5 |0.5 |0.0      |4303035 |\n",
      "|1      |0.0|0.0|0.0|0.0|0.0|0.0|0.0|1.9278967E-4|0.0       |0.0060975607|0.0 |0.0         |0.0 |0.0         |0.0 |0.0 |0.0022988506|0.5 |0.5 |0.5 |0.5 |0.5 |0.0 |0.0 |0.0 |0.0 |0.0 |0.5 |0.5 |0.5 |0.0      |5638923 |\n",
      "|1      |0.0|0.0|0.0|0.0|0.0|0.0|0.0|5.78369E-4  |0.0       |0.0         |0.0 |0.0         |0.0 |0.0012437811|0.0 |0.0 |0.0         |0.5 |0.5 |0.5 |0.5 |0.5 |0.0 |0.0 |0.0 |0.0 |0.0 |0.5 |0.5 |0.5 |0.0      |5758145 |\n",
      "|17     |0.0|0.0|0.0|0.0|0.0|0.0|0.0|0.0013495276|6.17284E-4|0.0         |0.0 |0.0070422534|0.0 |0.0043532336|0.0 |0.0 |0.0022988506|0.5 |0.5 |0.5 |0.5 |0.5 |0.0 |0.0 |0.0 |0.0 |0.0 |0.5 |0.5 |0.5 |0.8403128|6336325 |\n",
      "+-------+---+---+---+---+---+---+---+------------+----------+------------+----+------------+----+------------+----+----+------------+----+----+----+----+----+----+----+----+----+----+----+----+----+---------+--------+\n",
      "only showing top 5 rows"
     ]
    }
   ],
   "source": [
    "updated_node_features = node_features.join(\n",
    "    selected_trace_ids,\n",
    "    on='trace_id',\n",
    "    how='inner'\n",
    ").drop('trace_id').withColumnRenamed('new_index', 'trace_id')\n",
    "\n",
    "updated_node_features.show(5,False)\n",
    "updated_node_features.repartition(1).write.mode('overwrite').csv(\n",
    "    f'{updated_csv_dir}/node_feature_norm/', header=True)"
   ]
  },
  {
   "cell_type": "markdown",
   "id": "b8aba2d9",
   "metadata": {},
   "source": [
    "## Edge Index"
   ]
  },
  {
   "cell_type": "code",
   "execution_count": 27,
   "id": "cd98949a",
   "metadata": {},
   "outputs": [
    {
     "data": {
      "application/vnd.jupyter.widget-view+json": {
       "model_id": "",
       "version_major": 2,
       "version_minor": 0
      },
      "text/plain": [
       "FloatProgress(value=0.0, bar_style='info', description='Progress:', layout=Layout(height='25px', width='50%'),…"
      ]
     },
     "metadata": {},
     "output_type": "display_data"
    },
    {
     "name": "stdout",
     "output_type": "stream",
     "text": [
      "+--------+------+------+\n",
      "|trace_id|src_id|dst_id|\n",
      "+--------+------+------+\n",
      "|56      |1     |2     |\n",
      "|105     |0     |3     |\n",
      "|141     |0     |2     |\n",
      "|173     |7     |16    |\n",
      "|259     |0     |6     |\n",
      "+--------+------+------+\n",
      "only showing top 5 rows"
     ]
    }
   ],
   "source": [
    "edge_index = spark.read.csv(f'{csv_dir}/edge_index/', header=True)\n",
    "edge_index.show(5, False)"
   ]
  },
  {
   "cell_type": "code",
   "execution_count": 29,
   "id": "2bed495a",
   "metadata": {},
   "outputs": [
    {
     "data": {
      "application/vnd.jupyter.widget-view+json": {
       "model_id": "",
       "version_major": 2,
       "version_minor": 0
      },
      "text/plain": [
       "FloatProgress(value=0.0, bar_style='info', description='Progress:', layout=Layout(height='25px', width='50%'),…"
      ]
     },
     "metadata": {},
     "output_type": "display_data"
    }
   ],
   "source": [
    "updated_edge_index = edge_index.join(\n",
    "    selected_trace_ids,\n",
    "    on='trace_id',\n",
    "    how='inner'\n",
    ").drop('trace_id').withColumnRenamed('new_index', 'trace_id')\n",
    "\n",
    "updated_edge_index.repartition(1).write.mode('overwrite').csv(\n",
    "    f'{updated_csv_dir}/edge_index/', header=True)"
   ]
  },
  {
   "cell_type": "markdown",
   "id": "8aec1cee",
   "metadata": {},
   "source": [
    "## Node Types"
   ]
  },
  {
   "cell_type": "code",
   "execution_count": 32,
   "id": "2d83876d",
   "metadata": {},
   "outputs": [
    {
     "data": {
      "application/vnd.jupyter.widget-view+json": {
       "model_id": "",
       "version_major": 2,
       "version_minor": 0
      },
      "text/plain": [
       "FloatProgress(value=0.0, bar_style='info', description='Progress:', layout=Layout(height='25px', width='50%'),…"
      ]
     },
     "metadata": {},
     "output_type": "display_data"
    }
   ],
   "source": [
    "# node_types = spark.read.csv(f'{csv_dir}/node_types/', header=False)\n",
    "# node_types.show(5, False)"
   ]
  },
  {
   "cell_type": "code",
   "execution_count": 33,
   "id": "b736b3ce",
   "metadata": {},
   "outputs": [
    {
     "data": {
      "application/vnd.jupyter.widget-view+json": {
       "model_id": "",
       "version_major": 2,
       "version_minor": 0
      },
      "text/plain": [
       "FloatProgress(value=0.0, bar_style='info', description='Progress:', layout=Layout(height='25px', width='50%'),…"
      ]
     },
     "metadata": {},
     "output_type": "display_data"
    }
   ],
   "source": [
    "@f.udf(returnType=ArrayType(ArrayType(IntegerType())))\n",
    "def construct_node_types(node_list):\n",
    "    node_types = [[] for i in range(3)]\n",
    "    for ntype, nid in node_list:\n",
    "        node_types[int(ntype)].append(nid)\n",
    "    return node_types\n",
    "        "
   ]
  },
  {
   "cell_type": "code",
   "execution_count": 31,
   "id": "119fcbe5",
   "metadata": {},
   "outputs": [
    {
     "data": {
      "application/vnd.jupyter.widget-view+json": {
       "model_id": "",
       "version_major": 2,
       "version_minor": 0
      },
      "text/plain": [
       "FloatProgress(value=0.0, bar_style='info', description='Progress:', layout=Layout(height='25px', width='50%'),…"
      ]
     },
     "metadata": {},
     "output_type": "display_data"
    },
    {
     "name": "stdout",
     "output_type": "stream",
     "text": [
      "+--------+-----------------------------+---------+-------+\n",
      "|trace_id|node_name                    |node_type|node_id|\n",
      "+--------+-----------------------------+---------+-------+\n",
      "|261     |2100006525                   |0        |0      |\n",
      "|261     |227444_HurstvilleCBD_L18B_2  |1        |1      |\n",
      "|261     |227444_HurstvilleCBD_L18A_2  |1        |2      |\n",
      "|261     |201803_Penhust594FstRd_L08A_2|1        |3      |\n",
      "|261     |228290_NorthKogarah_L18A_1   |1        |4      |\n",
      "+--------+-----------------------------+---------+-------+\n",
      "only showing top 5 rows"
     ]
    }
   ],
   "source": [
    "node_overview = spark.read.parquet('s3://kl-prod-tpgt-knowledge-lake-sandpit/TempDir/tmp/case_study/dataset/node_overview/')\n",
    "node_overview.show(5, False)"
   ]
  },
  {
   "cell_type": "code",
   "execution_count": 35,
   "id": "6efb572e",
   "metadata": {},
   "outputs": [
    {
     "data": {
      "application/vnd.jupyter.widget-view+json": {
       "model_id": "",
       "version_major": 2,
       "version_minor": 0
      },
      "text/plain": [
       "FloatProgress(value=0.0, bar_style='info', description='Progress:', layout=Layout(height='25px', width='50%'),…"
      ]
     },
     "metadata": {},
     "output_type": "display_data"
    }
   ],
   "source": [
    "updated_node_types = node_overview.join(\n",
    "    selected_trace_ids,\n",
    "    on='trace_id',\n",
    "    how='inner'\n",
    ").drop('trace_id').withColumnRenamed('new_index', 'trace_id').groupBy('trace_id').agg(\n",
    "    construct_node_types(\n",
    "        f.collect_list(f.struct('node_type', 'node_id'))\n",
    "    ).alias('node_types')\n",
    ").orderBy('trace_id')\n",
    "\n",
    "# updated_node_types.count() 7846518\n",
    "updated_node_types.select(\n",
    "    'trace_id', f.col('node_types').cast('string')\n",
    ").repartition(1).write.mode('overwrite').csv(\n",
    "    f'{updated_csv_dir}/node_types/', header=False)"
   ]
  },
  {
   "cell_type": "markdown",
   "id": "2e3434d7",
   "metadata": {},
   "source": [
    "## Trace Info"
   ]
  },
  {
   "cell_type": "code",
   "execution_count": 36,
   "id": "e7dbdcfe",
   "metadata": {},
   "outputs": [
    {
     "data": {
      "application/vnd.jupyter.widget-view+json": {
       "model_id": "",
       "version_major": 2,
       "version_minor": 0
      },
      "text/plain": [
       "FloatProgress(value=0.0, bar_style='info', description='Progress:', layout=Layout(height='25px', width='50%'),…"
      ]
     },
     "metadata": {},
     "output_type": "display_data"
    },
    {
     "name": "stdout",
     "output_type": "stream",
     "text": [
      "+--------+-------------------------+----------+----------------+\n",
      "|trace_id|customer_experience_index|trace_bool|error_trace_type|\n",
      "+--------+-------------------------+----------+----------------+\n",
      "|584395  |90.0                     |1         |1               |\n",
      "|584396  |71.0                     |1         |1               |\n",
      "|584397  |76.0                     |1         |1               |\n",
      "|584398  |83.0                     |1         |1               |\n",
      "|584399  |86.0                     |1         |1               |\n",
      "+--------+-------------------------+----------+----------------+\n",
      "only showing top 5 rows"
     ]
    }
   ],
   "source": [
    "trace_info = spark.read.csv(f'{csv_dir}/trace_info/', header=True)\n",
    "trace_info.show(5, False)"
   ]
  },
  {
   "cell_type": "code",
   "execution_count": 37,
   "id": "54457ca6",
   "metadata": {},
   "outputs": [
    {
     "data": {
      "application/vnd.jupyter.widget-view+json": {
       "model_id": "",
       "version_major": 2,
       "version_minor": 0
      },
      "text/plain": [
       "FloatProgress(value=0.0, bar_style='info', description='Progress:', layout=Layout(height='25px', width='50%'),…"
      ]
     },
     "metadata": {},
     "output_type": "display_data"
    }
   ],
   "source": [
    "updated_trace_info = trace_info.join(\n",
    "    selected_trace_ids,\n",
    "    on='trace_id',\n",
    "    how='inner'\n",
    ").drop('trace_id').withColumnRenamed('new_index', 'trace_id')\n",
    "\n",
    "updated_trace_info.repartition(1).write.mode('overwrite').csv(\n",
    "    f'{updated_csv_dir}/trace_info/', header=True)"
   ]
  },
  {
   "cell_type": "code",
   "execution_count": 38,
   "id": "7357543f",
   "metadata": {},
   "outputs": [
    {
     "data": {
      "application/vnd.jupyter.widget-view+json": {
       "model_id": "",
       "version_major": 2,
       "version_minor": 0
      },
      "text/plain": [
       "FloatProgress(value=0.0, bar_style='info', description='Progress:', layout=Layout(height='25px', width='50%'),…"
      ]
     },
     "metadata": {},
     "output_type": "display_data"
    },
    {
     "name": "stdout",
     "output_type": "stream",
     "text": [
      "7846518"
     ]
    }
   ],
   "source": [
    "updated_trace_info.count()"
   ]
  },
  {
   "cell_type": "markdown",
   "id": "eb552f42",
   "metadata": {},
   "source": [
    "## Train/Eval/Test (small)"
   ]
  },
  {
   "cell_type": "code",
   "execution_count": 40,
   "id": "6bf856a1",
   "metadata": {},
   "outputs": [
    {
     "data": {
      "application/vnd.jupyter.widget-view+json": {
       "model_id": "",
       "version_major": 2,
       "version_minor": 0
      },
      "text/plain": [
       "FloatProgress(value=0.0, bar_style='info', description='Progress:', layout=Layout(height='25px', width='50%'),…"
      ]
     },
     "metadata": {},
     "output_type": "display_data"
    },
    {
     "name": "stdout",
     "output_type": "stream",
     "text": [
      "+-------------------------+----------+----------------+--------+\n",
      "|customer_experience_index|trace_bool|error_trace_type|trace_id|\n",
      "+-------------------------+----------+----------------+--------+\n",
      "|90.0                     |1         |1               |5416926 |\n",
      "|71.0                     |1         |1               |5416928 |\n",
      "|86.0                     |1         |1               |5416945 |\n",
      "|83.0                     |1         |1               |5416953 |\n",
      "|74.0                     |1         |1               |5416969 |\n",
      "+-------------------------+----------+----------------+--------+\n",
      "only showing top 5 rows"
     ]
    }
   ],
   "source": [
    "updated_trace_info.show(5,False)"
   ]
  },
  {
   "cell_type": "code",
   "execution_count": 39,
   "id": "da617ad2",
   "metadata": {},
   "outputs": [
    {
     "data": {
      "application/vnd.jupyter.widget-view+json": {
       "model_id": "",
       "version_major": 2,
       "version_minor": 0
      },
      "text/plain": [
       "FloatProgress(value=0.0, bar_style='info', description='Progress:', layout=Layout(height='25px', width='50%'),…"
      ]
     },
     "metadata": {},
     "output_type": "display_data"
    },
    {
     "name": "stdout",
     "output_type": "stream",
     "text": [
      "+----------+-------+\n",
      "|trace_bool|  count|\n",
      "+----------+-------+\n",
      "|         0|1811391|\n",
      "|         1|6035127|\n",
      "+----------+-------+"
     ]
    }
   ],
   "source": [
    "updated_trace_info.groupBy('trace_bool').count().show()"
   ]
  },
  {
   "cell_type": "code",
   "execution_count": 41,
   "id": "ec14a0a1",
   "metadata": {},
   "outputs": [
    {
     "data": {
      "application/vnd.jupyter.widget-view+json": {
       "model_id": "",
       "version_major": 2,
       "version_minor": 0
      },
      "text/plain": [
       "FloatProgress(value=0.0, bar_style='info', description='Progress:', layout=Layout(height='25px', width='50%'),…"
      ]
     },
     "metadata": {},
     "output_type": "display_data"
    },
    {
     "name": "stdout",
     "output_type": "stream",
     "text": [
      "+-------------------------+----------+----------------+--------+--------------------+----------+\n",
      "|customer_experience_index|trace_bool|error_trace_type|trace_id|                rand|row_number|\n",
      "+-------------------------+----------+----------------+--------+--------------------+----------+\n",
      "|                     75.0|         1|               1| 4110162|2.169874164681395...|         1|\n",
      "|                     75.0|         1|               1| 5441665|2.301327352238758E-6|         2|\n",
      "|                     75.0|         1|               1| 1140684|6.169376423170725E-6|         3|\n",
      "|                     75.0|         1|               1| 4442607|6.413018637574375E-6|         4|\n",
      "|                     75.0|         1|               1| 6652163|1.470359753252825...|         5|\n",
      "|                     75.0|         1|               1| 6421045|1.977907016736946E-5|         6|\n",
      "|                     75.0|         1|               1| 5505876|2.188814858328225...|         7|\n",
      "|                     75.0|         1|               1| 6110919|2.627665915544419...|         8|\n",
      "|                     75.0|         1|               1| 6132371|3.441325170971954E-5|         9|\n",
      "|                     75.0|         1|               1| 1708232|4.098927188767032E-5|        10|\n",
      "|                     75.0|         1|               1| 4342902|4.126360969614051E-5|        11|\n",
      "|                     75.0|         1|               1| 6912100|4.315211360705895E-5|        12|\n",
      "|                     75.0|         1|               1| 3629384|4.772497843164025E-5|        13|\n",
      "|                     75.0|         1|               1| 3867587|5.493417508395382E-5|        14|\n",
      "|                     75.0|         1|               1|  914044|5.685337195304729...|        15|\n",
      "|                     75.0|         1|               1| 6906761|5.723150053982273E-5|        16|\n",
      "|                     75.0|         1|               1| 5519290|5.937125929744713E-5|        17|\n",
      "|                     75.0|         1|               1| 7419478|6.041039877324739E-5|        18|\n",
      "|                     75.0|         1|               1| 2027087|7.251213521219935E-5|        19|\n",
      "|                     75.0|         1|               1| 1932870|8.004042137521594E-5|        20|\n",
      "+-------------------------+----------+----------------+--------+--------------------+----------+\n",
      "only showing top 20 rows"
     ]
    }
   ],
   "source": [
    "normal_traces = updated_trace_info.filter('trace_bool = 1')\n",
    "sample_pool = normal_traces.withColumn(\n",
    "    'rand', f.rand()\n",
    ").withColumn(\n",
    "    'row_number', f.row_number().over(\n",
    "        Window.partitionBy('customer_experience_index').orderBy('rand')\n",
    "    )\n",
    ")\n",
    "sample_pool.show()"
   ]
  },
  {
   "cell_type": "code",
   "execution_count": 46,
   "id": "c48b2948",
   "metadata": {},
   "outputs": [
    {
     "data": {
      "application/vnd.jupyter.widget-view+json": {
       "model_id": "",
       "version_major": 2,
       "version_minor": 0
      },
      "text/plain": [
       "FloatProgress(value=0.0, bar_style='info', description='Progress:', layout=Layout(height='25px', width='50%'),…"
      ]
     },
     "metadata": {},
     "output_type": "display_data"
    },
    {
     "name": "stdout",
     "output_type": "stream",
     "text": [
      "+----------+-------------------------+------+----------+\n",
      "|trace_bool|customer_experience_index| count|num_sample|\n",
      "+----------+-------------------------+------+----------+\n",
      "|         1|                     86.0|238755|       238|\n",
      "|         1|                     82.0|225214|       225|\n",
      "|         1|                     81.0|228525|       228|\n",
      "|         1|                     80.0|209591|       209|\n",
      "|         1|                     76.0|169867|       169|\n",
      "|         1|                     91.0|230846|       230|\n",
      "|         1|                     79.0|197193|       197|\n",
      "|         1|                    100.0| 99381|        99|\n",
      "|         1|                     77.0|180163|       180|\n",
      "|         1|                     74.0|150575|       150|\n",
      "|         1|                     73.0|139217|       139|\n",
      "|         1|                     93.0|245218|       245|\n",
      "|         1|                     96.0|204861|       204|\n",
      "|         1|                     98.0|139869|       139|\n",
      "|         1|                     99.0|144767|       144|\n",
      "|         1|                     90.0|264288|       264|\n",
      "|         1|                     87.0|262403|       262|\n",
      "|         1|                     89.0|240372|       240|\n",
      "|         1|                     88.0|241383|       241|\n",
      "|         1|                     94.0|200809|       200|\n",
      "|         1|                     70.0|112054|       112|\n",
      "|         1|                     92.0|222018|       222|\n",
      "|         1|                     95.0|189434|       189|\n",
      "|         1|                     71.0|119782|       119|\n",
      "|         1|                     72.0|133441|       133|\n",
      "|         1|                     97.0|159556|       159|\n",
      "|         1|                     85.0|238740|       238|\n",
      "|         1|                     84.0|251414|       251|\n",
      "|         1|                     78.0|197813|       197|\n",
      "|         1|                     83.0|230432|       230|\n",
      "|         1|                     75.0|167146|       167|\n",
      "+----------+-------------------------+------+----------+\n",
      "\n",
      "+---------------+\n",
      "|sum(num_sample)|\n",
      "+---------------+\n",
      "|           6020|\n",
      "+---------------+"
     ]
    }
   ],
   "source": [
    "num_sample = updated_trace_info.groupBy(\n",
    "    'trace_bool', 'customer_experience_index'\n",
    ").count().filter('trace_bool = 1').withColumn(\n",
    "    'num_sample', (f.col('count') * 0.001).cast('int')  # 0.599715\n",
    ")\n",
    "num_sample.show(50)\n",
    "num_sample.agg(f.sum('num_sample')).show()"
   ]
  },
  {
   "cell_type": "code",
   "execution_count": null,
   "id": "3f21e16f",
   "metadata": {},
   "outputs": [],
   "source": []
  },
  {
   "cell_type": "code",
   "execution_count": 47,
   "id": "eab3272f",
   "metadata": {},
   "outputs": [
    {
     "data": {
      "application/vnd.jupyter.widget-view+json": {
       "model_id": "",
       "version_major": 2,
       "version_minor": 0
      },
      "text/plain": [
       "FloatProgress(value=0.0, bar_style='info', description='Progress:', layout=Layout(height='25px', width='50%'),…"
      ]
     },
     "metadata": {},
     "output_type": "display_data"
    },
    {
     "name": "stdout",
     "output_type": "stream",
     "text": [
      "6020"
     ]
    }
   ],
   "source": [
    "train_ids = sample_pool.join(\n",
    "    num_sample.select('num_sample', 'customer_experience_index'),\n",
    "    on='customer_experience_index'\n",
    ").filter(f.col('row_number') <= f.col('num_sample')).select('trace_id')\n",
    "train_ids.count()"
   ]
  },
  {
   "cell_type": "code",
   "execution_count": 52,
   "id": "203ea378",
   "metadata": {},
   "outputs": [
    {
     "data": {
      "application/vnd.jupyter.widget-view+json": {
       "model_id": "",
       "version_major": 2,
       "version_minor": 0
      },
      "text/plain": [
       "FloatProgress(value=0.0, bar_style='info', description='Progress:', layout=Layout(height='25px', width='50%'),…"
      ]
     },
     "metadata": {},
     "output_type": "display_data"
    },
    {
     "name": "stdout",
     "output_type": "stream",
     "text": [
      "+--------+-------------------------+----------+----------------+\n",
      "|trace_id|customer_experience_index|trace_bool|error_trace_type|\n",
      "+--------+-------------------------+----------+----------------+\n",
      "| 5416926|                     90.0|         1|               1|\n",
      "| 5416928|                     71.0|         1|               1|\n",
      "| 5416945|                     86.0|         1|               1|\n",
      "| 5416953|                     83.0|         1|               1|\n",
      "| 5416969|                     74.0|         1|               1|\n",
      "| 5416975|                     69.0|         0|               0|\n",
      "| 5417037|                     73.0|         1|               1|\n",
      "| 5417047|                     62.0|         0|               0|\n",
      "| 5417056|                     78.0|         1|               1|\n",
      "| 5417058|                     56.0|         0|               0|\n",
      "| 5417067|                     46.0|         0|               0|\n",
      "| 5417075|                     62.0|         0|               0|\n",
      "| 5417080|                     40.0|         0|               0|\n",
      "| 5417087|                     45.0|         0|               0|\n",
      "| 5417097|                     42.0|         0|               0|\n",
      "| 5417098|                     56.0|         0|               0|\n",
      "| 5417104|                     51.0|         0|               0|\n",
      "| 5417111|                     59.0|         0|               0|\n",
      "| 5417118|                     45.0|         0|               0|\n",
      "| 5417124|                     62.0|         0|               0|\n",
      "+--------+-------------------------+----------+----------------+\n",
      "only showing top 20 rows\n",
      "\n",
      "+-------------------------+----------+------+----------+\n",
      "|customer_experience_index|trace_bool| count|num_sample|\n",
      "+-------------------------+----------+------+----------+\n",
      "|                     95.0|         1|189245|        76|\n",
      "|                     69.0|         0|106981|        43|\n",
      "|                     85.0|         1|238502|        96|\n",
      "|                      8.0|         0|   916|         1|\n",
      "|                     68.0|         0|100231|        41|\n",
      "|                     16.0|         0|  2823|         2|\n",
      "|                     93.0|         1|244973|        98|\n",
      "|                     70.0|         1|111942|        45|\n",
      "|                     60.0|         0| 61930|        25|\n",
      "|                     43.0|         0| 23929|        10|\n",
      "|                     91.0|         1|230616|        93|\n",
      "|                     46.0|         0| 27437|        11|\n",
      "|                     87.0|         1|262141|       105|\n",
      "|                     40.0|         0| 20472|         9|\n",
      "|                     50.0|         0| 34349|        14|\n",
      "|                     99.0|         1|144623|        58|\n",
      "|                     98.0|         1|139730|        56|\n",
      "|                     63.0|         0| 75022|        31|\n",
      "|                      1.0|         0|    63|         1|\n",
      "|                      7.0|         0|   636|         1|\n",
      "+-------------------------+----------+------+----------+\n",
      "only showing top 20 rows\n",
      "\n",
      "+---------------+\n",
      "|sum(num_sample)|\n",
      "+---------------+\n",
      "|           3185|\n",
      "+---------------+"
     ]
    }
   ],
   "source": [
    "rest_trace = updated_trace_info.join(\n",
    "    train_ids,\n",
    "    on='trace_id',\n",
    "    how='left_anti'\n",
    ")\n",
    "\n",
    "rest_trace.show()\n",
    "\n",
    "rest_trace_num_sample = rest_trace.groupBy('customer_experience_index', 'trace_bool').count().withColumn(\n",
    "    'num_sample', (f.col('count') * 0.0004+1).cast('int')\n",
    ")\n",
    "rest_trace_num_sample.show()\n",
    "rest_trace_num_sample.agg(f.sum('num_sample')).show()"
   ]
  },
  {
   "cell_type": "code",
   "execution_count": 53,
   "id": "75a3782f",
   "metadata": {},
   "outputs": [
    {
     "data": {
      "application/vnd.jupyter.widget-view+json": {
       "model_id": "",
       "version_major": 2,
       "version_minor": 0
      },
      "text/plain": [
       "FloatProgress(value=0.0, bar_style='info', description='Progress:', layout=Layout(height='25px', width='50%'),…"
      ]
     },
     "metadata": {},
     "output_type": "display_data"
    },
    {
     "name": "stdout",
     "output_type": "stream",
     "text": [
      "3185"
     ]
    }
   ],
   "source": [
    "eval_ids = rest_trace.withColumn(\n",
    "    'rand', f.rand()\n",
    ").withColumn(\n",
    "    'row_number', f.row_number().over(\n",
    "        Window.partitionBy('customer_experience_index').orderBy('rand')\n",
    "    )\n",
    ").join(\n",
    "    rest_trace_num_sample.select('num_sample', 'trace_bool', 'customer_experience_index'),\n",
    "    on=['customer_experience_index', 'trace_bool']\n",
    ").filter(f.col('row_number') <= f.col('num_sample')).select('trace_id')\n",
    "\n",
    "eval_ids.count()\n",
    "# eval_ids.groupBy('trace_bool').count().show()"
   ]
  },
  {
   "cell_type": "code",
   "execution_count": null,
   "id": "cebe38af",
   "metadata": {},
   "outputs": [],
   "source": [
    "test_ids = rest_trace.join(\n",
    "    eval_ids,\n",
    "    on='trace_id',\n",
    "    how='left_anti'\n",
    ")\n",
    "\n",
    "# test_ids.repartition(1).write.csv(\n",
    "#     's3://kl-prod-tpgt-knowledge-lake-sandpit/TempDir/tmp/case_study/dataset/csv/test_ids')"
   ]
  },
  {
   "cell_type": "code",
   "execution_count": null,
   "id": "63d776af",
   "metadata": {},
   "outputs": [],
   "source": [
    "train_ids.repartition(1).write.csv(\n",
    "    f'{updated_csv_dir}/train_ids/')\n",
    "\n",
    "eval_ids.repartition(1).write.csv(\n",
    "    f'{updated_csv_dir}/eval_ids/')"
   ]
  },
  {
   "cell_type": "markdown",
   "id": "91bc0160",
   "metadata": {},
   "source": [
    "# Reindex All on Sampled"
   ]
  },
  {
   "cell_type": "code",
   "execution_count": 13,
   "id": "91049114",
   "metadata": {},
   "outputs": [
    {
     "data": {
      "application/vnd.jupyter.widget-view+json": {
       "model_id": "",
       "version_major": 2,
       "version_minor": 0
      },
      "text/plain": [
       "FloatProgress(value=0.0, bar_style='info', description='Progress:', layout=Layout(height='25px', width='50%'),…"
      ]
     },
     "metadata": {},
     "output_type": "display_data"
    }
   ],
   "source": [
    "small_csv_dir = 's3://kl-prod-tpgt-knowledge-lake-sandpit/TempDir/tmp/case_study/dataset/csv_small'"
   ]
  },
  {
   "cell_type": "code",
   "execution_count": 25,
   "id": "b9e7e7da",
   "metadata": {
    "scrolled": true
   },
   "outputs": [
    {
     "data": {
      "application/vnd.jupyter.widget-view+json": {
       "model_id": "",
       "version_major": 2,
       "version_minor": 0
      },
      "text/plain": [
       "FloatProgress(value=0.0, bar_style='info', description='Progress:', layout=Layout(height='25px', width='50%'),…"
      ]
     },
     "metadata": {},
     "output_type": "display_data"
    }
   ],
   "source": [
    "# train_ids.repartition(1).write.csv(\n",
    "#     f'{small_csv_dir}/train_ids/')\n",
    "\n",
    "# eval_ids.repartition(1).write.csv(\n",
    "#     f'{small_csv_dir}/eval_ids/')\n",
    "train_ids = spark.read.csv(f'{small_csv_dir}/train_ids/').withColumnRenamed('_c0', 'trace_id').withColumn('type', f.lit('train'))\n",
    "eval_ids = spark.read.csv(f'{small_csv_dir}/eval_ids/').withColumnRenamed('_c0', 'trace_id').withColumn('type', f.lit('eval'))"
   ]
  },
  {
   "cell_type": "code",
   "execution_count": 26,
   "id": "71522098",
   "metadata": {},
   "outputs": [
    {
     "data": {
      "application/vnd.jupyter.widget-view+json": {
       "model_id": "",
       "version_major": 2,
       "version_minor": 0
      },
      "text/plain": [
       "FloatProgress(value=0.0, bar_style='info', description='Progress:', layout=Layout(height='25px', width='50%'),…"
      ]
     },
     "metadata": {},
     "output_type": "display_data"
    },
    {
     "name": "stdout",
     "output_type": "stream",
     "text": [
      "+--------+-----+---------+\n",
      "|trace_id| type|new_index|\n",
      "+--------+-----+---------+\n",
      "| 1000245| eval|        0|\n",
      "| 1000335|train|        1|\n",
      "| 1001063| eval|        2|\n",
      "| 1001304|train|        3|\n",
      "| 1001533|train|        4|\n",
      "| 1002410|train|        5|\n",
      "| 1003860|train|        6|\n",
      "| 1004017| eval|        7|\n",
      "| 1004431|train|        8|\n",
      "| 1005729| eval|        9|\n",
      "| 1005737| eval|       10|\n",
      "| 1006595| eval|       11|\n",
      "| 1007014|train|       12|\n",
      "| 1007269| eval|       13|\n",
      "| 1007461|train|       14|\n",
      "| 1009010|train|       15|\n",
      "| 1009514|train|       16|\n",
      "| 1011825| eval|       17|\n",
      "| 1012674|train|       18|\n",
      "| 1015322| eval|       19|\n",
      "+--------+-----+---------+\n",
      "only showing top 20 rows\n",
      "\n",
      "9205"
     ]
    }
   ],
   "source": [
    "small_sample_ids = train_ids.union(\n",
    "    eval_ids\n",
    ")\n",
    "\n",
    "small_sample_ids = small_sample_ids.withColumn(\n",
    "    'new_index', f.row_number().over(Window.orderBy('trace_id')) - 1\n",
    ")\n",
    "small_sample_ids.persist()\n",
    "small_sample_ids.show()\n",
    "small_sample_ids.count()"
   ]
  },
  {
   "cell_type": "code",
   "execution_count": null,
   "id": "188ebc17",
   "metadata": {},
   "outputs": [],
   "source": []
  },
  {
   "cell_type": "code",
   "execution_count": null,
   "id": "0c2d018e",
   "metadata": {},
   "outputs": [],
   "source": []
  },
  {
   "cell_type": "code",
   "execution_count": null,
   "id": "1ebcfa56",
   "metadata": {},
   "outputs": [],
   "source": []
  },
  {
   "cell_type": "code",
   "execution_count": 20,
   "id": "f2659f3e",
   "metadata": {},
   "outputs": [
    {
     "data": {
      "application/vnd.jupyter.widget-view+json": {
       "model_id": "",
       "version_major": 2,
       "version_minor": 0
      },
      "text/plain": [
       "FloatProgress(value=0.0, bar_style='info', description='Progress:', layout=Layout(height='25px', width='50%'),…"
      ]
     },
     "metadata": {},
     "output_type": "display_data"
    }
   ],
   "source": [
    "@f.udf(returnType=ArrayType(ArrayType(IntegerType())))\n",
    "def construct_node_types(node_list):\n",
    "    node_types = [[] for i in range(3)]\n",
    "    for ntype, nid in node_list:\n",
    "        node_types[int(ntype)].append(nid)\n",
    "    return node_types\n",
    "        "
   ]
  },
  {
   "cell_type": "code",
   "execution_count": 23,
   "id": "a8e51d1a",
   "metadata": {},
   "outputs": [
    {
     "data": {
      "application/vnd.jupyter.widget-view+json": {
       "model_id": "",
       "version_major": 2,
       "version_minor": 0
      },
      "text/plain": [
       "FloatProgress(value=0.0, bar_style='info', description='Progress:', layout=Layout(height='25px', width='50%'),…"
      ]
     },
     "metadata": {},
     "output_type": "display_data"
    }
   ],
   "source": [
    "def write_sample_with_reindex(input_dir, output_dir, sample_id):\n",
    "    # Node Feature\n",
    "    node_features = spark.read.csv(f'{input_dir}/node_feature_norm/', header=True)\n",
    "    updated_node_features = node_features.join(\n",
    "        sample_id,\n",
    "        on='trace_id',\n",
    "        how='inner'\n",
    "    ).drop('trace_id').withColumnRenamed('new_index', 'trace_id')\n",
    "    print(f'updated_node_features: {updated_node_features.count()}')\n",
    "    updated_node_features.repartition(1).write.mode('overwrite').csv(\n",
    "        f'{output_dir}/node_feature_norm/', header=True)\n",
    "    \n",
    "    # Edge Index\n",
    "    edge_index = spark.read.csv(f'{input_dir}/edge_index/', header=True)\n",
    "    updated_edge_index = edge_index.join(\n",
    "        sample_id,\n",
    "        on='trace_id',\n",
    "        how='inner'\n",
    "    ).drop('trace_id').withColumnRenamed('new_index', 'trace_id')\n",
    "    print(f'updated_edge_index: {updated_edge_index.count()}')\n",
    "    updated_edge_index.repartition(1).write.mode('overwrite').csv(\n",
    "        f'{output_dir}/edge_index/', header=True)\n",
    "    \n",
    "    # Node Type\n",
    "    node_overview = spark.read.parquet('s3://kl-prod-tpgt-knowledge-lake-sandpit/TempDir/tmp/case_study/dataset/node_overview/')\n",
    "    updated_node_types = node_overview.join(\n",
    "        sample_id,\n",
    "        on='trace_id',\n",
    "        how='inner'\n",
    "    ).drop('trace_id').withColumnRenamed('new_index', 'trace_id').groupBy('trace_id').agg(\n",
    "        construct_node_types(\n",
    "            f.collect_list(f.struct('node_type', 'node_id'))\n",
    "        ).alias('node_types')\n",
    "    ).orderBy('trace_id')\n",
    "    print(f'updated_node_types: {updated_node_types.count()}')\n",
    "    updated_node_types.select(\n",
    "        'trace_id', f.col('node_types').cast('string')\n",
    "    ).repartition(1).write.mode('overwrite').csv(\n",
    "        f'{output_dir}/node_types/', header=False)\n",
    "    \n",
    "    # Trace Info\n",
    "    trace_info = spark.read.csv(f'{input_dir}/trace_info/', header=True)\n",
    "    updated_trace_info = trace_info.join(\n",
    "        sample_id,\n",
    "        on='trace_id',\n",
    "        how='inner'\n",
    "    ).drop('trace_id').withColumnRenamed('new_index', 'trace_id')\n",
    "\n",
    "    print(f'updated_trace_info: {updated_trace_info.count()}')\n",
    "    updated_trace_info.repartition(1).write.mode('overwrite').csv(\n",
    "        f'{output_dir}/trace_info/', header=True)\n"
   ]
  },
  {
   "cell_type": "code",
   "execution_count": 24,
   "id": "c09cf40a",
   "metadata": {},
   "outputs": [
    {
     "data": {
      "application/vnd.jupyter.widget-view+json": {
       "model_id": "",
       "version_major": 2,
       "version_minor": 0
      },
      "text/plain": [
       "FloatProgress(value=0.0, bar_style='info', description='Progress:', layout=Layout(height='25px', width='50%'),…"
      ]
     },
     "metadata": {},
     "output_type": "display_data"
    },
    {
     "name": "stdout",
     "output_type": "stream",
     "text": [
      "updated_node_features: 68076\n",
      "updated_edge_index: 67630\n",
      "updated_node_types: 9205\n",
      "updated_trace_info: 9205"
     ]
    }
   ],
   "source": [
    "write_sample_with_reindex(\n",
    "    input_dir=csv_dir,\n",
    "    output_dir=small_csv_dir,\n",
    "    sample_id=small_sample_ids\n",
    ")"
   ]
  },
  {
   "cell_type": "code",
   "execution_count": 34,
   "id": "e8361966",
   "metadata": {},
   "outputs": [
    {
     "data": {
      "application/vnd.jupyter.widget-view+json": {
       "model_id": "",
       "version_major": 2,
       "version_minor": 0
      },
      "text/plain": [
       "FloatProgress(value=0.0, bar_style='info', description='Progress:', layout=Layout(height='25px', width='50%'),…"
      ]
     },
     "metadata": {},
     "output_type": "display_data"
    }
   ],
   "source": [
    "small_sample_ids.drop('trace_id').withColumnRenamed('new_index', 'trace_id').filter(\n",
    "    \"type == 'train'\"\n",
    ").select('trace_id').repartition(1).write.mode('overwrite').csv(f'{small_csv_dir}/train/')\n",
    "\n",
    "small_sample_ids.drop('trace_id').withColumnRenamed('new_index', 'trace_id').filter(\n",
    "    \"type == 'eval'\"\n",
    ").select('trace_id').repartition(1).write.mode('overwrite').csv(f'{small_csv_dir}/eval/')"
   ]
  },
  {
   "cell_type": "code",
   "execution_count": null,
   "id": "95a98d3d",
   "metadata": {},
   "outputs": [],
   "source": []
  }
 ],
 "metadata": {
  "kernelspec": {
   "display_name": "PySpark",
   "language": "python",
   "name": "pysparkkernel"
  },
  "language_info": {
   "codemirror_mode": {
    "name": "python",
    "version": 3
   },
   "file_extension": ".py",
   "mimetype": "text/x-python",
   "name": "pyspark",
   "pygments_lexer": "python3"
  }
 },
 "nbformat": 4,
 "nbformat_minor": 5
}
