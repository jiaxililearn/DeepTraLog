{
 "cells": [
  {
   "cell_type": "code",
   "execution_count": 1,
   "id": "f981df3a",
   "metadata": {
    "scrolled": true
   },
   "outputs": [
    {
     "name": "stdout",
     "output_type": "stream",
     "text": [
      "Requirement already satisfied: sagemaker in /home/ec2-user/anaconda3/envs/python3/lib/python3.6/site-packages (2.117.0)\n",
      "Collecting sagemaker\n",
      "  Downloading sagemaker-2.128.0.tar.gz (660 kB)\n",
      "     |████████████████████████████████| 660 kB 25.8 MB/s            \n",
      "\u001b[?25h  Preparing metadata (setup.py) ... \u001b[?25ldone\n",
      "\u001b[?25hRequirement already satisfied: attrs<23,>=20.3.0 in /home/ec2-user/anaconda3/envs/python3/lib/python3.6/site-packages (from sagemaker) (20.3.0)\n",
      "  Downloading sagemaker-2.127.0.tar.gz (655 kB)\n",
      "     |████████████████████████████████| 655 kB 106.9 MB/s            \n",
      "\u001b[?25h  Preparing metadata (setup.py) ... \u001b[?25ldone\n",
      "\u001b[?25h  Downloading sagemaker-2.126.0.tar.gz (654 kB)\n",
      "     |████████████████████████████████| 654 kB 111.7 MB/s            \n",
      "\u001b[?25h  Preparing metadata (setup.py) ... \u001b[?25ldone\n",
      "\u001b[?25h  Using cached sagemaker-2.125.0.tar.gz (654 kB)\n",
      "  Preparing metadata (setup.py) ... \u001b[?25ldone\n",
      "\u001b[?25h  Using cached sagemaker-2.124.0.tar.gz (654 kB)\n",
      "  Preparing metadata (setup.py) ... \u001b[?25ldone\n",
      "\u001b[?25h  Using cached sagemaker-2.123.0.tar.gz (667 kB)\n",
      "  Preparing metadata (setup.py) ... \u001b[?25ldone\n",
      "\u001b[?25h  Using cached sagemaker-2.122.0.tar.gz (629 kB)\n",
      "  Preparing metadata (setup.py) ... \u001b[?25ldone\n",
      "\u001b[?25h  Using cached sagemaker-2.121.2.tar.gz (620 kB)\n",
      "  Preparing metadata (setup.py) ... \u001b[?25ldone\n",
      "\u001b[?25h  Using cached sagemaker-2.121.1.tar.gz (620 kB)\n",
      "  Preparing metadata (setup.py) ... \u001b[?25ldone\n",
      "\u001b[?25h  Using cached sagemaker-2.121.0.tar.gz (620 kB)\n",
      "  Preparing metadata (setup.py) ... \u001b[?25ldone\n",
      "\u001b[?25h  Using cached sagemaker-2.120.0.tar.gz (620 kB)\n",
      "  Preparing metadata (setup.py) ... \u001b[?25ldone\n",
      "\u001b[?25h  Using cached sagemaker-2.119.0.tar.gz (617 kB)\n",
      "  Preparing metadata (setup.py) ... \u001b[?25ldone\n",
      "\u001b[?25h  Using cached sagemaker-2.118.0.tar.gz (614 kB)\n",
      "  Preparing metadata (setup.py) ... \u001b[?25ldone\n",
      "\u001b[?25hRequirement already satisfied: google-pasta in /home/ec2-user/anaconda3/envs/python3/lib/python3.6/site-packages (from sagemaker) (0.2.0)\n",
      "Requirement already satisfied: protobuf3-to-dict<1.0,>=0.1.5 in /home/ec2-user/anaconda3/envs/python3/lib/python3.6/site-packages (from sagemaker) (0.1.5)\n",
      "Requirement already satisfied: pandas in /home/ec2-user/anaconda3/envs/python3/lib/python3.6/site-packages (from sagemaker) (1.1.5)\n",
      "Requirement already satisfied: smdebug-rulesconfig==1.0.1 in /home/ec2-user/anaconda3/envs/python3/lib/python3.6/site-packages (from sagemaker) (1.0.1)\n",
      "Requirement already satisfied: packaging>=20.0 in /home/ec2-user/anaconda3/envs/python3/lib/python3.6/site-packages (from sagemaker) (21.3)\n",
      "Requirement already satisfied: schema in /home/ec2-user/anaconda3/envs/python3/lib/python3.6/site-packages (from sagemaker) (0.7.5)\n",
      "Requirement already satisfied: protobuf<4.0,>=3.1 in /home/ec2-user/anaconda3/envs/python3/lib/python3.6/site-packages (from sagemaker) (3.15.2)\n",
      "Requirement already satisfied: numpy<2.0,>=1.9.0 in /home/ec2-user/anaconda3/envs/python3/lib/python3.6/site-packages (from sagemaker) (1.19.5)\n",
      "Requirement already satisfied: importlib-metadata<5.0,>=1.4.0 in /home/ec2-user/anaconda3/envs/python3/lib/python3.6/site-packages (from sagemaker) (3.7.0)\n",
      "Requirement already satisfied: pathos in /home/ec2-user/anaconda3/envs/python3/lib/python3.6/site-packages (from sagemaker) (0.2.8)\n",
      "Requirement already satisfied: boto3<2.0,>=1.20.21 in /home/ec2-user/anaconda3/envs/python3/lib/python3.6/site-packages (from sagemaker) (1.23.10)\n",
      "Requirement already satisfied: s3transfer<0.6.0,>=0.5.0 in /home/ec2-user/anaconda3/envs/python3/lib/python3.6/site-packages (from boto3<2.0,>=1.20.21->sagemaker) (0.5.0)\n",
      "Requirement already satisfied: jmespath<2.0.0,>=0.7.1 in /home/ec2-user/anaconda3/envs/python3/lib/python3.6/site-packages (from boto3<2.0,>=1.20.21->sagemaker) (0.10.0)\n",
      "Requirement already satisfied: botocore<1.27.0,>=1.26.10 in /home/ec2-user/anaconda3/envs/python3/lib/python3.6/site-packages (from boto3<2.0,>=1.20.21->sagemaker) (1.26.10)\n",
      "Requirement already satisfied: typing-extensions>=3.6.4 in /home/ec2-user/anaconda3/envs/python3/lib/python3.6/site-packages (from importlib-metadata<5.0,>=1.4.0->sagemaker) (4.0.1)\n",
      "Requirement already satisfied: zipp>=0.5 in /home/ec2-user/anaconda3/envs/python3/lib/python3.6/site-packages (from importlib-metadata<5.0,>=1.4.0->sagemaker) (3.4.0)\n",
      "Requirement already satisfied: pyparsing!=3.0.5,>=2.0.2 in /home/ec2-user/anaconda3/envs/python3/lib/python3.6/site-packages (from packaging>=20.0->sagemaker) (2.4.7)\n",
      "Requirement already satisfied: six>=1.9 in /home/ec2-user/anaconda3/envs/python3/lib/python3.6/site-packages (from protobuf<4.0,>=3.1->sagemaker) (1.15.0)\n",
      "Requirement already satisfied: python-dateutil>=2.7.3 in /home/ec2-user/anaconda3/envs/python3/lib/python3.6/site-packages (from pandas->sagemaker) (2.8.1)\n",
      "Requirement already satisfied: pytz>=2017.2 in /home/ec2-user/anaconda3/envs/python3/lib/python3.6/site-packages (from pandas->sagemaker) (2021.1)\n",
      "Requirement already satisfied: multiprocess>=0.70.12 in /home/ec2-user/anaconda3/envs/python3/lib/python3.6/site-packages (from pathos->sagemaker) (0.70.12.2)\n",
      "Requirement already satisfied: ppft>=1.6.6.4 in /home/ec2-user/anaconda3/envs/python3/lib/python3.6/site-packages (from pathos->sagemaker) (1.6.6.4)\n",
      "Requirement already satisfied: dill>=0.3.4 in /home/ec2-user/anaconda3/envs/python3/lib/python3.6/site-packages (from pathos->sagemaker) (0.3.4)\n",
      "Requirement already satisfied: pox>=0.3.0 in /home/ec2-user/anaconda3/envs/python3/lib/python3.6/site-packages (from pathos->sagemaker) (0.3.0)\n",
      "Requirement already satisfied: contextlib2>=0.5.5 in /home/ec2-user/anaconda3/envs/python3/lib/python3.6/site-packages (from schema->sagemaker) (0.6.0.post1)\n",
      "Requirement already satisfied: urllib3<1.27,>=1.25.4 in /home/ec2-user/anaconda3/envs/python3/lib/python3.6/site-packages (from botocore<1.27.0,>=1.26.10->boto3<2.0,>=1.20.21->sagemaker) (1.26.8)\n"
     ]
    }
   ],
   "source": [
    "!pip install -U sagemaker"
   ]
  },
  {
   "cell_type": "code",
   "execution_count": 2,
   "id": "4a31d8a7",
   "metadata": {},
   "outputs": [
    {
     "data": {
      "text/plain": [
       "'arn:aws:iam::666048841835:role/prod-bi-analy-ml-pltf-sagemaker-exec-role'"
      ]
     },
     "execution_count": 2,
     "metadata": {},
     "output_type": "execute_result"
    }
   ],
   "source": [
    "from sagemaker import get_execution_role\n",
    "from sagemaker.pytorch.estimator import PyTorch\n",
    "\n",
    "role = get_execution_role()\n",
    "role"
   ]
  },
  {
   "cell_type": "code",
   "execution_count": 20,
   "id": "4de096d5",
   "metadata": {},
   "outputs": [],
   "source": [
    "# datapath = 'tpg_case_study_data'\n",
    "\n",
    "# import json\n",
    "# with open(f'{datapath}/node_types.txt', 'r') as fin:\n",
    "#     with open(f'{datapath}/node_types_1.txt', 'w') as fout:\n",
    "#         line = fin.readline()\n",
    "#         while line:\n",
    "#             fout.write(f'{json.dumps(json.loads(json.loads(line)))}\\n')\n",
    "#             line = fin.readline()\n",
    "\n",
    "# # train/eval/test sets\n",
    "# tmppath = '~/SageMaker/tmp/case_study/dataset/csv/'\n",
    "# import pandas as pd\n",
    "\n",
    "# train_ids = pd.read_csv(f'{tmppath}/train_ids/part-00000-47410f48-950d-462d-a6d4-71fd74c0fdf6-c000.csv', header=None)\n",
    "# with open(f'{datapath}/model_gid_list_train.txt', 'w') as fout:\n",
    "#     gids = [str(g[0]) for g in train_ids.values]\n",
    "#     buffer = ' '.join(gids)\n",
    "#     print(buffer[:100])\n",
    "#     fout.write(buffer)\n",
    "#     fout.write('\\n')\n",
    "\n",
    "# eval_ids = pd.read_csv(f'{tmppath}/eval_ids/part-00000-e507d697-572f-4306-908a-29ea4e0f21d1-c000.csv', header=None)\n",
    "# with open(f'{datapath}/model_gid_list_eval.txt', 'w') as fout:\n",
    "#     gids = [str(g[0]) for g in eval_ids.values]\n",
    "#     buffer = ' '.join(gids)\n",
    "#     print(buffer[:100])\n",
    "#     fout.write(buffer)\n",
    "#     fout.write('\\n')\n",
    "\n",
    "# test_ids = pd.read_csv(f'{tmppath}/test_ids/part-00000-aca39d22-0128-4df6-9f31-c31944b17fa4-c000.csv', header=None)\n",
    "# with open(f'{datapath}/model_gid_list_test.txt', 'w') as fout:\n",
    "#     gids = [str(int(g[0])) for g in test_ids.values]\n",
    "#     buffer = ' '.join(gids)\n",
    "#     print(buffer[:100])\n",
    "#     fout.write(buffer)\n",
    "#     fout.write('\\n')\n",
    "\n",
    "    \n"
   ]
  },
  {
   "cell_type": "code",
   "execution_count": null,
   "id": "101e4954",
   "metadata": {},
   "outputs": [],
   "source": []
  },
  {
   "cell_type": "code",
   "execution_count": 22,
   "id": "80e0d333",
   "metadata": {},
   "outputs": [
    {
     "data": {
      "text/plain": [
       "{'feature_size': 31,\n",
       " 'out_embed_s': 64,\n",
       " 'hidden_channels': 64,\n",
       " 'num_hidden_conv_layers': 3,\n",
       " 'num_node_types': 3,\n",
       " 'num_train': 7200000,\n",
       " 'sampling_size': 3200,\n",
       " 'eval_size': 100000,\n",
       " 'batch_s': 16,\n",
       " 'mini_batch_s': 16,\n",
       " 'save_model_freq': 2,\n",
       " 'lr': 0.01,\n",
       " 'train_iter_n': 80,\n",
       " 'model_version': 11,\n",
       " 'trainer_version': 2,\n",
       " 'model_sub_version': 0,\n",
       " 'source_types': '0,1,2',\n",
       " 'ignore_weight': True,\n",
       " 'embed_activation': 'sigmoid',\n",
       " 'weighted_loss': 'ignore',\n",
       " 'augmentation_method': 'all',\n",
       " 'add_method': 'rare',\n",
       " 'edge_addition_pct': 0.39185763245124894,\n",
       " 'replace_edges': False,\n",
       " 'swap_node_pct': 0.5266846615473234,\n",
       " 'loss_weight': 0.2129864286429184,\n",
       " 'main_loss': 'svdd',\n",
       " 'eval_method': 'both',\n",
       " 'split_data': False,\n",
       " 'input_type': 'batch',\n",
       " 's3_stage': True,\n",
       " 'tolerance': 4,\n",
       " 'job_prefix': 'case_study',\n",
       " 'random_seed': 36}"
      ]
     },
     "execution_count": 22,
     "metadata": {},
     "output_type": "execute_result"
    }
   ],
   "source": [
    "# GCN_11 StreamSpot\n",
    "hyperparameters = dict(\n",
    "    feature_size=31,\n",
    "    out_embed_s=64,\n",
    "    hidden_channels=64,\n",
    "    num_hidden_conv_layers=3,\n",
    "    num_node_types=3,\n",
    "    num_train=7200000,\n",
    "    sampling_size=3200,\n",
    "    eval_size=100000,\n",
    "    batch_s=16,\n",
    "    mini_batch_s=16,\n",
    "    save_model_freq=2,\n",
    "    lr=0.01,\n",
    "    train_iter_n=80,\n",
    "    model_version=11,\n",
    "    trainer_version=2,\n",
    "    model_sub_version=0,  # Model Sub Version\n",
    "    source_types='0,1,2',\n",
    "    ignore_weight=True, # no edge weight\n",
    "    embed_activation='sigmoid',\n",
    "    weighted_loss='ignore',\n",
    "    augmentation_method='all',\n",
    "    add_method='rare',\n",
    "    edge_addition_pct=0.39185763245124894,\n",
    "    replace_edges=False,\n",
    "    swap_node_pct=0.5266846615473234,\n",
    "    loss_weight=0.2129864286429184,\n",
    "    main_loss='svdd',\n",
    "    eval_method='both',\n",
    "    split_data=False,\n",
    "    input_type='batch',\n",
    "    s3_stage=True,\n",
    "    tolerance=4,\n",
    "    job_prefix='case_study',\n",
    "    random_seed=36\n",
    "#     s3_prefix='application/anomaly_detection/deeptralog/HetGNN/model_save_streamspot_gcn11_p0.1'\n",
    ")\n",
    "hyperparameters"
   ]
  },
  {
   "cell_type": "code",
   "execution_count": 169,
   "id": "5dfb616e",
   "metadata": {},
   "outputs": [],
   "source": [
    "# # Abalation - GCN_11 StreamSpot\n",
    "# hyperparameters = dict(\n",
    "#     feature_size=26,\n",
    "#     out_embed_s=32,\n",
    "#     hidden_channels=32,\n",
    "#     num_hidden_conv_layers=3,\n",
    "#     num_node_types=8,\n",
    "#     num_train=375,\n",
    "#     sampling_size=375,\n",
    "#     eval_size=375,\n",
    "#     batch_s=25,\n",
    "#     mini_batch_s=25,\n",
    "#     save_model_freq=2,\n",
    "#     lr=0.01,\n",
    "#     train_iter_n=100,\n",
    "#     model_version=11,\n",
    "#     trainer_version=2,\n",
    "#     model_sub_version=0,  # Model Sub Version\n",
    "#     source_types='0,1',\n",
    "#     ignore_weight=False, # include edge weight\n",
    "#     embed_activation='sigmoid',\n",
    "#     augmentation_method='all',\n",
    "#     loss_weight=0.0,\n",
    "#     weighted_loss='ignore',\n",
    "#     main_loss='svdd',\n",
    "#     ablation='no-node-relation',\n",
    "#     eval_method='both',\n",
    "#     split_data=False,\n",
    "#     input_type='batch',\n",
    "#     s3_stage=True,\n",
    "#     tolerance=5,\n",
    "#     job_prefix='a4-streamspot'\n",
    "# #     s3_prefix='application/anomaly_detection/deeptralog/HetGNN/model_save_streamspot_gcn11_p0.1'\n",
    "# )\n",
    "# hyperparameters"
   ]
  },
  {
   "cell_type": "code",
   "execution_count": 23,
   "id": "9e55a6b3",
   "metadata": {},
   "outputs": [],
   "source": [
    "metric_definitions = [\n",
    "    {\n",
    "        \"Name\": \"Loss\",\n",
    "        \"Regex\": \"Epoch Loss: (.*?);\",\n",
    "    },\n",
    "    {\n",
    "        \"Name\": \"Batch Loss\",\n",
    "        \"Regex\": \"Batch Loss: (.*?);\",\n",
    "    },\n",
    "    {\n",
    "        \"Name\": \"Epoch Time\",\n",
    "        \"Regex\": \"Epoch Time: (.*?);\",\n",
    "    },\n",
    "    {\n",
    "        \"Name\": \"Batch Time\",\n",
    "        \"Regex\": \"Batch Time: (.*?);\",\n",
    "    },\n",
    "    {\n",
    "        \"Name\": \"AUC\",\n",
    "        \"Regex\": \"AUC:(.*?);\",\n",
    "    },\n",
    "    {\n",
    "        \"Name\": \"AP\",\n",
    "        \"Regex\": \"Avg Precision:(.*?);\"\n",
    "    },\n",
    "    {\n",
    "        \"Name\": \"Batch SVDD Loss\",\n",
    "        \"Regex\": \"Batch SVDD Loss: (.*?);\",\n",
    "    },\n",
    "    {\n",
    "        \"Name\": \"Batch Weighted Loss\",\n",
    "        \"Regex\": \"Batch Weighted Loss: (.*?);\",\n",
    "    },\n",
    "    {\n",
    "        \"Name\": \"Weighted AUC\",\n",
    "        \"Regex\": \"AUC Weighted:(.*?);\",\n",
    "    },\n",
    "    {\n",
    "        \"Name\": \"Weighted AP\",\n",
    "        \"Regex\": \"Avg Precision Weighted:(.*?);\"\n",
    "    }\n",
    "]"
   ]
  },
  {
   "cell_type": "markdown",
   "id": "497fb6c1",
   "metadata": {},
   "source": [
    "# Single Runs"
   ]
  },
  {
   "cell_type": "code",
   "execution_count": 24,
   "id": "97d5499a",
   "metadata": {},
   "outputs": [],
   "source": [
    "estimator = PyTorch(\n",
    "    source_dir='./code_gcn/',\n",
    "    entry_point='main.py',\n",
    "#     framework_version='1.9.1',\n",
    "#     py_version='py38',\n",
    "    image_uri='666048841835.dkr.ecr.ap-southeast-2.amazonaws.com/pytorch-hetgcn:latest',\n",
    "    instance_type='ml.g4dn.8xlarge',\n",
    "    instance_count=1,\n",
    "    volume_size=150,\n",
    "    max_run=24*60*60*1,\n",
    "    role=role,\n",
    "    base_job_name='HetGNN',\n",
    "    hyperparameters=hyperparameters,\n",
    "#     model_uri='s3://prod-tpgt-knowledge-lake-sandpit-v1/application/anomaly_detection/deeptralog/HetGNN/model_save_tralog_gcn8_h3_noweight/',\n",
    "    metric_definitions=metric_definitions\n",
    ")"
   ]
  },
  {
   "cell_type": "code",
   "execution_count": null,
   "id": "f410ac4d",
   "metadata": {
    "scrolled": true
   },
   "outputs": [
    {
     "name": "stdout",
     "output_type": "stream",
     "text": [
      "2023-01-15 06:58:56 Starting - Starting the training job."
     ]
    }
   ],
   "source": [
    "estimator.fit(\n",
    "    {\n",
    "        'train': 's3://prod-tpgt-knowledge-lake-sandpit-v1/application/anomaly_detection/deeptralog/HetGNN/tpg_case_study_data/'\n",
    "#         'train': 's3://prod-tpgt-knowledge-lake-sandpit-v1/application/anomaly_detection/deeptralog/HetGNN/ProcessedData_clean/'\n",
    "#         'train': 's3://prod-tpgt-knowledge-lake-sandpit-v1/application/anomaly_detection/deeptralog/HetGNN/ProcessedData_HetGCN/'\n",
    "#         'train': 's3://prod-tpgt-knowledge-lake-sandpit-v1/application/anomaly_detection/deeptralog/HetGNN/ProcessedData_streamspot/'\n",
    "    },\n",
    "    wait=True\n",
    ")"
   ]
  },
  {
   "cell_type": "code",
   "execution_count": null,
   "id": "c0987d89",
   "metadata": {},
   "outputs": [],
   "source": []
  },
  {
   "cell_type": "markdown",
   "id": "ef2fbb73",
   "metadata": {},
   "source": [
    "# Hyperparameter Tunning"
   ]
  },
  {
   "cell_type": "code",
   "execution_count": 13,
   "id": "373823ad",
   "metadata": {},
   "outputs": [],
   "source": [
    "from sagemaker.tuner import HyperparameterTuner, ContinuousParameter, CategoricalParameter, IntegerParameter"
   ]
  },
  {
   "cell_type": "code",
   "execution_count": 14,
   "id": "3d5348a3",
   "metadata": {},
   "outputs": [],
   "source": [
    "estimator = PyTorch(\n",
    "    source_dir='./code_gcn/',\n",
    "    entry_point='main.py',\n",
    "#     framework_version='1.9.1',\n",
    "#     py_version='py38',\n",
    "    image_uri='666048841835.dkr.ecr.ap-southeast-2.amazonaws.com/pytorch-hetgcn:latest',\n",
    "    instance_type='ml.g4dn.2xlarge',\n",
    "    instance_count=1,\n",
    "    volume_size=150,\n",
    "    max_run=24*60*60*5,\n",
    "    role=role,\n",
    "    base_job_name='HetGNN',\n",
    "    hyperparameters=hyperparameters,\n",
    "#     model_uri='s3://prod-tpgt-knowledge-lake-sandpit-v1/application/anomaly_detection/deeptralog/HetGNN/model_save_tralog_gcn8_h3_noweight/',\n",
    "    metric_definitions=metric_definitions\n",
    ")"
   ]
  },
  {
   "cell_type": "markdown",
   "id": "503517cd",
   "metadata": {},
   "source": [
    "### TraLog Tunning"
   ]
  },
  {
   "cell_type": "code",
   "execution_count": 50,
   "id": "96482582",
   "metadata": {},
   "outputs": [],
   "source": [
    "hyperparameter_ranges = dict(\n",
    "#     lr=ContinuousParameter(0.00001, 0.001),\n",
    "#     edge_ratio_percentile=CategoricalParameter([0.75, 0.95]),\n",
    "#     batch_s=CategoricalParameter([8, 16, 32]),\n",
    "#     edge_mutate_prob=ContinuousParameter(0.1, 0.9),\n",
    "#     edge_addition_pct=ContinuousParameter(0.1, 0.9),\n",
    "#     replace_edges=CategoricalParameter([True, False]),\n",
    "#     swap_node_pct=ContinuousParameter(0.1, 0.7),\n",
    "#     swap_edge_pct=ContinuousParameter(0.1, 0.7),\n",
    "    loss_weight=ContinuousParameter(0.0, 0.3),\n",
    "    hidden_channels=CategoricalParameter([8, 16, 32, 64, 128, 256, 300]),\n",
    "    num_hidden_conv_layers=CategoricalParameter([1, 2, 3])\n",
    "#     weighted_loss=CategoricalParameter(['deviation', 'bce']),\n",
    "#     main_loss=CategoricalParameter(['svdd', 'semi-svdd'])\n",
    ")"
   ]
  },
  {
   "cell_type": "code",
   "execution_count": 51,
   "id": "e5d795fa",
   "metadata": {},
   "outputs": [],
   "source": [
    "my_tuner = HyperparameterTuner(estimator=estimator,\n",
    "                              objective_metric_name='AUC',\n",
    "                              hyperparameter_ranges=hyperparameter_ranges,\n",
    "                              metric_definitions=metric_definitions,\n",
    "                              max_jobs=55,\n",
    "                              max_parallel_jobs=5,\n",
    "#                               early_stopping_type='Auto'\n",
    "                              )"
   ]
  },
  {
   "cell_type": "code",
   "execution_count": null,
   "id": "196932a8",
   "metadata": {
    "scrolled": true
   },
   "outputs": [
    {
     "name": "stderr",
     "output_type": "stream",
     "text": [
      "No finished training job found associated with this estimator. Please make sure this estimator is only used for building workflow config\n",
      "No finished training job found associated with this estimator. Please make sure this estimator is only used for building workflow config\n"
     ]
    },
    {
     "name": "stdout",
     "output_type": "stream",
     "text": [
      ".............................................................................................................................................................................................................................................................................................................................................................................................................................................................................................................................................................................................................................................................................................................................................."
     ]
    }
   ],
   "source": [
    "my_tuner.fit(\n",
    "    {\n",
    "#         'train': 's3://prod-tpgt-knowledge-lake-sandpit-v1/application/anomaly_detection/deeptralog/HetGNN/ProcessedData_synth/'\n",
    "#         'train': 's3://prod-tpgt-knowledge-lake-sandpit-v1/application/anomaly_detection/deeptralog/HetGNN/ProcessedData_clean/'\n",
    "        'train': 's3://prod-tpgt-knowledge-lake-sandpit-v1/application/anomaly_detection/deeptralog/HetGNN/ProcessedData_HetGCN/'\n",
    "#         'train': 's3://prod-tpgt-knowledge-lake-sandpit-v1/application/anomaly_detection/deeptralog/HetGNN/ProcessedData_streamspot/'\n",
    "    }\n",
    ")"
   ]
  },
  {
   "cell_type": "markdown",
   "id": "f72bb6fd",
   "metadata": {},
   "source": [
    "### StreamSpot Tuning"
   ]
  },
  {
   "cell_type": "code",
   "execution_count": 16,
   "id": "c5a39aed",
   "metadata": {},
   "outputs": [],
   "source": [
    "hyperparameter_ranges = dict(\n",
    "#     lr=ContinuousParameter(0.00001, 0.001),\n",
    "#     edge_ratio_percentile=CategoricalParameter([0.75, 0.95]),\n",
    "#     batch_s=CategoricalParameter([8, 16, 32]),\n",
    "#     edge_addition_pct=ContinuousParameter(0.1, 0.9),\n",
    "#     replace_edges=CategoricalParameter([True, False]),\n",
    "#     swap_node_pct=ContinuousParameter(0.1, 0.7),\n",
    "    loss_weight=ContinuousParameter(0.0, 0.5),\n",
    "    hidden_channels=CategoricalParameter([8, 16, 32, 64, 128]),\n",
    "    num_hidden_conv_layers=CategoricalParameter([1, 2, 3])\n",
    "#     weighted_loss=CategoricalParameter(['deviation', 'bce']),\n",
    "#     main_loss=CategoricalParameter(['svdd', 'semi-svdd'])\n",
    ")"
   ]
  },
  {
   "cell_type": "code",
   "execution_count": 17,
   "id": "4cd14156",
   "metadata": {},
   "outputs": [
    {
     "name": "stderr",
     "output_type": "stream",
     "text": [
      "No finished training job found associated with this estimator. Please make sure this estimator is only used for building workflow config\n",
      "No finished training job found associated with this estimator. Please make sure this estimator is only used for building workflow config\n"
     ]
    },
    {
     "name": "stdout",
     "output_type": "stream",
     "text": [
      "................................................................................................................................................................................................................................................................................................................................................................................................................................................................................"
     ]
    },
    {
     "ename": "KeyboardInterrupt",
     "evalue": "",
     "output_type": "error",
     "traceback": [
      "\u001b[0;31m---------------------------------------------------------------------------\u001b[0m",
      "\u001b[0;31mKeyboardInterrupt\u001b[0m                         Traceback (most recent call last)",
      "\u001b[0;32m<ipython-input-17-755b7bdf17aa>\u001b[0m in \u001b[0;36m<module>\u001b[0;34m\u001b[0m\n\u001b[1;32m     13\u001b[0m \u001b[0;31m#         'train': 's3://prod-tpgt-knowledge-lake-sandpit-v1/application/anomaly_detection/deeptralog/HetGNN/ProcessedData_clean/'\u001b[0m\u001b[0;34m\u001b[0m\u001b[0;34m\u001b[0m\u001b[0;34m\u001b[0m\u001b[0m\n\u001b[1;32m     14\u001b[0m \u001b[0;31m#         'train': 's3://prod-tpgt-knowledge-lake-sandpit-v1/application/anomaly_detection/deeptralog/HetGNN/ProcessedData_HetGCN/'\u001b[0m\u001b[0;34m\u001b[0m\u001b[0;34m\u001b[0m\u001b[0;34m\u001b[0m\u001b[0m\n\u001b[0;32m---> 15\u001b[0;31m         \u001b[0;34m'train'\u001b[0m\u001b[0;34m:\u001b[0m \u001b[0;34m's3://prod-tpgt-knowledge-lake-sandpit-v1/application/anomaly_detection/deeptralog/HetGNN/ProcessedData_streamspot/'\u001b[0m\u001b[0;34m\u001b[0m\u001b[0;34m\u001b[0m\u001b[0m\n\u001b[0m\u001b[1;32m     16\u001b[0m     }\n\u001b[1;32m     17\u001b[0m )\n",
      "\u001b[0;32m~/anaconda3/envs/python3/lib/python3.6/site-packages/sagemaker/workflow/pipeline_context.py\u001b[0m in \u001b[0;36mwrapper\u001b[0;34m(*args, **kwargs)\u001b[0m\n\u001b[1;32m    270\u001b[0m             \u001b[0;32mreturn\u001b[0m \u001b[0m_StepArguments\u001b[0m\u001b[0;34m(\u001b[0m\u001b[0mretrieve_caller_name\u001b[0m\u001b[0;34m(\u001b[0m\u001b[0mself_instance\u001b[0m\u001b[0;34m)\u001b[0m\u001b[0;34m,\u001b[0m \u001b[0mrun_func\u001b[0m\u001b[0;34m,\u001b[0m \u001b[0;34m*\u001b[0m\u001b[0margs\u001b[0m\u001b[0;34m,\u001b[0m \u001b[0;34m**\u001b[0m\u001b[0mkwargs\u001b[0m\u001b[0;34m)\u001b[0m\u001b[0;34m\u001b[0m\u001b[0;34m\u001b[0m\u001b[0m\n\u001b[1;32m    271\u001b[0m \u001b[0;34m\u001b[0m\u001b[0m\n\u001b[0;32m--> 272\u001b[0;31m         \u001b[0;32mreturn\u001b[0m \u001b[0mrun_func\u001b[0m\u001b[0;34m(\u001b[0m\u001b[0;34m*\u001b[0m\u001b[0margs\u001b[0m\u001b[0;34m,\u001b[0m \u001b[0;34m**\u001b[0m\u001b[0mkwargs\u001b[0m\u001b[0;34m)\u001b[0m\u001b[0;34m\u001b[0m\u001b[0;34m\u001b[0m\u001b[0m\n\u001b[0m\u001b[1;32m    273\u001b[0m \u001b[0;34m\u001b[0m\u001b[0m\n\u001b[1;32m    274\u001b[0m     \u001b[0;32mreturn\u001b[0m \u001b[0mwrapper\u001b[0m\u001b[0;34m\u001b[0m\u001b[0;34m\u001b[0m\u001b[0m\n",
      "\u001b[0;32m~/anaconda3/envs/python3/lib/python3.6/site-packages/sagemaker/tuner.py\u001b[0m in \u001b[0;36mfit\u001b[0;34m(self, inputs, job_name, include_cls_metadata, estimator_kwargs, wait, **kwargs)\u001b[0m\n\u001b[1;32m    712\u001b[0m \u001b[0;34m\u001b[0m\u001b[0m\n\u001b[1;32m    713\u001b[0m         \u001b[0;32mif\u001b[0m \u001b[0mwait\u001b[0m\u001b[0;34m:\u001b[0m\u001b[0;34m\u001b[0m\u001b[0;34m\u001b[0m\u001b[0m\n\u001b[0;32m--> 714\u001b[0;31m             \u001b[0mself\u001b[0m\u001b[0;34m.\u001b[0m\u001b[0mlatest_tuning_job\u001b[0m\u001b[0;34m.\u001b[0m\u001b[0mwait\u001b[0m\u001b[0;34m(\u001b[0m\u001b[0;34m)\u001b[0m\u001b[0;34m\u001b[0m\u001b[0;34m\u001b[0m\u001b[0m\n\u001b[0m\u001b[1;32m    715\u001b[0m \u001b[0;34m\u001b[0m\u001b[0m\n\u001b[1;32m    716\u001b[0m     \u001b[0;32mdef\u001b[0m \u001b[0m_fit_with_estimator\u001b[0m\u001b[0;34m(\u001b[0m\u001b[0mself\u001b[0m\u001b[0;34m,\u001b[0m \u001b[0minputs\u001b[0m\u001b[0;34m,\u001b[0m \u001b[0mjob_name\u001b[0m\u001b[0;34m,\u001b[0m \u001b[0minclude_cls_metadata\u001b[0m\u001b[0;34m,\u001b[0m \u001b[0;34m**\u001b[0m\u001b[0mkwargs\u001b[0m\u001b[0;34m)\u001b[0m\u001b[0;34m:\u001b[0m\u001b[0;34m\u001b[0m\u001b[0;34m\u001b[0m\u001b[0m\n",
      "\u001b[0;32m~/anaconda3/envs/python3/lib/python3.6/site-packages/sagemaker/tuner.py\u001b[0m in \u001b[0;36mwait\u001b[0;34m(self)\u001b[0m\n\u001b[1;32m   1883\u001b[0m     \u001b[0;32mdef\u001b[0m \u001b[0mwait\u001b[0m\u001b[0;34m(\u001b[0m\u001b[0mself\u001b[0m\u001b[0;34m)\u001b[0m\u001b[0;34m:\u001b[0m\u001b[0;34m\u001b[0m\u001b[0;34m\u001b[0m\u001b[0m\n\u001b[1;32m   1884\u001b[0m         \u001b[0;34m\"\"\"Placeholder docstring.\"\"\"\u001b[0m\u001b[0;34m\u001b[0m\u001b[0;34m\u001b[0m\u001b[0m\n\u001b[0;32m-> 1885\u001b[0;31m         \u001b[0mself\u001b[0m\u001b[0;34m.\u001b[0m\u001b[0msagemaker_session\u001b[0m\u001b[0;34m.\u001b[0m\u001b[0mwait_for_tuning_job\u001b[0m\u001b[0;34m(\u001b[0m\u001b[0mself\u001b[0m\u001b[0;34m.\u001b[0m\u001b[0mname\u001b[0m\u001b[0;34m)\u001b[0m\u001b[0;34m\u001b[0m\u001b[0;34m\u001b[0m\u001b[0m\n\u001b[0m\u001b[1;32m   1886\u001b[0m \u001b[0;34m\u001b[0m\u001b[0m\n\u001b[1;32m   1887\u001b[0m \u001b[0;34m\u001b[0m\u001b[0m\n",
      "\u001b[0;32m~/anaconda3/envs/python3/lib/python3.6/site-packages/sagemaker/session.py\u001b[0m in \u001b[0;36mwait_for_tuning_job\u001b[0;34m(self, job, poll)\u001b[0m\n\u001b[1;32m   3339\u001b[0m             \u001b[0mexceptions\u001b[0m\u001b[0;34m.\u001b[0m\u001b[0mUnexpectedStatusException\u001b[0m\u001b[0;34m:\u001b[0m \u001b[0mIf\u001b[0m \u001b[0mthe\u001b[0m \u001b[0mhyperparameter\u001b[0m \u001b[0mtuning\u001b[0m \u001b[0mjob\u001b[0m \u001b[0mfails\u001b[0m\u001b[0;34m.\u001b[0m\u001b[0;34m\u001b[0m\u001b[0;34m\u001b[0m\u001b[0m\n\u001b[1;32m   3340\u001b[0m         \"\"\"\n\u001b[0;32m-> 3341\u001b[0;31m         \u001b[0mdesc\u001b[0m \u001b[0;34m=\u001b[0m \u001b[0m_wait_until\u001b[0m\u001b[0;34m(\u001b[0m\u001b[0;32mlambda\u001b[0m\u001b[0;34m:\u001b[0m \u001b[0m_tuning_job_status\u001b[0m\u001b[0;34m(\u001b[0m\u001b[0mself\u001b[0m\u001b[0;34m.\u001b[0m\u001b[0msagemaker_client\u001b[0m\u001b[0;34m,\u001b[0m \u001b[0mjob\u001b[0m\u001b[0;34m)\u001b[0m\u001b[0;34m,\u001b[0m \u001b[0mpoll\u001b[0m\u001b[0;34m)\u001b[0m\u001b[0;34m\u001b[0m\u001b[0;34m\u001b[0m\u001b[0m\n\u001b[0m\u001b[1;32m   3342\u001b[0m         \u001b[0mself\u001b[0m\u001b[0;34m.\u001b[0m\u001b[0m_check_job_status\u001b[0m\u001b[0;34m(\u001b[0m\u001b[0mjob\u001b[0m\u001b[0;34m,\u001b[0m \u001b[0mdesc\u001b[0m\u001b[0;34m,\u001b[0m \u001b[0;34m\"HyperParameterTuningJobStatus\"\u001b[0m\u001b[0;34m)\u001b[0m\u001b[0;34m\u001b[0m\u001b[0;34m\u001b[0m\u001b[0m\n\u001b[1;32m   3343\u001b[0m         \u001b[0;32mreturn\u001b[0m \u001b[0mdesc\u001b[0m\u001b[0;34m\u001b[0m\u001b[0;34m\u001b[0m\u001b[0m\n",
      "\u001b[0;32m~/anaconda3/envs/python3/lib/python3.6/site-packages/sagemaker/session.py\u001b[0m in \u001b[0;36m_wait_until\u001b[0;34m(callable_fn, poll)\u001b[0m\n\u001b[1;32m   5000\u001b[0m     \u001b[0mresult\u001b[0m \u001b[0;34m=\u001b[0m \u001b[0mcallable_fn\u001b[0m\u001b[0;34m(\u001b[0m\u001b[0;34m)\u001b[0m\u001b[0;34m\u001b[0m\u001b[0;34m\u001b[0m\u001b[0m\n\u001b[1;32m   5001\u001b[0m     \u001b[0;32mwhile\u001b[0m \u001b[0mresult\u001b[0m \u001b[0;32mis\u001b[0m \u001b[0;32mNone\u001b[0m\u001b[0;34m:\u001b[0m\u001b[0;34m\u001b[0m\u001b[0;34m\u001b[0m\u001b[0m\n\u001b[0;32m-> 5002\u001b[0;31m         \u001b[0mtime\u001b[0m\u001b[0;34m.\u001b[0m\u001b[0msleep\u001b[0m\u001b[0;34m(\u001b[0m\u001b[0mpoll\u001b[0m\u001b[0;34m)\u001b[0m\u001b[0;34m\u001b[0m\u001b[0;34m\u001b[0m\u001b[0m\n\u001b[0m\u001b[1;32m   5003\u001b[0m         \u001b[0mresult\u001b[0m \u001b[0;34m=\u001b[0m \u001b[0mcallable_fn\u001b[0m\u001b[0;34m(\u001b[0m\u001b[0;34m)\u001b[0m\u001b[0;34m\u001b[0m\u001b[0;34m\u001b[0m\u001b[0m\n\u001b[1;32m   5004\u001b[0m     \u001b[0;32mreturn\u001b[0m \u001b[0mresult\u001b[0m\u001b[0;34m\u001b[0m\u001b[0;34m\u001b[0m\u001b[0m\n",
      "\u001b[0;31mKeyboardInterrupt\u001b[0m: "
     ]
    }
   ],
   "source": [
    "my_tuner = HyperparameterTuner(estimator=estimator,\n",
    "                              objective_metric_name='AUC',\n",
    "                              hyperparameter_ranges=hyperparameter_ranges,\n",
    "                              metric_definitions=metric_definitions,\n",
    "                              max_jobs=50,\n",
    "                              max_parallel_jobs=5,\n",
    "#                               early_stopping_type='Auto'\n",
    "                              )\n",
    "\n",
    "my_tuner.fit(\n",
    "    {\n",
    "#         'train': 's3://prod-tpgt-knowledge-lake-sandpit-v1/application/anomaly_detection/deeptralog/HetGNN/ProcessedData_synth/'\n",
    "#         'train': 's3://prod-tpgt-knowledge-lake-sandpit-v1/application/anomaly_detection/deeptralog/HetGNN/ProcessedData_clean/'\n",
    "#         'train': 's3://prod-tpgt-knowledge-lake-sandpit-v1/application/anomaly_detection/deeptralog/HetGNN/ProcessedData_HetGCN/'\n",
    "        'train': 's3://prod-tpgt-knowledge-lake-sandpit-v1/application/anomaly_detection/deeptralog/HetGNN/ProcessedData_streamspot/'\n",
    "    }\n",
    ")"
   ]
  },
  {
   "cell_type": "code",
   "execution_count": null,
   "id": "32d42750",
   "metadata": {},
   "outputs": [],
   "source": []
  }
 ],
 "metadata": {
  "kernelspec": {
   "display_name": "conda_python3",
   "language": "python",
   "name": "conda_python3"
  },
  "language_info": {
   "codemirror_mode": {
    "name": "ipython",
    "version": 3
   },
   "file_extension": ".py",
   "mimetype": "text/x-python",
   "name": "python",
   "nbconvert_exporter": "python",
   "pygments_lexer": "ipython3",
   "version": "3.6.13"
  }
 },
 "nbformat": 4,
 "nbformat_minor": 5
}
